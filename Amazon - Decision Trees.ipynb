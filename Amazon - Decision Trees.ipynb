{
 "cells": [
  {
   "cell_type": "markdown",
   "metadata": {},
   "source": [
    "# Decison Tree Classification model on Amazon Fine foods reviews dataset."
   ]
  },
  {
   "cell_type": "markdown",
   "metadata": {},
   "source": [
    "\n",
    " * Our objective here is to build a <b> 'Decision Trees' classifier to estimate the polarity of a review as Positive/Negative</b> based on the words used in the review.\n",
    "\n",
    " * We are given a 500K datset of reviews from Amazon customers regarding the various food products.\n",
    "\n",
    " * We will be using 5 types of Vectorizations to convert text reviews into vectors and we will conclude towards the best Vectorizer based on several performance metrics."
   ]
  },
  {
   "cell_type": "raw",
   "metadata": {},
   "source": [
    "********************************************************************************************************************************"
   ]
  },
  {
   "cell_type": "code",
   "execution_count": 1,
   "metadata": {},
   "outputs": [],
   "source": [
    "import pandas as pd\n",
    "import numpy as np\n",
    "import sqlite3\n",
    "import graphviz\n",
    "import wordcloud\n",
    "from sklearn.preprocessing import StandardScaler\n",
    "from sklearn.feature_extraction.text import CountVectorizer\n",
    "from sklearn.feature_extraction.text import TfidfVectorizer\n",
    "from sklearn.tree import DecisionTreeClassifier\n",
    "from sklearn import tree\n",
    "from wordcloud import WordCloud\n",
    "#from tqdm import tqdm"
   ]
  },
  {
   "cell_type": "code",
   "execution_count": 2,
   "metadata": {},
   "outputs": [],
   "source": [
    "import seaborn as sns\n",
    "import matplotlib.pyplot as plt"
   ]
  },
  {
   "cell_type": "code",
   "execution_count": 3,
   "metadata": {},
   "outputs": [],
   "source": [
    "import warnings\n",
    "warnings.filterwarnings('ignore')"
   ]
  },
  {
   "cell_type": "raw",
   "metadata": {},
   "source": [
    "import os\n",
    "os.environ[\"PATH\"] += os.pathsep + 'C:\\Program Files (x86)\\Graphviz2.38\\bin'"
   ]
  },
  {
   "cell_type": "code",
   "execution_count": 4,
   "metadata": {},
   "outputs": [],
   "source": [
    "from sklearn.model_selection import cross_val_score\n",
    "from sklearn.metrics import accuracy_score\n",
    "from sklearn.metrics import confusion_matrix"
   ]
  },
  {
   "cell_type": "code",
   "execution_count": 5,
   "metadata": {},
   "outputs": [],
   "source": [
    "con=sqlite3.connect('G:\\ML\\Data_Sets\\Amazon\\Cleaned_AmazonDB.sqlite')"
   ]
  },
  {
   "cell_type": "code",
   "execution_count": 6,
   "metadata": {
    "scrolled": true
   },
   "outputs": [
    {
     "data": {
      "text/html": [
       "<div>\n",
       "<style scoped>\n",
       "    .dataframe tbody tr th:only-of-type {\n",
       "        vertical-align: middle;\n",
       "    }\n",
       "\n",
       "    .dataframe tbody tr th {\n",
       "        vertical-align: top;\n",
       "    }\n",
       "\n",
       "    .dataframe thead th {\n",
       "        text-align: right;\n",
       "    }\n",
       "</style>\n",
       "<table border=\"1\" class=\"dataframe\">\n",
       "  <thead>\n",
       "    <tr style=\"text-align: right;\">\n",
       "      <th></th>\n",
       "      <th>level_0</th>\n",
       "      <th>index</th>\n",
       "      <th>Id</th>\n",
       "      <th>ProductId</th>\n",
       "      <th>UserId</th>\n",
       "      <th>ProfileName</th>\n",
       "      <th>HelpfulnessNumerator</th>\n",
       "      <th>HelpfulnessDenominator</th>\n",
       "      <th>Score</th>\n",
       "      <th>Time</th>\n",
       "      <th>Summary</th>\n",
       "      <th>Text</th>\n",
       "      <th>New</th>\n",
       "    </tr>\n",
       "  </thead>\n",
       "  <tbody>\n",
       "    <tr>\n",
       "      <th>0</th>\n",
       "      <td>0</td>\n",
       "      <td>138706</td>\n",
       "      <td>150524</td>\n",
       "      <td>0006641040</td>\n",
       "      <td>ACITT7DI6IDDL</td>\n",
       "      <td>shari zychinski</td>\n",
       "      <td>0</td>\n",
       "      <td>0</td>\n",
       "      <td>positive</td>\n",
       "      <td>939340800</td>\n",
       "      <td>EVERY book is educational</td>\n",
       "      <td>this witty little book makes my son laugh at l...</td>\n",
       "      <td>witti littl book make son laugh loud recit car...</td>\n",
       "    </tr>\n",
       "    <tr>\n",
       "      <th>1</th>\n",
       "      <td>1</td>\n",
       "      <td>138688</td>\n",
       "      <td>150506</td>\n",
       "      <td>0006641040</td>\n",
       "      <td>A2IW4PEEKO2R0U</td>\n",
       "      <td>Tracy</td>\n",
       "      <td>1</td>\n",
       "      <td>1</td>\n",
       "      <td>positive</td>\n",
       "      <td>1194739200</td>\n",
       "      <td>Love the book, miss the hard cover version</td>\n",
       "      <td>I grew up reading these Sendak books, and watc...</td>\n",
       "      <td>grew read sendak watch realli rosi movi incorp...</td>\n",
       "    </tr>\n",
       "    <tr>\n",
       "      <th>2</th>\n",
       "      <td>2</td>\n",
       "      <td>138689</td>\n",
       "      <td>150507</td>\n",
       "      <td>0006641040</td>\n",
       "      <td>A1S4A3IQ2MU7V4</td>\n",
       "      <td>sally sue \"sally sue\"</td>\n",
       "      <td>1</td>\n",
       "      <td>1</td>\n",
       "      <td>positive</td>\n",
       "      <td>1191456000</td>\n",
       "      <td>chicken soup with rice months</td>\n",
       "      <td>This is a fun way for children to learn their ...</td>\n",
       "      <td>fun way children learn month year learn poem t...</td>\n",
       "    </tr>\n",
       "    <tr>\n",
       "      <th>3</th>\n",
       "      <td>3</td>\n",
       "      <td>138690</td>\n",
       "      <td>150508</td>\n",
       "      <td>0006641040</td>\n",
       "      <td>AZGXZ2UUK6X</td>\n",
       "      <td>Catherine Hallberg \"(Kate)\"</td>\n",
       "      <td>1</td>\n",
       "      <td>1</td>\n",
       "      <td>positive</td>\n",
       "      <td>1076025600</td>\n",
       "      <td>a good swingy rhythm for reading aloud</td>\n",
       "      <td>This is a great little book to read aloud- it ...</td>\n",
       "      <td>great littl book read nice rhythm well good re...</td>\n",
       "    </tr>\n",
       "    <tr>\n",
       "      <th>4</th>\n",
       "      <td>4</td>\n",
       "      <td>138691</td>\n",
       "      <td>150509</td>\n",
       "      <td>0006641040</td>\n",
       "      <td>A3CMRKGE0P909G</td>\n",
       "      <td>Teresa</td>\n",
       "      <td>3</td>\n",
       "      <td>4</td>\n",
       "      <td>positive</td>\n",
       "      <td>1018396800</td>\n",
       "      <td>A great way to learn the months</td>\n",
       "      <td>This is a book of poetry about the months of t...</td>\n",
       "      <td>book poetri month year goe month cute littl po...</td>\n",
       "    </tr>\n",
       "  </tbody>\n",
       "</table>\n",
       "</div>"
      ],
      "text/plain": [
       "   level_0   index      Id   ProductId          UserId  \\\n",
       "0        0  138706  150524  0006641040   ACITT7DI6IDDL   \n",
       "1        1  138688  150506  0006641040  A2IW4PEEKO2R0U   \n",
       "2        2  138689  150507  0006641040  A1S4A3IQ2MU7V4   \n",
       "3        3  138690  150508  0006641040     AZGXZ2UUK6X   \n",
       "4        4  138691  150509  0006641040  A3CMRKGE0P909G   \n",
       "\n",
       "                   ProfileName  HelpfulnessNumerator  HelpfulnessDenominator  \\\n",
       "0              shari zychinski                     0                       0   \n",
       "1                        Tracy                     1                       1   \n",
       "2        sally sue \"sally sue\"                     1                       1   \n",
       "3  Catherine Hallberg \"(Kate)\"                     1                       1   \n",
       "4                       Teresa                     3                       4   \n",
       "\n",
       "      Score        Time                                     Summary  \\\n",
       "0  positive   939340800                   EVERY book is educational   \n",
       "1  positive  1194739200  Love the book, miss the hard cover version   \n",
       "2  positive  1191456000               chicken soup with rice months   \n",
       "3  positive  1076025600      a good swingy rhythm for reading aloud   \n",
       "4  positive  1018396800             A great way to learn the months   \n",
       "\n",
       "                                                Text  \\\n",
       "0  this witty little book makes my son laugh at l...   \n",
       "1  I grew up reading these Sendak books, and watc...   \n",
       "2  This is a fun way for children to learn their ...   \n",
       "3  This is a great little book to read aloud- it ...   \n",
       "4  This is a book of poetry about the months of t...   \n",
       "\n",
       "                                                 New  \n",
       "0  witti littl book make son laugh loud recit car...  \n",
       "1  grew read sendak watch realli rosi movi incorp...  \n",
       "2  fun way children learn month year learn poem t...  \n",
       "3  great littl book read nice rhythm well good re...  \n",
       "4  book poetri month year goe month cute littl po...  "
      ]
     },
     "execution_count": 6,
     "metadata": {},
     "output_type": "execute_result"
    }
   ],
   "source": [
    "data=pd.read_sql_query('''Select * from Reviews''',con)\n",
    "data.head()"
   ]
  },
  {
   "cell_type": "code",
   "execution_count": 10,
   "metadata": {},
   "outputs": [
    {
     "data": {
      "text/plain": [
       "(364171, 13)"
      ]
     },
     "execution_count": 10,
     "metadata": {},
     "output_type": "execute_result"
    }
   ],
   "source": [
    "data.shape"
   ]
  },
  {
   "cell_type": "code",
   "execution_count": 114,
   "metadata": {},
   "outputs": [
    {
     "data": {
      "text/plain": [
       "positive    307061\n",
       "negative     57110\n",
       "Name: Score, dtype: int64"
      ]
     },
     "execution_count": 114,
     "metadata": {},
     "output_type": "execute_result"
    }
   ],
   "source": [
    "data['Score'].value_counts()"
   ]
  },
  {
   "cell_type": "markdown",
   "metadata": {},
   "source": [
    "Since the data here is imbalanced we will use the <b>class_weight</b> parameter in our DT model as <b>'Balanced'</b>."
   ]
  },
  {
   "cell_type": "raw",
   "metadata": {},
   "source": [
    "********************************************************************************************************************************"
   ]
  },
  {
   "cell_type": "markdown",
   "metadata": {},
   "source": [
    "## Time based sorting of data:"
   ]
  },
  {
   "cell_type": "code",
   "execution_count": 7,
   "metadata": {},
   "outputs": [],
   "source": [
    "sorted_data=data.sort_values('Time',axis=0,ascending=True)"
   ]
  },
  {
   "cell_type": "code",
   "execution_count": 11,
   "metadata": {
    "scrolled": true
   },
   "outputs": [
    {
     "data": {
      "text/html": [
       "<div>\n",
       "<style scoped>\n",
       "    .dataframe tbody tr th:only-of-type {\n",
       "        vertical-align: middle;\n",
       "    }\n",
       "\n",
       "    .dataframe tbody tr th {\n",
       "        vertical-align: top;\n",
       "    }\n",
       "\n",
       "    .dataframe thead th {\n",
       "        text-align: right;\n",
       "    }\n",
       "</style>\n",
       "<table border=\"1\" class=\"dataframe\">\n",
       "  <thead>\n",
       "    <tr style=\"text-align: right;\">\n",
       "      <th></th>\n",
       "      <th>level_0</th>\n",
       "      <th>index</th>\n",
       "      <th>Id</th>\n",
       "      <th>ProductId</th>\n",
       "      <th>UserId</th>\n",
       "      <th>ProfileName</th>\n",
       "      <th>HelpfulnessNumerator</th>\n",
       "      <th>HelpfulnessDenominator</th>\n",
       "      <th>Score</th>\n",
       "      <th>Time</th>\n",
       "      <th>Summary</th>\n",
       "      <th>Text</th>\n",
       "      <th>New</th>\n",
       "    </tr>\n",
       "  </thead>\n",
       "  <tbody>\n",
       "    <tr>\n",
       "      <th>0</th>\n",
       "      <td>0</td>\n",
       "      <td>138706</td>\n",
       "      <td>150524</td>\n",
       "      <td>0006641040</td>\n",
       "      <td>ACITT7DI6IDDL</td>\n",
       "      <td>shari zychinski</td>\n",
       "      <td>0</td>\n",
       "      <td>0</td>\n",
       "      <td>positive</td>\n",
       "      <td>939340800</td>\n",
       "      <td>EVERY book is educational</td>\n",
       "      <td>this witty little book makes my son laugh at l...</td>\n",
       "      <td>witti littl book make son laugh loud recit car...</td>\n",
       "    </tr>\n",
       "    <tr>\n",
       "      <th>30</th>\n",
       "      <td>30</td>\n",
       "      <td>138683</td>\n",
       "      <td>150501</td>\n",
       "      <td>0006641040</td>\n",
       "      <td>AJ46FKXOVC7NR</td>\n",
       "      <td>Nicholas A Mesiano</td>\n",
       "      <td>2</td>\n",
       "      <td>2</td>\n",
       "      <td>positive</td>\n",
       "      <td>940809600</td>\n",
       "      <td>This whole series is great way to spend time w...</td>\n",
       "      <td>I can remember seeing the show when it aired o...</td>\n",
       "      <td>rememb see show air televis year child sister ...</td>\n",
       "    </tr>\n",
       "    <tr>\n",
       "      <th>424</th>\n",
       "      <td>424</td>\n",
       "      <td>417839</td>\n",
       "      <td>451856</td>\n",
       "      <td>B00004CXX9</td>\n",
       "      <td>AIUWLEQ1ADEG5</td>\n",
       "      <td>Elizabeth Medina</td>\n",
       "      <td>0</td>\n",
       "      <td>0</td>\n",
       "      <td>positive</td>\n",
       "      <td>944092800</td>\n",
       "      <td>Entertainingl Funny!</td>\n",
       "      <td>Beetlejuice is a well written movie ..... ever...</td>\n",
       "      <td>beetlejuic well written movi everyth excel act...</td>\n",
       "    </tr>\n",
       "    <tr>\n",
       "      <th>330</th>\n",
       "      <td>330</td>\n",
       "      <td>346055</td>\n",
       "      <td>374359</td>\n",
       "      <td>B00004CI84</td>\n",
       "      <td>A344SMIA5JECGM</td>\n",
       "      <td>Vincent P. Ross</td>\n",
       "      <td>1</td>\n",
       "      <td>2</td>\n",
       "      <td>positive</td>\n",
       "      <td>944438400</td>\n",
       "      <td>A modern day fairy tale</td>\n",
       "      <td>A twist of rumplestiskin captured on film, sta...</td>\n",
       "      <td>twist rumplestiskin captur star michael keaton...</td>\n",
       "    </tr>\n",
       "    <tr>\n",
       "      <th>423</th>\n",
       "      <td>423</td>\n",
       "      <td>417838</td>\n",
       "      <td>451855</td>\n",
       "      <td>B00004CXX9</td>\n",
       "      <td>AJH6LUC1UT1ON</td>\n",
       "      <td>The Phantom of the Opera</td>\n",
       "      <td>0</td>\n",
       "      <td>0</td>\n",
       "      <td>positive</td>\n",
       "      <td>946857600</td>\n",
       "      <td>FANTASTIC!</td>\n",
       "      <td>Beetlejuice is an excellent and funny movie. K...</td>\n",
       "      <td>beetlejuic excel funni movi keaton hilari wack...</td>\n",
       "    </tr>\n",
       "  </tbody>\n",
       "</table>\n",
       "</div>"
      ],
      "text/plain": [
       "     level_0   index      Id   ProductId          UserId  \\\n",
       "0          0  138706  150524  0006641040   ACITT7DI6IDDL   \n",
       "30        30  138683  150501  0006641040   AJ46FKXOVC7NR   \n",
       "424      424  417839  451856  B00004CXX9   AIUWLEQ1ADEG5   \n",
       "330      330  346055  374359  B00004CI84  A344SMIA5JECGM   \n",
       "423      423  417838  451855  B00004CXX9   AJH6LUC1UT1ON   \n",
       "\n",
       "                  ProfileName  HelpfulnessNumerator  HelpfulnessDenominator  \\\n",
       "0             shari zychinski                     0                       0   \n",
       "30         Nicholas A Mesiano                     2                       2   \n",
       "424          Elizabeth Medina                     0                       0   \n",
       "330           Vincent P. Ross                     1                       2   \n",
       "423  The Phantom of the Opera                     0                       0   \n",
       "\n",
       "        Score       Time                                            Summary  \\\n",
       "0    positive  939340800                          EVERY book is educational   \n",
       "30   positive  940809600  This whole series is great way to spend time w...   \n",
       "424  positive  944092800                               Entertainingl Funny!   \n",
       "330  positive  944438400                            A modern day fairy tale   \n",
       "423  positive  946857600                                         FANTASTIC!   \n",
       "\n",
       "                                                  Text  \\\n",
       "0    this witty little book makes my son laugh at l...   \n",
       "30   I can remember seeing the show when it aired o...   \n",
       "424  Beetlejuice is a well written movie ..... ever...   \n",
       "330  A twist of rumplestiskin captured on film, sta...   \n",
       "423  Beetlejuice is an excellent and funny movie. K...   \n",
       "\n",
       "                                                   New  \n",
       "0    witti littl book make son laugh loud recit car...  \n",
       "30   rememb see show air televis year child sister ...  \n",
       "424  beetlejuic well written movi everyth excel act...  \n",
       "330  twist rumplestiskin captur star michael keaton...  \n",
       "423  beetlejuic excel funni movi keaton hilari wack...  "
      ]
     },
     "execution_count": 11,
     "metadata": {},
     "output_type": "execute_result"
    }
   ],
   "source": [
    "sorted_data.head()"
   ]
  },
  {
   "cell_type": "markdown",
   "metadata": {},
   "source": [
    "## Splitting of Test and Train data"
   ]
  },
  {
   "cell_type": "code",
   "execution_count": 8,
   "metadata": {},
   "outputs": [
    {
     "name": "stdout",
     "output_type": "stream",
     "text": [
      "254920\n",
      "109251\n",
      "True\n"
     ]
    }
   ],
   "source": [
    "train_length=round(0.7*len(data))\n",
    "print(train_length)\n",
    "test_length=round(0.3*len(data))\n",
    "print(test_length)\n",
    "print((train_length+test_length)==len(data))"
   ]
  },
  {
   "cell_type": "code",
   "execution_count": 9,
   "metadata": {},
   "outputs": [],
   "source": [
    "train=sorted_data.head(train_length)\n",
    "test=sorted_data.tail(test_length)"
   ]
  },
  {
   "cell_type": "raw",
   "metadata": {},
   "source": [
    "********************************************************************************************************************************"
   ]
  },
  {
   "cell_type": "markdown",
   "metadata": {},
   "source": [
    "## Grid Search CV"
   ]
  },
  {
   "cell_type": "code",
   "execution_count": 26,
   "metadata": {},
   "outputs": [],
   "source": [
    "from sklearn.model_selection import GridSearchCV\n",
    "from sklearn.model_selection import TimeSeriesSplit"
   ]
  },
  {
   "cell_type": "code",
   "execution_count": 11,
   "metadata": {},
   "outputs": [],
   "source": [
    "def grid_s(x,list_depth=range(1,50,2)):\n",
    "    '''\n",
    "    Program to return optimal depth of the Decision tree.\n",
    "    '''\n",
    "    ts=TimeSeriesSplit(n_splits=10)\n",
    "    par=[{'max_depth':list_depth}]\n",
    "    dt=DecisionTreeClassifier(random_state=3,class_weight='balanced')\n",
    "    grid=GridSearchCV(dt,par,cv=ts.split(x),scoring='accuracy',verbose=2)\n",
    "    return grid"
   ]
  },
  {
   "cell_type": "markdown",
   "metadata": {},
   "source": [
    "## Randomized Search CV"
   ]
  },
  {
   "cell_type": "code",
   "execution_count": 22,
   "metadata": {},
   "outputs": [],
   "source": [
    "from sklearn.model_selection import RandomizedSearchCV\n",
    "from scipy.stats import uniform"
   ]
  },
  {
   "cell_type": "code",
   "execution_count": 40,
   "metadata": {},
   "outputs": [],
   "source": [
    "def random_s(x):\n",
    "    '''\n",
    "    To tune Hyper paramater using Randomized Search CV\n",
    "    '''\n",
    "    ts=TimeSeriesSplit(n_splits=10)\n",
    "    par={'max_depth': uniform.rvs(loc=0,scale=10**3,size=5)}    \n",
    "    dt=DecisionTreeClassifier(random_state=3,class_weight='balanced')\n",
    "    rand=RandomizedSearchCV(dt,par,cv=ts.split(x),scoring='accuracy',verbose=1,n_iter=5)\n",
    "    return rand"
   ]
  },
  {
   "cell_type": "markdown",
   "metadata": {},
   "source": [
    "## CV Plotter:"
   ]
  },
  {
   "cell_type": "code",
   "execution_count": 15,
   "metadata": {},
   "outputs": [],
   "source": [
    "def plotter(x):\n",
    "    '''\n",
    "    To plot CV error with different values of depth.\n",
    "    '''\n",
    "    tmp=pd.DataFrame(x.cv_results_)\n",
    "    plt.figure(figsize=(12,7))\n",
    "    plt.plot(tmp['param_max_depth'],1-tmp['mean_test_score'])\n",
    "    plt.xlabel('Depth --> ')\n",
    "    plt.ylabel('CV Error-->')\n",
    "    plt.title('Variation in CV error of the tree With respect to Depth')\n",
    "    plt.grid()\n",
    "    plt.show()\n",
    "    "
   ]
  },
  {
   "cell_type": "markdown",
   "metadata": {},
   "source": [
    "## Feature importance:"
   ]
  },
  {
   "cell_type": "code",
   "execution_count": 16,
   "metadata": {},
   "outputs": [],
   "source": [
    "def feat_importance(dt,vectorizer):\n",
    "    '''\n",
    "    To return top 20 features from a model\n",
    "    '''\n",
    "    imp=dt.feature_importances_\n",
    "    top=imp.argsort()[::-1]\n",
    "    print('Top 20 important features are : \\n')\n",
    "    top_20=''\n",
    "    for i in range(20):\n",
    "        #print( np.take(vectorizer.get_feature_names(),top[i]))\n",
    "        tmp=np.take(vectorizer.get_feature_names(),top[i])\n",
    "        top_20=top_20+tmp+' '\n",
    "    #print(top_20)    \n",
    "    wc=WordCloud(width=800,height=700,background_color='white').generate(top_20)\n",
    "    plt.figure(figsize=(6,6))\n",
    "    plt.imshow(wc)\n",
    "    plt.axis('off')"
   ]
  },
  {
   "cell_type": "markdown",
   "metadata": {},
   "source": [
    "## Visualizing Decision tree using Graphviz:"
   ]
  },
  {
   "cell_type": "code",
   "execution_count": 10,
   "metadata": {},
   "outputs": [],
   "source": [
    "def tree_viz(x_train,y_train,vect):\n",
    "    '''\n",
    "    To visualize the tree using graphviz for a depth of 5\n",
    "    '''\n",
    "    d_tree=DecisionTreeClassifier(class_weight='balanced', criterion='gini',\n",
    "            max_depth=5, max_features=None, max_leaf_nodes=None,\n",
    "            min_impurity_decrease=0.0, min_impurity_split=None,\n",
    "            min_samples_leaf=1, min_samples_split=2,\n",
    "            min_weight_fraction_leaf=0.0, presort=False, random_state=3,\n",
    "            splitter='best')\n",
    "    d_tree.fit(x_train,y_train)\n",
    "    DT=tree.export_graphviz(d_tree,out_file=None,feature_names=vect.get_feature_names(),class_names=['positive','negative'],filled=True)\n",
    "    x=graphviz.Source(DT)\n",
    "    return x"
   ]
  },
  {
   "cell_type": "markdown",
   "metadata": {},
   "source": [
    "## Confusion Matrix & Performance Analyser:"
   ]
  },
  {
   "cell_type": "code",
   "execution_count": 11,
   "metadata": {},
   "outputs": [],
   "source": [
    "def CM(x,y):\n",
    "    '''\n",
    "    Function to plot confusion matrix\n",
    "    '''\n",
    "    CM_Matrix=confusion_matrix(x,y)\n",
    "    tn,fn,fp,tp=CM_Matrix.ravel()\n",
    "    print('\\n******************************************************************************* \\n')\n",
    "    print(f' Accuracy is {accuracy_score(x,y)}')\n",
    "    print('\\n******************************************************************************* \\n')\n",
    "    \n",
    "    print(f\" TNR value is {tn/(tn+fn)}\")\n",
    "    print(f\" FNR value is {fn/(tn+fn)}\")\n",
    "    print(f\" FPR value is {fp/(tp+fp)}\")\n",
    "    print(f\" TPR value is {tp/(tp+fp)}\")\n",
    "    \n",
    "    print('\\n******************************************************************************* \\n')\n",
    "    print(' Confusion Matrix is :')\n",
    "    print(CM_Matrix)\n",
    "    \n",
    "    print('\\n******************************************************************************* \\n')\n",
    "    precision= tp/(tp+fp)\n",
    "    print(f' Precision is {precision}')\n",
    "    recall=tp/(tp+fn)\n",
    "    print(f' Recall value is {recall}')\n",
    "    f1=2*((precision*recall)/(precision+recall))\n",
    "    print(f' F1 Score is {f1}')\n",
    "    \n",
    "    print('\\n******************************************************************************* \\n')\n",
    "    print('Heat Map of the Confusion matrix is')\n",
    "    tmp=pd.DataFrame(CM_Matrix)\n",
    "    ann=np.array([['True Negative = '+str(tn),'False negative = '+str(fn)],['False Positive = '+str(fp),'True Positive = '+str(tp)]])\n",
    "    sns.heatmap(tmp,annot=ann,fmt='')\n",
    "    plt.title('Confusion Matrix : ')\n",
    "    \n",
    "    print('\\n******************************************************************************* \\n')\n",
    "    \n",
    "    "
   ]
  },
  {
   "cell_type": "raw",
   "metadata": {},
   "source": [
    "********************************************************************************************************************************"
   ]
  },
  {
   "cell_type": "markdown",
   "metadata": {},
   "source": [
    "# 1.) Bag Of Words Vectorization:"
   ]
  },
  {
   "cell_type": "code",
   "execution_count": 14,
   "metadata": {},
   "outputs": [
    {
     "data": {
      "text/plain": [
       "CountVectorizer(analyzer='word', binary=False, decode_error='strict',\n",
       "        dtype='float', encoding='utf-8', input='content', lowercase=True,\n",
       "        max_df=1.0, max_features=None, min_df=1, ngram_range=(1, 1),\n",
       "        preprocessor=None, stop_words=None, strip_accents=None,\n",
       "        token_pattern='(?u)\\\\b\\\\w\\\\w+\\\\b', tokenizer=None, vocabulary=None)"
      ]
     },
     "execution_count": 14,
     "metadata": {},
     "output_type": "execute_result"
    }
   ],
   "source": [
    "BOW=CountVectorizer(dtype='float')\n",
    "BOW.fit(train['New'])"
   ]
  },
  {
   "cell_type": "code",
   "execution_count": 15,
   "metadata": {},
   "outputs": [],
   "source": [
    "BOW_train= BOW.transform(train['New'])\n",
    "BOW_test=BOW.transform(test['New'])"
   ]
  },
  {
   "cell_type": "code",
   "execution_count": 19,
   "metadata": {},
   "outputs": [
    {
     "data": {
      "text/plain": [
       "(254920, 55207)"
      ]
     },
     "execution_count": 19,
     "metadata": {},
     "output_type": "execute_result"
    }
   ],
   "source": [
    "BOW_train.shape"
   ]
  },
  {
   "cell_type": "code",
   "execution_count": 16,
   "metadata": {},
   "outputs": [],
   "source": [
    "scaler=StandardScaler(with_mean=False)\n",
    "std_BOW_train=scaler.fit_transform(BOW_train)\n",
    "std_BOW_test=scaler.transform(BOW_test)"
   ]
  },
  {
   "cell_type": "markdown",
   "metadata": {},
   "source": [
    "### Cross Validation :"
   ]
  },
  {
   "cell_type": "raw",
   "metadata": {},
   "source": [
    "CV-1:"
   ]
  },
  {
   "cell_type": "code",
   "execution_count": 42,
   "metadata": {},
   "outputs": [],
   "source": [
    "BOW_grid=grid_s(std_BOW_train[0:100000])"
   ]
  },
  {
   "cell_type": "code",
   "execution_count": 43,
   "metadata": {
    "scrolled": true
   },
   "outputs": [
    {
     "name": "stdout",
     "output_type": "stream",
     "text": [
      "Fitting 10 folds for each of 25 candidates, totalling 250 fits\n",
      "[CV] max_depth=1 .....................................................\n",
      "[CV] ...................................... max_depth=1, total=   0.3s\n",
      "[CV] max_depth=1 .....................................................\n"
     ]
    },
    {
     "name": "stderr",
     "output_type": "stream",
     "text": [
      "[Parallel(n_jobs=1)]: Done   1 out of   1 | elapsed:    0.3s remaining:    0.0s\n"
     ]
    },
    {
     "name": "stdout",
     "output_type": "stream",
     "text": [
      "[CV] ...................................... max_depth=1, total=   0.6s\n",
      "[CV] max_depth=1 .....................................................\n",
      "[CV] ...................................... max_depth=1, total=   0.9s\n",
      "[CV] max_depth=1 .....................................................\n",
      "[CV] ...................................... max_depth=1, total=   1.6s\n",
      "[CV] max_depth=1 .....................................................\n",
      "[CV] ...................................... max_depth=1, total=   1.9s\n",
      "[CV] max_depth=1 .....................................................\n",
      "[CV] ...................................... max_depth=1, total=   2.8s\n",
      "[CV] max_depth=1 .....................................................\n",
      "[CV] ...................................... max_depth=1, total=   3.5s\n",
      "[CV] max_depth=1 .....................................................\n",
      "[CV] ...................................... max_depth=1, total=   4.1s\n",
      "[CV] max_depth=1 .....................................................\n",
      "[CV] ...................................... max_depth=1, total=   5.3s\n",
      "[CV] max_depth=1 .....................................................\n",
      "[CV] ...................................... max_depth=1, total=   6.0s\n",
      "[CV] max_depth=3 .....................................................\n",
      "[CV] ...................................... max_depth=3, total=   0.4s\n",
      "[CV] max_depth=3 .....................................................\n",
      "[CV] ...................................... max_depth=3, total=   0.8s\n",
      "[CV] max_depth=3 .....................................................\n",
      "[CV] ...................................... max_depth=3, total=   1.5s\n",
      "[CV] max_depth=3 .....................................................\n",
      "[CV] ...................................... max_depth=3, total=   1.8s\n",
      "[CV] max_depth=3 .....................................................\n",
      "[CV] ...................................... max_depth=3, total=   2.4s\n",
      "[CV] max_depth=3 .....................................................\n",
      "[CV] ...................................... max_depth=3, total=   3.6s\n",
      "[CV] max_depth=3 .....................................................\n",
      "[CV] ...................................... max_depth=3, total=   3.7s\n",
      "[CV] max_depth=3 .....................................................\n",
      "[CV] ...................................... max_depth=3, total=   5.0s\n",
      "[CV] max_depth=3 .....................................................\n",
      "[CV] ...................................... max_depth=3, total=   6.2s\n",
      "[CV] max_depth=3 .....................................................\n",
      "[CV] ...................................... max_depth=3, total=   6.7s\n",
      "[CV] max_depth=5 .....................................................\n",
      "[CV] ...................................... max_depth=5, total=   0.5s\n",
      "[CV] max_depth=5 .....................................................\n",
      "[CV] ...................................... max_depth=5, total=   1.0s\n",
      "[CV] max_depth=5 .....................................................\n",
      "[CV] ...................................... max_depth=5, total=   1.5s\n",
      "[CV] max_depth=5 .....................................................\n",
      "[CV] ...................................... max_depth=5, total=   2.3s\n",
      "[CV] max_depth=5 .....................................................\n",
      "[CV] ...................................... max_depth=5, total=   2.9s\n",
      "[CV] max_depth=5 .....................................................\n",
      "[CV] ...................................... max_depth=5, total=   4.2s\n",
      "[CV] max_depth=5 .....................................................\n",
      "[CV] ...................................... max_depth=5, total=   3.9s\n",
      "[CV] max_depth=5 .....................................................\n",
      "[CV] ...................................... max_depth=5, total=   4.3s\n",
      "[CV] max_depth=5 .....................................................\n",
      "[CV] ...................................... max_depth=5, total=   5.0s\n",
      "[CV] max_depth=5 .....................................................\n",
      "[CV] ...................................... max_depth=5, total=   6.0s\n",
      "[CV] max_depth=7 .....................................................\n",
      "[CV] ...................................... max_depth=7, total=   0.8s\n",
      "[CV] max_depth=7 .....................................................\n",
      "[CV] ...................................... max_depth=7, total=   1.6s\n",
      "[CV] max_depth=7 .....................................................\n",
      "[CV] ...................................... max_depth=7, total=   2.0s\n",
      "[CV] max_depth=7 .....................................................\n",
      "[CV] ...................................... max_depth=7, total=   3.2s\n",
      "[CV] max_depth=7 .....................................................\n",
      "[CV] ...................................... max_depth=7, total=   3.8s\n",
      "[CV] max_depth=7 .....................................................\n",
      "[CV] ...................................... max_depth=7, total=   5.3s\n",
      "[CV] max_depth=7 .....................................................\n",
      "[CV] ...................................... max_depth=7, total=   6.4s\n",
      "[CV] max_depth=7 .....................................................\n",
      "[CV] ...................................... max_depth=7, total=   5.9s\n",
      "[CV] max_depth=7 .....................................................\n",
      "[CV] ...................................... max_depth=7, total=   6.5s\n",
      "[CV] max_depth=7 .....................................................\n",
      "[CV] ...................................... max_depth=7, total=   9.0s\n",
      "[CV] max_depth=9 .....................................................\n",
      "[CV] ...................................... max_depth=9, total=   0.8s\n",
      "[CV] max_depth=9 .....................................................\n",
      "[CV] ...................................... max_depth=9, total=   1.6s\n",
      "[CV] max_depth=9 .....................................................\n",
      "[CV] ...................................... max_depth=9, total=   2.2s\n",
      "[CV] max_depth=9 .....................................................\n",
      "[CV] ...................................... max_depth=9, total=   3.7s\n",
      "[CV] max_depth=9 .....................................................\n",
      "[CV] ...................................... max_depth=9, total=   4.9s\n",
      "[CV] max_depth=9 .....................................................\n",
      "[CV] ...................................... max_depth=9, total=   5.8s\n",
      "[CV] max_depth=9 .....................................................\n",
      "[CV] ...................................... max_depth=9, total=   7.3s\n",
      "[CV] max_depth=9 .....................................................\n",
      "[CV] ...................................... max_depth=9, total=   8.3s\n",
      "[CV] max_depth=9 .....................................................\n",
      "[CV] ...................................... max_depth=9, total=  10.1s\n",
      "[CV] max_depth=9 .....................................................\n",
      "[CV] ...................................... max_depth=9, total=  11.8s\n",
      "[CV] max_depth=11 ....................................................\n",
      "[CV] ..................................... max_depth=11, total=   1.0s\n",
      "[CV] max_depth=11 ....................................................\n",
      "[CV] ..................................... max_depth=11, total=   2.0s\n",
      "[CV] max_depth=11 ....................................................\n",
      "[CV] ..................................... max_depth=11, total=   3.0s\n",
      "[CV] max_depth=11 ....................................................\n",
      "[CV] ..................................... max_depth=11, total=   4.1s\n",
      "[CV] max_depth=11 ....................................................\n",
      "[CV] ..................................... max_depth=11, total=   6.4s\n",
      "[CV] max_depth=11 ....................................................\n",
      "[CV] ..................................... max_depth=11, total=   7.3s\n",
      "[CV] max_depth=11 ....................................................\n",
      "[CV] ..................................... max_depth=11, total=   9.8s\n",
      "[CV] max_depth=11 ....................................................\n",
      "[CV] ..................................... max_depth=11, total=  11.1s\n",
      "[CV] max_depth=11 ....................................................\n",
      "[CV] ..................................... max_depth=11, total=  13.3s\n",
      "[CV] max_depth=11 ....................................................\n"
     ]
    },
    {
     "name": "stdout",
     "output_type": "stream",
     "text": [
      "[CV] ..................................... max_depth=11, total=  14.2s\n",
      "[CV] max_depth=13 ....................................................\n",
      "[CV] ..................................... max_depth=13, total=   1.8s\n",
      "[CV] max_depth=13 ....................................................\n",
      "[CV] ..................................... max_depth=13, total=   2.9s\n",
      "[CV] max_depth=13 ....................................................\n",
      "[CV] ..................................... max_depth=13, total=   4.0s\n",
      "[CV] max_depth=13 ....................................................\n",
      "[CV] ..................................... max_depth=13, total=   5.8s\n",
      "[CV] max_depth=13 ....................................................\n",
      "[CV] ..................................... max_depth=13, total=   8.4s\n",
      "[CV] max_depth=13 ....................................................\n",
      "[CV] ..................................... max_depth=13, total=  12.6s\n",
      "[CV] max_depth=13 ....................................................\n",
      "[CV] ..................................... max_depth=13, total=  13.1s\n",
      "[CV] max_depth=13 ....................................................\n",
      "[CV] ..................................... max_depth=13, total=  14.2s\n",
      "[CV] max_depth=13 ....................................................\n",
      "[CV] ..................................... max_depth=13, total=  16.1s\n",
      "[CV] max_depth=13 ....................................................\n",
      "[CV] ..................................... max_depth=13, total=  16.8s\n",
      "[CV] max_depth=15 ....................................................\n",
      "[CV] ..................................... max_depth=15, total=   1.4s\n",
      "[CV] max_depth=15 ....................................................\n",
      "[CV] ..................................... max_depth=15, total=   3.0s\n",
      "[CV] max_depth=15 ....................................................\n",
      "[CV] ..................................... max_depth=15, total=   4.2s\n",
      "[CV] max_depth=15 ....................................................\n",
      "[CV] ..................................... max_depth=15, total=   6.1s\n",
      "[CV] max_depth=15 ....................................................\n",
      "[CV] ..................................... max_depth=15, total=   9.3s\n",
      "[CV] max_depth=15 ....................................................\n",
      "[CV] ..................................... max_depth=15, total=  11.7s\n",
      "[CV] max_depth=15 ....................................................\n",
      "[CV] ..................................... max_depth=15, total=  13.5s\n",
      "[CV] max_depth=15 ....................................................\n",
      "[CV] ..................................... max_depth=15, total=  15.3s\n",
      "[CV] max_depth=15 ....................................................\n",
      "[CV] ..................................... max_depth=15, total=  17.8s\n",
      "[CV] max_depth=15 ....................................................\n",
      "[CV] ..................................... max_depth=15, total=  20.3s\n",
      "[CV] max_depth=17 ....................................................\n",
      "[CV] ..................................... max_depth=17, total=   1.7s\n",
      "[CV] max_depth=17 ....................................................\n",
      "[CV] ..................................... max_depth=17, total=   3.3s\n",
      "[CV] max_depth=17 ....................................................\n",
      "[CV] ..................................... max_depth=17, total=   5.8s\n",
      "[CV] max_depth=17 ....................................................\n",
      "[CV] ..................................... max_depth=17, total=   7.2s\n",
      "[CV] max_depth=17 ....................................................\n",
      "[CV] ..................................... max_depth=17, total=  10.0s\n",
      "[CV] max_depth=17 ....................................................\n",
      "[CV] ..................................... max_depth=17, total=  12.1s\n",
      "[CV] max_depth=17 ....................................................\n",
      "[CV] ..................................... max_depth=17, total=  14.6s\n",
      "[CV] max_depth=17 ....................................................\n",
      "[CV] ..................................... max_depth=17, total=  19.0s\n",
      "[CV] max_depth=17 ....................................................\n",
      "[CV] ..................................... max_depth=17, total=  27.0s\n",
      "[CV] max_depth=17 ....................................................\n",
      "[CV] ..................................... max_depth=17, total=  27.0s\n",
      "[CV] max_depth=19 ....................................................\n",
      "[CV] ..................................... max_depth=19, total=   1.8s\n",
      "[CV] max_depth=19 ....................................................\n",
      "[CV] ..................................... max_depth=19, total=   3.6s\n",
      "[CV] max_depth=19 ....................................................\n",
      "[CV] ..................................... max_depth=19, total=   7.0s\n",
      "[CV] max_depth=19 ....................................................\n",
      "[CV] ..................................... max_depth=19, total=  13.8s\n",
      "[CV] max_depth=19 ....................................................\n",
      "[CV] ..................................... max_depth=19, total=  25.7s\n",
      "[CV] max_depth=19 ....................................................\n",
      "[CV] ..................................... max_depth=19, total=  31.9s\n",
      "[CV] max_depth=19 ....................................................\n",
      "[CV] ..................................... max_depth=19, total=  34.3s\n",
      "[CV] max_depth=19 ....................................................\n",
      "[CV] ..................................... max_depth=19, total=  24.0s\n",
      "[CV] max_depth=19 ....................................................\n",
      "[CV] ..................................... max_depth=19, total=  26.5s\n",
      "[CV] max_depth=19 ....................................................\n",
      "[CV] ..................................... max_depth=19, total=  29.4s\n",
      "[CV] max_depth=21 ....................................................\n",
      "[CV] ..................................... max_depth=21, total=   2.1s\n",
      "[CV] max_depth=21 ....................................................\n",
      "[CV] ..................................... max_depth=21, total=   4.3s\n",
      "[CV] max_depth=21 ....................................................\n",
      "[CV] ..................................... max_depth=21, total=   7.1s\n",
      "[CV] max_depth=21 ....................................................\n",
      "[CV] ..................................... max_depth=21, total=  10.7s\n",
      "[CV] max_depth=21 ....................................................\n",
      "[CV] ..................................... max_depth=21, total=  16.1s\n",
      "[CV] max_depth=21 ....................................................\n",
      "[CV] ..................................... max_depth=21, total=  23.4s\n",
      "[CV] max_depth=21 ....................................................\n",
      "[CV] ..................................... max_depth=21, total=  23.2s\n",
      "[CV] max_depth=21 ....................................................\n",
      "[CV] ..................................... max_depth=21, total=  28.3s\n",
      "[CV] max_depth=21 ....................................................\n",
      "[CV] ..................................... max_depth=21, total=  38.3s\n",
      "[CV] max_depth=21 ....................................................\n",
      "[CV] ..................................... max_depth=21, total=  45.6s\n",
      "[CV] max_depth=23 ....................................................\n",
      "[CV] ..................................... max_depth=23, total=   2.9s\n",
      "[CV] max_depth=23 ....................................................\n",
      "[CV] ..................................... max_depth=23, total=   5.8s\n",
      "[CV] max_depth=23 ....................................................\n",
      "[CV] ..................................... max_depth=23, total=   9.9s\n",
      "[CV] max_depth=23 ....................................................\n",
      "[CV] ..................................... max_depth=23, total=  13.3s\n",
      "[CV] max_depth=23 ....................................................\n",
      "[CV] ..................................... max_depth=23, total=  20.1s\n",
      "[CV] max_depth=23 ....................................................\n",
      "[CV] ..................................... max_depth=23, total=  25.0s\n",
      "[CV] max_depth=23 ....................................................\n",
      "[CV] ..................................... max_depth=23, total=  28.8s\n",
      "[CV] max_depth=23 ....................................................\n"
     ]
    },
    {
     "name": "stdout",
     "output_type": "stream",
     "text": [
      "[CV] ..................................... max_depth=23, total=  35.5s\n",
      "[CV] max_depth=23 ....................................................\n",
      "[CV] ..................................... max_depth=23, total=  39.0s\n",
      "[CV] max_depth=23 ....................................................\n",
      "[CV] ..................................... max_depth=23, total=  41.9s\n",
      "[CV] max_depth=25 ....................................................\n",
      "[CV] ..................................... max_depth=25, total=   2.6s\n",
      "[CV] max_depth=25 ....................................................\n",
      "[CV] ..................................... max_depth=25, total=   5.4s\n",
      "[CV] max_depth=25 ....................................................\n",
      "[CV] ..................................... max_depth=25, total=   9.1s\n",
      "[CV] max_depth=25 ....................................................\n",
      "[CV] ..................................... max_depth=25, total=  14.3s\n",
      "[CV] max_depth=25 ....................................................\n",
      "[CV] ..................................... max_depth=25, total=  19.9s\n",
      "[CV] max_depth=25 ....................................................\n",
      "[CV] ..................................... max_depth=25, total=  22.4s\n",
      "[CV] max_depth=25 ....................................................\n",
      "[CV] ..................................... max_depth=25, total=  26.7s\n",
      "[CV] max_depth=25 ....................................................\n",
      "[CV] ..................................... max_depth=25, total=  33.5s\n",
      "[CV] max_depth=25 ....................................................\n",
      "[CV] ..................................... max_depth=25, total=  45.2s\n",
      "[CV] max_depth=25 ....................................................\n",
      "[CV] ..................................... max_depth=25, total=  54.5s\n",
      "[CV] max_depth=27 ....................................................\n",
      "[CV] ..................................... max_depth=27, total=   4.3s\n",
      "[CV] max_depth=27 ....................................................\n",
      "[CV] ..................................... max_depth=27, total=   6.5s\n",
      "[CV] max_depth=27 ....................................................\n",
      "[CV] ..................................... max_depth=27, total=  10.0s\n",
      "[CV] max_depth=27 ....................................................\n",
      "[CV] ..................................... max_depth=27, total=  14.8s\n",
      "[CV] max_depth=27 ....................................................\n",
      "[CV] ..................................... max_depth=27, total=  21.6s\n",
      "[CV] max_depth=27 ....................................................\n",
      "[CV] ..................................... max_depth=27, total=  27.1s\n",
      "[CV] max_depth=27 ....................................................\n",
      "[CV] ..................................... max_depth=27, total=  35.0s\n",
      "[CV] max_depth=27 ....................................................\n",
      "[CV] ..................................... max_depth=27, total=  38.6s\n",
      "[CV] max_depth=27 ....................................................\n",
      "[CV] ..................................... max_depth=27, total=  53.7s\n",
      "[CV] max_depth=27 ....................................................\n",
      "[CV] ..................................... max_depth=27, total= 1.1min\n",
      "[CV] max_depth=29 ....................................................\n",
      "[CV] ..................................... max_depth=29, total=   2.5s\n",
      "[CV] max_depth=29 ....................................................\n",
      "[CV] ..................................... max_depth=29, total=   5.3s\n",
      "[CV] max_depth=29 ....................................................\n",
      "[CV] ..................................... max_depth=29, total=   9.7s\n",
      "[CV] max_depth=29 ....................................................\n",
      "[CV] ..................................... max_depth=29, total=  17.5s\n",
      "[CV] max_depth=29 ....................................................\n",
      "[CV] ..................................... max_depth=29, total=  23.3s\n",
      "[CV] max_depth=29 ....................................................\n",
      "[CV] ..................................... max_depth=29, total=  28.0s\n",
      "[CV] max_depth=29 ....................................................\n",
      "[CV] ..................................... max_depth=29, total=  36.0s\n",
      "[CV] max_depth=29 ....................................................\n",
      "[CV] ..................................... max_depth=29, total=  44.3s\n",
      "[CV] max_depth=29 ....................................................\n",
      "[CV] ..................................... max_depth=29, total=  55.6s\n",
      "[CV] max_depth=29 ....................................................\n",
      "[CV] ..................................... max_depth=29, total=  56.2s\n",
      "[CV] max_depth=31 ....................................................\n",
      "[CV] ..................................... max_depth=31, total=   2.9s\n",
      "[CV] max_depth=31 ....................................................\n",
      "[CV] ..................................... max_depth=31, total=   5.7s\n",
      "[CV] max_depth=31 ....................................................\n",
      "[CV] ..................................... max_depth=31, total=   9.6s\n",
      "[CV] max_depth=31 ....................................................\n",
      "[CV] ..................................... max_depth=31, total=  14.3s\n",
      "[CV] max_depth=31 ....................................................\n",
      "[CV] ..................................... max_depth=31, total=  20.7s\n",
      "[CV] max_depth=31 ....................................................\n",
      "[CV] ..................................... max_depth=31, total=  26.1s\n",
      "[CV] max_depth=31 ....................................................\n",
      "[CV] ..................................... max_depth=31, total=  33.1s\n",
      "[CV] max_depth=31 ....................................................\n",
      "[CV] ..................................... max_depth=31, total=  40.7s\n",
      "[CV] max_depth=31 ....................................................\n",
      "[CV] ..................................... max_depth=31, total=  49.5s\n",
      "[CV] max_depth=31 ....................................................\n",
      "[CV] ..................................... max_depth=31, total=  57.0s\n",
      "[CV] max_depth=33 ....................................................\n",
      "[CV] ..................................... max_depth=33, total=   2.8s\n",
      "[CV] max_depth=33 ....................................................\n",
      "[CV] ..................................... max_depth=33, total=   5.8s\n",
      "[CV] max_depth=33 ....................................................\n",
      "[CV] ..................................... max_depth=33, total=  10.0s\n",
      "[CV] max_depth=33 ....................................................\n",
      "[CV] ..................................... max_depth=33, total=  15.4s\n",
      "[CV] max_depth=33 ....................................................\n",
      "[CV] ..................................... max_depth=33, total=  23.7s\n",
      "[CV] max_depth=33 ....................................................\n",
      "[CV] ..................................... max_depth=33, total=  27.0s\n",
      "[CV] max_depth=33 ....................................................\n",
      "[CV] ..................................... max_depth=33, total=  34.1s\n",
      "[CV] max_depth=33 ....................................................\n",
      "[CV] ..................................... max_depth=33, total=  42.5s\n",
      "[CV] max_depth=33 ....................................................\n",
      "[CV] ..................................... max_depth=33, total=  52.2s\n",
      "[CV] max_depth=33 ....................................................\n",
      "[CV] ..................................... max_depth=33, total=  59.6s\n",
      "[CV] max_depth=35 ....................................................\n",
      "[CV] ..................................... max_depth=35, total=   2.8s\n",
      "[CV] max_depth=35 ....................................................\n",
      "[CV] ..................................... max_depth=35, total=   6.0s\n",
      "[CV] max_depth=35 ....................................................\n",
      "[CV] ..................................... max_depth=35, total=  10.6s\n",
      "[CV] max_depth=35 ....................................................\n",
      "[CV] ..................................... max_depth=35, total=  15.5s\n",
      "[CV] max_depth=35 ....................................................\n",
      "[CV] ..................................... max_depth=35, total=  23.1s\n",
      "[CV] max_depth=35 ....................................................\n"
     ]
    },
    {
     "name": "stdout",
     "output_type": "stream",
     "text": [
      "[CV] ..................................... max_depth=35, total=  28.4s\n",
      "[CV] max_depth=35 ....................................................\n",
      "[CV] ..................................... max_depth=35, total=  37.2s\n",
      "[CV] max_depth=35 ....................................................\n",
      "[CV] ..................................... max_depth=35, total=  46.0s\n",
      "[CV] max_depth=35 ....................................................\n",
      "[CV] ..................................... max_depth=35, total=  54.3s\n",
      "[CV] max_depth=35 ....................................................\n",
      "[CV] ..................................... max_depth=35, total= 1.1min\n",
      "[CV] max_depth=37 ....................................................\n",
      "[CV] ..................................... max_depth=37, total=   3.0s\n",
      "[CV] max_depth=37 ....................................................\n",
      "[CV] ..................................... max_depth=37, total=   6.4s\n",
      "[CV] max_depth=37 ....................................................\n",
      "[CV] ..................................... max_depth=37, total=  10.7s\n",
      "[CV] max_depth=37 ....................................................\n",
      "[CV] ..................................... max_depth=37, total=  16.8s\n",
      "[CV] max_depth=37 ....................................................\n",
      "[CV] ..................................... max_depth=37, total=  23.6s\n",
      "[CV] max_depth=37 ....................................................\n",
      "[CV] ..................................... max_depth=37, total=  30.4s\n",
      "[CV] max_depth=37 ....................................................\n",
      "[CV] ..................................... max_depth=37, total=  38.1s\n",
      "[CV] max_depth=37 ....................................................\n",
      "[CV] ..................................... max_depth=37, total=  47.7s\n",
      "[CV] max_depth=37 ....................................................\n",
      "[CV] ..................................... max_depth=37, total=  57.7s\n",
      "[CV] max_depth=37 ....................................................\n",
      "[CV] ..................................... max_depth=37, total= 1.1min\n",
      "[CV] max_depth=39 ....................................................\n",
      "[CV] ..................................... max_depth=39, total=   3.2s\n",
      "[CV] max_depth=39 ....................................................\n",
      "[CV] ..................................... max_depth=39, total=   6.6s\n",
      "[CV] max_depth=39 ....................................................\n",
      "[CV] ..................................... max_depth=39, total=  11.0s\n",
      "[CV] max_depth=39 ....................................................\n",
      "[CV] ..................................... max_depth=39, total=  16.7s\n",
      "[CV] max_depth=39 ....................................................\n",
      "[CV] ..................................... max_depth=39, total=  26.2s\n",
      "[CV] max_depth=39 ....................................................\n",
      "[CV] ..................................... max_depth=39, total=  30.7s\n",
      "[CV] max_depth=39 ....................................................\n",
      "[CV] ..................................... max_depth=39, total=  39.6s\n",
      "[CV] max_depth=39 ....................................................\n",
      "[CV] ..................................... max_depth=39, total=  49.3s\n",
      "[CV] max_depth=39 ....................................................\n",
      "[CV] ..................................... max_depth=39, total=  57.9s\n",
      "[CV] max_depth=39 ....................................................\n",
      "[CV] ..................................... max_depth=39, total= 1.2min\n",
      "[CV] max_depth=41 ....................................................\n",
      "[CV] ..................................... max_depth=41, total=   2.8s\n",
      "[CV] max_depth=41 ....................................................\n",
      "[CV] ..................................... max_depth=41, total=   6.4s\n",
      "[CV] max_depth=41 ....................................................\n",
      "[CV] ..................................... max_depth=41, total=  11.4s\n",
      "[CV] max_depth=41 ....................................................\n",
      "[CV] ..................................... max_depth=41, total=  18.0s\n",
      "[CV] max_depth=41 ....................................................\n",
      "[CV] ..................................... max_depth=41, total=  28.2s\n",
      "[CV] max_depth=41 ....................................................\n",
      "[CV] ..................................... max_depth=41, total=  32.0s\n",
      "[CV] max_depth=41 ....................................................\n",
      "[CV] ..................................... max_depth=41, total=  41.8s\n",
      "[CV] max_depth=41 ....................................................\n",
      "[CV] ..................................... max_depth=41, total=  52.4s\n",
      "[CV] max_depth=41 ....................................................\n",
      "[CV] ..................................... max_depth=41, total= 1.0min\n",
      "[CV] max_depth=41 ....................................................\n",
      "[CV] ..................................... max_depth=41, total= 1.3min\n",
      "[CV] max_depth=43 ....................................................\n",
      "[CV] ..................................... max_depth=43, total=   3.2s\n",
      "[CV] max_depth=43 ....................................................\n",
      "[CV] ..................................... max_depth=43, total=   7.9s\n",
      "[CV] max_depth=43 ....................................................\n",
      "[CV] ..................................... max_depth=43, total=  12.9s\n",
      "[CV] max_depth=43 ....................................................\n",
      "[CV] ..................................... max_depth=43, total=  18.8s\n",
      "[CV] max_depth=43 ....................................................\n",
      "[CV] ..................................... max_depth=43, total=  25.8s\n",
      "[CV] max_depth=43 ....................................................\n",
      "[CV] ..................................... max_depth=43, total=  34.2s\n",
      "[CV] max_depth=43 ....................................................\n",
      "[CV] ..................................... max_depth=43, total=  42.9s\n",
      "[CV] max_depth=43 ....................................................\n",
      "[CV] ..................................... max_depth=43, total=  53.7s\n",
      "[CV] max_depth=43 ....................................................\n",
      "[CV] ..................................... max_depth=43, total= 1.1min\n",
      "[CV] max_depth=43 ....................................................\n",
      "[CV] ..................................... max_depth=43, total= 1.3min\n",
      "[CV] max_depth=45 ....................................................\n",
      "[CV] ..................................... max_depth=45, total=   3.0s\n",
      "[CV] max_depth=45 ....................................................\n",
      "[CV] ..................................... max_depth=45, total=   6.9s\n",
      "[CV] max_depth=45 ....................................................\n",
      "[CV] ..................................... max_depth=45, total=  11.7s\n",
      "[CV] max_depth=45 ....................................................\n",
      "[CV] ..................................... max_depth=45, total=  18.7s\n",
      "[CV] max_depth=45 ....................................................\n",
      "[CV] ..................................... max_depth=45, total=  26.3s\n",
      "[CV] max_depth=45 ....................................................\n",
      "[CV] ..................................... max_depth=45, total=  34.2s\n",
      "[CV] max_depth=45 ....................................................\n",
      "[CV] ..................................... max_depth=45, total=  44.6s\n",
      "[CV] max_depth=45 ....................................................\n",
      "[CV] ..................................... max_depth=45, total=  53.8s\n",
      "[CV] max_depth=45 ....................................................\n",
      "[CV] ..................................... max_depth=45, total= 1.1min\n",
      "[CV] max_depth=45 ....................................................\n",
      "[CV] ..................................... max_depth=45, total= 1.3min\n",
      "[CV] max_depth=47 ....................................................\n",
      "[CV] ..................................... max_depth=47, total=   3.0s\n",
      "[CV] max_depth=47 ....................................................\n",
      "[CV] ..................................... max_depth=47, total=   7.0s\n",
      "[CV] max_depth=47 ....................................................\n",
      "[CV] ..................................... max_depth=47, total=  12.9s\n",
      "[CV] max_depth=47 ....................................................\n"
     ]
    },
    {
     "name": "stdout",
     "output_type": "stream",
     "text": [
      "[CV] ..................................... max_depth=47, total=  19.4s\n",
      "[CV] max_depth=47 ....................................................\n",
      "[CV] ..................................... max_depth=47, total=  28.6s\n",
      "[CV] max_depth=47 ....................................................\n",
      "[CV] ..................................... max_depth=47, total=  35.4s\n",
      "[CV] max_depth=47 ....................................................\n",
      "[CV] ..................................... max_depth=47, total=  45.6s\n",
      "[CV] max_depth=47 ....................................................\n",
      "[CV] ..................................... max_depth=47, total=  54.8s\n",
      "[CV] max_depth=47 ....................................................\n",
      "[CV] ..................................... max_depth=47, total= 1.1min\n",
      "[CV] max_depth=47 ....................................................\n",
      "[CV] ..................................... max_depth=47, total= 1.3min\n",
      "[CV] max_depth=49 ....................................................\n",
      "[CV] ..................................... max_depth=49, total=   3.1s\n",
      "[CV] max_depth=49 ....................................................\n",
      "[CV] ..................................... max_depth=49, total=   7.4s\n",
      "[CV] max_depth=49 ....................................................\n",
      "[CV] ..................................... max_depth=49, total=  14.5s\n",
      "[CV] max_depth=49 ....................................................\n",
      "[CV] ..................................... max_depth=49, total=  25.1s\n",
      "[CV] max_depth=49 ....................................................\n",
      "[CV] ..................................... max_depth=49, total=  32.4s\n",
      "[CV] max_depth=49 ....................................................\n",
      "[CV] ..................................... max_depth=49, total=  43.3s\n",
      "[CV] max_depth=49 ....................................................\n",
      "[CV] ..................................... max_depth=49, total= 1.0min\n",
      "[CV] max_depth=49 ....................................................\n",
      "[CV] ..................................... max_depth=49, total= 1.3min\n",
      "[CV] max_depth=49 ....................................................\n",
      "[CV] ..................................... max_depth=49, total= 1.6min\n",
      "[CV] max_depth=49 ....................................................\n",
      "[CV] ..................................... max_depth=49, total= 1.9min\n"
     ]
    },
    {
     "name": "stderr",
     "output_type": "stream",
     "text": [
      "[Parallel(n_jobs=1)]: Done 250 out of 250 | elapsed: 90.4min finished\n"
     ]
    },
    {
     "data": {
      "text/plain": [
       "GridSearchCV(cv=<generator object TimeSeriesSplit.split at 0x000001423DE9C8E0>,\n",
       "       error_score='raise',\n",
       "       estimator=DecisionTreeClassifier(class_weight='balanced', criterion='gini',\n",
       "            max_depth=None, max_features=None, max_leaf_nodes=None,\n",
       "            min_impurity_decrease=0.0, min_impurity_split=None,\n",
       "            min_samples_leaf=1, min_samples_split=2,\n",
       "            min_weight_fraction_leaf=0.0, presort=False, random_state=3,\n",
       "            splitter='best'),\n",
       "       fit_params=None, iid=True, n_jobs=1,\n",
       "       param_grid=[{'max_depth': range(1, 50, 2)}],\n",
       "       pre_dispatch='2*n_jobs', refit=True, return_train_score='warn',\n",
       "       scoring='accuracy', verbose=2)"
      ]
     },
     "execution_count": 43,
     "metadata": {},
     "output_type": "execute_result"
    }
   ],
   "source": [
    "BOW_grid.fit(std_BOW_train[0:100000],train['Score'][0:100000])"
   ]
  },
  {
   "cell_type": "code",
   "execution_count": 44,
   "metadata": {},
   "outputs": [
    {
     "data": {
      "text/plain": [
       "DecisionTreeClassifier(class_weight='balanced', criterion='gini',\n",
       "            max_depth=49, max_features=None, max_leaf_nodes=None,\n",
       "            min_impurity_decrease=0.0, min_impurity_split=None,\n",
       "            min_samples_leaf=1, min_samples_split=2,\n",
       "            min_weight_fraction_leaf=0.0, presort=False, random_state=3,\n",
       "            splitter='best')"
      ]
     },
     "execution_count": 44,
     "metadata": {},
     "output_type": "execute_result"
    }
   ],
   "source": [
    "BOW_grid.best_estimator_"
   ]
  },
  {
   "cell_type": "code",
   "execution_count": 45,
   "metadata": {},
   "outputs": [
    {
     "data": {
      "text/plain": [
       "0.8163586358635864"
      ]
     },
     "execution_count": 45,
     "metadata": {},
     "output_type": "execute_result"
    }
   ],
   "source": [
    "BOW_grid.best_score_"
   ]
  },
  {
   "cell_type": "code",
   "execution_count": 64,
   "metadata": {},
   "outputs": [
    {
     "data": {
      "image/png": "[encoded data removed]",
      "text/plain": [
       "<Figure size 864x504 with 1 Axes>"
      ]
     },
     "metadata": {},
     "output_type": "display_data"
    }
   ],
   "source": [
    "plotter(BOW_grid)"
   ]
  },
  {
   "cell_type": "markdown",
   "metadata": {},
   "source": [
    "As the error seems to be decreasing continously and no inflection point are observed from the graph. Hence taking grid search for wide range of points and repeating the cross validation."
   ]
  },
  {
   "cell_type": "raw",
   "metadata": {},
   "source": [
    "CV-2:"
   ]
  },
  {
   "cell_type": "code",
   "execution_count": 55,
   "metadata": {
    "scrolled": true
   },
   "outputs": [
    {
     "name": "stdout",
     "output_type": "stream",
     "text": [
      "Fitting 10 folds for each of 5 candidates, totalling 50 fits\n",
      "[CV] max_depth=10 ....................................................\n",
      "[CV] ..................................... max_depth=10, total=   1.2s\n",
      "[CV] max_depth=10 ....................................................\n"
     ]
    },
    {
     "name": "stderr",
     "output_type": "stream",
     "text": [
      "[Parallel(n_jobs=1)]: Done   1 out of   1 | elapsed:    1.2s remaining:    0.0s\n"
     ]
    },
    {
     "name": "stdout",
     "output_type": "stream",
     "text": [
      "[CV] ..................................... max_depth=10, total=   2.2s\n",
      "[CV] max_depth=10 ....................................................\n",
      "[CV] ..................................... max_depth=10, total=   3.1s\n",
      "[CV] max_depth=10 ....................................................\n",
      "[CV] ..................................... max_depth=10, total=   4.8s\n",
      "[CV] max_depth=10 ....................................................\n",
      "[CV] ..................................... max_depth=10, total=   5.6s\n",
      "[CV] max_depth=10 ....................................................\n",
      "[CV] ..................................... max_depth=10, total=   7.8s\n",
      "[CV] max_depth=10 ....................................................\n",
      "[CV] ..................................... max_depth=10, total=   9.5s\n",
      "[CV] max_depth=10 ....................................................\n",
      "[CV] ..................................... max_depth=10, total=  12.3s\n",
      "[CV] max_depth=10 ....................................................\n",
      "[CV] ..................................... max_depth=10, total=  12.0s\n",
      "[CV] max_depth=10 ....................................................\n",
      "[CV] ..................................... max_depth=10, total=  12.7s\n",
      "[CV] max_depth=100 ...................................................\n",
      "[CV] .................................... max_depth=100, total=   4.1s\n",
      "[CV] max_depth=100 ...................................................\n",
      "[CV] .................................... max_depth=100, total=   9.8s\n",
      "[CV] max_depth=100 ...................................................\n",
      "[CV] .................................... max_depth=100, total=  21.0s\n",
      "[CV] max_depth=100 ...................................................\n",
      "[CV] .................................... max_depth=100, total=  33.5s\n",
      "[CV] max_depth=100 ...................................................\n",
      "[CV] .................................... max_depth=100, total=  39.1s\n",
      "[CV] max_depth=100 ...................................................\n",
      "[CV] .................................... max_depth=100, total=  55.4s\n",
      "[CV] max_depth=100 ...................................................\n",
      "[CV] .................................... max_depth=100, total= 1.2min\n",
      "[CV] max_depth=100 ...................................................\n",
      "[CV] .................................... max_depth=100, total= 1.7min\n",
      "[CV] max_depth=100 ...................................................\n",
      "[CV] .................................... max_depth=100, total= 2.3min\n",
      "[CV] max_depth=100 ...................................................\n",
      "[CV] .................................... max_depth=100, total= 2.0min\n",
      "[CV] max_depth=150 ...................................................\n",
      "[CV] .................................... max_depth=150, total=   3.8s\n",
      "[CV] max_depth=150 ...................................................\n",
      "[CV] .................................... max_depth=150, total=   9.6s\n",
      "[CV] max_depth=150 ...................................................\n",
      "[CV] .................................... max_depth=150, total=  18.3s\n",
      "[CV] max_depth=150 ...................................................\n",
      "[CV] .................................... max_depth=150, total=  30.1s\n",
      "[CV] max_depth=150 ...................................................\n",
      "[CV] .................................... max_depth=150, total=  41.4s\n",
      "[CV] max_depth=150 ...................................................\n",
      "[CV] .................................... max_depth=150, total=  56.6s\n",
      "[CV] max_depth=150 ...................................................\n",
      "[CV] .................................... max_depth=150, total= 1.4min\n",
      "[CV] max_depth=150 ...................................................\n",
      "[CV] .................................... max_depth=150, total= 1.5min\n",
      "[CV] max_depth=150 ...................................................\n",
      "[CV] .................................... max_depth=150, total= 1.8min\n",
      "[CV] max_depth=150 ...................................................\n",
      "[CV] .................................... max_depth=150, total= 2.2min\n",
      "[CV] max_depth=200 ...................................................\n",
      "[CV] .................................... max_depth=200, total=   5.6s\n",
      "[CV] max_depth=200 ...................................................\n",
      "[CV] .................................... max_depth=200, total=  11.5s\n",
      "[CV] max_depth=200 ...................................................\n",
      "[CV] .................................... max_depth=200, total=  19.2s\n",
      "[CV] max_depth=200 ...................................................\n",
      "[CV] .................................... max_depth=200, total=  32.4s\n",
      "[CV] max_depth=200 ...................................................\n",
      "[CV] .................................... max_depth=200, total=  46.7s\n",
      "[CV] max_depth=200 ...................................................\n",
      "[CV] .................................... max_depth=200, total= 1.1min\n",
      "[CV] max_depth=200 ...................................................\n",
      "[CV] .................................... max_depth=200, total= 1.4min\n",
      "[CV] max_depth=200 ...................................................\n",
      "[CV] .................................... max_depth=200, total= 1.7min\n",
      "[CV] max_depth=200 ...................................................\n",
      "[CV] .................................... max_depth=200, total= 2.2min\n",
      "[CV] max_depth=200 ...................................................\n",
      "[CV] .................................... max_depth=200, total= 2.2min\n",
      "[CV] max_depth=250 ...................................................\n",
      "[CV] .................................... max_depth=250, total=   4.4s\n",
      "[CV] max_depth=250 ...................................................\n",
      "[CV] .................................... max_depth=250, total=  10.1s\n",
      "[CV] max_depth=250 ...................................................\n",
      "[CV] .................................... max_depth=250, total=  18.5s\n",
      "[CV] max_depth=250 ...................................................\n",
      "[CV] .................................... max_depth=250, total=  30.7s\n",
      "[CV] max_depth=250 ...................................................\n",
      "[CV] .................................... max_depth=250, total=  52.3s\n",
      "[CV] max_depth=250 ...................................................\n",
      "[CV] .................................... max_depth=250, total= 1.2min\n",
      "[CV] max_depth=250 ...................................................\n",
      "[CV] .................................... max_depth=250, total= 1.6min\n",
      "[CV] max_depth=250 ...................................................\n",
      "[CV] .................................... max_depth=250, total= 2.0min\n",
      "[CV] max_depth=250 ...................................................\n",
      "[CV] .................................... max_depth=250, total= 2.4min\n",
      "[CV] max_depth=250 ...................................................\n",
      "[CV] .................................... max_depth=250, total= 2.9min\n"
     ]
    },
    {
     "name": "stderr",
     "output_type": "stream",
     "text": [
      "[Parallel(n_jobs=1)]: Done  50 out of  50 | elapsed: 43.8min finished\n"
     ]
    },
    {
     "data": {
      "text/plain": [
       "GridSearchCV(cv=<generator object TimeSeriesSplit.split at 0x000001423AC1AF68>,\n",
       "       error_score='raise',\n",
       "       estimator=DecisionTreeClassifier(class_weight='balanced', criterion='gini',\n",
       "            max_depth=None, max_features=None, max_leaf_nodes=None,\n",
       "            min_impurity_decrease=0.0, min_impurity_split=None,\n",
       "            min_samples_leaf=1, min_samples_split=2,\n",
       "            min_weight_fraction_leaf=0.0, presort=False, random_state=3,\n",
       "            splitter='best'),\n",
       "       fit_params=None, iid=True, n_jobs=1,\n",
       "       param_grid=[{'max_depth': [10, 100, 150, 200, 250]}],\n",
       "       pre_dispatch='2*n_jobs', refit=True, return_train_score='warn',\n",
       "       scoring='accuracy', verbose=2)"
      ]
     },
     "execution_count": 55,
     "metadata": {},
     "output_type": "execute_result"
    }
   ],
   "source": [
    "g2=grid_s(std_BOW_train[0:100000],[10,100,150,200,250])\n",
    "g2.fit(std_BOW_train[0:100000],train['Score'][0:100000])"
   ]
  },
  {
   "cell_type": "code",
   "execution_count": 56,
   "metadata": {},
   "outputs": [
    {
     "name": "stdout",
     "output_type": "stream",
     "text": [
      "0.8357865786578658\n"
     ]
    },
    {
     "data": {
      "text/plain": [
       "DecisionTreeClassifier(class_weight='balanced', criterion='gini',\n",
       "            max_depth=250, max_features=None, max_leaf_nodes=None,\n",
       "            min_impurity_decrease=0.0, min_impurity_split=None,\n",
       "            min_samples_leaf=1, min_samples_split=2,\n",
       "            min_weight_fraction_leaf=0.0, presort=False, random_state=3,\n",
       "            splitter='best')"
      ]
     },
     "execution_count": 56,
     "metadata": {},
     "output_type": "execute_result"
    }
   ],
   "source": [
    "print(g2.best_score_)\n",
    "g2.best_estimator_"
   ]
  },
  {
   "cell_type": "code",
   "execution_count": 65,
   "metadata": {},
   "outputs": [
    {
     "data": {
      "image/png": "[encoded data removed]",
      "text/plain": [
       "<Figure size 864x504 with 1 Axes>"
      ]
     },
     "metadata": {},
     "output_type": "display_data"
    }
   ],
   "source": [
    "plotter(g2)"
   ]
  },
  {
   "cell_type": "markdown",
   "metadata": {},
   "source": [
    "As expected we got an elbow point at <b> depth 100 </b> , beyond which the error is decreasing slowly."
   ]
  },
  {
   "cell_type": "raw",
   "metadata": {},
   "source": [
    "CV-3:"
   ]
  },
  {
   "cell_type": "code",
   "execution_count": 68,
   "metadata": {
    "scrolled": true
   },
   "outputs": [
    {
     "name": "stdout",
     "output_type": "stream",
     "text": [
      "Fitting 10 folds for each of 4 candidates, totalling 40 fits\n",
      "[CV] max_depth=1000 ..................................................\n",
      "[CV] ................................... max_depth=1000, total=   5.0s\n",
      "[CV] max_depth=1000 ..................................................\n"
     ]
    },
    {
     "name": "stderr",
     "output_type": "stream",
     "text": [
      "[Parallel(n_jobs=1)]: Done   1 out of   1 | elapsed:    5.1s remaining:    0.0s\n"
     ]
    },
    {
     "name": "stdout",
     "output_type": "stream",
     "text": [
      "[CV] ................................... max_depth=1000, total=  11.2s\n",
      "[CV] max_depth=1000 ..................................................\n",
      "[CV] ................................... max_depth=1000, total=  25.0s\n",
      "[CV] max_depth=1000 ..................................................\n",
      "[CV] ................................... max_depth=1000, total=  39.1s\n",
      "[CV] max_depth=1000 ..................................................\n",
      "[CV] ................................... max_depth=1000, total=  51.9s\n",
      "[CV] max_depth=1000 ..................................................\n",
      "[CV] ................................... max_depth=1000, total= 1.2min\n",
      "[CV] max_depth=1000 ..................................................\n",
      "[CV] ................................... max_depth=1000, total= 1.6min\n",
      "[CV] max_depth=1000 ..................................................\n",
      "[CV] ................................... max_depth=1000, total= 2.2min\n",
      "[CV] max_depth=1000 ..................................................\n",
      "[CV] ................................... max_depth=1000, total= 2.8min\n",
      "[CV] max_depth=1000 ..................................................\n",
      "[CV] ................................... max_depth=1000, total= 3.1min\n",
      "[CV] max_depth=10000 .................................................\n",
      "[CV] .................................. max_depth=10000, total=   5.2s\n",
      "[CV] max_depth=10000 .................................................\n",
      "[CV] .................................. max_depth=10000, total=  11.2s\n",
      "[CV] max_depth=10000 .................................................\n",
      "[CV] .................................. max_depth=10000, total=  21.0s\n",
      "[CV] max_depth=10000 .................................................\n",
      "[CV] .................................. max_depth=10000, total=  32.2s\n",
      "[CV] max_depth=10000 .................................................\n",
      "[CV] .................................. max_depth=10000, total=  45.2s\n",
      "[CV] max_depth=10000 .................................................\n",
      "[CV] .................................. max_depth=10000, total= 1.1min\n",
      "[CV] max_depth=10000 .................................................\n",
      "[CV] .................................. max_depth=10000, total= 1.4min\n",
      "[CV] max_depth=10000 .................................................\n",
      "[CV] .................................. max_depth=10000, total= 1.7min\n",
      "[CV] max_depth=10000 .................................................\n",
      "[CV] .................................. max_depth=10000, total= 2.1min\n",
      "[CV] max_depth=10000 .................................................\n",
      "[CV] .................................. max_depth=10000, total= 2.6min\n",
      "[CV] max_depth=500000 ................................................\n",
      "[CV] ................................. max_depth=500000, total=   6.3s\n",
      "[CV] max_depth=500000 ................................................\n",
      "[CV] ................................. max_depth=500000, total=  13.7s\n",
      "[CV] max_depth=500000 ................................................\n",
      "[CV] ................................. max_depth=500000, total=  23.2s\n",
      "[CV] max_depth=500000 ................................................\n",
      "[CV] ................................. max_depth=500000, total=  39.4s\n",
      "[CV] max_depth=500000 ................................................\n",
      "[CV] ................................. max_depth=500000, total=  57.2s\n",
      "[CV] max_depth=500000 ................................................\n",
      "[CV] ................................. max_depth=500000, total= 1.2min\n",
      "[CV] max_depth=500000 ................................................\n",
      "[CV] ................................. max_depth=500000, total= 1.4min\n",
      "[CV] max_depth=500000 ................................................\n",
      "[CV] ................................. max_depth=500000, total= 2.0min\n",
      "[CV] max_depth=500000 ................................................\n",
      "[CV] ................................. max_depth=500000, total= 2.5min\n",
      "[CV] max_depth=500000 ................................................\n",
      "[CV] ................................. max_depth=500000, total= 2.8min\n",
      "[CV] max_depth=100000 ................................................\n",
      "[CV] ................................. max_depth=100000, total=   4.6s\n",
      "[CV] max_depth=100000 ................................................\n",
      "[CV] ................................. max_depth=100000, total=  11.1s\n",
      "[CV] max_depth=100000 ................................................\n",
      "[CV] ................................. max_depth=100000, total=  21.6s\n",
      "[CV] max_depth=100000 ................................................\n",
      "[CV] ................................. max_depth=100000, total=  46.0s\n",
      "[CV] max_depth=100000 ................................................\n",
      "[CV] ................................. max_depth=100000, total=  56.5s\n",
      "[CV] max_depth=100000 ................................................\n",
      "[CV] ................................. max_depth=100000, total= 1.3min\n",
      "[CV] max_depth=100000 ................................................\n",
      "[CV] ................................. max_depth=100000, total= 1.7min\n",
      "[CV] max_depth=100000 ................................................\n",
      "[CV] ................................. max_depth=100000, total= 1.7min\n",
      "[CV] max_depth=100000 ................................................\n",
      "[CV] ................................. max_depth=100000, total= 2.6min\n",
      "[CV] max_depth=100000 ................................................\n",
      "[CV] ................................. max_depth=100000, total= 2.9min\n"
     ]
    },
    {
     "name": "stderr",
     "output_type": "stream",
     "text": [
      "[Parallel(n_jobs=1)]: Done  40 out of  40 | elapsed: 49.0min finished\n"
     ]
    },
    {
     "data": {
      "text/plain": [
       "GridSearchCV(cv=<generator object TimeSeriesSplit.split at 0x000001423D2375C8>,\n",
       "       error_score='raise',\n",
       "       estimator=DecisionTreeClassifier(class_weight='balanced', criterion='gini',\n",
       "            max_depth=None, max_features=None, max_leaf_nodes=None,\n",
       "            min_impurity_decrease=0.0, min_impurity_split=None,\n",
       "            min_samples_leaf=1, min_samples_split=2,\n",
       "            min_weight_fraction_leaf=0.0, presort=False, random_state=3,\n",
       "            splitter='best'),\n",
       "       fit_params=None, iid=True, n_jobs=1,\n",
       "       param_grid=[{'max_depth': [1000, 10000, 500000, 100000]}],\n",
       "       pre_dispatch='2*n_jobs', refit=True, return_train_score='warn',\n",
       "       scoring='accuracy', verbose=2)"
      ]
     },
     "execution_count": 68,
     "metadata": {},
     "output_type": "execute_result"
    }
   ],
   "source": [
    "g3=grid_s(std_BOW_train[0:100000],[1000,10000,500000,100000])\n",
    "g3.fit(std_BOW_train[0:100000],train['Score'][0:100000])"
   ]
  },
  {
   "cell_type": "code",
   "execution_count": 105,
   "metadata": {},
   "outputs": [
    {
     "name": "stdout",
     "output_type": "stream",
     "text": [
      "0.8349064906490649\n",
      "DecisionTreeClassifier(class_weight='balanced', criterion='gini',\n",
      "            max_depth=1000, max_features=None, max_leaf_nodes=None,\n",
      "            min_impurity_decrease=0.0, min_impurity_split=None,\n",
      "            min_samples_leaf=1, min_samples_split=2,\n",
      "            min_weight_fraction_leaf=0.0, presort=False, random_state=3,\n",
      "            splitter='best')\n"
     ]
    },
    {
     "data": {
      "image/png": "[encoded data removed]",
      "text/plain": [
       "<Figure size 864x504 with 1 Axes>"
      ]
     },
     "metadata": {},
     "output_type": "display_data"
    }
   ],
   "source": [
    "print(g3.best_score_)\n",
    "print(g3.best_estimator_)\n",
    "plotter(g3)"
   ]
  },
  {
   "cell_type": "markdown",
   "metadata": {},
   "source": [
    "Since the dimensions of data are too high, We got the error saturated only after a huge depth(around 1000s). "
   ]
  },
  {
   "cell_type": "raw",
   "metadata": {},
   "source": [
    "Random Search:"
   ]
  },
  {
   "cell_type": "code",
   "execution_count": 110,
   "metadata": {},
   "outputs": [],
   "source": [
    "#Random Search\n",
    "BOW_rand=random_s(std_BOW_train[0:100000])"
   ]
  },
  {
   "cell_type": "code",
   "execution_count": 111,
   "metadata": {
    "scrolled": true
   },
   "outputs": [
    {
     "name": "stdout",
     "output_type": "stream",
     "text": [
      "Fitting 10 folds for each of 1 candidates, totalling 10 fits\n",
      "[CV] max_depth=3140.4840903579134 ....................................\n",
      "[CV] ..................... max_depth=3140.4840903579134, total=   5.0s\n",
      "[CV] max_depth=3140.4840903579134 ....................................\n"
     ]
    },
    {
     "name": "stderr",
     "output_type": "stream",
     "text": [
      "[Parallel(n_jobs=1)]: Done   1 out of   1 | elapsed:    5.1s remaining:    0.0s\n"
     ]
    },
    {
     "name": "stdout",
     "output_type": "stream",
     "text": [
      "[CV] ..................... max_depth=3140.4840903579134, total=  12.1s\n",
      "[CV] max_depth=3140.4840903579134 ....................................\n",
      "[CV] ..................... max_depth=3140.4840903579134, total=  25.7s\n",
      "[CV] max_depth=3140.4840903579134 ....................................\n",
      "[CV] ..................... max_depth=3140.4840903579134, total=  38.0s\n",
      "[CV] max_depth=3140.4840903579134 ....................................\n",
      "[CV] ..................... max_depth=3140.4840903579134, total=  49.4s\n",
      "[CV] max_depth=3140.4840903579134 ....................................\n",
      "[CV] ..................... max_depth=3140.4840903579134, total= 1.0min\n",
      "[CV] max_depth=3140.4840903579134 ....................................\n",
      "[CV] ..................... max_depth=3140.4840903579134, total= 1.2min\n",
      "[CV] max_depth=3140.4840903579134 ....................................\n",
      "[CV] ..................... max_depth=3140.4840903579134, total= 1.6min\n",
      "[CV] max_depth=3140.4840903579134 ....................................\n",
      "[CV] ..................... max_depth=3140.4840903579134, total= 2.0min\n",
      "[CV] max_depth=3140.4840903579134 ....................................\n",
      "[CV] ..................... max_depth=3140.4840903579134, total= 2.4min\n"
     ]
    },
    {
     "name": "stderr",
     "output_type": "stream",
     "text": [
      "[Parallel(n_jobs=1)]: Done  10 out of  10 | elapsed: 10.5min finished\n"
     ]
    },
    {
     "data": {
      "text/plain": [
       "GridSearchCV(cv=<generator object TimeSeriesSplit.split at 0x000001421C488678>,\n",
       "       error_score='raise',\n",
       "       estimator=DecisionTreeClassifier(class_weight='balanced', criterion='gini',\n",
       "            max_depth=None, max_features=None, max_leaf_nodes=None,\n",
       "            min_impurity_decrease=0.0, min_impurity_split=None,\n",
       "            min_samples_leaf=1, min_samples_split=2,\n",
       "            min_weight_fraction_leaf=0.0, presort=False, random_state=3,\n",
       "            splitter='best'),\n",
       "       fit_params=None, iid=True, n_jobs=1,\n",
       "       param_grid={'max_depth': [3140.4840903579134]},\n",
       "       pre_dispatch='2*n_jobs', refit=True, return_train_score='warn',\n",
       "       scoring='accuracy', verbose=2)"
      ]
     },
     "execution_count": 111,
     "metadata": {},
     "output_type": "execute_result"
    }
   ],
   "source": [
    "BOW_rand.fit(std_BOW_train[0:100000],train['Score'][0:100000])"
   ]
  },
  {
   "cell_type": "code",
   "execution_count": 34,
   "metadata": {},
   "outputs": [
    {
     "data": {
      "text/plain": [
       "DecisionTreeClassifier(class_weight='balanced', criterion='gini',\n",
       "            max_depth=14.73341444167473, max_features=None,\n",
       "            max_leaf_nodes=None, min_impurity_decrease=0.0,\n",
       "            min_impurity_split=None, min_samples_leaf=1,\n",
       "            min_samples_split=2, min_weight_fraction_leaf=0.0,\n",
       "            presort=False, random_state=3, splitter='best')"
      ]
     },
     "execution_count": 34,
     "metadata": {},
     "output_type": "execute_result"
    }
   ],
   "source": [
    "BOW_rand.best_estimator_"
   ]
  },
  {
   "cell_type": "code",
   "execution_count": 108,
   "metadata": {},
   "outputs": [
    {
     "data": {
      "text/plain": [
       "0.6355555555555555"
      ]
     },
     "execution_count": 108,
     "metadata": {},
     "output_type": "execute_result"
    }
   ],
   "source": [
    "BOW_rand.best_score_"
   ]
  },
  {
   "cell_type": "markdown",
   "metadata": {},
   "source": [
    "### Implementation:"
   ]
  },
  {
   "cell_type": "markdown",
   "metadata": {},
   "source": [
    "#### The optimal depth chosen from CV plot is 100."
   ]
  },
  {
   "cell_type": "code",
   "execution_count": 22,
   "metadata": {},
   "outputs": [],
   "source": [
    "dt=DecisionTreeClassifier(class_weight='balanced', criterion='gini',\n",
    "            max_depth=100, max_features=None, max_leaf_nodes=None,\n",
    "            min_impurity_decrease=0.0, min_impurity_split=None,\n",
    "            min_samples_leaf=1, min_samples_split=2,\n",
    "            min_weight_fraction_leaf=0.0, presort=False, random_state=3,\n",
    "            splitter='best')"
   ]
  },
  {
   "cell_type": "code",
   "execution_count": 23,
   "metadata": {},
   "outputs": [
    {
     "data": {
      "text/plain": [
       "DecisionTreeClassifier(class_weight='balanced', criterion='gini',\n",
       "            max_depth=100, max_features=None, max_leaf_nodes=None,\n",
       "            min_impurity_decrease=0.0, min_impurity_split=None,\n",
       "            min_samples_leaf=1, min_samples_split=2,\n",
       "            min_weight_fraction_leaf=0.0, presort=False, random_state=3,\n",
       "            splitter='best')"
      ]
     },
     "execution_count": 23,
     "metadata": {},
     "output_type": "execute_result"
    }
   ],
   "source": [
    "dt.fit(std_BOW_train,train['Score'])"
   ]
  },
  {
   "cell_type": "code",
   "execution_count": 23,
   "metadata": {},
   "outputs": [],
   "source": [
    "pred=dt.predict(std_BOW_test)"
   ]
  },
  {
   "cell_type": "code",
   "execution_count": 24,
   "metadata": {},
   "outputs": [
    {
     "name": "stdout",
     "output_type": "stream",
     "text": [
      "81.88300335923698\n"
     ]
    }
   ],
   "source": [
    "acc=accuracy_score(pred,test['Score'])\n",
    "print(acc*100)"
   ]
  },
  {
   "cell_type": "markdown",
   "metadata": {},
   "source": [
    "## Performace of Decision trees model with BOW_unigram:"
   ]
  },
  {
   "cell_type": "code",
   "execution_count": 25,
   "metadata": {},
   "outputs": [
    {
     "name": "stdout",
     "output_type": "stream",
     "text": [
      "\n",
      "******************************************************************************* \n",
      "\n",
      " Accuracy is 0.8188300335923698\n",
      "\n",
      "******************************************************************************* \n",
      "\n",
      " TNR value is 0.6035847177820869\n",
      " FNR value is 0.3964152822179131\n",
      " FPR value is 0.13562160363757347\n",
      " TPR value is 0.8643783963624265\n",
      "\n",
      "******************************************************************************* \n",
      "\n",
      " Confusion Matrix is :\n",
      "[[11517  7564]\n",
      " [12229 77941]]\n",
      "\n",
      "******************************************************************************* \n",
      "\n",
      " Precision is 0.8643783963624265\n",
      " Recall value is 0.9115373369978363\n",
      " F1 Score is 0.8873317205066172\n",
      "\n",
      "******************************************************************************* \n",
      "\n",
      "Heat Map of the Confusion matrix is\n",
      "\n",
      "******************************************************************************* \n",
      "\n"
     ]
    },
    {
     "data": {
      "image/png": "[encoded data removed]",
      "text/plain": [
       "<Figure size 432x288 with 2 Axes>"
      ]
     },
     "metadata": {},
     "output_type": "display_data"
    }
   ],
   "source": [
    "CM(test['Score'],pred)"
   ]
  },
  {
   "cell_type": "markdown",
   "metadata": {},
   "source": [
    "### Saving the tree to a PDF file."
   ]
  },
  {
   "cell_type": "code",
   "execution_count": 24,
   "metadata": {
    "scrolled": true
   },
   "outputs": [
    {
     "data": {
      "text/plain": [
       "'G:\\\\ML\\\\Exercises\\\\ex 7\\\\Graphviz\\\\BOW1.pdf'"
      ]
     },
     "execution_count": 24,
     "metadata": {},
     "output_type": "execute_result"
    }
   ],
   "source": [
    "tmp=tree_viz(std_BOW_train,train['Score'],BOW)\n",
    "tmp.render(filename='G:\\ML\\Exercises\\ex 7\\Graphviz\\BOW1')"
   ]
  },
  {
   "cell_type": "markdown",
   "metadata": {},
   "source": [
    "* It would be too complicated to Visualize the tree with suge a huge depth of 100, I took a depth of 5 and created dot file using Graphviz.\n",
    "\n",
    "\n",
    "* Since visualizing the trees in the ipynb makes it too slow to scroll. I exported them to a pdf file in my local machine.\n",
    "\n",
    "\n",
    "* For a sample visualization of Decision tree, I added DT for one of the vectorization at the end of this notebook."
   ]
  },
  {
   "cell_type": "markdown",
   "metadata": {},
   "source": [
    "## Feature Importance:"
   ]
  },
  {
   "cell_type": "code",
   "execution_count": 86,
   "metadata": {},
   "outputs": [
    {
     "name": "stdout",
     "output_type": "stream",
     "text": [
      "Top 20 important features are : \n",
      "\n"
     ]
    },
    {
     "data": {
      "image/png": "[encoded data removed]",
      "text/plain": [
       "<Figure size 432x432 with 1 Axes>"
      ]
     },
     "metadata": {},
     "output_type": "display_data"
    }
   ],
   "source": [
    "feat_importance(dt,BOW)"
   ]
  },
  {
   "cell_type": "raw",
   "metadata": {},
   "source": [
    "********************************************************************************************************************************"
   ]
  },
  {
   "cell_type": "markdown",
   "metadata": {},
   "source": [
    "# 2.) BOW - Bi-gram Vectorization:"
   ]
  },
  {
   "cell_type": "code",
   "execution_count": 13,
   "metadata": {},
   "outputs": [
    {
     "data": {
      "text/plain": [
       "CountVectorizer(analyzer='word', binary=False, decode_error='strict',\n",
       "        dtype='float', encoding='utf-8', input='content', lowercase=True,\n",
       "        max_df=1.0, max_features=None, min_df=1, ngram_range=(1, 2),\n",
       "        preprocessor=None, stop_words=None, strip_accents=None,\n",
       "        token_pattern='(?u)\\\\b\\\\w\\\\w+\\\\b', tokenizer=None, vocabulary=None)"
      ]
     },
     "execution_count": 13,
     "metadata": {},
     "output_type": "execute_result"
    }
   ],
   "source": [
    "BOW1=CountVectorizer(ngram_range=(1,2),dtype='float')\n",
    "BOW1.fit(train['New'])"
   ]
  },
  {
   "cell_type": "code",
   "execution_count": 14,
   "metadata": {},
   "outputs": [],
   "source": [
    "BOW1_train= BOW1.transform(train['New'])\n",
    "BOW1_test=BOW1.transform(test['New'])"
   ]
  },
  {
   "cell_type": "code",
   "execution_count": 19,
   "metadata": {},
   "outputs": [
    {
     "data": {
      "text/plain": [
       "(254920, 2184164)"
      ]
     },
     "execution_count": 19,
     "metadata": {},
     "output_type": "execute_result"
    }
   ],
   "source": [
    "BOW1_train.shape"
   ]
  },
  {
   "cell_type": "code",
   "execution_count": 15,
   "metadata": {},
   "outputs": [],
   "source": [
    "scaler=StandardScaler(with_mean=False)\n",
    "std_BOW1_train=scaler.fit_transform(BOW1_train)\n",
    "std_BOW1_test=scaler.transform(BOW1_test)"
   ]
  },
  {
   "cell_type": "markdown",
   "metadata": {},
   "source": [
    "### Cross validation :"
   ]
  },
  {
   "cell_type": "raw",
   "metadata": {},
   "source": [
    "CV-1:"
   ]
  },
  {
   "cell_type": "code",
   "execution_count": 19,
   "metadata": {},
   "outputs": [],
   "source": [
    "BOW1_grid=grid_s(std_BOW1_train[:10000])"
   ]
  },
  {
   "cell_type": "code",
   "execution_count": 20,
   "metadata": {
    "scrolled": true
   },
   "outputs": [
    {
     "name": "stdout",
     "output_type": "stream",
     "text": [
      "Fitting 10 folds for each of 25 candidates, totalling 250 fits\n",
      "[CV] max_depth=1 .....................................................\n",
      "[CV] ...................................... max_depth=1, total=   1.8s\n",
      "[CV] max_depth=1 .....................................................\n"
     ]
    },
    {
     "name": "stderr",
     "output_type": "stream",
     "text": [
      "[Parallel(n_jobs=1)]: Done   1 out of   1 | elapsed:    1.8s remaining:    0.0s\n"
     ]
    },
    {
     "name": "stdout",
     "output_type": "stream",
     "text": [
      "[CV] ...................................... max_depth=1, total=   2.0s\n",
      "[CV] max_depth=1 .....................................................\n",
      "[CV] ...................................... max_depth=1, total=   2.3s\n",
      "[CV] max_depth=1 .....................................................\n",
      "[CV] ...................................... max_depth=1, total=   2.5s\n",
      "[CV] max_depth=1 .....................................................\n",
      "[CV] ...................................... max_depth=1, total=   3.0s\n",
      "[CV] max_depth=1 .....................................................\n",
      "[CV] ...................................... max_depth=1, total=   3.4s\n",
      "[CV] max_depth=1 .....................................................\n",
      "[CV] ...................................... max_depth=1, total=   3.9s\n",
      "[CV] max_depth=1 .....................................................\n",
      "[CV] ...................................... max_depth=1, total=   4.6s\n",
      "[CV] max_depth=1 .....................................................\n",
      "[CV] ...................................... max_depth=1, total=   4.5s\n",
      "[CV] max_depth=1 .....................................................\n",
      "[CV] ...................................... max_depth=1, total=   5.0s\n",
      "[CV] max_depth=3 .....................................................\n",
      "[CV] ...................................... max_depth=3, total=   2.4s\n",
      "[CV] max_depth=3 .....................................................\n",
      "[CV] ...................................... max_depth=3, total=   2.7s\n",
      "[CV] max_depth=3 .....................................................\n",
      "[CV] ...................................... max_depth=3, total=   2.8s\n",
      "[CV] max_depth=3 .....................................................\n",
      "[CV] ...................................... max_depth=3, total=   3.6s\n",
      "[CV] max_depth=3 .....................................................\n",
      "[CV] ...................................... max_depth=3, total=   4.1s\n",
      "[CV] max_depth=3 .....................................................\n",
      "[CV] ...................................... max_depth=3, total=   4.4s\n",
      "[CV] max_depth=3 .....................................................\n",
      "[CV] ...................................... max_depth=3, total=   4.9s\n",
      "[CV] max_depth=3 .....................................................\n",
      "[CV] ...................................... max_depth=3, total=   5.3s\n",
      "[CV] max_depth=3 .....................................................\n",
      "[CV] ...................................... max_depth=3, total=   6.1s\n",
      "[CV] max_depth=3 .....................................................\n",
      "[CV] ...................................... max_depth=3, total=   6.5s\n",
      "[CV] max_depth=5 .....................................................\n",
      "[CV] ...................................... max_depth=5, total=   3.4s\n",
      "[CV] max_depth=5 .....................................................\n",
      "[CV] ...................................... max_depth=5, total=   4.4s\n",
      "[CV] max_depth=5 .....................................................\n",
      "[CV] ...................................... max_depth=5, total=   4.3s\n",
      "[CV] max_depth=5 .....................................................\n",
      "[CV] ...................................... max_depth=5, total=   6.0s\n",
      "[CV] max_depth=5 .....................................................\n",
      "[CV] ...................................... max_depth=5, total=   6.7s\n",
      "[CV] max_depth=5 .....................................................\n",
      "[CV] ...................................... max_depth=5, total=   7.3s\n",
      "[CV] max_depth=5 .....................................................\n",
      "[CV] ...................................... max_depth=5, total=   8.2s\n",
      "[CV] max_depth=5 .....................................................\n",
      "[CV] ...................................... max_depth=5, total=   8.7s\n",
      "[CV] max_depth=5 .....................................................\n",
      "[CV] ...................................... max_depth=5, total=   9.1s\n",
      "[CV] max_depth=5 .....................................................\n",
      "[CV] ...................................... max_depth=5, total=   9.7s\n",
      "[CV] max_depth=7 .....................................................\n",
      "[CV] ...................................... max_depth=7, total=   4.0s\n",
      "[CV] max_depth=7 .....................................................\n",
      "[CV] ...................................... max_depth=7, total=   5.9s\n",
      "[CV] max_depth=7 .....................................................\n",
      "[CV] ...................................... max_depth=7, total=   7.1s\n",
      "[CV] max_depth=7 .....................................................\n",
      "[CV] ...................................... max_depth=7, total=  10.2s\n",
      "[CV] max_depth=7 .....................................................\n",
      "[CV] ...................................... max_depth=7, total=  10.9s\n",
      "[CV] max_depth=7 .....................................................\n",
      "[CV] ...................................... max_depth=7, total=  12.0s\n",
      "[CV] max_depth=7 .....................................................\n",
      "[CV] ...................................... max_depth=7, total=  12.7s\n",
      "[CV] max_depth=7 .....................................................\n",
      "[CV] ...................................... max_depth=7, total=  13.3s\n",
      "[CV] max_depth=7 .....................................................\n",
      "[CV] ...................................... max_depth=7, total=  12.4s\n",
      "[CV] max_depth=7 .....................................................\n",
      "[CV] ...................................... max_depth=7, total=  12.7s\n",
      "[CV] max_depth=9 .....................................................\n",
      "[CV] ...................................... max_depth=9, total=   3.9s\n",
      "[CV] max_depth=9 .....................................................\n",
      "[CV] ...................................... max_depth=9, total=   6.3s\n",
      "[CV] max_depth=9 .....................................................\n",
      "[CV] ...................................... max_depth=9, total=  11.7s\n",
      "[CV] max_depth=9 .....................................................\n",
      "[CV] ...................................... max_depth=9, total=  13.6s\n",
      "[CV] max_depth=9 .....................................................\n",
      "[CV] ...................................... max_depth=9, total=  14.9s\n",
      "[CV] max_depth=9 .....................................................\n",
      "[CV] ...................................... max_depth=9, total=  16.4s\n",
      "[CV] max_depth=9 .....................................................\n",
      "[CV] ...................................... max_depth=9, total=  16.2s\n",
      "[CV] max_depth=9 .....................................................\n",
      "[CV] ...................................... max_depth=9, total=  17.4s\n",
      "[CV] max_depth=9 .....................................................\n",
      "[CV] ...................................... max_depth=9, total=  20.4s\n",
      "[CV] max_depth=9 .....................................................\n",
      "[CV] ...................................... max_depth=9, total=  20.5s\n",
      "[CV] max_depth=11 ....................................................\n",
      "[CV] ..................................... max_depth=11, total=   4.8s\n",
      "[CV] max_depth=11 ....................................................\n",
      "[CV] ..................................... max_depth=11, total=   7.7s\n",
      "[CV] max_depth=11 ....................................................\n",
      "[CV] ..................................... max_depth=11, total=  11.7s\n",
      "[CV] max_depth=11 ....................................................\n",
      "[CV] ..................................... max_depth=11, total=  17.7s\n",
      "[CV] max_depth=11 ....................................................\n",
      "[CV] ..................................... max_depth=11, total=  25.4s\n",
      "[CV] max_depth=11 ....................................................\n",
      "[CV] ..................................... max_depth=11, total=  23.5s\n",
      "[CV] max_depth=11 ....................................................\n",
      "[CV] ..................................... max_depth=11, total=  24.5s\n",
      "[CV] max_depth=11 ....................................................\n",
      "[CV] ..................................... max_depth=11, total=  25.2s\n",
      "[CV] max_depth=11 ....................................................\n",
      "[CV] ..................................... max_depth=11, total=  24.6s\n",
      "[CV] max_depth=11 ....................................................\n"
     ]
    },
    {
     "name": "stdout",
     "output_type": "stream",
     "text": [
      "[CV] ..................................... max_depth=11, total=  23.8s\n",
      "[CV] max_depth=13 ....................................................\n",
      "[CV] ..................................... max_depth=13, total=   5.4s\n",
      "[CV] max_depth=13 ....................................................\n",
      "[CV] ..................................... max_depth=13, total=   7.8s\n",
      "[CV] max_depth=13 ....................................................\n",
      "[CV] ..................................... max_depth=13, total=  15.7s\n",
      "[CV] max_depth=13 ....................................................\n",
      "[CV] ..................................... max_depth=13, total=  19.8s\n",
      "[CV] max_depth=13 ....................................................\n",
      "[CV] ..................................... max_depth=13, total=  24.2s\n",
      "[CV] max_depth=13 ....................................................\n",
      "[CV] ..................................... max_depth=13, total=  27.6s\n",
      "[CV] max_depth=13 ....................................................\n",
      "[CV] ..................................... max_depth=13, total=  29.7s\n",
      "[CV] max_depth=13 ....................................................\n",
      "[CV] ..................................... max_depth=13, total=  32.0s\n",
      "[CV] max_depth=13 ....................................................\n",
      "[CV] ..................................... max_depth=13, total=  29.4s\n",
      "[CV] max_depth=13 ....................................................\n",
      "[CV] ..................................... max_depth=13, total=  32.9s\n",
      "[CV] max_depth=15 ....................................................\n",
      "[CV] ..................................... max_depth=15, total=   6.4s\n",
      "[CV] max_depth=15 ....................................................\n",
      "[CV] ..................................... max_depth=15, total=   8.4s\n",
      "[CV] max_depth=15 ....................................................\n",
      "[CV] ..................................... max_depth=15, total=  16.3s\n",
      "[CV] max_depth=15 ....................................................\n",
      "[CV] ..................................... max_depth=15, total=  19.1s\n",
      "[CV] max_depth=15 ....................................................\n",
      "[CV] ..................................... max_depth=15, total=  22.4s\n",
      "[CV] max_depth=15 ....................................................\n",
      "[CV] ..................................... max_depth=15, total=  25.9s\n",
      "[CV] max_depth=15 ....................................................\n",
      "[CV] ..................................... max_depth=15, total=  30.2s\n",
      "[CV] max_depth=15 ....................................................\n",
      "[CV] ..................................... max_depth=15, total=  33.4s\n",
      "[CV] max_depth=15 ....................................................\n",
      "[CV] ..................................... max_depth=15, total=  34.7s\n",
      "[CV] max_depth=15 ....................................................\n",
      "[CV] ..................................... max_depth=15, total=  36.5s\n",
      "[CV] max_depth=17 ....................................................\n",
      "[CV] ..................................... max_depth=17, total=   6.5s\n",
      "[CV] max_depth=17 ....................................................\n",
      "[CV] ..................................... max_depth=17, total=   8.7s\n",
      "[CV] max_depth=17 ....................................................\n",
      "[CV] ..................................... max_depth=17, total=  15.8s\n",
      "[CV] max_depth=17 ....................................................\n",
      "[CV] ..................................... max_depth=17, total=  20.0s\n",
      "[CV] max_depth=17 ....................................................\n",
      "[CV] ..................................... max_depth=17, total=  24.2s\n",
      "[CV] max_depth=17 ....................................................\n",
      "[CV] ..................................... max_depth=17, total=  29.1s\n",
      "[CV] max_depth=17 ....................................................\n",
      "[CV] ..................................... max_depth=17, total=  34.9s\n",
      "[CV] max_depth=17 ....................................................\n",
      "[CV] ..................................... max_depth=17, total=  41.6s\n",
      "[CV] max_depth=17 ....................................................\n",
      "[CV] ..................................... max_depth=17, total=  40.0s\n",
      "[CV] max_depth=17 ....................................................\n",
      "[CV] ..................................... max_depth=17, total=  40.6s\n",
      "[CV] max_depth=19 ....................................................\n",
      "[CV] ..................................... max_depth=19, total=   6.8s\n",
      "[CV] max_depth=19 ....................................................\n",
      "[CV] ..................................... max_depth=19, total=   9.7s\n",
      "[CV] max_depth=19 ....................................................\n",
      "[CV] ..................................... max_depth=19, total=  17.6s\n",
      "[CV] max_depth=19 ....................................................\n",
      "[CV] ..................................... max_depth=19, total=  21.0s\n",
      "[CV] max_depth=19 ....................................................\n",
      "[CV] ..................................... max_depth=19, total=  28.1s\n",
      "[CV] max_depth=19 ....................................................\n",
      "[CV] ..................................... max_depth=19, total=  39.5s\n",
      "[CV] max_depth=19 ....................................................\n",
      "[CV] ..................................... max_depth=19, total=  36.8s\n",
      "[CV] max_depth=19 ....................................................\n",
      "[CV] ..................................... max_depth=19, total=  47.0s\n",
      "[CV] max_depth=19 ....................................................\n",
      "[CV] ..................................... max_depth=19, total=  55.2s\n",
      "[CV] max_depth=19 ....................................................\n",
      "[CV] ..................................... max_depth=19, total=  51.1s\n",
      "[CV] max_depth=21 ....................................................\n",
      "[CV] ..................................... max_depth=21, total=   7.4s\n",
      "[CV] max_depth=21 ....................................................\n",
      "[CV] ..................................... max_depth=21, total=  10.0s\n",
      "[CV] max_depth=21 ....................................................\n",
      "[CV] ..................................... max_depth=21, total=  17.8s\n",
      "[CV] max_depth=21 ....................................................\n",
      "[CV] ..................................... max_depth=21, total=  23.7s\n",
      "[CV] max_depth=21 ....................................................\n",
      "[CV] ..................................... max_depth=21, total=  31.8s\n",
      "[CV] max_depth=21 ....................................................\n",
      "[CV] ..................................... max_depth=21, total=  36.0s\n",
      "[CV] max_depth=21 ....................................................\n",
      "[CV] ..................................... max_depth=21, total=  39.2s\n",
      "[CV] max_depth=21 ....................................................\n",
      "[CV] ..................................... max_depth=21, total=  46.1s\n",
      "[CV] max_depth=21 ....................................................\n",
      "[CV] ..................................... max_depth=21, total=  52.6s\n",
      "[CV] max_depth=21 ....................................................\n",
      "[CV] ..................................... max_depth=21, total=  57.1s\n",
      "[CV] max_depth=23 ....................................................\n",
      "[CV] ..................................... max_depth=23, total=   9.2s\n",
      "[CV] max_depth=23 ....................................................\n",
      "[CV] ..................................... max_depth=23, total=  12.4s\n",
      "[CV] max_depth=23 ....................................................\n",
      "[CV] ..................................... max_depth=23, total=  21.7s\n",
      "[CV] max_depth=23 ....................................................\n",
      "[CV] ..................................... max_depth=23, total=  28.4s\n",
      "[CV] max_depth=23 ....................................................\n",
      "[CV] ..................................... max_depth=23, total=  31.0s\n",
      "[CV] max_depth=23 ....................................................\n",
      "[CV] ..................................... max_depth=23, total=  37.0s\n",
      "[CV] max_depth=23 ....................................................\n",
      "[CV] ..................................... max_depth=23, total=  46.5s\n",
      "[CV] max_depth=23 ....................................................\n"
     ]
    },
    {
     "name": "stdout",
     "output_type": "stream",
     "text": [
      "[CV] ..................................... max_depth=23, total=  44.9s\n",
      "[CV] max_depth=23 ....................................................\n",
      "[CV] ..................................... max_depth=23, total=  51.2s\n",
      "[CV] max_depth=23 ....................................................\n",
      "[CV] ..................................... max_depth=23, total=  58.3s\n",
      "[CV] max_depth=25 ....................................................\n",
      "[CV] ..................................... max_depth=25, total=   9.6s\n",
      "[CV] max_depth=25 ....................................................\n",
      "[CV] ..................................... max_depth=25, total=  12.9s\n",
      "[CV] max_depth=25 ....................................................\n",
      "[CV] ..................................... max_depth=25, total=  22.8s\n",
      "[CV] max_depth=25 ....................................................\n",
      "[CV] ..................................... max_depth=25, total=  27.9s\n",
      "[CV] max_depth=25 ....................................................\n",
      "[CV] ..................................... max_depth=25, total=  33.1s\n",
      "[CV] max_depth=25 ....................................................\n",
      "[CV] ..................................... max_depth=25, total=  40.5s\n",
      "[CV] max_depth=25 ....................................................\n",
      "[CV] ..................................... max_depth=25, total=  48.0s\n",
      "[CV] max_depth=25 ....................................................\n",
      "[CV] ..................................... max_depth=25, total=  55.3s\n",
      "[CV] max_depth=25 ....................................................\n",
      "[CV] ..................................... max_depth=25, total= 1.0min\n",
      "[CV] max_depth=25 ....................................................\n",
      "[CV] ..................................... max_depth=25, total=  54.5s\n",
      "[CV] max_depth=27 ....................................................\n",
      "[CV] ..................................... max_depth=27, total=   8.6s\n",
      "[CV] max_depth=27 ....................................................\n",
      "[CV] ..................................... max_depth=27, total=  11.9s\n",
      "[CV] max_depth=27 ....................................................\n",
      "[CV] ..................................... max_depth=27, total=  21.0s\n",
      "[CV] max_depth=27 ....................................................\n",
      "[CV] ..................................... max_depth=27, total=  24.7s\n",
      "[CV] max_depth=27 ....................................................\n",
      "[CV] ..................................... max_depth=27, total=  35.7s\n",
      "[CV] max_depth=27 ....................................................\n",
      "[CV] ..................................... max_depth=27, total=  36.4s\n",
      "[CV] max_depth=27 ....................................................\n",
      "[CV] ..................................... max_depth=27, total=  42.6s\n",
      "[CV] max_depth=27 ....................................................\n",
      "[CV] ..................................... max_depth=27, total=  47.7s\n",
      "[CV] max_depth=27 ....................................................\n",
      "[CV] ..................................... max_depth=27, total=  55.1s\n",
      "[CV] max_depth=27 ....................................................\n",
      "[CV] ..................................... max_depth=27, total=  58.1s\n",
      "[CV] max_depth=29 ....................................................\n",
      "[CV] ..................................... max_depth=29, total=   8.6s\n",
      "[CV] max_depth=29 ....................................................\n",
      "[CV] ..................................... max_depth=29, total=  11.9s\n",
      "[CV] max_depth=29 ....................................................\n",
      "[CV] ..................................... max_depth=29, total=  21.9s\n",
      "[CV] max_depth=29 ....................................................\n",
      "[CV] ..................................... max_depth=29, total=  24.9s\n",
      "[CV] max_depth=29 ....................................................\n",
      "[CV] ..................................... max_depth=29, total=  29.5s\n",
      "[CV] max_depth=29 ....................................................\n",
      "[CV] ..................................... max_depth=29, total=  38.0s\n",
      "[CV] max_depth=29 ....................................................\n",
      "[CV] ..................................... max_depth=29, total=  43.4s\n",
      "[CV] max_depth=29 ....................................................\n",
      "[CV] ..................................... max_depth=29, total=  50.1s\n",
      "[CV] max_depth=29 ....................................................\n",
      "[CV] ..................................... max_depth=29, total=  56.7s\n",
      "[CV] max_depth=29 ....................................................\n",
      "[CV] ..................................... max_depth=29, total=  59.5s\n",
      "[CV] max_depth=31 ....................................................\n",
      "[CV] ..................................... max_depth=31, total=   8.9s\n",
      "[CV] max_depth=31 ....................................................\n",
      "[CV] ..................................... max_depth=31, total=  12.5s\n",
      "[CV] max_depth=31 ....................................................\n",
      "[CV] ..................................... max_depth=31, total=  23.3s\n",
      "[CV] max_depth=31 ....................................................\n",
      "[CV] ..................................... max_depth=31, total=  25.0s\n",
      "[CV] max_depth=31 ....................................................\n",
      "[CV] ..................................... max_depth=31, total=  30.9s\n",
      "[CV] max_depth=31 ....................................................\n",
      "[CV] ..................................... max_depth=31, total=  39.7s\n",
      "[CV] max_depth=31 ....................................................\n",
      "[CV] ..................................... max_depth=31, total=  47.0s\n",
      "[CV] max_depth=31 ....................................................\n",
      "[CV] ..................................... max_depth=31, total=  52.6s\n",
      "[CV] max_depth=31 ....................................................\n",
      "[CV] ..................................... max_depth=31, total=  59.0s\n",
      "[CV] max_depth=31 ....................................................\n",
      "[CV] ..................................... max_depth=31, total= 1.0min\n",
      "[CV] max_depth=33 ....................................................\n",
      "[CV] ..................................... max_depth=33, total=   8.9s\n",
      "[CV] max_depth=33 ....................................................\n",
      "[CV] ..................................... max_depth=33, total=  12.8s\n",
      "[CV] max_depth=33 ....................................................\n",
      "[CV] ..................................... max_depth=33, total=  24.0s\n",
      "[CV] max_depth=33 ....................................................\n",
      "[CV] ..................................... max_depth=33, total=  25.5s\n",
      "[CV] max_depth=33 ....................................................\n",
      "[CV] ..................................... max_depth=33, total=  32.7s\n",
      "[CV] max_depth=33 ....................................................\n",
      "[CV] ..................................... max_depth=33, total=  43.6s\n",
      "[CV] max_depth=33 ....................................................\n",
      "[CV] ..................................... max_depth=33, total=  47.2s\n",
      "[CV] max_depth=33 ....................................................\n",
      "[CV] ..................................... max_depth=33, total=  53.6s\n",
      "[CV] max_depth=33 ....................................................\n",
      "[CV] ..................................... max_depth=33, total=  59.9s\n",
      "[CV] max_depth=33 ....................................................\n",
      "[CV] ..................................... max_depth=33, total= 1.1min\n",
      "[CV] max_depth=35 ....................................................\n",
      "[CV] ..................................... max_depth=35, total=   9.9s\n",
      "[CV] max_depth=35 ....................................................\n",
      "[CV] ..................................... max_depth=35, total=  14.5s\n",
      "[CV] max_depth=35 ....................................................\n",
      "[CV] ..................................... max_depth=35, total=  31.1s\n",
      "[CV] max_depth=35 ....................................................\n",
      "[CV] ..................................... max_depth=35, total=  28.8s\n",
      "[CV] max_depth=35 ....................................................\n",
      "[CV] ..................................... max_depth=35, total=  45.3s\n",
      "[CV] max_depth=35 ....................................................\n"
     ]
    },
    {
     "name": "stdout",
     "output_type": "stream",
     "text": [
      "[CV] ..................................... max_depth=35, total=  56.1s\n",
      "[CV] max_depth=35 ....................................................\n",
      "[CV] ..................................... max_depth=35, total= 1.2min\n",
      "[CV] max_depth=35 ....................................................\n",
      "[CV] ..................................... max_depth=35, total= 1.3min\n",
      "[CV] max_depth=35 ....................................................\n",
      "[CV] ..................................... max_depth=35, total= 1.4min\n",
      "[CV] max_depth=35 ....................................................\n",
      "[CV] ..................................... max_depth=35, total= 1.4min\n",
      "[CV] max_depth=37 ....................................................\n",
      "[CV] ..................................... max_depth=37, total=  11.8s\n",
      "[CV] max_depth=37 ....................................................\n",
      "[CV] ..................................... max_depth=37, total=  16.7s\n",
      "[CV] max_depth=37 ....................................................\n",
      "[CV] ..................................... max_depth=37, total=  30.1s\n",
      "[CV] max_depth=37 ....................................................\n",
      "[CV] ..................................... max_depth=37, total=  31.8s\n",
      "[CV] max_depth=37 ....................................................\n",
      "[CV] ..................................... max_depth=37, total=  38.9s\n",
      "[CV] max_depth=37 ....................................................\n",
      "[CV] ..................................... max_depth=37, total=  53.2s\n",
      "[CV] max_depth=37 ....................................................\n",
      "[CV] ..................................... max_depth=37, total=  58.7s\n",
      "[CV] max_depth=37 ....................................................\n",
      "[CV] ..................................... max_depth=37, total= 1.1min\n",
      "[CV] max_depth=37 ....................................................\n",
      "[CV] ..................................... max_depth=37, total= 1.2min\n",
      "[CV] max_depth=37 ....................................................\n",
      "[CV] ..................................... max_depth=37, total= 1.1min\n",
      "[CV] max_depth=39 ....................................................\n",
      "[CV] ..................................... max_depth=39, total=   9.6s\n",
      "[CV] max_depth=39 ....................................................\n",
      "[CV] ..................................... max_depth=39, total=  14.3s\n",
      "[CV] max_depth=39 ....................................................\n",
      "[CV] ..................................... max_depth=39, total=  25.9s\n",
      "[CV] max_depth=39 ....................................................\n",
      "[CV] ..................................... max_depth=39, total=  27.3s\n",
      "[CV] max_depth=39 ....................................................\n",
      "[CV] ..................................... max_depth=39, total=  33.6s\n",
      "[CV] max_depth=39 ....................................................\n",
      "[CV] ..................................... max_depth=39, total=  44.2s\n",
      "[CV] max_depth=39 ....................................................\n",
      "[CV] ..................................... max_depth=39, total=  53.6s\n",
      "[CV] max_depth=39 ....................................................\n",
      "[CV] ..................................... max_depth=39, total= 1.2min\n",
      "[CV] max_depth=39 ....................................................\n",
      "[CV] ..................................... max_depth=39, total= 1.2min\n",
      "[CV] max_depth=39 ....................................................\n",
      "[CV] ..................................... max_depth=39, total= 1.3min\n",
      "[CV] max_depth=41 ....................................................\n",
      "[CV] ..................................... max_depth=41, total=  11.0s\n",
      "[CV] max_depth=41 ....................................................\n",
      "[CV] ..................................... max_depth=41, total=  16.9s\n",
      "[CV] max_depth=41 ....................................................\n",
      "[CV] ..................................... max_depth=41, total=  29.7s\n",
      "[CV] max_depth=41 ....................................................\n",
      "[CV] ..................................... max_depth=41, total=  32.5s\n",
      "[CV] max_depth=41 ....................................................\n",
      "[CV] ..................................... max_depth=41, total=  34.0s\n",
      "[CV] max_depth=41 ....................................................\n",
      "[CV] ..................................... max_depth=41, total=  46.0s\n",
      "[CV] max_depth=41 ....................................................\n",
      "[CV] ..................................... max_depth=41, total=  52.6s\n",
      "[CV] max_depth=41 ....................................................\n",
      "[CV] ..................................... max_depth=41, total=  58.9s\n",
      "[CV] max_depth=41 ....................................................\n",
      "[CV] ..................................... max_depth=41, total= 1.1min\n",
      "[CV] max_depth=41 ....................................................\n",
      "[CV] ..................................... max_depth=41, total= 1.1min\n",
      "[CV] max_depth=43 ....................................................\n",
      "[CV] ..................................... max_depth=43, total=  10.4s\n",
      "[CV] max_depth=43 ....................................................\n",
      "[CV] ..................................... max_depth=43, total=  15.1s\n",
      "[CV] max_depth=43 ....................................................\n",
      "[CV] ..................................... max_depth=43, total=  26.3s\n",
      "[CV] max_depth=43 ....................................................\n",
      "[CV] ..................................... max_depth=43, total=  28.7s\n",
      "[CV] max_depth=43 ....................................................\n",
      "[CV] ..................................... max_depth=43, total=  35.5s\n",
      "[CV] max_depth=43 ....................................................\n",
      "[CV] ..................................... max_depth=43, total=  46.6s\n",
      "[CV] max_depth=43 ....................................................\n",
      "[CV] ..................................... max_depth=43, total=  53.6s\n",
      "[CV] max_depth=43 ....................................................\n",
      "[CV] ..................................... max_depth=43, total= 1.0min\n",
      "[CV] max_depth=43 ....................................................\n",
      "[CV] ..................................... max_depth=43, total= 1.1min\n",
      "[CV] max_depth=43 ....................................................\n",
      "[CV] ..................................... max_depth=43, total= 1.2min\n",
      "[CV] max_depth=45 ....................................................\n",
      "[CV] ..................................... max_depth=45, total=  10.4s\n",
      "[CV] max_depth=45 ....................................................\n",
      "[CV] ..................................... max_depth=45, total=  16.2s\n",
      "[CV] max_depth=45 ....................................................\n",
      "[CV] ..................................... max_depth=45, total=  27.1s\n",
      "[CV] max_depth=45 ....................................................\n",
      "[CV] ..................................... max_depth=45, total=  29.3s\n",
      "[CV] max_depth=45 ....................................................\n",
      "[CV] ..................................... max_depth=45, total=  37.6s\n",
      "[CV] max_depth=45 ....................................................\n",
      "[CV] ..................................... max_depth=45, total=  53.4s\n",
      "[CV] max_depth=45 ....................................................\n",
      "[CV] ..................................... max_depth=45, total= 1.0min\n",
      "[CV] max_depth=45 ....................................................\n",
      "[CV] ..................................... max_depth=45, total= 1.0min\n",
      "[CV] max_depth=45 ....................................................\n",
      "[CV] ..................................... max_depth=45, total= 1.1min\n",
      "[CV] max_depth=45 ....................................................\n",
      "[CV] ..................................... max_depth=45, total= 1.2min\n",
      "[CV] max_depth=47 ....................................................\n",
      "[CV] ..................................... max_depth=47, total=  10.6s\n",
      "[CV] max_depth=47 ....................................................\n",
      "[CV] ..................................... max_depth=47, total=  15.9s\n",
      "[CV] max_depth=47 ....................................................\n",
      "[CV] ..................................... max_depth=47, total=  27.7s\n",
      "[CV] max_depth=47 ....................................................\n"
     ]
    },
    {
     "name": "stdout",
     "output_type": "stream",
     "text": [
      "[CV] ..................................... max_depth=47, total=  30.2s\n",
      "[CV] max_depth=47 ....................................................\n",
      "[CV] ..................................... max_depth=47, total=  36.6s\n",
      "[CV] max_depth=47 ....................................................\n",
      "[CV] ..................................... max_depth=47, total=  47.9s\n",
      "[CV] max_depth=47 ....................................................\n",
      "[CV] ..................................... max_depth=47, total=  55.3s\n",
      "[CV] max_depth=47 ....................................................\n",
      "[CV] ..................................... max_depth=47, total= 1.0min\n",
      "[CV] max_depth=47 ....................................................\n",
      "[CV] ..................................... max_depth=47, total= 1.2min\n",
      "[CV] max_depth=47 ....................................................\n",
      "[CV] ..................................... max_depth=47, total= 1.2min\n",
      "[CV] max_depth=49 ....................................................\n",
      "[CV] ..................................... max_depth=49, total=  10.9s\n",
      "[CV] max_depth=49 ....................................................\n",
      "[CV] ..................................... max_depth=49, total=  16.2s\n",
      "[CV] max_depth=49 ....................................................\n",
      "[CV] ..................................... max_depth=49, total=  28.3s\n",
      "[CV] max_depth=49 ....................................................\n",
      "[CV] ..................................... max_depth=49, total=  30.7s\n",
      "[CV] max_depth=49 ....................................................\n",
      "[CV] ..................................... max_depth=49, total=  38.2s\n",
      "[CV] max_depth=49 ....................................................\n",
      "[CV] ..................................... max_depth=49, total=  48.5s\n",
      "[CV] max_depth=49 ....................................................\n",
      "[CV] ..................................... max_depth=49, total=  55.2s\n",
      "[CV] max_depth=49 ....................................................\n",
      "[CV] ..................................... max_depth=49, total= 1.1min\n",
      "[CV] max_depth=49 ....................................................\n",
      "[CV] ..................................... max_depth=49, total= 1.2min\n",
      "[CV] max_depth=49 ....................................................\n",
      "[CV] ..................................... max_depth=49, total= 1.2min\n"
     ]
    },
    {
     "name": "stderr",
     "output_type": "stream",
     "text": [
      "[Parallel(n_jobs=1)]: Done 250 out of 250 | elapsed: 126.9min finished\n"
     ]
    },
    {
     "data": {
      "text/plain": [
       "GridSearchCV(cv=<generator object TimeSeriesSplit.split at 0x0000024869144A40>,\n",
       "       error_score='raise',\n",
       "       estimator=DecisionTreeClassifier(class_weight='balanced', criterion='gini',\n",
       "            max_depth=None, max_features=None, max_leaf_nodes=None,\n",
       "            min_impurity_decrease=0.0, min_impurity_split=None,\n",
       "            min_samples_leaf=1, min_samples_split=2,\n",
       "            min_weight_fraction_leaf=0.0, presort=False, random_state=3,\n",
       "            splitter='best'),\n",
       "       fit_params=None, iid=True, n_jobs=1,\n",
       "       param_grid=[{'max_depth': range(1, 50, 2)}],\n",
       "       pre_dispatch='2*n_jobs', refit=True, return_train_score='warn',\n",
       "       scoring='accuracy', verbose=2)"
      ]
     },
     "execution_count": 20,
     "metadata": {},
     "output_type": "execute_result"
    }
   ],
   "source": [
    "BOW1_grid.fit(std_BOW1_train[0:10000],train['Score'][:10000])"
   ]
  },
  {
   "cell_type": "code",
   "execution_count": 21,
   "metadata": {},
   "outputs": [
    {
     "data": {
      "text/plain": [
       "DecisionTreeClassifier(class_weight='balanced', criterion='gini',\n",
       "            max_depth=49, max_features=None, max_leaf_nodes=None,\n",
       "            min_impurity_decrease=0.0, min_impurity_split=None,\n",
       "            min_samples_leaf=1, min_samples_split=2,\n",
       "            min_weight_fraction_leaf=0.0, presort=False, random_state=3,\n",
       "            splitter='best')"
      ]
     },
     "execution_count": 21,
     "metadata": {},
     "output_type": "execute_result"
    }
   ],
   "source": [
    "BOW1_grid.best_estimator_"
   ]
  },
  {
   "cell_type": "code",
   "execution_count": 22,
   "metadata": {},
   "outputs": [
    {
     "data": {
      "text/plain": [
       "0.7962596259625963"
      ]
     },
     "execution_count": 22,
     "metadata": {},
     "output_type": "execute_result"
    }
   ],
   "source": [
    "BOW1_grid.best_score_"
   ]
  },
  {
   "cell_type": "code",
   "execution_count": 23,
   "metadata": {},
   "outputs": [
    {
     "data": {
      "image/png": "[encoded data removed]",
      "text/plain": [
       "<Figure size 864x504 with 1 Axes>"
      ]
     },
     "metadata": {},
     "output_type": "display_data"
    }
   ],
   "source": [
    "plotter(BOW1_grid)"
   ]
  },
  {
   "cell_type": "raw",
   "metadata": {},
   "source": [
    "CV-2:"
   ]
  },
  {
   "cell_type": "code",
   "execution_count": 32,
   "metadata": {},
   "outputs": [],
   "source": [
    "BOW1_grid=grid_s(std_BOW1_train[:10000],[10,100,150,200,250,300])"
   ]
  },
  {
   "cell_type": "code",
   "execution_count": 33,
   "metadata": {
    "scrolled": true
   },
   "outputs": [
    {
     "name": "stdout",
     "output_type": "stream",
     "text": [
      "Fitting 10 folds for each of 6 candidates, totalling 60 fits\n",
      "[CV] max_depth=10 ....................................................\n",
      "[CV] ..................................... max_depth=10, total=   7.5s\n",
      "[CV] max_depth=10 ....................................................\n"
     ]
    },
    {
     "name": "stderr",
     "output_type": "stream",
     "text": [
      "[Parallel(n_jobs=1)]: Done   1 out of   1 | elapsed:    7.6s remaining:    0.0s\n"
     ]
    },
    {
     "name": "stdout",
     "output_type": "stream",
     "text": [
      "[CV] ..................................... max_depth=10, total=  10.8s\n",
      "[CV] max_depth=10 ....................................................\n",
      "[CV] ..................................... max_depth=10, total=  15.5s\n",
      "[CV] max_depth=10 ....................................................\n",
      "[CV] ..................................... max_depth=10, total=  22.4s\n",
      "[CV] max_depth=10 ....................................................\n",
      "[CV] ..................................... max_depth=10, total=  24.4s\n",
      "[CV] max_depth=10 ....................................................\n",
      "[CV] ..................................... max_depth=10, total=  35.7s\n",
      "[CV] max_depth=10 ....................................................\n",
      "[CV] ..................................... max_depth=10, total=  29.2s\n",
      "[CV] max_depth=10 ....................................................\n",
      "[CV] ..................................... max_depth=10, total=  30.9s\n",
      "[CV] max_depth=10 ....................................................\n",
      "[CV] ..................................... max_depth=10, total=  31.7s\n",
      "[CV] max_depth=10 ....................................................\n",
      "[CV] ..................................... max_depth=10, total=  28.3s\n",
      "[CV] max_depth=100 ...................................................\n",
      "[CV] .................................... max_depth=100, total=  21.2s\n",
      "[CV] max_depth=100 ...................................................\n",
      "[CV] .................................... max_depth=100, total=  37.4s\n",
      "[CV] max_depth=100 ...................................................\n",
      "[CV] .................................... max_depth=100, total=  57.7s\n",
      "[CV] max_depth=100 ...................................................\n",
      "[CV] .................................... max_depth=100, total= 1.2min\n",
      "[CV] max_depth=100 ...................................................\n",
      "[CV] .................................... max_depth=100, total= 1.2min\n",
      "[CV] max_depth=100 ...................................................\n",
      "[CV] .................................... max_depth=100, total= 1.5min\n",
      "[CV] max_depth=100 ...................................................\n",
      "[CV] .................................... max_depth=100, total= 1.6min\n",
      "[CV] max_depth=100 ...................................................\n",
      "[CV] .................................... max_depth=100, total= 2.2min\n",
      "[CV] max_depth=100 ...................................................\n",
      "[CV] .................................... max_depth=100, total= 2.3min\n",
      "[CV] max_depth=100 ...................................................\n",
      "[CV] .................................... max_depth=100, total= 2.6min\n",
      "[CV] max_depth=150 ...................................................\n",
      "[CV] .................................... max_depth=150, total=  16.9s\n",
      "[CV] max_depth=150 ...................................................\n",
      "[CV] .................................... max_depth=150, total=  35.3s\n",
      "[CV] max_depth=150 ...................................................\n",
      "[CV] .................................... max_depth=150, total=  59.3s\n",
      "[CV] max_depth=150 ...................................................\n",
      "[CV] .................................... max_depth=150, total= 1.3min\n",
      "[CV] max_depth=150 ...................................................\n",
      "[CV] .................................... max_depth=150, total= 1.1min\n",
      "[CV] max_depth=150 ...................................................\n",
      "[CV] .................................... max_depth=150, total= 1.3min\n",
      "[CV] max_depth=150 ...................................................\n",
      "[CV] .................................... max_depth=150, total= 1.5min\n",
      "[CV] max_depth=150 ...................................................\n",
      "[CV] .................................... max_depth=150, total= 1.8min\n",
      "[CV] max_depth=150 ...................................................\n",
      "[CV] .................................... max_depth=150, total= 2.0min\n",
      "[CV] max_depth=150 ...................................................\n",
      "[CV] .................................... max_depth=150, total= 2.3min\n",
      "[CV] max_depth=200 ...................................................\n",
      "[CV] .................................... max_depth=200, total=  17.1s\n",
      "[CV] max_depth=200 ...................................................\n",
      "[CV] .................................... max_depth=200, total=  35.0s\n",
      "[CV] max_depth=200 ...................................................\n",
      "[CV] .................................... max_depth=200, total=  53.3s\n",
      "[CV] max_depth=200 ...................................................\n",
      "[CV] .................................... max_depth=200, total= 1.0min\n",
      "[CV] max_depth=200 ...................................................\n",
      "[CV] .................................... max_depth=200, total= 1.3min\n",
      "[CV] max_depth=200 ...................................................\n",
      "[CV] .................................... max_depth=200, total= 1.4min\n",
      "[CV] max_depth=200 ...................................................\n",
      "[CV] .................................... max_depth=200, total= 1.5min\n",
      "[CV] max_depth=200 ...................................................\n",
      "[CV] .................................... max_depth=200, total= 1.8min\n",
      "[CV] max_depth=200 ...................................................\n",
      "[CV] .................................... max_depth=200, total= 2.1min\n",
      "[CV] max_depth=200 ...................................................\n",
      "[CV] .................................... max_depth=200, total= 2.2min\n",
      "[CV] max_depth=250 ...................................................\n",
      "[CV] .................................... max_depth=250, total=  16.9s\n",
      "[CV] max_depth=250 ...................................................\n",
      "[CV] .................................... max_depth=250, total=  35.3s\n",
      "[CV] max_depth=250 ...................................................\n",
      "[CV] .................................... max_depth=250, total=  50.3s\n",
      "[CV] max_depth=250 ...................................................\n",
      "[CV] .................................... max_depth=250, total= 1.0min\n",
      "[CV] max_depth=250 ...................................................\n",
      "[CV] .................................... max_depth=250, total= 1.2min\n",
      "[CV] max_depth=250 ...................................................\n",
      "[CV] .................................... max_depth=250, total= 1.4min\n",
      "[CV] max_depth=250 ...................................................\n",
      "[CV] .................................... max_depth=250, total= 1.6min\n",
      "[CV] max_depth=250 ...................................................\n",
      "[CV] .................................... max_depth=250, total= 1.8min\n",
      "[CV] max_depth=250 ...................................................\n",
      "[CV] .................................... max_depth=250, total= 2.1min\n",
      "[CV] max_depth=250 ...................................................\n",
      "[CV] .................................... max_depth=250, total= 2.3min\n",
      "[CV] max_depth=300 ...................................................\n",
      "[CV] .................................... max_depth=300, total=  17.0s\n",
      "[CV] max_depth=300 ...................................................\n",
      "[CV] .................................... max_depth=300, total=  34.4s\n",
      "[CV] max_depth=300 ...................................................\n",
      "[CV] .................................... max_depth=300, total=  49.3s\n",
      "[CV] max_depth=300 ...................................................\n",
      "[CV] .................................... max_depth=300, total= 1.1min\n",
      "[CV] max_depth=300 ...................................................\n",
      "[CV] .................................... max_depth=300, total= 1.2min\n",
      "[CV] max_depth=300 ...................................................\n",
      "[CV] .................................... max_depth=300, total= 1.5min\n",
      "[CV] max_depth=300 ...................................................\n",
      "[CV] .................................... max_depth=300, total= 1.7min\n",
      "[CV] max_depth=300 ...................................................\n",
      "[CV] .................................... max_depth=300, total= 1.9min\n",
      "[CV] max_depth=300 ...................................................\n",
      "[CV] .................................... max_depth=300, total= 2.2min\n",
      "[CV] max_depth=300 ...................................................\n"
     ]
    },
    {
     "name": "stdout",
     "output_type": "stream",
     "text": [
      "[CV] .................................... max_depth=300, total= 2.4min\n"
     ]
    },
    {
     "name": "stderr",
     "output_type": "stream",
     "text": [
      "[Parallel(n_jobs=1)]: Done  60 out of  60 | elapsed: 71.7min finished\n"
     ]
    },
    {
     "data": {
      "text/plain": [
       "GridSearchCV(cv=<generator object TimeSeriesSplit.split at 0x000001784B2D8BF8>,\n",
       "       error_score='raise',\n",
       "       estimator=DecisionTreeClassifier(class_weight='balanced', criterion='gini',\n",
       "            max_depth=None, max_features=None, max_leaf_nodes=None,\n",
       "            min_impurity_decrease=0.0, min_impurity_split=None,\n",
       "            min_samples_leaf=1, min_samples_split=2,\n",
       "            min_weight_fraction_leaf=0.0, presort=False, random_state=3,\n",
       "            splitter='best'),\n",
       "       fit_params=None, iid=True, n_jobs=1,\n",
       "       param_grid=[{'max_depth': [10, 100, 150, 200, 250, 300]}],\n",
       "       pre_dispatch='2*n_jobs', refit=True, return_train_score='warn',\n",
       "       scoring='accuracy', verbose=2)"
      ]
     },
     "execution_count": 33,
     "metadata": {},
     "output_type": "execute_result"
    }
   ],
   "source": [
    "BOW1_grid.fit(std_BOW1_train[0:10000],train['Score'][:10000])"
   ]
  },
  {
   "cell_type": "code",
   "execution_count": 34,
   "metadata": {},
   "outputs": [
    {
     "data": {
      "text/plain": [
       "DecisionTreeClassifier(class_weight='balanced', criterion='gini',\n",
       "            max_depth=200, max_features=None, max_leaf_nodes=None,\n",
       "            min_impurity_decrease=0.0, min_impurity_split=None,\n",
       "            min_samples_leaf=1, min_samples_split=2,\n",
       "            min_weight_fraction_leaf=0.0, presort=False, random_state=3,\n",
       "            splitter='best')"
      ]
     },
     "execution_count": 34,
     "metadata": {},
     "output_type": "execute_result"
    }
   ],
   "source": [
    "BOW1_grid.best_estimator_"
   ]
  },
  {
   "cell_type": "code",
   "execution_count": 35,
   "metadata": {},
   "outputs": [
    {
     "data": {
      "text/plain": [
       "0.8127612761276127"
      ]
     },
     "execution_count": 35,
     "metadata": {},
     "output_type": "execute_result"
    }
   ],
   "source": [
    "BOW1_grid.best_score_"
   ]
  },
  {
   "cell_type": "code",
   "execution_count": 36,
   "metadata": {},
   "outputs": [
    {
     "data": {
      "image/png": "[encoded data removed]",
      "text/plain": [
       "<Figure size 864x504 with 1 Axes>"
      ]
     },
     "metadata": {},
     "output_type": "display_data"
    }
   ],
   "source": [
    "plotter(BOW1_grid)"
   ]
  },
  {
   "cell_type": "markdown",
   "metadata": {},
   "source": [
    "The inflection point is obtained at the <b>depth of 100."
   ]
  },
  {
   "cell_type": "raw",
   "metadata": {},
   "source": [
    "Randomized CV:"
   ]
  },
  {
   "cell_type": "code",
   "execution_count": 21,
   "metadata": {},
   "outputs": [],
   "source": [
    "#Random Search\n",
    "BOW_rand=random_s(std_BOW1_train[:10000])"
   ]
  },
  {
   "cell_type": "code",
   "execution_count": 22,
   "metadata": {
    "scrolled": true
   },
   "outputs": [
    {
     "name": "stdout",
     "output_type": "stream",
     "text": [
      "Fitting 10 folds for each of 1 candidates, totalling 10 fits\n",
      "[CV] max_depth=2953.0519475390406 ....................................\n",
      "[CV] ..................... max_depth=2953.0519475390406, total=  21.7s\n",
      "[CV] max_depth=2953.0519475390406 ....................................\n"
     ]
    },
    {
     "name": "stderr",
     "output_type": "stream",
     "text": [
      "[Parallel(n_jobs=1)]: Done   1 out of   1 | elapsed:   21.7s remaining:    0.0s\n"
     ]
    },
    {
     "name": "stdout",
     "output_type": "stream",
     "text": [
      "[CV] ..................... max_depth=2953.0519475390406, total=  45.3s\n",
      "[CV] max_depth=2953.0519475390406 ....................................\n",
      "[CV] ..................... max_depth=2953.0519475390406, total= 1.1min\n",
      "[CV] max_depth=2953.0519475390406 ....................................\n",
      "[CV] ..................... max_depth=2953.0519475390406, total= 1.1min\n",
      "[CV] max_depth=2953.0519475390406 ....................................\n",
      "[CV] ..................... max_depth=2953.0519475390406, total= 1.1min\n",
      "[CV] max_depth=2953.0519475390406 ....................................\n",
      "[CV] ..................... max_depth=2953.0519475390406, total= 1.5min\n",
      "[CV] max_depth=2953.0519475390406 ....................................\n",
      "[CV] ..................... max_depth=2953.0519475390406, total= 2.1min\n",
      "[CV] max_depth=2953.0519475390406 ....................................\n",
      "[CV] ..................... max_depth=2953.0519475390406, total= 1.9min\n",
      "[CV] max_depth=2953.0519475390406 ....................................\n",
      "[CV] ..................... max_depth=2953.0519475390406, total= 2.7min\n",
      "[CV] max_depth=2953.0519475390406 ....................................\n",
      "[CV] ..................... max_depth=2953.0519475390406, total= 2.9min\n"
     ]
    },
    {
     "name": "stderr",
     "output_type": "stream",
     "text": [
      "[Parallel(n_jobs=1)]: Done  10 out of  10 | elapsed: 15.7min finished\n"
     ]
    },
    {
     "data": {
      "text/plain": [
       "GridSearchCV(cv=<generator object TimeSeriesSplit.split at 0x00000184802AC938>,\n",
       "       error_score='raise',\n",
       "       estimator=DecisionTreeClassifier(class_weight='balanced', criterion='gini',\n",
       "            max_depth=None, max_features=None, max_leaf_nodes=None,\n",
       "            min_impurity_decrease=0.0, min_impurity_split=None,\n",
       "            min_samples_leaf=1, min_samples_split=2,\n",
       "            min_weight_fraction_leaf=0.0, presort=False, random_state=3,\n",
       "            splitter='best'),\n",
       "       fit_params=None, iid=True, n_jobs=1,\n",
       "       param_grid={'max_depth': [2953.0519475390406]},\n",
       "       pre_dispatch='2*n_jobs', refit=True, return_train_score='warn',\n",
       "       scoring='accuracy', verbose=2)"
      ]
     },
     "execution_count": 22,
     "metadata": {},
     "output_type": "execute_result"
    }
   ],
   "source": [
    "BOW_rand.fit(std_BOW1_train[:10000],train['Score'][:10000])"
   ]
  },
  {
   "cell_type": "code",
   "execution_count": 23,
   "metadata": {},
   "outputs": [
    {
     "data": {
      "text/plain": [
       "DecisionTreeClassifier(class_weight='balanced', criterion='gini',\n",
       "            max_depth=2953.0519475390406, max_features=None,\n",
       "            max_leaf_nodes=None, min_impurity_decrease=0.0,\n",
       "            min_impurity_split=None, min_samples_leaf=1,\n",
       "            min_samples_split=2, min_weight_fraction_leaf=0.0,\n",
       "            presort=False, random_state=3, splitter='best')"
      ]
     },
     "execution_count": 23,
     "metadata": {},
     "output_type": "execute_result"
    }
   ],
   "source": [
    "BOW_rand.best_estimator_"
   ]
  },
  {
   "cell_type": "code",
   "execution_count": 25,
   "metadata": {},
   "outputs": [
    {
     "data": {
      "text/plain": [
       "0.8115511551155116"
      ]
     },
     "execution_count": 25,
     "metadata": {},
     "output_type": "execute_result"
    }
   ],
   "source": [
    "BOW_rand.best_score_"
   ]
  },
  {
   "cell_type": "markdown",
   "metadata": {},
   "source": [
    "### Implementation:"
   ]
  },
  {
   "cell_type": "code",
   "execution_count": 37,
   "metadata": {},
   "outputs": [],
   "source": [
    "dt=DecisionTreeClassifier(class_weight='balanced', criterion='gini',\n",
    "            max_depth=100, max_features=None, max_leaf_nodes=None,\n",
    "            min_impurity_decrease=0.0, min_impurity_split=None,\n",
    "            min_samples_leaf=1, min_samples_split=2,\n",
    "            min_weight_fraction_leaf=0.0, presort=False, random_state=3,\n",
    "            splitter='best')\n"
   ]
  },
  {
   "cell_type": "code",
   "execution_count": 38,
   "metadata": {},
   "outputs": [
    {
     "data": {
      "text/plain": [
       "DecisionTreeClassifier(class_weight='balanced', criterion='gini',\n",
       "            max_depth=100, max_features=None, max_leaf_nodes=None,\n",
       "            min_impurity_decrease=0.0, min_impurity_split=None,\n",
       "            min_samples_leaf=1, min_samples_split=2,\n",
       "            min_weight_fraction_leaf=0.0, presort=False, random_state=3,\n",
       "            splitter='best')"
      ]
     },
     "execution_count": 38,
     "metadata": {},
     "output_type": "execute_result"
    }
   ],
   "source": [
    "dt.fit(std_BOW1_train,train['Score'])"
   ]
  },
  {
   "cell_type": "code",
   "execution_count": 39,
   "metadata": {},
   "outputs": [],
   "source": [
    "pred=dt.predict(std_BOW1_test)"
   ]
  },
  {
   "cell_type": "code",
   "execution_count": 40,
   "metadata": {},
   "outputs": [
    {
     "name": "stdout",
     "output_type": "stream",
     "text": [
      "82.167668945822\n"
     ]
    }
   ],
   "source": [
    "acc=accuracy_score(pred,test['Score'])\n",
    "print(acc*100)"
   ]
  },
  {
   "cell_type": "markdown",
   "metadata": {},
   "source": [
    "## Performace of Decision tree model with BOW_Bigram:"
   ]
  },
  {
   "cell_type": "code",
   "execution_count": 41,
   "metadata": {},
   "outputs": [
    {
     "name": "stdout",
     "output_type": "stream",
     "text": [
      "\n",
      "******************************************************************************* \n",
      "\n",
      " Accuracy is 0.82167668945822\n",
      "\n",
      "******************************************************************************* \n",
      "\n",
      " TNR value is 0.636025365546879\n",
      " FNR value is 0.3639746344531209\n",
      " FPR value is 0.13903737384939557\n",
      " TPR value is 0.8609626261506044\n",
      "\n",
      "******************************************************************************* \n",
      "\n",
      " Confusion Matrix is :\n",
      "[[12136  6945]\n",
      " [12537 77633]]\n",
      "\n",
      "******************************************************************************* \n",
      "\n",
      " Precision is 0.8609626261506044\n",
      " Recall value is 0.9178864480124855\n",
      " F1 Score is 0.8885137455078169\n",
      "\n",
      "******************************************************************************* \n",
      "\n",
      "Heat Map of the Confusion matrix is\n",
      "\n",
      "******************************************************************************* \n",
      "\n"
     ]
    },
    {
     "data": {
      "image/png": "[encoded data removed]",
      "text/plain": [
       "<Figure size 432x288 with 2 Axes>"
      ]
     },
     "metadata": {},
     "output_type": "display_data"
    }
   ],
   "source": [
    "CM(test['Score'],pred)"
   ]
  },
  {
   "cell_type": "markdown",
   "metadata": {},
   "source": [
    "### Saving the tree to a PDF file."
   ]
  },
  {
   "cell_type": "code",
   "execution_count": 17,
   "metadata": {},
   "outputs": [
    {
     "data": {
      "text/plain": [
       "'G:\\\\ML\\\\Exercises\\\\ex 7\\\\Graphviz\\\\BOW_Bigram.pdf'"
      ]
     },
     "execution_count": 17,
     "metadata": {},
     "output_type": "execute_result"
    }
   ],
   "source": [
    "tmp=tree_viz(std_BOW1_train,train['Score'],BOW1)\n",
    "tmp.render(filename='G:\\ML\\Exercises\\ex 7\\Graphviz\\BOW_Bigram')"
   ]
  },
  {
   "cell_type": "markdown",
   "metadata": {},
   "source": [
    "## Feature Importance:"
   ]
  },
  {
   "cell_type": "code",
   "execution_count": 81,
   "metadata": {},
   "outputs": [
    {
     "name": "stdout",
     "output_type": "stream",
     "text": [
      "Top 20 important features are : \n",
      "\n"
     ]
    },
    {
     "data": {
      "image/png": "[encoded data removed]",
      "text/plain": [
       "<Figure size 432x432 with 1 Axes>"
      ]
     },
     "metadata": {},
     "output_type": "display_data"
    }
   ],
   "source": [
    "feat_importance(dt,BOW1)"
   ]
  },
  {
   "cell_type": "raw",
   "metadata": {},
   "source": [
    "********************************************************************************************************************************"
   ]
  },
  {
   "cell_type": "markdown",
   "metadata": {},
   "source": [
    "# 3.) TF-IDF Vectorization:"
   ]
  },
  {
   "cell_type": "code",
   "execution_count": 19,
   "metadata": {},
   "outputs": [
    {
     "data": {
      "text/plain": [
       "TfidfVectorizer(analyzer='word', binary=False, decode_error='strict',\n",
       "        dtype='float', encoding='utf-8', input='content', lowercase=True,\n",
       "        max_df=1.0, max_features=None, min_df=1, ngram_range=(1, 1),\n",
       "        norm='l2', preprocessor=None, smooth_idf=True, stop_words=None,\n",
       "        strip_accents=None, sublinear_tf=False,\n",
       "        token_pattern='(?u)\\\\b\\\\w\\\\w+\\\\b', tokenizer=None, use_idf=True,\n",
       "        vocabulary=None)"
      ]
     },
     "execution_count": 19,
     "metadata": {},
     "output_type": "execute_result"
    }
   ],
   "source": [
    "tfidf=TfidfVectorizer(dtype='float')\n",
    "tfidf.fit(train['New'])"
   ]
  },
  {
   "cell_type": "code",
   "execution_count": 20,
   "metadata": {},
   "outputs": [],
   "source": [
    "tfidf_train= tfidf.transform(train['New'])\n",
    "tfidf_test= tfidf.transform(test['New'])"
   ]
  },
  {
   "cell_type": "code",
   "execution_count": 17,
   "metadata": {},
   "outputs": [
    {
     "data": {
      "text/plain": [
       "(254920, 55207)"
      ]
     },
     "execution_count": 17,
     "metadata": {},
     "output_type": "execute_result"
    }
   ],
   "source": [
    "tfidf_train.shape"
   ]
  },
  {
   "cell_type": "code",
   "execution_count": 21,
   "metadata": {},
   "outputs": [],
   "source": [
    "scaler=StandardScaler(with_mean=False)\n",
    "std_tfidf_train=scaler.fit_transform(tfidf_train)\n",
    "std_tfidf_test=scaler.transform(tfidf_test)"
   ]
  },
  {
   "cell_type": "markdown",
   "metadata": {},
   "source": [
    "### Cross validation :"
   ]
  },
  {
   "cell_type": "raw",
   "metadata": {},
   "source": [
    "CV-1:"
   ]
  },
  {
   "cell_type": "code",
   "execution_count": 31,
   "metadata": {},
   "outputs": [],
   "source": [
    "t_grid=grid_s(std_tfidf_train[:10000])"
   ]
  },
  {
   "cell_type": "code",
   "execution_count": 32,
   "metadata": {
    "scrolled": true
   },
   "outputs": [
    {
     "name": "stdout",
     "output_type": "stream",
     "text": [
      "Fitting 10 folds for each of 25 candidates, totalling 250 fits\n",
      "[CV] max_depth=1 .....................................................\n",
      "[CV] ...................................... max_depth=1, total=   0.0s\n",
      "[CV] max_depth=1 .....................................................\n",
      "[CV] ...................................... max_depth=1, total=   0.0s\n",
      "[CV] max_depth=1 .....................................................\n"
     ]
    },
    {
     "name": "stderr",
     "output_type": "stream",
     "text": [
      "[Parallel(n_jobs=1)]: Done   1 out of   1 | elapsed:    0.0s remaining:    0.0s\n"
     ]
    },
    {
     "name": "stdout",
     "output_type": "stream",
     "text": [
      "[CV] ...................................... max_depth=1, total=   0.0s\n",
      "[CV] max_depth=1 .....................................................\n",
      "[CV] ...................................... max_depth=1, total=   0.0s\n",
      "[CV] max_depth=1 .....................................................\n",
      "[CV] ...................................... max_depth=1, total=   0.1s\n",
      "[CV] max_depth=1 .....................................................\n",
      "[CV] ...................................... max_depth=1, total=   0.1s\n",
      "[CV] max_depth=1 .....................................................\n",
      "[CV] ...................................... max_depth=1, total=   0.1s\n",
      "[CV] max_depth=1 .....................................................\n",
      "[CV] ...................................... max_depth=1, total=   0.2s\n",
      "[CV] max_depth=1 .....................................................\n",
      "[CV] ...................................... max_depth=1, total=   0.1s\n",
      "[CV] max_depth=1 .....................................................\n",
      "[CV] ...................................... max_depth=1, total=   0.2s\n",
      "[CV] max_depth=3 .....................................................\n",
      "[CV] ...................................... max_depth=3, total=   0.0s\n",
      "[CV] max_depth=3 .....................................................\n",
      "[CV] ...................................... max_depth=3, total=   0.0s\n",
      "[CV] max_depth=3 .....................................................\n",
      "[CV] ...................................... max_depth=3, total=   0.1s\n",
      "[CV] max_depth=3 .....................................................\n",
      "[CV] ...................................... max_depth=3, total=   0.1s\n",
      "[CV] max_depth=3 .....................................................\n",
      "[CV] ...................................... max_depth=3, total=   0.2s\n",
      "[CV] max_depth=3 .....................................................\n",
      "[CV] ...................................... max_depth=3, total=   0.2s\n",
      "[CV] max_depth=3 .....................................................\n",
      "[CV] ...................................... max_depth=3, total=   0.2s\n",
      "[CV] max_depth=3 .....................................................\n",
      "[CV] ...................................... max_depth=3, total=   0.2s\n",
      "[CV] max_depth=3 .....................................................\n",
      "[CV] ...................................... max_depth=3, total=   0.3s\n",
      "[CV] max_depth=3 .....................................................\n",
      "[CV] ...................................... max_depth=3, total=   0.3s\n",
      "[CV] max_depth=5 .....................................................\n",
      "[CV] ...................................... max_depth=5, total=   0.0s\n",
      "[CV] max_depth=5 .....................................................\n",
      "[CV] ...................................... max_depth=5, total=   0.1s\n",
      "[CV] max_depth=5 .....................................................\n",
      "[CV] ...................................... max_depth=5, total=   0.1s\n",
      "[CV] max_depth=5 .....................................................\n",
      "[CV] ...................................... max_depth=5, total=   0.2s\n",
      "[CV] max_depth=5 .....................................................\n",
      "[CV] ...................................... max_depth=5, total=   0.3s\n",
      "[CV] max_depth=5 .....................................................\n",
      "[CV] ...................................... max_depth=5, total=   0.3s\n",
      "[CV] max_depth=5 .....................................................\n",
      "[CV] ...................................... max_depth=5, total=   0.4s\n",
      "[CV] max_depth=5 .....................................................\n",
      "[CV] ...................................... max_depth=5, total=   0.4s\n",
      "[CV] max_depth=5 .....................................................\n",
      "[CV] ...................................... max_depth=5, total=   0.4s\n",
      "[CV] max_depth=5 .....................................................\n",
      "[CV] ...................................... max_depth=5, total=   0.6s\n",
      "[CV] max_depth=7 .....................................................\n",
      "[CV] ...................................... max_depth=7, total=   0.1s\n",
      "[CV] max_depth=7 .....................................................\n",
      "[CV] ...................................... max_depth=7, total=   0.2s\n",
      "[CV] max_depth=7 .....................................................\n",
      "[CV] ...................................... max_depth=7, total=   0.2s\n",
      "[CV] max_depth=7 .....................................................\n",
      "[CV] ...................................... max_depth=7, total=   0.3s\n",
      "[CV] max_depth=7 .....................................................\n",
      "[CV] ...................................... max_depth=7, total=   0.4s\n",
      "[CV] max_depth=7 .....................................................\n",
      "[CV] ...................................... max_depth=7, total=   0.5s\n",
      "[CV] max_depth=7 .....................................................\n",
      "[CV] ...................................... max_depth=7, total=   0.5s\n",
      "[CV] max_depth=7 .....................................................\n",
      "[CV] ...................................... max_depth=7, total=   0.6s\n",
      "[CV] max_depth=7 .....................................................\n",
      "[CV] ...................................... max_depth=7, total=   0.7s\n",
      "[CV] max_depth=7 .....................................................\n",
      "[CV] ...................................... max_depth=7, total=   0.7s\n",
      "[CV] max_depth=9 .....................................................\n",
      "[CV] ...................................... max_depth=9, total=   0.0s\n",
      "[CV] max_depth=9 .....................................................\n",
      "[CV] ...................................... max_depth=9, total=   0.1s\n",
      "[CV] max_depth=9 .....................................................\n",
      "[CV] ...................................... max_depth=9, total=   0.3s\n",
      "[CV] max_depth=9 .....................................................\n",
      "[CV] ...................................... max_depth=9, total=   0.4s\n",
      "[CV] max_depth=9 .....................................................\n",
      "[CV] ...................................... max_depth=9, total=   0.6s\n",
      "[CV] max_depth=9 .....................................................\n",
      "[CV] ...................................... max_depth=9, total=   0.6s\n",
      "[CV] max_depth=9 .....................................................\n",
      "[CV] ...................................... max_depth=9, total=   0.8s\n",
      "[CV] max_depth=9 .....................................................\n",
      "[CV] ...................................... max_depth=9, total=   0.8s\n",
      "[CV] max_depth=9 .....................................................\n",
      "[CV] ...................................... max_depth=9, total=   1.4s\n",
      "[CV] max_depth=9 .....................................................\n",
      "[CV] ...................................... max_depth=9, total=   1.0s\n",
      "[CV] max_depth=11 ....................................................\n",
      "[CV] ..................................... max_depth=11, total=   0.1s\n",
      "[CV] max_depth=11 ....................................................\n",
      "[CV] ..................................... max_depth=11, total=   0.2s\n",
      "[CV] max_depth=11 ....................................................\n",
      "[CV] ..................................... max_depth=11, total=   0.3s\n",
      "[CV] max_depth=11 ....................................................\n",
      "[CV] ..................................... max_depth=11, total=   0.6s\n",
      "[CV] max_depth=11 ....................................................\n",
      "[CV] ..................................... max_depth=11, total=   0.9s\n",
      "[CV] max_depth=11 ....................................................\n",
      "[CV] ..................................... max_depth=11, total=   0.9s\n",
      "[CV] max_depth=11 ....................................................\n",
      "[CV] ..................................... max_depth=11, total=   0.9s\n",
      "[CV] max_depth=11 ....................................................\n",
      "[CV] ..................................... max_depth=11, total=   1.1s\n",
      "[CV] max_depth=11 ....................................................\n",
      "[CV] ..................................... max_depth=11, total=   1.1s\n",
      "[CV] max_depth=11 ....................................................\n",
      "[CV] ..................................... max_depth=11, total=   1.8s\n",
      "[CV] max_depth=13 ....................................................\n"
     ]
    },
    {
     "name": "stdout",
     "output_type": "stream",
     "text": [
      "[CV] ..................................... max_depth=13, total=   0.2s\n",
      "[CV] max_depth=13 ....................................................\n",
      "[CV] ..................................... max_depth=13, total=   0.4s\n",
      "[CV] max_depth=13 ....................................................\n",
      "[CV] ..................................... max_depth=13, total=   0.5s\n",
      "[CV] max_depth=13 ....................................................\n",
      "[CV] ..................................... max_depth=13, total=   0.6s\n",
      "[CV] max_depth=13 ....................................................\n",
      "[CV] ..................................... max_depth=13, total=   0.8s\n",
      "[CV] max_depth=13 ....................................................\n",
      "[CV] ..................................... max_depth=13, total=   0.8s\n",
      "[CV] max_depth=13 ....................................................\n",
      "[CV] ..................................... max_depth=13, total=   1.1s\n",
      "[CV] max_depth=13 ....................................................\n",
      "[CV] ..................................... max_depth=13, total=   1.3s\n",
      "[CV] max_depth=13 ....................................................\n",
      "[CV] ..................................... max_depth=13, total=   1.3s\n",
      "[CV] max_depth=13 ....................................................\n",
      "[CV] ..................................... max_depth=13, total=   1.6s\n",
      "[CV] max_depth=15 ....................................................\n",
      "[CV] ..................................... max_depth=15, total=   0.1s\n",
      "[CV] max_depth=15 ....................................................\n",
      "[CV] ..................................... max_depth=15, total=   0.2s\n",
      "[CV] max_depth=15 ....................................................\n",
      "[CV] ..................................... max_depth=15, total=   0.5s\n",
      "[CV] max_depth=15 ....................................................\n",
      "[CV] ..................................... max_depth=15, total=   0.6s\n",
      "[CV] max_depth=15 ....................................................\n",
      "[CV] ..................................... max_depth=15, total=   0.8s\n",
      "[CV] max_depth=15 ....................................................\n",
      "[CV] ..................................... max_depth=15, total=   1.0s\n",
      "[CV] max_depth=15 ....................................................\n",
      "[CV] ..................................... max_depth=15, total=   1.2s\n",
      "[CV] max_depth=15 ....................................................\n",
      "[CV] ..................................... max_depth=15, total=   1.5s\n",
      "[CV] max_depth=15 ....................................................\n",
      "[CV] ..................................... max_depth=15, total=   1.5s\n",
      "[CV] max_depth=15 ....................................................\n",
      "[CV] ..................................... max_depth=15, total=   1.7s\n",
      "[CV] max_depth=17 ....................................................\n",
      "[CV] ..................................... max_depth=17, total=   0.1s\n",
      "[CV] max_depth=17 ....................................................\n",
      "[CV] ..................................... max_depth=17, total=   0.2s\n",
      "[CV] max_depth=17 ....................................................\n",
      "[CV] ..................................... max_depth=17, total=   0.4s\n",
      "[CV] max_depth=17 ....................................................\n",
      "[CV] ..................................... max_depth=17, total=   0.6s\n",
      "[CV] max_depth=17 ....................................................\n",
      "[CV] ..................................... max_depth=17, total=   0.9s\n",
      "[CV] max_depth=17 ....................................................\n",
      "[CV] ..................................... max_depth=17, total=   1.2s\n",
      "[CV] max_depth=17 ....................................................\n",
      "[CV] ..................................... max_depth=17, total=   1.4s\n",
      "[CV] max_depth=17 ....................................................\n",
      "[CV] ..................................... max_depth=17, total=   1.9s\n",
      "[CV] max_depth=17 ....................................................\n",
      "[CV] ..................................... max_depth=17, total=   2.0s\n",
      "[CV] max_depth=17 ....................................................\n",
      "[CV] ..................................... max_depth=17, total=   2.1s\n",
      "[CV] max_depth=19 ....................................................\n",
      "[CV] ..................................... max_depth=19, total=   0.1s\n",
      "[CV] max_depth=19 ....................................................\n",
      "[CV] ..................................... max_depth=19, total=   0.2s\n",
      "[CV] max_depth=19 ....................................................\n",
      "[CV] ..................................... max_depth=19, total=   0.5s\n",
      "[CV] max_depth=19 ....................................................\n",
      "[CV] ..................................... max_depth=19, total=   0.6s\n",
      "[CV] max_depth=19 ....................................................\n",
      "[CV] ..................................... max_depth=19, total=   1.0s\n",
      "[CV] max_depth=19 ....................................................\n",
      "[CV] ..................................... max_depth=19, total=   1.2s\n",
      "[CV] max_depth=19 ....................................................\n",
      "[CV] ..................................... max_depth=19, total=   1.4s\n",
      "[CV] max_depth=19 ....................................................\n",
      "[CV] ..................................... max_depth=19, total=   2.4s\n",
      "[CV] max_depth=19 ....................................................\n",
      "[CV] ..................................... max_depth=19, total=   2.9s\n",
      "[CV] max_depth=19 ....................................................\n",
      "[CV] ..................................... max_depth=19, total=   3.4s\n",
      "[CV] max_depth=21 ....................................................\n",
      "[CV] ..................................... max_depth=21, total=   0.2s\n",
      "[CV] max_depth=21 ....................................................\n",
      "[CV] ..................................... max_depth=21, total=   0.4s\n",
      "[CV] max_depth=21 ....................................................\n",
      "[CV] ..................................... max_depth=21, total=   0.7s\n",
      "[CV] max_depth=21 ....................................................\n",
      "[CV] ..................................... max_depth=21, total=   1.0s\n",
      "[CV] max_depth=21 ....................................................\n",
      "[CV] ..................................... max_depth=21, total=   1.6s\n",
      "[CV] max_depth=21 ....................................................\n",
      "[CV] ..................................... max_depth=21, total=   1.9s\n",
      "[CV] max_depth=21 ....................................................\n",
      "[CV] ..................................... max_depth=21, total=   1.6s\n",
      "[CV] max_depth=21 ....................................................\n",
      "[CV] ..................................... max_depth=21, total=   1.8s\n",
      "[CV] max_depth=21 ....................................................\n",
      "[CV] ..................................... max_depth=21, total=   2.1s\n",
      "[CV] max_depth=21 ....................................................\n",
      "[CV] ..................................... max_depth=21, total=   2.3s\n",
      "[CV] max_depth=23 ....................................................\n",
      "[CV] ..................................... max_depth=23, total=   0.1s\n",
      "[CV] max_depth=23 ....................................................\n",
      "[CV] ..................................... max_depth=23, total=   0.3s\n",
      "[CV] max_depth=23 ....................................................\n",
      "[CV] ..................................... max_depth=23, total=   0.6s\n",
      "[CV] max_depth=23 ....................................................\n",
      "[CV] ..................................... max_depth=23, total=   0.7s\n",
      "[CV] max_depth=23 ....................................................\n",
      "[CV] ..................................... max_depth=23, total=   1.1s\n",
      "[CV] max_depth=23 ....................................................\n",
      "[CV] ..................................... max_depth=23, total=   1.3s\n",
      "[CV] max_depth=23 ....................................................\n",
      "[CV] ..................................... max_depth=23, total=   1.6s\n",
      "[CV] max_depth=23 ....................................................\n",
      "[CV] ..................................... max_depth=23, total=   1.8s\n",
      "[CV] max_depth=23 ....................................................\n"
     ]
    },
    {
     "name": "stdout",
     "output_type": "stream",
     "text": [
      "[CV] ..................................... max_depth=23, total=   2.1s\n",
      "[CV] max_depth=23 ....................................................\n",
      "[CV] ..................................... max_depth=23, total=   2.5s\n",
      "[CV] max_depth=25 ....................................................\n",
      "[CV] ..................................... max_depth=25, total=   0.1s\n",
      "[CV] max_depth=25 ....................................................\n",
      "[CV] ..................................... max_depth=25, total=   0.3s\n",
      "[CV] max_depth=25 ....................................................\n",
      "[CV] ..................................... max_depth=25, total=   0.6s\n",
      "[CV] max_depth=25 ....................................................\n",
      "[CV] ..................................... max_depth=25, total=   0.7s\n",
      "[CV] max_depth=25 ....................................................\n",
      "[CV] ..................................... max_depth=25, total=   1.0s\n",
      "[CV] max_depth=25 ....................................................\n",
      "[CV] ..................................... max_depth=25, total=   1.5s\n",
      "[CV] max_depth=25 ....................................................\n",
      "[CV] ..................................... max_depth=25, total=   1.6s\n",
      "[CV] max_depth=25 ....................................................\n",
      "[CV] ..................................... max_depth=25, total=   2.0s\n",
      "[CV] max_depth=25 ....................................................\n",
      "[CV] ..................................... max_depth=25, total=   2.2s\n",
      "[CV] max_depth=25 ....................................................\n",
      "[CV] ..................................... max_depth=25, total=   2.6s\n",
      "[CV] max_depth=27 ....................................................\n",
      "[CV] ..................................... max_depth=27, total=   0.1s\n",
      "[CV] max_depth=27 ....................................................\n",
      "[CV] ..................................... max_depth=27, total=   0.4s\n",
      "[CV] max_depth=27 ....................................................\n",
      "[CV] ..................................... max_depth=27, total=   0.6s\n",
      "[CV] max_depth=27 ....................................................\n",
      "[CV] ..................................... max_depth=27, total=   0.8s\n",
      "[CV] max_depth=27 ....................................................\n",
      "[CV] ..................................... max_depth=27, total=   1.1s\n",
      "[CV] max_depth=27 ....................................................\n",
      "[CV] ..................................... max_depth=27, total=   1.4s\n",
      "[CV] max_depth=27 ....................................................\n",
      "[CV] ..................................... max_depth=27, total=   1.6s\n",
      "[CV] max_depth=27 ....................................................\n",
      "[CV] ..................................... max_depth=27, total=   2.0s\n",
      "[CV] max_depth=27 ....................................................\n",
      "[CV] ..................................... max_depth=27, total=   2.3s\n",
      "[CV] max_depth=27 ....................................................\n",
      "[CV] ..................................... max_depth=27, total=   2.7s\n",
      "[CV] max_depth=29 ....................................................\n",
      "[CV] ..................................... max_depth=29, total=   0.1s\n",
      "[CV] max_depth=29 ....................................................\n",
      "[CV] ..................................... max_depth=29, total=   0.3s\n",
      "[CV] max_depth=29 ....................................................\n",
      "[CV] ..................................... max_depth=29, total=   0.7s\n",
      "[CV] max_depth=29 ....................................................\n",
      "[CV] ..................................... max_depth=29, total=   0.8s\n",
      "[CV] max_depth=29 ....................................................\n",
      "[CV] ..................................... max_depth=29, total=   1.1s\n",
      "[CV] max_depth=29 ....................................................\n",
      "[CV] ..................................... max_depth=29, total=   1.5s\n",
      "[CV] max_depth=29 ....................................................\n",
      "[CV] ..................................... max_depth=29, total=   1.7s\n",
      "[CV] max_depth=29 ....................................................\n",
      "[CV] ..................................... max_depth=29, total=   2.1s\n",
      "[CV] max_depth=29 ....................................................\n",
      "[CV] ..................................... max_depth=29, total=   2.4s\n",
      "[CV] max_depth=29 ....................................................\n",
      "[CV] ..................................... max_depth=29, total=   3.0s\n",
      "[CV] max_depth=31 ....................................................\n",
      "[CV] ..................................... max_depth=31, total=   0.1s\n",
      "[CV] max_depth=31 ....................................................\n",
      "[CV] ..................................... max_depth=31, total=   0.4s\n",
      "[CV] max_depth=31 ....................................................\n",
      "[CV] ..................................... max_depth=31, total=   0.6s\n",
      "[CV] max_depth=31 ....................................................\n",
      "[CV] ..................................... max_depth=31, total=   0.8s\n",
      "[CV] max_depth=31 ....................................................\n",
      "[CV] ..................................... max_depth=31, total=   1.1s\n",
      "[CV] max_depth=31 ....................................................\n",
      "[CV] ..................................... max_depth=31, total=   1.5s\n",
      "[CV] max_depth=31 ....................................................\n",
      "[CV] ..................................... max_depth=31, total=   1.7s\n",
      "[CV] max_depth=31 ....................................................\n",
      "[CV] ..................................... max_depth=31, total=   2.0s\n",
      "[CV] max_depth=31 ....................................................\n",
      "[CV] ..................................... max_depth=31, total=   2.3s\n",
      "[CV] max_depth=31 ....................................................\n",
      "[CV] ..................................... max_depth=31, total=   2.8s\n",
      "[CV] max_depth=33 ....................................................\n",
      "[CV] ..................................... max_depth=33, total=   0.1s\n",
      "[CV] max_depth=33 ....................................................\n",
      "[CV] ..................................... max_depth=33, total=   0.4s\n",
      "[CV] max_depth=33 ....................................................\n",
      "[CV] ..................................... max_depth=33, total=   0.8s\n",
      "[CV] max_depth=33 ....................................................\n",
      "[CV] ..................................... max_depth=33, total=   1.0s\n",
      "[CV] max_depth=33 ....................................................\n",
      "[CV] ..................................... max_depth=33, total=   1.2s\n",
      "[CV] max_depth=33 ....................................................\n",
      "[CV] ..................................... max_depth=33, total=   1.5s\n",
      "[CV] max_depth=33 ....................................................\n",
      "[CV] ..................................... max_depth=33, total=   1.8s\n",
      "[CV] max_depth=33 ....................................................\n",
      "[CV] ..................................... max_depth=33, total=   2.1s\n",
      "[CV] max_depth=33 ....................................................\n",
      "[CV] ..................................... max_depth=33, total=   2.5s\n",
      "[CV] max_depth=33 ....................................................\n",
      "[CV] ..................................... max_depth=33, total=   3.0s\n",
      "[CV] max_depth=35 ....................................................\n",
      "[CV] ..................................... max_depth=35, total=   0.1s\n",
      "[CV] max_depth=35 ....................................................\n",
      "[CV] ..................................... max_depth=35, total=   0.3s\n",
      "[CV] max_depth=35 ....................................................\n",
      "[CV] ..................................... max_depth=35, total=   0.6s\n",
      "[CV] max_depth=35 ....................................................\n",
      "[CV] ..................................... max_depth=35, total=   0.9s\n",
      "[CV] max_depth=35 ....................................................\n",
      "[CV] ..................................... max_depth=35, total=   1.2s\n",
      "[CV] max_depth=35 ....................................................\n",
      "[CV] ..................................... max_depth=35, total=   1.6s\n",
      "[CV] max_depth=35 ....................................................\n"
     ]
    },
    {
     "name": "stdout",
     "output_type": "stream",
     "text": [
      "[CV] ..................................... max_depth=35, total=   1.8s\n",
      "[CV] max_depth=35 ....................................................\n",
      "[CV] ..................................... max_depth=35, total=   2.1s\n",
      "[CV] max_depth=35 ....................................................\n",
      "[CV] ..................................... max_depth=35, total=   2.5s\n",
      "[CV] max_depth=35 ....................................................\n",
      "[CV] ..................................... max_depth=35, total=   2.9s\n",
      "[CV] max_depth=37 ....................................................\n",
      "[CV] ..................................... max_depth=37, total=   0.1s\n",
      "[CV] max_depth=37 ....................................................\n",
      "[CV] ..................................... max_depth=37, total=   0.4s\n",
      "[CV] max_depth=37 ....................................................\n",
      "[CV] ..................................... max_depth=37, total=   0.7s\n",
      "[CV] max_depth=37 ....................................................\n",
      "[CV] ..................................... max_depth=37, total=   0.9s\n",
      "[CV] max_depth=37 ....................................................\n",
      "[CV] ..................................... max_depth=37, total=   1.2s\n",
      "[CV] max_depth=37 ....................................................\n",
      "[CV] ..................................... max_depth=37, total=   1.6s\n",
      "[CV] max_depth=37 ....................................................\n",
      "[CV] ..................................... max_depth=37, total=   1.8s\n",
      "[CV] max_depth=37 ....................................................\n",
      "[CV] ..................................... max_depth=37, total=   2.2s\n",
      "[CV] max_depth=37 ....................................................\n",
      "[CV] ..................................... max_depth=37, total=   2.5s\n",
      "[CV] max_depth=37 ....................................................\n",
      "[CV] ..................................... max_depth=37, total=   3.0s\n",
      "[CV] max_depth=39 ....................................................\n",
      "[CV] ..................................... max_depth=39, total=   0.1s\n",
      "[CV] max_depth=39 ....................................................\n",
      "[CV] ..................................... max_depth=39, total=   0.4s\n",
      "[CV] max_depth=39 ....................................................\n",
      "[CV] ..................................... max_depth=39, total=   0.7s\n",
      "[CV] max_depth=39 ....................................................\n",
      "[CV] ..................................... max_depth=39, total=   0.9s\n",
      "[CV] max_depth=39 ....................................................\n",
      "[CV] ..................................... max_depth=39, total=   1.2s\n",
      "[CV] max_depth=39 ....................................................\n",
      "[CV] ..................................... max_depth=39, total=   1.7s\n",
      "[CV] max_depth=39 ....................................................\n",
      "[CV] ..................................... max_depth=39, total=   1.8s\n",
      "[CV] max_depth=39 ....................................................\n",
      "[CV] ..................................... max_depth=39, total=   2.2s\n",
      "[CV] max_depth=39 ....................................................\n",
      "[CV] ..................................... max_depth=39, total=   2.6s\n",
      "[CV] max_depth=39 ....................................................\n",
      "[CV] ..................................... max_depth=39, total=   3.0s\n",
      "[CV] max_depth=41 ....................................................\n",
      "[CV] ..................................... max_depth=41, total=   0.2s\n",
      "[CV] max_depth=41 ....................................................\n",
      "[CV] ..................................... max_depth=41, total=   0.4s\n",
      "[CV] max_depth=41 ....................................................\n",
      "[CV] ..................................... max_depth=41, total=   0.7s\n",
      "[CV] max_depth=41 ....................................................\n",
      "[CV] ..................................... max_depth=41, total=   0.9s\n",
      "[CV] max_depth=41 ....................................................\n",
      "[CV] ..................................... max_depth=41, total=   1.2s\n",
      "[CV] max_depth=41 ....................................................\n",
      "[CV] ..................................... max_depth=41, total=   1.7s\n",
      "[CV] max_depth=41 ....................................................\n",
      "[CV] ..................................... max_depth=41, total=   1.9s\n",
      "[CV] max_depth=41 ....................................................\n",
      "[CV] ..................................... max_depth=41, total=   2.3s\n",
      "[CV] max_depth=41 ....................................................\n",
      "[CV] ..................................... max_depth=41, total=   2.6s\n",
      "[CV] max_depth=41 ....................................................\n",
      "[CV] ..................................... max_depth=41, total=   3.0s\n",
      "[CV] max_depth=43 ....................................................\n",
      "[CV] ..................................... max_depth=43, total=   0.2s\n",
      "[CV] max_depth=43 ....................................................\n",
      "[CV] ..................................... max_depth=43, total=   0.5s\n",
      "[CV] max_depth=43 ....................................................\n",
      "[CV] ..................................... max_depth=43, total=   0.7s\n",
      "[CV] max_depth=43 ....................................................\n",
      "[CV] ..................................... max_depth=43, total=   1.0s\n",
      "[CV] max_depth=43 ....................................................\n",
      "[CV] ..................................... max_depth=43, total=   1.3s\n",
      "[CV] max_depth=43 ....................................................\n",
      "[CV] ..................................... max_depth=43, total=   1.7s\n",
      "[CV] max_depth=43 ....................................................\n",
      "[CV] ..................................... max_depth=43, total=   1.9s\n",
      "[CV] max_depth=43 ....................................................\n",
      "[CV] ..................................... max_depth=43, total=   2.3s\n",
      "[CV] max_depth=43 ....................................................\n",
      "[CV] ..................................... max_depth=43, total=   2.6s\n",
      "[CV] max_depth=43 ....................................................\n",
      "[CV] ..................................... max_depth=43, total=   3.1s\n",
      "[CV] max_depth=45 ....................................................\n",
      "[CV] ..................................... max_depth=45, total=   0.1s\n",
      "[CV] max_depth=45 ....................................................\n",
      "[CV] ..................................... max_depth=45, total=   0.4s\n",
      "[CV] max_depth=45 ....................................................\n",
      "[CV] ..................................... max_depth=45, total=   0.7s\n",
      "[CV] max_depth=45 ....................................................\n",
      "[CV] ..................................... max_depth=45, total=   0.9s\n",
      "[CV] max_depth=45 ....................................................\n",
      "[CV] ..................................... max_depth=45, total=   1.4s\n",
      "[CV] max_depth=45 ....................................................\n",
      "[CV] ..................................... max_depth=45, total=   1.8s\n",
      "[CV] max_depth=45 ....................................................\n",
      "[CV] ..................................... max_depth=45, total=   2.0s\n",
      "[CV] max_depth=45 ....................................................\n",
      "[CV] ..................................... max_depth=45, total=   2.4s\n",
      "[CV] max_depth=45 ....................................................\n",
      "[CV] ..................................... max_depth=45, total=   2.6s\n",
      "[CV] max_depth=45 ....................................................\n",
      "[CV] ..................................... max_depth=45, total=   3.1s\n",
      "[CV] max_depth=47 ....................................................\n",
      "[CV] ..................................... max_depth=47, total=   0.2s\n",
      "[CV] max_depth=47 ....................................................\n",
      "[CV] ..................................... max_depth=47, total=   0.4s\n",
      "[CV] max_depth=47 ....................................................\n",
      "[CV] ..................................... max_depth=47, total=   0.8s\n",
      "[CV] max_depth=47 ....................................................\n",
      "[CV] ..................................... max_depth=47, total=   1.5s\n",
      "[CV] max_depth=47 ....................................................\n"
     ]
    },
    {
     "name": "stdout",
     "output_type": "stream",
     "text": [
      "[CV] ..................................... max_depth=47, total=   1.4s\n",
      "[CV] max_depth=47 ....................................................\n",
      "[CV] ..................................... max_depth=47, total=   1.8s\n",
      "[CV] max_depth=47 ....................................................\n",
      "[CV] ..................................... max_depth=47, total=   2.1s\n",
      "[CV] max_depth=47 ....................................................\n",
      "[CV] ..................................... max_depth=47, total=   2.7s\n",
      "[CV] max_depth=47 ....................................................\n",
      "[CV] ..................................... max_depth=47, total=   2.6s\n",
      "[CV] max_depth=47 ....................................................\n",
      "[CV] ..................................... max_depth=47, total=   3.1s\n",
      "[CV] max_depth=49 ....................................................\n",
      "[CV] ..................................... max_depth=49, total=   0.2s\n",
      "[CV] max_depth=49 ....................................................\n",
      "[CV] ..................................... max_depth=49, total=   0.4s\n",
      "[CV] max_depth=49 ....................................................\n",
      "[CV] ..................................... max_depth=49, total=   0.7s\n",
      "[CV] max_depth=49 ....................................................\n",
      "[CV] ..................................... max_depth=49, total=   1.0s\n",
      "[CV] max_depth=49 ....................................................\n",
      "[CV] ..................................... max_depth=49, total=   1.3s\n",
      "[CV] max_depth=49 ....................................................\n",
      "[CV] ..................................... max_depth=49, total=   1.9s\n",
      "[CV] max_depth=49 ....................................................\n",
      "[CV] ..................................... max_depth=49, total=   2.0s\n",
      "[CV] max_depth=49 ....................................................\n",
      "[CV] ..................................... max_depth=49, total=   2.3s\n",
      "[CV] max_depth=49 ....................................................\n",
      "[CV] ..................................... max_depth=49, total=   2.6s\n",
      "[CV] max_depth=49 ....................................................\n",
      "[CV] ..................................... max_depth=49, total=   3.1s\n"
     ]
    },
    {
     "name": "stderr",
     "output_type": "stream",
     "text": [
      "[Parallel(n_jobs=1)]: Done 250 out of 250 | elapsed:  5.2min finished\n"
     ]
    },
    {
     "data": {
      "text/plain": [
       "GridSearchCV(cv=<generator object TimeSeriesSplit.split at 0x0000021EB2C42150>,\n",
       "       error_score='raise',\n",
       "       estimator=DecisionTreeClassifier(class_weight='balanced', criterion='gini',\n",
       "            max_depth=None, max_features=None, max_leaf_nodes=None,\n",
       "            min_impurity_decrease=0.0, min_impurity_split=None,\n",
       "            min_samples_leaf=1, min_samples_split=2,\n",
       "            min_weight_fraction_leaf=0.0, presort=False, random_state=3,\n",
       "            splitter='best'),\n",
       "       fit_params=None, iid=True, n_jobs=1,\n",
       "       param_grid=[{'max_depth': range(1, 50, 2)}],\n",
       "       pre_dispatch='2*n_jobs', refit=True, return_train_score='warn',\n",
       "       scoring='accuracy', verbose=2)"
      ]
     },
     "execution_count": 32,
     "metadata": {},
     "output_type": "execute_result"
    }
   ],
   "source": [
    "t_grid.fit(std_tfidf_train[:10000],train['Score'][:10000])"
   ]
  },
  {
   "cell_type": "code",
   "execution_count": 33,
   "metadata": {},
   "outputs": [
    {
     "data": {
      "text/plain": [
       "DecisionTreeClassifier(class_weight='balanced', criterion='gini',\n",
       "            max_depth=49, max_features=None, max_leaf_nodes=None,\n",
       "            min_impurity_decrease=0.0, min_impurity_split=None,\n",
       "            min_samples_leaf=1, min_samples_split=2,\n",
       "            min_weight_fraction_leaf=0.0, presort=False, random_state=3,\n",
       "            splitter='best')"
      ]
     },
     "execution_count": 33,
     "metadata": {},
     "output_type": "execute_result"
    }
   ],
   "source": [
    "t_grid.best_estimator_"
   ]
  },
  {
   "cell_type": "code",
   "execution_count": 34,
   "metadata": {},
   "outputs": [
    {
     "data": {
      "text/plain": [
       "0.7984598459845985"
      ]
     },
     "execution_count": 34,
     "metadata": {},
     "output_type": "execute_result"
    }
   ],
   "source": [
    "t_grid.best_score_"
   ]
  },
  {
   "cell_type": "code",
   "execution_count": 35,
   "metadata": {},
   "outputs": [
    {
     "data": {
      "image/png": "[encoded data removed]",
      "text/plain": [
       "<Figure size 864x504 with 1 Axes>"
      ]
     },
     "metadata": {},
     "output_type": "display_data"
    }
   ],
   "source": [
    "plotter(t_grid)"
   ]
  },
  {
   "cell_type": "raw",
   "metadata": {},
   "source": [
    "CV-2:"
   ]
  },
  {
   "cell_type": "code",
   "execution_count": 46,
   "metadata": {},
   "outputs": [],
   "source": [
    "t_grid=grid_s(std_tfidf_train[:10000],[10,100,150,200,250,300])"
   ]
  },
  {
   "cell_type": "code",
   "execution_count": 47,
   "metadata": {
    "scrolled": true
   },
   "outputs": [
    {
     "name": "stdout",
     "output_type": "stream",
     "text": [
      "Fitting 10 folds for each of 6 candidates, totalling 60 fits\n",
      "[CV] max_depth=10 ....................................................\n",
      "[CV] ..................................... max_depth=10, total=   0.1s\n",
      "[CV] max_depth=10 ....................................................\n"
     ]
    },
    {
     "name": "stderr",
     "output_type": "stream",
     "text": [
      "[Parallel(n_jobs=1)]: Done   1 out of   1 | elapsed:    0.1s remaining:    0.0s\n"
     ]
    },
    {
     "name": "stdout",
     "output_type": "stream",
     "text": [
      "[CV] ..................................... max_depth=10, total=   0.2s\n",
      "[CV] max_depth=10 ....................................................\n",
      "[CV] ..................................... max_depth=10, total=   0.4s\n",
      "[CV] max_depth=10 ....................................................\n",
      "[CV] ..................................... max_depth=10, total=   0.6s\n",
      "[CV] max_depth=10 ....................................................\n",
      "[CV] ..................................... max_depth=10, total=   0.7s\n",
      "[CV] max_depth=10 ....................................................\n",
      "[CV] ..................................... max_depth=10, total=   0.8s\n",
      "[CV] max_depth=10 ....................................................\n",
      "[CV] ..................................... max_depth=10, total=   1.3s\n",
      "[CV] max_depth=10 ....................................................\n",
      "[CV] ..................................... max_depth=10, total=   1.3s\n",
      "[CV] max_depth=10 ....................................................\n",
      "[CV] ..................................... max_depth=10, total=   1.5s\n",
      "[CV] max_depth=10 ....................................................\n",
      "[CV] ..................................... max_depth=10, total=   1.5s\n",
      "[CV] max_depth=100 ...................................................\n",
      "[CV] .................................... max_depth=100, total=   0.4s\n",
      "[CV] max_depth=100 ...................................................\n",
      "[CV] .................................... max_depth=100, total=   0.7s\n",
      "[CV] max_depth=100 ...................................................\n",
      "[CV] .................................... max_depth=100, total=   1.3s\n",
      "[CV] max_depth=100 ...................................................\n",
      "[CV] .................................... max_depth=100, total=   1.6s\n",
      "[CV] max_depth=100 ...................................................\n",
      "[CV] .................................... max_depth=100, total=   2.1s\n",
      "[CV] max_depth=100 ...................................................\n",
      "[CV] .................................... max_depth=100, total=   2.5s\n",
      "[CV] max_depth=100 ...................................................\n",
      "[CV] .................................... max_depth=100, total=   2.6s\n",
      "[CV] max_depth=100 ...................................................\n",
      "[CV] .................................... max_depth=100, total=   3.6s\n",
      "[CV] max_depth=100 ...................................................\n",
      "[CV] .................................... max_depth=100, total=   5.0s\n",
      "[CV] max_depth=100 ...................................................\n",
      "[CV] .................................... max_depth=100, total=   6.2s\n",
      "[CV] max_depth=150 ...................................................\n",
      "[CV] .................................... max_depth=150, total=   0.5s\n",
      "[CV] max_depth=150 ...................................................\n",
      "[CV] .................................... max_depth=150, total=   1.2s\n",
      "[CV] max_depth=150 ...................................................\n",
      "[CV] .................................... max_depth=150, total=   1.7s\n",
      "[CV] max_depth=150 ...................................................\n",
      "[CV] .................................... max_depth=150, total=   2.3s\n",
      "[CV] max_depth=150 ...................................................\n",
      "[CV] .................................... max_depth=150, total=   2.4s\n",
      "[CV] max_depth=150 ...................................................\n",
      "[CV] .................................... max_depth=150, total=   2.7s\n",
      "[CV] max_depth=150 ...................................................\n",
      "[CV] .................................... max_depth=150, total=   3.2s\n",
      "[CV] max_depth=150 ...................................................\n",
      "[CV] .................................... max_depth=150, total=   4.4s\n",
      "[CV] max_depth=150 ...................................................\n",
      "[CV] .................................... max_depth=150, total=   5.0s\n",
      "[CV] max_depth=150 ...................................................\n",
      "[CV] .................................... max_depth=150, total=   5.8s\n",
      "[CV] max_depth=200 ...................................................\n",
      "[CV] .................................... max_depth=200, total=   0.3s\n",
      "[CV] max_depth=200 ...................................................\n",
      "[CV] .................................... max_depth=200, total=   0.8s\n",
      "[CV] max_depth=200 ...................................................\n",
      "[CV] .................................... max_depth=200, total=   1.5s\n",
      "[CV] max_depth=200 ...................................................\n",
      "[CV] .................................... max_depth=200, total=   2.1s\n",
      "[CV] max_depth=200 ...................................................\n",
      "[CV] .................................... max_depth=200, total=   2.5s\n",
      "[CV] max_depth=200 ...................................................\n",
      "[CV] .................................... max_depth=200, total=   4.0s\n",
      "[CV] max_depth=200 ...................................................\n",
      "[CV] .................................... max_depth=200, total=   3.9s\n",
      "[CV] max_depth=200 ...................................................\n",
      "[CV] .................................... max_depth=200, total=   4.0s\n",
      "[CV] max_depth=200 ...................................................\n",
      "[CV] .................................... max_depth=200, total=   5.7s\n",
      "[CV] max_depth=200 ...................................................\n",
      "[CV] .................................... max_depth=200, total=   5.2s\n",
      "[CV] max_depth=250 ...................................................\n",
      "[CV] .................................... max_depth=250, total=   0.4s\n",
      "[CV] max_depth=250 ...................................................\n",
      "[CV] .................................... max_depth=250, total=   0.9s\n",
      "[CV] max_depth=250 ...................................................\n",
      "[CV] .................................... max_depth=250, total=   1.7s\n",
      "[CV] max_depth=250 ...................................................\n",
      "[CV] .................................... max_depth=250, total=   1.9s\n",
      "[CV] max_depth=250 ...................................................\n",
      "[CV] .................................... max_depth=250, total=   2.8s\n",
      "[CV] max_depth=250 ...................................................\n",
      "[CV] .................................... max_depth=250, total=   3.1s\n",
      "[CV] max_depth=250 ...................................................\n",
      "[CV] .................................... max_depth=250, total=   3.5s\n",
      "[CV] max_depth=250 ...................................................\n",
      "[CV] .................................... max_depth=250, total=   3.7s\n",
      "[CV] max_depth=250 ...................................................\n",
      "[CV] .................................... max_depth=250, total=   4.3s\n",
      "[CV] max_depth=250 ...................................................\n",
      "[CV] .................................... max_depth=250, total=   5.5s\n",
      "[CV] max_depth=300 ...................................................\n",
      "[CV] .................................... max_depth=300, total=   0.3s\n",
      "[CV] max_depth=300 ...................................................\n",
      "[CV] .................................... max_depth=300, total=   0.6s\n",
      "[CV] max_depth=300 ...................................................\n",
      "[CV] .................................... max_depth=300, total=   1.4s\n",
      "[CV] max_depth=300 ...................................................\n",
      "[CV] .................................... max_depth=300, total=   2.4s\n",
      "[CV] max_depth=300 ...................................................\n",
      "[CV] .................................... max_depth=300, total=   2.9s\n",
      "[CV] max_depth=300 ...................................................\n",
      "[CV] .................................... max_depth=300, total=   3.5s\n",
      "[CV] max_depth=300 ...................................................\n",
      "[CV] .................................... max_depth=300, total=   4.6s\n",
      "[CV] max_depth=300 ...................................................\n",
      "[CV] .................................... max_depth=300, total=   4.7s\n",
      "[CV] max_depth=300 ...................................................\n",
      "[CV] .................................... max_depth=300, total=   5.1s\n",
      "[CV] max_depth=300 ...................................................\n"
     ]
    },
    {
     "name": "stdout",
     "output_type": "stream",
     "text": [
      "[CV] .................................... max_depth=300, total=   6.4s\n"
     ]
    },
    {
     "name": "stderr",
     "output_type": "stream",
     "text": [
      "[Parallel(n_jobs=1)]: Done  60 out of  60 | elapsed:  2.7min finished\n"
     ]
    },
    {
     "data": {
      "text/plain": [
       "GridSearchCV(cv=<generator object TimeSeriesSplit.split at 0x00000178104ACF68>,\n",
       "       error_score='raise',\n",
       "       estimator=DecisionTreeClassifier(class_weight='balanced', criterion='gini',\n",
       "            max_depth=None, max_features=None, max_leaf_nodes=None,\n",
       "            min_impurity_decrease=0.0, min_impurity_split=None,\n",
       "            min_samples_leaf=1, min_samples_split=2,\n",
       "            min_weight_fraction_leaf=0.0, presort=False, random_state=3,\n",
       "            splitter='best'),\n",
       "       fit_params=None, iid=True, n_jobs=1,\n",
       "       param_grid=[{'max_depth': [10, 100, 150, 200, 250, 300]}],\n",
       "       pre_dispatch='2*n_jobs', refit=True, return_train_score='warn',\n",
       "       scoring='accuracy', verbose=2)"
      ]
     },
     "execution_count": 47,
     "metadata": {},
     "output_type": "execute_result"
    }
   ],
   "source": [
    "t_grid.fit(std_tfidf_train[:10000],train['Score'][:10000])"
   ]
  },
  {
   "cell_type": "code",
   "execution_count": 48,
   "metadata": {},
   "outputs": [
    {
     "data": {
      "text/plain": [
       "DecisionTreeClassifier(class_weight='balanced', criterion='gini',\n",
       "            max_depth=300, max_features=None, max_leaf_nodes=None,\n",
       "            min_impurity_decrease=0.0, min_impurity_split=None,\n",
       "            min_samples_leaf=1, min_samples_split=2,\n",
       "            min_weight_fraction_leaf=0.0, presort=False, random_state=3,\n",
       "            splitter='best')"
      ]
     },
     "execution_count": 48,
     "metadata": {},
     "output_type": "execute_result"
    }
   ],
   "source": [
    "t_grid.best_estimator_"
   ]
  },
  {
   "cell_type": "code",
   "execution_count": 49,
   "metadata": {},
   "outputs": [
    {
     "data": {
      "text/plain": [
       "0.8171617161716171"
      ]
     },
     "execution_count": 49,
     "metadata": {},
     "output_type": "execute_result"
    }
   ],
   "source": [
    "t_grid.best_score_"
   ]
  },
  {
   "cell_type": "code",
   "execution_count": 50,
   "metadata": {},
   "outputs": [
    {
     "data": {
      "image/png": "[encoded data removed]",
      "text/plain": [
       "<Figure size 864x504 with 1 Axes>"
      ]
     },
     "metadata": {},
     "output_type": "display_data"
    }
   ],
   "source": [
    "plotter(t_grid)"
   ]
  },
  {
   "cell_type": "markdown",
   "metadata": {},
   "source": [
    "Similarly even inflection point for Tf-Idf occured at a <b> depth of 100"
   ]
  },
  {
   "cell_type": "raw",
   "metadata": {},
   "source": [
    "Random Search CV:"
   ]
  },
  {
   "cell_type": "code",
   "execution_count": 73,
   "metadata": {},
   "outputs": [],
   "source": [
    "#Random Search\n",
    "t_rand=random_s(std_tfidf_train[0:10000])"
   ]
  },
  {
   "cell_type": "code",
   "execution_count": 74,
   "metadata": {},
   "outputs": [
    {
     "name": "stdout",
     "output_type": "stream",
     "text": [
      "Fitting 10 folds for each of 1 candidates, totalling 10 fits\n",
      "[CV] max_depth=94.55760459134024 .....................................\n",
      "[CV] ...................... max_depth=94.55760459134024, total=   0.4s\n",
      "[CV] max_depth=94.55760459134024 .....................................\n"
     ]
    },
    {
     "name": "stderr",
     "output_type": "stream",
     "text": [
      "[Parallel(n_jobs=1)]: Done   1 out of   1 | elapsed:    0.4s remaining:    0.0s\n"
     ]
    },
    {
     "name": "stdout",
     "output_type": "stream",
     "text": [
      "[CV] ...................... max_depth=94.55760459134024, total=   0.8s\n",
      "[CV] max_depth=94.55760459134024 .....................................\n",
      "[CV] ...................... max_depth=94.55760459134024, total=   1.2s\n",
      "[CV] max_depth=94.55760459134024 .....................................\n",
      "[CV] ...................... max_depth=94.55760459134024, total=   1.6s\n",
      "[CV] max_depth=94.55760459134024 .....................................\n",
      "[CV] ...................... max_depth=94.55760459134024, total=   3.5s\n",
      "[CV] max_depth=94.55760459134024 .....................................\n",
      "[CV] ...................... max_depth=94.55760459134024, total=   3.8s\n",
      "[CV] max_depth=94.55760459134024 .....................................\n",
      "[CV] ...................... max_depth=94.55760459134024, total=   3.4s\n",
      "[CV] max_depth=94.55760459134024 .....................................\n",
      "[CV] ...................... max_depth=94.55760459134024, total=   3.5s\n",
      "[CV] max_depth=94.55760459134024 .....................................\n",
      "[CV] ...................... max_depth=94.55760459134024, total=   3.9s\n",
      "[CV] max_depth=94.55760459134024 .....................................\n",
      "[CV] ...................... max_depth=94.55760459134024, total=   4.5s\n"
     ]
    },
    {
     "name": "stderr",
     "output_type": "stream",
     "text": [
      "[Parallel(n_jobs=1)]: Done  10 out of  10 | elapsed:   28.0s finished\n"
     ]
    },
    {
     "data": {
      "text/plain": [
       "GridSearchCV(cv=<generator object TimeSeriesSplit.split at 0x00000142428CCBA0>,\n",
       "       error_score='raise',\n",
       "       estimator=DecisionTreeClassifier(class_weight='balanced', criterion='gini',\n",
       "            max_depth=None, max_features=None, max_leaf_nodes=None,\n",
       "            min_impurity_decrease=0.0, min_impurity_split=None,\n",
       "            min_samples_leaf=1, min_samples_split=2,\n",
       "            min_weight_fraction_leaf=0.0, presort=False, random_state=3,\n",
       "            splitter='best'),\n",
       "       fit_params=None, iid=True, n_jobs=1,\n",
       "       param_grid={'max_depth': [94.55760459134024]},\n",
       "       pre_dispatch='2*n_jobs', refit=True, return_train_score='warn',\n",
       "       scoring='accuracy', verbose=2)"
      ]
     },
     "execution_count": 74,
     "metadata": {},
     "output_type": "execute_result"
    }
   ],
   "source": [
    "t_rand.fit(std_tfidf_train[0:10000],train['Score'][0:10000])"
   ]
  },
  {
   "cell_type": "code",
   "execution_count": 75,
   "metadata": {},
   "outputs": [
    {
     "data": {
      "text/plain": [
       "DecisionTreeClassifier(class_weight='balanced', criterion='gini',\n",
       "            max_depth=94.55760459134024, max_features=None,\n",
       "            max_leaf_nodes=None, min_impurity_decrease=0.0,\n",
       "            min_impurity_split=None, min_samples_leaf=1,\n",
       "            min_samples_split=2, min_weight_fraction_leaf=0.0,\n",
       "            presort=False, random_state=3, splitter='best')"
      ]
     },
     "execution_count": 75,
     "metadata": {},
     "output_type": "execute_result"
    }
   ],
   "source": [
    "t_rand.best_estimator_"
   ]
  },
  {
   "cell_type": "code",
   "execution_count": 76,
   "metadata": {},
   "outputs": [
    {
     "data": {
      "text/plain": [
       "0.8123212321232123"
      ]
     },
     "execution_count": 76,
     "metadata": {},
     "output_type": "execute_result"
    }
   ],
   "source": [
    "t_rand.best_score_"
   ]
  },
  {
   "cell_type": "markdown",
   "metadata": {},
   "source": [
    "### Implementation:"
   ]
  },
  {
   "cell_type": "code",
   "execution_count": 87,
   "metadata": {},
   "outputs": [],
   "source": [
    "dt1=DecisionTreeClassifier(class_weight='balanced', criterion='gini',\n",
    "            max_depth=100, max_features=None, max_leaf_nodes=None,\n",
    "            min_impurity_decrease=0.0, min_impurity_split=None,\n",
    "            min_samples_leaf=1, min_samples_split=2,\n",
    "            min_weight_fraction_leaf=0.0, presort=False, random_state=3,\n",
    "            splitter='best')\n"
   ]
  },
  {
   "cell_type": "code",
   "execution_count": 88,
   "metadata": {},
   "outputs": [
    {
     "data": {
      "text/plain": [
       "DecisionTreeClassifier(class_weight='balanced', criterion='gini',\n",
       "            max_depth=100, max_features=None, max_leaf_nodes=None,\n",
       "            min_impurity_decrease=0.0, min_impurity_split=None,\n",
       "            min_samples_leaf=1, min_samples_split=2,\n",
       "            min_weight_fraction_leaf=0.0, presort=False, random_state=3,\n",
       "            splitter='best')"
      ]
     },
     "execution_count": 88,
     "metadata": {},
     "output_type": "execute_result"
    }
   ],
   "source": [
    "dt1.fit(std_tfidf_train,train['Score'])"
   ]
  },
  {
   "cell_type": "code",
   "execution_count": 98,
   "metadata": {},
   "outputs": [],
   "source": [
    "pred=dt1.predict(std_tfidf_test)"
   ]
  },
  {
   "cell_type": "code",
   "execution_count": 90,
   "metadata": {},
   "outputs": [
    {
     "name": "stdout",
     "output_type": "stream",
     "text": [
      "81.4637852285105\n"
     ]
    }
   ],
   "source": [
    "acc=accuracy_score(pred,test['Score'])\n",
    "print(acc*100)"
   ]
  },
  {
   "cell_type": "markdown",
   "metadata": {},
   "source": [
    "## Performace of Decision tree model with TF-IDF:"
   ]
  },
  {
   "cell_type": "code",
   "execution_count": 99,
   "metadata": {},
   "outputs": [
    {
     "name": "stdout",
     "output_type": "stream",
     "text": [
      "\n",
      "******************************************************************************* \n",
      "\n",
      " Accuracy is 0.814637852285105\n",
      "\n",
      "******************************************************************************* \n",
      "\n",
      " TNR value is 0.5996016980242126\n",
      " FNR value is 0.4003983019757874\n",
      " FPR value is 0.13985804591327491\n",
      " TPR value is 0.8601419540867251\n",
      "\n",
      "******************************************************************************* \n",
      "\n",
      " Confusion Matrix is :\n",
      "[[11441  7640]\n",
      " [12611 77559]]\n",
      "\n",
      "******************************************************************************* \n",
      "\n",
      " Precision is 0.8601419540867251\n",
      " Recall value is 0.9103275860045306\n",
      " F1 Score is 0.884523490468669\n",
      "\n",
      "******************************************************************************* \n",
      "\n",
      "Heat Map of the Confusion matrix is\n",
      "\n",
      "******************************************************************************* \n",
      "\n"
     ]
    },
    {
     "data": {
      "image/png": "[encoded data removed]",
      "text/plain": [
       "<Figure size 432x288 with 2 Axes>"
      ]
     },
     "metadata": {},
     "output_type": "display_data"
    }
   ],
   "source": [
    "CM(test['Score'],pred)"
   ]
  },
  {
   "cell_type": "markdown",
   "metadata": {},
   "source": [
    "### Saving the tree to a PDF file."
   ]
  },
  {
   "cell_type": "code",
   "execution_count": 22,
   "metadata": {},
   "outputs": [
    {
     "data": {
      "text/plain": [
       "'G:\\\\ML\\\\Exercises\\\\ex 7\\\\Graphviz\\\\Tf-Idf.pdf'"
      ]
     },
     "execution_count": 22,
     "metadata": {},
     "output_type": "execute_result"
    }
   ],
   "source": [
    "tmp=tree_viz(std_tfidf_train,train['Score'],tfidf)\n",
    "tmp.render(filename='G:\\ML\\Exercises\\ex 7\\Graphviz\\Tf-Idf')"
   ]
  },
  {
   "cell_type": "markdown",
   "metadata": {},
   "source": [
    "## Feature Importance:"
   ]
  },
  {
   "cell_type": "code",
   "execution_count": 91,
   "metadata": {},
   "outputs": [
    {
     "name": "stdout",
     "output_type": "stream",
     "text": [
      "Top 20 important features are : \n",
      "\n"
     ]
    },
    {
     "data": {
      "image/png": "[encoded data removed]",
      "text/plain": [
       "<Figure size 432x432 with 1 Axes>"
      ]
     },
     "metadata": {},
     "output_type": "display_data"
    }
   ],
   "source": [
    "feat_importance(dt1,tfidf)"
   ]
  },
  {
   "cell_type": "raw",
   "metadata": {},
   "source": [
    "********************************************************************************************************************************"
   ]
  },
  {
   "cell_type": "markdown",
   "metadata": {},
   "source": [
    "# Building W2V Model:"
   ]
  },
  {
   "cell_type": "code",
   "execution_count": 42,
   "metadata": {},
   "outputs": [],
   "source": [
    "from gensim.models import Word2Vec"
   ]
  },
  {
   "cell_type": "code",
   "execution_count": 43,
   "metadata": {},
   "outputs": [],
   "source": [
    "#Creating sentence list\n",
    "\n",
    "sentence_list=[]\n",
    "for sentence in train['New']:\n",
    "    sentence_list.append(sentence.split())\n",
    "\n",
    "#sentence_list[5]\n"
   ]
  },
  {
   "cell_type": "code",
   "execution_count": 44,
   "metadata": {},
   "outputs": [],
   "source": [
    "w2v=Word2Vec(sentence_list,size=200,min_count=1,workers=4)"
   ]
  },
  {
   "cell_type": "code",
   "execution_count": 45,
   "metadata": {},
   "outputs": [],
   "source": [
    "w2v_list=list(w2v.wv.vocab)"
   ]
  },
  {
   "cell_type": "code",
   "execution_count": 26,
   "metadata": {},
   "outputs": [
    {
     "data": {
      "text/plain": [
       "55208"
      ]
     },
     "execution_count": 26,
     "metadata": {},
     "output_type": "execute_result"
    }
   ],
   "source": [
    "len(w2v_list)"
   ]
  },
  {
   "cell_type": "raw",
   "metadata": {},
   "source": [
    "********************************************************************************************************************************"
   ]
  },
  {
   "cell_type": "markdown",
   "metadata": {},
   "source": [
    "# 4.) Average W2V Vectorization:"
   ]
  },
  {
   "cell_type": "code",
   "execution_count": 29,
   "metadata": {},
   "outputs": [],
   "source": [
    "def avgwv(x):\n",
    "    '''\n",
    "    To calculate average word 2 vector model\n",
    "    '''\n",
    "    sent_vect=[]\n",
    "    for sentence in x:\n",
    "        count=0;\n",
    "        s_v=np.zeros(200)\n",
    "        for words in sentence.split():\n",
    "            if words in w2v_list:\n",
    "                V=w2v.wv[words]\n",
    "                count+=1\n",
    "                s_v+=V\n",
    "            if (count!=0):\n",
    "                s_v/=count\n",
    "        sent_vect.append(s_v)\n",
    "    return(sent_vect)\n",
    "                    "
   ]
  },
  {
   "cell_type": "code",
   "execution_count": 30,
   "metadata": {},
   "outputs": [],
   "source": [
    "train_w2v=avgwv(train['New'])"
   ]
  },
  {
   "cell_type": "code",
   "execution_count": 31,
   "metadata": {},
   "outputs": [],
   "source": [
    "test_w2v=avgwv(test['New'])"
   ]
  },
  {
   "cell_type": "code",
   "execution_count": 14,
   "metadata": {},
   "outputs": [],
   "source": [
    "import pickle"
   ]
  },
  {
   "cell_type": "code",
   "execution_count": 15,
   "metadata": {},
   "outputs": [],
   "source": [
    "with open(r'G:\\ML\\Pickles\\Avgw2v_200d.pickle','rb') as f:\n",
    "    train_w2v,test_w2v=pickle.load(f)"
   ]
  },
  {
   "cell_type": "code",
   "execution_count": 16,
   "metadata": {},
   "outputs": [],
   "source": [
    "scaler=StandardScaler(with_mean=False)\n",
    "std_train_avgw2v=scaler.fit_transform(train_w2v)\n",
    "std_test_avgw2v=scaler.transform(test_w2v)"
   ]
  },
  {
   "cell_type": "markdown",
   "metadata": {},
   "source": [
    "### Cross Validation :"
   ]
  },
  {
   "cell_type": "raw",
   "metadata": {},
   "source": [
    "CV-1:"
   ]
  },
  {
   "cell_type": "code",
   "execution_count": 92,
   "metadata": {},
   "outputs": [],
   "source": [
    "avg1_grid=grid_s(std_train_avgw2v[:10000])"
   ]
  },
  {
   "cell_type": "code",
   "execution_count": 93,
   "metadata": {
    "scrolled": true
   },
   "outputs": [
    {
     "name": "stdout",
     "output_type": "stream",
     "text": [
      "Fitting 10 folds for each of 25 candidates, totalling 250 fits\n",
      "[CV] max_depth=1 .....................................................\n",
      "[CV] ...................................... max_depth=1, total=   0.0s\n",
      "[CV] max_depth=1 .....................................................\n"
     ]
    },
    {
     "name": "stderr",
     "output_type": "stream",
     "text": [
      "[Parallel(n_jobs=1)]: Done   1 out of   1 | elapsed:    0.0s remaining:    0.0s\n"
     ]
    },
    {
     "name": "stdout",
     "output_type": "stream",
     "text": [
      "[CV] ...................................... max_depth=1, total=   0.0s\n",
      "[CV] max_depth=1 .....................................................\n",
      "[CV] ...................................... max_depth=1, total=   0.1s\n",
      "[CV] max_depth=1 .....................................................\n",
      "[CV] ...................................... max_depth=1, total=   0.2s\n",
      "[CV] max_depth=1 .....................................................\n",
      "[CV] ...................................... max_depth=1, total=   0.2s\n",
      "[CV] max_depth=1 .....................................................\n",
      "[CV] ...................................... max_depth=1, total=   0.3s\n",
      "[CV] max_depth=1 .....................................................\n",
      "[CV] ...................................... max_depth=1, total=   0.4s\n",
      "[CV] max_depth=1 .....................................................\n",
      "[CV] ...................................... max_depth=1, total=   0.5s\n",
      "[CV] max_depth=1 .....................................................\n",
      "[CV] ...................................... max_depth=1, total=   0.5s\n",
      "[CV] max_depth=1 .....................................................\n",
      "[CV] ...................................... max_depth=1, total=   0.6s\n",
      "[CV] max_depth=3 .....................................................\n",
      "[CV] ...................................... max_depth=3, total=   0.0s\n",
      "[CV] max_depth=3 .....................................................\n",
      "[CV] ...................................... max_depth=3, total=   0.3s\n",
      "[CV] max_depth=3 .....................................................\n",
      "[CV] ...................................... max_depth=3, total=   0.4s\n",
      "[CV] max_depth=3 .....................................................\n",
      "[CV] ...................................... max_depth=3, total=   0.5s\n",
      "[CV] max_depth=3 .....................................................\n",
      "[CV] ...................................... max_depth=3, total=   0.7s\n",
      "[CV] max_depth=3 .....................................................\n",
      "[CV] ...................................... max_depth=3, total=   0.9s\n",
      "[CV] max_depth=3 .....................................................\n",
      "[CV] ...................................... max_depth=3, total=   1.0s\n",
      "[CV] max_depth=3 .....................................................\n",
      "[CV] ...................................... max_depth=3, total=   1.2s\n",
      "[CV] max_depth=3 .....................................................\n",
      "[CV] ...................................... max_depth=3, total=   1.4s\n",
      "[CV] max_depth=3 .....................................................\n",
      "[CV] ...................................... max_depth=3, total=   1.5s\n",
      "[CV] max_depth=5 .....................................................\n",
      "[CV] ...................................... max_depth=5, total=   0.1s\n",
      "[CV] max_depth=5 .....................................................\n",
      "[CV] ...................................... max_depth=5, total=   0.4s\n",
      "[CV] max_depth=5 .....................................................\n",
      "[CV] ...................................... max_depth=5, total=   0.6s\n",
      "[CV] max_depth=5 .....................................................\n",
      "[CV] ...................................... max_depth=5, total=   0.9s\n",
      "[CV] max_depth=5 .....................................................\n",
      "[CV] ...................................... max_depth=5, total=   1.0s\n",
      "[CV] max_depth=5 .....................................................\n",
      "[CV] ...................................... max_depth=5, total=   1.3s\n",
      "[CV] max_depth=5 .....................................................\n",
      "[CV] ...................................... max_depth=5, total=   1.6s\n",
      "[CV] max_depth=5 .....................................................\n",
      "[CV] ...................................... max_depth=5, total=   1.9s\n",
      "[CV] max_depth=5 .....................................................\n",
      "[CV] ...................................... max_depth=5, total=   2.3s\n",
      "[CV] max_depth=5 .....................................................\n",
      "[CV] ...................................... max_depth=5, total=   2.7s\n",
      "[CV] max_depth=7 .....................................................\n",
      "[CV] ...................................... max_depth=7, total=   0.1s\n",
      "[CV] max_depth=7 .....................................................\n",
      "[CV] ...................................... max_depth=7, total=   0.4s\n",
      "[CV] max_depth=7 .....................................................\n",
      "[CV] ...................................... max_depth=7, total=   0.7s\n",
      "[CV] max_depth=7 .....................................................\n",
      "[CV] ...................................... max_depth=7, total=   1.0s\n",
      "[CV] max_depth=7 .....................................................\n",
      "[CV] ...................................... max_depth=7, total=   1.3s\n",
      "[CV] max_depth=7 .....................................................\n",
      "[CV] ...................................... max_depth=7, total=   1.8s\n",
      "[CV] max_depth=7 .....................................................\n",
      "[CV] ...................................... max_depth=7, total=   2.0s\n",
      "[CV] max_depth=7 .....................................................\n",
      "[CV] ...................................... max_depth=7, total=   2.4s\n",
      "[CV] max_depth=7 .....................................................\n",
      "[CV] ...................................... max_depth=7, total=   2.5s\n",
      "[CV] max_depth=7 .....................................................\n",
      "[CV] ...................................... max_depth=7, total=   2.9s\n",
      "[CV] max_depth=9 .....................................................\n",
      "[CV] ...................................... max_depth=9, total=   0.1s\n",
      "[CV] max_depth=9 .....................................................\n",
      "[CV] ...................................... max_depth=9, total=   0.4s\n",
      "[CV] max_depth=9 .....................................................\n",
      "[CV] ...................................... max_depth=9, total=   1.0s\n",
      "[CV] max_depth=9 .....................................................\n",
      "[CV] ...................................... max_depth=9, total=   1.4s\n",
      "[CV] max_depth=9 .....................................................\n",
      "[CV] ...................................... max_depth=9, total=   1.5s\n",
      "[CV] max_depth=9 .....................................................\n",
      "[CV] ...................................... max_depth=9, total=   2.4s\n",
      "[CV] max_depth=9 .....................................................\n",
      "[CV] ...................................... max_depth=9, total=   3.3s\n",
      "[CV] max_depth=9 .....................................................\n",
      "[CV] ...................................... max_depth=9, total=   3.3s\n",
      "[CV] max_depth=9 .....................................................\n",
      "[CV] ...................................... max_depth=9, total=   3.3s\n",
      "[CV] max_depth=9 .....................................................\n",
      "[CV] ...................................... max_depth=9, total=   3.3s\n",
      "[CV] max_depth=11 ....................................................\n",
      "[CV] ..................................... max_depth=11, total=   0.1s\n",
      "[CV] max_depth=11 ....................................................\n",
      "[CV] ..................................... max_depth=11, total=   0.4s\n",
      "[CV] max_depth=11 ....................................................\n",
      "[CV] ..................................... max_depth=11, total=   1.0s\n",
      "[CV] max_depth=11 ....................................................\n",
      "[CV] ..................................... max_depth=11, total=   1.3s\n",
      "[CV] max_depth=11 ....................................................\n",
      "[CV] ..................................... max_depth=11, total=   1.8s\n",
      "[CV] max_depth=11 ....................................................\n",
      "[CV] ..................................... max_depth=11, total=   2.2s\n",
      "[CV] max_depth=11 ....................................................\n",
      "[CV] ..................................... max_depth=11, total=   2.9s\n",
      "[CV] max_depth=11 ....................................................\n",
      "[CV] ..................................... max_depth=11, total=   3.3s\n",
      "[CV] max_depth=11 ....................................................\n",
      "[CV] ..................................... max_depth=11, total=   3.3s\n",
      "[CV] max_depth=11 ....................................................\n"
     ]
    },
    {
     "name": "stdout",
     "output_type": "stream",
     "text": [
      "[CV] ..................................... max_depth=11, total=   4.2s\n",
      "[CV] max_depth=13 ....................................................\n",
      "[CV] ..................................... max_depth=13, total=   0.1s\n",
      "[CV] max_depth=13 ....................................................\n",
      "[CV] ..................................... max_depth=13, total=   0.3s\n",
      "[CV] max_depth=13 ....................................................\n",
      "[CV] ..................................... max_depth=13, total=   0.7s\n",
      "[CV] max_depth=13 ....................................................\n",
      "[CV] ..................................... max_depth=13, total=   0.9s\n",
      "[CV] max_depth=13 ....................................................\n",
      "[CV] ..................................... max_depth=13, total=   1.2s\n",
      "[CV] max_depth=13 ....................................................\n",
      "[CV] ..................................... max_depth=13, total=   1.5s\n",
      "[CV] max_depth=13 ....................................................\n",
      "[CV] ..................................... max_depth=13, total=   2.1s\n",
      "[CV] max_depth=13 ....................................................\n",
      "[CV] ..................................... max_depth=13, total=   2.5s\n",
      "[CV] max_depth=13 ....................................................\n",
      "[CV] ..................................... max_depth=13, total=   2.9s\n",
      "[CV] max_depth=13 ....................................................\n",
      "[CV] ..................................... max_depth=13, total=   3.2s\n",
      "[CV] max_depth=15 ....................................................\n",
      "[CV] ..................................... max_depth=15, total=   0.1s\n",
      "[CV] max_depth=15 ....................................................\n",
      "[CV] ..................................... max_depth=15, total=   0.3s\n",
      "[CV] max_depth=15 ....................................................\n",
      "[CV] ..................................... max_depth=15, total=   0.7s\n",
      "[CV] max_depth=15 ....................................................\n",
      "[CV] ..................................... max_depth=15, total=   1.0s\n",
      "[CV] max_depth=15 ....................................................\n",
      "[CV] ..................................... max_depth=15, total=   1.3s\n",
      "[CV] max_depth=15 ....................................................\n",
      "[CV] ..................................... max_depth=15, total=   1.9s\n",
      "[CV] max_depth=15 ....................................................\n",
      "[CV] ..................................... max_depth=15, total=   2.3s\n",
      "[CV] max_depth=15 ....................................................\n",
      "[CV] ..................................... max_depth=15, total=   2.8s\n",
      "[CV] max_depth=15 ....................................................\n",
      "[CV] ..................................... max_depth=15, total=   3.2s\n",
      "[CV] max_depth=15 ....................................................\n",
      "[CV] ..................................... max_depth=15, total=   3.6s\n",
      "[CV] max_depth=17 ....................................................\n",
      "[CV] ..................................... max_depth=17, total=   0.1s\n",
      "[CV] max_depth=17 ....................................................\n",
      "[CV] ..................................... max_depth=17, total=   0.4s\n",
      "[CV] max_depth=17 ....................................................\n",
      "[CV] ..................................... max_depth=17, total=   0.8s\n",
      "[CV] max_depth=17 ....................................................\n",
      "[CV] ..................................... max_depth=17, total=   1.1s\n",
      "[CV] max_depth=17 ....................................................\n",
      "[CV] ..................................... max_depth=17, total=   1.5s\n",
      "[CV] max_depth=17 ....................................................\n",
      "[CV] ..................................... max_depth=17, total=   1.8s\n",
      "[CV] max_depth=17 ....................................................\n",
      "[CV] ..................................... max_depth=17, total=   2.2s\n",
      "[CV] max_depth=17 ....................................................\n",
      "[CV] ..................................... max_depth=17, total=   2.7s\n",
      "[CV] max_depth=17 ....................................................\n",
      "[CV] ..................................... max_depth=17, total=   3.1s\n",
      "[CV] max_depth=17 ....................................................\n",
      "[CV] ..................................... max_depth=17, total=   3.5s\n",
      "[CV] max_depth=19 ....................................................\n",
      "[CV] ..................................... max_depth=19, total=   0.1s\n",
      "[CV] max_depth=19 ....................................................\n",
      "[CV] ..................................... max_depth=19, total=   0.3s\n",
      "[CV] max_depth=19 ....................................................\n",
      "[CV] ..................................... max_depth=19, total=   0.7s\n",
      "[CV] max_depth=19 ....................................................\n",
      "[CV] ..................................... max_depth=19, total=   1.0s\n",
      "[CV] max_depth=19 ....................................................\n",
      "[CV] ..................................... max_depth=19, total=   1.6s\n",
      "[CV] max_depth=19 ....................................................\n",
      "[CV] ..................................... max_depth=19, total=   1.8s\n",
      "[CV] max_depth=19 ....................................................\n",
      "[CV] ..................................... max_depth=19, total=   2.5s\n",
      "[CV] max_depth=19 ....................................................\n",
      "[CV] ..................................... max_depth=19, total=   2.6s\n",
      "[CV] max_depth=19 ....................................................\n",
      "[CV] ..................................... max_depth=19, total=   3.2s\n",
      "[CV] max_depth=19 ....................................................\n",
      "[CV] ..................................... max_depth=19, total=   3.5s\n",
      "[CV] max_depth=21 ....................................................\n",
      "[CV] ..................................... max_depth=21, total=   0.1s\n",
      "[CV] max_depth=21 ....................................................\n",
      "[CV] ..................................... max_depth=21, total=   0.3s\n",
      "[CV] max_depth=21 ....................................................\n",
      "[CV] ..................................... max_depth=21, total=   0.8s\n",
      "[CV] max_depth=21 ....................................................\n",
      "[CV] ..................................... max_depth=21, total=   1.0s\n",
      "[CV] max_depth=21 ....................................................\n",
      "[CV] ..................................... max_depth=21, total=   1.4s\n",
      "[CV] max_depth=21 ....................................................\n",
      "[CV] ..................................... max_depth=21, total=   1.9s\n",
      "[CV] max_depth=21 ....................................................\n",
      "[CV] ..................................... max_depth=21, total=   2.3s\n",
      "[CV] max_depth=21 ....................................................\n",
      "[CV] ..................................... max_depth=21, total=   2.8s\n",
      "[CV] max_depth=21 ....................................................\n",
      "[CV] ..................................... max_depth=21, total=   3.1s\n",
      "[CV] max_depth=21 ....................................................\n",
      "[CV] ..................................... max_depth=21, total=   3.7s\n",
      "[CV] max_depth=23 ....................................................\n",
      "[CV] ..................................... max_depth=23, total=   0.1s\n",
      "[CV] max_depth=23 ....................................................\n",
      "[CV] ..................................... max_depth=23, total=   0.3s\n",
      "[CV] max_depth=23 ....................................................\n",
      "[CV] ..................................... max_depth=23, total=   0.7s\n",
      "[CV] max_depth=23 ....................................................\n",
      "[CV] ..................................... max_depth=23, total=   1.1s\n",
      "[CV] max_depth=23 ....................................................\n",
      "[CV] ..................................... max_depth=23, total=   1.4s\n",
      "[CV] max_depth=23 ....................................................\n",
      "[CV] ..................................... max_depth=23, total=   1.7s\n",
      "[CV] max_depth=23 ....................................................\n",
      "[CV] ..................................... max_depth=23, total=   2.2s\n",
      "[CV] max_depth=23 ....................................................\n"
     ]
    },
    {
     "name": "stdout",
     "output_type": "stream",
     "text": [
      "[CV] ..................................... max_depth=23, total=   2.8s\n",
      "[CV] max_depth=23 ....................................................\n",
      "[CV] ..................................... max_depth=23, total=   3.2s\n",
      "[CV] max_depth=23 ....................................................\n",
      "[CV] ..................................... max_depth=23, total=   3.4s\n",
      "[CV] max_depth=25 ....................................................\n",
      "[CV] ..................................... max_depth=25, total=   0.1s\n",
      "[CV] max_depth=25 ....................................................\n",
      "[CV] ..................................... max_depth=25, total=   0.3s\n",
      "[CV] max_depth=25 ....................................................\n",
      "[CV] ..................................... max_depth=25, total=   0.7s\n",
      "[CV] max_depth=25 ....................................................\n",
      "[CV] ..................................... max_depth=25, total=   1.2s\n",
      "[CV] max_depth=25 ....................................................\n",
      "[CV] ..................................... max_depth=25, total=   1.5s\n",
      "[CV] max_depth=25 ....................................................\n",
      "[CV] ..................................... max_depth=25, total=   1.9s\n",
      "[CV] max_depth=25 ....................................................\n",
      "[CV] ..................................... max_depth=25, total=   2.2s\n",
      "[CV] max_depth=25 ....................................................\n",
      "[CV] ..................................... max_depth=25, total=   2.7s\n",
      "[CV] max_depth=25 ....................................................\n",
      "[CV] ..................................... max_depth=25, total=   3.0s\n",
      "[CV] max_depth=25 ....................................................\n",
      "[CV] ..................................... max_depth=25, total=   3.6s\n",
      "[CV] max_depth=27 ....................................................\n",
      "[CV] ..................................... max_depth=27, total=   0.1s\n",
      "[CV] max_depth=27 ....................................................\n",
      "[CV] ..................................... max_depth=27, total=   0.4s\n",
      "[CV] max_depth=27 ....................................................\n",
      "[CV] ..................................... max_depth=27, total=   0.7s\n",
      "[CV] max_depth=27 ....................................................\n",
      "[CV] ..................................... max_depth=27, total=   1.1s\n",
      "[CV] max_depth=27 ....................................................\n",
      "[CV] ..................................... max_depth=27, total=   1.6s\n",
      "[CV] max_depth=27 ....................................................\n",
      "[CV] ..................................... max_depth=27, total=   2.1s\n",
      "[CV] max_depth=27 ....................................................\n",
      "[CV] ..................................... max_depth=27, total=   2.3s\n",
      "[CV] max_depth=27 ....................................................\n",
      "[CV] ..................................... max_depth=27, total=   2.7s\n",
      "[CV] max_depth=27 ....................................................\n",
      "[CV] ..................................... max_depth=27, total=   3.3s\n",
      "[CV] max_depth=27 ....................................................\n",
      "[CV] ..................................... max_depth=27, total=   3.7s\n",
      "[CV] max_depth=29 ....................................................\n",
      "[CV] ..................................... max_depth=29, total=   0.1s\n",
      "[CV] max_depth=29 ....................................................\n",
      "[CV] ..................................... max_depth=29, total=   0.3s\n",
      "[CV] max_depth=29 ....................................................\n",
      "[CV] ..................................... max_depth=29, total=   0.7s\n",
      "[CV] max_depth=29 ....................................................\n",
      "[CV] ..................................... max_depth=29, total=   1.3s\n",
      "[CV] max_depth=29 ....................................................\n",
      "[CV] ..................................... max_depth=29, total=   1.5s\n",
      "[CV] max_depth=29 ....................................................\n",
      "[CV] ..................................... max_depth=29, total=   1.7s\n",
      "[CV] max_depth=29 ....................................................\n",
      "[CV] ..................................... max_depth=29, total=   2.3s\n",
      "[CV] max_depth=29 ....................................................\n",
      "[CV] ..................................... max_depth=29, total=   2.7s\n",
      "[CV] max_depth=29 ....................................................\n",
      "[CV] ..................................... max_depth=29, total=   3.1s\n",
      "[CV] max_depth=29 ....................................................\n",
      "[CV] ..................................... max_depth=29, total=   3.4s\n",
      "[CV] max_depth=31 ....................................................\n",
      "[CV] ..................................... max_depth=31, total=   0.1s\n",
      "[CV] max_depth=31 ....................................................\n",
      "[CV] ..................................... max_depth=31, total=   0.6s\n",
      "[CV] max_depth=31 ....................................................\n",
      "[CV] ..................................... max_depth=31, total=   0.9s\n",
      "[CV] max_depth=31 ....................................................\n",
      "[CV] ..................................... max_depth=31, total=   1.0s\n",
      "[CV] max_depth=31 ....................................................\n",
      "[CV] ..................................... max_depth=31, total=   1.5s\n",
      "[CV] max_depth=31 ....................................................\n",
      "[CV] ..................................... max_depth=31, total=   2.0s\n",
      "[CV] max_depth=31 ....................................................\n",
      "[CV] ..................................... max_depth=31, total=   2.2s\n",
      "[CV] max_depth=31 ....................................................\n",
      "[CV] ..................................... max_depth=31, total=   2.6s\n",
      "[CV] max_depth=31 ....................................................\n",
      "[CV] ..................................... max_depth=31, total=   3.4s\n",
      "[CV] max_depth=31 ....................................................\n",
      "[CV] ..................................... max_depth=31, total=   3.5s\n",
      "[CV] max_depth=33 ....................................................\n",
      "[CV] ..................................... max_depth=33, total=   0.1s\n",
      "[CV] max_depth=33 ....................................................\n",
      "[CV] ..................................... max_depth=33, total=   0.4s\n",
      "[CV] max_depth=33 ....................................................\n",
      "[CV] ..................................... max_depth=33, total=   0.8s\n",
      "[CV] max_depth=33 ....................................................\n",
      "[CV] ..................................... max_depth=33, total=   1.0s\n",
      "[CV] max_depth=33 ....................................................\n",
      "[CV] ..................................... max_depth=33, total=   1.4s\n",
      "[CV] max_depth=33 ....................................................\n",
      "[CV] ..................................... max_depth=33, total=   1.8s\n",
      "[CV] max_depth=33 ....................................................\n",
      "[CV] ..................................... max_depth=33, total=   2.3s\n",
      "[CV] max_depth=33 ....................................................\n",
      "[CV] ..................................... max_depth=33, total=   2.5s\n",
      "[CV] max_depth=33 ....................................................\n",
      "[CV] ..................................... max_depth=33, total=   3.4s\n",
      "[CV] max_depth=33 ....................................................\n",
      "[CV] ..................................... max_depth=33, total=   3.6s\n",
      "[CV] max_depth=35 ....................................................\n",
      "[CV] ..................................... max_depth=35, total=   0.1s\n",
      "[CV] max_depth=35 ....................................................\n",
      "[CV] ..................................... max_depth=35, total=   0.3s\n",
      "[CV] max_depth=35 ....................................................\n",
      "[CV] ..................................... max_depth=35, total=   0.7s\n",
      "[CV] max_depth=35 ....................................................\n",
      "[CV] ..................................... max_depth=35, total=   1.1s\n",
      "[CV] max_depth=35 ....................................................\n",
      "[CV] ..................................... max_depth=35, total=   1.7s\n",
      "[CV] max_depth=35 ....................................................\n"
     ]
    },
    {
     "name": "stdout",
     "output_type": "stream",
     "text": [
      "[CV] ..................................... max_depth=35, total=   1.8s\n",
      "[CV] max_depth=35 ....................................................\n",
      "[CV] ..................................... max_depth=35, total=   2.6s\n",
      "[CV] max_depth=35 ....................................................\n",
      "[CV] ..................................... max_depth=35, total=   2.7s\n",
      "[CV] max_depth=35 ....................................................\n",
      "[CV] ..................................... max_depth=35, total=   3.1s\n",
      "[CV] max_depth=35 ....................................................\n",
      "[CV] ..................................... max_depth=35, total=   3.6s\n",
      "[CV] max_depth=37 ....................................................\n",
      "[CV] ..................................... max_depth=37, total=   0.2s\n",
      "[CV] max_depth=37 ....................................................\n",
      "[CV] ..................................... max_depth=37, total=   0.3s\n",
      "[CV] max_depth=37 ....................................................\n",
      "[CV] ..................................... max_depth=37, total=   0.9s\n",
      "[CV] max_depth=37 ....................................................\n",
      "[CV] ..................................... max_depth=37, total=   1.2s\n",
      "[CV] max_depth=37 ....................................................\n",
      "[CV] ..................................... max_depth=37, total=   1.7s\n",
      "[CV] max_depth=37 ....................................................\n",
      "[CV] ..................................... max_depth=37, total=   1.9s\n",
      "[CV] max_depth=37 ....................................................\n",
      "[CV] ..................................... max_depth=37, total=   2.3s\n",
      "[CV] max_depth=37 ....................................................\n",
      "[CV] ..................................... max_depth=37, total=   2.6s\n",
      "[CV] max_depth=37 ....................................................\n",
      "[CV] ..................................... max_depth=37, total=   3.0s\n",
      "[CV] max_depth=37 ....................................................\n",
      "[CV] ..................................... max_depth=37, total=   3.7s\n",
      "[CV] max_depth=39 ....................................................\n",
      "[CV] ..................................... max_depth=39, total=   0.1s\n",
      "[CV] max_depth=39 ....................................................\n",
      "[CV] ..................................... max_depth=39, total=   0.4s\n",
      "[CV] max_depth=39 ....................................................\n",
      "[CV] ..................................... max_depth=39, total=   0.9s\n",
      "[CV] max_depth=39 ....................................................\n",
      "[CV] ..................................... max_depth=39, total=   1.1s\n",
      "[CV] max_depth=39 ....................................................\n",
      "[CV] ..................................... max_depth=39, total=   1.6s\n",
      "[CV] max_depth=39 ....................................................\n",
      "[CV] ..................................... max_depth=39, total=   1.9s\n",
      "[CV] max_depth=39 ....................................................\n",
      "[CV] ..................................... max_depth=39, total=   2.2s\n",
      "[CV] max_depth=39 ....................................................\n",
      "[CV] ..................................... max_depth=39, total=   2.6s\n",
      "[CV] max_depth=39 ....................................................\n",
      "[CV] ..................................... max_depth=39, total=   3.1s\n",
      "[CV] max_depth=39 ....................................................\n",
      "[CV] ..................................... max_depth=39, total=   3.6s\n",
      "[CV] max_depth=41 ....................................................\n",
      "[CV] ..................................... max_depth=41, total=   0.1s\n",
      "[CV] max_depth=41 ....................................................\n",
      "[CV] ..................................... max_depth=41, total=   0.4s\n",
      "[CV] max_depth=41 ....................................................\n",
      "[CV] ..................................... max_depth=41, total=   0.7s\n",
      "[CV] max_depth=41 ....................................................\n",
      "[CV] ..................................... max_depth=41, total=   1.0s\n",
      "[CV] max_depth=41 ....................................................\n",
      "[CV] ..................................... max_depth=41, total=   1.4s\n",
      "[CV] max_depth=41 ....................................................\n",
      "[CV] ..................................... max_depth=41, total=   1.8s\n",
      "[CV] max_depth=41 ....................................................\n",
      "[CV] ..................................... max_depth=41, total=   2.1s\n",
      "[CV] max_depth=41 ....................................................\n",
      "[CV] ..................................... max_depth=41, total=   2.5s\n",
      "[CV] max_depth=41 ....................................................\n",
      "[CV] ..................................... max_depth=41, total=   2.8s\n",
      "[CV] max_depth=41 ....................................................\n",
      "[CV] ..................................... max_depth=41, total=   3.1s\n",
      "[CV] max_depth=43 ....................................................\n",
      "[CV] ..................................... max_depth=43, total=   0.1s\n",
      "[CV] max_depth=43 ....................................................\n",
      "[CV] ..................................... max_depth=43, total=   0.3s\n",
      "[CV] max_depth=43 ....................................................\n",
      "[CV] ..................................... max_depth=43, total=   0.7s\n",
      "[CV] max_depth=43 ....................................................\n",
      "[CV] ..................................... max_depth=43, total=   1.0s\n",
      "[CV] max_depth=43 ....................................................\n",
      "[CV] ..................................... max_depth=43, total=   1.7s\n",
      "[CV] max_depth=43 ....................................................\n",
      "[CV] ..................................... max_depth=43, total=   2.1s\n",
      "[CV] max_depth=43 ....................................................\n",
      "[CV] ..................................... max_depth=43, total=   2.4s\n",
      "[CV] max_depth=43 ....................................................\n",
      "[CV] ..................................... max_depth=43, total=   2.5s\n",
      "[CV] max_depth=43 ....................................................\n",
      "[CV] ..................................... max_depth=43, total=   3.7s\n",
      "[CV] max_depth=43 ....................................................\n",
      "[CV] ..................................... max_depth=43, total=   4.2s\n",
      "[CV] max_depth=45 ....................................................\n",
      "[CV] ..................................... max_depth=45, total=   0.1s\n",
      "[CV] max_depth=45 ....................................................\n",
      "[CV] ..................................... max_depth=45, total=   0.4s\n",
      "[CV] max_depth=45 ....................................................\n",
      "[CV] ..................................... max_depth=45, total=   0.8s\n",
      "[CV] max_depth=45 ....................................................\n",
      "[CV] ..................................... max_depth=45, total=   1.3s\n",
      "[CV] max_depth=45 ....................................................\n",
      "[CV] ..................................... max_depth=45, total=   1.6s\n",
      "[CV] max_depth=45 ....................................................\n",
      "[CV] ..................................... max_depth=45, total=   1.8s\n",
      "[CV] max_depth=45 ....................................................\n",
      "[CV] ..................................... max_depth=45, total=   2.2s\n",
      "[CV] max_depth=45 ....................................................\n",
      "[CV] ..................................... max_depth=45, total=   2.5s\n",
      "[CV] max_depth=45 ....................................................\n",
      "[CV] ..................................... max_depth=45, total=   3.1s\n",
      "[CV] max_depth=45 ....................................................\n",
      "[CV] ..................................... max_depth=45, total=   3.3s\n",
      "[CV] max_depth=47 ....................................................\n",
      "[CV] ..................................... max_depth=47, total=   0.1s\n",
      "[CV] max_depth=47 ....................................................\n",
      "[CV] ..................................... max_depth=47, total=   0.3s\n",
      "[CV] max_depth=47 ....................................................\n",
      "[CV] ..................................... max_depth=47, total=   0.8s\n",
      "[CV] max_depth=47 ....................................................\n"
     ]
    },
    {
     "name": "stdout",
     "output_type": "stream",
     "text": [
      "[CV] ..................................... max_depth=47, total=   1.0s\n",
      "[CV] max_depth=47 ....................................................\n",
      "[CV] ..................................... max_depth=47, total=   1.3s\n",
      "[CV] max_depth=47 ....................................................\n",
      "[CV] ..................................... max_depth=47, total=   1.6s\n",
      "[CV] max_depth=47 ....................................................\n",
      "[CV] ..................................... max_depth=47, total=   2.1s\n",
      "[CV] max_depth=47 ....................................................\n",
      "[CV] ..................................... max_depth=47, total=   2.6s\n",
      "[CV] max_depth=47 ....................................................\n",
      "[CV] ..................................... max_depth=47, total=   3.3s\n",
      "[CV] max_depth=47 ....................................................\n",
      "[CV] ..................................... max_depth=47, total=   3.8s\n",
      "[CV] max_depth=49 ....................................................\n",
      "[CV] ..................................... max_depth=49, total=   0.2s\n",
      "[CV] max_depth=49 ....................................................\n",
      "[CV] ..................................... max_depth=49, total=   0.3s\n",
      "[CV] max_depth=49 ....................................................\n",
      "[CV] ..................................... max_depth=49, total=   0.7s\n",
      "[CV] max_depth=49 ....................................................\n",
      "[CV] ..................................... max_depth=49, total=   1.1s\n",
      "[CV] max_depth=49 ....................................................\n",
      "[CV] ..................................... max_depth=49, total=   1.3s\n",
      "[CV] max_depth=49 ....................................................\n",
      "[CV] ..................................... max_depth=49, total=   1.8s\n",
      "[CV] max_depth=49 ....................................................\n",
      "[CV] ..................................... max_depth=49, total=   2.4s\n",
      "[CV] max_depth=49 ....................................................\n",
      "[CV] ..................................... max_depth=49, total=   2.5s\n",
      "[CV] max_depth=49 ....................................................\n",
      "[CV] ..................................... max_depth=49, total=   3.1s\n",
      "[CV] max_depth=49 ....................................................\n",
      "[CV] ..................................... max_depth=49, total=   3.4s\n"
     ]
    },
    {
     "name": "stderr",
     "output_type": "stream",
     "text": [
      "[Parallel(n_jobs=1)]: Done 250 out of 250 | elapsed:  7.3min finished\n"
     ]
    },
    {
     "data": {
      "text/plain": [
       "GridSearchCV(cv=<generator object TimeSeriesSplit.split at 0x0000014246BCF7D8>,\n",
       "       error_score='raise',\n",
       "       estimator=DecisionTreeClassifier(class_weight='balanced', criterion='gini',\n",
       "            max_depth=None, max_features=None, max_leaf_nodes=None,\n",
       "            min_impurity_decrease=0.0, min_impurity_split=None,\n",
       "            min_samples_leaf=1, min_samples_split=2,\n",
       "            min_weight_fraction_leaf=0.0, presort=False, random_state=3,\n",
       "            splitter='best'),\n",
       "       fit_params=None, iid=True, n_jobs=1,\n",
       "       param_grid=[{'max_depth': range(1, 50, 2)}],\n",
       "       pre_dispatch='2*n_jobs', refit=True, return_train_score='warn',\n",
       "       scoring='accuracy', verbose=2)"
      ]
     },
     "execution_count": 93,
     "metadata": {},
     "output_type": "execute_result"
    }
   ],
   "source": [
    "avg1_grid.fit(std_train_avgw2v[:10000],train['Score'][:10000])"
   ]
  },
  {
   "cell_type": "code",
   "execution_count": 94,
   "metadata": {},
   "outputs": [
    {
     "data": {
      "text/plain": [
       "DecisionTreeClassifier(class_weight='balanced', criterion='gini',\n",
       "            max_depth=29, max_features=None, max_leaf_nodes=None,\n",
       "            min_impurity_decrease=0.0, min_impurity_split=None,\n",
       "            min_samples_leaf=1, min_samples_split=2,\n",
       "            min_weight_fraction_leaf=0.0, presort=False, random_state=3,\n",
       "            splitter='best')"
      ]
     },
     "execution_count": 94,
     "metadata": {},
     "output_type": "execute_result"
    }
   ],
   "source": [
    "avg1_grid.best_estimator_"
   ]
  },
  {
   "cell_type": "code",
   "execution_count": 95,
   "metadata": {},
   "outputs": [
    {
     "data": {
      "text/plain": [
       "0.8255225522552255"
      ]
     },
     "execution_count": 95,
     "metadata": {},
     "output_type": "execute_result"
    }
   ],
   "source": [
    "avg1_grid.best_score_"
   ]
  },
  {
   "cell_type": "code",
   "execution_count": 96,
   "metadata": {},
   "outputs": [
    {
     "data": {
      "image/png": "[encoded data removed]",
      "text/plain": [
       "<Figure size 864x504 with 1 Axes>"
      ]
     },
     "metadata": {},
     "output_type": "display_data"
    }
   ],
   "source": [
    "plotter(avg1_grid)"
   ]
  },
  {
   "cell_type": "raw",
   "metadata": {},
   "source": [
    "CV-2:"
   ]
  },
  {
   "cell_type": "code",
   "execution_count": 54,
   "metadata": {},
   "outputs": [],
   "source": [
    "avg1_grid=grid_s(std_train_avgw2v[:10000],[10,100,150,200,250,300])"
   ]
  },
  {
   "cell_type": "code",
   "execution_count": 55,
   "metadata": {
    "scrolled": true
   },
   "outputs": [
    {
     "name": "stdout",
     "output_type": "stream",
     "text": [
      "Fitting 10 folds for each of 6 candidates, totalling 60 fits\n",
      "[CV] max_depth=10 ....................................................\n",
      "[CV] ..................................... max_depth=10, total=   0.1s\n",
      "[CV] max_depth=10 ....................................................\n"
     ]
    },
    {
     "name": "stderr",
     "output_type": "stream",
     "text": [
      "[Parallel(n_jobs=1)]: Done   1 out of   1 | elapsed:    0.1s remaining:    0.0s\n"
     ]
    },
    {
     "name": "stdout",
     "output_type": "stream",
     "text": [
      "[CV] ..................................... max_depth=10, total=   0.3s\n",
      "[CV] max_depth=10 ....................................................\n",
      "[CV] ..................................... max_depth=10, total=   0.7s\n",
      "[CV] max_depth=10 ....................................................\n",
      "[CV] ..................................... max_depth=10, total=   1.1s\n",
      "[CV] max_depth=10 ....................................................\n",
      "[CV] ..................................... max_depth=10, total=   1.7s\n",
      "[CV] max_depth=10 ....................................................\n",
      "[CV] ..................................... max_depth=10, total=   1.8s\n",
      "[CV] max_depth=10 ....................................................\n",
      "[CV] ..................................... max_depth=10, total=   2.2s\n",
      "[CV] max_depth=10 ....................................................\n",
      "[CV] ..................................... max_depth=10, total=   2.6s\n",
      "[CV] max_depth=10 ....................................................\n",
      "[CV] ..................................... max_depth=10, total=   3.1s\n",
      "[CV] max_depth=10 ....................................................\n",
      "[CV] ..................................... max_depth=10, total=   3.3s\n",
      "[CV] max_depth=100 ...................................................\n",
      "[CV] .................................... max_depth=100, total=   0.1s\n",
      "[CV] max_depth=100 ...................................................\n",
      "[CV] .................................... max_depth=100, total=   0.4s\n",
      "[CV] max_depth=100 ...................................................\n",
      "[CV] .................................... max_depth=100, total=   0.9s\n",
      "[CV] max_depth=100 ...................................................\n",
      "[CV] .................................... max_depth=100, total=   1.2s\n",
      "[CV] max_depth=100 ...................................................\n",
      "[CV] .................................... max_depth=100, total=   1.6s\n",
      "[CV] max_depth=100 ...................................................\n",
      "[CV] .................................... max_depth=100, total=   2.5s\n",
      "[CV] max_depth=100 ...................................................\n",
      "[CV] .................................... max_depth=100, total=   3.3s\n",
      "[CV] max_depth=100 ...................................................\n",
      "[CV] .................................... max_depth=100, total=   3.6s\n",
      "[CV] max_depth=100 ...................................................\n",
      "[CV] .................................... max_depth=100, total=   3.2s\n",
      "[CV] max_depth=100 ...................................................\n",
      "[CV] .................................... max_depth=100, total=   4.1s\n",
      "[CV] max_depth=150 ...................................................\n",
      "[CV] .................................... max_depth=150, total=   0.1s\n",
      "[CV] max_depth=150 ...................................................\n",
      "[CV] .................................... max_depth=150, total=   0.4s\n",
      "[CV] max_depth=150 ...................................................\n",
      "[CV] .................................... max_depth=150, total=   0.9s\n",
      "[CV] max_depth=150 ...................................................\n",
      "[CV] .................................... max_depth=150, total=   1.2s\n",
      "[CV] max_depth=150 ...................................................\n",
      "[CV] .................................... max_depth=150, total=   1.7s\n",
      "[CV] max_depth=150 ...................................................\n",
      "[CV] .................................... max_depth=150, total=   1.9s\n",
      "[CV] max_depth=150 ...................................................\n",
      "[CV] .................................... max_depth=150, total=   2.5s\n",
      "[CV] max_depth=150 ...................................................\n",
      "[CV] .................................... max_depth=150, total=   3.3s\n",
      "[CV] max_depth=150 ...................................................\n",
      "[CV] .................................... max_depth=150, total=   3.9s\n",
      "[CV] max_depth=150 ...................................................\n",
      "[CV] .................................... max_depth=150, total=   4.4s\n",
      "[CV] max_depth=200 ...................................................\n",
      "[CV] .................................... max_depth=200, total=   0.1s\n",
      "[CV] max_depth=200 ...................................................\n",
      "[CV] .................................... max_depth=200, total=   0.4s\n",
      "[CV] max_depth=200 ...................................................\n",
      "[CV] .................................... max_depth=200, total=   0.9s\n",
      "[CV] max_depth=200 ...................................................\n",
      "[CV] .................................... max_depth=200, total=   1.4s\n",
      "[CV] max_depth=200 ...................................................\n",
      "[CV] .................................... max_depth=200, total=   2.0s\n",
      "[CV] max_depth=200 ...................................................\n",
      "[CV] .................................... max_depth=200, total=   3.1s\n",
      "[CV] max_depth=200 ...................................................\n",
      "[CV] .................................... max_depth=200, total=   2.8s\n",
      "[CV] max_depth=200 ...................................................\n",
      "[CV] .................................... max_depth=200, total=   4.1s\n",
      "[CV] max_depth=200 ...................................................\n",
      "[CV] .................................... max_depth=200, total=   4.1s\n",
      "[CV] max_depth=200 ...................................................\n",
      "[CV] .................................... max_depth=200, total=   5.5s\n",
      "[CV] max_depth=250 ...................................................\n",
      "[CV] .................................... max_depth=250, total=   0.1s\n",
      "[CV] max_depth=250 ...................................................\n",
      "[CV] .................................... max_depth=250, total=   0.4s\n",
      "[CV] max_depth=250 ...................................................\n",
      "[CV] .................................... max_depth=250, total=   0.9s\n",
      "[CV] max_depth=250 ...................................................\n",
      "[CV] .................................... max_depth=250, total=   1.3s\n",
      "[CV] max_depth=250 ...................................................\n",
      "[CV] .................................... max_depth=250, total=   1.7s\n",
      "[CV] max_depth=250 ...................................................\n",
      "[CV] .................................... max_depth=250, total=   2.0s\n",
      "[CV] max_depth=250 ...................................................\n",
      "[CV] .................................... max_depth=250, total=   2.5s\n",
      "[CV] max_depth=250 ...................................................\n",
      "[CV] .................................... max_depth=250, total=   2.9s\n",
      "[CV] max_depth=250 ...................................................\n",
      "[CV] .................................... max_depth=250, total=   3.5s\n",
      "[CV] max_depth=250 ...................................................\n",
      "[CV] .................................... max_depth=250, total=   4.2s\n",
      "[CV] max_depth=300 ...................................................\n",
      "[CV] .................................... max_depth=300, total=   0.1s\n",
      "[CV] max_depth=300 ...................................................\n",
      "[CV] .................................... max_depth=300, total=   0.4s\n",
      "[CV] max_depth=300 ...................................................\n",
      "[CV] .................................... max_depth=300, total=   0.8s\n",
      "[CV] max_depth=300 ...................................................\n",
      "[CV] .................................... max_depth=300, total=   1.2s\n",
      "[CV] max_depth=300 ...................................................\n",
      "[CV] .................................... max_depth=300, total=   1.8s\n",
      "[CV] max_depth=300 ...................................................\n",
      "[CV] .................................... max_depth=300, total=   2.2s\n",
      "[CV] max_depth=300 ...................................................\n",
      "[CV] .................................... max_depth=300, total=   2.7s\n",
      "[CV] max_depth=300 ...................................................\n",
      "[CV] .................................... max_depth=300, total=   3.1s\n",
      "[CV] max_depth=300 ...................................................\n",
      "[CV] .................................... max_depth=300, total=   3.7s\n",
      "[CV] max_depth=300 ...................................................\n"
     ]
    },
    {
     "name": "stdout",
     "output_type": "stream",
     "text": [
      "[CV] .................................... max_depth=300, total=   4.1s\n"
     ]
    },
    {
     "name": "stderr",
     "output_type": "stream",
     "text": [
      "[Parallel(n_jobs=1)]: Done  60 out of  60 | elapsed:  2.2min finished\n"
     ]
    },
    {
     "data": {
      "text/plain": [
       "GridSearchCV(cv=<generator object TimeSeriesSplit.split at 0x00000178544F0FC0>,\n",
       "       error_score='raise',\n",
       "       estimator=DecisionTreeClassifier(class_weight='balanced', criterion='gini',\n",
       "            max_depth=None, max_features=None, max_leaf_nodes=None,\n",
       "            min_impurity_decrease=0.0, min_impurity_split=None,\n",
       "            min_samples_leaf=1, min_samples_split=2,\n",
       "            min_weight_fraction_leaf=0.0, presort=False, random_state=3,\n",
       "            splitter='best'),\n",
       "       fit_params=None, iid=True, n_jobs=1,\n",
       "       param_grid=[{'max_depth': [10, 100, 150, 200, 250, 300]}],\n",
       "       pre_dispatch='2*n_jobs', refit=True, return_train_score='warn',\n",
       "       scoring='accuracy', verbose=2)"
      ]
     },
     "execution_count": 55,
     "metadata": {},
     "output_type": "execute_result"
    }
   ],
   "source": [
    "avg1_grid.fit(std_train_avgw2v[:10000],train['Score'][:10000])"
   ]
  },
  {
   "cell_type": "code",
   "execution_count": 56,
   "metadata": {},
   "outputs": [
    {
     "data": {
      "text/plain": [
       "DecisionTreeClassifier(class_weight='balanced', criterion='gini',\n",
       "            max_depth=100, max_features=None, max_leaf_nodes=None,\n",
       "            min_impurity_decrease=0.0, min_impurity_split=None,\n",
       "            min_samples_leaf=1, min_samples_split=2,\n",
       "            min_weight_fraction_leaf=0.0, presort=False, random_state=3,\n",
       "            splitter='best')"
      ]
     },
     "execution_count": 56,
     "metadata": {},
     "output_type": "execute_result"
    }
   ],
   "source": [
    "avg1_grid.best_estimator_"
   ]
  },
  {
   "cell_type": "code",
   "execution_count": 57,
   "metadata": {},
   "outputs": [
    {
     "data": {
      "text/plain": [
       "0.8251925192519252"
      ]
     },
     "execution_count": 57,
     "metadata": {},
     "output_type": "execute_result"
    }
   ],
   "source": [
    "avg1_grid.best_score_"
   ]
  },
  {
   "cell_type": "code",
   "execution_count": 58,
   "metadata": {},
   "outputs": [
    {
     "data": {
      "image/png": "[encoded data removed]",
      "text/plain": [
       "<Figure size 864x504 with 1 Axes>"
      ]
     },
     "metadata": {},
     "output_type": "display_data"
    }
   ],
   "source": [
    "plotter(avg1_grid)"
   ]
  },
  {
   "cell_type": "raw",
   "metadata": {},
   "source": [
    "Random Search CV:"
   ]
  },
  {
   "cell_type": "code",
   "execution_count": 97,
   "metadata": {},
   "outputs": [],
   "source": [
    "#Random Search\n",
    "avg1_rand=random_s(std_train_avgw2v[:10000])"
   ]
  },
  {
   "cell_type": "code",
   "execution_count": 98,
   "metadata": {
    "scrolled": true
   },
   "outputs": [
    {
     "name": "stdout",
     "output_type": "stream",
     "text": [
      "Fitting 10 folds for each of 1 candidates, totalling 10 fits\n",
      "[CV] max_depth=29.965568806114796 ....................................\n",
      "[CV] ..................... max_depth=29.965568806114796, total=   0.2s\n",
      "[CV] max_depth=29.965568806114796 ....................................\n"
     ]
    },
    {
     "name": "stderr",
     "output_type": "stream",
     "text": [
      "[Parallel(n_jobs=1)]: Done   1 out of   1 | elapsed:    0.2s remaining:    0.0s\n"
     ]
    },
    {
     "name": "stdout",
     "output_type": "stream",
     "text": [
      "[CV] ..................... max_depth=29.965568806114796, total=   0.4s\n",
      "[CV] max_depth=29.965568806114796 ....................................\n",
      "[CV] ..................... max_depth=29.965568806114796, total=   0.9s\n",
      "[CV] max_depth=29.965568806114796 ....................................\n",
      "[CV] ..................... max_depth=29.965568806114796, total=   1.3s\n",
      "[CV] max_depth=29.965568806114796 ....................................\n",
      "[CV] ..................... max_depth=29.965568806114796, total=   1.8s\n",
      "[CV] max_depth=29.965568806114796 ....................................\n",
      "[CV] ..................... max_depth=29.965568806114796, total=   2.6s\n",
      "[CV] max_depth=29.965568806114796 ....................................\n",
      "[CV] ..................... max_depth=29.965568806114796, total=   3.3s\n",
      "[CV] max_depth=29.965568806114796 ....................................\n",
      "[CV] ..................... max_depth=29.965568806114796, total=   3.3s\n",
      "[CV] max_depth=29.965568806114796 ....................................\n",
      "[CV] ..................... max_depth=29.965568806114796, total=   3.5s\n",
      "[CV] max_depth=29.965568806114796 ....................................\n",
      "[CV] ..................... max_depth=29.965568806114796, total=   4.0s\n"
     ]
    },
    {
     "name": "stderr",
     "output_type": "stream",
     "text": [
      "[Parallel(n_jobs=1)]: Done  10 out of  10 | elapsed:   22.7s finished\n"
     ]
    },
    {
     "data": {
      "text/plain": [
       "GridSearchCV(cv=<generator object TimeSeriesSplit.split at 0x0000014246BCFAF0>,\n",
       "       error_score='raise',\n",
       "       estimator=DecisionTreeClassifier(class_weight='balanced', criterion='gini',\n",
       "            max_depth=None, max_features=None, max_leaf_nodes=None,\n",
       "            min_impurity_decrease=0.0, min_impurity_split=None,\n",
       "            min_samples_leaf=1, min_samples_split=2,\n",
       "            min_weight_fraction_leaf=0.0, presort=False, random_state=3,\n",
       "            splitter='best'),\n",
       "       fit_params=None, iid=True, n_jobs=1,\n",
       "       param_grid={'max_depth': [29.965568806114796]},\n",
       "       pre_dispatch='2*n_jobs', refit=True, return_train_score='warn',\n",
       "       scoring='accuracy', verbose=2)"
      ]
     },
     "execution_count": 98,
     "metadata": {},
     "output_type": "execute_result"
    }
   ],
   "source": [
    "avg1_rand.fit(std_train_avgw2v[:10000],train['Score'][:10000])"
   ]
  },
  {
   "cell_type": "code",
   "execution_count": 99,
   "metadata": {},
   "outputs": [
    {
     "data": {
      "text/plain": [
       "DecisionTreeClassifier(class_weight='balanced', criterion='gini',\n",
       "            max_depth=29.965568806114796, max_features=None,\n",
       "            max_leaf_nodes=None, min_impurity_decrease=0.0,\n",
       "            min_impurity_split=None, min_samples_leaf=1,\n",
       "            min_samples_split=2, min_weight_fraction_leaf=0.0,\n",
       "            presort=False, random_state=3, splitter='best')"
      ]
     },
     "execution_count": 99,
     "metadata": {},
     "output_type": "execute_result"
    }
   ],
   "source": [
    "avg1_rand.best_estimator_"
   ]
  },
  {
   "cell_type": "code",
   "execution_count": 100,
   "metadata": {},
   "outputs": [
    {
     "data": {
      "text/plain": [
       "0.8255225522552255"
      ]
     },
     "execution_count": 100,
     "metadata": {},
     "output_type": "execute_result"
    }
   ],
   "source": [
    "avg1_rand.best_score_"
   ]
  },
  {
   "cell_type": "markdown",
   "metadata": {},
   "source": [
    "### Implementation:"
   ]
  },
  {
   "cell_type": "code",
   "execution_count": 49,
   "metadata": {},
   "outputs": [],
   "source": [
    "dt=DecisionTreeClassifier(class_weight='balanced', criterion='gini',\n",
    "            max_depth=100, max_features=None, max_leaf_nodes=None,\n",
    "            min_impurity_decrease=0.0, min_impurity_split=None,\n",
    "            min_samples_leaf=1, min_samples_split=2,\n",
    "            min_weight_fraction_leaf=0.0, presort=False, random_state=3,\n",
    "            splitter='best')"
   ]
  },
  {
   "cell_type": "code",
   "execution_count": 50,
   "metadata": {},
   "outputs": [
    {
     "data": {
      "text/plain": [
       "DecisionTreeClassifier(class_weight='balanced', criterion='gini',\n",
       "            max_depth=100, max_features=None, max_leaf_nodes=None,\n",
       "            min_impurity_decrease=0.0, min_impurity_split=None,\n",
       "            min_samples_leaf=1, min_samples_split=2,\n",
       "            min_weight_fraction_leaf=0.0, presort=False, random_state=3,\n",
       "            splitter='best')"
      ]
     },
     "execution_count": 50,
     "metadata": {},
     "output_type": "execute_result"
    }
   ],
   "source": [
    "dt.fit(std_train_avgw2v,train['Score'])"
   ]
  },
  {
   "cell_type": "code",
   "execution_count": 51,
   "metadata": {},
   "outputs": [],
   "source": [
    "pred1=dt.predict(std_test_avgw2v)"
   ]
  },
  {
   "cell_type": "code",
   "execution_count": 52,
   "metadata": {},
   "outputs": [
    {
     "name": "stdout",
     "output_type": "stream",
     "text": [
      "77.35489835333314\n"
     ]
    }
   ],
   "source": [
    "acc=accuracy_score(pred1,test['Score'])\n",
    "print(acc*100)"
   ]
  },
  {
   "cell_type": "markdown",
   "metadata": {},
   "source": [
    "## Performace of Decision tree model with Avg W2V:"
   ]
  },
  {
   "cell_type": "code",
   "execution_count": 53,
   "metadata": {},
   "outputs": [
    {
     "name": "stdout",
     "output_type": "stream",
     "text": [
      "\n",
      "******************************************************************************* \n",
      "\n",
      " Accuracy is 0.7735489835333315\n",
      "\n",
      "******************************************************************************* \n",
      "\n",
      " TNR value is 0.29830721660290344\n",
      " FNR value is 0.7016927833970966\n",
      " FPR value is 0.12588444050127537\n",
      " TPR value is 0.8741155594987247\n",
      "\n",
      "******************************************************************************* \n",
      "\n",
      " Confusion Matrix is :\n",
      "[[ 5692 13389]\n",
      " [11351 78819]]\n",
      "\n",
      "******************************************************************************* \n",
      "\n",
      " Precision is 0.8741155594987247\n",
      " Recall value is 0.8547956793336804\n",
      " F1 Score is 0.8643476735132527\n",
      "\n",
      "******************************************************************************* \n",
      "\n",
      "Heat Map of the Confusion matrix is\n",
      "\n",
      "******************************************************************************* \n",
      "\n"
     ]
    },
    {
     "data": {
      "image/png": "[encoded data removed]",
      "text/plain": [
       "<Figure size 432x288 with 2 Axes>"
      ]
     },
     "metadata": {},
     "output_type": "display_data"
    }
   ],
   "source": [
    "CM(test['Score'],pred1)"
   ]
  },
  {
   "cell_type": "markdown",
   "metadata": {},
   "source": [
    "### Saving the tree to a PDF file."
   ]
  },
  {
   "cell_type": "code",
   "execution_count": 17,
   "metadata": {
    "scrolled": true
   },
   "outputs": [
    {
     "data": {
      "text/plain": [
       "'G:\\\\ML\\\\Exercises\\\\ex 7\\\\Graphviz\\\\Avg_w2v.pdf'"
      ]
     },
     "execution_count": 17,
     "metadata": {},
     "output_type": "execute_result"
    }
   ],
   "source": [
    "d_tree=DecisionTreeClassifier(class_weight='balanced', criterion='gini',\n",
    "            max_depth=5, max_features=None, max_leaf_nodes=None,\n",
    "            min_impurity_decrease=0.0, min_impurity_split=None,\n",
    "            min_samples_leaf=1, min_samples_split=2,\n",
    "            min_weight_fraction_leaf=0.0, presort=False, random_state=3,\n",
    "            splitter='best')\n",
    "d_tree.fit(std_train_avgw2v,train['Score'])\n",
    "DT=tree.export_graphviz(d_tree,out_file=None,class_names=['positive','negative'],filled=True)\n",
    "x=graphviz.Source(DT)\n",
    "x.render(filename='G:\\ML\\Exercises\\ex 7\\Graphviz\\Avg_w2v')"
   ]
  },
  {
   "cell_type": "markdown",
   "metadata": {},
   "source": [
    "#### We can't obtain feature importance from wor2vec models as each dimension there doesn't correspond to a unique word in a dataset like in BOW & Tfidf."
   ]
  },
  {
   "cell_type": "raw",
   "metadata": {},
   "source": [
    "********************************************************************************************************************************"
   ]
  },
  {
   "cell_type": "markdown",
   "metadata": {},
   "source": [
    "# 5.) Tf-IDF weighted Word2Vec Vectorization:"
   ]
  },
  {
   "cell_type": "code",
   "execution_count": 37,
   "metadata": {},
   "outputs": [],
   "source": [
    "dictionary = dict(zip(tfidf.get_feature_names(), list(tfidf.idf_)))"
   ]
  },
  {
   "cell_type": "code",
   "execution_count": 40,
   "metadata": {},
   "outputs": [],
   "source": [
    "features=tfidf.get_feature_names()\n",
    "\n",
    "def tfidf_w2v(x):\n",
    "    '''\n",
    "    To calculate Tf-IDf weighted word2vec for a review\n",
    "    '''     \n",
    "    row=0\n",
    "    sentence_vectors=[]\n",
    "    for sentences in x:\n",
    "        weight=0\n",
    "        s_v=np.zeros(200)\n",
    "        for words in sentences.split():\n",
    "            if words in w2v_list:\n",
    "                try:\n",
    "                    v=w2v.wv[words]\n",
    "                    #tfidf_value=y[row,features.index(words)]\n",
    "                    tfidf_value = dictionary[words]*sentences.count(words)\n",
    "                    s_v+=(v*tfidf_value)\n",
    "                    weight+=tfidf_value\n",
    "                except(KeyError):\n",
    "                    continue                \n",
    "            else:\n",
    "                continue\n",
    "        if(weight!=0):\n",
    "            s_v/=weight\n",
    "        sentence_vectors.append(s_v)\n",
    "        row+=1\n",
    "    return sentence_vectors\n",
    "                \n",
    "    \n",
    "    "
   ]
  },
  {
   "cell_type": "raw",
   "metadata": {},
   "source": [
    "train_tfidf_w2v=tfidf_w2v(train['New'])"
   ]
  },
  {
   "cell_type": "code",
   "execution_count": 18,
   "metadata": {},
   "outputs": [],
   "source": [
    "with open(r'G:\\ML\\Pickles\\tfidfw2v_train_200d.pickle','rb') as f:\n",
    "    train_tfidf_w2v=pickle.load(f)"
   ]
  },
  {
   "cell_type": "raw",
   "metadata": {},
   "source": [
    "test_tfidf_w2v=tfidf_w2v(test['New'])"
   ]
  },
  {
   "cell_type": "code",
   "execution_count": 19,
   "metadata": {},
   "outputs": [],
   "source": [
    "with open(r'G:\\ML\\Pickles\\tfidfw2v_test_200d.pickle','rb') as f:\n",
    "    test_tfidf_w2v=pickle.load(f)"
   ]
  },
  {
   "cell_type": "code",
   "execution_count": 20,
   "metadata": {},
   "outputs": [],
   "source": [
    "scaler=StandardScaler(with_mean=False)\n",
    "std_train_tfidfw2v=scaler.fit_transform(train_tfidf_w2v)\n",
    "std_test_tfidfw2v=scaler.transform(test_tfidf_w2v)"
   ]
  },
  {
   "cell_type": "markdown",
   "metadata": {},
   "source": [
    "### Cross validation:"
   ]
  },
  {
   "cell_type": "raw",
   "metadata": {},
   "source": [
    "CV-1:"
   ]
  },
  {
   "cell_type": "code",
   "execution_count": 85,
   "metadata": {},
   "outputs": [],
   "source": [
    "tfidf_w2v_grid=grid_s(std_train_tfidfw2v[:10000])"
   ]
  },
  {
   "cell_type": "code",
   "execution_count": 86,
   "metadata": {
    "scrolled": true
   },
   "outputs": [
    {
     "name": "stdout",
     "output_type": "stream",
     "text": [
      "Fitting 10 folds for each of 25 candidates, totalling 250 fits\n",
      "[CV] max_depth=1 .....................................................\n",
      "[CV] ...................................... max_depth=1, total=   0.0s\n",
      "[CV] max_depth=1 .....................................................\n"
     ]
    },
    {
     "name": "stderr",
     "output_type": "stream",
     "text": [
      "[Parallel(n_jobs=1)]: Done   1 out of   1 | elapsed:    0.0s remaining:    0.0s\n"
     ]
    },
    {
     "name": "stdout",
     "output_type": "stream",
     "text": [
      "[CV] ...................................... max_depth=1, total=   0.0s\n",
      "[CV] max_depth=1 .....................................................\n",
      "[CV] ...................................... max_depth=1, total=   0.1s\n",
      "[CV] max_depth=1 .....................................................\n",
      "[CV] ...................................... max_depth=1, total=   0.1s\n",
      "[CV] max_depth=1 .....................................................\n",
      "[CV] ...................................... max_depth=1, total=   0.2s\n",
      "[CV] max_depth=1 .....................................................\n",
      "[CV] ...................................... max_depth=1, total=   0.4s\n",
      "[CV] max_depth=1 .....................................................\n",
      "[CV] ...................................... max_depth=1, total=   0.4s\n",
      "[CV] max_depth=1 .....................................................\n",
      "[CV] ...................................... max_depth=1, total=   0.5s\n",
      "[CV] max_depth=1 .....................................................\n",
      "[CV] ...................................... max_depth=1, total=   0.5s\n",
      "[CV] max_depth=1 .....................................................\n",
      "[CV] ...................................... max_depth=1, total=   0.6s\n",
      "[CV] max_depth=3 .....................................................\n",
      "[CV] ...................................... max_depth=3, total=   0.1s\n",
      "[CV] max_depth=3 .....................................................\n",
      "[CV] ...................................... max_depth=3, total=   0.2s\n",
      "[CV] max_depth=3 .....................................................\n",
      "[CV] ...................................... max_depth=3, total=   0.3s\n",
      "[CV] max_depth=3 .....................................................\n",
      "[CV] ...................................... max_depth=3, total=   0.5s\n",
      "[CV] max_depth=3 .....................................................\n",
      "[CV] ...................................... max_depth=3, total=   0.6s\n",
      "[CV] max_depth=3 .....................................................\n",
      "[CV] ...................................... max_depth=3, total=   0.7s\n",
      "[CV] max_depth=3 .....................................................\n",
      "[CV] ...................................... max_depth=3, total=   0.9s\n",
      "[CV] max_depth=3 .....................................................\n",
      "[CV] ...................................... max_depth=3, total=   1.1s\n",
      "[CV] max_depth=3 .....................................................\n",
      "[CV] ...................................... max_depth=3, total=   1.1s\n",
      "[CV] max_depth=3 .....................................................\n",
      "[CV] ...................................... max_depth=3, total=   1.3s\n",
      "[CV] max_depth=5 .....................................................\n",
      "[CV] ...................................... max_depth=5, total=   0.0s\n",
      "[CV] max_depth=5 .....................................................\n",
      "[CV] ...................................... max_depth=5, total=   0.3s\n",
      "[CV] max_depth=5 .....................................................\n",
      "[CV] ...................................... max_depth=5, total=   0.5s\n",
      "[CV] max_depth=5 .....................................................\n",
      "[CV] ...................................... max_depth=5, total=   0.8s\n",
      "[CV] max_depth=5 .....................................................\n",
      "[CV] ...................................... max_depth=5, total=   1.0s\n",
      "[CV] max_depth=5 .....................................................\n",
      "[CV] ...................................... max_depth=5, total=   1.2s\n",
      "[CV] max_depth=5 .....................................................\n",
      "[CV] ...................................... max_depth=5, total=   1.6s\n",
      "[CV] max_depth=5 .....................................................\n",
      "[CV] ...................................... max_depth=5, total=   1.6s\n",
      "[CV] max_depth=5 .....................................................\n",
      "[CV] ...................................... max_depth=5, total=   2.1s\n",
      "[CV] max_depth=5 .....................................................\n",
      "[CV] ...................................... max_depth=5, total=   2.2s\n",
      "[CV] max_depth=7 .....................................................\n",
      "[CV] ...................................... max_depth=7, total=   0.1s\n",
      "[CV] max_depth=7 .....................................................\n",
      "[CV] ...................................... max_depth=7, total=   0.4s\n",
      "[CV] max_depth=7 .....................................................\n",
      "[CV] ...................................... max_depth=7, total=   0.7s\n",
      "[CV] max_depth=7 .....................................................\n",
      "[CV] ...................................... max_depth=7, total=   0.9s\n",
      "[CV] max_depth=7 .....................................................\n",
      "[CV] ...................................... max_depth=7, total=   1.3s\n",
      "[CV] max_depth=7 .....................................................\n",
      "[CV] ...................................... max_depth=7, total=   1.6s\n",
      "[CV] max_depth=7 .....................................................\n",
      "[CV] ...................................... max_depth=7, total=   1.9s\n",
      "[CV] max_depth=7 .....................................................\n",
      "[CV] ...................................... max_depth=7, total=   2.5s\n",
      "[CV] max_depth=7 .....................................................\n",
      "[CV] ...................................... max_depth=7, total=   3.3s\n",
      "[CV] max_depth=7 .....................................................\n",
      "[CV] ...................................... max_depth=7, total=   3.8s\n",
      "[CV] max_depth=9 .....................................................\n",
      "[CV] ...................................... max_depth=9, total=   0.1s\n",
      "[CV] max_depth=9 .....................................................\n",
      "[CV] ...................................... max_depth=9, total=   0.4s\n",
      "[CV] max_depth=9 .....................................................\n",
      "[CV] ...................................... max_depth=9, total=   0.7s\n",
      "[CV] max_depth=9 .....................................................\n",
      "[CV] ...................................... max_depth=9, total=   1.6s\n",
      "[CV] max_depth=9 .....................................................\n",
      "[CV] ...................................... max_depth=9, total=   1.8s\n",
      "[CV] max_depth=9 .....................................................\n",
      "[CV] ...................................... max_depth=9, total=   2.1s\n",
      "[CV] max_depth=9 .....................................................\n",
      "[CV] ...................................... max_depth=9, total=   3.1s\n",
      "[CV] max_depth=9 .....................................................\n",
      "[CV] ...................................... max_depth=9, total=   3.3s\n",
      "[CV] max_depth=9 .....................................................\n",
      "[CV] ...................................... max_depth=9, total=   4.1s\n",
      "[CV] max_depth=9 .....................................................\n",
      "[CV] ...................................... max_depth=9, total=   4.4s\n",
      "[CV] max_depth=11 ....................................................\n",
      "[CV] ..................................... max_depth=11, total=   0.2s\n",
      "[CV] max_depth=11 ....................................................\n",
      "[CV] ..................................... max_depth=11, total=   0.6s\n",
      "[CV] max_depth=11 ....................................................\n",
      "[CV] ..................................... max_depth=11, total=   1.0s\n",
      "[CV] max_depth=11 ....................................................\n",
      "[CV] ..................................... max_depth=11, total=   1.2s\n",
      "[CV] max_depth=11 ....................................................\n",
      "[CV] ..................................... max_depth=11, total=   1.8s\n",
      "[CV] max_depth=11 ....................................................\n",
      "[CV] ..................................... max_depth=11, total=   2.2s\n",
      "[CV] max_depth=11 ....................................................\n",
      "[CV] ..................................... max_depth=11, total=   3.1s\n",
      "[CV] max_depth=11 ....................................................\n",
      "[CV] ..................................... max_depth=11, total=   3.1s\n",
      "[CV] max_depth=11 ....................................................\n",
      "[CV] ..................................... max_depth=11, total=   3.7s\n",
      "[CV] max_depth=11 ....................................................\n"
     ]
    },
    {
     "name": "stdout",
     "output_type": "stream",
     "text": [
      "[CV] ..................................... max_depth=11, total=   4.2s\n",
      "[CV] max_depth=13 ....................................................\n",
      "[CV] ..................................... max_depth=13, total=   0.1s\n",
      "[CV] max_depth=13 ....................................................\n",
      "[CV] ..................................... max_depth=13, total=   0.4s\n",
      "[CV] max_depth=13 ....................................................\n",
      "[CV] ..................................... max_depth=13, total=   0.7s\n",
      "[CV] max_depth=13 ....................................................\n",
      "[CV] ..................................... max_depth=13, total=   1.2s\n",
      "[CV] max_depth=13 ....................................................\n",
      "[CV] ..................................... max_depth=13, total=   1.8s\n",
      "[CV] max_depth=13 ....................................................\n",
      "[CV] ..................................... max_depth=13, total=   2.1s\n",
      "[CV] max_depth=13 ....................................................\n",
      "[CV] ..................................... max_depth=13, total=   2.9s\n",
      "[CV] max_depth=13 ....................................................\n",
      "[CV] ..................................... max_depth=13, total=   3.3s\n",
      "[CV] max_depth=13 ....................................................\n",
      "[CV] ..................................... max_depth=13, total=   4.3s\n",
      "[CV] max_depth=13 ....................................................\n",
      "[CV] ..................................... max_depth=13, total=   4.5s\n",
      "[CV] max_depth=15 ....................................................\n",
      "[CV] ..................................... max_depth=15, total=   0.1s\n",
      "[CV] max_depth=15 ....................................................\n",
      "[CV] ..................................... max_depth=15, total=   0.4s\n",
      "[CV] max_depth=15 ....................................................\n",
      "[CV] ..................................... max_depth=15, total=   0.9s\n",
      "[CV] max_depth=15 ....................................................\n",
      "[CV] ..................................... max_depth=15, total=   1.0s\n",
      "[CV] max_depth=15 ....................................................\n",
      "[CV] ..................................... max_depth=15, total=   1.4s\n",
      "[CV] max_depth=15 ....................................................\n",
      "[CV] ..................................... max_depth=15, total=   2.2s\n",
      "[CV] max_depth=15 ....................................................\n",
      "[CV] ..................................... max_depth=15, total=   3.3s\n",
      "[CV] max_depth=15 ....................................................\n",
      "[CV] ..................................... max_depth=15, total=   3.4s\n",
      "[CV] max_depth=15 ....................................................\n",
      "[CV] ..................................... max_depth=15, total=   4.0s\n",
      "[CV] max_depth=15 ....................................................\n",
      "[CV] ..................................... max_depth=15, total=   5.1s\n",
      "[CV] max_depth=17 ....................................................\n",
      "[CV] ..................................... max_depth=17, total=   0.1s\n",
      "[CV] max_depth=17 ....................................................\n",
      "[CV] ..................................... max_depth=17, total=   0.4s\n",
      "[CV] max_depth=17 ....................................................\n",
      "[CV] ..................................... max_depth=17, total=   0.9s\n",
      "[CV] max_depth=17 ....................................................\n",
      "[CV] ..................................... max_depth=17, total=   1.4s\n",
      "[CV] max_depth=17 ....................................................\n",
      "[CV] ..................................... max_depth=17, total=   1.6s\n",
      "[CV] max_depth=17 ....................................................\n",
      "[CV] ..................................... max_depth=17, total=   1.9s\n",
      "[CV] max_depth=17 ....................................................\n",
      "[CV] ..................................... max_depth=17, total=   2.5s\n",
      "[CV] max_depth=17 ....................................................\n",
      "[CV] ..................................... max_depth=17, total=   3.2s\n",
      "[CV] max_depth=17 ....................................................\n",
      "[CV] ..................................... max_depth=17, total=   3.9s\n",
      "[CV] max_depth=17 ....................................................\n",
      "[CV] ..................................... max_depth=17, total=   5.2s\n",
      "[CV] max_depth=19 ....................................................\n",
      "[CV] ..................................... max_depth=19, total=   0.1s\n",
      "[CV] max_depth=19 ....................................................\n",
      "[CV] ..................................... max_depth=19, total=   0.5s\n",
      "[CV] max_depth=19 ....................................................\n",
      "[CV] ..................................... max_depth=19, total=   0.9s\n",
      "[CV] max_depth=19 ....................................................\n",
      "[CV] ..................................... max_depth=19, total=   1.2s\n",
      "[CV] max_depth=19 ....................................................\n",
      "[CV] ..................................... max_depth=19, total=   2.0s\n",
      "[CV] max_depth=19 ....................................................\n",
      "[CV] ..................................... max_depth=19, total=   1.8s\n",
      "[CV] max_depth=19 ....................................................\n",
      "[CV] ..................................... max_depth=19, total=   2.4s\n",
      "[CV] max_depth=19 ....................................................\n",
      "[CV] ..................................... max_depth=19, total=   3.3s\n",
      "[CV] max_depth=19 ....................................................\n",
      "[CV] ..................................... max_depth=19, total=   5.3s\n",
      "[CV] max_depth=19 ....................................................\n",
      "[CV] ..................................... max_depth=19, total=   5.3s\n",
      "[CV] max_depth=21 ....................................................\n",
      "[CV] ..................................... max_depth=21, total=   0.1s\n",
      "[CV] max_depth=21 ....................................................\n",
      "[CV] ..................................... max_depth=21, total=   0.5s\n",
      "[CV] max_depth=21 ....................................................\n",
      "[CV] ..................................... max_depth=21, total=   0.9s\n",
      "[CV] max_depth=21 ....................................................\n",
      "[CV] ..................................... max_depth=21, total=   1.3s\n",
      "[CV] max_depth=21 ....................................................\n",
      "[CV] ..................................... max_depth=21, total=   1.8s\n",
      "[CV] max_depth=21 ....................................................\n",
      "[CV] ..................................... max_depth=21, total=   2.2s\n",
      "[CV] max_depth=21 ....................................................\n",
      "[CV] ..................................... max_depth=21, total=   2.6s\n",
      "[CV] max_depth=21 ....................................................\n",
      "[CV] ..................................... max_depth=21, total=   4.0s\n",
      "[CV] max_depth=21 ....................................................\n",
      "[CV] ..................................... max_depth=21, total=   4.7s\n",
      "[CV] max_depth=21 ....................................................\n",
      "[CV] ..................................... max_depth=21, total=   5.7s\n",
      "[CV] max_depth=23 ....................................................\n",
      "[CV] ..................................... max_depth=23, total=   0.1s\n",
      "[CV] max_depth=23 ....................................................\n",
      "[CV] ..................................... max_depth=23, total=   0.6s\n",
      "[CV] max_depth=23 ....................................................\n",
      "[CV] ..................................... max_depth=23, total=   0.9s\n",
      "[CV] max_depth=23 ....................................................\n",
      "[CV] ..................................... max_depth=23, total=   1.7s\n",
      "[CV] max_depth=23 ....................................................\n",
      "[CV] ..................................... max_depth=23, total=   2.3s\n",
      "[CV] max_depth=23 ....................................................\n",
      "[CV] ..................................... max_depth=23, total=   2.7s\n",
      "[CV] max_depth=23 ....................................................\n",
      "[CV] ..................................... max_depth=23, total=   3.3s\n",
      "[CV] max_depth=23 ....................................................\n"
     ]
    },
    {
     "name": "stdout",
     "output_type": "stream",
     "text": [
      "[CV] ..................................... max_depth=23, total=   3.9s\n",
      "[CV] max_depth=23 ....................................................\n",
      "[CV] ..................................... max_depth=23, total=   4.7s\n",
      "[CV] max_depth=23 ....................................................\n",
      "[CV] ..................................... max_depth=23, total=   5.9s\n",
      "[CV] max_depth=25 ....................................................\n",
      "[CV] ..................................... max_depth=25, total=   0.1s\n",
      "[CV] max_depth=25 ....................................................\n",
      "[CV] ..................................... max_depth=25, total=   0.6s\n",
      "[CV] max_depth=25 ....................................................\n",
      "[CV] ..................................... max_depth=25, total=   1.0s\n",
      "[CV] max_depth=25 ....................................................\n",
      "[CV] ..................................... max_depth=25, total=   1.5s\n",
      "[CV] max_depth=25 ....................................................\n",
      "[CV] ..................................... max_depth=25, total=   1.9s\n",
      "[CV] max_depth=25 ....................................................\n",
      "[CV] ..................................... max_depth=25, total=   2.2s\n",
      "[CV] max_depth=25 ....................................................\n",
      "[CV] ..................................... max_depth=25, total=   2.8s\n",
      "[CV] max_depth=25 ....................................................\n",
      "[CV] ..................................... max_depth=25, total=   3.3s\n",
      "[CV] max_depth=25 ....................................................\n",
      "[CV] ..................................... max_depth=25, total=   3.9s\n",
      "[CV] max_depth=25 ....................................................\n",
      "[CV] ..................................... max_depth=25, total=   4.4s\n",
      "[CV] max_depth=27 ....................................................\n",
      "[CV] ..................................... max_depth=27, total=   0.1s\n",
      "[CV] max_depth=27 ....................................................\n",
      "[CV] ..................................... max_depth=27, total=   0.4s\n",
      "[CV] max_depth=27 ....................................................\n",
      "[CV] ..................................... max_depth=27, total=   0.8s\n",
      "[CV] max_depth=27 ....................................................\n",
      "[CV] ..................................... max_depth=27, total=   1.1s\n",
      "[CV] max_depth=27 ....................................................\n",
      "[CV] ..................................... max_depth=27, total=   1.7s\n",
      "[CV] max_depth=27 ....................................................\n",
      "[CV] ..................................... max_depth=27, total=   1.9s\n",
      "[CV] max_depth=27 ....................................................\n",
      "[CV] ..................................... max_depth=27, total=   2.6s\n",
      "[CV] max_depth=27 ....................................................\n",
      "[CV] ..................................... max_depth=27, total=   3.1s\n",
      "[CV] max_depth=27 ....................................................\n",
      "[CV] ..................................... max_depth=27, total=   3.7s\n",
      "[CV] max_depth=27 ....................................................\n",
      "[CV] ..................................... max_depth=27, total=   5.0s\n",
      "[CV] max_depth=29 ....................................................\n",
      "[CV] ..................................... max_depth=29, total=   0.1s\n",
      "[CV] max_depth=29 ....................................................\n",
      "[CV] ..................................... max_depth=29, total=   0.4s\n",
      "[CV] max_depth=29 ....................................................\n",
      "[CV] ..................................... max_depth=29, total=   1.0s\n",
      "[CV] max_depth=29 ....................................................\n",
      "[CV] ..................................... max_depth=29, total=   1.5s\n",
      "[CV] max_depth=29 ....................................................\n",
      "[CV] ..................................... max_depth=29, total=   2.9s\n",
      "[CV] max_depth=29 ....................................................\n",
      "[CV] ..................................... max_depth=29, total=   2.3s\n",
      "[CV] max_depth=29 ....................................................\n",
      "[CV] ..................................... max_depth=29, total=   3.1s\n",
      "[CV] max_depth=29 ....................................................\n",
      "[CV] ..................................... max_depth=29, total=   3.1s\n",
      "[CV] max_depth=29 ....................................................\n",
      "[CV] ..................................... max_depth=29, total=   3.8s\n",
      "[CV] max_depth=29 ....................................................\n",
      "[CV] ..................................... max_depth=29, total=   4.2s\n",
      "[CV] max_depth=31 ....................................................\n",
      "[CV] ..................................... max_depth=31, total=   0.1s\n",
      "[CV] max_depth=31 ....................................................\n",
      "[CV] ..................................... max_depth=31, total=   0.4s\n",
      "[CV] max_depth=31 ....................................................\n",
      "[CV] ..................................... max_depth=31, total=   0.7s\n",
      "[CV] max_depth=31 ....................................................\n",
      "[CV] ..................................... max_depth=31, total=   1.2s\n",
      "[CV] max_depth=31 ....................................................\n",
      "[CV] ..................................... max_depth=31, total=   1.6s\n",
      "[CV] max_depth=31 ....................................................\n",
      "[CV] ..................................... max_depth=31, total=   1.9s\n",
      "[CV] max_depth=31 ....................................................\n",
      "[CV] ..................................... max_depth=31, total=   2.6s\n",
      "[CV] max_depth=31 ....................................................\n",
      "[CV] ..................................... max_depth=31, total=   3.3s\n",
      "[CV] max_depth=31 ....................................................\n",
      "[CV] ..................................... max_depth=31, total=   3.9s\n",
      "[CV] max_depth=31 ....................................................\n",
      "[CV] ..................................... max_depth=31, total=   4.6s\n",
      "[CV] max_depth=33 ....................................................\n",
      "[CV] ..................................... max_depth=33, total=   0.1s\n",
      "[CV] max_depth=33 ....................................................\n",
      "[CV] ..................................... max_depth=33, total=   0.4s\n",
      "[CV] max_depth=33 ....................................................\n",
      "[CV] ..................................... max_depth=33, total=   0.7s\n",
      "[CV] max_depth=33 ....................................................\n",
      "[CV] ..................................... max_depth=33, total=   1.2s\n",
      "[CV] max_depth=33 ....................................................\n",
      "[CV] ..................................... max_depth=33, total=   1.5s\n",
      "[CV] max_depth=33 ....................................................\n",
      "[CV] ..................................... max_depth=33, total=   1.8s\n",
      "[CV] max_depth=33 ....................................................\n",
      "[CV] ..................................... max_depth=33, total=   2.8s\n",
      "[CV] max_depth=33 ....................................................\n",
      "[CV] ..................................... max_depth=33, total=   3.0s\n",
      "[CV] max_depth=33 ....................................................\n",
      "[CV] ..................................... max_depth=33, total=   3.8s\n",
      "[CV] max_depth=33 ....................................................\n",
      "[CV] ..................................... max_depth=33, total=   4.3s\n",
      "[CV] max_depth=35 ....................................................\n",
      "[CV] ..................................... max_depth=35, total=   0.1s\n",
      "[CV] max_depth=35 ....................................................\n",
      "[CV] ..................................... max_depth=35, total=   0.4s\n",
      "[CV] max_depth=35 ....................................................\n",
      "[CV] ..................................... max_depth=35, total=   0.7s\n",
      "[CV] max_depth=35 ....................................................\n",
      "[CV] ..................................... max_depth=35, total=   1.1s\n",
      "[CV] max_depth=35 ....................................................\n",
      "[CV] ..................................... max_depth=35, total=   1.6s\n",
      "[CV] max_depth=35 ....................................................\n"
     ]
    },
    {
     "name": "stdout",
     "output_type": "stream",
     "text": [
      "[CV] ..................................... max_depth=35, total=   1.9s\n",
      "[CV] max_depth=35 ....................................................\n",
      "[CV] ..................................... max_depth=35, total=   2.4s\n",
      "[CV] max_depth=35 ....................................................\n",
      "[CV] ..................................... max_depth=35, total=   3.0s\n",
      "[CV] max_depth=35 ....................................................\n",
      "[CV] ..................................... max_depth=35, total=   3.6s\n",
      "[CV] max_depth=35 ....................................................\n",
      "[CV] ..................................... max_depth=35, total=   4.2s\n",
      "[CV] max_depth=37 ....................................................\n",
      "[CV] ..................................... max_depth=37, total=   0.1s\n",
      "[CV] max_depth=37 ....................................................\n",
      "[CV] ..................................... max_depth=37, total=   0.4s\n",
      "[CV] max_depth=37 ....................................................\n",
      "[CV] ..................................... max_depth=37, total=   0.8s\n",
      "[CV] max_depth=37 ....................................................\n",
      "[CV] ..................................... max_depth=37, total=   1.2s\n",
      "[CV] max_depth=37 ....................................................\n",
      "[CV] ..................................... max_depth=37, total=   1.6s\n",
      "[CV] max_depth=37 ....................................................\n",
      "[CV] ..................................... max_depth=37, total=   2.0s\n",
      "[CV] max_depth=37 ....................................................\n",
      "[CV] ..................................... max_depth=37, total=   2.4s\n",
      "[CV] max_depth=37 ....................................................\n",
      "[CV] ..................................... max_depth=37, total=   3.2s\n",
      "[CV] max_depth=37 ....................................................\n",
      "[CV] ..................................... max_depth=37, total=   3.6s\n",
      "[CV] max_depth=37 ....................................................\n",
      "[CV] ..................................... max_depth=37, total=   4.2s\n",
      "[CV] max_depth=39 ....................................................\n",
      "[CV] ..................................... max_depth=39, total=   0.1s\n",
      "[CV] max_depth=39 ....................................................\n",
      "[CV] ..................................... max_depth=39, total=   0.4s\n",
      "[CV] max_depth=39 ....................................................\n",
      "[CV] ..................................... max_depth=39, total=   0.8s\n",
      "[CV] max_depth=39 ....................................................\n",
      "[CV] ..................................... max_depth=39, total=   1.2s\n",
      "[CV] max_depth=39 ....................................................\n",
      "[CV] ..................................... max_depth=39, total=   1.9s\n",
      "[CV] max_depth=39 ....................................................\n",
      "[CV] ..................................... max_depth=39, total=   2.3s\n",
      "[CV] max_depth=39 ....................................................\n",
      "[CV] ..................................... max_depth=39, total=   2.9s\n",
      "[CV] max_depth=39 ....................................................\n",
      "[CV] ..................................... max_depth=39, total=   3.3s\n",
      "[CV] max_depth=39 ....................................................\n",
      "[CV] ..................................... max_depth=39, total=   4.4s\n",
      "[CV] max_depth=39 ....................................................\n",
      "[CV] ..................................... max_depth=39, total=   5.2s\n",
      "[CV] max_depth=41 ....................................................\n",
      "[CV] ..................................... max_depth=41, total=   0.1s\n",
      "[CV] max_depth=41 ....................................................\n",
      "[CV] ..................................... max_depth=41, total=   0.5s\n",
      "[CV] max_depth=41 ....................................................\n",
      "[CV] ..................................... max_depth=41, total=   0.9s\n",
      "[CV] max_depth=41 ....................................................\n",
      "[CV] ..................................... max_depth=41, total=   1.4s\n",
      "[CV] max_depth=41 ....................................................\n",
      "[CV] ..................................... max_depth=41, total=   1.9s\n",
      "[CV] max_depth=41 ....................................................\n",
      "[CV] ..................................... max_depth=41, total=   2.0s\n",
      "[CV] max_depth=41 ....................................................\n",
      "[CV] ..................................... max_depth=41, total=   2.6s\n",
      "[CV] max_depth=41 ....................................................\n",
      "[CV] ..................................... max_depth=41, total=   3.2s\n",
      "[CV] max_depth=41 ....................................................\n",
      "[CV] ..................................... max_depth=41, total=   4.0s\n",
      "[CV] max_depth=41 ....................................................\n",
      "[CV] ..................................... max_depth=41, total=   5.1s\n",
      "[CV] max_depth=43 ....................................................\n",
      "[CV] ..................................... max_depth=43, total=   0.1s\n",
      "[CV] max_depth=43 ....................................................\n",
      "[CV] ..................................... max_depth=43, total=   0.6s\n",
      "[CV] max_depth=43 ....................................................\n",
      "[CV] ..................................... max_depth=43, total=   0.9s\n",
      "[CV] max_depth=43 ....................................................\n",
      "[CV] ..................................... max_depth=43, total=   1.6s\n",
      "[CV] max_depth=43 ....................................................\n",
      "[CV] ..................................... max_depth=43, total=   2.0s\n",
      "[CV] max_depth=43 ....................................................\n",
      "[CV] ..................................... max_depth=43, total=   2.1s\n",
      "[CV] max_depth=43 ....................................................\n",
      "[CV] ..................................... max_depth=43, total=   2.7s\n",
      "[CV] max_depth=43 ....................................................\n",
      "[CV] ..................................... max_depth=43, total=   3.3s\n",
      "[CV] max_depth=43 ....................................................\n",
      "[CV] ..................................... max_depth=43, total=   4.6s\n",
      "[CV] max_depth=43 ....................................................\n",
      "[CV] ..................................... max_depth=43, total=   4.5s\n",
      "[CV] max_depth=45 ....................................................\n",
      "[CV] ..................................... max_depth=45, total=   0.1s\n",
      "[CV] max_depth=45 ....................................................\n",
      "[CV] ..................................... max_depth=45, total=   0.4s\n",
      "[CV] max_depth=45 ....................................................\n",
      "[CV] ..................................... max_depth=45, total=   1.0s\n",
      "[CV] max_depth=45 ....................................................\n",
      "[CV] ..................................... max_depth=45, total=   1.4s\n",
      "[CV] max_depth=45 ....................................................\n",
      "[CV] ..................................... max_depth=45, total=   1.9s\n",
      "[CV] max_depth=45 ....................................................\n",
      "[CV] ..................................... max_depth=45, total=   2.3s\n",
      "[CV] max_depth=45 ....................................................\n",
      "[CV] ..................................... max_depth=45, total=   2.5s\n",
      "[CV] max_depth=45 ....................................................\n",
      "[CV] ..................................... max_depth=45, total=   4.5s\n",
      "[CV] max_depth=45 ....................................................\n",
      "[CV] ..................................... max_depth=45, total=   6.0s\n",
      "[CV] max_depth=45 ....................................................\n",
      "[CV] ..................................... max_depth=45, total=   7.1s\n",
      "[CV] max_depth=47 ....................................................\n",
      "[CV] ..................................... max_depth=47, total=   0.2s\n",
      "[CV] max_depth=47 ....................................................\n",
      "[CV] ..................................... max_depth=47, total=   0.4s\n",
      "[CV] max_depth=47 ....................................................\n",
      "[CV] ..................................... max_depth=47, total=   0.8s\n",
      "[CV] max_depth=47 ....................................................\n"
     ]
    },
    {
     "name": "stdout",
     "output_type": "stream",
     "text": [
      "[CV] ..................................... max_depth=47, total=   1.3s\n",
      "[CV] max_depth=47 ....................................................\n",
      "[CV] ..................................... max_depth=47, total=   1.7s\n",
      "[CV] max_depth=47 ....................................................\n",
      "[CV] ..................................... max_depth=47, total=   2.2s\n",
      "[CV] max_depth=47 ....................................................\n",
      "[CV] ..................................... max_depth=47, total=   3.8s\n",
      "[CV] max_depth=47 ....................................................\n",
      "[CV] ..................................... max_depth=47, total=   4.2s\n",
      "[CV] max_depth=47 ....................................................\n",
      "[CV] ..................................... max_depth=47, total=   4.6s\n",
      "[CV] max_depth=47 ....................................................\n",
      "[CV] ..................................... max_depth=47, total=   5.2s\n",
      "[CV] max_depth=49 ....................................................\n",
      "[CV] ..................................... max_depth=49, total=   0.1s\n",
      "[CV] max_depth=49 ....................................................\n",
      "[CV] ..................................... max_depth=49, total=   0.5s\n",
      "[CV] max_depth=49 ....................................................\n",
      "[CV] ..................................... max_depth=49, total=   1.0s\n",
      "[CV] max_depth=49 ....................................................\n",
      "[CV] ..................................... max_depth=49, total=   1.4s\n",
      "[CV] max_depth=49 ....................................................\n",
      "[CV] ..................................... max_depth=49, total=   2.0s\n",
      "[CV] max_depth=49 ....................................................\n",
      "[CV] ..................................... max_depth=49, total=   2.4s\n",
      "[CV] max_depth=49 ....................................................\n",
      "[CV] ..................................... max_depth=49, total=   3.0s\n",
      "[CV] max_depth=49 ....................................................\n",
      "[CV] ..................................... max_depth=49, total=   4.0s\n",
      "[CV] max_depth=49 ....................................................\n",
      "[CV] ..................................... max_depth=49, total=   4.7s\n",
      "[CV] max_depth=49 ....................................................\n",
      "[CV] ..................................... max_depth=49, total=   5.3s\n"
     ]
    },
    {
     "name": "stderr",
     "output_type": "stream",
     "text": [
      "[Parallel(n_jobs=1)]: Done 250 out of 250 | elapsed:  9.0min finished\n"
     ]
    },
    {
     "data": {
      "text/plain": [
       "GridSearchCV(cv=<generator object TimeSeriesSplit.split at 0x000001423AC1AB48>,\n",
       "       error_score='raise',\n",
       "       estimator=DecisionTreeClassifier(class_weight='balanced', criterion='gini',\n",
       "            max_depth=None, max_features=None, max_leaf_nodes=None,\n",
       "            min_impurity_decrease=0.0, min_impurity_split=None,\n",
       "            min_samples_leaf=1, min_samples_split=2,\n",
       "            min_weight_fraction_leaf=0.0, presort=False, random_state=3,\n",
       "            splitter='best'),\n",
       "       fit_params=None, iid=True, n_jobs=1,\n",
       "       param_grid=[{'max_depth': range(1, 50, 2)}],\n",
       "       pre_dispatch='2*n_jobs', refit=True, return_train_score='warn',\n",
       "       scoring='accuracy', verbose=2)"
      ]
     },
     "execution_count": 86,
     "metadata": {},
     "output_type": "execute_result"
    }
   ],
   "source": [
    "tfidf_w2v_grid.fit(std_train_tfidfw2v[:10000],train['Score'][:10000])"
   ]
  },
  {
   "cell_type": "code",
   "execution_count": 87,
   "metadata": {},
   "outputs": [
    {
     "data": {
      "text/plain": [
       "0.8426842684268426"
      ]
     },
     "execution_count": 87,
     "metadata": {},
     "output_type": "execute_result"
    }
   ],
   "source": [
    "tfidf_w2v_grid.best_score_"
   ]
  },
  {
   "cell_type": "code",
   "execution_count": 88,
   "metadata": {},
   "outputs": [
    {
     "data": {
      "text/plain": [
       "DecisionTreeClassifier(class_weight='balanced', criterion='gini',\n",
       "            max_depth=29, max_features=None, max_leaf_nodes=None,\n",
       "            min_impurity_decrease=0.0, min_impurity_split=None,\n",
       "            min_samples_leaf=1, min_samples_split=2,\n",
       "            min_weight_fraction_leaf=0.0, presort=False, random_state=3,\n",
       "            splitter='best')"
      ]
     },
     "execution_count": 88,
     "metadata": {},
     "output_type": "execute_result"
    }
   ],
   "source": [
    "tfidf_w2v_grid.best_estimator_"
   ]
  },
  {
   "cell_type": "code",
   "execution_count": 89,
   "metadata": {},
   "outputs": [
    {
     "data": {
      "image/png": "[encoded data removed]",
      "text/plain": [
       "<Figure size 864x504 with 1 Axes>"
      ]
     },
     "metadata": {},
     "output_type": "display_data"
    }
   ],
   "source": [
    "plotter(tfidf_w2v_grid)"
   ]
  },
  {
   "cell_type": "raw",
   "metadata": {},
   "source": [
    "CV-2:"
   ]
  },
  {
   "cell_type": "code",
   "execution_count": 106,
   "metadata": {},
   "outputs": [],
   "source": [
    "tfidf_w2v_grid=grid_s(std_train_tfidfw2v[:10000],[10,100,150,200,250,300])"
   ]
  },
  {
   "cell_type": "code",
   "execution_count": 107,
   "metadata": {
    "scrolled": true
   },
   "outputs": [
    {
     "name": "stdout",
     "output_type": "stream",
     "text": [
      "Fitting 10 folds for each of 6 candidates, totalling 60 fits\n",
      "[CV] max_depth=10 ....................................................\n",
      "[CV] ..................................... max_depth=10, total=   0.2s\n",
      "[CV] max_depth=10 ....................................................\n"
     ]
    },
    {
     "name": "stderr",
     "output_type": "stream",
     "text": [
      "[Parallel(n_jobs=1)]: Done   1 out of   1 | elapsed:    0.2s remaining:    0.0s\n"
     ]
    },
    {
     "name": "stdout",
     "output_type": "stream",
     "text": [
      "[CV] ..................................... max_depth=10, total=   0.5s\n",
      "[CV] max_depth=10 ....................................................\n",
      "[CV] ..................................... max_depth=10, total=   0.7s\n",
      "[CV] max_depth=10 ....................................................\n",
      "[CV] ..................................... max_depth=10, total=   1.1s\n",
      "[CV] max_depth=10 ....................................................\n",
      "[CV] ..................................... max_depth=10, total=   1.4s\n",
      "[CV] max_depth=10 ....................................................\n",
      "[CV] ..................................... max_depth=10, total=   2.1s\n",
      "[CV] max_depth=10 ....................................................\n",
      "[CV] ..................................... max_depth=10, total=   2.4s\n",
      "[CV] max_depth=10 ....................................................\n",
      "[CV] ..................................... max_depth=10, total=   2.7s\n",
      "[CV] max_depth=10 ....................................................\n",
      "[CV] ..................................... max_depth=10, total=   3.4s\n",
      "[CV] max_depth=10 ....................................................\n",
      "[CV] ..................................... max_depth=10, total=   4.3s\n",
      "[CV] max_depth=100 ...................................................\n",
      "[CV] .................................... max_depth=100, total=   0.1s\n",
      "[CV] max_depth=100 ...................................................\n",
      "[CV] .................................... max_depth=100, total=   0.4s\n",
      "[CV] max_depth=100 ...................................................\n",
      "[CV] .................................... max_depth=100, total=   0.8s\n",
      "[CV] max_depth=100 ...................................................\n",
      "[CV] .................................... max_depth=100, total=   1.5s\n",
      "[CV] max_depth=100 ...................................................\n",
      "[CV] .................................... max_depth=100, total=   2.2s\n",
      "[CV] max_depth=100 ...................................................\n",
      "[CV] .................................... max_depth=100, total=   2.7s\n",
      "[CV] max_depth=100 ...................................................\n",
      "[CV] .................................... max_depth=100, total=   3.1s\n",
      "[CV] max_depth=100 ...................................................\n",
      "[CV] .................................... max_depth=100, total=   4.0s\n",
      "[CV] max_depth=100 ...................................................\n",
      "[CV] .................................... max_depth=100, total=   4.2s\n",
      "[CV] max_depth=100 ...................................................\n",
      "[CV] .................................... max_depth=100, total=   5.4s\n",
      "[CV] max_depth=150 ...................................................\n",
      "[CV] .................................... max_depth=150, total=   0.1s\n",
      "[CV] max_depth=150 ...................................................\n",
      "[CV] .................................... max_depth=150, total=   0.5s\n",
      "[CV] max_depth=150 ...................................................\n",
      "[CV] .................................... max_depth=150, total=   0.9s\n",
      "[CV] max_depth=150 ...................................................\n",
      "[CV] .................................... max_depth=150, total=   1.3s\n",
      "[CV] max_depth=150 ...................................................\n",
      "[CV] .................................... max_depth=150, total=   1.6s\n",
      "[CV] max_depth=150 ...................................................\n",
      "[CV] .................................... max_depth=150, total=   2.1s\n",
      "[CV] max_depth=150 ...................................................\n",
      "[CV] .................................... max_depth=150, total=   2.5s\n",
      "[CV] max_depth=150 ...................................................\n",
      "[CV] .................................... max_depth=150, total=   3.6s\n",
      "[CV] max_depth=150 ...................................................\n",
      "[CV] .................................... max_depth=150, total=   4.1s\n",
      "[CV] max_depth=150 ...................................................\n",
      "[CV] .................................... max_depth=150, total=   5.4s\n",
      "[CV] max_depth=200 ...................................................\n",
      "[CV] .................................... max_depth=200, total=   0.1s\n",
      "[CV] max_depth=200 ...................................................\n",
      "[CV] .................................... max_depth=200, total=   0.4s\n",
      "[CV] max_depth=200 ...................................................\n",
      "[CV] .................................... max_depth=200, total=   0.8s\n",
      "[CV] max_depth=200 ...................................................\n",
      "[CV] .................................... max_depth=200, total=   1.4s\n",
      "[CV] max_depth=200 ...................................................\n",
      "[CV] .................................... max_depth=200, total=   1.6s\n",
      "[CV] max_depth=200 ...................................................\n",
      "[CV] .................................... max_depth=200, total=   2.0s\n",
      "[CV] max_depth=200 ...................................................\n",
      "[CV] .................................... max_depth=200, total=   2.8s\n",
      "[CV] max_depth=200 ...................................................\n",
      "[CV] .................................... max_depth=200, total=   3.4s\n",
      "[CV] max_depth=200 ...................................................\n",
      "[CV] .................................... max_depth=200, total=   4.7s\n",
      "[CV] max_depth=200 ...................................................\n",
      "[CV] .................................... max_depth=200, total=   5.3s\n",
      "[CV] max_depth=250 ...................................................\n",
      "[CV] .................................... max_depth=250, total=   0.1s\n",
      "[CV] max_depth=250 ...................................................\n",
      "[CV] .................................... max_depth=250, total=   0.4s\n",
      "[CV] max_depth=250 ...................................................\n",
      "[CV] .................................... max_depth=250, total=   0.9s\n",
      "[CV] max_depth=250 ...................................................\n",
      "[CV] .................................... max_depth=250, total=   1.3s\n",
      "[CV] max_depth=250 ...................................................\n",
      "[CV] .................................... max_depth=250, total=   2.1s\n",
      "[CV] max_depth=250 ...................................................\n",
      "[CV] .................................... max_depth=250, total=   3.0s\n",
      "[CV] max_depth=250 ...................................................\n",
      "[CV] .................................... max_depth=250, total=   3.8s\n",
      "[CV] max_depth=250 ...................................................\n",
      "[CV] .................................... max_depth=250, total=   4.9s\n",
      "[CV] max_depth=250 ...................................................\n",
      "[CV] .................................... max_depth=250, total=   5.3s\n",
      "[CV] max_depth=250 ...................................................\n",
      "[CV] .................................... max_depth=250, total=   5.4s\n",
      "[CV] max_depth=300 ...................................................\n",
      "[CV] .................................... max_depth=300, total=   0.1s\n",
      "[CV] max_depth=300 ...................................................\n",
      "[CV] .................................... max_depth=300, total=   0.4s\n",
      "[CV] max_depth=300 ...................................................\n",
      "[CV] .................................... max_depth=300, total=   0.9s\n",
      "[CV] max_depth=300 ...................................................\n",
      "[CV] .................................... max_depth=300, total=   1.6s\n",
      "[CV] max_depth=300 ...................................................\n",
      "[CV] .................................... max_depth=300, total=   2.2s\n",
      "[CV] max_depth=300 ...................................................\n",
      "[CV] .................................... max_depth=300, total=   2.3s\n",
      "[CV] max_depth=300 ...................................................\n",
      "[CV] .................................... max_depth=300, total=   3.5s\n",
      "[CV] max_depth=300 ...................................................\n",
      "[CV] .................................... max_depth=300, total=   3.7s\n",
      "[CV] max_depth=300 ...................................................\n",
      "[CV] .................................... max_depth=300, total=   4.4s\n",
      "[CV] max_depth=300 ...................................................\n"
     ]
    },
    {
     "name": "stdout",
     "output_type": "stream",
     "text": [
      "[CV] .................................... max_depth=300, total=   5.6s\n"
     ]
    },
    {
     "name": "stderr",
     "output_type": "stream",
     "text": [
      "[Parallel(n_jobs=1)]: Done  60 out of  60 | elapsed:  2.5min finished\n"
     ]
    },
    {
     "data": {
      "text/plain": [
       "GridSearchCV(cv=<generator object TimeSeriesSplit.split at 0x000001781B218AF0>,\n",
       "       error_score='raise',\n",
       "       estimator=DecisionTreeClassifier(class_weight='balanced', criterion='gini',\n",
       "            max_depth=None, max_features=None, max_leaf_nodes=None,\n",
       "            min_impurity_decrease=0.0, min_impurity_split=None,\n",
       "            min_samples_leaf=1, min_samples_split=2,\n",
       "            min_weight_fraction_leaf=0.0, presort=False, random_state=3,\n",
       "            splitter='best'),\n",
       "       fit_params=None, iid=True, n_jobs=1,\n",
       "       param_grid=[{'max_depth': [10, 100, 150, 200, 250, 300]}],\n",
       "       pre_dispatch='2*n_jobs', refit=True, return_train_score='warn',\n",
       "       scoring='accuracy', verbose=2)"
      ]
     },
     "execution_count": 107,
     "metadata": {},
     "output_type": "execute_result"
    }
   ],
   "source": [
    "tfidf_w2v_grid.fit(std_train_tfidfw2v[:10000],train['Score'][:10000])"
   ]
  },
  {
   "cell_type": "code",
   "execution_count": 108,
   "metadata": {},
   "outputs": [
    {
     "data": {
      "text/plain": [
       "0.8407040704070406"
      ]
     },
     "execution_count": 108,
     "metadata": {},
     "output_type": "execute_result"
    }
   ],
   "source": [
    "tfidf_w2v_grid.best_score_"
   ]
  },
  {
   "cell_type": "code",
   "execution_count": 109,
   "metadata": {},
   "outputs": [
    {
     "data": {
      "text/plain": [
       "DecisionTreeClassifier(class_weight='balanced', criterion='gini',\n",
       "            max_depth=100, max_features=None, max_leaf_nodes=None,\n",
       "            min_impurity_decrease=0.0, min_impurity_split=None,\n",
       "            min_samples_leaf=1, min_samples_split=2,\n",
       "            min_weight_fraction_leaf=0.0, presort=False, random_state=3,\n",
       "            splitter='best')"
      ]
     },
     "execution_count": 109,
     "metadata": {},
     "output_type": "execute_result"
    }
   ],
   "source": [
    "tfidf_w2v_grid.best_estimator_"
   ]
  },
  {
   "cell_type": "code",
   "execution_count": 110,
   "metadata": {},
   "outputs": [
    {
     "data": {
      "image/png": "[encoded data removed]",
      "text/plain": [
       "<Figure size 864x504 with 1 Axes>"
      ]
     },
     "metadata": {},
     "output_type": "display_data"
    }
   ],
   "source": [
    "plotter(tfidf_w2v_grid)"
   ]
  },
  {
   "cell_type": "raw",
   "metadata": {},
   "source": [
    "Random Search CV:"
   ]
  },
  {
   "cell_type": "code",
   "execution_count": 41,
   "metadata": {},
   "outputs": [],
   "source": [
    "#Random Search\n",
    "tfidf_rand=random_s(std_train_tfidfw2v[:10000])"
   ]
  },
  {
   "cell_type": "code",
   "execution_count": 42,
   "metadata": {
    "scrolled": true
   },
   "outputs": [
    {
     "name": "stdout",
     "output_type": "stream",
     "text": [
      "Fitting 10 folds for each of 5 candidates, totalling 50 fits\n"
     ]
    },
    {
     "name": "stderr",
     "output_type": "stream",
     "text": [
      "[Parallel(n_jobs=1)]: Done  50 out of  50 | elapsed:  1.6min finished\n"
     ]
    },
    {
     "data": {
      "text/plain": [
       "RandomizedSearchCV(cv=<generator object TimeSeriesSplit.split at 0x0000017C3113F570>,\n",
       "          error_score='raise',\n",
       "          estimator=DecisionTreeClassifier(class_weight='balanced', criterion='gini',\n",
       "            max_depth=None, max_features=None, max_leaf_nodes=None,\n",
       "            min_impurity_decrease=0.0, min_impurity_split=None,\n",
       "            min_samples_leaf=1, min_samples_split=2,\n",
       "            min_weight_fraction_leaf=0.0, presort=False, random_state=3,\n",
       "            splitter='best'),\n",
       "          fit_params=None, iid=True, n_iter=5, n_jobs=1,\n",
       "          param_distributions={'max_depth': array([259.59158,  46.34836, 877.00142,  18.14752, 783.34871])},\n",
       "          pre_dispatch='2*n_jobs', random_state=None, refit=True,\n",
       "          return_train_score='warn', scoring='accuracy', verbose=1)"
      ]
     },
     "execution_count": 42,
     "metadata": {},
     "output_type": "execute_result"
    }
   ],
   "source": [
    "tfidf_rand.fit(std_train_tfidfw2v[:10000],train['Score'][:10000])"
   ]
  },
  {
   "cell_type": "code",
   "execution_count": 43,
   "metadata": {},
   "outputs": [
    {
     "data": {
      "text/plain": [
       "DecisionTreeClassifier(class_weight='balanced', criterion='gini',\n",
       "            max_depth=259.5915842883415, max_features=None,\n",
       "            max_leaf_nodes=None, min_impurity_decrease=0.0,\n",
       "            min_impurity_split=None, min_samples_leaf=1,\n",
       "            min_samples_split=2, min_weight_fraction_leaf=0.0,\n",
       "            presort=False, random_state=3, splitter='best')"
      ]
     },
     "execution_count": 43,
     "metadata": {},
     "output_type": "execute_result"
    }
   ],
   "source": [
    "tfidf_rand.best_estimator_"
   ]
  },
  {
   "cell_type": "code",
   "execution_count": 44,
   "metadata": {},
   "outputs": [
    {
     "data": {
      "text/plain": [
       "0.8407040704070406"
      ]
     },
     "execution_count": 44,
     "metadata": {},
     "output_type": "execute_result"
    }
   ],
   "source": [
    "tfidf_rand.best_score_"
   ]
  },
  {
   "cell_type": "markdown",
   "metadata": {},
   "source": [
    "### Implementation:"
   ]
  },
  {
   "cell_type": "code",
   "execution_count": 111,
   "metadata": {},
   "outputs": [],
   "source": [
    "tfidf_w2v_model=DecisionTreeClassifier(class_weight='balanced', criterion='gini',\n",
    "            max_depth=100, max_features=None, max_leaf_nodes=None,\n",
    "            min_impurity_decrease=0.0, min_impurity_split=None,\n",
    "            min_samples_leaf=1, min_samples_split=2,\n",
    "            min_weight_fraction_leaf=0.0, presort=False, random_state=3,\n",
    "            splitter='best')"
   ]
  },
  {
   "cell_type": "code",
   "execution_count": 112,
   "metadata": {},
   "outputs": [
    {
     "data": {
      "text/plain": [
       "DecisionTreeClassifier(class_weight='balanced', criterion='gini',\n",
       "            max_depth=100, max_features=None, max_leaf_nodes=None,\n",
       "            min_impurity_decrease=0.0, min_impurity_split=None,\n",
       "            min_samples_leaf=1, min_samples_split=2,\n",
       "            min_weight_fraction_leaf=0.0, presort=False, random_state=3,\n",
       "            splitter='best')"
      ]
     },
     "execution_count": 112,
     "metadata": {},
     "output_type": "execute_result"
    }
   ],
   "source": [
    "tfidf_w2v_model.fit(std_train_tfidfw2v,train['Score'])"
   ]
  },
  {
   "cell_type": "code",
   "execution_count": 113,
   "metadata": {},
   "outputs": [],
   "source": [
    "pred2=tfidf_w2v_model.predict(std_test_tfidfw2v)"
   ]
  },
  {
   "cell_type": "code",
   "execution_count": 114,
   "metadata": {},
   "outputs": [],
   "source": [
    "tfidfw2v_acc=accuracy_score(pred2,test['Score'])"
   ]
  },
  {
   "cell_type": "code",
   "execution_count": 115,
   "metadata": {},
   "outputs": [
    {
     "name": "stdout",
     "output_type": "stream",
     "text": [
      "74.69130717338972\n"
     ]
    }
   ],
   "source": [
    "print(tfidfw2v_acc*100)"
   ]
  },
  {
   "cell_type": "markdown",
   "metadata": {},
   "source": [
    "## Performance of Decision tree model with Tf-Idf W2V:"
   ]
  },
  {
   "cell_type": "code",
   "execution_count": 116,
   "metadata": {},
   "outputs": [
    {
     "name": "stdout",
     "output_type": "stream",
     "text": [
      "\n",
      "******************************************************************************* \n",
      "\n",
      " Accuracy is 0.7469130717338972\n",
      "\n",
      "******************************************************************************* \n",
      "\n",
      " TNR value is 0.12934332582149782\n",
      " FNR value is 0.8706566741785021\n",
      " FPR value is 0.12240212931130087\n",
      " TPR value is 0.8775978706886991\n",
      "\n",
      "******************************************************************************* \n",
      "\n",
      " Confusion Matrix is :\n",
      "[[ 2468 16613]\n",
      " [11037 79133]]\n",
      "\n",
      "******************************************************************************* \n",
      "\n",
      " Precision is 0.8775978706886991\n",
      " Recall value is 0.8264888350427172\n",
      " F1 Score is 0.8512769207599131\n",
      "\n",
      "******************************************************************************* \n",
      "\n",
      "Heat Map of the Confusion matrix is\n",
      "\n",
      "******************************************************************************* \n",
      "\n"
     ]
    },
    {
     "data": {
      "image/png": "[encoded data removed]",
      "text/plain": [
       "<Figure size 432x288 with 2 Axes>"
      ]
     },
     "metadata": {},
     "output_type": "display_data"
    }
   ],
   "source": [
    "CM(test['Score'],pred2)"
   ]
  },
  {
   "cell_type": "markdown",
   "metadata": {},
   "source": [
    "### Saving the tree to a PDF file."
   ]
  },
  {
   "cell_type": "code",
   "execution_count": 21,
   "metadata": {},
   "outputs": [
    {
     "data": {
      "text/plain": [
       "'G:\\\\ML\\\\Exercises\\\\ex 7\\\\Graphviz\\\\Tf_idf_w2v.pdf'"
      ]
     },
     "execution_count": 21,
     "metadata": {},
     "output_type": "execute_result"
    }
   ],
   "source": [
    "d_tree=DecisionTreeClassifier(class_weight='balanced', criterion='gini',\n",
    "            max_depth=5, max_features=None, max_leaf_nodes=None,\n",
    "            min_impurity_decrease=0.0, min_impurity_split=None,\n",
    "            min_samples_leaf=1, min_samples_split=2,\n",
    "            min_weight_fraction_leaf=0.0, presort=False, random_state=3,\n",
    "            splitter='best')\n",
    "d_tree.fit(std_train_avgw2v,train['Score'])\n",
    "DT=tree.export_graphviz(d_tree,out_file=None,class_names=['positive','negative'])\n",
    "x=graphviz.Source(DT)\n",
    "x.render(filename='G:\\ML\\Exercises\\ex 7\\Graphviz\\Tf_idf_w2v')"
   ]
  },
  {
   "cell_type": "raw",
   "metadata": {},
   "source": [
    "********************************************************************************************************************************"
   ]
  },
  {
   "cell_type": "markdown",
   "metadata": {},
   "source": [
    "# Sample Visualization of a decision tree:"
   ]
  },
  {
   "cell_type": "markdown",
   "metadata": {},
   "source": [
    "As mentioned earlier, The below one is the graphical representation of the decision tree with depth of 5, built on input data vectorized in form of Tf-IDF. "
   ]
  },
  {
   "cell_type": "code",
   "execution_count": 18,
   "metadata": {
    "scrolled": true
   },
   "outputs": [
    {
     "data": {
      "image/svg+xml": [
       "<?xml version=\"1.0\" encoding=\"UTF-8\" standalone=\"no\"?>\r\n",
       "<!DOCTYPE svg PUBLIC \"-//W3C//DTD SVG 1.1//EN\"\r\n",
       " \"http://www.w3.org/Graphics/SVG/1.1/DTD/svg11.dtd\">\r\n",
       "<!-- Generated by graphviz version 2.38.0 (20140413.2041)\r\n",
       " -->\r\n",
       "<!-- Title: Tree Pages: 1 -->\r\n",
       "<svg width=\"5062pt\" height=\"671pt\"\r\n",
       " viewBox=\"0.00 0.00 5062.00 671.00\" xmlns=\"http://www.w3.org/2000/svg\" xmlns:xlink=\"http://www.w3.org/1999/xlink\">\r\n",
       "<g id=\"graph0\" class=\"graph\" transform=\"scale(1 1) rotate(0) translate(4 667)\">\r\n",
       "<title>Tree</title>\r\n",
       "<polygon fill=\"white\" stroke=\"none\" points=\"-4,4 -4,-667 5058,-667 5058,4 -4,4\"/>\r\n",
       "<!-- 0 -->\r\n",
       "<g id=\"node1\" class=\"node\"><title>0</title>\r\n",
       "<polygon fill=\"none\" stroke=\"black\" points=\"3073,-663 2894,-663 2894,-580 3073,-580 3073,-663\"/>\r\n",
       "<text text-anchor=\"middle\" x=\"2983.5\" y=\"-647.8\" font-family=\"Times New Roman,serif\" font-size=\"14.00\">great &lt;= 0.868</text>\r\n",
       "<text text-anchor=\"middle\" x=\"2983.5\" y=\"-632.8\" font-family=\"Times New Roman,serif\" font-size=\"14.00\">gini = 0.5</text>\r\n",
       "<text text-anchor=\"middle\" x=\"2983.5\" y=\"-617.8\" font-family=\"Times New Roman,serif\" font-size=\"14.00\">samples = 254920</text>\r\n",
       "<text text-anchor=\"middle\" x=\"2983.5\" y=\"-602.8\" font-family=\"Times New Roman,serif\" font-size=\"14.00\">value = [127460.0, 127460.0]</text>\r\n",
       "<text text-anchor=\"middle\" x=\"2983.5\" y=\"-587.8\" font-family=\"Times New Roman,serif\" font-size=\"14.00\">class = negative</text>\r\n",
       "</g>\r\n",
       "<!-- 1 -->\r\n",
       "<g id=\"node2\" class=\"node\"><title>1</title>\r\n",
       "<polygon fill=\"#e58139\" fill-opacity=\"0.196078\" stroke=\"black\" points=\"2426.5,-544 2226.5,-544 2226.5,-461 2426.5,-461 2426.5,-544\"/>\r\n",
       "<text text-anchor=\"middle\" x=\"2326.5\" y=\"-528.8\" font-family=\"Times New Roman,serif\" font-size=\"14.00\">love &lt;= 0.84</text>\r\n",
       "<text text-anchor=\"middle\" x=\"2326.5\" y=\"-513.8\" font-family=\"Times New Roman,serif\" font-size=\"14.00\">gini = 0.494</text>\r\n",
       "<text text-anchor=\"middle\" x=\"2326.5\" y=\"-498.8\" font-family=\"Times New Roman,serif\" font-size=\"14.00\">samples = 194458</text>\r\n",
       "<text text-anchor=\"middle\" x=\"2326.5\" y=\"-483.8\" font-family=\"Times New Roman,serif\" font-size=\"14.00\">value = [116620.755, 93828.909]</text>\r\n",
       "<text text-anchor=\"middle\" x=\"2326.5\" y=\"-468.8\" font-family=\"Times New Roman,serif\" font-size=\"14.00\">class = positive</text>\r\n",
       "</g>\r\n",
       "<!-- 0&#45;&gt;1 -->\r\n",
       "<g id=\"edge1\" class=\"edge\"><title>0&#45;&gt;1</title>\r\n",
       "<path fill=\"none\" stroke=\"black\" d=\"M2893.87,-604.538C2774.86,-583.344 2564.79,-545.936 2436.37,-523.066\"/>\r\n",
       "<polygon fill=\"black\" stroke=\"black\" points=\"2436.96,-519.617 2426.51,-521.309 2435.74,-526.508 2436.96,-519.617\"/>\r\n",
       "<text text-anchor=\"middle\" x=\"2440.81\" y=\"-538.112\" font-family=\"Times New Roman,serif\" font-size=\"14.00\">True</text>\r\n",
       "</g>\r\n",
       "<!-- 32 -->\r\n",
       "<g id=\"node33\" class=\"node\"><title>32</title>\r\n",
       "<polygon fill=\"#399de5\" fill-opacity=\"0.678431\" stroke=\"black\" points=\"3822,-544 3629,-544 3629,-461 3822,-461 3822,-544\"/>\r\n",
       "<text text-anchor=\"middle\" x=\"3725.5\" y=\"-528.8\" font-family=\"Times New Roman,serif\" font-size=\"14.00\">disappoint &lt;= 2.567</text>\r\n",
       "<text text-anchor=\"middle\" x=\"3725.5\" y=\"-513.8\" font-family=\"Times New Roman,serif\" font-size=\"14.00\">gini = 0.369</text>\r\n",
       "<text text-anchor=\"middle\" x=\"3725.5\" y=\"-498.8\" font-family=\"Times New Roman,serif\" font-size=\"14.00\">samples = 60462</text>\r\n",
       "<text text-anchor=\"middle\" x=\"3725.5\" y=\"-483.8\" font-family=\"Times New Roman,serif\" font-size=\"14.00\">value = [10839.245, 33631.091]</text>\r\n",
       "<text text-anchor=\"middle\" x=\"3725.5\" y=\"-468.8\" font-family=\"Times New Roman,serif\" font-size=\"14.00\">class = negative</text>\r\n",
       "</g>\r\n",
       "<!-- 0&#45;&gt;32 -->\r\n",
       "<g id=\"edge32\" class=\"edge\"><title>0&#45;&gt;32</title>\r\n",
       "<path fill=\"none\" stroke=\"black\" d=\"M3073,-606.387C3210.25,-584.746 3472.18,-543.444 3618.99,-520.295\"/>\r\n",
       "<polygon fill=\"black\" stroke=\"black\" points=\"3619.59,-523.743 3628.93,-518.728 3618.5,-516.828 3619.59,-523.743\"/>\r\n",
       "<text text-anchor=\"middle\" x=\"3614.22\" y=\"-535.243\" font-family=\"Times New Roman,serif\" font-size=\"14.00\">False</text>\r\n",
       "</g>\r\n",
       "<!-- 2 -->\r\n",
       "<g id=\"node3\" class=\"node\"><title>2</title>\r\n",
       "<polygon fill=\"#e58139\" fill-opacity=\"0.337255\" stroke=\"black\" points=\"1262.5,-425 1062.5,-425 1062.5,-342 1262.5,-342 1262.5,-425\"/>\r\n",
       "<text text-anchor=\"middle\" x=\"1162.5\" y=\"-409.8\" font-family=\"Times New Roman,serif\" font-size=\"14.00\">best &lt;= 1.252</text>\r\n",
       "<text text-anchor=\"middle\" x=\"1162.5\" y=\"-394.8\" font-family=\"Times New Roman,serif\" font-size=\"14.00\">gini = 0.479</text>\r\n",
       "<text text-anchor=\"middle\" x=\"1162.5\" y=\"-379.8\" font-family=\"Times New Roman,serif\" font-size=\"14.00\">samples = 146007</text>\r\n",
       "<text text-anchor=\"middle\" x=\"1162.5\" y=\"-364.8\" font-family=\"Times New Roman,serif\" font-size=\"14.00\">value = [102429.858, 67843.973]</text>\r\n",
       "<text text-anchor=\"middle\" x=\"1162.5\" y=\"-349.8\" font-family=\"Times New Roman,serif\" font-size=\"14.00\">class = positive</text>\r\n",
       "</g>\r\n",
       "<!-- 1&#45;&gt;2 -->\r\n",
       "<g id=\"edge2\" class=\"edge\"><title>1&#45;&gt;2</title>\r\n",
       "<path fill=\"none\" stroke=\"black\" d=\"M2226.25,-491.423C2009.42,-469.628 1498.24,-418.247 1272.7,-395.577\"/>\r\n",
       "<polygon fill=\"black\" stroke=\"black\" points=\"1272.81,-392.07 1262.51,-394.552 1272.11,-399.035 1272.81,-392.07\"/>\r\n",
       "</g>\r\n",
       "<!-- 17 -->\r\n",
       "<g id=\"node18\" class=\"node\"><title>17</title>\r\n",
       "<polygon fill=\"#399de5\" fill-opacity=\"0.454902\" stroke=\"black\" points=\"2423,-425 2230,-425 2230,-342 2423,-342 2423,-425\"/>\r\n",
       "<text text-anchor=\"middle\" x=\"2326.5\" y=\"-409.8\" font-family=\"Times New Roman,serif\" font-size=\"14.00\">disappoint &lt;= 2.567</text>\r\n",
       "<text text-anchor=\"middle\" x=\"2326.5\" y=\"-394.8\" font-family=\"Times New Roman,serif\" font-size=\"14.00\">gini = 0.457</text>\r\n",
       "<text text-anchor=\"middle\" x=\"2326.5\" y=\"-379.8\" font-family=\"Times New Roman,serif\" font-size=\"14.00\">samples = 48451</text>\r\n",
       "<text text-anchor=\"middle\" x=\"2326.5\" y=\"-364.8\" font-family=\"Times New Roman,serif\" font-size=\"14.00\">value = [14190.897, 25984.936]</text>\r\n",
       "<text text-anchor=\"middle\" x=\"2326.5\" y=\"-349.8\" font-family=\"Times New Roman,serif\" font-size=\"14.00\">class = negative</text>\r\n",
       "</g>\r\n",
       "<!-- 1&#45;&gt;17 -->\r\n",
       "<g id=\"edge17\" class=\"edge\"><title>1&#45;&gt;17</title>\r\n",
       "<path fill=\"none\" stroke=\"black\" d=\"M2326.5,-460.907C2326.5,-452.649 2326.5,-443.864 2326.5,-435.302\"/>\r\n",
       "<polygon fill=\"black\" stroke=\"black\" points=\"2330,-435.021 2326.5,-425.021 2323,-435.021 2330,-435.021\"/>\r\n",
       "</g>\r\n",
       "<!-- 3 -->\r\n",
       "<g id=\"node4\" class=\"node\"><title>3</title>\r\n",
       "<polygon fill=\"#e58139\" fill-opacity=\"0.415686\" stroke=\"black\" points=\"696,-306 503,-306 503,-223 696,-223 696,-306\"/>\r\n",
       "<text text-anchor=\"middle\" x=\"599.5\" y=\"-290.8\" font-family=\"Times New Roman,serif\" font-size=\"14.00\">delici &lt;= 1.773</text>\r\n",
       "<text text-anchor=\"middle\" x=\"599.5\" y=\"-275.8\" font-family=\"Times New Roman,serif\" font-size=\"14.00\">gini = 0.466</text>\r\n",
       "<text text-anchor=\"middle\" x=\"599.5\" y=\"-260.8\" font-family=\"Times New Roman,serif\" font-size=\"14.00\">samples = 127235</text>\r\n",
       "<text text-anchor=\"middle\" x=\"599.5\" y=\"-245.8\" font-family=\"Times New Roman,serif\" font-size=\"14.00\">value = [98468.204, 57506.885]</text>\r\n",
       "<text text-anchor=\"middle\" x=\"599.5\" y=\"-230.8\" font-family=\"Times New Roman,serif\" font-size=\"14.00\">class = positive</text>\r\n",
       "</g>\r\n",
       "<!-- 2&#45;&gt;3 -->\r\n",
       "<g id=\"edge3\" class=\"edge\"><title>2&#45;&gt;3</title>\r\n",
       "<path fill=\"none\" stroke=\"black\" d=\"M1062.5,-361.718C962.346,-340.905 808.767,-308.989 706.285,-287.692\"/>\r\n",
       "<polygon fill=\"black\" stroke=\"black\" points=\"706.724,-284.208 696.221,-285.6 705.3,-291.062 706.724,-284.208\"/>\r\n",
       "</g>\r\n",
       "<!-- 10 -->\r\n",
       "<g id=\"node11\" class=\"node\"><title>10</title>\r\n",
       "<polygon fill=\"#399de5\" fill-opacity=\"0.615686\" stroke=\"black\" points=\"1255.5,-306 1069.5,-306 1069.5,-223 1255.5,-223 1255.5,-306\"/>\r\n",
       "<text text-anchor=\"middle\" x=\"1162.5\" y=\"-290.8\" font-family=\"Times New Roman,serif\" font-size=\"14.00\">disappoint &lt;= 2.567</text>\r\n",
       "<text text-anchor=\"middle\" x=\"1162.5\" y=\"-275.8\" font-family=\"Times New Roman,serif\" font-size=\"14.00\">gini = 0.401</text>\r\n",
       "<text text-anchor=\"middle\" x=\"1162.5\" y=\"-260.8\" font-family=\"Times New Roman,serif\" font-size=\"14.00\">samples = 18772</text>\r\n",
       "<text text-anchor=\"middle\" x=\"1162.5\" y=\"-245.8\" font-family=\"Times New Roman,serif\" font-size=\"14.00\">value = [3961.653, 10337.088]</text>\r\n",
       "<text text-anchor=\"middle\" x=\"1162.5\" y=\"-230.8\" font-family=\"Times New Roman,serif\" font-size=\"14.00\">class = negative</text>\r\n",
       "</g>\r\n",
       "<!-- 2&#45;&gt;10 -->\r\n",
       "<g id=\"edge10\" class=\"edge\"><title>2&#45;&gt;10</title>\r\n",
       "<path fill=\"none\" stroke=\"black\" d=\"M1162.5,-341.907C1162.5,-333.649 1162.5,-324.864 1162.5,-316.302\"/>\r\n",
       "<polygon fill=\"black\" stroke=\"black\" points=\"1166,-316.021 1162.5,-306.021 1159,-316.021 1166,-316.021\"/>\r\n",
       "</g>\r\n",
       "<!-- 4 -->\r\n",
       "<g id=\"node5\" class=\"node\"><title>4</title>\r\n",
       "<polygon fill=\"#e58139\" fill-opacity=\"0.458824\" stroke=\"black\" points=\"397.5,-187 211.5,-187 211.5,-104 397.5,-104 397.5,-187\"/>\r\n",
       "<text text-anchor=\"middle\" x=\"304.5\" y=\"-171.8\" font-family=\"Times New Roman,serif\" font-size=\"14.00\">disappoint &lt;= 2.567</text>\r\n",
       "<text text-anchor=\"middle\" x=\"304.5\" y=\"-156.8\" font-family=\"Times New Roman,serif\" font-size=\"14.00\">gini = 0.456</text>\r\n",
       "<text text-anchor=\"middle\" x=\"304.5\" y=\"-141.8\" font-family=\"Times New Roman,serif\" font-size=\"14.00\">samples = 118408</text>\r\n",
       "<text text-anchor=\"middle\" x=\"304.5\" y=\"-126.8\" font-family=\"Times New Roman,serif\" font-size=\"14.00\">value = [97137.598, 52552.84]</text>\r\n",
       "<text text-anchor=\"middle\" x=\"304.5\" y=\"-111.8\" font-family=\"Times New Roman,serif\" font-size=\"14.00\">class = positive</text>\r\n",
       "</g>\r\n",
       "<!-- 3&#45;&gt;4 -->\r\n",
       "<g id=\"edge4\" class=\"edge\"><title>3&#45;&gt;4</title>\r\n",
       "<path fill=\"none\" stroke=\"black\" d=\"M502.906,-225.19C472.297,-213.05 438.355,-199.588 407.325,-187.281\"/>\r\n",
       "<polygon fill=\"black\" stroke=\"black\" points=\"408.382,-183.935 397.796,-183.502 405.801,-190.442 408.382,-183.935\"/>\r\n",
       "</g>\r\n",
       "<!-- 7 -->\r\n",
       "<g id=\"node8\" class=\"node\"><title>7</title>\r\n",
       "<polygon fill=\"#399de5\" fill-opacity=\"0.733333\" stroke=\"black\" points=\"689,-187 510,-187 510,-104 689,-104 689,-187\"/>\r\n",
       "<text text-anchor=\"middle\" x=\"599.5\" y=\"-171.8\" font-family=\"Times New Roman,serif\" font-size=\"14.00\">disappoint &lt;= 2.567</text>\r\n",
       "<text text-anchor=\"middle\" x=\"599.5\" y=\"-156.8\" font-family=\"Times New Roman,serif\" font-size=\"14.00\">gini = 0.334</text>\r\n",
       "<text text-anchor=\"middle\" x=\"599.5\" y=\"-141.8\" font-family=\"Times New Roman,serif\" font-size=\"14.00\">samples = 8827</text>\r\n",
       "<text text-anchor=\"middle\" x=\"599.5\" y=\"-126.8\" font-family=\"Times New Roman,serif\" font-size=\"14.00\">value = [1330.606, 4954.045]</text>\r\n",
       "<text text-anchor=\"middle\" x=\"599.5\" y=\"-111.8\" font-family=\"Times New Roman,serif\" font-size=\"14.00\">class = negative</text>\r\n",
       "</g>\r\n",
       "<!-- 3&#45;&gt;7 -->\r\n",
       "<g id=\"edge7\" class=\"edge\"><title>3&#45;&gt;7</title>\r\n",
       "<path fill=\"none\" stroke=\"black\" d=\"M599.5,-222.907C599.5,-214.649 599.5,-205.864 599.5,-197.302\"/>\r\n",
       "<polygon fill=\"black\" stroke=\"black\" points=\"603,-197.021 599.5,-187.021 596,-197.021 603,-197.021\"/>\r\n",
       "</g>\r\n",
       "<!-- 5 -->\r\n",
       "<g id=\"node6\" class=\"node\"><title>5</title>\r\n",
       "<polygon fill=\"#e58139\" fill-opacity=\"0.403922\" stroke=\"black\" points=\"193,-68 0,-68 0,-0 193,-0 193,-68\"/>\r\n",
       "<text text-anchor=\"middle\" x=\"96.5\" y=\"-52.8\" font-family=\"Times New Roman,serif\" font-size=\"14.00\">gini = 0.468</text>\r\n",
       "<text text-anchor=\"middle\" x=\"96.5\" y=\"-37.8\" font-family=\"Times New Roman,serif\" font-size=\"14.00\">samples = 113521</text>\r\n",
       "<text text-anchor=\"middle\" x=\"96.5\" y=\"-22.8\" font-family=\"Times New Roman,serif\" font-size=\"14.00\">value = [86506.156, 51544.988]</text>\r\n",
       "<text text-anchor=\"middle\" x=\"96.5\" y=\"-7.8\" font-family=\"Times New Roman,serif\" font-size=\"14.00\">class = positive</text>\r\n",
       "</g>\r\n",
       "<!-- 4&#45;&gt;5 -->\r\n",
       "<g id=\"edge5\" class=\"edge\"><title>4&#45;&gt;5</title>\r\n",
       "<path fill=\"none\" stroke=\"black\" d=\"M227.344,-103.882C207.981,-93.6885 187.286,-82.7936 168.202,-72.7467\"/>\r\n",
       "<polygon fill=\"black\" stroke=\"black\" points=\"169.746,-69.6047 159.267,-68.0433 166.486,-75.7988 169.746,-69.6047\"/>\r\n",
       "</g>\r\n",
       "<!-- 6 -->\r\n",
       "<g id=\"node7\" class=\"node\"><title>6</title>\r\n",
       "<polygon fill=\"#e58139\" fill-opacity=\"0.905882\" stroke=\"black\" points=\"397.5,-68 211.5,-68 211.5,-0 397.5,-0 397.5,-68\"/>\r\n",
       "<text text-anchor=\"middle\" x=\"304.5\" y=\"-52.8\" font-family=\"Times New Roman,serif\" font-size=\"14.00\">gini = 0.158</text>\r\n",
       "<text text-anchor=\"middle\" x=\"304.5\" y=\"-37.8\" font-family=\"Times New Roman,serif\" font-size=\"14.00\">samples = 4887</text>\r\n",
       "<text text-anchor=\"middle\" x=\"304.5\" y=\"-22.8\" font-family=\"Times New Roman,serif\" font-size=\"14.00\">value = [10631.442, 1007.851]</text>\r\n",
       "<text text-anchor=\"middle\" x=\"304.5\" y=\"-7.8\" font-family=\"Times New Roman,serif\" font-size=\"14.00\">class = positive</text>\r\n",
       "</g>\r\n",
       "<!-- 4&#45;&gt;6 -->\r\n",
       "<g id=\"edge6\" class=\"edge\"><title>4&#45;&gt;6</title>\r\n",
       "<path fill=\"none\" stroke=\"black\" d=\"M304.5,-103.726C304.5,-95.5175 304.5,-86.8595 304.5,-78.56\"/>\r\n",
       "<polygon fill=\"black\" stroke=\"black\" points=\"308,-78.2996 304.5,-68.2996 301,-78.2996 308,-78.2996\"/>\r\n",
       "</g>\r\n",
       "<!-- 8 -->\r\n",
       "<g id=\"node9\" class=\"node\"><title>8</title>\r\n",
       "<polygon fill=\"#399de5\" fill-opacity=\"0.772549\" stroke=\"black\" points=\"595,-68 416,-68 416,-0 595,-0 595,-68\"/>\r\n",
       "<text text-anchor=\"middle\" x=\"505.5\" y=\"-52.8\" font-family=\"Times New Roman,serif\" font-size=\"14.00\">gini = 0.303</text>\r\n",
       "<text text-anchor=\"middle\" x=\"505.5\" y=\"-37.8\" font-family=\"Times New Roman,serif\" font-size=\"14.00\">samples = 8537</text>\r\n",
       "<text text-anchor=\"middle\" x=\"505.5\" y=\"-22.8\" font-family=\"Times New Roman,serif\" font-size=\"14.00\">value = [1106.045, 4822.995]</text>\r\n",
       "<text text-anchor=\"middle\" x=\"505.5\" y=\"-7.8\" font-family=\"Times New Roman,serif\" font-size=\"14.00\">class = negative</text>\r\n",
       "</g>\r\n",
       "<!-- 7&#45;&gt;8 -->\r\n",
       "<g id=\"edge8\" class=\"edge\"><title>7&#45;&gt;8</title>\r\n",
       "<path fill=\"none\" stroke=\"black\" d=\"M564.498,-103.726C556.746,-94.6966 548.528,-85.1235 540.766,-76.0816\"/>\r\n",
       "<polygon fill=\"black\" stroke=\"black\" points=\"543.255,-73.6075 534.086,-68.2996 537.944,-78.1671 543.255,-73.6075\"/>\r\n",
       "</g>\r\n",
       "<!-- 9 -->\r\n",
       "<g id=\"node10\" class=\"node\"><title>9</title>\r\n",
       "<polygon fill=\"#e58139\" fill-opacity=\"0.415686\" stroke=\"black\" points=\"772,-68 613,-68 613,-0 772,-0 772,-68\"/>\r\n",
       "<text text-anchor=\"middle\" x=\"692.5\" y=\"-52.8\" font-family=\"Times New Roman,serif\" font-size=\"14.00\">gini = 0.465</text>\r\n",
       "<text text-anchor=\"middle\" x=\"692.5\" y=\"-37.8\" font-family=\"Times New Roman,serif\" font-size=\"14.00\">samples = 290</text>\r\n",
       "<text text-anchor=\"middle\" x=\"692.5\" y=\"-22.8\" font-family=\"Times New Roman,serif\" font-size=\"14.00\">value = [224.561, 131.05]</text>\r\n",
       "<text text-anchor=\"middle\" x=\"692.5\" y=\"-7.8\" font-family=\"Times New Roman,serif\" font-size=\"14.00\">class = positive</text>\r\n",
       "</g>\r\n",
       "<!-- 7&#45;&gt;9 -->\r\n",
       "<g id=\"edge9\" class=\"edge\"><title>7&#45;&gt;9</title>\r\n",
       "<path fill=\"none\" stroke=\"black\" d=\"M634.13,-103.726C641.799,-94.6966 649.929,-85.1235 657.609,-76.0816\"/>\r\n",
       "<polygon fill=\"black\" stroke=\"black\" points=\"660.412,-78.1873 664.218,-68.2996 655.077,-73.6559 660.412,-78.1873\"/>\r\n",
       "</g>\r\n",
       "<!-- 11 -->\r\n",
       "<g id=\"node12\" class=\"node\"><title>11</title>\r\n",
       "<polygon fill=\"#399de5\" fill-opacity=\"0.658824\" stroke=\"black\" points=\"1158.5,-187 972.5,-187 972.5,-104 1158.5,-104 1158.5,-187\"/>\r\n",
       "<text text-anchor=\"middle\" x=\"1065.5\" y=\"-171.8\" font-family=\"Times New Roman,serif\" font-size=\"14.00\">date &lt;= 2.899</text>\r\n",
       "<text text-anchor=\"middle\" x=\"1065.5\" y=\"-156.8\" font-family=\"Times New Roman,serif\" font-size=\"14.00\">gini = 0.38</text>\r\n",
       "<text text-anchor=\"middle\" x=\"1065.5\" y=\"-141.8\" font-family=\"Times New Roman,serif\" font-size=\"14.00\">samples = 18192</text>\r\n",
       "<text text-anchor=\"middle\" x=\"1065.5\" y=\"-126.8\" font-family=\"Times New Roman,serif\" font-size=\"14.00\">value = [3452.202, 10085.566]</text>\r\n",
       "<text text-anchor=\"middle\" x=\"1065.5\" y=\"-111.8\" font-family=\"Times New Roman,serif\" font-size=\"14.00\">class = negative</text>\r\n",
       "</g>\r\n",
       "<!-- 10&#45;&gt;11 -->\r\n",
       "<g id=\"edge11\" class=\"edge\"><title>10&#45;&gt;11</title>\r\n",
       "<path fill=\"none\" stroke=\"black\" d=\"M1128.85,-222.907C1121.32,-213.832 1113.27,-204.121 1105.52,-194.769\"/>\r\n",
       "<polygon fill=\"black\" stroke=\"black\" points=\"1108.17,-192.485 1099.09,-187.021 1102.78,-196.953 1108.17,-192.485\"/>\r\n",
       "</g>\r\n",
       "<!-- 14 -->\r\n",
       "<g id=\"node15\" class=\"node\"><title>14</title>\r\n",
       "<polygon fill=\"#e58139\" fill-opacity=\"0.505882\" stroke=\"black\" points=\"1342.5,-187 1176.5,-187 1176.5,-104 1342.5,-104 1342.5,-187\"/>\r\n",
       "<text text-anchor=\"middle\" x=\"1259.5\" y=\"-171.8\" font-family=\"Times New Roman,serif\" font-size=\"14.00\">far best &lt;= 6.323</text>\r\n",
       "<text text-anchor=\"middle\" x=\"1259.5\" y=\"-156.8\" font-family=\"Times New Roman,serif\" font-size=\"14.00\">gini = 0.443</text>\r\n",
       "<text text-anchor=\"middle\" x=\"1259.5\" y=\"-141.8\" font-family=\"Times New Roman,serif\" font-size=\"14.00\">samples = 580</text>\r\n",
       "<text text-anchor=\"middle\" x=\"1259.5\" y=\"-126.8\" font-family=\"Times New Roman,serif\" font-size=\"14.00\">value = [509.451, 251.522]</text>\r\n",
       "<text text-anchor=\"middle\" x=\"1259.5\" y=\"-111.8\" font-family=\"Times New Roman,serif\" font-size=\"14.00\">class = positive</text>\r\n",
       "</g>\r\n",
       "<!-- 10&#45;&gt;14 -->\r\n",
       "<g id=\"edge14\" class=\"edge\"><title>10&#45;&gt;14</title>\r\n",
       "<path fill=\"none\" stroke=\"black\" d=\"M1196.15,-222.907C1203.68,-213.832 1211.73,-204.121 1219.48,-194.769\"/>\r\n",
       "<polygon fill=\"black\" stroke=\"black\" points=\"1222.22,-196.953 1225.91,-187.021 1216.83,-192.485 1222.22,-196.953\"/>\r\n",
       "</g>\r\n",
       "<!-- 12 -->\r\n",
       "<g id=\"node13\" class=\"node\"><title>12</title>\r\n",
       "<polygon fill=\"#399de5\" fill-opacity=\"0.686275\" stroke=\"black\" points=\"969,-68 790,-68 790,-0 969,-0 969,-68\"/>\r\n",
       "<text text-anchor=\"middle\" x=\"879.5\" y=\"-52.8\" font-family=\"Times New Roman,serif\" font-size=\"14.00\">gini = 0.364</text>\r\n",
       "<text text-anchor=\"middle\" x=\"879.5\" y=\"-37.8\" font-family=\"Times New Roman,serif\" font-size=\"14.00\">samples = 17840</text>\r\n",
       "<text text-anchor=\"middle\" x=\"879.5\" y=\"-22.8\" font-family=\"Times New Roman,serif\" font-size=\"14.00\">value = [3117.037, 9937.474]</text>\r\n",
       "<text text-anchor=\"middle\" x=\"879.5\" y=\"-7.8\" font-family=\"Times New Roman,serif\" font-size=\"14.00\">class = negative</text>\r\n",
       "</g>\r\n",
       "<!-- 11&#45;&gt;12 -->\r\n",
       "<g id=\"edge12\" class=\"edge\"><title>11&#45;&gt;12</title>\r\n",
       "<path fill=\"none\" stroke=\"black\" d=\"M996.505,-103.882C979.425,-93.8269 961.186,-83.0892 944.314,-73.1563\"/>\r\n",
       "<polygon fill=\"black\" stroke=\"black\" points=\"946.022,-70.1005 935.628,-68.0433 942.47,-76.1328 946.022,-70.1005\"/>\r\n",
       "</g>\r\n",
       "<!-- 13 -->\r\n",
       "<g id=\"node14\" class=\"node\"><title>13</title>\r\n",
       "<polygon fill=\"#e58139\" fill-opacity=\"0.556863\" stroke=\"black\" points=\"1153.5,-68 987.5,-68 987.5,-0 1153.5,-0 1153.5,-68\"/>\r\n",
       "<text text-anchor=\"middle\" x=\"1070.5\" y=\"-52.8\" font-family=\"Times New Roman,serif\" font-size=\"14.00\">gini = 0.425</text>\r\n",
       "<text text-anchor=\"middle\" x=\"1070.5\" y=\"-37.8\" font-family=\"Times New Roman,serif\" font-size=\"14.00\">samples = 352</text>\r\n",
       "<text text-anchor=\"middle\" x=\"1070.5\" y=\"-22.8\" font-family=\"Times New Roman,serif\" font-size=\"14.00\">value = [335.165, 148.092]</text>\r\n",
       "<text text-anchor=\"middle\" x=\"1070.5\" y=\"-7.8\" font-family=\"Times New Roman,serif\" font-size=\"14.00\">class = positive</text>\r\n",
       "</g>\r\n",
       "<!-- 11&#45;&gt;13 -->\r\n",
       "<g id=\"edge13\" class=\"edge\"><title>11&#45;&gt;13</title>\r\n",
       "<path fill=\"none\" stroke=\"black\" d=\"M1067.36,-103.726C1067.74,-95.5175 1068.13,-86.8595 1068.51,-78.56\"/>\r\n",
       "<polygon fill=\"black\" stroke=\"black\" points=\"1072.02,-78.4489 1068.98,-68.2996 1065.03,-78.1295 1072.02,-78.4489\"/>\r\n",
       "</g>\r\n",
       "<!-- 15 -->\r\n",
       "<g id=\"node16\" class=\"node\"><title>15</title>\r\n",
       "<polygon fill=\"#e58139\" fill-opacity=\"0.545098\" stroke=\"black\" points=\"1337.5,-68 1171.5,-68 1171.5,-0 1337.5,-0 1337.5,-68\"/>\r\n",
       "<text text-anchor=\"middle\" x=\"1254.5\" y=\"-52.8\" font-family=\"Times New Roman,serif\" font-size=\"14.00\">gini = 0.43</text>\r\n",
       "<text text-anchor=\"middle\" x=\"1254.5\" y=\"-37.8\" font-family=\"Times New Roman,serif\" font-size=\"14.00\">samples = 547</text>\r\n",
       "<text text-anchor=\"middle\" x=\"1254.5\" y=\"-22.8\" font-family=\"Times New Roman,serif\" font-size=\"14.00\">value = [509.451, 232.129]</text>\r\n",
       "<text text-anchor=\"middle\" x=\"1254.5\" y=\"-7.8\" font-family=\"Times New Roman,serif\" font-size=\"14.00\">class = positive</text>\r\n",
       "</g>\r\n",
       "<!-- 14&#45;&gt;15 -->\r\n",
       "<g id=\"edge15\" class=\"edge\"><title>14&#45;&gt;15</title>\r\n",
       "<path fill=\"none\" stroke=\"black\" d=\"M1257.64,-103.726C1257.26,-95.5175 1256.87,-86.8595 1256.49,-78.56\"/>\r\n",
       "<polygon fill=\"black\" stroke=\"black\" points=\"1259.97,-78.1295 1256.02,-68.2996 1252.98,-78.4489 1259.97,-78.1295\"/>\r\n",
       "</g>\r\n",
       "<!-- 16 -->\r\n",
       "<g id=\"node17\" class=\"node\"><title>16</title>\r\n",
       "<polygon fill=\"#399de5\" stroke=\"black\" points=\"1487.5,-68 1355.5,-68 1355.5,-0 1487.5,-0 1487.5,-68\"/>\r\n",
       "<text text-anchor=\"middle\" x=\"1421.5\" y=\"-52.8\" font-family=\"Times New Roman,serif\" font-size=\"14.00\">gini = 0.0</text>\r\n",
       "<text text-anchor=\"middle\" x=\"1421.5\" y=\"-37.8\" font-family=\"Times New Roman,serif\" font-size=\"14.00\">samples = 33</text>\r\n",
       "<text text-anchor=\"middle\" x=\"1421.5\" y=\"-22.8\" font-family=\"Times New Roman,serif\" font-size=\"14.00\">value = [0.0, 19.393]</text>\r\n",
       "<text text-anchor=\"middle\" x=\"1421.5\" y=\"-7.8\" font-family=\"Times New Roman,serif\" font-size=\"14.00\">class = negative</text>\r\n",
       "</g>\r\n",
       "<!-- 14&#45;&gt;16 -->\r\n",
       "<g id=\"edge16\" class=\"edge\"><title>14&#45;&gt;16</title>\r\n",
       "<path fill=\"none\" stroke=\"black\" d=\"M1319.82,-103.726C1334.34,-93.9161 1349.8,-83.4644 1364.17,-73.7496\"/>\r\n",
       "<polygon fill=\"black\" stroke=\"black\" points=\"1366.17,-76.625 1372.49,-68.1252 1362.25,-70.8255 1366.17,-76.625\"/>\r\n",
       "</g>\r\n",
       "<!-- 18 -->\r\n",
       "<g id=\"node19\" class=\"node\"><title>18</title>\r\n",
       "<polygon fill=\"#399de5\" fill-opacity=\"0.525490\" stroke=\"black\" points=\"2191,-306 1998,-306 1998,-223 2191,-223 2191,-306\"/>\r\n",
       "<text text-anchor=\"middle\" x=\"2094.5\" y=\"-290.8\" font-family=\"Times New Roman,serif\" font-size=\"14.00\">tast &lt;= 1.9</text>\r\n",
       "<text text-anchor=\"middle\" x=\"2094.5\" y=\"-275.8\" font-family=\"Times New Roman,serif\" font-size=\"14.00\">gini = 0.436</text>\r\n",
       "<text text-anchor=\"middle\" x=\"2094.5\" y=\"-260.8\" font-family=\"Times New Roman,serif\" font-size=\"14.00\">samples = 46936</text>\r\n",
       "<text text-anchor=\"middle\" x=\"2094.5\" y=\"-245.8\" font-family=\"Times New Roman,serif\" font-size=\"14.00\">value = [12052.543, 25469.551]</text>\r\n",
       "<text text-anchor=\"middle\" x=\"2094.5\" y=\"-230.8\" font-family=\"Times New Roman,serif\" font-size=\"14.00\">class = negative</text>\r\n",
       "</g>\r\n",
       "<!-- 17&#45;&gt;18 -->\r\n",
       "<g id=\"edge18\" class=\"edge\"><title>17&#45;&gt;18</title>\r\n",
       "<path fill=\"none\" stroke=\"black\" d=\"M2246.01,-341.907C2225.94,-331.789 2204.31,-320.879 2183.85,-310.559\"/>\r\n",
       "<polygon fill=\"black\" stroke=\"black\" points=\"2185.35,-307.399 2174.85,-306.021 2182.2,-313.649 2185.35,-307.399\"/>\r\n",
       "</g>\r\n",
       "<!-- 25 -->\r\n",
       "<g id=\"node26\" class=\"node\"><title>25</title>\r\n",
       "<polygon fill=\"#e58139\" fill-opacity=\"0.760784\" stroke=\"black\" points=\"2552,-306 2379,-306 2379,-223 2552,-223 2552,-306\"/>\r\n",
       "<text text-anchor=\"middle\" x=\"2465.5\" y=\"-290.8\" font-family=\"Times New Roman,serif\" font-size=\"14.00\">delici &lt;= 1.773</text>\r\n",
       "<text text-anchor=\"middle\" x=\"2465.5\" y=\"-275.8\" font-family=\"Times New Roman,serif\" font-size=\"14.00\">gini = 0.313</text>\r\n",
       "<text text-anchor=\"middle\" x=\"2465.5\" y=\"-260.8\" font-family=\"Times New Roman,serif\" font-size=\"14.00\">samples = 1515</text>\r\n",
       "<text text-anchor=\"middle\" x=\"2465.5\" y=\"-245.8\" font-family=\"Times New Roman,serif\" font-size=\"14.00\">value = [2138.354, 515.385]</text>\r\n",
       "<text text-anchor=\"middle\" x=\"2465.5\" y=\"-230.8\" font-family=\"Times New Roman,serif\" font-size=\"14.00\">class = positive</text>\r\n",
       "</g>\r\n",
       "<!-- 17&#45;&gt;25 -->\r\n",
       "<g id=\"edge25\" class=\"edge\"><title>17&#45;&gt;25</title>\r\n",
       "<path fill=\"none\" stroke=\"black\" d=\"M2374.73,-341.907C2385.94,-332.469 2397.97,-322.343 2409.49,-312.649\"/>\r\n",
       "<polygon fill=\"black\" stroke=\"black\" points=\"2411.96,-315.138 2417.36,-306.021 2407.46,-309.783 2411.96,-315.138\"/>\r\n",
       "</g>\r\n",
       "<!-- 19 -->\r\n",
       "<g id=\"node20\" class=\"node\"><title>19</title>\r\n",
       "<polygon fill=\"#399de5\" fill-opacity=\"0.584314\" stroke=\"black\" points=\"1892.5,-187 1706.5,-187 1706.5,-104 1892.5,-104 1892.5,-187\"/>\r\n",
       "<text text-anchor=\"middle\" x=\"1799.5\" y=\"-171.8\" font-family=\"Times New Roman,serif\" font-size=\"14.00\">would &lt;= 0.967</text>\r\n",
       "<text text-anchor=\"middle\" x=\"1799.5\" y=\"-156.8\" font-family=\"Times New Roman,serif\" font-size=\"14.00\">gini = 0.415</text>\r\n",
       "<text text-anchor=\"middle\" x=\"1799.5\" y=\"-141.8\" font-family=\"Times New Roman,serif\" font-size=\"14.00\">samples = 43790</text>\r\n",
       "<text text-anchor=\"middle\" x=\"1799.5\" y=\"-126.8\" font-family=\"Times New Roman,serif\" font-size=\"14.00\">value = [9971.167, 23985.688]</text>\r\n",
       "<text text-anchor=\"middle\" x=\"1799.5\" y=\"-111.8\" font-family=\"Times New Roman,serif\" font-size=\"14.00\">class = negative</text>\r\n",
       "</g>\r\n",
       "<!-- 18&#45;&gt;19 -->\r\n",
       "<g id=\"edge19\" class=\"edge\"><title>18&#45;&gt;19</title>\r\n",
       "<path fill=\"none\" stroke=\"black\" d=\"M1997.91,-225.19C1967.3,-213.05 1933.35,-199.588 1902.33,-187.281\"/>\r\n",
       "<polygon fill=\"black\" stroke=\"black\" points=\"1903.38,-183.935 1892.8,-183.502 1900.8,-190.442 1903.38,-183.935\"/>\r\n",
       "</g>\r\n",
       "<!-- 22 -->\r\n",
       "<g id=\"node23\" class=\"node\"><title>22</title>\r\n",
       "<polygon fill=\"#e58139\" fill-opacity=\"0.286275\" stroke=\"black\" points=\"2184,-187 2005,-187 2005,-104 2184,-104 2184,-187\"/>\r\n",
       "<text text-anchor=\"middle\" x=\"2094.5\" y=\"-171.8\" font-family=\"Times New Roman,serif\" font-size=\"14.00\">best &lt;= 1.252</text>\r\n",
       "<text text-anchor=\"middle\" x=\"2094.5\" y=\"-156.8\" font-family=\"Times New Roman,serif\" font-size=\"14.00\">gini = 0.486</text>\r\n",
       "<text text-anchor=\"middle\" x=\"2094.5\" y=\"-141.8\" font-family=\"Times New Roman,serif\" font-size=\"14.00\">samples = 3146</text>\r\n",
       "<text text-anchor=\"middle\" x=\"2094.5\" y=\"-126.8\" font-family=\"Times New Roman,serif\" font-size=\"14.00\">value = [2081.376, 1483.863]</text>\r\n",
       "<text text-anchor=\"middle\" x=\"2094.5\" y=\"-111.8\" font-family=\"Times New Roman,serif\" font-size=\"14.00\">class = positive</text>\r\n",
       "</g>\r\n",
       "<!-- 18&#45;&gt;22 -->\r\n",
       "<g id=\"edge22\" class=\"edge\"><title>18&#45;&gt;22</title>\r\n",
       "<path fill=\"none\" stroke=\"black\" d=\"M2094.5,-222.907C2094.5,-214.649 2094.5,-205.864 2094.5,-197.302\"/>\r\n",
       "<polygon fill=\"black\" stroke=\"black\" points=\"2098,-197.021 2094.5,-187.021 2091,-197.021 2098,-197.021\"/>\r\n",
       "</g>\r\n",
       "<!-- 20 -->\r\n",
       "<g id=\"node21\" class=\"node\"><title>20</title>\r\n",
       "<polygon fill=\"#399de5\" fill-opacity=\"0.647059\" stroke=\"black\" points=\"1691.5,-68 1505.5,-68 1505.5,-0 1691.5,-0 1691.5,-68\"/>\r\n",
       "<text text-anchor=\"middle\" x=\"1598.5\" y=\"-52.8\" font-family=\"Times New Roman,serif\" font-size=\"14.00\">gini = 0.385</text>\r\n",
       "<text text-anchor=\"middle\" x=\"1598.5\" y=\"-37.8\" font-family=\"Times New Roman,serif\" font-size=\"14.00\">samples = 37485</text>\r\n",
       "<text text-anchor=\"middle\" x=\"1598.5\" y=\"-22.8\" font-family=\"Times New Roman,serif\" font-size=\"14.00\">value = [7286.493, 20751.161]</text>\r\n",
       "<text text-anchor=\"middle\" x=\"1598.5\" y=\"-7.8\" font-family=\"Times New Roman,serif\" font-size=\"14.00\">class = negative</text>\r\n",
       "</g>\r\n",
       "<!-- 19&#45;&gt;20 -->\r\n",
       "<g id=\"edge20\" class=\"edge\"><title>19&#45;&gt;20</title>\r\n",
       "<path fill=\"none\" stroke=\"black\" d=\"M1724.94,-103.882C1706.31,-93.7346 1686.41,-82.8922 1668.04,-72.8832\"/>\r\n",
       "<polygon fill=\"black\" stroke=\"black\" points=\"1669.61,-69.7538 1659.15,-68.0433 1666.26,-75.9008 1669.61,-69.7538\"/>\r\n",
       "</g>\r\n",
       "<!-- 21 -->\r\n",
       "<g id=\"node22\" class=\"node\"><title>21</title>\r\n",
       "<polygon fill=\"#399de5\" fill-opacity=\"0.168627\" stroke=\"black\" points=\"1889,-68 1710,-68 1710,-0 1889,-0 1889,-68\"/>\r\n",
       "<text text-anchor=\"middle\" x=\"1799.5\" y=\"-52.8\" font-family=\"Times New Roman,serif\" font-size=\"14.00\">gini = 0.496</text>\r\n",
       "<text text-anchor=\"middle\" x=\"1799.5\" y=\"-37.8\" font-family=\"Times New Roman,serif\" font-size=\"14.00\">samples = 6305</text>\r\n",
       "<text text-anchor=\"middle\" x=\"1799.5\" y=\"-22.8\" font-family=\"Times New Roman,serif\" font-size=\"14.00\">value = [2684.674, 3234.527]</text>\r\n",
       "<text text-anchor=\"middle\" x=\"1799.5\" y=\"-7.8\" font-family=\"Times New Roman,serif\" font-size=\"14.00\">class = negative</text>\r\n",
       "</g>\r\n",
       "<!-- 19&#45;&gt;21 -->\r\n",
       "<g id=\"edge21\" class=\"edge\"><title>19&#45;&gt;21</title>\r\n",
       "<path fill=\"none\" stroke=\"black\" d=\"M1799.5,-103.726C1799.5,-95.5175 1799.5,-86.8595 1799.5,-78.56\"/>\r\n",
       "<polygon fill=\"black\" stroke=\"black\" points=\"1803,-78.2996 1799.5,-68.2996 1796,-78.2996 1803,-78.2996\"/>\r\n",
       "</g>\r\n",
       "<!-- 23 -->\r\n",
       "<g id=\"node24\" class=\"node\"><title>23</title>\r\n",
       "<polygon fill=\"#e58139\" fill-opacity=\"0.392157\" stroke=\"black\" points=\"2086,-68 1907,-68 1907,-0 2086,-0 2086,-68\"/>\r\n",
       "<text text-anchor=\"middle\" x=\"1996.5\" y=\"-52.8\" font-family=\"Times New Roman,serif\" font-size=\"14.00\">gini = 0.471</text>\r\n",
       "<text text-anchor=\"middle\" x=\"1996.5\" y=\"-37.8\" font-family=\"Times New Roman,serif\" font-size=\"14.00\">samples = 2587</text>\r\n",
       "<text text-anchor=\"middle\" x=\"1996.5\" y=\"-22.8\" font-family=\"Times New Roman,serif\" font-size=\"14.00\">value = [1937.255, 1180.626]</text>\r\n",
       "<text text-anchor=\"middle\" x=\"1996.5\" y=\"-7.8\" font-family=\"Times New Roman,serif\" font-size=\"14.00\">class = positive</text>\r\n",
       "</g>\r\n",
       "<!-- 22&#45;&gt;23 -->\r\n",
       "<g id=\"edge23\" class=\"edge\"><title>22&#45;&gt;23</title>\r\n",
       "<path fill=\"none\" stroke=\"black\" d=\"M2058.01,-103.726C2049.85,-94.6054 2041.19,-84.93 2033.02,-75.8078\"/>\r\n",
       "<polygon fill=\"black\" stroke=\"black\" points=\"2035.58,-73.417 2026.3,-68.2996 2030.36,-78.0853 2035.58,-73.417\"/>\r\n",
       "</g>\r\n",
       "<!-- 24 -->\r\n",
       "<g id=\"node25\" class=\"node\"><title>24</title>\r\n",
       "<polygon fill=\"#399de5\" fill-opacity=\"0.525490\" stroke=\"black\" points=\"2270.5,-68 2104.5,-68 2104.5,-0 2270.5,-0 2270.5,-68\"/>\r\n",
       "<text text-anchor=\"middle\" x=\"2187.5\" y=\"-52.8\" font-family=\"Times New Roman,serif\" font-size=\"14.00\">gini = 0.437</text>\r\n",
       "<text text-anchor=\"middle\" x=\"2187.5\" y=\"-37.8\" font-family=\"Times New Roman,serif\" font-size=\"14.00\">samples = 559</text>\r\n",
       "<text text-anchor=\"middle\" x=\"2187.5\" y=\"-22.8\" font-family=\"Times New Roman,serif\" font-size=\"14.00\">value = [144.121, 303.237]</text>\r\n",
       "<text text-anchor=\"middle\" x=\"2187.5\" y=\"-7.8\" font-family=\"Times New Roman,serif\" font-size=\"14.00\">class = negative</text>\r\n",
       "</g>\r\n",
       "<!-- 22&#45;&gt;24 -->\r\n",
       "<g id=\"edge24\" class=\"edge\"><title>22&#45;&gt;24</title>\r\n",
       "<path fill=\"none\" stroke=\"black\" d=\"M2129.13,-103.726C2136.8,-94.6966 2144.93,-85.1235 2152.61,-76.0816\"/>\r\n",
       "<polygon fill=\"black\" stroke=\"black\" points=\"2155.41,-78.1873 2159.22,-68.2996 2150.08,-73.6559 2155.41,-78.1873\"/>\r\n",
       "</g>\r\n",
       "<!-- 26 -->\r\n",
       "<g id=\"node27\" class=\"node\"><title>26</title>\r\n",
       "<polygon fill=\"#e58139\" fill-opacity=\"0.784314\" stroke=\"black\" points=\"2552,-187 2379,-187 2379,-104 2552,-104 2552,-187\"/>\r\n",
       "<text text-anchor=\"middle\" x=\"2465.5\" y=\"-171.8\" font-family=\"Times New Roman,serif\" font-size=\"14.00\">best &lt;= 1.252</text>\r\n",
       "<text text-anchor=\"middle\" x=\"2465.5\" y=\"-156.8\" font-family=\"Times New Roman,serif\" font-size=\"14.00\">gini = 0.292</text>\r\n",
       "<text text-anchor=\"middle\" x=\"2465.5\" y=\"-141.8\" font-family=\"Times New Roman,serif\" font-size=\"14.00\">samples = 1384</text>\r\n",
       "<text text-anchor=\"middle\" x=\"2465.5\" y=\"-126.8\" font-family=\"Times New Roman,serif\" font-size=\"14.00\">value = [2081.376, 448.391]</text>\r\n",
       "<text text-anchor=\"middle\" x=\"2465.5\" y=\"-111.8\" font-family=\"Times New Roman,serif\" font-size=\"14.00\">class = positive</text>\r\n",
       "</g>\r\n",
       "<!-- 25&#45;&gt;26 -->\r\n",
       "<g id=\"edge26\" class=\"edge\"><title>25&#45;&gt;26</title>\r\n",
       "<path fill=\"none\" stroke=\"black\" d=\"M2465.5,-222.907C2465.5,-214.649 2465.5,-205.864 2465.5,-197.302\"/>\r\n",
       "<polygon fill=\"black\" stroke=\"black\" points=\"2469,-197.021 2465.5,-187.021 2462,-197.021 2469,-197.021\"/>\r\n",
       "</g>\r\n",
       "<!-- 29 -->\r\n",
       "<g id=\"node30\" class=\"node\"><title>29</title>\r\n",
       "<polygon fill=\"#399de5\" fill-opacity=\"0.149020\" stroke=\"black\" points=\"2799.5,-187 2647.5,-187 2647.5,-104 2799.5,-104 2799.5,-187\"/>\r\n",
       "<text text-anchor=\"middle\" x=\"2723.5\" y=\"-171.8\" font-family=\"Times New Roman,serif\" font-size=\"14.00\">though &lt;= 2.288</text>\r\n",
       "<text text-anchor=\"middle\" x=\"2723.5\" y=\"-156.8\" font-family=\"Times New Roman,serif\" font-size=\"14.00\">gini = 0.497</text>\r\n",
       "<text text-anchor=\"middle\" x=\"2723.5\" y=\"-141.8\" font-family=\"Times New Roman,serif\" font-size=\"14.00\">samples = 131</text>\r\n",
       "<text text-anchor=\"middle\" x=\"2723.5\" y=\"-126.8\" font-family=\"Times New Roman,serif\" font-size=\"14.00\">value = [56.978, 66.994]</text>\r\n",
       "<text text-anchor=\"middle\" x=\"2723.5\" y=\"-111.8\" font-family=\"Times New Roman,serif\" font-size=\"14.00\">class = negative</text>\r\n",
       "</g>\r\n",
       "<!-- 25&#45;&gt;29 -->\r\n",
       "<g id=\"edge29\" class=\"edge\"><title>25&#45;&gt;29</title>\r\n",
       "<path fill=\"none\" stroke=\"black\" d=\"M2552.13,-224.215C2579.88,-211.63 2610.57,-197.711 2638.23,-185.17\"/>\r\n",
       "<polygon fill=\"black\" stroke=\"black\" points=\"2639.82,-188.292 2647.48,-180.974 2636.93,-181.917 2639.82,-188.292\"/>\r\n",
       "</g>\r\n",
       "<!-- 27 -->\r\n",
       "<g id=\"node28\" class=\"node\"><title>27</title>\r\n",
       "<polygon fill=\"#e58139\" fill-opacity=\"0.807843\" stroke=\"black\" points=\"2462,-68 2289,-68 2289,-0 2462,-0 2462,-68\"/>\r\n",
       "<text text-anchor=\"middle\" x=\"2375.5\" y=\"-52.8\" font-family=\"Times New Roman,serif\" font-size=\"14.00\">gini = 0.269</text>\r\n",
       "<text text-anchor=\"middle\" x=\"2375.5\" y=\"-37.8\" font-family=\"Times New Roman,serif\" font-size=\"14.00\">samples = 1233</text>\r\n",
       "<text text-anchor=\"middle\" x=\"2375.5\" y=\"-22.8\" font-family=\"Times New Roman,serif\" font-size=\"14.00\">value = [1977.475, 377.871]</text>\r\n",
       "<text text-anchor=\"middle\" x=\"2375.5\" y=\"-7.8\" font-family=\"Times New Roman,serif\" font-size=\"14.00\">class = positive</text>\r\n",
       "</g>\r\n",
       "<!-- 26&#45;&gt;27 -->\r\n",
       "<g id=\"edge27\" class=\"edge\"><title>26&#45;&gt;27</title>\r\n",
       "<path fill=\"none\" stroke=\"black\" d=\"M2431.99,-103.726C2424.57,-94.6966 2416.7,-85.1235 2409.27,-76.0816\"/>\r\n",
       "<polygon fill=\"black\" stroke=\"black\" points=\"2411.92,-73.8026 2402.87,-68.2996 2406.52,-78.2474 2411.92,-73.8026\"/>\r\n",
       "</g>\r\n",
       "<!-- 28 -->\r\n",
       "<g id=\"node29\" class=\"node\"><title>28</title>\r\n",
       "<polygon fill=\"#e58139\" fill-opacity=\"0.321569\" stroke=\"black\" points=\"2632.5,-68 2480.5,-68 2480.5,-0 2632.5,-0 2632.5,-68\"/>\r\n",
       "<text text-anchor=\"middle\" x=\"2556.5\" y=\"-52.8\" font-family=\"Times New Roman,serif\" font-size=\"14.00\">gini = 0.482</text>\r\n",
       "<text text-anchor=\"middle\" x=\"2556.5\" y=\"-37.8\" font-family=\"Times New Roman,serif\" font-size=\"14.00\">samples = 151</text>\r\n",
       "<text text-anchor=\"middle\" x=\"2556.5\" y=\"-22.8\" font-family=\"Times New Roman,serif\" font-size=\"14.00\">value = [103.901, 70.52]</text>\r\n",
       "<text text-anchor=\"middle\" x=\"2556.5\" y=\"-7.8\" font-family=\"Times New Roman,serif\" font-size=\"14.00\">class = positive</text>\r\n",
       "</g>\r\n",
       "<!-- 26&#45;&gt;28 -->\r\n",
       "<g id=\"edge28\" class=\"edge\"><title>26&#45;&gt;28</title>\r\n",
       "<path fill=\"none\" stroke=\"black\" d=\"M2499.39,-103.726C2506.89,-94.6966 2514.84,-85.1235 2522.36,-76.0816\"/>\r\n",
       "<polygon fill=\"black\" stroke=\"black\" points=\"2525.13,-78.2275 2528.83,-68.2996 2519.74,-73.7534 2525.13,-78.2275\"/>\r\n",
       "</g>\r\n",
       "<!-- 30 -->\r\n",
       "<g id=\"node31\" class=\"node\"><title>30</title>\r\n",
       "<polygon fill=\"#399de5\" fill-opacity=\"0.372549\" stroke=\"black\" points=\"2796.5,-68 2650.5,-68 2650.5,-0 2796.5,-0 2796.5,-68\"/>\r\n",
       "<text text-anchor=\"middle\" x=\"2723.5\" y=\"-52.8\" font-family=\"Times New Roman,serif\" font-size=\"14.00\">gini = 0.474</text>\r\n",
       "<text text-anchor=\"middle\" x=\"2723.5\" y=\"-37.8\" font-family=\"Times New Roman,serif\" font-size=\"14.00\">samples = 121</text>\r\n",
       "<text text-anchor=\"middle\" x=\"2723.5\" y=\"-22.8\" font-family=\"Times New Roman,serif\" font-size=\"14.00\">value = [40.22, 64.056]</text>\r\n",
       "<text text-anchor=\"middle\" x=\"2723.5\" y=\"-7.8\" font-family=\"Times New Roman,serif\" font-size=\"14.00\">class = negative</text>\r\n",
       "</g>\r\n",
       "<!-- 29&#45;&gt;30 -->\r\n",
       "<g id=\"edge30\" class=\"edge\"><title>29&#45;&gt;30</title>\r\n",
       "<path fill=\"none\" stroke=\"black\" d=\"M2723.5,-103.726C2723.5,-95.5175 2723.5,-86.8595 2723.5,-78.56\"/>\r\n",
       "<polygon fill=\"black\" stroke=\"black\" points=\"2727,-78.2996 2723.5,-68.2996 2720,-78.2996 2727,-78.2996\"/>\r\n",
       "</g>\r\n",
       "<!-- 31 -->\r\n",
       "<g id=\"node32\" class=\"node\"><title>31</title>\r\n",
       "<polygon fill=\"#e58139\" fill-opacity=\"0.823529\" stroke=\"black\" points=\"2960.5,-68 2814.5,-68 2814.5,-0 2960.5,-0 2960.5,-68\"/>\r\n",
       "<text text-anchor=\"middle\" x=\"2887.5\" y=\"-52.8\" font-family=\"Times New Roman,serif\" font-size=\"14.00\">gini = 0.254</text>\r\n",
       "<text text-anchor=\"middle\" x=\"2887.5\" y=\"-37.8\" font-family=\"Times New Roman,serif\" font-size=\"14.00\">samples = 10</text>\r\n",
       "<text text-anchor=\"middle\" x=\"2887.5\" y=\"-22.8\" font-family=\"Times New Roman,serif\" font-size=\"14.00\">value = [16.758, 2.938]</text>\r\n",
       "<text text-anchor=\"middle\" x=\"2887.5\" y=\"-7.8\" font-family=\"Times New Roman,serif\" font-size=\"14.00\">class = positive</text>\r\n",
       "</g>\r\n",
       "<!-- 29&#45;&gt;31 -->\r\n",
       "<g id=\"edge31\" class=\"edge\"><title>29&#45;&gt;31</title>\r\n",
       "<path fill=\"none\" stroke=\"black\" d=\"M2784.57,-103.726C2799.26,-93.9161 2814.91,-83.4644 2829.46,-73.7496\"/>\r\n",
       "<polygon fill=\"black\" stroke=\"black\" points=\"2831.51,-76.5889 2837.89,-68.1252 2827.63,-70.7673 2831.51,-76.5889\"/>\r\n",
       "</g>\r\n",
       "<!-- 33 -->\r\n",
       "<g id=\"node34\" class=\"node\"><title>33</title>\r\n",
       "<polygon fill=\"#399de5\" fill-opacity=\"0.713725\" stroke=\"black\" points=\"3818.5,-425 3632.5,-425 3632.5,-342 3818.5,-342 3818.5,-425\"/>\r\n",
       "<text text-anchor=\"middle\" x=\"3725.5\" y=\"-409.8\" font-family=\"Times New Roman,serif\" font-size=\"14.00\">thought &lt;= 2.244</text>\r\n",
       "<text text-anchor=\"middle\" x=\"3725.5\" y=\"-394.8\" font-family=\"Times New Roman,serif\" font-size=\"14.00\">gini = 0.347</text>\r\n",
       "<text text-anchor=\"middle\" x=\"3725.5\" y=\"-379.8\" font-family=\"Times New Roman,serif\" font-size=\"14.00\">samples = 59048</text>\r\n",
       "<text text-anchor=\"middle\" x=\"3725.5\" y=\"-364.8\" font-family=\"Times New Roman,serif\" font-size=\"14.00\">value = [9495.232, 33035.782]</text>\r\n",
       "<text text-anchor=\"middle\" x=\"3725.5\" y=\"-349.8\" font-family=\"Times New Roman,serif\" font-size=\"14.00\">class = negative</text>\r\n",
       "</g>\r\n",
       "<!-- 32&#45;&gt;33 -->\r\n",
       "<g id=\"edge33\" class=\"edge\"><title>32&#45;&gt;33</title>\r\n",
       "<path fill=\"none\" stroke=\"black\" d=\"M3725.5,-460.907C3725.5,-452.649 3725.5,-443.864 3725.5,-435.302\"/>\r\n",
       "<polygon fill=\"black\" stroke=\"black\" points=\"3729,-435.021 3725.5,-425.021 3722,-435.021 3729,-435.021\"/>\r\n",
       "</g>\r\n",
       "<!-- 48 -->\r\n",
       "<g id=\"node49\" class=\"node\"><title>48</title>\r\n",
       "<polygon fill=\"#e58139\" fill-opacity=\"0.556863\" stroke=\"black\" points=\"4674,-425 4501,-425 4501,-342 4674,-342 4674,-425\"/>\r\n",
       "<text text-anchor=\"middle\" x=\"4587.5\" y=\"-409.8\" font-family=\"Times New Roman,serif\" font-size=\"14.00\">tri disappoint &lt;= 14.535</text>\r\n",
       "<text text-anchor=\"middle\" x=\"4587.5\" y=\"-394.8\" font-family=\"Times New Roman,serif\" font-size=\"14.00\">gini = 0.425</text>\r\n",
       "<text text-anchor=\"middle\" x=\"4587.5\" y=\"-379.8\" font-family=\"Times New Roman,serif\" font-size=\"14.00\">samples = 1414</text>\r\n",
       "<text text-anchor=\"middle\" x=\"4587.5\" y=\"-364.8\" font-family=\"Times New Roman,serif\" font-size=\"14.00\">value = [1344.013, 595.308]</text>\r\n",
       "<text text-anchor=\"middle\" x=\"4587.5\" y=\"-349.8\" font-family=\"Times New Roman,serif\" font-size=\"14.00\">class = positive</text>\r\n",
       "</g>\r\n",
       "<!-- 32&#45;&gt;48 -->\r\n",
       "<g id=\"edge48\" class=\"edge\"><title>32&#45;&gt;48</title>\r\n",
       "<path fill=\"none\" stroke=\"black\" d=\"M3822.29,-488.363C3988.15,-465.851 4324.8,-420.157 4490.68,-397.642\"/>\r\n",
       "<polygon fill=\"black\" stroke=\"black\" points=\"4491.43,-401.072 4500.87,-396.259 4490.49,-394.136 4491.43,-401.072\"/>\r\n",
       "</g>\r\n",
       "<!-- 34 -->\r\n",
       "<g id=\"node35\" class=\"node\"><title>34</title>\r\n",
       "<polygon fill=\"#399de5\" fill-opacity=\"0.749020\" stroke=\"black\" points=\"3633,-306 3454,-306 3454,-223 3633,-223 3633,-306\"/>\r\n",
       "<text text-anchor=\"middle\" x=\"3543.5\" y=\"-290.8\" font-family=\"Times New Roman,serif\" font-size=\"14.00\">bad &lt;= 2.129</text>\r\n",
       "<text text-anchor=\"middle\" x=\"3543.5\" y=\"-275.8\" font-family=\"Times New Roman,serif\" font-size=\"14.00\">gini = 0.321</text>\r\n",
       "<text text-anchor=\"middle\" x=\"3543.5\" y=\"-260.8\" font-family=\"Times New Roman,serif\" font-size=\"14.00\">samples = 56775</text>\r\n",
       "<text text-anchor=\"middle\" x=\"3543.5\" y=\"-245.8\" font-family=\"Times New Roman,serif\" font-size=\"14.00\">value = [8040.615, 31955.06]</text>\r\n",
       "<text text-anchor=\"middle\" x=\"3543.5\" y=\"-230.8\" font-family=\"Times New Roman,serif\" font-size=\"14.00\">class = negative</text>\r\n",
       "</g>\r\n",
       "<!-- 33&#45;&gt;34 -->\r\n",
       "<g id=\"edge34\" class=\"edge\"><title>33&#45;&gt;34</title>\r\n",
       "<path fill=\"none\" stroke=\"black\" d=\"M3662.36,-341.907C3647.11,-332.106 3630.71,-321.563 3615.11,-311.533\"/>\r\n",
       "<polygon fill=\"black\" stroke=\"black\" points=\"3616.84,-308.484 3606.53,-306.021 3613.05,-314.373 3616.84,-308.484\"/>\r\n",
       "</g>\r\n",
       "<!-- 41 -->\r\n",
       "<g id=\"node42\" class=\"node\"><title>41</title>\r\n",
       "<polygon fill=\"#e58139\" fill-opacity=\"0.258824\" stroke=\"black\" points=\"3999,-306 3820,-306 3820,-223 3999,-223 3999,-306\"/>\r\n",
       "<text text-anchor=\"middle\" x=\"3909.5\" y=\"-290.8\" font-family=\"Times New Roman,serif\" font-size=\"14.00\">would great &lt;= 9.914</text>\r\n",
       "<text text-anchor=\"middle\" x=\"3909.5\" y=\"-275.8\" font-family=\"Times New Roman,serif\" font-size=\"14.00\">gini = 0.489</text>\r\n",
       "<text text-anchor=\"middle\" x=\"3909.5\" y=\"-260.8\" font-family=\"Times New Roman,serif\" font-size=\"14.00\">samples = 2273</text>\r\n",
       "<text text-anchor=\"middle\" x=\"3909.5\" y=\"-245.8\" font-family=\"Times New Roman,serif\" font-size=\"14.00\">value = [1454.617, 1080.722]</text>\r\n",
       "<text text-anchor=\"middle\" x=\"3909.5\" y=\"-230.8\" font-family=\"Times New Roman,serif\" font-size=\"14.00\">class = positive</text>\r\n",
       "</g>\r\n",
       "<!-- 33&#45;&gt;41 -->\r\n",
       "<g id=\"edge41\" class=\"edge\"><title>33&#45;&gt;41</title>\r\n",
       "<path fill=\"none\" stroke=\"black\" d=\"M3789.34,-341.907C3804.75,-332.106 3821.33,-321.563 3837.11,-311.533\"/>\r\n",
       "<polygon fill=\"black\" stroke=\"black\" points=\"3839.21,-314.34 3845.77,-306.021 3835.46,-308.433 3839.21,-314.34\"/>\r\n",
       "</g>\r\n",
       "<!-- 35 -->\r\n",
       "<g id=\"node36\" class=\"node\"><title>35</title>\r\n",
       "<polygon fill=\"#399de5\" fill-opacity=\"0.772549\" stroke=\"black\" points=\"3358.5,-187 3172.5,-187 3172.5,-104 3358.5,-104 3358.5,-187\"/>\r\n",
       "<text text-anchor=\"middle\" x=\"3265.5\" y=\"-171.8\" font-family=\"Times New Roman,serif\" font-size=\"14.00\">review &lt;= 1.615</text>\r\n",
       "<text text-anchor=\"middle\" x=\"3265.5\" y=\"-156.8\" font-family=\"Times New Roman,serif\" font-size=\"14.00\">gini = 0.302</text>\r\n",
       "<text text-anchor=\"middle\" x=\"3265.5\" y=\"-141.8\" font-family=\"Times New Roman,serif\" font-size=\"14.00\">samples = 54957</text>\r\n",
       "<text text-anchor=\"middle\" x=\"3265.5\" y=\"-126.8\" font-family=\"Times New Roman,serif\" font-size=\"14.00\">value = [7061.932, 31058.278]</text>\r\n",
       "<text text-anchor=\"middle\" x=\"3265.5\" y=\"-111.8\" font-family=\"Times New Roman,serif\" font-size=\"14.00\">class = negative</text>\r\n",
       "</g>\r\n",
       "<!-- 34&#45;&gt;35 -->\r\n",
       "<g id=\"edge35\" class=\"edge\"><title>34&#45;&gt;35</title>\r\n",
       "<path fill=\"none\" stroke=\"black\" d=\"M3453.63,-225.675C3426.4,-214.218 3396.3,-201.547 3368.3,-189.763\"/>\r\n",
       "<polygon fill=\"black\" stroke=\"black\" points=\"3369.46,-186.457 3358.89,-185.804 3366.75,-192.909 3369.46,-186.457\"/>\r\n",
       "</g>\r\n",
       "<!-- 38 -->\r\n",
       "<g id=\"node39\" class=\"node\"><title>38</title>\r\n",
       "<polygon fill=\"#e58139\" fill-opacity=\"0.082353\" stroke=\"black\" points=\"3626.5,-187 3460.5,-187 3460.5,-104 3626.5,-104 3626.5,-187\"/>\r\n",
       "<text text-anchor=\"middle\" x=\"3543.5\" y=\"-171.8\" font-family=\"Times New Roman,serif\" font-size=\"14.00\">batch &lt;= 3.916</text>\r\n",
       "<text text-anchor=\"middle\" x=\"3543.5\" y=\"-156.8\" font-family=\"Times New Roman,serif\" font-size=\"14.00\">gini = 0.499</text>\r\n",
       "<text text-anchor=\"middle\" x=\"3543.5\" y=\"-141.8\" font-family=\"Times New Roman,serif\" font-size=\"14.00\">samples = 1818</text>\r\n",
       "<text text-anchor=\"middle\" x=\"3543.5\" y=\"-126.8\" font-family=\"Times New Roman,serif\" font-size=\"14.00\">value = [978.683, 896.782]</text>\r\n",
       "<text text-anchor=\"middle\" x=\"3543.5\" y=\"-111.8\" font-family=\"Times New Roman,serif\" font-size=\"14.00\">class = positive</text>\r\n",
       "</g>\r\n",
       "<!-- 34&#45;&gt;38 -->\r\n",
       "<g id=\"edge38\" class=\"edge\"><title>34&#45;&gt;38</title>\r\n",
       "<path fill=\"none\" stroke=\"black\" d=\"M3543.5,-222.907C3543.5,-214.649 3543.5,-205.864 3543.5,-197.302\"/>\r\n",
       "<polygon fill=\"black\" stroke=\"black\" points=\"3547,-197.021 3543.5,-187.021 3540,-197.021 3547,-197.021\"/>\r\n",
       "</g>\r\n",
       "<!-- 36 -->\r\n",
       "<g id=\"node37\" class=\"node\"><title>36</title>\r\n",
       "<polygon fill=\"#399de5\" fill-opacity=\"0.796078\" stroke=\"black\" points=\"3158,-68 2979,-68 2979,-0 3158,-0 3158,-68\"/>\r\n",
       "<text text-anchor=\"middle\" x=\"3068.5\" y=\"-52.8\" font-family=\"Times New Roman,serif\" font-size=\"14.00\">gini = 0.281</text>\r\n",
       "<text text-anchor=\"middle\" x=\"3068.5\" y=\"-37.8\" font-family=\"Times New Roman,serif\" font-size=\"14.00\">samples = 52235</text>\r\n",
       "<text text-anchor=\"middle\" x=\"3068.5\" y=\"-22.8\" font-family=\"Times New Roman,serif\" font-size=\"14.00\">value = [6022.92, 29640.822]</text>\r\n",
       "<text text-anchor=\"middle\" x=\"3068.5\" y=\"-7.8\" font-family=\"Times New Roman,serif\" font-size=\"14.00\">class = negative</text>\r\n",
       "</g>\r\n",
       "<!-- 35&#45;&gt;36 -->\r\n",
       "<g id=\"edge36\" class=\"edge\"><title>35&#45;&gt;36</title>\r\n",
       "<path fill=\"none\" stroke=\"black\" d=\"M3192.42,-103.882C3174.33,-93.8269 3155.02,-83.0892 3137.15,-73.1563\"/>\r\n",
       "<polygon fill=\"black\" stroke=\"black\" points=\"3138.39,-69.8425 3127.95,-68.0433 3134.99,-75.9609 3138.39,-69.8425\"/>\r\n",
       "</g>\r\n",
       "<!-- 37 -->\r\n",
       "<g id=\"node38\" class=\"node\"><title>37</title>\r\n",
       "<polygon fill=\"#399de5\" fill-opacity=\"0.266667\" stroke=\"black\" points=\"3355,-68 3176,-68 3176,-0 3355,-0 3355,-68\"/>\r\n",
       "<text text-anchor=\"middle\" x=\"3265.5\" y=\"-52.8\" font-family=\"Times New Roman,serif\" font-size=\"14.00\">gini = 0.488</text>\r\n",
       "<text text-anchor=\"middle\" x=\"3265.5\" y=\"-37.8\" font-family=\"Times New Roman,serif\" font-size=\"14.00\">samples = 2722</text>\r\n",
       "<text text-anchor=\"middle\" x=\"3265.5\" y=\"-22.8\" font-family=\"Times New Roman,serif\" font-size=\"14.00\">value = [1039.012, 1417.456]</text>\r\n",
       "<text text-anchor=\"middle\" x=\"3265.5\" y=\"-7.8\" font-family=\"Times New Roman,serif\" font-size=\"14.00\">class = negative</text>\r\n",
       "</g>\r\n",
       "<!-- 35&#45;&gt;37 -->\r\n",
       "<g id=\"edge37\" class=\"edge\"><title>35&#45;&gt;37</title>\r\n",
       "<path fill=\"none\" stroke=\"black\" d=\"M3265.5,-103.726C3265.5,-95.5175 3265.5,-86.8595 3265.5,-78.56\"/>\r\n",
       "<polygon fill=\"black\" stroke=\"black\" points=\"3269,-78.2996 3265.5,-68.2996 3262,-78.2996 3269,-78.2996\"/>\r\n",
       "</g>\r\n",
       "<!-- 39 -->\r\n",
       "<g id=\"node40\" class=\"node\"><title>39</title>\r\n",
       "<polygon fill=\"#399de5\" fill-opacity=\"0.007843\" stroke=\"black\" points=\"3539.5,-68 3373.5,-68 3373.5,-0 3539.5,-0 3539.5,-68\"/>\r\n",
       "<text text-anchor=\"middle\" x=\"3456.5\" y=\"-52.8\" font-family=\"Times New Roman,serif\" font-size=\"14.00\">gini = 0.5</text>\r\n",
       "<text text-anchor=\"middle\" x=\"3456.5\" y=\"-37.8\" font-family=\"Times New Roman,serif\" font-size=\"14.00\">samples = 1748</text>\r\n",
       "<text text-anchor=\"middle\" x=\"3456.5\" y=\"-22.8\" font-family=\"Times New Roman,serif\" font-size=\"14.00\">value = [868.078, 875.038]</text>\r\n",
       "<text text-anchor=\"middle\" x=\"3456.5\" y=\"-7.8\" font-family=\"Times New Roman,serif\" font-size=\"14.00\">class = negative</text>\r\n",
       "</g>\r\n",
       "<!-- 38&#45;&gt;39 -->\r\n",
       "<g id=\"edge39\" class=\"edge\"><title>38&#45;&gt;39</title>\r\n",
       "<path fill=\"none\" stroke=\"black\" d=\"M3511.1,-103.726C3504,-94.7878 3496.48,-85.3168 3489.36,-76.3558\"/>\r\n",
       "<polygon fill=\"black\" stroke=\"black\" points=\"3491.92,-73.9519 3482.96,-68.2996 3486.44,-78.3065 3491.92,-73.9519\"/>\r\n",
       "</g>\r\n",
       "<!-- 40 -->\r\n",
       "<g id=\"node41\" class=\"node\"><title>40</title>\r\n",
       "<polygon fill=\"#e58139\" fill-opacity=\"0.803922\" stroke=\"black\" points=\"3717,-68 3558,-68 3558,-0 3717,-0 3717,-68\"/>\r\n",
       "<text text-anchor=\"middle\" x=\"3637.5\" y=\"-52.8\" font-family=\"Times New Roman,serif\" font-size=\"14.00\">gini = 0.275</text>\r\n",
       "<text text-anchor=\"middle\" x=\"3637.5\" y=\"-37.8\" font-family=\"Times New Roman,serif\" font-size=\"14.00\">samples = 70</text>\r\n",
       "<text text-anchor=\"middle\" x=\"3637.5\" y=\"-22.8\" font-family=\"Times New Roman,serif\" font-size=\"14.00\">value = [110.605, 21.744]</text>\r\n",
       "<text text-anchor=\"middle\" x=\"3637.5\" y=\"-7.8\" font-family=\"Times New Roman,serif\" font-size=\"14.00\">class = positive</text>\r\n",
       "</g>\r\n",
       "<!-- 38&#45;&gt;40 -->\r\n",
       "<g id=\"edge40\" class=\"edge\"><title>38&#45;&gt;40</title>\r\n",
       "<path fill=\"none\" stroke=\"black\" d=\"M3578.5,-103.726C3586.25,-94.6966 3594.47,-85.1235 3602.23,-76.0816\"/>\r\n",
       "<polygon fill=\"black\" stroke=\"black\" points=\"3605.06,-78.1671 3608.91,-68.2996 3599.74,-73.6075 3605.06,-78.1671\"/>\r\n",
       "</g>\r\n",
       "<!-- 42 -->\r\n",
       "<g id=\"node43\" class=\"node\"><title>42</title>\r\n",
       "<polygon fill=\"#e58139\" fill-opacity=\"0.133333\" stroke=\"black\" points=\"3999,-187 3820,-187 3820,-104 3999,-104 3999,-187\"/>\r\n",
       "<text text-anchor=\"middle\" x=\"3909.5\" y=\"-171.8\" font-family=\"Times New Roman,serif\" font-size=\"14.00\">return &lt;= 3.706</text>\r\n",
       "<text text-anchor=\"middle\" x=\"3909.5\" y=\"-156.8\" font-family=\"Times New Roman,serif\" font-size=\"14.00\">gini = 0.497</text>\r\n",
       "<text text-anchor=\"middle\" x=\"3909.5\" y=\"-141.8\" font-family=\"Times New Roman,serif\" font-size=\"14.00\">samples = 2143</text>\r\n",
       "<text text-anchor=\"middle\" x=\"3909.5\" y=\"-126.8\" font-family=\"Times New Roman,serif\" font-size=\"14.00\">value = [1209.947, 1047.225]</text>\r\n",
       "<text text-anchor=\"middle\" x=\"3909.5\" y=\"-111.8\" font-family=\"Times New Roman,serif\" font-size=\"14.00\">class = positive</text>\r\n",
       "</g>\r\n",
       "<!-- 41&#45;&gt;42 -->\r\n",
       "<g id=\"edge42\" class=\"edge\"><title>41&#45;&gt;42</title>\r\n",
       "<path fill=\"none\" stroke=\"black\" d=\"M3909.5,-222.907C3909.5,-214.649 3909.5,-205.864 3909.5,-197.302\"/>\r\n",
       "<polygon fill=\"black\" stroke=\"black\" points=\"3913,-197.021 3909.5,-187.021 3906,-197.021 3913,-197.021\"/>\r\n",
       "</g>\r\n",
       "<!-- 45 -->\r\n",
       "<g id=\"node46\" class=\"node\"><title>45</title>\r\n",
       "<polygon fill=\"#e58139\" fill-opacity=\"0.862745\" stroke=\"black\" points=\"4262,-187 4103,-187 4103,-104 4262,-104 4262,-187\"/>\r\n",
       "<text text-anchor=\"middle\" x=\"4182.5\" y=\"-171.8\" font-family=\"Times New Roman,serif\" font-size=\"14.00\">good &lt;= 2.369</text>\r\n",
       "<text text-anchor=\"middle\" x=\"4182.5\" y=\"-156.8\" font-family=\"Times New Roman,serif\" font-size=\"14.00\">gini = 0.212</text>\r\n",
       "<text text-anchor=\"middle\" x=\"4182.5\" y=\"-141.8\" font-family=\"Times New Roman,serif\" font-size=\"14.00\">samples = 130</text>\r\n",
       "<text text-anchor=\"middle\" x=\"4182.5\" y=\"-126.8\" font-family=\"Times New Roman,serif\" font-size=\"14.00\">value = [244.671, 33.497]</text>\r\n",
       "<text text-anchor=\"middle\" x=\"4182.5\" y=\"-111.8\" font-family=\"Times New Roman,serif\" font-size=\"14.00\">class = positive</text>\r\n",
       "</g>\r\n",
       "<!-- 41&#45;&gt;45 -->\r\n",
       "<g id=\"edge45\" class=\"edge\"><title>41&#45;&gt;45</title>\r\n",
       "<path fill=\"none\" stroke=\"black\" d=\"M3999.27,-225.028C4029.55,-212.05 4063.32,-197.578 4093.54,-184.627\"/>\r\n",
       "<polygon fill=\"black\" stroke=\"black\" points=\"4094.98,-187.817 4102.79,-180.66 4092.22,-181.383 4094.98,-187.817\"/>\r\n",
       "</g>\r\n",
       "<!-- 43 -->\r\n",
       "<g id=\"node44\" class=\"node\"><title>43</title>\r\n",
       "<polygon fill=\"#e58139\" fill-opacity=\"0.070588\" stroke=\"black\" points=\"3914,-68 3735,-68 3735,-0 3914,-0 3914,-68\"/>\r\n",
       "<text text-anchor=\"middle\" x=\"3824.5\" y=\"-52.8\" font-family=\"Times New Roman,serif\" font-size=\"14.00\">gini = 0.499</text>\r\n",
       "<text text-anchor=\"middle\" x=\"3824.5\" y=\"-37.8\" font-family=\"Times New Roman,serif\" font-size=\"14.00\">samples = 2090</text>\r\n",
       "<text text-anchor=\"middle\" x=\"3824.5\" y=\"-22.8\" font-family=\"Times New Roman,serif\" font-size=\"14.00\">value = [1112.749, 1033.121]</text>\r\n",
       "<text text-anchor=\"middle\" x=\"3824.5\" y=\"-7.8\" font-family=\"Times New Roman,serif\" font-size=\"14.00\">class = positive</text>\r\n",
       "</g>\r\n",
       "<!-- 42&#45;&gt;43 -->\r\n",
       "<g id=\"edge43\" class=\"edge\"><title>42&#45;&gt;43</title>\r\n",
       "<path fill=\"none\" stroke=\"black\" d=\"M3877.85,-103.726C3870.91,-94.7878 3863.56,-85.3168 3856.6,-76.3558\"/>\r\n",
       "<polygon fill=\"black\" stroke=\"black\" points=\"3859.25,-74.0528 3850.35,-68.2996 3853.72,-78.3451 3859.25,-74.0528\"/>\r\n",
       "</g>\r\n",
       "<!-- 44 -->\r\n",
       "<g id=\"node45\" class=\"node\"><title>44</title>\r\n",
       "<polygon fill=\"#e58139\" fill-opacity=\"0.854902\" stroke=\"black\" points=\"4084.5,-68 3932.5,-68 3932.5,-0 4084.5,-0 4084.5,-68\"/>\r\n",
       "<text text-anchor=\"middle\" x=\"4008.5\" y=\"-52.8\" font-family=\"Times New Roman,serif\" font-size=\"14.00\">gini = 0.221</text>\r\n",
       "<text text-anchor=\"middle\" x=\"4008.5\" y=\"-37.8\" font-family=\"Times New Roman,serif\" font-size=\"14.00\">samples = 53</text>\r\n",
       "<text text-anchor=\"middle\" x=\"4008.5\" y=\"-22.8\" font-family=\"Times New Roman,serif\" font-size=\"14.00\">value = [97.198, 14.104]</text>\r\n",
       "<text text-anchor=\"middle\" x=\"4008.5\" y=\"-7.8\" font-family=\"Times New Roman,serif\" font-size=\"14.00\">class = positive</text>\r\n",
       "</g>\r\n",
       "<!-- 42&#45;&gt;44 -->\r\n",
       "<g id=\"edge44\" class=\"edge\"><title>42&#45;&gt;44</title>\r\n",
       "<path fill=\"none\" stroke=\"black\" d=\"M3946.36,-103.726C3954.61,-94.6054 3963.36,-84.93 3971.61,-75.8078\"/>\r\n",
       "<polygon fill=\"black\" stroke=\"black\" points=\"3974.28,-78.0647 3978.39,-68.2996 3969.09,-73.3701 3974.28,-78.0647\"/>\r\n",
       "</g>\r\n",
       "<!-- 46 -->\r\n",
       "<g id=\"node47\" class=\"node\"><title>46</title>\r\n",
       "<polygon fill=\"#e58139\" fill-opacity=\"0.898039\" stroke=\"black\" points=\"4262,-68 4103,-68 4103,-0 4262,-0 4262,-68\"/>\r\n",
       "<text text-anchor=\"middle\" x=\"4182.5\" y=\"-52.8\" font-family=\"Times New Roman,serif\" font-size=\"14.00\">gini = 0.166</text>\r\n",
       "<text text-anchor=\"middle\" x=\"4182.5\" y=\"-37.8\" font-family=\"Times New Roman,serif\" font-size=\"14.00\">samples = 115</text>\r\n",
       "<text text-anchor=\"middle\" x=\"4182.5\" y=\"-22.8\" font-family=\"Times New Roman,serif\" font-size=\"14.00\">value = [244.671, 24.682]</text>\r\n",
       "<text text-anchor=\"middle\" x=\"4182.5\" y=\"-7.8\" font-family=\"Times New Roman,serif\" font-size=\"14.00\">class = positive</text>\r\n",
       "</g>\r\n",
       "<!-- 45&#45;&gt;46 -->\r\n",
       "<g id=\"edge46\" class=\"edge\"><title>45&#45;&gt;46</title>\r\n",
       "<path fill=\"none\" stroke=\"black\" d=\"M4182.5,-103.726C4182.5,-95.5175 4182.5,-86.8595 4182.5,-78.56\"/>\r\n",
       "<polygon fill=\"black\" stroke=\"black\" points=\"4186,-78.2996 4182.5,-68.2996 4179,-78.2996 4186,-78.2996\"/>\r\n",
       "</g>\r\n",
       "<!-- 47 -->\r\n",
       "<g id=\"node48\" class=\"node\"><title>47</title>\r\n",
       "<polygon fill=\"#399de5\" stroke=\"black\" points=\"4405,-68 4280,-68 4280,-0 4405,-0 4405,-68\"/>\r\n",
       "<text text-anchor=\"middle\" x=\"4342.5\" y=\"-52.8\" font-family=\"Times New Roman,serif\" font-size=\"14.00\">gini = &#45;0.0</text>\r\n",
       "<text text-anchor=\"middle\" x=\"4342.5\" y=\"-37.8\" font-family=\"Times New Roman,serif\" font-size=\"14.00\">samples = 15</text>\r\n",
       "<text text-anchor=\"middle\" x=\"4342.5\" y=\"-22.8\" font-family=\"Times New Roman,serif\" font-size=\"14.00\">value = [0.0, 8.815]</text>\r\n",
       "<text text-anchor=\"middle\" x=\"4342.5\" y=\"-7.8\" font-family=\"Times New Roman,serif\" font-size=\"14.00\">class = negative</text>\r\n",
       "</g>\r\n",
       "<!-- 45&#45;&gt;47 -->\r\n",
       "<g id=\"edge47\" class=\"edge\"><title>45&#45;&gt;47</title>\r\n",
       "<path fill=\"none\" stroke=\"black\" d=\"M4242.08,-103.726C4256.28,-94.0078 4271.4,-83.6597 4285.48,-74.0222\"/>\r\n",
       "<polygon fill=\"black\" stroke=\"black\" points=\"4287.82,-76.6614 4294.1,-68.1252 4283.87,-70.8846 4287.82,-76.6614\"/>\r\n",
       "</g>\r\n",
       "<!-- 49 -->\r\n",
       "<g id=\"node50\" class=\"node\"><title>49</title>\r\n",
       "<polygon fill=\"#e58139\" fill-opacity=\"0.584314\" stroke=\"black\" points=\"4674,-306 4501,-306 4501,-223 4674,-223 4674,-306\"/>\r\n",
       "<text text-anchor=\"middle\" x=\"4587.5\" y=\"-290.8\" font-family=\"Times New Roman,serif\" font-size=\"14.00\">never disappoint &lt;= 16.202</text>\r\n",
       "<text text-anchor=\"middle\" x=\"4587.5\" y=\"-275.8\" font-family=\"Times New Roman,serif\" font-size=\"14.00\">gini = 0.414</text>\r\n",
       "<text text-anchor=\"middle\" x=\"4587.5\" y=\"-260.8\" font-family=\"Times New Roman,serif\" font-size=\"14.00\">samples = 1348</text>\r\n",
       "<text text-anchor=\"middle\" x=\"4587.5\" y=\"-245.8\" font-family=\"Times New Roman,serif\" font-size=\"14.00\">value = [1344.013, 556.522]</text>\r\n",
       "<text text-anchor=\"middle\" x=\"4587.5\" y=\"-230.8\" font-family=\"Times New Roman,serif\" font-size=\"14.00\">class = positive</text>\r\n",
       "</g>\r\n",
       "<!-- 48&#45;&gt;49 -->\r\n",
       "<g id=\"edge49\" class=\"edge\"><title>48&#45;&gt;49</title>\r\n",
       "<path fill=\"none\" stroke=\"black\" d=\"M4587.5,-341.907C4587.5,-333.649 4587.5,-324.864 4587.5,-316.302\"/>\r\n",
       "<polygon fill=\"black\" stroke=\"black\" points=\"4591,-316.021 4587.5,-306.021 4584,-316.021 4591,-316.021\"/>\r\n",
       "</g>\r\n",
       "<!-- 56 -->\r\n",
       "<g id=\"node57\" class=\"node\"><title>56</title>\r\n",
       "<polygon fill=\"#399de5\" stroke=\"black\" points=\"4824.5,-298.5 4692.5,-298.5 4692.5,-230.5 4824.5,-230.5 4824.5,-298.5\"/>\r\n",
       "<text text-anchor=\"middle\" x=\"4758.5\" y=\"-283.3\" font-family=\"Times New Roman,serif\" font-size=\"14.00\">gini = &#45;0.0</text>\r\n",
       "<text text-anchor=\"middle\" x=\"4758.5\" y=\"-268.3\" font-family=\"Times New Roman,serif\" font-size=\"14.00\">samples = 66</text>\r\n",
       "<text text-anchor=\"middle\" x=\"4758.5\" y=\"-253.3\" font-family=\"Times New Roman,serif\" font-size=\"14.00\">value = [0.0, 38.786]</text>\r\n",
       "<text text-anchor=\"middle\" x=\"4758.5\" y=\"-238.3\" font-family=\"Times New Roman,serif\" font-size=\"14.00\">class = negative</text>\r\n",
       "</g>\r\n",
       "<!-- 48&#45;&gt;56 -->\r\n",
       "<g id=\"edge56\" class=\"edge\"><title>48&#45;&gt;56</title>\r\n",
       "<path fill=\"none\" stroke=\"black\" d=\"M4646.83,-341.907C4664.57,-329.769 4683.97,-316.493 4701.55,-304.462\"/>\r\n",
       "<polygon fill=\"black\" stroke=\"black\" points=\"4703.75,-307.202 4710.03,-298.667 4699.8,-301.425 4703.75,-307.202\"/>\r\n",
       "</g>\r\n",
       "<!-- 50 -->\r\n",
       "<g id=\"node51\" class=\"node\"><title>50</title>\r\n",
       "<polygon fill=\"#e58139\" fill-opacity=\"0.607843\" stroke=\"black\" points=\"4674,-187 4501,-187 4501,-104 4674,-104 4674,-187\"/>\r\n",
       "<text text-anchor=\"middle\" x=\"4587.5\" y=\"-171.8\" font-family=\"Times New Roman,serif\" font-size=\"14.00\">high recommend &lt;= 2.632</text>\r\n",
       "<text text-anchor=\"middle\" x=\"4587.5\" y=\"-156.8\" font-family=\"Times New Roman,serif\" font-size=\"14.00\">gini = 0.405</text>\r\n",
       "<text text-anchor=\"middle\" x=\"4587.5\" y=\"-141.8\" font-family=\"Times New Roman,serif\" font-size=\"14.00\">samples = 1296</text>\r\n",
       "<text text-anchor=\"middle\" x=\"4587.5\" y=\"-126.8\" font-family=\"Times New Roman,serif\" font-size=\"14.00\">value = [1340.661, 526.551]</text>\r\n",
       "<text text-anchor=\"middle\" x=\"4587.5\" y=\"-111.8\" font-family=\"Times New Roman,serif\" font-size=\"14.00\">class = positive</text>\r\n",
       "</g>\r\n",
       "<!-- 49&#45;&gt;50 -->\r\n",
       "<g id=\"edge50\" class=\"edge\"><title>49&#45;&gt;50</title>\r\n",
       "<path fill=\"none\" stroke=\"black\" d=\"M4587.5,-222.907C4587.5,-214.649 4587.5,-205.864 4587.5,-197.302\"/>\r\n",
       "<polygon fill=\"black\" stroke=\"black\" points=\"4591,-197.021 4587.5,-187.021 4584,-197.021 4591,-197.021\"/>\r\n",
       "</g>\r\n",
       "<!-- 53 -->\r\n",
       "<g id=\"node54\" class=\"node\"><title>53</title>\r\n",
       "<polygon fill=\"#399de5\" fill-opacity=\"0.886275\" stroke=\"black\" points=\"4917.5,-187 4771.5,-187 4771.5,-104 4917.5,-104 4917.5,-187\"/>\r\n",
       "<text text-anchor=\"middle\" x=\"4844.5\" y=\"-171.8\" font-family=\"Times New Roman,serif\" font-size=\"14.00\">mouth great &lt;= 43.948</text>\r\n",
       "<text text-anchor=\"middle\" x=\"4844.5\" y=\"-156.8\" font-family=\"Times New Roman,serif\" font-size=\"14.00\">gini = 0.181</text>\r\n",
       "<text text-anchor=\"middle\" x=\"4844.5\" y=\"-141.8\" font-family=\"Times New Roman,serif\" font-size=\"14.00\">samples = 52</text>\r\n",
       "<text text-anchor=\"middle\" x=\"4844.5\" y=\"-126.8\" font-family=\"Times New Roman,serif\" font-size=\"14.00\">value = [3.352, 29.971]</text>\r\n",
       "<text text-anchor=\"middle\" x=\"4844.5\" y=\"-111.8\" font-family=\"Times New Roman,serif\" font-size=\"14.00\">class = negative</text>\r\n",
       "</g>\r\n",
       "<!-- 49&#45;&gt;53 -->\r\n",
       "<g id=\"edge53\" class=\"edge\"><title>49&#45;&gt;53</title>\r\n",
       "<path fill=\"none\" stroke=\"black\" d=\"M4674.15,-224.052C4702.43,-211.178 4733.74,-196.922 4761.73,-184.181\"/>\r\n",
       "<polygon fill=\"black\" stroke=\"black\" points=\"4763.43,-187.251 4771.09,-179.922 4760.53,-180.88 4763.43,-187.251\"/>\r\n",
       "</g>\r\n",
       "<!-- 51 -->\r\n",
       "<g id=\"node52\" class=\"node\"><title>51</title>\r\n",
       "<polygon fill=\"#e58139\" fill-opacity=\"0.627451\" stroke=\"black\" points=\"4596,-68 4423,-68 4423,-0 4596,-0 4596,-68\"/>\r\n",
       "<text text-anchor=\"middle\" x=\"4509.5\" y=\"-52.8\" font-family=\"Times New Roman,serif\" font-size=\"14.00\">gini = 0.396</text>\r\n",
       "<text text-anchor=\"middle\" x=\"4509.5\" y=\"-37.8\" font-family=\"Times New Roman,serif\" font-size=\"14.00\">samples = 1250</text>\r\n",
       "<text text-anchor=\"middle\" x=\"4509.5\" y=\"-22.8\" font-family=\"Times New Roman,serif\" font-size=\"14.00\">value = [1337.309, 500.106]</text>\r\n",
       "<text text-anchor=\"middle\" x=\"4509.5\" y=\"-7.8\" font-family=\"Times New Roman,serif\" font-size=\"14.00\">class = positive</text>\r\n",
       "</g>\r\n",
       "<!-- 50&#45;&gt;51 -->\r\n",
       "<g id=\"edge51\" class=\"edge\"><title>50&#45;&gt;51</title>\r\n",
       "<path fill=\"none\" stroke=\"black\" d=\"M4558.46,-103.726C4552.15,-94.879 4545.48,-85.51 4539.15,-76.6303\"/>\r\n",
       "<polygon fill=\"black\" stroke=\"black\" points=\"4541.87,-74.4138 4533.22,-68.2996 4536.17,-78.4751 4541.87,-74.4138\"/>\r\n",
       "</g>\r\n",
       "<!-- 52 -->\r\n",
       "<g id=\"node53\" class=\"node\"><title>52</title>\r\n",
       "<polygon fill=\"#399de5\" fill-opacity=\"0.874510\" stroke=\"black\" points=\"4760.5,-68 4614.5,-68 4614.5,-0 4760.5,-0 4760.5,-68\"/>\r\n",
       "<text text-anchor=\"middle\" x=\"4687.5\" y=\"-52.8\" font-family=\"Times New Roman,serif\" font-size=\"14.00\">gini = 0.2</text>\r\n",
       "<text text-anchor=\"middle\" x=\"4687.5\" y=\"-37.8\" font-family=\"Times New Roman,serif\" font-size=\"14.00\">samples = 46</text>\r\n",
       "<text text-anchor=\"middle\" x=\"4687.5\" y=\"-22.8\" font-family=\"Times New Roman,serif\" font-size=\"14.00\">value = [3.352, 26.445]</text>\r\n",
       "<text text-anchor=\"middle\" x=\"4687.5\" y=\"-7.8\" font-family=\"Times New Roman,serif\" font-size=\"14.00\">class = negative</text>\r\n",
       "</g>\r\n",
       "<!-- 50&#45;&gt;52 -->\r\n",
       "<g id=\"edge52\" class=\"edge\"><title>50&#45;&gt;52</title>\r\n",
       "<path fill=\"none\" stroke=\"black\" d=\"M4624.74,-103.726C4633.07,-94.6054 4641.9,-84.93 4650.23,-75.8078\"/>\r\n",
       "<polygon fill=\"black\" stroke=\"black\" points=\"4652.93,-78.044 4657.09,-68.2996 4647.76,-73.3235 4652.93,-78.044\"/>\r\n",
       "</g>\r\n",
       "<!-- 54 -->\r\n",
       "<g id=\"node55\" class=\"node\"><title>54</title>\r\n",
       "<polygon fill=\"#399de5\" stroke=\"black\" points=\"4910.5,-68 4778.5,-68 4778.5,-0 4910.5,-0 4910.5,-68\"/>\r\n",
       "<text text-anchor=\"middle\" x=\"4844.5\" y=\"-52.8\" font-family=\"Times New Roman,serif\" font-size=\"14.00\">gini = 0.0</text>\r\n",
       "<text text-anchor=\"middle\" x=\"4844.5\" y=\"-37.8\" font-family=\"Times New Roman,serif\" font-size=\"14.00\">samples = 51</text>\r\n",
       "<text text-anchor=\"middle\" x=\"4844.5\" y=\"-22.8\" font-family=\"Times New Roman,serif\" font-size=\"14.00\">value = [0.0, 29.971]</text>\r\n",
       "<text text-anchor=\"middle\" x=\"4844.5\" y=\"-7.8\" font-family=\"Times New Roman,serif\" font-size=\"14.00\">class = negative</text>\r\n",
       "</g>\r\n",
       "<!-- 53&#45;&gt;54 -->\r\n",
       "<g id=\"edge54\" class=\"edge\"><title>53&#45;&gt;54</title>\r\n",
       "<path fill=\"none\" stroke=\"black\" d=\"M4844.5,-103.726C4844.5,-95.5175 4844.5,-86.8595 4844.5,-78.56\"/>\r\n",
       "<polygon fill=\"black\" stroke=\"black\" points=\"4848,-78.2996 4844.5,-68.2996 4841,-78.2996 4848,-78.2996\"/>\r\n",
       "</g>\r\n",
       "<!-- 55 -->\r\n",
       "<g id=\"node56\" class=\"node\"><title>55</title>\r\n",
       "<polygon fill=\"#e58139\" stroke=\"black\" points=\"5054,-68 4929,-68 4929,-0 5054,-0 5054,-68\"/>\r\n",
       "<text text-anchor=\"middle\" x=\"4991.5\" y=\"-52.8\" font-family=\"Times New Roman,serif\" font-size=\"14.00\">gini = &#45;0.0</text>\r\n",
       "<text text-anchor=\"middle\" x=\"4991.5\" y=\"-37.8\" font-family=\"Times New Roman,serif\" font-size=\"14.00\">samples = 1</text>\r\n",
       "<text text-anchor=\"middle\" x=\"4991.5\" y=\"-22.8\" font-family=\"Times New Roman,serif\" font-size=\"14.00\">value = [3.352, 0.0]</text>\r\n",
       "<text text-anchor=\"middle\" x=\"4991.5\" y=\"-7.8\" font-family=\"Times New Roman,serif\" font-size=\"14.00\">class = positive</text>\r\n",
       "</g>\r\n",
       "<!-- 53&#45;&gt;55 -->\r\n",
       "<g id=\"edge55\" class=\"edge\"><title>53&#45;&gt;55</title>\r\n",
       "<path fill=\"none\" stroke=\"black\" d=\"M4899.24,-103.726C4912.09,-94.1494 4925.77,-83.9611 4938.55,-74.4438\"/>\r\n",
       "<polygon fill=\"black\" stroke=\"black\" points=\"4940.87,-77.0803 4946.8,-68.2996 4936.69,-71.4666 4940.87,-77.0803\"/>\r\n",
       "</g>\r\n",
       "</g>\r\n",
       "</svg>\r\n"
      ],
      "text/plain": [
       "<graphviz.files.Source at 0x1f9d39d4d30>"
      ]
     },
     "execution_count": 18,
     "metadata": {},
     "output_type": "execute_result"
    }
   ],
   "source": [
    "tmp"
   ]
  },
  {
   "cell_type": "raw",
   "metadata": {},
   "source": [
    "********************************************************************************************************************************"
   ]
  },
  {
   "cell_type": "markdown",
   "metadata": {},
   "source": [
    "# Performace comparision between different vectorizations::"
   ]
  },
  {
   "cell_type": "code",
   "execution_count": 45,
   "metadata": {},
   "outputs": [],
   "source": [
    "tmp=pd.DataFrame(columns=['Type of Vectorization','No. of Dimensions','Optimal_depth','Accuracy','F1 Score'])\n",
    "tmp.loc[0]=['BOW_Unigram',55207,100,81.88,0.8871]\n",
    "tmp.loc[1]=['BOW_bigram',2184164,100,82.16,0.8885]\n",
    "tmp.loc[2]=['Tf-IDF',55207,100,81.46,0.8845]\n",
    "tmp.loc[3]=['Avg_W2v',200,100,77.35,0.8643]\n",
    "tmp.loc[4]=['Tf-IDF_W2v',200,100,74.69,0.8412]"
   ]
  },
  {
   "cell_type": "code",
   "execution_count": 46,
   "metadata": {},
   "outputs": [
    {
     "data": {
      "text/html": [
       "<div>\n",
       "<style scoped>\n",
       "    .dataframe tbody tr th:only-of-type {\n",
       "        vertical-align: middle;\n",
       "    }\n",
       "\n",
       "    .dataframe tbody tr th {\n",
       "        vertical-align: top;\n",
       "    }\n",
       "\n",
       "    .dataframe thead th {\n",
       "        text-align: right;\n",
       "    }\n",
       "</style>\n",
       "<table border=\"1\" class=\"dataframe\">\n",
       "  <thead>\n",
       "    <tr style=\"text-align: right;\">\n",
       "      <th></th>\n",
       "      <th>Type of Vectorization</th>\n",
       "      <th>No. of Dimensions</th>\n",
       "      <th>Optimal_depth</th>\n",
       "      <th>Accuracy</th>\n",
       "      <th>F1 Score</th>\n",
       "    </tr>\n",
       "  </thead>\n",
       "  <tbody>\n",
       "    <tr>\n",
       "      <th>0</th>\n",
       "      <td>BOW_Unigram</td>\n",
       "      <td>55207</td>\n",
       "      <td>100</td>\n",
       "      <td>81.88</td>\n",
       "      <td>0.8871</td>\n",
       "    </tr>\n",
       "    <tr>\n",
       "      <th>1</th>\n",
       "      <td>BOW_bigram</td>\n",
       "      <td>2184164</td>\n",
       "      <td>100</td>\n",
       "      <td>82.16</td>\n",
       "      <td>0.8885</td>\n",
       "    </tr>\n",
       "    <tr>\n",
       "      <th>2</th>\n",
       "      <td>Tf-IDF</td>\n",
       "      <td>55207</td>\n",
       "      <td>100</td>\n",
       "      <td>81.46</td>\n",
       "      <td>0.8845</td>\n",
       "    </tr>\n",
       "    <tr>\n",
       "      <th>3</th>\n",
       "      <td>Avg_W2v</td>\n",
       "      <td>200</td>\n",
       "      <td>100</td>\n",
       "      <td>77.35</td>\n",
       "      <td>0.8643</td>\n",
       "    </tr>\n",
       "    <tr>\n",
       "      <th>4</th>\n",
       "      <td>Tf-IDF_W2v</td>\n",
       "      <td>200</td>\n",
       "      <td>100</td>\n",
       "      <td>74.69</td>\n",
       "      <td>0.8412</td>\n",
       "    </tr>\n",
       "  </tbody>\n",
       "</table>\n",
       "</div>"
      ],
      "text/plain": [
       "  Type of Vectorization No. of Dimensions Optimal_depth  Accuracy  F1 Score\n",
       "0           BOW_Unigram             55207           100     81.88    0.8871\n",
       "1            BOW_bigram           2184164           100     82.16    0.8885\n",
       "2                Tf-IDF             55207           100     81.46    0.8845\n",
       "3               Avg_W2v               200           100     77.35    0.8643\n",
       "4            Tf-IDF_W2v               200           100     74.69    0.8412"
      ]
     },
     "execution_count": 46,
     "metadata": {},
     "output_type": "execute_result"
    }
   ],
   "source": [
    "tmp"
   ]
  },
  {
   "cell_type": "raw",
   "metadata": {},
   "source": [
    "********************************************************************************************************************************"
   ]
  },
  {
   "cell_type": "markdown",
   "metadata": {},
   "source": [
    "# Conclusion from above exercise:"
   ]
  },
  {
   "cell_type": "markdown",
   "metadata": {},
   "source": [
    "1.) The accuracy & F1 Score is high in BOW_bigram, secondly followed by BOW_unigram.\n",
    "\n",
    "2.) The optimal depth obtained for all types of Vectorization is around 100.\n",
    "\n",
    "3.) The overall performance of DT is not that good with the given data as it is very high dimensional.\n",
    "\n",
    "\n",
    "*****************************************************************************************************************************\n",
    "\n",
    "#### From above exercise I suggest that \"BOW_Bigram \" can be used with depth as 100 as it is highest on F1 score comparision with others. But each data point will be represented in very high dimension i.e close to 5 times more than BOW & Tf-IDF.\n"
   ]
  },
  {
   "cell_type": "raw",
   "metadata": {},
   "source": [
    "********************************************************************************************************************************"
   ]
  }
 ],
 "metadata": {
  "kernelspec": {
   "display_name": "Python 3",
   "language": "python",
   "name": "python3"
  },
  "language_info": {
   "codemirror_mode": {
    "name": "ipython",
    "version": 3
   },
   "file_extension": ".py",
   "mimetype": "text/x-python",
   "name": "python",
   "nbconvert_exporter": "python",
   "pygments_lexer": "ipython3",
   "version": "3.6.5"
  }
 },
 "nbformat": 4,
 "nbformat_minor": 2
}
