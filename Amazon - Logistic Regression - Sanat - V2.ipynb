{
 "cells": [
  {
   "cell_type": "markdown",
   "metadata": {},
   "source": [
    "# Logistic regression classifier model on Amazon Fine foods reviews dataset."
   ]
  },
  {
   "cell_type": "markdown",
   "metadata": {},
   "source": [
    "\n",
    "#### * Our objective here is to build a Logistic regression model to estimate the polarity of a review as Positive/Negative based on the words used in the review.\n",
    "\n",
    " * We are given a 500K datset of reviews from Amazon customers regarding the various food products.\n",
    "\n",
    " * We will be using 5 types of Vectorizations to convert text reviews into vectors and we will conclude towards the best Vectorizer based on several performance metrics."
   ]
  },
  {
   "cell_type": "code",
   "execution_count": 1,
   "metadata": {},
   "outputs": [],
   "source": [
    "import pandas as pd\n",
    "import numpy as np\n",
    "import sqlite3\n",
    "from sklearn.preprocessing import StandardScaler\n",
    "from sklearn.feature_extraction.text import CountVectorizer\n",
    "from sklearn.feature_extraction.text import TfidfVectorizer\n",
    "from sklearn.linear_model import LogisticRegression\n",
    "from tqdm import tqdm"
   ]
  },
  {
   "cell_type": "code",
   "execution_count": 2,
   "metadata": {},
   "outputs": [],
   "source": [
    "import seaborn as sns\n",
    "import matplotlib.pyplot as plt"
   ]
  },
  {
   "cell_type": "code",
   "execution_count": 3,
   "metadata": {},
   "outputs": [],
   "source": [
    "import warnings\n",
    "warnings.filterwarnings('ignore')"
   ]
  },
  {
   "cell_type": "code",
   "execution_count": 4,
   "metadata": {},
   "outputs": [],
   "source": [
    "from sklearn.model_selection import cross_val_score\n",
    "from sklearn.metrics import accuracy_score\n",
    "from sklearn.metrics import confusion_matrix"
   ]
  },
  {
   "cell_type": "code",
   "execution_count": 5,
   "metadata": {},
   "outputs": [],
   "source": [
    "con=sqlite3.connect('G:\\ML\\Data_Sets\\Amazon\\Cleaned_AmazonDB.sqlite')"
   ]
  },
  {
   "cell_type": "code",
   "execution_count": 6,
   "metadata": {
    "scrolled": true
   },
   "outputs": [
    {
     "data": {
      "text/html": [
       "<div>\n",
       "<style scoped>\n",
       "    .dataframe tbody tr th:only-of-type {\n",
       "        vertical-align: middle;\n",
       "    }\n",
       "\n",
       "    .dataframe tbody tr th {\n",
       "        vertical-align: top;\n",
       "    }\n",
       "\n",
       "    .dataframe thead th {\n",
       "        text-align: right;\n",
       "    }\n",
       "</style>\n",
       "<table border=\"1\" class=\"dataframe\">\n",
       "  <thead>\n",
       "    <tr style=\"text-align: right;\">\n",
       "      <th></th>\n",
       "      <th>level_0</th>\n",
       "      <th>index</th>\n",
       "      <th>Id</th>\n",
       "      <th>ProductId</th>\n",
       "      <th>UserId</th>\n",
       "      <th>ProfileName</th>\n",
       "      <th>HelpfulnessNumerator</th>\n",
       "      <th>HelpfulnessDenominator</th>\n",
       "      <th>Score</th>\n",
       "      <th>Time</th>\n",
       "      <th>Summary</th>\n",
       "      <th>Text</th>\n",
       "      <th>New</th>\n",
       "    </tr>\n",
       "  </thead>\n",
       "  <tbody>\n",
       "    <tr>\n",
       "      <th>0</th>\n",
       "      <td>0</td>\n",
       "      <td>138706</td>\n",
       "      <td>150524</td>\n",
       "      <td>0006641040</td>\n",
       "      <td>ACITT7DI6IDDL</td>\n",
       "      <td>shari zychinski</td>\n",
       "      <td>0</td>\n",
       "      <td>0</td>\n",
       "      <td>positive</td>\n",
       "      <td>939340800</td>\n",
       "      <td>EVERY book is educational</td>\n",
       "      <td>this witty little book makes my son laugh at l...</td>\n",
       "      <td>witti littl book make son laugh loud recit car...</td>\n",
       "    </tr>\n",
       "    <tr>\n",
       "      <th>1</th>\n",
       "      <td>1</td>\n",
       "      <td>138688</td>\n",
       "      <td>150506</td>\n",
       "      <td>0006641040</td>\n",
       "      <td>A2IW4PEEKO2R0U</td>\n",
       "      <td>Tracy</td>\n",
       "      <td>1</td>\n",
       "      <td>1</td>\n",
       "      <td>positive</td>\n",
       "      <td>1194739200</td>\n",
       "      <td>Love the book, miss the hard cover version</td>\n",
       "      <td>I grew up reading these Sendak books, and watc...</td>\n",
       "      <td>grew read sendak watch realli rosi movi incorp...</td>\n",
       "    </tr>\n",
       "    <tr>\n",
       "      <th>2</th>\n",
       "      <td>2</td>\n",
       "      <td>138689</td>\n",
       "      <td>150507</td>\n",
       "      <td>0006641040</td>\n",
       "      <td>A1S4A3IQ2MU7V4</td>\n",
       "      <td>sally sue \"sally sue\"</td>\n",
       "      <td>1</td>\n",
       "      <td>1</td>\n",
       "      <td>positive</td>\n",
       "      <td>1191456000</td>\n",
       "      <td>chicken soup with rice months</td>\n",
       "      <td>This is a fun way for children to learn their ...</td>\n",
       "      <td>fun way children learn month year learn poem t...</td>\n",
       "    </tr>\n",
       "    <tr>\n",
       "      <th>3</th>\n",
       "      <td>3</td>\n",
       "      <td>138690</td>\n",
       "      <td>150508</td>\n",
       "      <td>0006641040</td>\n",
       "      <td>AZGXZ2UUK6X</td>\n",
       "      <td>Catherine Hallberg \"(Kate)\"</td>\n",
       "      <td>1</td>\n",
       "      <td>1</td>\n",
       "      <td>positive</td>\n",
       "      <td>1076025600</td>\n",
       "      <td>a good swingy rhythm for reading aloud</td>\n",
       "      <td>This is a great little book to read aloud- it ...</td>\n",
       "      <td>great littl book read nice rhythm well good re...</td>\n",
       "    </tr>\n",
       "    <tr>\n",
       "      <th>4</th>\n",
       "      <td>4</td>\n",
       "      <td>138691</td>\n",
       "      <td>150509</td>\n",
       "      <td>0006641040</td>\n",
       "      <td>A3CMRKGE0P909G</td>\n",
       "      <td>Teresa</td>\n",
       "      <td>3</td>\n",
       "      <td>4</td>\n",
       "      <td>positive</td>\n",
       "      <td>1018396800</td>\n",
       "      <td>A great way to learn the months</td>\n",
       "      <td>This is a book of poetry about the months of t...</td>\n",
       "      <td>book poetri month year goe month cute littl po...</td>\n",
       "    </tr>\n",
       "  </tbody>\n",
       "</table>\n",
       "</div>"
      ],
      "text/plain": [
       "   level_0   index      Id   ProductId          UserId  \\\n",
       "0        0  138706  150524  0006641040   ACITT7DI6IDDL   \n",
       "1        1  138688  150506  0006641040  A2IW4PEEKO2R0U   \n",
       "2        2  138689  150507  0006641040  A1S4A3IQ2MU7V4   \n",
       "3        3  138690  150508  0006641040     AZGXZ2UUK6X   \n",
       "4        4  138691  150509  0006641040  A3CMRKGE0P909G   \n",
       "\n",
       "                   ProfileName  HelpfulnessNumerator  HelpfulnessDenominator  \\\n",
       "0              shari zychinski                     0                       0   \n",
       "1                        Tracy                     1                       1   \n",
       "2        sally sue \"sally sue\"                     1                       1   \n",
       "3  Catherine Hallberg \"(Kate)\"                     1                       1   \n",
       "4                       Teresa                     3                       4   \n",
       "\n",
       "      Score        Time                                     Summary  \\\n",
       "0  positive   939340800                   EVERY book is educational   \n",
       "1  positive  1194739200  Love the book, miss the hard cover version   \n",
       "2  positive  1191456000               chicken soup with rice months   \n",
       "3  positive  1076025600      a good swingy rhythm for reading aloud   \n",
       "4  positive  1018396800             A great way to learn the months   \n",
       "\n",
       "                                                Text  \\\n",
       "0  this witty little book makes my son laugh at l...   \n",
       "1  I grew up reading these Sendak books, and watc...   \n",
       "2  This is a fun way for children to learn their ...   \n",
       "3  This is a great little book to read aloud- it ...   \n",
       "4  This is a book of poetry about the months of t...   \n",
       "\n",
       "                                                 New  \n",
       "0  witti littl book make son laugh loud recit car...  \n",
       "1  grew read sendak watch realli rosi movi incorp...  \n",
       "2  fun way children learn month year learn poem t...  \n",
       "3  great littl book read nice rhythm well good re...  \n",
       "4  book poetri month year goe month cute littl po...  "
      ]
     },
     "execution_count": 6,
     "metadata": {},
     "output_type": "execute_result"
    }
   ],
   "source": [
    "data=pd.read_sql_query('''Select * from Reviews''',con)\n",
    "data.head()"
   ]
  },
  {
   "cell_type": "code",
   "execution_count": 10,
   "metadata": {},
   "outputs": [
    {
     "data": {
      "text/plain": [
       "(364171, 13)"
      ]
     },
     "execution_count": 10,
     "metadata": {},
     "output_type": "execute_result"
    }
   ],
   "source": [
    "data.shape"
   ]
  },
  {
   "cell_type": "markdown",
   "metadata": {},
   "source": [
    "## Time based sorting of data:"
   ]
  },
  {
   "cell_type": "code",
   "execution_count": 7,
   "metadata": {},
   "outputs": [],
   "source": [
    "sorted_data=data.sort_values('Time',axis=0,ascending=True)"
   ]
  },
  {
   "cell_type": "code",
   "execution_count": 8,
   "metadata": {
    "scrolled": true
   },
   "outputs": [
    {
     "data": {
      "text/html": [
       "<div>\n",
       "<style scoped>\n",
       "    .dataframe tbody tr th:only-of-type {\n",
       "        vertical-align: middle;\n",
       "    }\n",
       "\n",
       "    .dataframe tbody tr th {\n",
       "        vertical-align: top;\n",
       "    }\n",
       "\n",
       "    .dataframe thead th {\n",
       "        text-align: right;\n",
       "    }\n",
       "</style>\n",
       "<table border=\"1\" class=\"dataframe\">\n",
       "  <thead>\n",
       "    <tr style=\"text-align: right;\">\n",
       "      <th></th>\n",
       "      <th>level_0</th>\n",
       "      <th>index</th>\n",
       "      <th>Id</th>\n",
       "      <th>ProductId</th>\n",
       "      <th>UserId</th>\n",
       "      <th>ProfileName</th>\n",
       "      <th>HelpfulnessNumerator</th>\n",
       "      <th>HelpfulnessDenominator</th>\n",
       "      <th>Score</th>\n",
       "      <th>Time</th>\n",
       "      <th>Summary</th>\n",
       "      <th>Text</th>\n",
       "      <th>New</th>\n",
       "    </tr>\n",
       "  </thead>\n",
       "  <tbody>\n",
       "    <tr>\n",
       "      <th>0</th>\n",
       "      <td>0</td>\n",
       "      <td>138706</td>\n",
       "      <td>150524</td>\n",
       "      <td>0006641040</td>\n",
       "      <td>ACITT7DI6IDDL</td>\n",
       "      <td>shari zychinski</td>\n",
       "      <td>0</td>\n",
       "      <td>0</td>\n",
       "      <td>positive</td>\n",
       "      <td>939340800</td>\n",
       "      <td>EVERY book is educational</td>\n",
       "      <td>this witty little book makes my son laugh at l...</td>\n",
       "      <td>witti littl book make son laugh loud recit car...</td>\n",
       "    </tr>\n",
       "    <tr>\n",
       "      <th>30</th>\n",
       "      <td>30</td>\n",
       "      <td>138683</td>\n",
       "      <td>150501</td>\n",
       "      <td>0006641040</td>\n",
       "      <td>AJ46FKXOVC7NR</td>\n",
       "      <td>Nicholas A Mesiano</td>\n",
       "      <td>2</td>\n",
       "      <td>2</td>\n",
       "      <td>positive</td>\n",
       "      <td>940809600</td>\n",
       "      <td>This whole series is great way to spend time w...</td>\n",
       "      <td>I can remember seeing the show when it aired o...</td>\n",
       "      <td>rememb see show air televis year child sister ...</td>\n",
       "    </tr>\n",
       "    <tr>\n",
       "      <th>424</th>\n",
       "      <td>424</td>\n",
       "      <td>417839</td>\n",
       "      <td>451856</td>\n",
       "      <td>B00004CXX9</td>\n",
       "      <td>AIUWLEQ1ADEG5</td>\n",
       "      <td>Elizabeth Medina</td>\n",
       "      <td>0</td>\n",
       "      <td>0</td>\n",
       "      <td>positive</td>\n",
       "      <td>944092800</td>\n",
       "      <td>Entertainingl Funny!</td>\n",
       "      <td>Beetlejuice is a well written movie ..... ever...</td>\n",
       "      <td>beetlejuic well written movi everyth excel act...</td>\n",
       "    </tr>\n",
       "    <tr>\n",
       "      <th>330</th>\n",
       "      <td>330</td>\n",
       "      <td>346055</td>\n",
       "      <td>374359</td>\n",
       "      <td>B00004CI84</td>\n",
       "      <td>A344SMIA5JECGM</td>\n",
       "      <td>Vincent P. Ross</td>\n",
       "      <td>1</td>\n",
       "      <td>2</td>\n",
       "      <td>positive</td>\n",
       "      <td>944438400</td>\n",
       "      <td>A modern day fairy tale</td>\n",
       "      <td>A twist of rumplestiskin captured on film, sta...</td>\n",
       "      <td>twist rumplestiskin captur star michael keaton...</td>\n",
       "    </tr>\n",
       "    <tr>\n",
       "      <th>423</th>\n",
       "      <td>423</td>\n",
       "      <td>417838</td>\n",
       "      <td>451855</td>\n",
       "      <td>B00004CXX9</td>\n",
       "      <td>AJH6LUC1UT1ON</td>\n",
       "      <td>The Phantom of the Opera</td>\n",
       "      <td>0</td>\n",
       "      <td>0</td>\n",
       "      <td>positive</td>\n",
       "      <td>946857600</td>\n",
       "      <td>FANTASTIC!</td>\n",
       "      <td>Beetlejuice is an excellent and funny movie. K...</td>\n",
       "      <td>beetlejuic excel funni movi keaton hilari wack...</td>\n",
       "    </tr>\n",
       "  </tbody>\n",
       "</table>\n",
       "</div>"
      ],
      "text/plain": [
       "     level_0   index      Id   ProductId          UserId  \\\n",
       "0          0  138706  150524  0006641040   ACITT7DI6IDDL   \n",
       "30        30  138683  150501  0006641040   AJ46FKXOVC7NR   \n",
       "424      424  417839  451856  B00004CXX9   AIUWLEQ1ADEG5   \n",
       "330      330  346055  374359  B00004CI84  A344SMIA5JECGM   \n",
       "423      423  417838  451855  B00004CXX9   AJH6LUC1UT1ON   \n",
       "\n",
       "                  ProfileName  HelpfulnessNumerator  HelpfulnessDenominator  \\\n",
       "0             shari zychinski                     0                       0   \n",
       "30         Nicholas A Mesiano                     2                       2   \n",
       "424          Elizabeth Medina                     0                       0   \n",
       "330           Vincent P. Ross                     1                       2   \n",
       "423  The Phantom of the Opera                     0                       0   \n",
       "\n",
       "        Score       Time                                            Summary  \\\n",
       "0    positive  939340800                          EVERY book is educational   \n",
       "30   positive  940809600  This whole series is great way to spend time w...   \n",
       "424  positive  944092800                               Entertainingl Funny!   \n",
       "330  positive  944438400                            A modern day fairy tale   \n",
       "423  positive  946857600                                         FANTASTIC!   \n",
       "\n",
       "                                                  Text  \\\n",
       "0    this witty little book makes my son laugh at l...   \n",
       "30   I can remember seeing the show when it aired o...   \n",
       "424  Beetlejuice is a well written movie ..... ever...   \n",
       "330  A twist of rumplestiskin captured on film, sta...   \n",
       "423  Beetlejuice is an excellent and funny movie. K...   \n",
       "\n",
       "                                                   New  \n",
       "0    witti littl book make son laugh loud recit car...  \n",
       "30   rememb see show air televis year child sister ...  \n",
       "424  beetlejuic well written movi everyth excel act...  \n",
       "330  twist rumplestiskin captur star michael keaton...  \n",
       "423  beetlejuic excel funni movi keaton hilari wack...  "
      ]
     },
     "execution_count": 8,
     "metadata": {},
     "output_type": "execute_result"
    }
   ],
   "source": [
    "sorted_data.head()"
   ]
  },
  {
   "cell_type": "markdown",
   "metadata": {},
   "source": [
    "## Splitting of Test and Train data"
   ]
  },
  {
   "cell_type": "code",
   "execution_count": 8,
   "metadata": {},
   "outputs": [
    {
     "name": "stdout",
     "output_type": "stream",
     "text": [
      "254920\n",
      "109251\n",
      "True\n"
     ]
    }
   ],
   "source": [
    "train_length=round(0.7*len(data))\n",
    "print(train_length)\n",
    "test_length=round(0.3*len(data))\n",
    "print(test_length)\n",
    "print((train_length+test_length)==len(data))"
   ]
  },
  {
   "cell_type": "code",
   "execution_count": 9,
   "metadata": {},
   "outputs": [],
   "source": [
    "train=sorted_data.head(train_length)\n",
    "test=sorted_data.tail(test_length)"
   ]
  },
  {
   "cell_type": "markdown",
   "metadata": {},
   "source": [
    "## Grid Search CV"
   ]
  },
  {
   "cell_type": "code",
   "execution_count": 95,
   "metadata": {},
   "outputs": [],
   "source": [
    "from sklearn.model_selection import GridSearchCV\n",
    "from sklearn.model_selection import TimeSeriesSplit"
   ]
  },
  {
   "cell_type": "code",
   "execution_count": 11,
   "metadata": {},
   "outputs": [],
   "source": [
    "def grid_s(x,regulariser,list1=[10**-4, 10**-2, 10**0, 10**2]):\n",
    "    '''\n",
    "    Program to return optimal values for Hyper Parameter C=(1/Lambda).\n",
    "    '''\n",
    "    ts=TimeSeriesSplit(n_splits=10)\n",
    "    par=[{'C': list1}]\n",
    "    lr= LogisticRegression(penalty=regulariser,max_iter=200,random_state=33)\n",
    "    grid=GridSearchCV(lr,par,cv=ts.split(x),scoring='accuracy',verbose=2)\n",
    "    return grid"
   ]
  },
  {
   "cell_type": "markdown",
   "metadata": {},
   "source": [
    "## Randomized Search CV"
   ]
  },
  {
   "cell_type": "code",
   "execution_count": 92,
   "metadata": {},
   "outputs": [],
   "source": [
    "from sklearn.model_selection import RandomizedSearchCV\n",
    "from scipy.stats import uniform"
   ]
  },
  {
   "cell_type": "code",
   "execution_count": 193,
   "metadata": {},
   "outputs": [],
   "source": [
    "def random_s(x,regulariser):\n",
    "    '''\n",
    "    To tune Hyper paramater using Randomized Search CV\n",
    "    '''\n",
    "    ts=TimeSeriesSplit(n_splits=10)\n",
    "    #un=list(uniform.rvs(loc=10**-2,scale=10**4))\n",
    "    par={'C': [uniform.rvs(loc=10**-2,scale=10**2)]}\n",
    "    lr= LogisticRegression(penalty=regulariser,random_state=33,class_weight='balanced')\n",
    "    rand=GridSearchCV(lr,par,cv=ts.split(x),scoring='accuracy',verbose=2)\n",
    "    return rand"
   ]
  },
  {
   "cell_type": "markdown",
   "metadata": {},
   "source": [
    "## L1 Analyser function:"
   ]
  },
  {
   "cell_type": "code",
   "execution_count": 14,
   "metadata": {},
   "outputs": [],
   "source": [
    "def l1_analyser(x,y,list1=[100,10,1,0.1,0.01]):\n",
    "    '''\n",
    "    to analyse sparsity and effects of L1 regulariser for different values of Lambda\n",
    "    '''\n",
    "    for value in list1:\n",
    "        model=LogisticRegression(C=value,penalty='l1')\n",
    "        lamda=1/value\n",
    "        model.fit(x,y)\n",
    "        w=model.coef_    \n",
    "        print('\\n*************************************************************************************************************')\n",
    "        print(f'\\n lambda = {lamda}')\n",
    "        print(f'\\n Number of non zero elements = {np.count_nonzero(w)}')\n",
    "        print(f'\\n Sparisty = {np.mean((model.coef_.ravel()) == 0)*100}')        \n",
    "        p=model.predict(x)\n",
    "        error=1-(accuracy_score(p,y))\n",
    "        print(f'\\n Error = {error}')\n",
    "        score=model.score(x,y)\n",
    "        print(f'\\n Score = {score}')\n",
    "    \n",
    "    \n"
   ]
  },
  {
   "cell_type": "markdown",
   "metadata": {},
   "source": [
    "## MultiCollinearity check:"
   ]
  },
  {
   "cell_type": "code",
   "execution_count": 15,
   "metadata": {},
   "outputs": [],
   "source": [
    "from scipy import spatial\n",
    "def isMultiColinear(weight,new_weight,length):\n",
    "    '''\n",
    "    To check Multi colinearity\n",
    "    '''\n",
    "    count=0\n",
    "    d=spatial.distance.euclidean(weight,new_weight)\n",
    "    print(f'\\n The Euclidean distance between weight vectors after perturbation is {d}')\n",
    "    cos_d=spatial.distance.cosine(weight,new_weight)\n",
    "    print(f'\\n The Cosine similarity between weight vectors after perturbation is {cos_d}')\n",
    "        \n",
    "    for i in range(0,length-1):  \n",
    "        x=(abs(weight[:,i]-new_weight[:,i]))/weight[:,i]\n",
    "        if(x >= 0.2):\n",
    "            #print(f'\\n The feature {i+1} varies by more than 20% after the perturbation ')\n",
    "            count+=1\n",
    "    if(count!=0):\n",
    "        print(f'\\n {count} number of features out of {length} are multicollinear as they vary by more than 20% after perturbation')"
   ]
  },
  {
   "cell_type": "markdown",
   "metadata": {},
   "source": [
    "## Confusion Matrix & Performance Analyser:"
   ]
  },
  {
   "cell_type": "code",
   "execution_count": 10,
   "metadata": {},
   "outputs": [],
   "source": [
    "def CM(x,y):\n",
    "    '''\n",
    "    Function to plot confusion matrix\n",
    "    '''\n",
    "    CM_Matrix=confusion_matrix(x,y)\n",
    "    tn,fn,fp,tp=CM_Matrix.ravel()\n",
    "    print('\\n ******************************************************************************* \\n')\n",
    "    \n",
    "    print(f\"TNR value is {tn/(tn+fn)}\")\n",
    "    print(f\"FNR value is {fn/(tn+fn)}\")\n",
    "    print(f\"FPR value is {fp/(tp+fp)}\")\n",
    "    print(f\"TPR value is {tp/(tp+fp)}\")\n",
    "    \n",
    "    print('\\n ******************************************************************************* \\n')\n",
    "    print('Confusion Matrix is :')\n",
    "    print(CM_Matrix)\n",
    "    \n",
    "    print('\\n ******************************************************************************* \\n')\n",
    "    precision= tp/(tp+fp)\n",
    "    print(f'Precision is {precision}')\n",
    "    recall=tp/(tp+fn)\n",
    "    print(f'Recall value is {recall}')\n",
    "    f1=2*((precision*recall)/(precision+recall))\n",
    "    print(f'F1 Score is {f1}')\n",
    "    \n",
    "    print('\\n ******************************************************************************* \\n')\n",
    "    print('Heat Map of the Confusion matrix is')\n",
    "    tmp=pd.DataFrame(CM_Matrix)\n",
    "    ann=np.array([['True Negative = '+str(tn),'False negative = '+str(fn)],['False Positive = '+str(fp),'True Positive = '+str(tp)]])\n",
    "    sns.heatmap(tmp,annot=ann,fmt='')\n",
    "    plt.title('Confusion Matrix : ')\n",
    "    \n",
    "    print('\\n ******************************************************************************* \\n')\n",
    "    \n",
    "    "
   ]
  },
  {
   "cell_type": "markdown",
   "metadata": {},
   "source": [
    "# 1.) Bag Of Words Vectorization:"
   ]
  },
  {
   "cell_type": "code",
   "execution_count": 11,
   "metadata": {},
   "outputs": [
    {
     "data": {
      "text/plain": [
       "CountVectorizer(analyzer='word', binary=False, decode_error='strict',\n",
       "        dtype='float', encoding='utf-8', input='content', lowercase=True,\n",
       "        max_df=1.0, max_features=None, min_df=1, ngram_range=(1, 1),\n",
       "        preprocessor=None, stop_words=None, strip_accents=None,\n",
       "        token_pattern='(?u)\\\\b\\\\w\\\\w+\\\\b', tokenizer=None, vocabulary=None)"
      ]
     },
     "execution_count": 11,
     "metadata": {},
     "output_type": "execute_result"
    }
   ],
   "source": [
    "BOW=CountVectorizer(dtype='float')\n",
    "BOW.fit(train['New'])"
   ]
  },
  {
   "cell_type": "code",
   "execution_count": 12,
   "metadata": {},
   "outputs": [],
   "source": [
    "BOW_train= BOW.transform(train['New'])\n",
    "BOW_test=BOW.transform(test['New'])"
   ]
  },
  {
   "cell_type": "code",
   "execution_count": 19,
   "metadata": {},
   "outputs": [
    {
     "data": {
      "text/plain": [
       "(254920, 55207)"
      ]
     },
     "execution_count": 19,
     "metadata": {},
     "output_type": "execute_result"
    }
   ],
   "source": [
    "BOW_train.shape"
   ]
  },
  {
   "cell_type": "code",
   "execution_count": 13,
   "metadata": {},
   "outputs": [],
   "source": [
    "scaler=StandardScaler(with_mean=False)\n",
    "std_BOW_train=scaler.fit_transform(BOW_train)\n",
    "std_BOW_test=scaler.transform(BOW_test)"
   ]
  },
  {
   "cell_type": "markdown",
   "metadata": {},
   "source": [
    "### L2 Regularisation :"
   ]
  },
  {
   "cell_type": "code",
   "execution_count": 21,
   "metadata": {},
   "outputs": [],
   "source": [
    "BOW_grid=grid_s(std_BOW_train,'l2')"
   ]
  },
  {
   "cell_type": "code",
   "execution_count": 22,
   "metadata": {},
   "outputs": [
    {
     "name": "stdout",
     "output_type": "stream",
     "text": [
      "Fitting 10 folds for each of 5 candidates, totalling 50 fits\n"
     ]
    },
    {
     "name": "stderr",
     "output_type": "stream",
     "text": [
      "[Parallel(n_jobs=1)]: Done  50 out of  50 | elapsed: 51.4min finished\n"
     ]
    },
    {
     "data": {
      "text/plain": [
       "GridSearchCV(cv=<generator object TimeSeriesSplit.split at 0x0000024975F72518>,\n",
       "       error_score='raise',\n",
       "       estimator=LogisticRegression(C=1.0, class_weight=None, dual=False, fit_intercept=True,\n",
       "          intercept_scaling=1, max_iter=100, multi_class='ovr', n_jobs=1,\n",
       "          penalty='l2', random_state=None, solver='liblinear', tol=0.0001,\n",
       "          verbose=0, warm_start=False),\n",
       "       fit_params=None, iid=True, n_jobs=1,\n",
       "       param_grid=[{'C': [0.0001, 0.01, 1, 100, 10000], 'penalty': ['l2']}],\n",
       "       pre_dispatch='2*n_jobs', refit=True, return_train_score='warn',\n",
       "       scoring='accuracy', verbose=1)"
      ]
     },
     "execution_count": 22,
     "metadata": {},
     "output_type": "execute_result"
    }
   ],
   "source": [
    "BOW_grid.fit(std_BOW_train,train['Score'])"
   ]
  },
  {
   "cell_type": "code",
   "execution_count": 23,
   "metadata": {},
   "outputs": [
    {
     "data": {
      "text/plain": [
       "LogisticRegression(C=0.0001, class_weight=None, dual=False,\n",
       "          fit_intercept=True, intercept_scaling=1, max_iter=100,\n",
       "          multi_class='ovr', n_jobs=1, penalty='l2', random_state=None,\n",
       "          solver='liblinear', tol=0.0001, verbose=0, warm_start=False)"
      ]
     },
     "execution_count": 23,
     "metadata": {},
     "output_type": "execute_result"
    }
   ],
   "source": [
    "BOW_grid.best_estimator_"
   ]
  },
  {
   "cell_type": "code",
   "execution_count": 24,
   "metadata": {},
   "outputs": [
    {
     "data": {
      "text/plain": [
       "0.9015793561750237"
      ]
     },
     "execution_count": 24,
     "metadata": {},
     "output_type": "execute_result"
    }
   ],
   "source": [
    "BOW_grid.best_score_"
   ]
  },
  {
   "cell_type": "code",
   "execution_count": 134,
   "metadata": {},
   "outputs": [],
   "source": [
    "#Random Search\n",
    "BOW_rand=random_s(std_BOW_train,'l2')"
   ]
  },
  {
   "cell_type": "code",
   "execution_count": 135,
   "metadata": {
    "scrolled": true
   },
   "outputs": [
    {
     "name": "stdout",
     "output_type": "stream",
     "text": [
      "Fitting 10 folds for each of 1 candidates, totalling 10 fits\n",
      "[CV] C=13.863529268277464 ............................................\n",
      "[CV] ............................. C=13.863529268277464, total=  11.5s\n"
     ]
    },
    {
     "name": "stderr",
     "output_type": "stream",
     "text": [
      "[Parallel(n_jobs=1)]: Done   1 out of   1 | elapsed:   11.6s remaining:    0.0s\n"
     ]
    },
    {
     "name": "stdout",
     "output_type": "stream",
     "text": [
      "[CV] C=13.863529268277464 ............................................\n",
      "[CV] ............................. C=13.863529268277464, total=  29.0s\n",
      "[CV] C=13.863529268277464 ............................................\n",
      "[CV] ............................. C=13.863529268277464, total= 1.5min\n",
      "[CV] C=13.863529268277464 ............................................\n",
      "[CV] ............................. C=13.863529268277464, total= 1.7min\n",
      "[CV] C=13.863529268277464 ............................................\n",
      "[CV] ............................. C=13.863529268277464, total= 2.7min\n",
      "[CV] C=13.863529268277464 ............................................\n",
      "[CV] ............................. C=13.863529268277464, total= 3.3min\n",
      "[CV] C=13.863529268277464 ............................................\n",
      "[CV] ............................. C=13.863529268277464, total= 3.1min\n",
      "[CV] C=13.863529268277464 ............................................\n",
      "[CV] ............................. C=13.863529268277464, total= 2.5min\n",
      "[CV] C=13.863529268277464 ............................................\n",
      "[CV] ............................. C=13.863529268277464, total= 1.0min\n",
      "[CV] C=13.863529268277464 ............................................\n",
      "[CV] ............................. C=13.863529268277464, total=  56.7s\n"
     ]
    },
    {
     "name": "stderr",
     "output_type": "stream",
     "text": [
      "[Parallel(n_jobs=1)]: Done  10 out of  10 | elapsed: 17.6min finished\n"
     ]
    },
    {
     "data": {
      "text/plain": [
       "GridSearchCV(cv=<generator object TimeSeriesSplit.split at 0x0000026A416E45C8>,\n",
       "       error_score='raise',\n",
       "       estimator=LogisticRegression(C=1.0, class_weight=None, dual=False, fit_intercept=True,\n",
       "          intercept_scaling=1, max_iter=100, multi_class='ovr', n_jobs=1,\n",
       "          penalty='l2', random_state=33, solver='liblinear', tol=0.0001,\n",
       "          verbose=0, warm_start=False),\n",
       "       fit_params=None, iid=True, n_jobs=1,\n",
       "       param_grid={'C': [13.863529268277464]}, pre_dispatch='2*n_jobs',\n",
       "       refit=True, return_train_score='warn', scoring='accuracy',\n",
       "       verbose=2)"
      ]
     },
     "execution_count": 135,
     "metadata": {},
     "output_type": "execute_result"
    }
   ],
   "source": [
    "BOW_rand.fit(std_BOW_train,train['Score'])"
   ]
  },
  {
   "cell_type": "code",
   "execution_count": 136,
   "metadata": {},
   "outputs": [
    {
     "data": {
      "text/plain": [
       "LogisticRegression(C=13.863529268277464, class_weight=None, dual=False,\n",
       "          fit_intercept=True, intercept_scaling=1, max_iter=100,\n",
       "          multi_class='ovr', n_jobs=1, penalty='l2', random_state=33,\n",
       "          solver='liblinear', tol=0.0001, verbose=0, warm_start=False)"
      ]
     },
     "execution_count": 136,
     "metadata": {},
     "output_type": "execute_result"
    }
   ],
   "source": [
    "BOW_rand.best_estimator_"
   ]
  },
  {
   "cell_type": "code",
   "execution_count": 137,
   "metadata": {},
   "outputs": [
    {
     "data": {
      "text/plain": [
       "0.8782558039181841"
      ]
     },
     "execution_count": 137,
     "metadata": {},
     "output_type": "execute_result"
    }
   ],
   "source": [
    "BOW_rand.best_score_"
   ]
  },
  {
   "cell_type": "code",
   "execution_count": 138,
   "metadata": {},
   "outputs": [],
   "source": [
    "LR1=LogisticRegression(C=13.863529268277464, class_weight='balanced', dual=False,\n",
    "          fit_intercept=True, intercept_scaling=1, max_iter=100,\n",
    "          multi_class='ovr', n_jobs=1, penalty='l2', random_state=33,\n",
    "          solver='liblinear', tol=0.0001, verbose=0, warm_start=False)"
   ]
  },
  {
   "cell_type": "code",
   "execution_count": 139,
   "metadata": {},
   "outputs": [
    {
     "data": {
      "text/plain": [
       "LogisticRegression(C=13.863529268277464, class_weight='balanced', dual=False,\n",
       "          fit_intercept=True, intercept_scaling=1, max_iter=100,\n",
       "          multi_class='ovr', n_jobs=1, penalty='l2', random_state=33,\n",
       "          solver='liblinear', tol=0.0001, verbose=0, warm_start=False)"
      ]
     },
     "execution_count": 139,
     "metadata": {},
     "output_type": "execute_result"
    }
   ],
   "source": [
    "LR1.fit(std_BOW_train,train['Score'])"
   ]
  },
  {
   "cell_type": "code",
   "execution_count": 140,
   "metadata": {},
   "outputs": [],
   "source": [
    "pred=LR1.predict(std_BOW_test)"
   ]
  },
  {
   "cell_type": "code",
   "execution_count": 141,
   "metadata": {},
   "outputs": [
    {
     "name": "stdout",
     "output_type": "stream",
     "text": [
      "86.00378943899827\n"
     ]
    }
   ],
   "source": [
    "acc=accuracy_score(pred,test['Score'])\n",
    "print(acc*100)"
   ]
  },
  {
   "cell_type": "markdown",
   "metadata": {},
   "source": [
    "### L1 Regularisation :"
   ]
  },
  {
   "cell_type": "code",
   "execution_count": 15,
   "metadata": {},
   "outputs": [],
   "source": [
    "list1=[10**-1,1,10,100,500]\n",
    "BOW_grid=grid_s(BOW_train[:100000],'l1')\n"
   ]
  },
  {
   "cell_type": "code",
   "execution_count": 16,
   "metadata": {
    "scrolled": true
   },
   "outputs": [
    {
     "name": "stdout",
     "output_type": "stream",
     "text": [
      "Fitting 10 folds for each of 4 candidates, totalling 40 fits\n",
      "[CV] C=0.0001 ........................................................\n",
      "[CV] .............. C=0.0001, score=0.10374037403740374, total=   0.0s\n"
     ]
    },
    {
     "name": "stderr",
     "output_type": "stream",
     "text": [
      "[Parallel(n_jobs=1)]: Done   1 out of   1 | elapsed:    0.2s remaining:    0.0s\n"
     ]
    },
    {
     "name": "stdout",
     "output_type": "stream",
     "text": [
      "[CV] C=0.0001 ........................................................\n",
      "[CV] .............. C=0.0001, score=0.11265126512651265, total=   0.1s\n"
     ]
    },
    {
     "name": "stderr",
     "output_type": "stream",
     "text": [
      "[Parallel(n_jobs=1)]: Done   2 out of   2 | elapsed:    0.5s remaining:    0.0s\n"
     ]
    },
    {
     "name": "stdout",
     "output_type": "stream",
     "text": [
      "[CV] C=0.0001 ........................................................\n",
      "[CV] ............... C=0.0001, score=0.8916391639163916, total=   0.3s\n",
      "[CV] C=0.0001 ........................................................\n",
      "[CV] ............... C=0.0001, score=0.8849284928492849, total=   0.4s\n",
      "[CV] C=0.0001 ........................................................\n",
      "[CV] ............... C=0.0001, score=0.8722772277227723, total=   0.5s\n",
      "[CV] C=0.0001 ........................................................\n",
      "[CV] ............... C=0.0001, score=0.8680968096809681, total=   0.6s\n",
      "[CV] C=0.0001 ........................................................\n",
      "[CV] ............... C=0.0001, score=0.8741474147414742, total=   0.7s\n",
      "[CV] C=0.0001 ........................................................\n",
      "[CV] ............... C=0.0001, score=0.8564356435643564, total=   0.9s\n",
      "[CV] C=0.0001 ........................................................\n",
      "[CV] ............... C=0.0001, score=0.8671067106710671, total=   1.0s\n",
      "[CV] C=0.0001 ........................................................\n",
      "[CV] ............... C=0.0001, score=0.8651265126512652, total=   1.1s\n",
      "[CV] C=0.01 ..........................................................\n",
      "[CV] ................. C=0.01, score=0.8962596259625962, total=   0.1s\n",
      "[CV] C=0.01 ..........................................................\n",
      "[CV] ................. C=0.01, score=0.8872387238723872, total=   0.2s\n",
      "[CV] C=0.01 ..........................................................\n",
      "[CV] ................. C=0.01, score=0.8938393839383938, total=   0.4s\n",
      "[CV] C=0.01 ..........................................................\n",
      "[CV] ................. C=0.01, score=0.8882288228822882, total=   0.6s\n",
      "[CV] C=0.01 ..........................................................\n",
      "[CV] ................. C=0.01, score=0.8805280528052806, total=   0.8s\n",
      "[CV] C=0.01 ..........................................................\n",
      "[CV] ................. C=0.01, score=0.8786578657865787, total=   0.9s\n",
      "[CV] C=0.01 ..........................................................\n",
      "[CV] ................. C=0.01, score=0.8911991199119912, total=   1.0s\n",
      "[CV] C=0.01 ..........................................................\n",
      "[CV] ................. C=0.01, score=0.8798679867986798, total=   1.2s\n",
      "[CV] C=0.01 ..........................................................\n",
      "[CV] ................. C=0.01, score=0.8866886688668867, total=   1.4s\n",
      "[CV] C=0.01 ..........................................................\n",
      "[CV] ................. C=0.01, score=0.8891089108910891, total=   1.8s\n",
      "[CV] C=1 .............................................................\n",
      "[CV] .................... C=1, score=0.9207920792079208, total=   0.3s\n",
      "[CV] C=1 .............................................................\n",
      "[CV] .................... C=1, score=0.9207920792079208, total=   0.5s\n",
      "[CV] C=1 .............................................................\n",
      "[CV] .................... C=1, score=0.9267326732673268, total=   0.6s\n",
      "[CV] C=1 .............................................................\n",
      "[CV] .................... C=1, score=0.9242024202420241, total=   1.0s\n",
      "[CV] C=1 .............................................................\n",
      "[CV] .................... C=1, score=0.9121012101210121, total=   1.5s\n",
      "[CV] C=1 .............................................................\n",
      "[CV] .................... C=1, score=0.9209020902090209, total=   1.6s\n",
      "[CV] C=1 .............................................................\n",
      "[CV] .................... C=1, score=0.9214521452145215, total=   2.7s\n",
      "[CV] C=1 .............................................................\n",
      "[CV] .................... C=1, score=0.9163916391639164, total=   1.9s\n",
      "[CV] C=1 .............................................................\n",
      "[CV] .................... C=1, score=0.9209020902090209, total=   2.2s\n",
      "[CV] C=1 .............................................................\n",
      "[CV] .................... C=1, score=0.9189218921892189, total=   2.6s\n",
      "[CV] C=100 ...........................................................\n",
      "[CV] .................. C=100, score=0.9007700770077007, total=   0.6s\n",
      "[CV] C=100 ...........................................................\n",
      "[CV] .................. C=100, score=0.8973597359735973, total=   1.6s\n",
      "[CV] C=100 ...........................................................\n",
      "[CV] .................. C=100, score=0.8903190319031903, total=   2.2s\n",
      "[CV] C=100 ...........................................................\n",
      "[CV] .................. C=100, score=0.8840484048404841, total=   5.1s\n",
      "[CV] C=100 ...........................................................\n",
      "[CV] .................. C=100, score=0.8705170517051705, total=   6.7s\n",
      "[CV] C=100 ...........................................................\n",
      "[CV] .................. C=100, score=0.8743674367436743, total=   7.0s\n",
      "[CV] C=100 ...........................................................\n",
      "[CV] .................. C=100, score=0.8849284928492849, total=  11.8s\n",
      "[CV] C=100 ...........................................................\n",
      "[CV] .................. C=100, score=0.8850385038503851, total=   9.1s\n",
      "[CV] C=100 ...........................................................\n",
      "[CV] .................. C=100, score=0.8896589658965897, total=   5.6s\n",
      "[CV] C=100 ...........................................................\n",
      "[CV] .................. C=100, score=0.8845984598459846, total=   9.2s\n"
     ]
    },
    {
     "name": "stderr",
     "output_type": "stream",
     "text": [
      "[Parallel(n_jobs=1)]: Done  40 out of  40 | elapsed:  1.8min finished\n"
     ]
    },
    {
     "data": {
      "text/plain": [
       "GridSearchCV(cv=<generator object TimeSeriesSplit.split at 0x0000016F30FF3830>,\n",
       "       error_score='raise',\n",
       "       estimator=LogisticRegression(C=1.0, class_weight=None, dual=False, fit_intercept=True,\n",
       "          intercept_scaling=1, max_iter=200, multi_class='ovr', n_jobs=1,\n",
       "          penalty='l1', random_state=33, solver='liblinear', tol=0.0001,\n",
       "          verbose=0, warm_start=False),\n",
       "       fit_params=None, iid=True, n_jobs=1,\n",
       "       param_grid=[{'C': [0.0001, 0.01, 1, 100]}], pre_dispatch='2*n_jobs',\n",
       "       refit=True, return_train_score='warn', scoring='accuracy',\n",
       "       verbose=3)"
      ]
     },
     "execution_count": 16,
     "metadata": {},
     "output_type": "execute_result"
    }
   ],
   "source": [
    "BOW_grid.fit(BOW_train[:100000],train['Score'][:100000])"
   ]
  },
  {
   "cell_type": "code",
   "execution_count": 17,
   "metadata": {},
   "outputs": [
    {
     "data": {
      "text/plain": [
       "LogisticRegression(C=1, class_weight=None, dual=False, fit_intercept=True,\n",
       "          intercept_scaling=1, max_iter=200, multi_class='ovr', n_jobs=1,\n",
       "          penalty='l1', random_state=33, solver='liblinear', tol=0.0001,\n",
       "          verbose=0, warm_start=False)"
      ]
     },
     "execution_count": 17,
     "metadata": {},
     "output_type": "execute_result"
    }
   ],
   "source": [
    "BOW_grid.best_estimator_"
   ]
  },
  {
   "cell_type": "code",
   "execution_count": 18,
   "metadata": {},
   "outputs": [
    {
     "data": {
      "text/plain": [
       "0.9203190319031903"
      ]
     },
     "execution_count": 18,
     "metadata": {},
     "output_type": "execute_result"
    }
   ],
   "source": [
    "BOW_grid.best_score_"
   ]
  },
  {
   "cell_type": "code",
   "execution_count": 142,
   "metadata": {},
   "outputs": [],
   "source": [
    "#Random Search\n",
    "BOW_rand=random_s(BOW_train,'l1')"
   ]
  },
  {
   "cell_type": "code",
   "execution_count": 143,
   "metadata": {
    "scrolled": false
   },
   "outputs": [
    {
     "name": "stdout",
     "output_type": "stream",
     "text": [
      "Fitting 10 folds for each of 1 candidates, totalling 10 fits\n",
      "[CV] C=68.37288079050771 .............................................\n",
      "[CV] .............................. C=68.37288079050771, total=   2.8s\n"
     ]
    },
    {
     "name": "stderr",
     "output_type": "stream",
     "text": [
      "[Parallel(n_jobs=1)]: Done   1 out of   1 | elapsed:    3.0s remaining:    0.0s\n"
     ]
    },
    {
     "name": "stdout",
     "output_type": "stream",
     "text": [
      "[CV] C=68.37288079050771 .............................................\n",
      "[CV] .............................. C=68.37288079050771, total=   8.0s\n",
      "[CV] C=68.37288079050771 .............................................\n",
      "[CV] .............................. C=68.37288079050771, total=   6.4s\n",
      "[CV] C=68.37288079050771 .............................................\n",
      "[CV] .............................. C=68.37288079050771, total=   5.8s\n",
      "[CV] C=68.37288079050771 .............................................\n",
      "[CV] .............................. C=68.37288079050771, total=  12.8s\n",
      "[CV] C=68.37288079050771 .............................................\n",
      "[CV] .............................. C=68.37288079050771, total=   9.4s\n",
      "[CV] C=68.37288079050771 .............................................\n",
      "[CV] .............................. C=68.37288079050771, total=  13.7s\n",
      "[CV] C=68.37288079050771 .............................................\n",
      "[CV] .............................. C=68.37288079050771, total=  13.6s\n",
      "[CV] C=68.37288079050771 .............................................\n",
      "[CV] .............................. C=68.37288079050771, total=  17.0s\n",
      "[CV] C=68.37288079050771 .............................................\n",
      "[CV] .............................. C=68.37288079050771, total=  17.1s\n"
     ]
    },
    {
     "name": "stderr",
     "output_type": "stream",
     "text": [
      "[Parallel(n_jobs=1)]: Done  10 out of  10 | elapsed:  2.0min finished\n"
     ]
    },
    {
     "data": {
      "text/plain": [
       "GridSearchCV(cv=<generator object TimeSeriesSplit.split at 0x0000026A41B4B3B8>,\n",
       "       error_score='raise',\n",
       "       estimator=LogisticRegression(C=1.0, class_weight=None, dual=False, fit_intercept=True,\n",
       "          intercept_scaling=1, max_iter=100, multi_class='ovr', n_jobs=1,\n",
       "          penalty='l1', random_state=33, solver='liblinear', tol=0.0001,\n",
       "          verbose=0, warm_start=False),\n",
       "       fit_params=None, iid=True, n_jobs=1,\n",
       "       param_grid={'C': [68.37288079050771]}, pre_dispatch='2*n_jobs',\n",
       "       refit=True, return_train_score='warn', scoring='accuracy',\n",
       "       verbose=2)"
      ]
     },
     "execution_count": 143,
     "metadata": {},
     "output_type": "execute_result"
    }
   ],
   "source": [
    "BOW_rand.fit(BOW_train,train['Score'])"
   ]
  },
  {
   "cell_type": "code",
   "execution_count": 144,
   "metadata": {},
   "outputs": [
    {
     "data": {
      "text/plain": [
       "LogisticRegression(C=68.37288079050771, class_weight=None, dual=False,\n",
       "          fit_intercept=True, intercept_scaling=1, max_iter=100,\n",
       "          multi_class='ovr', n_jobs=1, penalty='l1', random_state=33,\n",
       "          solver='liblinear', tol=0.0001, verbose=0, warm_start=False)"
      ]
     },
     "execution_count": 144,
     "metadata": {},
     "output_type": "execute_result"
    }
   ],
   "source": [
    "BOW_rand.best_estimator_"
   ]
  },
  {
   "cell_type": "code",
   "execution_count": 145,
   "metadata": {},
   "outputs": [
    {
     "data": {
      "text/plain": [
       "0.8910330542849746"
      ]
     },
     "execution_count": 145,
     "metadata": {},
     "output_type": "execute_result"
    }
   ],
   "source": [
    "BOW_rand.best_score_"
   ]
  },
  {
   "cell_type": "code",
   "execution_count": 146,
   "metadata": {},
   "outputs": [],
   "source": [
    "LR1=LogisticRegression(C=68.37288079050771, class_weight='balanced', dual=False,\n",
    "          fit_intercept=True, intercept_scaling=1, max_iter=100,\n",
    "          multi_class='ovr', n_jobs=1, penalty='l1', random_state=None,\n",
    "          solver='liblinear', tol=0.0001, verbose=0, warm_start=False)"
   ]
  },
  {
   "cell_type": "code",
   "execution_count": 147,
   "metadata": {},
   "outputs": [
    {
     "data": {
      "text/plain": [
       "LogisticRegression(C=68.37288079050771, class_weight='balanced', dual=False,\n",
       "          fit_intercept=True, intercept_scaling=1, max_iter=100,\n",
       "          multi_class='ovr', n_jobs=1, penalty='l1', random_state=None,\n",
       "          solver='liblinear', tol=0.0001, verbose=0, warm_start=False)"
      ]
     },
     "execution_count": 147,
     "metadata": {},
     "output_type": "execute_result"
    }
   ],
   "source": [
    "LR1.fit(std_BOW_train,train['Score'])"
   ]
  },
  {
   "cell_type": "code",
   "execution_count": 148,
   "metadata": {},
   "outputs": [],
   "source": [
    "pred1=LR1.predict(std_BOW_test)"
   ]
  },
  {
   "cell_type": "code",
   "execution_count": 149,
   "metadata": {},
   "outputs": [
    {
     "name": "stdout",
     "output_type": "stream",
     "text": [
      "86.33788249077811\n"
     ]
    }
   ],
   "source": [
    "acc=accuracy_score(pred1,test['Score'])\n",
    "print(acc*100)"
   ]
  },
  {
   "cell_type": "markdown",
   "metadata": {},
   "source": [
    "### Analysis of Sparsity and Error on L1 regulariser with increase in Lambda"
   ]
  },
  {
   "cell_type": "markdown",
   "metadata": {},
   "source": [
    "Here we are going to analyse 55207 dimensional data with different values of Lambda and we are going to analyse how increase in hyperparameter impacts the model."
   ]
  },
  {
   "cell_type": "code",
   "execution_count": 34,
   "metadata": {},
   "outputs": [
    {
     "name": "stdout",
     "output_type": "stream",
     "text": [
      "\n",
      "*************************************************************************************************************\n",
      "\n",
      " lambda = 0.01\n",
      "\n",
      " Number of non zero elements = 40702\n",
      "\n",
      " Sparisty = 26.273842085242816\n",
      "\n",
      " Error = 0.043197865997175566\n",
      "\n",
      " Score = 0.9568021340028244\n",
      "\n",
      "*************************************************************************************************************\n",
      "\n",
      " lambda = 0.1\n",
      "\n",
      " Number of non zero elements = 55205\n",
      "\n",
      " Sparisty = 0.003622729001757024\n",
      "\n",
      " Error = 0.04872509022438409\n",
      "\n",
      " Score = 0.9512749097756159\n",
      "\n",
      "*************************************************************************************************************\n",
      "\n",
      " lambda = 1.0\n",
      "\n",
      " Number of non zero elements = 54509\n",
      "\n",
      " Sparisty = 1.2643324216132013\n",
      "\n",
      " Error = 0.0447944453161776\n",
      "\n",
      " Score = 0.9552055546838224\n",
      "\n",
      "*************************************************************************************************************\n",
      "\n",
      " lambda = 10.0\n",
      "\n",
      " Number of non zero elements = 26761\n",
      "\n",
      " Sparisty = 51.526074591990145\n",
      "\n",
      " Error = 0.04410403263769025\n",
      "\n",
      " Score = 0.9558959673623098\n",
      "\n",
      "*************************************************************************************************************\n",
      "\n",
      " lambda = 100.0\n",
      "\n",
      " Number of non zero elements = 12183\n",
      "\n",
      " Sparisty = 77.93214628579709\n",
      "\n",
      " Error = 0.05647261886081911\n",
      "\n",
      " Score = 0.9435273811391809\n"
     ]
    }
   ],
   "source": [
    "l1_analyser(std_BOW_train,train['Score'])"
   ]
  },
  {
   "cell_type": "markdown",
   "metadata": {},
   "source": [
    "##### Inference : As expected, the sparsity and error increases with increase in Lambda with reduction in train accuracy.\n"
   ]
  },
  {
   "cell_type": "markdown",
   "metadata": {},
   "source": [
    "## Performace of Logistic regression model with BOW_unigram:"
   ]
  },
  {
   "cell_type": "markdown",
   "metadata": {},
   "source": [
    "#### Performance with L2 regulariser"
   ]
  },
  {
   "cell_type": "code",
   "execution_count": 150,
   "metadata": {},
   "outputs": [
    {
     "name": "stdout",
     "output_type": "stream",
     "text": [
      "\n",
      " ******************************************************************************* \n",
      "\n",
      "TNR value is 0.740632042345789\n",
      "FNR value is 0.259367957654211\n",
      "FPR value is 0.11469446600865033\n",
      "TPR value is 0.8853055339913497\n",
      "\n",
      " ******************************************************************************* \n",
      "\n",
      "Confusion Matrix is :\n",
      "[[14132  4949]\n",
      " [10342 79828]]\n",
      "\n",
      " ******************************************************************************* \n",
      "\n",
      "Precision is 0.8853055339913497\n",
      "Recall value is 0.941623317645116\n",
      "F1 Score is 0.912596386334147\n",
      "\n",
      " ******************************************************************************* \n",
      "\n",
      "Heat Map of the Confusion matrix is\n",
      "\n",
      " ******************************************************************************* \n",
      "\n"
     ]
    },
    {
     "data": {
      "image/png": "[encoded data removed]",
      "text/plain": [
       "<Figure size 432x288 with 2 Axes>"
      ]
     },
     "metadata": {},
     "output_type": "display_data"
    }
   ],
   "source": [
    "CM(test['Score'],pred)"
   ]
  },
  {
   "cell_type": "markdown",
   "metadata": {},
   "source": [
    "#### Performance with L1 regulariser"
   ]
  },
  {
   "cell_type": "code",
   "execution_count": 151,
   "metadata": {},
   "outputs": [
    {
     "name": "stdout",
     "output_type": "stream",
     "text": [
      "\n",
      " ******************************************************************************* \n",
      "\n",
      "TNR value is 0.7449295110319165\n",
      "FNR value is 0.25507048896808343\n",
      "FPR value is 0.11155594987246313\n",
      "TPR value is 0.8884440501275369\n",
      "\n",
      " ******************************************************************************* \n",
      "\n",
      "Confusion Matrix is :\n",
      "[[14214  4867]\n",
      " [10059 80111]]\n",
      "\n",
      " ******************************************************************************* \n",
      "\n",
      "Precision is 0.8884440501275369\n",
      "Recall value is 0.9427263527030526\n",
      "F1 Score is 0.9147806426564963\n",
      "\n",
      " ******************************************************************************* \n",
      "\n",
      "Heat Map of the Confusion matrix is\n",
      "\n",
      " ******************************************************************************* \n",
      "\n"
     ]
    },
    {
     "data": {
      "image/png": "[encoded data removed]",
      "text/plain": [
       "<Figure size 432x288 with 2 Axes>"
      ]
     },
     "metadata": {},
     "output_type": "display_data"
    }
   ],
   "source": [
    "CM(test['Score'],pred1)"
   ]
  },
  {
   "cell_type": "markdown",
   "metadata": {},
   "source": [
    "## Feature Importance:"
   ]
  },
  {
   "cell_type": "code",
   "execution_count": 24,
   "metadata": {},
   "outputs": [
    {
     "data": {
      "text/plain": [
       "array([[0.01068853, 0.10985958, 0.        , ..., 0.00480112, 0.01502263,\n",
       "        0.00179289]])"
      ]
     },
     "execution_count": 24,
     "metadata": {},
     "output_type": "execute_result"
    }
   ],
   "source": [
    "weights= LR1.coef_\n",
    "weights"
   ]
  },
  {
   "cell_type": "code",
   "execution_count": 115,
   "metadata": {
    "scrolled": true
   },
   "outputs": [],
   "source": [
    "# Checking Multicolinearity\n",
    "new=BOW_train\n",
    "BOW_train.data+=0.001"
   ]
  },
  {
   "cell_type": "code",
   "execution_count": 116,
   "metadata": {},
   "outputs": [
    {
     "data": {
      "text/plain": [
       "LogisticRegression(C=16.914235934301406, class_weight=None, dual=False,\n",
       "          fit_intercept=True, intercept_scaling=1, max_iter=100,\n",
       "          multi_class='ovr', n_jobs=1, penalty='l1', random_state=None,\n",
       "          solver='liblinear', tol=0.0001, verbose=0, warm_start=False)"
      ]
     },
     "execution_count": 116,
     "metadata": {},
     "output_type": "execute_result"
    }
   ],
   "source": [
    "LR1.fit(BOW_train,train['Score'])"
   ]
  },
  {
   "cell_type": "code",
   "execution_count": 121,
   "metadata": {},
   "outputs": [
    {
     "data": {
      "text/plain": [
       "array([[0.        , 1.13265624, 0.        , ..., 0.        , 0.52035827,\n",
       "        0.        ]])"
      ]
     },
     "execution_count": 121,
     "metadata": {},
     "output_type": "execute_result"
    }
   ],
   "source": [
    "BOW_train=new\n",
    "perturbated_weight=LR1.coef_\n",
    "perturbated_weight"
   ]
  },
  {
   "cell_type": "code",
   "execution_count": 122,
   "metadata": {},
   "outputs": [],
   "source": [
    "length = weights.shape[1]"
   ]
  },
  {
   "cell_type": "code",
   "execution_count": 123,
   "metadata": {},
   "outputs": [
    {
     "name": "stdout",
     "output_type": "stream",
     "text": [
      "\n",
      " The Euclidean distance between weight vectors after perturbation is 413.3607592416713\n",
      "\n",
      " The Cosine similarity between weight vectors after perturbation is 0.3647590350045299\n",
      "\n",
      " 26555 number of features out of 55207 are multicollinear as they vary by more than 20% after perturbation\n"
     ]
    }
   ],
   "source": [
    "isMultiColinear(weights,perturbated_weight,length)"
   ]
  },
  {
   "cell_type": "markdown",
   "metadata": {},
   "source": [
    "# 2.) BOW - Bi-gram Vectorization:"
   ]
  },
  {
   "cell_type": "code",
   "execution_count": 152,
   "metadata": {},
   "outputs": [
    {
     "data": {
      "text/plain": [
       "CountVectorizer(analyzer='word', binary=False, decode_error='strict',\n",
       "        dtype='float', encoding='utf-8', input='content', lowercase=True,\n",
       "        max_df=1.0, max_features=None, min_df=1, ngram_range=(1, 2),\n",
       "        preprocessor=None, stop_words=None, strip_accents=None,\n",
       "        token_pattern='(?u)\\\\b\\\\w\\\\w+\\\\b', tokenizer=None, vocabulary=None)"
      ]
     },
     "execution_count": 152,
     "metadata": {},
     "output_type": "execute_result"
    }
   ],
   "source": [
    "BOW1=CountVectorizer(ngram_range=(1,2),dtype='float')\n",
    "BOW1.fit(train['New'])"
   ]
  },
  {
   "cell_type": "code",
   "execution_count": 153,
   "metadata": {},
   "outputs": [],
   "source": [
    "BOW1_train= BOW1.transform(train['New'])\n",
    "BOW1_test=BOW1.transform(test['New'])"
   ]
  },
  {
   "cell_type": "code",
   "execution_count": 19,
   "metadata": {},
   "outputs": [
    {
     "data": {
      "text/plain": [
       "(254920, 2184164)"
      ]
     },
     "execution_count": 19,
     "metadata": {},
     "output_type": "execute_result"
    }
   ],
   "source": [
    "BOW1_train.shape"
   ]
  },
  {
   "cell_type": "code",
   "execution_count": 154,
   "metadata": {},
   "outputs": [],
   "source": [
    "scaler=StandardScaler(with_mean=False)\n",
    "std_BOW1_train=scaler.fit_transform(BOW1_train)\n",
    "std_BOW1_test=scaler.transform(BOW1_test)"
   ]
  },
  {
   "cell_type": "markdown",
   "metadata": {},
   "source": [
    "### L2 Regularisation :"
   ]
  },
  {
   "cell_type": "code",
   "execution_count": 20,
   "metadata": {},
   "outputs": [],
   "source": [
    "BOW1_grid=grid_s(BOW1_train[:100000],'l2')"
   ]
  },
  {
   "cell_type": "code",
   "execution_count": 23,
   "metadata": {},
   "outputs": [
    {
     "name": "stdout",
     "output_type": "stream",
     "text": [
      "Fitting 10 folds for each of 5 candidates, totalling 50 fits\n"
     ]
    },
    {
     "name": "stderr",
     "output_type": "stream",
     "text": [
      "[Parallel(n_jobs=1)]: Done  50 out of  50 | elapsed: 22.3min finished\n"
     ]
    },
    {
     "data": {
      "text/plain": [
       "GridSearchCV(cv=<generator object TimeSeriesSplit.split at 0x0000020CF8E3B938>,\n",
       "       error_score='raise',\n",
       "       estimator=LogisticRegression(C=1.0, class_weight=None, dual=False, fit_intercept=True,\n",
       "          intercept_scaling=1, max_iter=100, multi_class='ovr', n_jobs=1,\n",
       "          penalty='l2', random_state=None, solver='liblinear', tol=0.0001,\n",
       "          verbose=0, warm_start=False),\n",
       "       fit_params=None, iid=True, n_jobs=1,\n",
       "       param_grid=[{'C': [0.0001, 0.01, 1, 100, 10000]}],\n",
       "       pre_dispatch='2*n_jobs', refit=True, return_train_score='warn',\n",
       "       scoring='accuracy', verbose=1)"
      ]
     },
     "execution_count": 23,
     "metadata": {},
     "output_type": "execute_result"
    }
   ],
   "source": [
    "BOW1_grid.fit(BOW1_train[0:100000],train['Score'][:100000])"
   ]
  },
  {
   "cell_type": "code",
   "execution_count": 24,
   "metadata": {},
   "outputs": [
    {
     "data": {
      "text/plain": [
       "LogisticRegression(C=1, class_weight=None, dual=False, fit_intercept=True,\n",
       "          intercept_scaling=1, max_iter=100, multi_class='ovr', n_jobs=1,\n",
       "          penalty='l2', random_state=None, solver='liblinear', tol=0.0001,\n",
       "          verbose=0, warm_start=False)"
      ]
     },
     "execution_count": 24,
     "metadata": {},
     "output_type": "execute_result"
    }
   ],
   "source": [
    "BOW1_grid.best_estimator_"
   ]
  },
  {
   "cell_type": "code",
   "execution_count": 25,
   "metadata": {},
   "outputs": [
    {
     "data": {
      "text/plain": [
       "0.9275577557755775"
      ]
     },
     "execution_count": 25,
     "metadata": {},
     "output_type": "execute_result"
    }
   ],
   "source": [
    "BOW1_grid.best_score_"
   ]
  },
  {
   "cell_type": "code",
   "execution_count": 157,
   "metadata": {},
   "outputs": [],
   "source": [
    "#Random Search\n",
    "BOW_rand=random_s(BOW1_train[:100000],'l2')"
   ]
  },
  {
   "cell_type": "code",
   "execution_count": 158,
   "metadata": {},
   "outputs": [
    {
     "name": "stdout",
     "output_type": "stream",
     "text": [
      "Fitting 10 folds for each of 1 candidates, totalling 10 fits\n",
      "[CV] C=58.72437676652644 .............................................\n",
      "[CV] .............................. C=58.72437676652644, total=   8.0s\n"
     ]
    },
    {
     "name": "stderr",
     "output_type": "stream",
     "text": [
      "[Parallel(n_jobs=1)]: Done   1 out of   1 | elapsed:    8.1s remaining:    0.0s\n"
     ]
    },
    {
     "name": "stdout",
     "output_type": "stream",
     "text": [
      "[CV] C=58.72437676652644 .............................................\n",
      "[CV] .............................. C=58.72437676652644, total=  11.9s\n",
      "[CV] C=58.72437676652644 .............................................\n",
      "[CV] .............................. C=58.72437676652644, total=  14.9s\n",
      "[CV] C=58.72437676652644 .............................................\n",
      "[CV] .............................. C=58.72437676652644, total=  19.3s\n",
      "[CV] C=58.72437676652644 .............................................\n",
      "[CV] .............................. C=58.72437676652644, total=  22.1s\n",
      "[CV] C=58.72437676652644 .............................................\n",
      "[CV] .............................. C=58.72437676652644, total=  30.0s\n",
      "[CV] C=58.72437676652644 .............................................\n",
      "[CV] .............................. C=58.72437676652644, total=  45.9s\n",
      "[CV] C=58.72437676652644 .............................................\n",
      "[CV] .............................. C=58.72437676652644, total=  50.6s\n",
      "[CV] C=58.72437676652644 .............................................\n",
      "[CV] .............................. C=58.72437676652644, total= 1.1min\n",
      "[CV] C=58.72437676652644 .............................................\n",
      "[CV] .............................. C=58.72437676652644, total= 1.6min\n"
     ]
    },
    {
     "name": "stderr",
     "output_type": "stream",
     "text": [
      "[Parallel(n_jobs=1)]: Done  10 out of  10 | elapsed:  6.2min finished\n"
     ]
    },
    {
     "data": {
      "text/plain": [
       "GridSearchCV(cv=<generator object TimeSeriesSplit.split at 0x0000026A3DEC9EB8>,\n",
       "       error_score='raise',\n",
       "       estimator=LogisticRegression(C=1.0, class_weight=None, dual=False, fit_intercept=True,\n",
       "          intercept_scaling=1, max_iter=100, multi_class='ovr', n_jobs=1,\n",
       "          penalty='l2', random_state=33, solver='liblinear', tol=0.0001,\n",
       "          verbose=0, warm_start=False),\n",
       "       fit_params=None, iid=True, n_jobs=1,\n",
       "       param_grid={'C': [58.72437676652644]}, pre_dispatch='2*n_jobs',\n",
       "       refit=True, return_train_score='warn', scoring='accuracy',\n",
       "       verbose=2)"
      ]
     },
     "execution_count": 158,
     "metadata": {},
     "output_type": "execute_result"
    }
   ],
   "source": [
    "BOW_rand.fit(BOW1_train[:100000],train['Score'][:100000])"
   ]
  },
  {
   "cell_type": "code",
   "execution_count": 159,
   "metadata": {},
   "outputs": [
    {
     "data": {
      "text/plain": [
       "LogisticRegression(C=58.72437676652644, class_weight=None, dual=False,\n",
       "          fit_intercept=True, intercept_scaling=1, max_iter=100,\n",
       "          multi_class='ovr', n_jobs=1, penalty='l2', random_state=33,\n",
       "          solver='liblinear', tol=0.0001, verbose=0, warm_start=False)"
      ]
     },
     "execution_count": 159,
     "metadata": {},
     "output_type": "execute_result"
    }
   ],
   "source": [
    "BOW_rand.best_estimator_"
   ]
  },
  {
   "cell_type": "code",
   "execution_count": 160,
   "metadata": {},
   "outputs": [
    {
     "data": {
      "text/plain": [
       "0.9272167216721672"
      ]
     },
     "execution_count": 160,
     "metadata": {},
     "output_type": "execute_result"
    }
   ],
   "source": [
    "BOW_rand.best_score_"
   ]
  },
  {
   "cell_type": "code",
   "execution_count": 161,
   "metadata": {},
   "outputs": [],
   "source": [
    "lr2= LogisticRegression(C=58.72437676652644, class_weight='balanced', dual=False,\n",
    "          fit_intercept=True, intercept_scaling=1, max_iter=100,\n",
    "          multi_class='ovr', n_jobs=1, penalty='l2', random_state=None,\n",
    "          solver='liblinear', tol=0.0001, verbose=0, warm_start=False)\n"
   ]
  },
  {
   "cell_type": "code",
   "execution_count": 162,
   "metadata": {},
   "outputs": [
    {
     "data": {
      "text/plain": [
       "LogisticRegression(C=58.72437676652644, class_weight='balanced', dual=False,\n",
       "          fit_intercept=True, intercept_scaling=1, max_iter=100,\n",
       "          multi_class='ovr', n_jobs=1, penalty='l2', random_state=None,\n",
       "          solver='liblinear', tol=0.0001, verbose=0, warm_start=False)"
      ]
     },
     "execution_count": 162,
     "metadata": {},
     "output_type": "execute_result"
    }
   ],
   "source": [
    "lr2.fit(std_BOW1_train,train['Score'])"
   ]
  },
  {
   "cell_type": "code",
   "execution_count": 163,
   "metadata": {},
   "outputs": [],
   "source": [
    "pred=lr2.predict(std_BOW1_test)"
   ]
  },
  {
   "cell_type": "code",
   "execution_count": 164,
   "metadata": {},
   "outputs": [
    {
     "name": "stdout",
     "output_type": "stream",
     "text": [
      "88.81932430824432\n"
     ]
    }
   ],
   "source": [
    "acc=accuracy_score(pred,test['Score'])\n",
    "print(acc*100)"
   ]
  },
  {
   "cell_type": "markdown",
   "metadata": {},
   "source": [
    "### L1 Regularisation :"
   ]
  },
  {
   "cell_type": "code",
   "execution_count": 40,
   "metadata": {},
   "outputs": [],
   "source": [
    "BOW1_grid1=grid_s(BOW1_train[:100000],'l1')"
   ]
  },
  {
   "cell_type": "code",
   "execution_count": 42,
   "metadata": {},
   "outputs": [
    {
     "name": "stdout",
     "output_type": "stream",
     "text": [
      "Fitting 10 folds for each of 5 candidates, totalling 50 fits\n"
     ]
    },
    {
     "name": "stderr",
     "output_type": "stream",
     "text": [
      "[Parallel(n_jobs=1)]: Done  50 out of  50 | elapsed:  7.3min finished\n"
     ]
    },
    {
     "data": {
      "text/plain": [
       "GridSearchCV(cv=<generator object TimeSeriesSplit.split at 0x000001D7D045A518>,\n",
       "       error_score='raise',\n",
       "       estimator=LogisticRegression(C=1.0, class_weight=None, dual=False, fit_intercept=True,\n",
       "          intercept_scaling=1, max_iter=100, multi_class='ovr', n_jobs=1,\n",
       "          penalty='l2', random_state=None, solver='liblinear', tol=0.0001,\n",
       "          verbose=0, warm_start=False),\n",
       "       fit_params=None, iid=True, n_jobs=1,\n",
       "       param_grid=[{'C': [0.0001, 0.01, 1, 100, 10000], 'penalty': ['l1']}],\n",
       "       pre_dispatch='2*n_jobs', refit=True, return_train_score='warn',\n",
       "       scoring='accuracy', verbose=1)"
      ]
     },
     "execution_count": 42,
     "metadata": {},
     "output_type": "execute_result"
    }
   ],
   "source": [
    "BOW1_grid1.fit(BOW1_train[:100000],train['Score'][:100000])"
   ]
  },
  {
   "cell_type": "code",
   "execution_count": 44,
   "metadata": {},
   "outputs": [
    {
     "data": {
      "text/plain": [
       "LogisticRegression(C=1, class_weight=None, dual=False, fit_intercept=True,\n",
       "          intercept_scaling=1, max_iter=100, multi_class='ovr', n_jobs=1,\n",
       "          penalty='l1', random_state=None, solver='liblinear', tol=0.0001,\n",
       "          verbose=0, warm_start=False)"
      ]
     },
     "execution_count": 44,
     "metadata": {},
     "output_type": "execute_result"
    }
   ],
   "source": [
    "BOW1_grid1.best_estimator_"
   ]
  },
  {
   "cell_type": "code",
   "execution_count": 45,
   "metadata": {},
   "outputs": [
    {
     "data": {
      "text/plain": [
       "0.9237623762376238"
      ]
     },
     "execution_count": 45,
     "metadata": {},
     "output_type": "execute_result"
    }
   ],
   "source": [
    "BOW1_grid1.best_score_"
   ]
  },
  {
   "cell_type": "code",
   "execution_count": 165,
   "metadata": {},
   "outputs": [],
   "source": [
    "#Random Search\n",
    "BOW1_rand1=random_s(BOW1_train[:100000],'l1')"
   ]
  },
  {
   "cell_type": "code",
   "execution_count": 166,
   "metadata": {},
   "outputs": [
    {
     "name": "stdout",
     "output_type": "stream",
     "text": [
      "Fitting 10 folds for each of 1 candidates, totalling 10 fits\n",
      "[CV] C=11.972567953402924 ............................................\n",
      "[CV] ............................. C=11.972567953402924, total=   8.2s\n"
     ]
    },
    {
     "name": "stderr",
     "output_type": "stream",
     "text": [
      "[Parallel(n_jobs=1)]: Done   1 out of   1 | elapsed:    8.3s remaining:    0.0s\n"
     ]
    },
    {
     "name": "stdout",
     "output_type": "stream",
     "text": [
      "[CV] C=11.972567953402924 ............................................\n",
      "[CV] ............................. C=11.972567953402924, total=  12.3s\n",
      "[CV] C=11.972567953402924 ............................................\n",
      "[CV] ............................. C=11.972567953402924, total=   8.5s\n",
      "[CV] C=11.972567953402924 ............................................\n",
      "[CV] ............................. C=11.972567953402924, total=  22.4s\n",
      "[CV] C=11.972567953402924 ............................................\n",
      "[CV] ............................. C=11.972567953402924, total=  30.2s\n",
      "[CV] C=11.972567953402924 ............................................\n",
      "[CV] ............................. C=11.972567953402924, total=  11.5s\n",
      "[CV] C=11.972567953402924 ............................................\n",
      "[CV] ............................. C=11.972567953402924, total=  10.7s\n",
      "[CV] C=11.972567953402924 ............................................\n",
      "[CV] ............................. C=11.972567953402924, total=  13.6s\n",
      "[CV] C=11.972567953402924 ............................................\n",
      "[CV] ............................. C=11.972567953402924, total=  54.3s\n",
      "[CV] C=11.972567953402924 ............................................\n",
      "[CV] ............................. C=11.972567953402924, total=  14.4s\n"
     ]
    },
    {
     "name": "stderr",
     "output_type": "stream",
     "text": [
      "[Parallel(n_jobs=1)]: Done  10 out of  10 | elapsed:  3.2min finished\n"
     ]
    },
    {
     "data": {
      "text/plain": [
       "GridSearchCV(cv=<generator object TimeSeriesSplit.split at 0x0000026A3DEC9A98>,\n",
       "       error_score='raise',\n",
       "       estimator=LogisticRegression(C=1.0, class_weight=None, dual=False, fit_intercept=True,\n",
       "          intercept_scaling=1, max_iter=100, multi_class='ovr', n_jobs=1,\n",
       "          penalty='l1', random_state=33, solver='liblinear', tol=0.0001,\n",
       "          verbose=0, warm_start=False),\n",
       "       fit_params=None, iid=True, n_jobs=1,\n",
       "       param_grid={'C': [11.972567953402924]}, pre_dispatch='2*n_jobs',\n",
       "       refit=True, return_train_score='warn', scoring='accuracy',\n",
       "       verbose=2)"
      ]
     },
     "execution_count": 166,
     "metadata": {},
     "output_type": "execute_result"
    }
   ],
   "source": [
    "BOW1_rand1.fit(BOW1_train[:100000],train['Score'][:100000])"
   ]
  },
  {
   "cell_type": "code",
   "execution_count": 167,
   "metadata": {},
   "outputs": [
    {
     "data": {
      "text/plain": [
       "LogisticRegression(C=11.972567953402924, class_weight=None, dual=False,\n",
       "          fit_intercept=True, intercept_scaling=1, max_iter=100,\n",
       "          multi_class='ovr', n_jobs=1, penalty='l1', random_state=33,\n",
       "          solver='liblinear', tol=0.0001, verbose=0, warm_start=False)"
      ]
     },
     "execution_count": 167,
     "metadata": {},
     "output_type": "execute_result"
    }
   ],
   "source": [
    "BOW1_rand1.best_estimator_"
   ]
  },
  {
   "cell_type": "code",
   "execution_count": 168,
   "metadata": {},
   "outputs": [
    {
     "data": {
      "text/plain": [
       "0.9190759075907591"
      ]
     },
     "execution_count": 168,
     "metadata": {},
     "output_type": "execute_result"
    }
   ],
   "source": [
    "BOW1_rand1.best_score_"
   ]
  },
  {
   "cell_type": "code",
   "execution_count": 169,
   "metadata": {},
   "outputs": [],
   "source": [
    "LR2=LogisticRegression(C=11.972567953402924, class_weight='balanced', dual=False,\n",
    "          fit_intercept=True, intercept_scaling=1, max_iter=100,\n",
    "          multi_class='ovr', n_jobs=1, penalty='l1', random_state=None,\n",
    "          solver='liblinear', tol=0.0001, verbose=0, warm_start=False)"
   ]
  },
  {
   "cell_type": "code",
   "execution_count": 170,
   "metadata": {},
   "outputs": [
    {
     "data": {
      "text/plain": [
       "LogisticRegression(C=11.972567953402924, class_weight='balanced', dual=False,\n",
       "          fit_intercept=True, intercept_scaling=1, max_iter=100,\n",
       "          multi_class='ovr', n_jobs=1, penalty='l1', random_state=None,\n",
       "          solver='liblinear', tol=0.0001, verbose=0, warm_start=False)"
      ]
     },
     "execution_count": 170,
     "metadata": {},
     "output_type": "execute_result"
    }
   ],
   "source": [
    "LR2.fit(std_BOW1_train,train['Score'])"
   ]
  },
  {
   "cell_type": "code",
   "execution_count": 171,
   "metadata": {},
   "outputs": [],
   "source": [
    "pred1=LR2.predict(std_BOW1_test)"
   ]
  },
  {
   "cell_type": "code",
   "execution_count": 172,
   "metadata": {},
   "outputs": [
    {
     "name": "stdout",
     "output_type": "stream",
     "text": [
      "91.03623765457525\n"
     ]
    }
   ],
   "source": [
    "acc=accuracy_score(pred1,test['Score'])\n",
    "print(acc*100)"
   ]
  },
  {
   "cell_type": "markdown",
   "metadata": {},
   "source": [
    "### Analysis of Sparsity and Error on L1 regulariser with increase in Lambda"
   ]
  },
  {
   "cell_type": "markdown",
   "metadata": {},
   "source": [
    "Here we are going to analyse 2184164 dimensional data with different values of Lambda and we are going to analyse how increase in hyperparameter impacts the model."
   ]
  },
  {
   "cell_type": "code",
   "execution_count": 21,
   "metadata": {},
   "outputs": [
    {
     "name": "stdout",
     "output_type": "stream",
     "text": [
      "\n",
      "*************************************************************************************************************\n",
      "\n",
      " lambda = 0.01\n",
      "\n",
      " Number of non zero elements = 327603\n",
      "\n",
      " Sparisty = 85.00098893672819\n",
      "\n",
      " Error = 2.3536795857537207e-05\n",
      "\n",
      " Score = 0.9999764632041425\n",
      "\n",
      "*************************************************************************************************************\n",
      "\n",
      " lambda = 0.013333333333333334\n",
      "\n",
      " Number of non zero elements = 193062\n",
      "\n",
      " Sparisty = 91.16082858246908\n",
      "\n",
      " Error = 2.3536795857537207e-05\n",
      "\n",
      " Score = 0.9999764632041425\n",
      "\n",
      "*************************************************************************************************************\n",
      "\n",
      " lambda = 0.02\n",
      "\n",
      " Number of non zero elements = 230972\n",
      "\n",
      " Sparisty = 89.42515305627234\n",
      "\n",
      " Error = 2.3536795857537207e-05\n",
      "\n",
      " Score = 0.9999764632041425\n",
      "\n",
      "*************************************************************************************************************\n",
      "\n",
      " lambda = 0.04\n",
      "\n",
      " Number of non zero elements = 205347\n",
      "\n",
      " Sparisty = 90.59837081830851\n",
      "\n",
      " Error = 2.3536795857537207e-05\n",
      "\n",
      " Score = 0.9999764632041425\n",
      "\n",
      "*************************************************************************************************************\n",
      "\n",
      " lambda = 0.1\n",
      "\n",
      " Number of non zero elements = 163469\n",
      "\n",
      " Sparisty = 92.5157176842032\n",
      "\n",
      " Error = 2.3536795857537207e-05\n",
      "\n",
      " Score = 0.9999764632041425\n"
     ]
    }
   ],
   "source": [
    "list1=[100,75,50,25,10]\n",
    "l1_analyser(std_BOW1_train,train['Score'],list1)"
   ]
  },
  {
   "cell_type": "markdown",
   "metadata": {},
   "source": [
    "##### Inference : As expected, the sparsity and error increases with increase in Lambda with reduction in train accuracy.\n"
   ]
  },
  {
   "cell_type": "markdown",
   "metadata": {},
   "source": [
    "## Feature Importance:"
   ]
  },
  {
   "cell_type": "code",
   "execution_count": 22,
   "metadata": {},
   "outputs": [
    {
     "data": {
      "text/plain": [
       "array([[ 0.00179506,  0.00179506,  0.0058284 , ..., -0.00010748,\n",
       "         0.00054234,  0.00054234]])"
      ]
     },
     "execution_count": 22,
     "metadata": {},
     "output_type": "execute_result"
    }
   ],
   "source": [
    "weights1= lr2.coef_\n",
    "weights1"
   ]
  },
  {
   "cell_type": "code",
   "execution_count": 23,
   "metadata": {
    "scrolled": true
   },
   "outputs": [],
   "source": [
    "# Calculating perturbated weight\n",
    "new1=BOW1_train\n",
    "BOW1_train.data+=0.001\n",
    "lr2.fit(BOW1_train,train['Score'])\n",
    "perturbated_weight1=lr2.coef_\n",
    "BOW1_train=new1"
   ]
  },
  {
   "cell_type": "code",
   "execution_count": 25,
   "metadata": {},
   "outputs": [
    {
     "name": "stdout",
     "output_type": "stream",
     "text": [
      "\n",
      " The Euclidean distance between weight vectors after perturbation is 152.4399119865029\n",
      "\n",
      " The Cosine similarity between weight vectors after perturbation is 0.4827248450833779\n",
      "\n",
      " 956765 number of features out of 2184164 are multicollinear as they vary by more than 20% after perturbation\n"
     ]
    }
   ],
   "source": [
    "isMultiColinear(weights1,perturbated_weight1,weights1.shape[1])"
   ]
  },
  {
   "cell_type": "markdown",
   "metadata": {},
   "source": [
    "## Performace of Logistic regression model with BOW_Bigram:"
   ]
  },
  {
   "cell_type": "markdown",
   "metadata": {},
   "source": [
    "#### Performance with L2 regulariser"
   ]
  },
  {
   "cell_type": "code",
   "execution_count": 173,
   "metadata": {},
   "outputs": [
    {
     "name": "stdout",
     "output_type": "stream",
     "text": [
      "\n",
      " ******************************************************************************* \n",
      "\n",
      "TNR value is 0.4801635134426917\n",
      "FNR value is 0.5198364865573083\n",
      "FPR value is 0.025463014306310303\n",
      "TPR value is 0.9745369856936897\n",
      "\n",
      " ******************************************************************************* \n",
      "\n",
      "Confusion Matrix is :\n",
      "[[ 9162  9919]\n",
      " [ 2296 87874]]\n",
      "\n",
      " ******************************************************************************* \n",
      "\n",
      "Precision is 0.9745369856936897\n",
      "Recall value is 0.8985714723957747\n",
      "F1 Score is 0.9350138059086097\n",
      "\n",
      " ******************************************************************************* \n",
      "\n",
      "Heat Map of the Confusion matrix is\n",
      "\n",
      " ******************************************************************************* \n",
      "\n"
     ]
    },
    {
     "data": {
      "image/png": "[encoded data removed]",
      "text/plain": [
       "<Figure size 432x288 with 2 Axes>"
      ]
     },
     "metadata": {},
     "output_type": "display_data"
    }
   ],
   "source": [
    "CM(test['Score'],pred)"
   ]
  },
  {
   "cell_type": "markdown",
   "metadata": {},
   "source": [
    "#### Performance with L1 regulariser"
   ]
  },
  {
   "cell_type": "code",
   "execution_count": 174,
   "metadata": {},
   "outputs": [
    {
     "name": "stdout",
     "output_type": "stream",
     "text": [
      "\n",
      " ******************************************************************************* \n",
      "\n",
      "TNR value is 0.6091923903359363\n",
      "FNR value is 0.39080760966406375\n",
      "FPR value is 0.02590662082732616\n",
      "TPR value is 0.9740933791726738\n",
      "\n",
      " ******************************************************************************* \n",
      "\n",
      "Confusion Matrix is :\n",
      "[[11624  7457]\n",
      " [ 2336 87834]]\n",
      "\n",
      " ******************************************************************************* \n",
      "\n",
      "Precision is 0.9740933791726738\n",
      "Recall value is 0.9217449706687935\n",
      "F1 Score is 0.9471964456139026\n",
      "\n",
      " ******************************************************************************* \n",
      "\n",
      "Heat Map of the Confusion matrix is\n",
      "\n",
      " ******************************************************************************* \n",
      "\n"
     ]
    },
    {
     "data": {
      "image/png": "[encoded data removed]",
      "text/plain": [
       "<Figure size 432x288 with 2 Axes>"
      ]
     },
     "metadata": {},
     "output_type": "display_data"
    }
   ],
   "source": [
    "CM(test['Score'],pred1)"
   ]
  },
  {
   "cell_type": "markdown",
   "metadata": {},
   "source": [
    "# 3.) TF-IDF Vectorization:"
   ]
  },
  {
   "cell_type": "code",
   "execution_count": 39,
   "metadata": {},
   "outputs": [
    {
     "data": {
      "text/plain": [
       "TfidfVectorizer(analyzer='word', binary=False, decode_error='strict',\n",
       "        dtype='float', encoding='utf-8', input='content', lowercase=True,\n",
       "        max_df=1.0, max_features=None, min_df=1, ngram_range=(1, 1),\n",
       "        norm='l2', preprocessor=None, smooth_idf=True, stop_words=None,\n",
       "        strip_accents=None, sublinear_tf=False,\n",
       "        token_pattern='(?u)\\\\b\\\\w\\\\w+\\\\b', tokenizer=None, use_idf=True,\n",
       "        vocabulary=None)"
      ]
     },
     "execution_count": 39,
     "metadata": {},
     "output_type": "execute_result"
    }
   ],
   "source": [
    "tfidf=TfidfVectorizer(dtype='float')\n",
    "tfidf.fit(train['New'])"
   ]
  },
  {
   "cell_type": "code",
   "execution_count": 40,
   "metadata": {},
   "outputs": [],
   "source": [
    "tfidf_train= tfidf.transform(train['New'])\n",
    "tfidf_test= tfidf.transform(test['New'])"
   ]
  },
  {
   "cell_type": "code",
   "execution_count": 24,
   "metadata": {},
   "outputs": [
    {
     "data": {
      "text/plain": [
       "(254920, 55207)"
      ]
     },
     "execution_count": 24,
     "metadata": {},
     "output_type": "execute_result"
    }
   ],
   "source": [
    "tfidf_train.shape"
   ]
  },
  {
   "cell_type": "code",
   "execution_count": 41,
   "metadata": {},
   "outputs": [],
   "source": [
    "scaler=StandardScaler(with_mean=False)\n",
    "std_tfidf_train=scaler.fit_transform(tfidf_train)\n",
    "std_tfidf_test=scaler.transform(tfidf_test)"
   ]
  },
  {
   "cell_type": "markdown",
   "metadata": {},
   "source": [
    "### L2 Regularisation :"
   ]
  },
  {
   "cell_type": "code",
   "execution_count": 26,
   "metadata": {},
   "outputs": [],
   "source": [
    "t_grid=grid_s(tfidf_train,'l2')"
   ]
  },
  {
   "cell_type": "code",
   "execution_count": 27,
   "metadata": {},
   "outputs": [
    {
     "name": "stdout",
     "output_type": "stream",
     "text": [
      "Fitting 10 folds for each of 4 candidates, totalling 40 fits\n"
     ]
    },
    {
     "name": "stderr",
     "output_type": "stream",
     "text": [
      "[Parallel(n_jobs=-1)]: Done  24 tasks      | elapsed:  1.8min\n",
      "[Parallel(n_jobs=-1)]: Done  40 out of  40 | elapsed:  6.5min finished\n"
     ]
    },
    {
     "data": {
      "text/plain": [
       "GridSearchCV(cv=<generator object TimeSeriesSplit.split at 0x00000210F4EAC938>,\n",
       "       error_score='raise',\n",
       "       estimator=LogisticRegression(C=1.0, class_weight=None, dual=False, fit_intercept=True,\n",
       "          intercept_scaling=1, max_iter=100, multi_class='ovr', n_jobs=1,\n",
       "          penalty='l2', random_state=None, solver='liblinear', tol=0.0001,\n",
       "          verbose=0, warm_start=False),\n",
       "       fit_params=None, iid=True, n_jobs=-1,\n",
       "       param_grid=[{'C': [0.0001, 0.01, 1, 100], 'penalty': ['l2'], 'solver': ['saga'], 'max_iter': [200]}],\n",
       "       pre_dispatch='2*n_jobs', refit=True, return_train_score='warn',\n",
       "       scoring='accuracy', verbose=3)"
      ]
     },
     "execution_count": 27,
     "metadata": {},
     "output_type": "execute_result"
    }
   ],
   "source": [
    "t_grid.fit(tfidf_train,train['Score'])"
   ]
  },
  {
   "cell_type": "code",
   "execution_count": 28,
   "metadata": {},
   "outputs": [
    {
     "data": {
      "text/plain": [
       "LogisticRegression(C=1, class_weight=None, dual=False, fit_intercept=True,\n",
       "          intercept_scaling=1, max_iter=200, multi_class='ovr', n_jobs=1,\n",
       "          penalty='l2', random_state=None, solver='saga', tol=0.0001,\n",
       "          verbose=0, warm_start=False)"
      ]
     },
     "execution_count": 28,
     "metadata": {},
     "output_type": "execute_result"
    }
   ],
   "source": [
    "t_grid.best_estimator_"
   ]
  },
  {
   "cell_type": "code",
   "execution_count": 29,
   "metadata": {},
   "outputs": [
    {
     "data": {
      "text/plain": [
       "0.9150556658323984"
      ]
     },
     "execution_count": 29,
     "metadata": {},
     "output_type": "execute_result"
    }
   ],
   "source": [
    "t_grid.best_score_"
   ]
  },
  {
   "cell_type": "code",
   "execution_count": 175,
   "metadata": {},
   "outputs": [],
   "source": [
    "#Random Search\n",
    "t_rand=random_s(tfidf_train,'l2')"
   ]
  },
  {
   "cell_type": "code",
   "execution_count": 176,
   "metadata": {},
   "outputs": [
    {
     "name": "stdout",
     "output_type": "stream",
     "text": [
      "Fitting 10 folds for each of 1 candidates, totalling 10 fits\n",
      "[CV] C=13.511474041595418 ............................................\n",
      "[CV] ............................. C=13.511474041595418, total=   1.2s\n"
     ]
    },
    {
     "name": "stderr",
     "output_type": "stream",
     "text": [
      "[Parallel(n_jobs=1)]: Done   1 out of   1 | elapsed:    1.4s remaining:    0.0s\n"
     ]
    },
    {
     "name": "stdout",
     "output_type": "stream",
     "text": [
      "[CV] C=13.511474041595418 ............................................\n",
      "[CV] ............................. C=13.511474041595418, total=   2.5s\n",
      "[CV] C=13.511474041595418 ............................................\n",
      "[CV] ............................. C=13.511474041595418, total=   4.4s\n",
      "[CV] C=13.511474041595418 ............................................\n",
      "[CV] ............................. C=13.511474041595418, total=   6.0s\n",
      "[CV] C=13.511474041595418 ............................................\n",
      "[CV] ............................. C=13.511474041595418, total=   7.3s\n",
      "[CV] C=13.511474041595418 ............................................\n",
      "[CV] ............................. C=13.511474041595418, total=   9.6s\n",
      "[CV] C=13.511474041595418 ............................................\n",
      "[CV] ............................. C=13.511474041595418, total=  12.3s\n",
      "[CV] C=13.511474041595418 ............................................\n",
      "[CV] ............................. C=13.511474041595418, total=  17.5s\n",
      "[CV] C=13.511474041595418 ............................................\n",
      "[CV] ............................. C=13.511474041595418, total=  19.0s\n",
      "[CV] C=13.511474041595418 ............................................\n",
      "[CV] ............................. C=13.511474041595418, total=  20.6s\n"
     ]
    },
    {
     "name": "stderr",
     "output_type": "stream",
     "text": [
      "[Parallel(n_jobs=1)]: Done  10 out of  10 | elapsed:  1.9min finished\n"
     ]
    },
    {
     "data": {
      "text/plain": [
       "GridSearchCV(cv=<generator object TimeSeriesSplit.split at 0x0000026A76A64A40>,\n",
       "       error_score='raise',\n",
       "       estimator=LogisticRegression(C=1.0, class_weight=None, dual=False, fit_intercept=True,\n",
       "          intercept_scaling=1, max_iter=100, multi_class='ovr', n_jobs=1,\n",
       "          penalty='l2', random_state=33, solver='liblinear', tol=0.0001,\n",
       "          verbose=0, warm_start=False),\n",
       "       fit_params=None, iid=True, n_jobs=1,\n",
       "       param_grid={'C': [13.511474041595418]}, pre_dispatch='2*n_jobs',\n",
       "       refit=True, return_train_score='warn', scoring='accuracy',\n",
       "       verbose=2)"
      ]
     },
     "execution_count": 176,
     "metadata": {},
     "output_type": "execute_result"
    }
   ],
   "source": [
    "t_rand.fit(tfidf_train,train['Score'])"
   ]
  },
  {
   "cell_type": "code",
   "execution_count": 177,
   "metadata": {},
   "outputs": [
    {
     "data": {
      "text/plain": [
       "LogisticRegression(C=13.511474041595418, class_weight=None, dual=False,\n",
       "          fit_intercept=True, intercept_scaling=1, max_iter=100,\n",
       "          multi_class='ovr', n_jobs=1, penalty='l2', random_state=33,\n",
       "          solver='liblinear', tol=0.0001, verbose=0, warm_start=False)"
      ]
     },
     "execution_count": 177,
     "metadata": {},
     "output_type": "execute_result"
    }
   ],
   "source": [
    "t_rand.best_estimator_"
   ]
  },
  {
   "cell_type": "code",
   "execution_count": 178,
   "metadata": {},
   "outputs": [
    {
     "data": {
      "text/plain": [
       "0.9170190730991629"
      ]
     },
     "execution_count": 178,
     "metadata": {},
     "output_type": "execute_result"
    }
   ],
   "source": [
    "t_rand.best_score_"
   ]
  },
  {
   "cell_type": "code",
   "execution_count": 179,
   "metadata": {},
   "outputs": [],
   "source": [
    "lr3= LogisticRegression(C=13.511474041595418, class_weight='balanced', dual=False,\n",
    "          fit_intercept=True, intercept_scaling=1, max_iter=100,\n",
    "          multi_class='ovr', n_jobs=1, penalty='l2', random_state=None,\n",
    "          solver='saga', tol=0.0001, verbose=0, warm_start=False)\n"
   ]
  },
  {
   "cell_type": "code",
   "execution_count": 180,
   "metadata": {},
   "outputs": [
    {
     "data": {
      "text/plain": [
       "LogisticRegression(C=13.511474041595418, class_weight='balanced', dual=False,\n",
       "          fit_intercept=True, intercept_scaling=1, max_iter=100,\n",
       "          multi_class='ovr', n_jobs=1, penalty='l2', random_state=None,\n",
       "          solver='saga', tol=0.0001, verbose=0, warm_start=False)"
      ]
     },
     "execution_count": 180,
     "metadata": {},
     "output_type": "execute_result"
    }
   ],
   "source": [
    "lr3.fit(std_tfidf_train,train['Score'])"
   ]
  },
  {
   "cell_type": "code",
   "execution_count": 181,
   "metadata": {},
   "outputs": [],
   "source": [
    "pred=lr3.predict(std_tfidf_test)"
   ]
  },
  {
   "cell_type": "code",
   "execution_count": 182,
   "metadata": {},
   "outputs": [
    {
     "name": "stdout",
     "output_type": "stream",
     "text": [
      "87.71635957565606\n"
     ]
    }
   ],
   "source": [
    "acc=accuracy_score(pred,test['Score'])\n",
    "print(acc*100)"
   ]
  },
  {
   "cell_type": "markdown",
   "metadata": {},
   "source": [
    "### L1 Regularisation :"
   ]
  },
  {
   "cell_type": "code",
   "execution_count": 18,
   "metadata": {},
   "outputs": [],
   "source": [
    "c_list=[10**-2,0.1,1,50,100,500]\n",
    "t1_grid=grid_s(std_tfidf_train,'l1',c_list)"
   ]
  },
  {
   "cell_type": "code",
   "execution_count": 19,
   "metadata": {},
   "outputs": [
    {
     "name": "stdout",
     "output_type": "stream",
     "text": [
      "Fitting 10 folds for each of 6 candidates, totalling 60 fits\n",
      "[CV] C=0.01 ..........................................................\n",
      "[CV] ........................................... C=0.01, total=   0.6s\n"
     ]
    },
    {
     "name": "stderr",
     "output_type": "stream",
     "text": [
      "[Parallel(n_jobs=1)]: Done   1 out of   1 | elapsed:    0.7s remaining:    0.0s\n"
     ]
    },
    {
     "name": "stdout",
     "output_type": "stream",
     "text": [
      "[CV] C=0.01 ..........................................................\n",
      "[CV] ........................................... C=0.01, total=   1.2s\n",
      "[CV] C=0.01 ..........................................................\n",
      "[CV] ........................................... C=0.01, total=   2.1s\n",
      "[CV] C=0.01 ..........................................................\n",
      "[CV] ........................................... C=0.01, total=   3.6s\n",
      "[CV] C=0.01 ..........................................................\n",
      "[CV] ........................................... C=0.01, total=   4.2s\n",
      "[CV] C=0.01 ..........................................................\n",
      "[CV] ........................................... C=0.01, total=   5.5s\n",
      "[CV] C=0.01 ..........................................................\n",
      "[CV] ........................................... C=0.01, total=   7.4s\n",
      "[CV] C=0.01 ..........................................................\n",
      "[CV] ........................................... C=0.01, total=   9.0s\n",
      "[CV] C=0.01 ..........................................................\n",
      "[CV] ........................................... C=0.01, total=  11.0s\n",
      "[CV] C=0.01 ..........................................................\n",
      "[CV] ........................................... C=0.01, total=  13.1s\n",
      "[CV] C=0.1 ...........................................................\n",
      "[CV] ............................................ C=0.1, total=   1.0s\n",
      "[CV] C=0.1 ...........................................................\n",
      "[CV] ............................................ C=0.1, total=   2.6s\n",
      "[CV] C=0.1 ...........................................................\n",
      "[CV] ............................................ C=0.1, total=   4.6s\n",
      "[CV] C=0.1 ...........................................................\n",
      "[CV] ............................................ C=0.1, total=   6.2s\n",
      "[CV] C=0.1 ...........................................................\n",
      "[CV] ............................................ C=0.1, total=   7.7s\n",
      "[CV] C=0.1 ...........................................................\n",
      "[CV] ............................................ C=0.1, total=  10.2s\n",
      "[CV] C=0.1 ...........................................................\n",
      "[CV] ............................................ C=0.1, total=  11.3s\n",
      "[CV] C=0.1 ...........................................................\n",
      "[CV] ............................................ C=0.1, total=  13.2s\n",
      "[CV] C=0.1 ...........................................................\n",
      "[CV] ............................................ C=0.1, total=  15.7s\n",
      "[CV] C=0.1 ...........................................................\n",
      "[CV] ............................................ C=0.1, total=  18.1s\n",
      "[CV] C=1 .............................................................\n",
      "[CV] .............................................. C=1, total=   1.6s\n",
      "[CV] C=1 .............................................................\n",
      "[CV] .............................................. C=1, total=   4.8s\n",
      "[CV] C=1 .............................................................\n",
      "[CV] .............................................. C=1, total=   5.8s\n",
      "[CV] C=1 .............................................................\n",
      "[CV] .............................................. C=1, total=   9.3s\n",
      "[CV] C=1 .............................................................\n",
      "[CV] .............................................. C=1, total=   9.0s\n",
      "[CV] C=1 .............................................................\n",
      "[CV] .............................................. C=1, total=  10.2s\n",
      "[CV] C=1 .............................................................\n",
      "[CV] .............................................. C=1, total=  11.9s\n",
      "[CV] C=1 .............................................................\n",
      "[CV] .............................................. C=1, total=  14.4s\n",
      "[CV] C=1 .............................................................\n",
      "[CV] .............................................. C=1, total=  16.7s\n",
      "[CV] C=1 .............................................................\n",
      "[CV] .............................................. C=1, total=  24.8s\n",
      "[CV] C=50 ............................................................\n",
      "[CV] ............................................. C=50, total=   1.3s\n",
      "[CV] C=50 ............................................................\n",
      "[CV] ............................................. C=50, total=45.4min\n",
      "[CV] C=50 ............................................................\n",
      "[CV] ............................................. C=50, total=   7.4s\n",
      "[CV] C=50 ............................................................\n",
      "[CV] ............................................. C=50, total=   9.4s\n",
      "[CV] C=50 ............................................................\n",
      "[CV] ............................................. C=50, total=  13.9s\n",
      "[CV] C=50 ............................................................\n",
      "[CV] ............................................. C=50, total=  14.2s\n",
      "[CV] C=50 ............................................................\n",
      "[CV] ............................................. C=50, total=  13.6s\n",
      "[CV] C=50 ............................................................\n",
      "[CV] ............................................. C=50, total=  16.6s\n",
      "[CV] C=50 ............................................................\n",
      "[CV] ............................................. C=50, total=  19.1s\n",
      "[CV] C=50 ............................................................\n",
      "[CV] ............................................. C=50, total=  20.6s\n",
      "[CV] C=100 ...........................................................\n",
      "[CV] ............................................ C=100, total=   1.0s\n",
      "[CV] C=100 ...........................................................\n",
      "[CV] ............................................ C=100, total=44.4min\n",
      "[CV] C=100 ...........................................................\n",
      "[CV] ............................................ C=100, total=   7.9s\n",
      "[CV] C=100 ...........................................................\n",
      "[CV] ............................................ C=100, total=   9.7s\n",
      "[CV] C=100 ...........................................................\n",
      "[CV] ............................................ C=100, total=  12.9s\n",
      "[CV] C=100 ...........................................................\n",
      "[CV] ............................................ C=100, total=  11.9s\n",
      "[CV] C=100 ...........................................................\n",
      "[CV] ............................................ C=100, total=  13.9s\n",
      "[CV] C=100 ...........................................................\n",
      "[CV] ............................................ C=100, total=  16.3s\n",
      "[CV] C=100 ...........................................................\n",
      "[CV] ............................................ C=100, total=  18.3s\n",
      "[CV] C=100 ...........................................................\n",
      "[CV] ............................................ C=100, total=  19.6s\n",
      "[CV] C=500 ...........................................................\n",
      "[CV] ............................................ C=500, total=   0.8s\n",
      "[CV] C=500 ...........................................................\n",
      "[CV] ............................................ C=500, total=62.9min\n",
      "[CV] C=500 ...........................................................\n",
      "[CV] ............................................ C=500, total=  11.4s\n",
      "[CV] C=500 ...........................................................\n",
      "[CV] ............................................ C=500, total=   8.8s\n",
      "[CV] C=500 ...........................................................\n",
      "[CV] ............................................ C=500, total=  12.4s\n",
      "[CV] C=500 ...........................................................\n",
      "[CV] ............................................ C=500, total=  14.0s\n",
      "[CV] C=500 ...........................................................\n",
      "[CV] ............................................ C=500, total=  17.4s\n",
      "[CV] C=500 ...........................................................\n",
      "[CV] ............................................ C=500, total=  22.4s\n",
      "[CV] C=500 ...........................................................\n",
      "[CV] ............................................ C=500, total=  25.3s\n",
      "[CV] C=500 ...........................................................\n",
      "[CV] ............................................ C=500, total=  24.1s\n"
     ]
    },
    {
     "name": "stderr",
     "output_type": "stream",
     "text": [
      "[Parallel(n_jobs=1)]: Done  60 out of  60 | elapsed: 164.1min finished\n"
     ]
    },
    {
     "data": {
      "text/plain": [
       "GridSearchCV(cv=<generator object TimeSeriesSplit.split at 0x0000012DE6172D00>,\n",
       "       error_score='raise',\n",
       "       estimator=LogisticRegression(C=1.0, class_weight=None, dual=False, fit_intercept=True,\n",
       "          intercept_scaling=1, max_iter=200, multi_class='ovr', n_jobs=1,\n",
       "          penalty='l1', random_state=33, solver='liblinear', tol=0.0001,\n",
       "          verbose=0, warm_start=False),\n",
       "       fit_params=None, iid=True, n_jobs=1,\n",
       "       param_grid=[{'C': [0.01, 0.1, 1, 50, 100, 500]}],\n",
       "       pre_dispatch='2*n_jobs', refit=True, return_train_score='warn',\n",
       "       scoring='accuracy', verbose=2)"
      ]
     },
     "execution_count": 19,
     "metadata": {},
     "output_type": "execute_result"
    }
   ],
   "source": [
    "t1_grid.fit(std_tfidf_train,train['Score'])"
   ]
  },
  {
   "cell_type": "code",
   "execution_count": 20,
   "metadata": {},
   "outputs": [
    {
     "data": {
      "text/plain": [
       "LogisticRegression(C=0.01, class_weight=None, dual=False, fit_intercept=True,\n",
       "          intercept_scaling=1, max_iter=200, multi_class='ovr', n_jobs=1,\n",
       "          penalty='l1', random_state=33, solver='liblinear', tol=0.0001,\n",
       "          verbose=0, warm_start=False)"
      ]
     },
     "execution_count": 20,
     "metadata": {},
     "output_type": "execute_result"
    }
   ],
   "source": [
    "t1_grid.best_estimator_"
   ]
  },
  {
   "cell_type": "code",
   "execution_count": 21,
   "metadata": {},
   "outputs": [
    {
     "data": {
      "text/plain": [
       "0.9135410373694658"
      ]
     },
     "execution_count": 21,
     "metadata": {},
     "output_type": "execute_result"
    }
   ],
   "source": [
    "t1_grid.best_score_"
   ]
  },
  {
   "cell_type": "code",
   "execution_count": 183,
   "metadata": {},
   "outputs": [],
   "source": [
    "#Random Search\n",
    "t1_rand=random_s(std_tfidf_train,'l1')"
   ]
  },
  {
   "cell_type": "code",
   "execution_count": 184,
   "metadata": {
    "scrolled": true
   },
   "outputs": [
    {
     "name": "stdout",
     "output_type": "stream",
     "text": [
      "Fitting 10 folds for each of 1 candidates, totalling 10 fits\n",
      "[CV] C=94.33865662517721 .............................................\n",
      "[CV] .............................. C=94.33865662517721, total=   0.9s\n"
     ]
    },
    {
     "name": "stderr",
     "output_type": "stream",
     "text": [
      "[Parallel(n_jobs=1)]: Done   1 out of   1 | elapsed:    1.0s remaining:    0.0s\n"
     ]
    },
    {
     "name": "stdout",
     "output_type": "stream",
     "text": [
      "[CV] C=94.33865662517721 .............................................\n",
      "[CV] .............................. C=94.33865662517721, total=18.3min\n",
      "[CV] C=94.33865662517721 .............................................\n",
      "[CV] .............................. C=94.33865662517721, total=   9.2s\n",
      "[CV] C=94.33865662517721 .............................................\n",
      "[CV] .............................. C=94.33865662517721, total=  10.7s\n",
      "[CV] C=94.33865662517721 .............................................\n",
      "[CV] .............................. C=94.33865662517721, total=   9.9s\n",
      "[CV] C=94.33865662517721 .............................................\n",
      "[CV] .............................. C=94.33865662517721, total=  14.4s\n",
      "[CV] C=94.33865662517721 .............................................\n",
      "[CV] .............................. C=94.33865662517721, total=  16.8s\n",
      "[CV] C=94.33865662517721 .............................................\n",
      "[CV] .............................. C=94.33865662517721, total=  16.8s\n",
      "[CV] C=94.33865662517721 .............................................\n",
      "[CV] .............................. C=94.33865662517721, total=  20.1s\n",
      "[CV] C=94.33865662517721 .............................................\n",
      "[CV] .............................. C=94.33865662517721, total=  22.3s\n"
     ]
    },
    {
     "name": "stderr",
     "output_type": "stream",
     "text": [
      "[Parallel(n_jobs=1)]: Done  10 out of  10 | elapsed: 20.5min finished\n"
     ]
    },
    {
     "data": {
      "text/plain": [
       "GridSearchCV(cv=<generator object TimeSeriesSplit.split at 0x0000026A7D5F2AF0>,\n",
       "       error_score='raise',\n",
       "       estimator=LogisticRegression(C=1.0, class_weight=None, dual=False, fit_intercept=True,\n",
       "          intercept_scaling=1, max_iter=100, multi_class='ovr', n_jobs=1,\n",
       "          penalty='l1', random_state=33, solver='liblinear', tol=0.0001,\n",
       "          verbose=0, warm_start=False),\n",
       "       fit_params=None, iid=True, n_jobs=1,\n",
       "       param_grid={'C': [94.33865662517721]}, pre_dispatch='2*n_jobs',\n",
       "       refit=True, return_train_score='warn', scoring='accuracy',\n",
       "       verbose=2)"
      ]
     },
     "execution_count": 184,
     "metadata": {},
     "output_type": "execute_result"
    }
   ],
   "source": [
    "t1_rand.fit(std_tfidf_train,train['Score'])"
   ]
  },
  {
   "cell_type": "code",
   "execution_count": 185,
   "metadata": {},
   "outputs": [
    {
     "data": {
      "text/plain": [
       "LogisticRegression(C=94.33865662517721, class_weight=None, dual=False,\n",
       "          fit_intercept=True, intercept_scaling=1, max_iter=100,\n",
       "          multi_class='ovr', n_jobs=1, penalty='l1', random_state=33,\n",
       "          solver='liblinear', tol=0.0001, verbose=0, warm_start=False)"
      ]
     },
     "execution_count": 185,
     "metadata": {},
     "output_type": "execute_result"
    }
   ],
   "source": [
    "t1_rand.best_estimator_"
   ]
  },
  {
   "cell_type": "code",
   "execution_count": 186,
   "metadata": {},
   "outputs": [
    {
     "data": {
      "text/plain": [
       "0.8743591956502977"
      ]
     },
     "execution_count": 186,
     "metadata": {},
     "output_type": "execute_result"
    }
   ],
   "source": [
    "t1_rand.best_score_"
   ]
  },
  {
   "cell_type": "code",
   "execution_count": 46,
   "metadata": {},
   "outputs": [],
   "source": [
    "lr3= LogisticRegression(C=74.35612570253635, class_weight='balanced', dual=False,\n",
    "          fit_intercept=True, intercept_scaling=1, max_iter=100,\n",
    "          multi_class='ovr', n_jobs=1, penalty='l1', random_state=33,\n",
    "          solver='liblinear', tol=0.0001, verbose=0, warm_start=False)\n"
   ]
  },
  {
   "cell_type": "code",
   "execution_count": 47,
   "metadata": {},
   "outputs": [
    {
     "data": {
      "text/plain": [
       "LogisticRegression(C=74.35612570253635, class_weight='balanced', dual=False,\n",
       "          fit_intercept=True, intercept_scaling=1, max_iter=100,\n",
       "          multi_class='ovr', n_jobs=1, penalty='l1', random_state=33,\n",
       "          solver='liblinear', tol=0.0001, verbose=0, warm_start=False)"
      ]
     },
     "execution_count": 47,
     "metadata": {},
     "output_type": "execute_result"
    }
   ],
   "source": [
    "lr3.fit(std_tfidf_train,train['Score'])"
   ]
  },
  {
   "cell_type": "code",
   "execution_count": 48,
   "metadata": {},
   "outputs": [],
   "source": [
    "pred1=lr3.predict(std_tfidf_test)"
   ]
  },
  {
   "cell_type": "code",
   "execution_count": 49,
   "metadata": {},
   "outputs": [
    {
     "name": "stdout",
     "output_type": "stream",
     "text": [
      "85.80241828450083\n"
     ]
    }
   ],
   "source": [
    "acc=accuracy_score(pred1,test['Score'])\n",
    "print(acc*100)"
   ]
  },
  {
   "cell_type": "markdown",
   "metadata": {},
   "source": [
    "### Analysis of Sparsity and Error on L1 regulariser with increase in Lambda"
   ]
  },
  {
   "cell_type": "markdown",
   "metadata": {},
   "source": [
    "Here we are going to analyse 55207 dimensional data with different values of Lambda and we are going to analyse how increase in hyperparameter impacts the model."
   ]
  },
  {
   "cell_type": "code",
   "execution_count": 54,
   "metadata": {},
   "outputs": [
    {
     "name": "stdout",
     "output_type": "stream",
     "text": [
      "\n",
      "*************************************************************************************************************\n",
      "\n",
      " lambda = 0.01\n",
      "\n",
      " Number of non zero elements = 45133\n",
      "\n",
      " Sparisty = 18.24768598185013\n",
      "\n",
      " Error = 0.043476384748156294\n",
      "\n",
      " Score = 0.9565236152518437\n",
      "\n",
      "*************************************************************************************************************\n",
      "\n",
      " lambda = 0.1\n",
      "\n",
      " Number of non zero elements = 43614\n",
      "\n",
      " Sparisty = 20.99914865868459\n",
      "\n",
      " Error = 0.04348423034677551\n",
      "\n",
      " Score = 0.9565157696532245\n",
      "\n",
      "*************************************************************************************************************\n",
      "\n",
      " lambda = 1.0\n",
      "\n",
      " Number of non zero elements = 39423\n",
      "\n",
      " Sparisty = 28.59057728186643\n",
      "\n",
      " Error = 0.04353914953710969\n",
      "\n",
      " Score = 0.9564608504628903\n",
      "\n",
      "*************************************************************************************************************\n",
      "\n",
      " lambda = 10.0\n",
      "\n",
      " Number of non zero elements = 31287\n",
      "\n",
      " Sparisty = 43.327838861014\n",
      "\n",
      " Error = 0.043966734661854745\n",
      "\n",
      " Score = 0.9560332653381453\n",
      "\n",
      "*************************************************************************************************************\n",
      "\n",
      " lambda = 100.0\n",
      "\n",
      " Number of non zero elements = 14366\n",
      "\n",
      " Sparisty = 73.9779375803793\n",
      "\n",
      " Error = 0.05350698258277109\n",
      "\n",
      " Score = 0.9464930174172289\n"
     ]
    }
   ],
   "source": [
    "#list1=[100,70,40,10,1]\n",
    "l1_analyser(std_tfidf_train,train['Score'])"
   ]
  },
  {
   "cell_type": "markdown",
   "metadata": {},
   "source": [
    "##### Inference : As expected, the sparsity and error increases with increase in Lambda with reduction in train accuracy.\n"
   ]
  },
  {
   "cell_type": "markdown",
   "metadata": {},
   "source": [
    "## Feature Importance:"
   ]
  },
  {
   "cell_type": "code",
   "execution_count": 23,
   "metadata": {},
   "outputs": [
    {
     "data": {
      "text/plain": [
       "array([[0.00197251, 0.00373522, 0.00072669, ..., 0.001307  , 0.00105661,\n",
       "        0.00107435]])"
      ]
     },
     "execution_count": 23,
     "metadata": {},
     "output_type": "execute_result"
    }
   ],
   "source": [
    "weights= lr3.coef_\n",
    "weights"
   ]
  },
  {
   "cell_type": "code",
   "execution_count": 24,
   "metadata": {
    "scrolled": true
   },
   "outputs": [],
   "source": [
    "# Calculating perturbated weight\n",
    "new1=tfidf_train\n",
    "tfidf_train.data+=0.0001\n",
    "lr3.fit(tfidf_train,train['Score'])\n",
    "perturbated_weight1=lr3.coef_\n",
    "tfidf_train=new1"
   ]
  },
  {
   "cell_type": "code",
   "execution_count": 28,
   "metadata": {},
   "outputs": [
    {
     "name": "stdout",
     "output_type": "stream",
     "text": [
      "\n",
      " The Euclidean distance between weight vectors after perturbation is 438.31359332418043\n",
      "\n",
      " The Cosine similarity between weight vectors after perturbation is 0.44730307867071584\n",
      "\n",
      " 41768 number of features out of 55207 are multicollinear as they vary by more than 20% after perturbation\n"
     ]
    }
   ],
   "source": [
    "isMultiColinear(weights,perturbated_weight1,weights.shape[1])"
   ]
  },
  {
   "cell_type": "markdown",
   "metadata": {},
   "source": [
    "## Performace of Logistic regression model with TF-IDF:"
   ]
  },
  {
   "cell_type": "markdown",
   "metadata": {},
   "source": [
    "#### Performance with L2 regulariser"
   ]
  },
  {
   "cell_type": "code",
   "execution_count": 50,
   "metadata": {},
   "outputs": [
    {
     "name": "stdout",
     "output_type": "stream",
     "text": [
      "\n",
      " ******************************************************************************* \n",
      "\n",
      "TNR value is 0.8232797023216812\n",
      "FNR value is 0.17672029767831873\n",
      "FPR value is 0.11145613840523455\n",
      "TPR value is 0.8885438615947654\n",
      "\n",
      " ******************************************************************************* \n",
      "\n",
      "Confusion Matrix is :\n",
      "[[15709  3372]\n",
      " [10050 80120]]\n",
      "\n",
      " ******************************************************************************* \n",
      "\n",
      "Precision is 0.8885438615947654\n",
      "Recall value is 0.9596128970440282\n",
      "F1 Score is 0.9227119346777073\n",
      "\n",
      " ******************************************************************************* \n",
      "\n",
      "Heat Map of the Confusion matrix is\n",
      "\n",
      " ******************************************************************************* \n",
      "\n"
     ]
    },
    {
     "data": {
      "image/png": "[encoded data removed]",
      "text/plain": [
       "<Figure size 432x288 with 2 Axes>"
      ]
     },
     "metadata": {},
     "output_type": "display_data"
    }
   ],
   "source": [
    "CM(test['Score'],pred)"
   ]
  },
  {
   "cell_type": "markdown",
   "metadata": {},
   "source": [
    "#### Performance with L1 regulariser"
   ]
  },
  {
   "cell_type": "code",
   "execution_count": 51,
   "metadata": {},
   "outputs": [
    {
     "name": "stdout",
     "output_type": "stream",
     "text": [
      "\n",
      " ******************************************************************************* \n",
      "\n",
      "TNR value is 0.7390597977045228\n",
      "FNR value is 0.26094020229547715\n",
      "FPR value is 0.11680159698347566\n",
      "TPR value is 0.8831984030165243\n",
      "\n",
      " ******************************************************************************* \n",
      "\n",
      "Confusion Matrix is :\n",
      "[[14102  4979]\n",
      " [10532 79638]]\n",
      "\n",
      " ******************************************************************************* \n",
      "\n",
      "Precision is 0.8831984030165243\n",
      "Recall value is 0.9411583960669841\n",
      "F1 Score is 0.9112577022318592\n",
      "\n",
      " ******************************************************************************* \n",
      "\n",
      "Heat Map of the Confusion matrix is\n",
      "\n",
      " ******************************************************************************* \n",
      "\n"
     ]
    },
    {
     "data": {
      "image/png": "[encoded data removed]",
      "text/plain": [
       "<Figure size 432x288 with 2 Axes>"
      ]
     },
     "metadata": {},
     "output_type": "display_data"
    }
   ],
   "source": [
    "CM(test['Score'],pred1)"
   ]
  },
  {
   "cell_type": "markdown",
   "metadata": {},
   "source": [
    "# Building W2V Model:"
   ]
  },
  {
   "cell_type": "code",
   "execution_count": 52,
   "metadata": {},
   "outputs": [],
   "source": [
    "from gensim.models import Word2Vec"
   ]
  },
  {
   "cell_type": "code",
   "execution_count": 53,
   "metadata": {},
   "outputs": [
    {
     "data": {
      "text/plain": [
       "['one', 'movi', 'movi', 'collect', 'fill', 'whatev', 'els', 'want', 'call']"
      ]
     },
     "execution_count": 53,
     "metadata": {},
     "output_type": "execute_result"
    }
   ],
   "source": [
    "#Creating sentence list\n",
    "\n",
    "sentence_list=[]\n",
    "for sentence in train['New']:\n",
    "    sentence_list.append(sentence.split())\n",
    "\n",
    "sentence_list[5]\n"
   ]
  },
  {
   "cell_type": "code",
   "execution_count": 54,
   "metadata": {},
   "outputs": [],
   "source": [
    "w2v=Word2Vec(sentence_list,size=50,min_count=1,workers=4)"
   ]
  },
  {
   "cell_type": "code",
   "execution_count": 55,
   "metadata": {},
   "outputs": [],
   "source": [
    "w2v_list=list(w2v.wv.vocab)"
   ]
  },
  {
   "cell_type": "code",
   "execution_count": 18,
   "metadata": {},
   "outputs": [
    {
     "data": {
      "text/plain": [
       "55208"
      ]
     },
     "execution_count": 18,
     "metadata": {},
     "output_type": "execute_result"
    }
   ],
   "source": [
    "len(w2v_list)"
   ]
  },
  {
   "cell_type": "markdown",
   "metadata": {},
   "source": [
    "# 4.) Average W2V Vectorization:"
   ]
  },
  {
   "cell_type": "code",
   "execution_count": 19,
   "metadata": {},
   "outputs": [],
   "source": [
    "def avgwv(x):\n",
    "    '''\n",
    "    To calculate average word 2 vector model\n",
    "    '''\n",
    "    sent_vect=[]\n",
    "    for sentence in x:\n",
    "        count=0;\n",
    "        s_v=np.zeros(50)\n",
    "        for words in sentence.split():\n",
    "            if words in w2v_list:\n",
    "                V=w2v.wv[words]\n",
    "                count+=1\n",
    "                s_v+=V\n",
    "            if (count!=0):\n",
    "                s_v/=count\n",
    "        sent_vect.append(s_v)\n",
    "    return(sent_vect)\n",
    "                    "
   ]
  },
  {
   "cell_type": "code",
   "execution_count": 17,
   "metadata": {},
   "outputs": [],
   "source": [
    "train_w2v=avgwv(train['New'])"
   ]
  },
  {
   "cell_type": "code",
   "execution_count": 111,
   "metadata": {},
   "outputs": [],
   "source": [
    "test_w2v=avgwv(test['New'])"
   ]
  },
  {
   "cell_type": "code",
   "execution_count": 56,
   "metadata": {},
   "outputs": [],
   "source": [
    "import pickle"
   ]
  },
  {
   "cell_type": "code",
   "execution_count": 20,
   "metadata": {},
   "outputs": [],
   "source": [
    "with open(r'G:\\ML\\Pickles\\NB_Avgw2v.pickle','wb') as f:\n",
    "    pickle.dump([train_w2v,test_w2v],f)"
   ]
  },
  {
   "cell_type": "code",
   "execution_count": 57,
   "metadata": {},
   "outputs": [],
   "source": [
    "with open(r'G:\\ML\\Pickles\\NB_Avgw2v.pickle','rb') as f:\n",
    "    train_w2v,test_w2v=pickle.load(f)"
   ]
  },
  {
   "cell_type": "code",
   "execution_count": 58,
   "metadata": {},
   "outputs": [],
   "source": [
    "scaler=StandardScaler(with_mean=False)\n",
    "std_train_avgw2v=scaler.fit_transform(train_w2v)\n",
    "std_test_avgw2v=scaler.transform(test_w2v)"
   ]
  },
  {
   "cell_type": "markdown",
   "metadata": {},
   "source": [
    "### L2 Regularisation :"
   ]
  },
  {
   "cell_type": "code",
   "execution_count": 24,
   "metadata": {},
   "outputs": [],
   "source": [
    "avg1_grid=grid_s(std_train_avgw2v,'l2')"
   ]
  },
  {
   "cell_type": "code",
   "execution_count": 25,
   "metadata": {},
   "outputs": [
    {
     "name": "stdout",
     "output_type": "stream",
     "text": [
      "Fitting 10 folds for each of 4 candidates, totalling 40 fits\n"
     ]
    },
    {
     "name": "stderr",
     "output_type": "stream",
     "text": [
      "[Parallel(n_jobs=-1)]: Done  24 tasks      | elapsed:  2.5min\n",
      "[Parallel(n_jobs=-1)]: Done  40 out of  40 | elapsed:  4.9min finished\n"
     ]
    },
    {
     "data": {
      "text/plain": [
       "GridSearchCV(cv=<generator object TimeSeriesSplit.split at 0x00000148968D2A40>,\n",
       "       error_score='raise',\n",
       "       estimator=LogisticRegression(C=1.0, class_weight=None, dual=False, fit_intercept=True,\n",
       "          intercept_scaling=1, max_iter=100, multi_class='ovr', n_jobs=1,\n",
       "          penalty='l2', random_state=None, solver='liblinear', tol=0.0001,\n",
       "          verbose=0, warm_start=False),\n",
       "       fit_params=None, iid=True, n_jobs=-1,\n",
       "       param_grid=[{'C': [0.0001, 0.01, 1, 100], 'penalty': ['l2'], 'solver': ['saga'], 'max_iter': [200]}],\n",
       "       pre_dispatch='2*n_jobs', refit=True, return_train_score='warn',\n",
       "       scoring='accuracy', verbose=3)"
      ]
     },
     "execution_count": 25,
     "metadata": {},
     "output_type": "execute_result"
    }
   ],
   "source": [
    "avg1_grid.fit(std_train_avgw2v,train['Score'])"
   ]
  },
  {
   "cell_type": "code",
   "execution_count": 26,
   "metadata": {},
   "outputs": [
    {
     "data": {
      "text/plain": [
       "LogisticRegression(C=1, class_weight=None, dual=False, fit_intercept=True,\n",
       "          intercept_scaling=1, max_iter=200, multi_class='ovr', n_jobs=1,\n",
       "          penalty='l2', random_state=None, solver='saga', tol=0.0001,\n",
       "          verbose=0, warm_start=False)"
      ]
     },
     "execution_count": 26,
     "metadata": {},
     "output_type": "execute_result"
    }
   ],
   "source": [
    "avg1_grid.best_estimator_"
   ]
  },
  {
   "cell_type": "code",
   "execution_count": 27,
   "metadata": {},
   "outputs": [
    {
     "data": {
      "text/plain": [
       "0.8484940018986795"
      ]
     },
     "execution_count": 27,
     "metadata": {},
     "output_type": "execute_result"
    }
   ],
   "source": [
    "avg1_grid.best_score_"
   ]
  },
  {
   "cell_type": "code",
   "execution_count": 194,
   "metadata": {},
   "outputs": [],
   "source": [
    "#Random Search\n",
    "avg1_rand=random_s(std_train_avgw2v,'l2')"
   ]
  },
  {
   "cell_type": "code",
   "execution_count": 195,
   "metadata": {
    "scrolled": true
   },
   "outputs": [
    {
     "name": "stdout",
     "output_type": "stream",
     "text": [
      "Fitting 10 folds for each of 1 candidates, totalling 10 fits\n",
      "[CV] C=30.977789763829968 ............................................\n",
      "[CV] ............................. C=30.977789763829968, total=   0.7s\n"
     ]
    },
    {
     "name": "stderr",
     "output_type": "stream",
     "text": [
      "[Parallel(n_jobs=1)]: Done   1 out of   1 | elapsed:    0.9s remaining:    0.0s\n"
     ]
    },
    {
     "name": "stdout",
     "output_type": "stream",
     "text": [
      "[CV] C=30.977789763829968 ............................................\n",
      "[CV] ............................. C=30.977789763829968, total=   1.6s\n",
      "[CV] C=30.977789763829968 ............................................\n",
      "[CV] ............................. C=30.977789763829968, total=   2.3s\n",
      "[CV] C=30.977789763829968 ............................................\n",
      "[CV] ............................. C=30.977789763829968, total=   2.8s\n",
      "[CV] C=30.977789763829968 ............................................\n",
      "[CV] ............................. C=30.977789763829968, total=   4.2s\n",
      "[CV] C=30.977789763829968 ............................................\n",
      "[CV] ............................. C=30.977789763829968, total=   6.4s\n",
      "[CV] C=30.977789763829968 ............................................\n",
      "[CV] ............................. C=30.977789763829968, total=   7.3s\n",
      "[CV] C=30.977789763829968 ............................................\n",
      "[CV] ............................. C=30.977789763829968, total=   7.0s\n",
      "[CV] C=30.977789763829968 ............................................\n",
      "[CV] ............................. C=30.977789763829968, total=   7.6s\n",
      "[CV] C=30.977789763829968 ............................................\n",
      "[CV] ............................. C=30.977789763829968, total=   8.3s\n"
     ]
    },
    {
     "name": "stderr",
     "output_type": "stream",
     "text": [
      "[Parallel(n_jobs=1)]: Done  10 out of  10 | elapsed:  1.0min finished\n"
     ]
    },
    {
     "data": {
      "text/plain": [
       "GridSearchCV(cv=<generator object TimeSeriesSplit.split at 0x0000026A7D683780>,\n",
       "       error_score='raise',\n",
       "       estimator=LogisticRegression(C=1.0, class_weight='balanced', dual=False,\n",
       "          fit_intercept=True, intercept_scaling=1, max_iter=100,\n",
       "          multi_class='ovr', n_jobs=1, penalty='l2', random_state=33,\n",
       "          solver='liblinear', tol=0.0001, verbose=0, warm_start=False),\n",
       "       fit_params=None, iid=True, n_jobs=1,\n",
       "       param_grid={'C': [30.977789763829968]}, pre_dispatch='2*n_jobs',\n",
       "       refit=True, return_train_score='warn', scoring='accuracy',\n",
       "       verbose=2)"
      ]
     },
     "execution_count": 195,
     "metadata": {},
     "output_type": "execute_result"
    }
   ],
   "source": [
    "avg1_rand.fit(std_train_avgw2v,train['Score'])"
   ]
  },
  {
   "cell_type": "code",
   "execution_count": 202,
   "metadata": {},
   "outputs": [
    {
     "data": {
      "text/plain": [
       "LogisticRegression(C=30.977789763829968, class_weight='balanced', dual=False,\n",
       "          fit_intercept=True, intercept_scaling=1, max_iter=100,\n",
       "          multi_class='ovr', n_jobs=1, penalty='l2', random_state=33,\n",
       "          solver='liblinear', tol=0.0001, verbose=0, warm_start=False)"
      ]
     },
     "execution_count": 202,
     "metadata": {},
     "output_type": "execute_result"
    }
   ],
   "source": [
    "avg1_rand.best_estimator_"
   ]
  },
  {
   "cell_type": "code",
   "execution_count": 203,
   "metadata": {},
   "outputs": [
    {
     "data": {
      "text/plain": [
       "0.564067489427807"
      ]
     },
     "execution_count": 203,
     "metadata": {},
     "output_type": "execute_result"
    }
   ],
   "source": [
    "avg1_rand.best_score_"
   ]
  },
  {
   "cell_type": "code",
   "execution_count": 204,
   "metadata": {},
   "outputs": [],
   "source": [
    "LR1=LogisticRegression(C=30.977789763829968, class_weight='balanced', dual=False,\n",
    "          fit_intercept=True, intercept_scaling=1, max_iter=100,\n",
    "          multi_class='ovr', n_jobs=1, penalty='l2', random_state=33,\n",
    "          solver='liblinear', tol=0.0001, verbose=0, warm_start=False)"
   ]
  },
  {
   "cell_type": "code",
   "execution_count": 205,
   "metadata": {},
   "outputs": [
    {
     "data": {
      "text/plain": [
       "LogisticRegression(C=30.977789763829968, class_weight='balanced', dual=False,\n",
       "          fit_intercept=True, intercept_scaling=1, max_iter=100,\n",
       "          multi_class='ovr', n_jobs=1, penalty='l2', random_state=33,\n",
       "          solver='liblinear', tol=0.0001, verbose=0, warm_start=False)"
      ]
     },
     "execution_count": 205,
     "metadata": {},
     "output_type": "execute_result"
    }
   ],
   "source": [
    "LR1.fit(std_train_avgw2v,train['Score'])"
   ]
  },
  {
   "cell_type": "code",
   "execution_count": 206,
   "metadata": {},
   "outputs": [],
   "source": [
    "pred=LR1.predict(std_test_avgw2v)"
   ]
  },
  {
   "cell_type": "code",
   "execution_count": 207,
   "metadata": {},
   "outputs": [
    {
     "name": "stdout",
     "output_type": "stream",
     "text": [
      "55.98118095028879\n"
     ]
    }
   ],
   "source": [
    "acc=accuracy_score(pred,test['Score'])\n",
    "print(acc*100)"
   ]
  },
  {
   "cell_type": "markdown",
   "metadata": {},
   "source": [
    "### L1 Regularisation :"
   ]
  },
  {
   "cell_type": "code",
   "execution_count": 36,
   "metadata": {},
   "outputs": [],
   "source": [
    "avg1_grid=grid_s(std_train_avgw2v,'l1')"
   ]
  },
  {
   "cell_type": "code",
   "execution_count": 37,
   "metadata": {},
   "outputs": [
    {
     "name": "stdout",
     "output_type": "stream",
     "text": [
      "Fitting 10 folds for each of 4 candidates, totalling 40 fits\n"
     ]
    },
    {
     "name": "stderr",
     "output_type": "stream",
     "text": [
      "[Parallel(n_jobs=-1)]: Done  24 tasks      | elapsed:  2.6min\n",
      "[Parallel(n_jobs=-1)]: Done  40 out of  40 | elapsed:  5.0min finished\n"
     ]
    },
    {
     "data": {
      "text/plain": [
       "GridSearchCV(cv=<generator object TimeSeriesSplit.split at 0x00000148968D27D8>,\n",
       "       error_score='raise',\n",
       "       estimator=LogisticRegression(C=1.0, class_weight=None, dual=False, fit_intercept=True,\n",
       "          intercept_scaling=1, max_iter=100, multi_class='ovr', n_jobs=1,\n",
       "          penalty='l2', random_state=None, solver='liblinear', tol=0.0001,\n",
       "          verbose=0, warm_start=False),\n",
       "       fit_params=None, iid=True, n_jobs=-1,\n",
       "       param_grid=[{'C': [0.0001, 0.01, 1, 100], 'penalty': ['l1'], 'solver': ['saga'], 'max_iter': [200]}],\n",
       "       pre_dispatch='2*n_jobs', refit=True, return_train_score='warn',\n",
       "       scoring='accuracy', verbose=3)"
      ]
     },
     "execution_count": 37,
     "metadata": {},
     "output_type": "execute_result"
    }
   ],
   "source": [
    "avg1_grid.fit(std_train_avgw2v,train['Score'])"
   ]
  },
  {
   "cell_type": "code",
   "execution_count": 38,
   "metadata": {},
   "outputs": [
    {
     "data": {
      "text/plain": [
       "LogisticRegression(C=1, class_weight=None, dual=False, fit_intercept=True,\n",
       "          intercept_scaling=1, max_iter=200, multi_class='ovr', n_jobs=1,\n",
       "          penalty='l1', random_state=None, solver='saga', tol=0.0001,\n",
       "          verbose=0, warm_start=False)"
      ]
     },
     "execution_count": 38,
     "metadata": {},
     "output_type": "execute_result"
    }
   ],
   "source": [
    "avg1_grid.best_estimator_"
   ]
  },
  {
   "cell_type": "code",
   "execution_count": 39,
   "metadata": {},
   "outputs": [
    {
     "data": {
      "text/plain": [
       "0.8484983170794856"
      ]
     },
     "execution_count": 39,
     "metadata": {},
     "output_type": "execute_result"
    }
   ],
   "source": [
    "avg1_grid.best_score_"
   ]
  },
  {
   "cell_type": "code",
   "execution_count": 213,
   "metadata": {},
   "outputs": [],
   "source": [
    "#Random Search\n",
    "avg1_rand=random_s(std_train_avgw2v,'l1')"
   ]
  },
  {
   "cell_type": "code",
   "execution_count": 214,
   "metadata": {
    "scrolled": true
   },
   "outputs": [
    {
     "name": "stdout",
     "output_type": "stream",
     "text": [
      "Fitting 10 folds for each of 1 candidates, totalling 10 fits\n",
      "[CV] C=77.2320661773736 ..............................................\n",
      "[CV] ............................... C=77.2320661773736, total=   0.8s\n"
     ]
    },
    {
     "name": "stderr",
     "output_type": "stream",
     "text": [
      "[Parallel(n_jobs=1)]: Done   1 out of   1 | elapsed:    1.0s remaining:    0.0s\n"
     ]
    },
    {
     "name": "stdout",
     "output_type": "stream",
     "text": [
      "[CV] C=77.2320661773736 ..............................................\n",
      "[CV] ............................... C=77.2320661773736, total=   1.5s\n",
      "[CV] C=77.2320661773736 ..............................................\n",
      "[CV] ............................... C=77.2320661773736, total=   2.3s\n",
      "[CV] C=77.2320661773736 ..............................................\n",
      "[CV] ............................... C=77.2320661773736, total=   3.2s\n",
      "[CV] C=77.2320661773736 ..............................................\n",
      "[CV] ............................... C=77.2320661773736, total=   4.1s\n",
      "[CV] C=77.2320661773736 ..............................................\n",
      "[CV] ............................... C=77.2320661773736, total=   5.1s\n",
      "[CV] C=77.2320661773736 ..............................................\n",
      "[CV] ............................... C=77.2320661773736, total=   6.1s\n",
      "[CV] C=77.2320661773736 ..............................................\n",
      "[CV] ............................... C=77.2320661773736, total=   7.6s\n",
      "[CV] C=77.2320661773736 ..............................................\n",
      "[CV] ............................... C=77.2320661773736, total=   9.6s\n",
      "[CV] C=77.2320661773736 ..............................................\n",
      "[CV] ............................... C=77.2320661773736, total=   9.8s\n"
     ]
    },
    {
     "name": "stderr",
     "output_type": "stream",
     "text": [
      "[Parallel(n_jobs=1)]: Done  10 out of  10 | elapsed:  1.0min finished\n"
     ]
    },
    {
     "data": {
      "text/plain": [
       "GridSearchCV(cv=<generator object TimeSeriesSplit.split at 0x0000026A35EA9990>,\n",
       "       error_score='raise',\n",
       "       estimator=LogisticRegression(C=1.0, class_weight='balanced', dual=False,\n",
       "          fit_intercept=True, intercept_scaling=1, max_iter=100,\n",
       "          multi_class='ovr', n_jobs=1, penalty='l1', random_state=33,\n",
       "          solver='liblinear', tol=0.0001, verbose=0, warm_start=False),\n",
       "       fit_params=None, iid=True, n_jobs=1,\n",
       "       param_grid={'C': [77.2320661773736]}, pre_dispatch='2*n_jobs',\n",
       "       refit=True, return_train_score='warn', scoring='accuracy',\n",
       "       verbose=2)"
      ]
     },
     "execution_count": 214,
     "metadata": {},
     "output_type": "execute_result"
    }
   ],
   "source": [
    "avg1_rand.fit(std_train_avgw2v,train['Score'])"
   ]
  },
  {
   "cell_type": "code",
   "execution_count": 215,
   "metadata": {},
   "outputs": [
    {
     "data": {
      "text/plain": [
       "LogisticRegression(C=77.2320661773736, class_weight='balanced', dual=False,\n",
       "          fit_intercept=True, intercept_scaling=1, max_iter=100,\n",
       "          multi_class='ovr', n_jobs=1, penalty='l1', random_state=33,\n",
       "          solver='liblinear', tol=0.0001, verbose=0, warm_start=False)"
      ]
     },
     "execution_count": 215,
     "metadata": {},
     "output_type": "execute_result"
    }
   ],
   "source": [
    "avg1_rand.best_estimator_"
   ]
  },
  {
   "cell_type": "code",
   "execution_count": 216,
   "metadata": {},
   "outputs": [
    {
     "data": {
      "text/plain": [
       "0.5640761197894192"
      ]
     },
     "execution_count": 216,
     "metadata": {},
     "output_type": "execute_result"
    }
   ],
   "source": [
    "avg1_rand.best_score_"
   ]
  },
  {
   "cell_type": "code",
   "execution_count": 217,
   "metadata": {},
   "outputs": [],
   "source": [
    "LR1=LogisticRegression(C=77.2320661773736, class_weight=None, dual=False,\n",
    "          fit_intercept=True, intercept_scaling=1, max_iter=100,\n",
    "          multi_class='ovr', n_jobs=1, penalty='l1', random_state=33,\n",
    "          solver='liblinear', tol=0.0001, verbose=0, warm_start=False)"
   ]
  },
  {
   "cell_type": "code",
   "execution_count": 218,
   "metadata": {},
   "outputs": [
    {
     "data": {
      "text/plain": [
       "LogisticRegression(C=77.2320661773736, class_weight=None, dual=False,\n",
       "          fit_intercept=True, intercept_scaling=1, max_iter=100,\n",
       "          multi_class='ovr', n_jobs=1, penalty='l1', random_state=33,\n",
       "          solver='liblinear', tol=0.0001, verbose=0, warm_start=False)"
      ]
     },
     "execution_count": 218,
     "metadata": {},
     "output_type": "execute_result"
    }
   ],
   "source": [
    "LR1.fit(std_train_avgw2v,train['Score'])"
   ]
  },
  {
   "cell_type": "code",
   "execution_count": 219,
   "metadata": {},
   "outputs": [],
   "source": [
    "pred1=LR1.predict(std_test_avgw2v)"
   ]
  },
  {
   "cell_type": "code",
   "execution_count": 220,
   "metadata": {},
   "outputs": [
    {
     "name": "stdout",
     "output_type": "stream",
     "text": [
      "82.87704460371073\n"
     ]
    }
   ],
   "source": [
    "acc=accuracy_score(pred1,test['Score'])\n",
    "print(acc*100)"
   ]
  },
  {
   "cell_type": "markdown",
   "metadata": {},
   "source": [
    "### Analysis of Sparsity and Error on L1 regulariser with increase in Lambda"
   ]
  },
  {
   "cell_type": "markdown",
   "metadata": {},
   "source": [
    "Here we are going to analyse 50 dimensional data with different values of Lambda and we are going to analyse how increase in hyperparameter impacts the model."
   ]
  },
  {
   "cell_type": "code",
   "execution_count": 55,
   "metadata": {},
   "outputs": [
    {
     "name": "stdout",
     "output_type": "stream",
     "text": [
      "\n",
      "*************************************************************************************************************\n",
      "\n",
      " lambda = 0.01\n",
      "\n",
      " Number of non zero elements = 50\n",
      "\n",
      " Sparisty = 0.0\n",
      "\n",
      " Error = 0.14779930958732146\n",
      "\n",
      " Score = 0.8522006904126785\n",
      "\n",
      "*************************************************************************************************************\n",
      "\n",
      " lambda = 0.1\n",
      "\n",
      " Number of non zero elements = 50\n",
      "\n",
      " Sparisty = 0.0\n",
      "\n",
      " Error = 0.14779538678801196\n",
      "\n",
      " Score = 0.852204613211988\n",
      "\n",
      "*************************************************************************************************************\n",
      "\n",
      " lambda = 1.0\n",
      "\n",
      " Number of non zero elements = 50\n",
      "\n",
      " Sparisty = 0.0\n",
      "\n",
      " Error = 0.14778361839008314\n",
      "\n",
      " Score = 0.8522163816099169\n",
      "\n",
      "*************************************************************************************************************\n",
      "\n",
      " lambda = 10.0\n",
      "\n",
      " Number of non zero elements = 49\n",
      "\n",
      " Sparisty = 2.0\n",
      "\n",
      " Error = 0.14777969559077353\n",
      "\n",
      " Score = 0.8522203044092265\n",
      "\n",
      "*************************************************************************************************************\n",
      "\n",
      " lambda = 100.0\n",
      "\n",
      " Number of non zero elements = 45\n",
      "\n",
      " Sparisty = 10.0\n",
      "\n",
      " Error = 0.14787384277420368\n",
      "\n",
      " Score = 0.8521261572257963\n"
     ]
    }
   ],
   "source": [
    "#list1=[100,70,40,10,1]\n",
    "l1_analyser(std_train_avgw2v,train['Score'])"
   ]
  },
  {
   "cell_type": "markdown",
   "metadata": {},
   "source": [
    "## Performace of Logistic regression model with Avg W2V:"
   ]
  },
  {
   "cell_type": "markdown",
   "metadata": {},
   "source": [
    "#### Performance with L2 regulariser"
   ]
  },
  {
   "cell_type": "code",
   "execution_count": 112,
   "metadata": {},
   "outputs": [
    {
     "name": "stdout",
     "output_type": "stream",
     "text": [
      "\n",
      " ******************************************************************************* \n",
      "\n",
      "TNR value is 0.7396886955610293\n",
      "FNR value is 0.2603113044389707\n",
      "FPR value is 0.4782521903071975\n",
      "TPR value is 0.5217478096928024\n",
      "\n",
      " ******************************************************************************* \n",
      "\n",
      "Confusion Matrix is :\n",
      "[[14114  4967]\n",
      " [43124 47046]]\n",
      "\n",
      " ******************************************************************************* \n",
      "\n",
      "Precision is 0.5217478096928024\n",
      "Recall value is 0.9045046430700018\n",
      "F1 Score is 0.6617668778967949\n",
      "\n",
      " ******************************************************************************* \n",
      "\n",
      "Heat Map of the Confusion matrix is\n",
      "\n",
      " ******************************************************************************* \n",
      "\n"
     ]
    },
    {
     "data": {
      "image/png": "[encoded data removed]",
      "text/plain": [
       "<Figure size 432x288 with 2 Axes>"
      ]
     },
     "metadata": {},
     "output_type": "display_data"
    }
   ],
   "source": [
    "CM(test['Score'],pred)"
   ]
  },
  {
   "cell_type": "markdown",
   "metadata": {},
   "source": [
    "#### Performance with L1 regulariser"
   ]
  },
  {
   "cell_type": "code",
   "execution_count": 221,
   "metadata": {},
   "outputs": [
    {
     "name": "stdout",
     "output_type": "stream",
     "text": [
      "\n",
      " ******************************************************************************* \n",
      "\n",
      "TNR value is 0.039672973114616636\n",
      "FNR value is 0.9603270268853834\n",
      "FPR value is 0.004247532438726849\n",
      "TPR value is 0.9957524675612731\n",
      "\n",
      " ******************************************************************************* \n",
      "\n",
      "Confusion Matrix is :\n",
      "[[  757 18324]\n",
      " [  383 89787]]\n",
      "\n",
      " ******************************************************************************* \n",
      "\n",
      "Precision is 0.9957524675612731\n",
      "Recall value is 0.8305075339234675\n",
      "F1 Score is 0.9056540969634004\n",
      "\n",
      " ******************************************************************************* \n",
      "\n",
      "Heat Map of the Confusion matrix is\n",
      "\n",
      " ******************************************************************************* \n",
      "\n"
     ]
    },
    {
     "data": {
      "image/png": "[encoded data removed]",
      "text/plain": [
       "<Figure size 432x288 with 2 Axes>"
      ]
     },
     "metadata": {},
     "output_type": "display_data"
    }
   ],
   "source": [
    "CM(test['Score'],pred1)"
   ]
  },
  {
   "cell_type": "markdown",
   "metadata": {},
   "source": [
    "# 5.) Tf-IDF weighted Word2Vec Vectorization:"
   ]
  },
  {
   "cell_type": "code",
   "execution_count": 74,
   "metadata": {},
   "outputs": [],
   "source": [
    "dictionary = dict(zip(tfidf.get_feature_names(), list(tfidf.idf_)))"
   ]
  },
  {
   "cell_type": "code",
   "execution_count": 75,
   "metadata": {},
   "outputs": [],
   "source": [
    "features=tfidf.get_feature_names()\n",
    "\n",
    "def tfidf_w2v(x):\n",
    "    '''\n",
    "    To calculate Tf-IDf weighted word2vec for a review\n",
    "    '''     \n",
    "    row=0\n",
    "    sentence_vectors=[]\n",
    "    for sentences in x:\n",
    "        weight=0\n",
    "        s_v=np.zeros(50)\n",
    "        for words in sentences.split():\n",
    "            if words in w2v_list:\n",
    "                try:\n",
    "                    v=w2v.wv[words]\n",
    "                    #tfidf_value=y[row,features.index(words)]\n",
    "                    tfidf_value = dictionary[words]*sentences.count(words)\n",
    "                    s_v+=(v*tfidf_value)\n",
    "                    weight+=tfidf_value\n",
    "                except(KeyError):\n",
    "                    continue                \n",
    "            else:\n",
    "                continue\n",
    "        if(weight!=0):\n",
    "            s_v/=weight\n",
    "        sentence_vectors.append(s_v)\n",
    "        row+=1\n",
    "    return sentence_vectors\n",
    "                \n",
    "    \n",
    "    "
   ]
  },
  {
   "cell_type": "code",
   "execution_count": 40,
   "metadata": {},
   "outputs": [],
   "source": [
    "train_tfidf_w2v=tfidf_w2v(train['New'])"
   ]
  },
  {
   "cell_type": "code",
   "execution_count": 43,
   "metadata": {},
   "outputs": [],
   "source": [
    "with open(r'G:\\ML\\Pickles\\tfidfw2v_train.pickle','wb') as f:\n",
    "    pickle.dump(train_tfidf_w2v,f)"
   ]
  },
  {
   "cell_type": "code",
   "execution_count": 70,
   "metadata": {},
   "outputs": [],
   "source": [
    "with open(r'G:\\ML\\Pickles\\tfidfw2v_train.pickle','rb') as f:\n",
    "    train_tfidf_w2v=pickle.load(f)"
   ]
  },
  {
   "cell_type": "code",
   "execution_count": 76,
   "metadata": {},
   "outputs": [],
   "source": [
    "test_tfidf_w2v=tfidf_w2v(test['New'])"
   ]
  },
  {
   "cell_type": "code",
   "execution_count": 77,
   "metadata": {},
   "outputs": [],
   "source": [
    "with open(r'G:\\ML\\Pickles\\tfidfw2v_test.pickle','wb') as f:\n",
    "    pickle.dump(test_tfidf_w2v,f)"
   ]
  },
  {
   "cell_type": "code",
   "execution_count": 78,
   "metadata": {},
   "outputs": [],
   "source": [
    "with open(r'G:\\ML\\Pickles\\tfidfw2v_test.pickle','rb') as f:\n",
    "    test_tfidf_w2v=pickle.load(f)"
   ]
  },
  {
   "cell_type": "code",
   "execution_count": 80,
   "metadata": {},
   "outputs": [],
   "source": [
    "scaler=StandardScaler(with_mean=False)\n",
    "std_train_tfidfw2v=scaler.fit_transform(train_tfidf_w2v)\n",
    "std_test_tfidfw2v=scaler.transform(test_tfidf_w2v)"
   ]
  },
  {
   "cell_type": "markdown",
   "metadata": {},
   "source": [
    "### L2 Regulariser:"
   ]
  },
  {
   "cell_type": "code",
   "execution_count": 47,
   "metadata": {},
   "outputs": [],
   "source": [
    "tfidf_w2v_grid=grid_s(std_train_tfidfw2v,'l2')"
   ]
  },
  {
   "cell_type": "code",
   "execution_count": 48,
   "metadata": {
    "scrolled": true
   },
   "outputs": [
    {
     "name": "stdout",
     "output_type": "stream",
     "text": [
      "Fitting 10 folds for each of 4 candidates, totalling 40 fits\n",
      "[CV] C=0.0001 ........................................................\n",
      "[CV] ......................................... C=0.0001, total=   0.4s\n"
     ]
    },
    {
     "name": "stderr",
     "output_type": "stream",
     "text": [
      "[Parallel(n_jobs=1)]: Done   1 out of   1 | elapsed:    0.5s remaining:    0.0s\n"
     ]
    },
    {
     "name": "stdout",
     "output_type": "stream",
     "text": [
      "[CV] C=0.0001 ........................................................\n",
      "[CV] ......................................... C=0.0001, total=   0.8s\n",
      "[CV] C=0.0001 ........................................................\n",
      "[CV] ......................................... C=0.0001, total=   1.3s\n",
      "[CV] C=0.0001 ........................................................\n",
      "[CV] ......................................... C=0.0001, total=   1.6s\n",
      "[CV] C=0.0001 ........................................................\n",
      "[CV] ......................................... C=0.0001, total=   2.3s\n",
      "[CV] C=0.0001 ........................................................\n",
      "[CV] ......................................... C=0.0001, total=   2.8s\n",
      "[CV] C=0.0001 ........................................................\n",
      "[CV] ......................................... C=0.0001, total=   3.3s\n",
      "[CV] C=0.0001 ........................................................\n",
      "[CV] ......................................... C=0.0001, total=   3.9s\n",
      "[CV] C=0.0001 ........................................................\n",
      "[CV] ......................................... C=0.0001, total=   4.6s\n",
      "[CV] C=0.0001 ........................................................\n",
      "[CV] ......................................... C=0.0001, total=   4.9s\n",
      "[CV] C=0.01 ..........................................................\n",
      "[CV] ........................................... C=0.01, total=   0.7s\n",
      "[CV] C=0.01 ..........................................................\n",
      "[CV] ........................................... C=0.01, total=   1.3s\n",
      "[CV] C=0.01 ..........................................................\n",
      "[CV] ........................................... C=0.01, total=   2.0s\n",
      "[CV] C=0.01 ..........................................................\n",
      "[CV] ........................................... C=0.01, total=   2.8s\n",
      "[CV] C=0.01 ..........................................................\n",
      "[CV] ........................................... C=0.01, total=   4.3s\n",
      "[CV] C=0.01 ..........................................................\n",
      "[CV] ........................................... C=0.01, total=   5.0s\n",
      "[CV] C=0.01 ..........................................................\n",
      "[CV] ........................................... C=0.01, total=   6.1s\n",
      "[CV] C=0.01 ..........................................................\n",
      "[CV] ........................................... C=0.01, total=   7.7s\n",
      "[CV] C=0.01 ..........................................................\n",
      "[CV] ........................................... C=0.01, total=   8.0s\n",
      "[CV] C=0.01 ..........................................................\n",
      "[CV] ........................................... C=0.01, total=   8.4s\n",
      "[CV] C=1 .............................................................\n",
      "[CV] .............................................. C=1, total=   0.9s\n",
      "[CV] C=1 .............................................................\n",
      "[CV] .............................................. C=1, total=   1.7s\n",
      "[CV] C=1 .............................................................\n",
      "[CV] .............................................. C=1, total=   3.0s\n",
      "[CV] C=1 .............................................................\n",
      "[CV] .............................................. C=1, total=   4.0s\n",
      "[CV] C=1 .............................................................\n",
      "[CV] .............................................. C=1, total=   4.9s\n",
      "[CV] C=1 .............................................................\n",
      "[CV] .............................................. C=1, total=   5.5s\n",
      "[CV] C=1 .............................................................\n",
      "[CV] .............................................. C=1, total=   6.2s\n",
      "[CV] C=1 .............................................................\n",
      "[CV] .............................................. C=1, total=   7.8s\n",
      "[CV] C=1 .............................................................\n",
      "[CV] .............................................. C=1, total=   8.7s\n",
      "[CV] C=1 .............................................................\n",
      "[CV] .............................................. C=1, total=   9.5s\n",
      "[CV] C=100 ...........................................................\n",
      "[CV] ............................................ C=100, total=   0.7s\n",
      "[CV] C=100 ...........................................................\n",
      "[CV] ............................................ C=100, total=   1.3s\n",
      "[CV] C=100 ...........................................................\n",
      "[CV] ............................................ C=100, total=   2.4s\n",
      "[CV] C=100 ...........................................................\n",
      "[CV] ............................................ C=100, total=   3.3s\n",
      "[CV] C=100 ...........................................................\n",
      "[CV] ............................................ C=100, total=   4.1s\n",
      "[CV] C=100 ...........................................................\n",
      "[CV] ............................................ C=100, total=   5.1s\n",
      "[CV] C=100 ...........................................................\n",
      "[CV] ............................................ C=100, total=   6.0s\n",
      "[CV] C=100 ...........................................................\n",
      "[CV] ............................................ C=100, total=   7.0s\n",
      "[CV] C=100 ...........................................................\n",
      "[CV] ............................................ C=100, total=   8.0s\n",
      "[CV] C=100 ...........................................................\n",
      "[CV] ............................................ C=100, total=   9.4s\n"
     ]
    },
    {
     "name": "stderr",
     "output_type": "stream",
     "text": [
      "[Parallel(n_jobs=1)]: Done  40 out of  40 | elapsed:  3.6min finished\n"
     ]
    },
    {
     "data": {
      "text/plain": [
       "GridSearchCV(cv=<generator object TimeSeriesSplit.split at 0x0000023D12951830>,\n",
       "       error_score='raise',\n",
       "       estimator=LogisticRegression(C=1.0, class_weight=None, dual=False, fit_intercept=True,\n",
       "          intercept_scaling=1, max_iter=200, multi_class='ovr', n_jobs=1,\n",
       "          penalty='l2', random_state=33, solver='liblinear', tol=0.0001,\n",
       "          verbose=0, warm_start=False),\n",
       "       fit_params=None, iid=True, n_jobs=1,\n",
       "       param_grid=[{'C': [0.0001, 0.01, 1, 100]}], pre_dispatch='2*n_jobs',\n",
       "       refit=True, return_train_score='warn', scoring='accuracy',\n",
       "       verbose=2)"
      ]
     },
     "execution_count": 48,
     "metadata": {},
     "output_type": "execute_result"
    }
   ],
   "source": [
    "tfidf_w2v_grid.fit(std_train_tfidfw2v,train['Score'])"
   ]
  },
  {
   "cell_type": "code",
   "execution_count": 49,
   "metadata": {},
   "outputs": [
    {
     "data": {
      "text/plain": [
       "0.8822775524294468"
      ]
     },
     "execution_count": 49,
     "metadata": {},
     "output_type": "execute_result"
    }
   ],
   "source": [
    "tfidf_w2v_grid.best_score_"
   ]
  },
  {
   "cell_type": "code",
   "execution_count": 50,
   "metadata": {},
   "outputs": [
    {
     "data": {
      "text/plain": [
       "LogisticRegression(C=1, class_weight=None, dual=False, fit_intercept=True,\n",
       "          intercept_scaling=1, max_iter=200, multi_class='ovr', n_jobs=1,\n",
       "          penalty='l2', random_state=33, solver='liblinear', tol=0.0001,\n",
       "          verbose=0, warm_start=False)"
      ]
     },
     "execution_count": 50,
     "metadata": {},
     "output_type": "execute_result"
    }
   ],
   "source": [
    "tfidf_w2v_grid.best_estimator_"
   ]
  },
  {
   "cell_type": "code",
   "execution_count": 114,
   "metadata": {},
   "outputs": [],
   "source": [
    "#Random Search\n",
    "tfidf_rand=random_s(std_train_tfidfw2v,'l2')"
   ]
  },
  {
   "cell_type": "code",
   "execution_count": 115,
   "metadata": {
    "scrolled": true
   },
   "outputs": [
    {
     "name": "stdout",
     "output_type": "stream",
     "text": [
      "Fitting 10 folds for each of 1 candidates, totalling 10 fits\n",
      "[CV] C=31.3515259535785 ..............................................\n",
      "[CV] ............................... C=31.3515259535785, total=   0.7s\n"
     ]
    },
    {
     "name": "stderr",
     "output_type": "stream",
     "text": [
      "[Parallel(n_jobs=1)]: Done   1 out of   1 | elapsed:    0.9s remaining:    0.0s\n"
     ]
    },
    {
     "name": "stdout",
     "output_type": "stream",
     "text": [
      "[CV] C=31.3515259535785 ..............................................\n",
      "[CV] ............................... C=31.3515259535785, total=   1.4s\n",
      "[CV] C=31.3515259535785 ..............................................\n",
      "[CV] ............................... C=31.3515259535785, total=   2.6s\n",
      "[CV] C=31.3515259535785 ..............................................\n",
      "[CV] ............................... C=31.3515259535785, total=   3.8s\n",
      "[CV] C=31.3515259535785 ..............................................\n",
      "[CV] ............................... C=31.3515259535785, total=   4.9s\n",
      "[CV] C=31.3515259535785 ..............................................\n",
      "[CV] ............................... C=31.3515259535785, total=   6.0s\n",
      "[CV] C=31.3515259535785 ..............................................\n",
      "[CV] ............................... C=31.3515259535785, total=   6.2s\n",
      "[CV] C=31.3515259535785 ..............................................\n",
      "[CV] ............................... C=31.3515259535785, total=   7.0s\n",
      "[CV] C=31.3515259535785 ..............................................\n",
      "[CV] ............................... C=31.3515259535785, total=   8.1s\n",
      "[CV] C=31.3515259535785 ..............................................\n",
      "[CV] ............................... C=31.3515259535785, total=   9.0s\n"
     ]
    },
    {
     "name": "stderr",
     "output_type": "stream",
     "text": [
      "[Parallel(n_jobs=1)]: Done  10 out of  10 | elapsed:  1.0min finished\n"
     ]
    },
    {
     "data": {
      "text/plain": [
       "GridSearchCV(cv=<generator object TimeSeriesSplit.split at 0x0000026A3ED54A40>,\n",
       "       error_score='raise',\n",
       "       estimator=LogisticRegression(C=1.0, class_weight=None, dual=False, fit_intercept=True,\n",
       "          intercept_scaling=1, max_iter=100, multi_class='ovr', n_jobs=1,\n",
       "          penalty='l2', random_state=33, solver='liblinear', tol=0.0001,\n",
       "          verbose=0, warm_start=False),\n",
       "       fit_params=None, iid=True, n_jobs=1,\n",
       "       param_grid={'C': [31.3515259535785]}, pre_dispatch='2*n_jobs',\n",
       "       refit=True, return_train_score='warn', scoring='accuracy',\n",
       "       verbose=2)"
      ]
     },
     "execution_count": 115,
     "metadata": {},
     "output_type": "execute_result"
    }
   ],
   "source": [
    "tfidf_rand.fit(std_train_tfidfw2v,train['Score'])"
   ]
  },
  {
   "cell_type": "code",
   "execution_count": 116,
   "metadata": {},
   "outputs": [
    {
     "data": {
      "text/plain": [
       "LogisticRegression(C=31.3515259535785, class_weight=None, dual=False,\n",
       "          fit_intercept=True, intercept_scaling=1, max_iter=100,\n",
       "          multi_class='ovr', n_jobs=1, penalty='l2', random_state=33,\n",
       "          solver='liblinear', tol=0.0001, verbose=0, warm_start=False)"
      ]
     },
     "execution_count": 116,
     "metadata": {},
     "output_type": "execute_result"
    }
   ],
   "source": [
    "tfidf_rand.best_estimator_"
   ]
  },
  {
   "cell_type": "code",
   "execution_count": 117,
   "metadata": {},
   "outputs": [
    {
     "data": {
      "text/plain": [
       "0.8822430309829982"
      ]
     },
     "execution_count": 117,
     "metadata": {},
     "output_type": "execute_result"
    }
   ],
   "source": [
    "tfidf_rand.best_score_"
   ]
  },
  {
   "cell_type": "code",
   "execution_count": 118,
   "metadata": {},
   "outputs": [],
   "source": [
    "tfidf_w2v_model=LogisticRegression(C=31.3515259535785, class_weight=None, dual=False,\n",
    "          fit_intercept=True, intercept_scaling=1, max_iter=100,\n",
    "          multi_class='ovr', n_jobs=1, penalty='l2', random_state=33,\n",
    "          solver='liblinear', tol=0.0001, verbose=0, warm_start=False)"
   ]
  },
  {
   "cell_type": "code",
   "execution_count": 119,
   "metadata": {},
   "outputs": [
    {
     "data": {
      "text/plain": [
       "LogisticRegression(C=31.3515259535785, class_weight=None, dual=False,\n",
       "          fit_intercept=True, intercept_scaling=1, max_iter=100,\n",
       "          multi_class='ovr', n_jobs=1, penalty='l2', random_state=33,\n",
       "          solver='liblinear', tol=0.0001, verbose=0, warm_start=False)"
      ]
     },
     "execution_count": 119,
     "metadata": {},
     "output_type": "execute_result"
    }
   ],
   "source": [
    "tfidf_w2v_model.fit(std_train_tfidfw2v,train['Score'])"
   ]
  },
  {
   "cell_type": "code",
   "execution_count": 120,
   "metadata": {},
   "outputs": [],
   "source": [
    "pred=tfidf_w2v_model.predict(std_test_tfidfw2v)"
   ]
  },
  {
   "cell_type": "code",
   "execution_count": 121,
   "metadata": {},
   "outputs": [],
   "source": [
    "tfidfw2v_acc=accuracy_score(pred,test['Score'])"
   ]
  },
  {
   "cell_type": "code",
   "execution_count": 122,
   "metadata": {},
   "outputs": [
    {
     "name": "stdout",
     "output_type": "stream",
     "text": [
      "55.52992649952861\n"
     ]
    }
   ],
   "source": [
    "print(tfidfw2v_acc*100)"
   ]
  },
  {
   "cell_type": "markdown",
   "metadata": {},
   "source": [
    "### L1 Regulariser:"
   ]
  },
  {
   "cell_type": "code",
   "execution_count": 55,
   "metadata": {},
   "outputs": [],
   "source": [
    "tfidf_w2v_grid=grid_s(std_train_tfidfw2v,'l1')"
   ]
  },
  {
   "cell_type": "code",
   "execution_count": 56,
   "metadata": {
    "scrolled": true
   },
   "outputs": [
    {
     "name": "stdout",
     "output_type": "stream",
     "text": [
      "Fitting 10 folds for each of 4 candidates, totalling 40 fits\n",
      "[CV] C=0.0001 ........................................................\n",
      "[CV] ......................................... C=0.0001, total=   0.4s\n"
     ]
    },
    {
     "name": "stderr",
     "output_type": "stream",
     "text": [
      "[Parallel(n_jobs=1)]: Done   1 out of   1 | elapsed:    0.6s remaining:    0.0s\n"
     ]
    },
    {
     "name": "stdout",
     "output_type": "stream",
     "text": [
      "[CV] C=0.0001 ........................................................\n",
      "[CV] ......................................... C=0.0001, total=   0.6s\n",
      "[CV] C=0.0001 ........................................................\n",
      "[CV] ......................................... C=0.0001, total=   1.1s\n",
      "[CV] C=0.0001 ........................................................\n",
      "[CV] ......................................... C=0.0001, total=   1.5s\n",
      "[CV] C=0.0001 ........................................................\n",
      "[CV] ......................................... C=0.0001, total=   2.0s\n",
      "[CV] C=0.0001 ........................................................\n",
      "[CV] ......................................... C=0.0001, total=   2.1s\n",
      "[CV] C=0.0001 ........................................................\n",
      "[CV] ......................................... C=0.0001, total=   3.1s\n",
      "[CV] C=0.0001 ........................................................\n",
      "[CV] ......................................... C=0.0001, total=   3.5s\n",
      "[CV] C=0.0001 ........................................................\n",
      "[CV] ......................................... C=0.0001, total=   4.5s\n",
      "[CV] C=0.0001 ........................................................\n",
      "[CV] ......................................... C=0.0001, total=   4.2s\n",
      "[CV] C=0.01 ..........................................................\n",
      "[CV] ........................................... C=0.01, total=   2.0s\n",
      "[CV] C=0.01 ..........................................................\n",
      "[CV] ........................................... C=0.01, total=   2.9s\n",
      "[CV] C=0.01 ..........................................................\n",
      "[CV] ........................................... C=0.01, total=   6.1s\n",
      "[CV] C=0.01 ..........................................................\n",
      "[CV] ........................................... C=0.01, total=  11.7s\n",
      "[CV] C=0.01 ..........................................................\n",
      "[CV] ........................................... C=0.01, total=  25.7s\n",
      "[CV] C=0.01 ..........................................................\n",
      "[CV] ........................................... C=0.01, total=  24.3s\n",
      "[CV] C=0.01 ..........................................................\n",
      "[CV] ........................................... C=0.01, total=  42.6s\n",
      "[CV] C=0.01 ..........................................................\n",
      "[CV] ........................................... C=0.01, total=  33.0s\n",
      "[CV] C=0.01 ..........................................................\n",
      "[CV] ........................................... C=0.01, total=  40.2s\n",
      "[CV] C=0.01 ..........................................................\n",
      "[CV] ........................................... C=0.01, total=  48.6s\n",
      "[CV] C=1 .............................................................\n",
      "[CV] .............................................. C=1, total=   4.6s\n",
      "[CV] C=1 .............................................................\n",
      "[CV] .............................................. C=1, total=  10.7s\n",
      "[CV] C=1 .............................................................\n",
      "[CV] .............................................. C=1, total=  24.1s\n",
      "[CV] C=1 .............................................................\n",
      "[CV] .............................................. C=1, total=  22.3s\n",
      "[CV] C=1 .............................................................\n",
      "[CV] .............................................. C=1, total=  30.5s\n",
      "[CV] C=1 .............................................................\n",
      "[CV] .............................................. C=1, total=  40.0s\n",
      "[CV] C=1 .............................................................\n",
      "[CV] .............................................. C=1, total=  53.0s\n",
      "[CV] C=1 .............................................................\n",
      "[CV] .............................................. C=1, total= 1.1min\n",
      "[CV] C=1 .............................................................\n",
      "[CV] .............................................. C=1, total= 1.2min\n",
      "[CV] C=1 .............................................................\n",
      "[CV] .............................................. C=1, total= 1.5min\n",
      "[CV] C=100 ...........................................................\n",
      "[CV] ............................................ C=100, total=   6.7s\n",
      "[CV] C=100 ...........................................................\n",
      "[CV] ............................................ C=100, total=  11.0s\n",
      "[CV] C=100 ...........................................................\n",
      "[CV] ............................................ C=100, total=  19.2s\n",
      "[CV] C=100 ...........................................................\n",
      "[CV] ............................................ C=100, total=  25.3s\n",
      "[CV] C=100 ...........................................................\n",
      "[CV] ............................................ C=100, total=  31.6s\n",
      "[CV] C=100 ...........................................................\n",
      "[CV] ............................................ C=100, total=  55.1s\n",
      "[CV] C=100 ...........................................................\n",
      "[CV] ............................................ C=100, total=  50.6s\n",
      "[CV] C=100 ...........................................................\n",
      "[CV] ............................................ C=100, total=  59.7s\n",
      "[CV] C=100 ...........................................................\n",
      "[CV] ............................................ C=100, total= 1.2min\n",
      "[CV] C=100 ...........................................................\n",
      "[CV] ............................................ C=100, total= 1.5min\n"
     ]
    },
    {
     "name": "stderr",
     "output_type": "stream",
     "text": [
      "[Parallel(n_jobs=1)]: Done  40 out of  40 | elapsed: 19.0min finished\n"
     ]
    },
    {
     "data": {
      "text/plain": [
       "GridSearchCV(cv=<generator object TimeSeriesSplit.split at 0x0000023D12951780>,\n",
       "       error_score='raise',\n",
       "       estimator=LogisticRegression(C=1.0, class_weight=None, dual=False, fit_intercept=True,\n",
       "          intercept_scaling=1, max_iter=200, multi_class='ovr', n_jobs=1,\n",
       "          penalty='l1', random_state=33, solver='liblinear', tol=0.0001,\n",
       "          verbose=0, warm_start=False),\n",
       "       fit_params=None, iid=True, n_jobs=1,\n",
       "       param_grid=[{'C': [0.0001, 0.01, 1, 100]}], pre_dispatch='2*n_jobs',\n",
       "       refit=True, return_train_score='warn', scoring='accuracy',\n",
       "       verbose=2)"
      ]
     },
     "execution_count": 56,
     "metadata": {},
     "output_type": "execute_result"
    }
   ],
   "source": [
    "tfidf_w2v_grid.fit(std_train_tfidfw2v,train['Score'])"
   ]
  },
  {
   "cell_type": "code",
   "execution_count": 57,
   "metadata": {},
   "outputs": [
    {
     "data": {
      "text/plain": [
       "0.8822646068870286"
      ]
     },
     "execution_count": 57,
     "metadata": {},
     "output_type": "execute_result"
    }
   ],
   "source": [
    "tfidf_w2v_grid.best_score_"
   ]
  },
  {
   "cell_type": "code",
   "execution_count": 58,
   "metadata": {},
   "outputs": [
    {
     "data": {
      "text/plain": [
       "LogisticRegression(C=100, class_weight=None, dual=False, fit_intercept=True,\n",
       "          intercept_scaling=1, max_iter=200, multi_class='ovr', n_jobs=1,\n",
       "          penalty='l1', random_state=33, solver='liblinear', tol=0.0001,\n",
       "          verbose=0, warm_start=False)"
      ]
     },
     "execution_count": 58,
     "metadata": {},
     "output_type": "execute_result"
    }
   ],
   "source": [
    "tfidf_w2v_grid.best_estimator_"
   ]
  },
  {
   "cell_type": "code",
   "execution_count": 123,
   "metadata": {},
   "outputs": [],
   "source": [
    "#Random Search\n",
    "tfidf_rand=random_s(std_train_tfidfw2v,'l1')"
   ]
  },
  {
   "cell_type": "code",
   "execution_count": 124,
   "metadata": {
    "scrolled": true
   },
   "outputs": [
    {
     "name": "stdout",
     "output_type": "stream",
     "text": [
      "Fitting 10 folds for each of 1 candidates, totalling 10 fits\n",
      "[CV] C=71.25536743771521 .............................................\n",
      "[CV] .............................. C=71.25536743771521, total=   7.4s\n"
     ]
    },
    {
     "name": "stderr",
     "output_type": "stream",
     "text": [
      "[Parallel(n_jobs=1)]: Done   1 out of   1 | elapsed:    7.6s remaining:    0.0s\n"
     ]
    },
    {
     "name": "stdout",
     "output_type": "stream",
     "text": [
      "[CV] C=71.25536743771521 .............................................\n",
      "[CV] .............................. C=71.25536743771521, total=  11.7s\n",
      "[CV] C=71.25536743771521 .............................................\n",
      "[CV] .............................. C=71.25536743771521, total=  19.8s\n",
      "[CV] C=71.25536743771521 .............................................\n",
      "[CV] .............................. C=71.25536743771521, total=  24.5s\n",
      "[CV] C=71.25536743771521 .............................................\n",
      "[CV] .............................. C=71.25536743771521, total=  32.0s\n",
      "[CV] C=71.25536743771521 .............................................\n",
      "[CV] .............................. C=71.25536743771521, total=  56.0s\n",
      "[CV] C=71.25536743771521 .............................................\n",
      "[CV] .............................. C=71.25536743771521, total=  51.2s\n",
      "[CV] C=71.25536743771521 .............................................\n",
      "[CV] .............................. C=71.25536743771521, total= 1.0min\n",
      "[CV] C=71.25536743771521 .............................................\n",
      "[CV] .............................. C=71.25536743771521, total= 1.2min\n",
      "[CV] C=71.25536743771521 .............................................\n",
      "[CV] .............................. C=71.25536743771521, total= 1.2min\n"
     ]
    },
    {
     "name": "stderr",
     "output_type": "stream",
     "text": [
      "[Parallel(n_jobs=1)]: Done  10 out of  10 | elapsed:  7.0min finished\n"
     ]
    },
    {
     "data": {
      "text/plain": [
       "GridSearchCV(cv=<generator object TimeSeriesSplit.split at 0x0000026A3ED54888>,\n",
       "       error_score='raise',\n",
       "       estimator=LogisticRegression(C=1.0, class_weight=None, dual=False, fit_intercept=True,\n",
       "          intercept_scaling=1, max_iter=100, multi_class='ovr', n_jobs=1,\n",
       "          penalty='l1', random_state=33, solver='liblinear', tol=0.0001,\n",
       "          verbose=0, warm_start=False),\n",
       "       fit_params=None, iid=True, n_jobs=1,\n",
       "       param_grid={'C': [71.25536743771521]}, pre_dispatch='2*n_jobs',\n",
       "       refit=True, return_train_score='warn', scoring='accuracy',\n",
       "       verbose=2)"
      ]
     },
     "execution_count": 124,
     "metadata": {},
     "output_type": "execute_result"
    }
   ],
   "source": [
    "tfidf_rand.fit(std_train_tfidfw2v,train['Score'])"
   ]
  },
  {
   "cell_type": "code",
   "execution_count": 125,
   "metadata": {},
   "outputs": [
    {
     "data": {
      "text/plain": [
       "LogisticRegression(C=71.25536743771521, class_weight=None, dual=False,\n",
       "          fit_intercept=True, intercept_scaling=1, max_iter=100,\n",
       "          multi_class='ovr', n_jobs=1, penalty='l1', random_state=33,\n",
       "          solver='liblinear', tol=0.0001, verbose=0, warm_start=False)"
      ]
     },
     "execution_count": 125,
     "metadata": {},
     "output_type": "execute_result"
    }
   ],
   "source": [
    "tfidf_rand.best_estimator_"
   ]
  },
  {
   "cell_type": "code",
   "execution_count": 126,
   "metadata": {},
   "outputs": [
    {
     "data": {
      "text/plain": [
       "0.8822646068870286"
      ]
     },
     "execution_count": 126,
     "metadata": {},
     "output_type": "execute_result"
    }
   ],
   "source": [
    "tfidf_rand.best_score_"
   ]
  },
  {
   "cell_type": "code",
   "execution_count": 127,
   "metadata": {},
   "outputs": [],
   "source": [
    "tfidf_w2v_model=LogisticRegression(C=71.25536743771521, class_weight='balanced', dual=False,\n",
    "          fit_intercept=True, intercept_scaling=1, max_iter=100,\n",
    "          multi_class='ovr', n_jobs=1, penalty='l1', random_state=33,\n",
    "          solver='liblinear', tol=0.0001, verbose=0, warm_start=False)"
   ]
  },
  {
   "cell_type": "code",
   "execution_count": 128,
   "metadata": {},
   "outputs": [
    {
     "data": {
      "text/plain": [
       "LogisticRegression(C=71.25536743771521, class_weight='balanced', dual=False,\n",
       "          fit_intercept=True, intercept_scaling=1, max_iter=100,\n",
       "          multi_class='ovr', n_jobs=1, penalty='l1', random_state=33,\n",
       "          solver='liblinear', tol=0.0001, verbose=0, warm_start=False)"
      ]
     },
     "execution_count": 128,
     "metadata": {},
     "output_type": "execute_result"
    }
   ],
   "source": [
    "tfidf_w2v_model.fit(std_train_tfidfw2v,train['Score'])"
   ]
  },
  {
   "cell_type": "code",
   "execution_count": 129,
   "metadata": {},
   "outputs": [],
   "source": [
    "pred1=tfidf_w2v_model.predict(std_test_tfidfw2v)"
   ]
  },
  {
   "cell_type": "code",
   "execution_count": 130,
   "metadata": {},
   "outputs": [],
   "source": [
    "tfidfw2v_acc=accuracy_score(pred1,test['Score'])"
   ]
  },
  {
   "cell_type": "code",
   "execution_count": 131,
   "metadata": {},
   "outputs": [
    {
     "name": "stdout",
     "output_type": "stream",
     "text": [
      "44.062754574328835\n"
     ]
    }
   ],
   "source": [
    "print(tfidfw2v_acc*100)"
   ]
  },
  {
   "cell_type": "markdown",
   "metadata": {},
   "source": [
    "### Analysis of Sparsity and Error on L1 regulariser with increase in Lambda"
   ]
  },
  {
   "cell_type": "markdown",
   "metadata": {},
   "source": [
    "Here we are going to analyse 50 dimensional data with different values of Lambda and we are going to analyse how increase in hyperparameter impacts the model."
   ]
  },
  {
   "cell_type": "code",
   "execution_count": 63,
   "metadata": {},
   "outputs": [
    {
     "name": "stdout",
     "output_type": "stream",
     "text": [
      "\n",
      "*************************************************************************************************************\n",
      "\n",
      " lambda = 0.01\n",
      "\n",
      " Number of non zero elements = 50\n",
      "\n",
      " Sparisty = 0.0\n",
      "\n",
      " Error = 0.11369056959045976\n",
      "\n",
      " Score = 0.8863094304095402\n",
      "\n",
      "*************************************************************************************************************\n",
      "\n",
      " lambda = 0.1\n",
      "\n",
      " Number of non zero elements = 50\n",
      "\n",
      " Sparisty = 0.0\n",
      "\n",
      " Error = 0.11368272399184054\n",
      "\n",
      " Score = 0.8863172760081595\n",
      "\n",
      "*************************************************************************************************************\n",
      "\n",
      " lambda = 1.0\n",
      "\n",
      " Number of non zero elements = 50\n",
      "\n",
      " Sparisty = 0.0\n",
      "\n",
      " Error = 0.11366310999529261\n",
      "\n",
      " Score = 0.8863368900047074\n",
      "\n",
      "*************************************************************************************************************\n",
      "\n",
      " lambda = 10.0\n",
      "\n",
      " Number of non zero elements = 49\n",
      "\n",
      " Sparisty = 2.0\n",
      "\n",
      " Error = 0.11374941158010354\n",
      "\n",
      " Score = 0.8862505884198965\n",
      "\n",
      "*************************************************************************************************************\n",
      "\n",
      " lambda = 100.0\n",
      "\n",
      " Number of non zero elements = 48\n",
      "\n",
      " Sparisty = 4.0\n",
      "\n",
      " Error = 0.11392593754903502\n",
      "\n",
      " Score = 0.886074062450965\n"
     ]
    }
   ],
   "source": [
    "#list1=[100,70,40,10,1]\n",
    "l1_analyser(std_train_tfidfw2v,train['Score'])"
   ]
  },
  {
   "cell_type": "markdown",
   "metadata": {},
   "source": [
    "## Performace of Logistic regression model with Tf-idf W2V:"
   ]
  },
  {
   "cell_type": "markdown",
   "metadata": {},
   "source": [
    "#### Performance with L2 regulariser"
   ]
  },
  {
   "cell_type": "code",
   "execution_count": 132,
   "metadata": {},
   "outputs": [
    {
     "name": "stdout",
     "output_type": "stream",
     "text": [
      "\n",
      " ******************************************************************************* \n",
      "\n",
      "TNR value is 0.5107698757926733\n",
      "FNR value is 0.48923012420732664\n",
      "FPR value is 0.4352778085837862\n",
      "TPR value is 0.5647221914162138\n",
      "\n",
      " ******************************************************************************* \n",
      "\n",
      "Confusion Matrix is :\n",
      "[[ 9746  9335]\n",
      " [39249 50921]]\n",
      "\n",
      " ******************************************************************************* \n",
      "\n",
      "Precision is 0.5647221914162138\n",
      "Recall value is 0.845077668613914\n",
      "F1 Score is 0.6770239187374523\n",
      "\n",
      " ******************************************************************************* \n",
      "\n",
      "Heat Map of the Confusion matrix is\n",
      "\n",
      " ******************************************************************************* \n",
      "\n"
     ]
    },
    {
     "data": {
      "image/png": "[encoded data removed]",
      "text/plain": [
       "<Figure size 432x288 with 2 Axes>"
      ]
     },
     "metadata": {},
     "output_type": "display_data"
    }
   ],
   "source": [
    "CM(test['Score'],pred)"
   ]
  },
  {
   "cell_type": "markdown",
   "metadata": {},
   "source": [
    "#### Performance with L1 regulariser"
   ]
  },
  {
   "cell_type": "code",
   "execution_count": 133,
   "metadata": {},
   "outputs": [
    {
     "name": "stdout",
     "output_type": "stream",
     "text": [
      "\n",
      " ******************************************************************************* \n",
      "\n",
      "TNR value is 0.6726586656883811\n",
      "FNR value is 0.3273413343116189\n",
      "FPR value is 0.6084728845514029\n",
      "TPR value is 0.3915271154485971\n",
      "\n",
      " ******************************************************************************* \n",
      "\n",
      "Confusion Matrix is :\n",
      "[[12835  6246]\n",
      " [54866 35304]]\n",
      "\n",
      " ******************************************************************************* \n",
      "\n",
      "Precision is 0.3915271154485971\n",
      "Recall value is 0.8496750902527076\n",
      "F1 Score is 0.5360461585180686\n",
      "\n",
      " ******************************************************************************* \n",
      "\n",
      "Heat Map of the Confusion matrix is\n",
      "\n",
      " ******************************************************************************* \n",
      "\n"
     ]
    },
    {
     "data": {
      "image/png": "[encoded data removed]",
      "text/plain": [
       "<Figure size 432x288 with 2 Axes>"
      ]
     },
     "metadata": {},
     "output_type": "display_data"
    }
   ],
   "source": [
    "CM(test['Score'],pred1)"
   ]
  },
  {
   "cell_type": "markdown",
   "metadata": {},
   "source": [
    "# Performace comparision between different vectorizations::"
   ]
  },
  {
   "cell_type": "markdown",
   "metadata": {},
   "source": [
    "### Before Balancing Class weights : "
   ]
  },
  {
   "cell_type": "code",
   "execution_count": 101,
   "metadata": {},
   "outputs": [],
   "source": [
    "tmp=pd.DataFrame(columns=['Type of Vectorization','No. of Dimensions','Optimal_C-L2','Optimal_C-L1','Accuracy-L2','Accuracy-L1','F1 Score-L2','F1 Score-L1'])\n",
    "tmp.loc[0]=['BOW_Unigram',55207,40.51,16.91,88.59,89.04,0.9315,0.9344]\n",
    "tmp.loc[1]=['BOW_bigram',2184164,4.32,43.42,88.89,90.38,0.9355,0.9355]\n",
    "tmp.loc[2]=['Tf-IDF',55207,35.82,74.35,89.36,88.68,0.9382,0.9454]\n",
    "tmp.loc[3]=['Avg_W2v',50,24.70,43.031,82.87,82.87,0.9056,0.9056]\n",
    "tmp.loc[4]=['Tf-IDF_W2v',50,11.23,2.19,87.16,87.15,0.9256,0.9256]\n"
   ]
  },
  {
   "cell_type": "code",
   "execution_count": 102,
   "metadata": {},
   "outputs": [
    {
     "data": {
      "text/html": [
       "<div>\n",
       "<style scoped>\n",
       "    .dataframe tbody tr th:only-of-type {\n",
       "        vertical-align: middle;\n",
       "    }\n",
       "\n",
       "    .dataframe tbody tr th {\n",
       "        vertical-align: top;\n",
       "    }\n",
       "\n",
       "    .dataframe thead th {\n",
       "        text-align: right;\n",
       "    }\n",
       "</style>\n",
       "<table border=\"1\" class=\"dataframe\">\n",
       "  <thead>\n",
       "    <tr style=\"text-align: right;\">\n",
       "      <th></th>\n",
       "      <th>Type of Vectorization</th>\n",
       "      <th>No. of Dimensions</th>\n",
       "      <th>Optimal_C-L2</th>\n",
       "      <th>Optimal_C-L1</th>\n",
       "      <th>Accuracy-L2</th>\n",
       "      <th>Accuracy-L1</th>\n",
       "      <th>F1 Score-L2</th>\n",
       "      <th>F1 Score-L1</th>\n",
       "    </tr>\n",
       "  </thead>\n",
       "  <tbody>\n",
       "    <tr>\n",
       "      <th>0</th>\n",
       "      <td>BOW_Unigram</td>\n",
       "      <td>55207</td>\n",
       "      <td>40.51</td>\n",
       "      <td>16.910</td>\n",
       "      <td>88.59</td>\n",
       "      <td>89.04</td>\n",
       "      <td>0.9315</td>\n",
       "      <td>0.9344</td>\n",
       "    </tr>\n",
       "    <tr>\n",
       "      <th>1</th>\n",
       "      <td>BOW_bigram</td>\n",
       "      <td>2184164</td>\n",
       "      <td>4.32</td>\n",
       "      <td>43.420</td>\n",
       "      <td>88.89</td>\n",
       "      <td>90.38</td>\n",
       "      <td>0.9355</td>\n",
       "      <td>0.9355</td>\n",
       "    </tr>\n",
       "    <tr>\n",
       "      <th>2</th>\n",
       "      <td>Tf-IDF</td>\n",
       "      <td>55207</td>\n",
       "      <td>35.82</td>\n",
       "      <td>74.350</td>\n",
       "      <td>89.36</td>\n",
       "      <td>88.68</td>\n",
       "      <td>0.9382</td>\n",
       "      <td>0.9454</td>\n",
       "    </tr>\n",
       "    <tr>\n",
       "      <th>3</th>\n",
       "      <td>Avg_W2v</td>\n",
       "      <td>50</td>\n",
       "      <td>24.70</td>\n",
       "      <td>43.031</td>\n",
       "      <td>82.87</td>\n",
       "      <td>82.87</td>\n",
       "      <td>0.9056</td>\n",
       "      <td>0.9056</td>\n",
       "    </tr>\n",
       "    <tr>\n",
       "      <th>4</th>\n",
       "      <td>Tf-IDF_W2v</td>\n",
       "      <td>50</td>\n",
       "      <td>11.23</td>\n",
       "      <td>2.190</td>\n",
       "      <td>87.16</td>\n",
       "      <td>87.15</td>\n",
       "      <td>0.9256</td>\n",
       "      <td>0.9256</td>\n",
       "    </tr>\n",
       "  </tbody>\n",
       "</table>\n",
       "</div>"
      ],
      "text/plain": [
       "  Type of Vectorization No. of Dimensions  Optimal_C-L2  Optimal_C-L1  \\\n",
       "0           BOW_Unigram             55207         40.51        16.910   \n",
       "1            BOW_bigram           2184164          4.32        43.420   \n",
       "2                Tf-IDF             55207         35.82        74.350   \n",
       "3               Avg_W2v                50         24.70        43.031   \n",
       "4            Tf-IDF_W2v                50         11.23         2.190   \n",
       "\n",
       "   Accuracy-L2  Accuracy-L1  F1 Score-L2  F1 Score-L1  \n",
       "0        88.59        89.04       0.9315       0.9344  \n",
       "1        88.89        90.38       0.9355       0.9355  \n",
       "2        89.36        88.68       0.9382       0.9454  \n",
       "3        82.87        82.87       0.9056       0.9056  \n",
       "4        87.16        87.15       0.9256       0.9256  "
      ]
     },
     "execution_count": 102,
     "metadata": {},
     "output_type": "execute_result"
    }
   ],
   "source": [
    "tmp"
   ]
  },
  {
   "cell_type": "markdown",
   "metadata": {},
   "source": [
    "### After balancing class weights"
   ]
  },
  {
   "cell_type": "code",
   "execution_count": 222,
   "metadata": {},
   "outputs": [],
   "source": [
    "tmp=pd.DataFrame(columns=['Type of Vectorization','No. of Dimensions','Optimal_C-L2','Optimal_C-L1','Accuracy-L2','Accuracy-L1','F1 Score-L2','F1 Score-L1'])\n",
    "tmp.loc[0]=['BOW_Unigram',55207,13.86,68.37,86.00,86.33,0.9125,0.9147]\n",
    "tmp.loc[1]=['BOW_bigram',2184164,58.72,11.07,88.81,91.03,0.9350,0.9471]\n",
    "tmp.loc[2]=['Tf-IDF',55207,13.51,75.35,87.71,85.80,0.9112,0.9227]\n",
    "tmp.loc[3]=['Avg_W2v',50,30.97,77.23,55.98,82.87,0.6617,0.9056]\n",
    "tmp.loc[4]=['Tf-IDF_W2v',50,31.32,71.25,55.52,44.06,0.6770,0.5360]"
   ]
  },
  {
   "cell_type": "code",
   "execution_count": 223,
   "metadata": {},
   "outputs": [
    {
     "data": {
      "text/html": [
       "<div>\n",
       "<style scoped>\n",
       "    .dataframe tbody tr th:only-of-type {\n",
       "        vertical-align: middle;\n",
       "    }\n",
       "\n",
       "    .dataframe tbody tr th {\n",
       "        vertical-align: top;\n",
       "    }\n",
       "\n",
       "    .dataframe thead th {\n",
       "        text-align: right;\n",
       "    }\n",
       "</style>\n",
       "<table border=\"1\" class=\"dataframe\">\n",
       "  <thead>\n",
       "    <tr style=\"text-align: right;\">\n",
       "      <th></th>\n",
       "      <th>Type of Vectorization</th>\n",
       "      <th>No. of Dimensions</th>\n",
       "      <th>Optimal_C-L2</th>\n",
       "      <th>Optimal_C-L1</th>\n",
       "      <th>Accuracy-L2</th>\n",
       "      <th>Accuracy-L1</th>\n",
       "      <th>F1 Score-L2</th>\n",
       "      <th>F1 Score-L1</th>\n",
       "    </tr>\n",
       "  </thead>\n",
       "  <tbody>\n",
       "    <tr>\n",
       "      <th>0</th>\n",
       "      <td>BOW_Unigram</td>\n",
       "      <td>55207</td>\n",
       "      <td>13.86</td>\n",
       "      <td>68.37</td>\n",
       "      <td>86.00</td>\n",
       "      <td>86.33</td>\n",
       "      <td>0.9125</td>\n",
       "      <td>0.9147</td>\n",
       "    </tr>\n",
       "    <tr>\n",
       "      <th>1</th>\n",
       "      <td>BOW_bigram</td>\n",
       "      <td>2184164</td>\n",
       "      <td>58.72</td>\n",
       "      <td>11.07</td>\n",
       "      <td>88.81</td>\n",
       "      <td>91.03</td>\n",
       "      <td>0.9350</td>\n",
       "      <td>0.9471</td>\n",
       "    </tr>\n",
       "    <tr>\n",
       "      <th>2</th>\n",
       "      <td>Tf-IDF</td>\n",
       "      <td>55207</td>\n",
       "      <td>13.51</td>\n",
       "      <td>75.35</td>\n",
       "      <td>87.71</td>\n",
       "      <td>85.80</td>\n",
       "      <td>0.9112</td>\n",
       "      <td>0.9227</td>\n",
       "    </tr>\n",
       "    <tr>\n",
       "      <th>3</th>\n",
       "      <td>Avg_W2v</td>\n",
       "      <td>50</td>\n",
       "      <td>30.97</td>\n",
       "      <td>77.23</td>\n",
       "      <td>55.98</td>\n",
       "      <td>82.87</td>\n",
       "      <td>0.6617</td>\n",
       "      <td>0.9056</td>\n",
       "    </tr>\n",
       "    <tr>\n",
       "      <th>4</th>\n",
       "      <td>Tf-IDF_W2v</td>\n",
       "      <td>50</td>\n",
       "      <td>31.32</td>\n",
       "      <td>71.25</td>\n",
       "      <td>55.52</td>\n",
       "      <td>44.06</td>\n",
       "      <td>0.6770</td>\n",
       "      <td>0.5360</td>\n",
       "    </tr>\n",
       "  </tbody>\n",
       "</table>\n",
       "</div>"
      ],
      "text/plain": [
       "  Type of Vectorization No. of Dimensions  Optimal_C-L2  Optimal_C-L1  \\\n",
       "0           BOW_Unigram             55207         13.86         68.37   \n",
       "1            BOW_bigram           2184164         58.72         11.07   \n",
       "2                Tf-IDF             55207         13.51         75.35   \n",
       "3               Avg_W2v                50         30.97         77.23   \n",
       "4            Tf-IDF_W2v                50         31.32         71.25   \n",
       "\n",
       "   Accuracy-L2  Accuracy-L1  F1 Score-L2  F1 Score-L1  \n",
       "0        86.00        86.33       0.9125       0.9147  \n",
       "1        88.81        91.03       0.9350       0.9471  \n",
       "2        87.71        85.80       0.9112       0.9227  \n",
       "3        55.98        82.87       0.6617       0.9056  \n",
       "4        55.52        44.06       0.6770       0.5360  "
      ]
     },
     "execution_count": 223,
     "metadata": {},
     "output_type": "execute_result"
    }
   ],
   "source": [
    "tmp"
   ]
  },
  {
   "cell_type": "markdown",
   "metadata": {},
   "source": [
    "# Conclusion from above exercise:"
   ]
  },
  {
   "cell_type": "markdown",
   "metadata": {},
   "source": [
    "1.) The accuracy is high in BOW_Bigram with L1 regulariser and F1 score is high in TfIdf vectorizations with L1 regulariser.\n",
    "\n",
    "2.) Average word2vec and TfIdf weighted word2vec, since they have only 50D vector for each text,their accuracy is on the much lower side than the counterparts.\n",
    "\n",
    "3.) The features here are multicollinear and so we can't use our weight vector to interpret the Feature importance and we need to employ, Forward feature selection methods in order to do it.\n",
    "\n",
    "4.)L1 regularisation is analyser for all type of Vectroizations for various alpha values and it is clear that as alpha increases, sparsity increases and train score decreases.\n",
    "\n",
    "5.) After balancing the dataset, accuracy decreases for everything except BOW_Bigram, where Accuracy and F1 Score are improved.\n",
    "\n",
    "6.) Word2vec models perform too poor after balancing the dataset, acuracy is too lower for 'TF-IDF- Word2vec with L1 regulariser'. \n",
    "\n",
    "*****************************************************************************************************************************\n",
    "\n",
    "#### From above exercise I suggest that \"TF IDF with L1 regulariser \" can be used as it is highest on F1 score comparision with others and also each data here occupies 1/5th of the dimension taken for BOW_Bigram .\n",
    "\n",
    "#### After balancing the datset, BOW_Bigram with L1 regulariser is working best, with highest accuracy and F1 score of 0.947.\n",
    "\n"
   ]
  },
  {
   "cell_type": "code",
   "execution_count": null,
   "metadata": {},
   "outputs": [],
   "source": []
  }
 ],
 "metadata": {
  "kernelspec": {
   "display_name": "Python 3",
   "language": "python",
   "name": "python3"
  },
  "language_info": {
   "codemirror_mode": {
    "name": "ipython",
    "version": 3
   },
   "file_extension": ".py",
   "mimetype": "text/x-python",
   "name": "python",
   "nbconvert_exporter": "python",
   "pygments_lexer": "ipython3",
   "version": "3.6.5"
  }
 },
 "nbformat": 4,
 "nbformat_minor": 2
}
