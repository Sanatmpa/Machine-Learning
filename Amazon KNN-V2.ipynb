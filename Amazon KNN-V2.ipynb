{
 "cells": [
  {
   "cell_type": "markdown",
   "metadata": {},
   "source": [
    "# Amazon Fine foods review - KNN Classifier"
   ]
  },
  {
   "cell_type": "markdown",
   "metadata": {},
   "source": [
    "### Objectives:\n",
    "\n",
    " * Here we will design a simple KNN Classifier model to predict if the given review is Positive or Negative based on the words used in the text.\n",
    " \n",
    "\n",
    " * We will be using 4 type of Vectorizations of each reviews before building a model, Bag of words, Tf IDF, Average Word2Vec, Tf-IDF weighted Word2Vec.\n",
    " \n",
    "\n",
    " * We will estimate the model based on Accuracy and F1 Score.\n",
    " \n",
    " "
   ]
  },
  {
   "cell_type": "code",
   "execution_count": 1,
   "metadata": {},
   "outputs": [],
   "source": [
    "import pandas as pd\n",
    "import numpy as np\n",
    "import sqlite3\n",
    "import nltk\n",
    "from sklearn.preprocessing import StandardScaler\n",
    "from sklearn.feature_extraction.text import CountVectorizer\n",
    "from sklearn.feature_extraction.text import TfidfVectorizer\n",
    "from sklearn.neighbors import KNeighborsClassifier\n",
    "from sklearn.model_selection import cross_val_score\n",
    "from sklearn.metrics import accuracy_score\n",
    "from sklearn.metrics import confusion_matrix\n",
    "import seaborn as sns\n",
    "import matplotlib.pyplot as plt"
   ]
  },
  {
   "cell_type": "code",
   "execution_count": 2,
   "metadata": {},
   "outputs": [],
   "source": [
    "#Connecting with database of cleaned words\n",
    "\n",
    "conn = sqlite3.connect('G:\\ML\\Data_Sets\\Amazon\\Final1_DB.sqlite')"
   ]
  },
  {
   "cell_type": "code",
   "execution_count": 3,
   "metadata": {},
   "outputs": [],
   "source": [
    "data=pd.read_sql_query( '''select * from reviews''',conn)"
   ]
  },
  {
   "cell_type": "raw",
   "metadata": {},
   "source": [
    "data.head(3)\n"
   ]
  },
  {
   "cell_type": "raw",
   "metadata": {},
   "source": [
    "data['Score'].value_counts()"
   ]
  },
  {
   "cell_type": "markdown",
   "metadata": {},
   "source": [
    "## Time based Sorting:"
   ]
  },
  {
   "cell_type": "markdown",
   "metadata": {},
   "source": [
    "Since the reviews change with respect to time, the accuracy we provide will be similar to the generalised accuracy for future query points if we build our model based on Time based sorting and splitting of data."
   ]
  },
  {
   "cell_type": "code",
   "execution_count": 4,
   "metadata": {},
   "outputs": [],
   "source": [
    "sorted_data= data.sort_values('Time',axis=0,ascending = True)"
   ]
  },
  {
   "cell_type": "code",
   "execution_count": 7,
   "metadata": {},
   "outputs": [
    {
     "data": {
      "text/html": [
       "<div>\n",
       "<style scoped>\n",
       "    .dataframe tbody tr th:only-of-type {\n",
       "        vertical-align: middle;\n",
       "    }\n",
       "\n",
       "    .dataframe tbody tr th {\n",
       "        vertical-align: top;\n",
       "    }\n",
       "\n",
       "    .dataframe thead th {\n",
       "        text-align: right;\n",
       "    }\n",
       "</style>\n",
       "<table border=\"1\" class=\"dataframe\">\n",
       "  <thead>\n",
       "    <tr style=\"text-align: right;\">\n",
       "      <th></th>\n",
       "      <th>index</th>\n",
       "      <th>Id</th>\n",
       "      <th>ProductId</th>\n",
       "      <th>UserId</th>\n",
       "      <th>ProfileName</th>\n",
       "      <th>HelpfulnessNumerator</th>\n",
       "      <th>HelpfulnessDenominator</th>\n",
       "      <th>Score</th>\n",
       "      <th>Time</th>\n",
       "      <th>Summary</th>\n",
       "      <th>Text</th>\n",
       "      <th>New</th>\n",
       "    </tr>\n",
       "  </thead>\n",
       "  <tbody>\n",
       "    <tr>\n",
       "      <th>0</th>\n",
       "      <td>138706</td>\n",
       "      <td>150524</td>\n",
       "      <td>0006641040</td>\n",
       "      <td>ACITT7DI6IDDL</td>\n",
       "      <td>shari zychinski</td>\n",
       "      <td>0</td>\n",
       "      <td>0</td>\n",
       "      <td>positive</td>\n",
       "      <td>939340800</td>\n",
       "      <td>EVERY book is educational</td>\n",
       "      <td>this witty little book makes my son laugh at l...</td>\n",
       "      <td>witti littl book make son laugh loud recit car...</td>\n",
       "    </tr>\n",
       "    <tr>\n",
       "      <th>30</th>\n",
       "      <td>138683</td>\n",
       "      <td>150501</td>\n",
       "      <td>0006641040</td>\n",
       "      <td>AJ46FKXOVC7NR</td>\n",
       "      <td>Nicholas A Mesiano</td>\n",
       "      <td>2</td>\n",
       "      <td>2</td>\n",
       "      <td>positive</td>\n",
       "      <td>940809600</td>\n",
       "      <td>This whole series is great way to spend time w...</td>\n",
       "      <td>I can remember seeing the show when it aired o...</td>\n",
       "      <td>rememb see show air televis year child sister ...</td>\n",
       "    </tr>\n",
       "    <tr>\n",
       "      <th>424</th>\n",
       "      <td>417839</td>\n",
       "      <td>451856</td>\n",
       "      <td>B00004CXX9</td>\n",
       "      <td>AIUWLEQ1ADEG5</td>\n",
       "      <td>Elizabeth Medina</td>\n",
       "      <td>0</td>\n",
       "      <td>0</td>\n",
       "      <td>positive</td>\n",
       "      <td>944092800</td>\n",
       "      <td>Entertainingl Funny!</td>\n",
       "      <td>Beetlejuice is a well written movie ..... ever...</td>\n",
       "      <td>beetlejuic well written movi everyth excel fro...</td>\n",
       "    </tr>\n",
       "    <tr>\n",
       "      <th>330</th>\n",
       "      <td>346055</td>\n",
       "      <td>374359</td>\n",
       "      <td>B00004CI84</td>\n",
       "      <td>A344SMIA5JECGM</td>\n",
       "      <td>Vincent P. Ross</td>\n",
       "      <td>1</td>\n",
       "      <td>2</td>\n",
       "      <td>positive</td>\n",
       "      <td>944438400</td>\n",
       "      <td>A modern day fairy tale</td>\n",
       "      <td>A twist of rumplestiskin captured on film, sta...</td>\n",
       "      <td>twist rumplestiskin captur star michael keaton...</td>\n",
       "    </tr>\n",
       "    <tr>\n",
       "      <th>423</th>\n",
       "      <td>417838</td>\n",
       "      <td>451855</td>\n",
       "      <td>B00004CXX9</td>\n",
       "      <td>AJH6LUC1UT1ON</td>\n",
       "      <td>The Phantom of the Opera</td>\n",
       "      <td>0</td>\n",
       "      <td>0</td>\n",
       "      <td>positive</td>\n",
       "      <td>946857600</td>\n",
       "      <td>FANTASTIC!</td>\n",
       "      <td>Beetlejuice is an excellent and funny movie. K...</td>\n",
       "      <td>beetlejuic excel funni movi keaton hilari wack...</td>\n",
       "    </tr>\n",
       "  </tbody>\n",
       "</table>\n",
       "</div>"
      ],
      "text/plain": [
       "      index      Id   ProductId          UserId               ProfileName  \\\n",
       "0    138706  150524  0006641040   ACITT7DI6IDDL           shari zychinski   \n",
       "30   138683  150501  0006641040   AJ46FKXOVC7NR        Nicholas A Mesiano   \n",
       "424  417839  451856  B00004CXX9   AIUWLEQ1ADEG5          Elizabeth Medina   \n",
       "330  346055  374359  B00004CI84  A344SMIA5JECGM           Vincent P. Ross   \n",
       "423  417838  451855  B00004CXX9   AJH6LUC1UT1ON  The Phantom of the Opera   \n",
       "\n",
       "     HelpfulnessNumerator  HelpfulnessDenominator     Score       Time  \\\n",
       "0                       0                       0  positive  939340800   \n",
       "30                      2                       2  positive  940809600   \n",
       "424                     0                       0  positive  944092800   \n",
       "330                     1                       2  positive  944438400   \n",
       "423                     0                       0  positive  946857600   \n",
       "\n",
       "                                               Summary  \\\n",
       "0                            EVERY book is educational   \n",
       "30   This whole series is great way to spend time w...   \n",
       "424                               Entertainingl Funny!   \n",
       "330                            A modern day fairy tale   \n",
       "423                                         FANTASTIC!   \n",
       "\n",
       "                                                  Text  \\\n",
       "0    this witty little book makes my son laugh at l...   \n",
       "30   I can remember seeing the show when it aired o...   \n",
       "424  Beetlejuice is a well written movie ..... ever...   \n",
       "330  A twist of rumplestiskin captured on film, sta...   \n",
       "423  Beetlejuice is an excellent and funny movie. K...   \n",
       "\n",
       "                                                   New  \n",
       "0    witti littl book make son laugh loud recit car...  \n",
       "30   rememb see show air televis year child sister ...  \n",
       "424  beetlejuic well written movi everyth excel fro...  \n",
       "330  twist rumplestiskin captur star michael keaton...  \n",
       "423  beetlejuic excel funni movi keaton hilari wack...  "
      ]
     },
     "execution_count": 7,
     "metadata": {},
     "output_type": "execute_result"
    }
   ],
   "source": [
    "sorted_data.head()"
   ]
  },
  {
   "cell_type": "code",
   "execution_count": 8,
   "metadata": {},
   "outputs": [
    {
     "data": {
      "text/plain": [
       "(364171, 12)"
      ]
     },
     "execution_count": 8,
     "metadata": {},
     "output_type": "execute_result"
    }
   ],
   "source": [
    "sorted_data.shape"
   ]
  },
  {
   "cell_type": "markdown",
   "metadata": {},
   "source": [
    "## Sample of 100K datapoints"
   ]
  },
  {
   "cell_type": "markdown",
   "metadata": {},
   "source": [
    "Due to limitation of computational resource, Did the modelling on 1 Lakh sample from a overall 3.7 Lakh data points"
   ]
  },
  {
   "cell_type": "code",
   "execution_count": 5,
   "metadata": {},
   "outputs": [],
   "source": [
    "sampled_data=sorted_data.head(100000)"
   ]
  },
  {
   "cell_type": "code",
   "execution_count": 10,
   "metadata": {},
   "outputs": [
    {
     "name": "stdout",
     "output_type": "stream",
     "text": [
      "2415592379112\n",
      "2415592379616\n"
     ]
    }
   ],
   "source": [
    "print(id(sorted_data))\n",
    "print(id(sampled_data))"
   ]
  },
  {
   "cell_type": "code",
   "execution_count": 11,
   "metadata": {},
   "outputs": [
    {
     "data": {
      "text/plain": [
       "positive    87729\n",
       "negative    12271\n",
       "Name: Score, dtype: int64"
      ]
     },
     "execution_count": 11,
     "metadata": {},
     "output_type": "execute_result"
    }
   ],
   "source": [
    "sampled_data['Score'].value_counts()"
   ]
  },
  {
   "cell_type": "markdown",
   "metadata": {},
   "source": [
    "# Splitting of Train and Test data(70-30):"
   ]
  },
  {
   "cell_type": "code",
   "execution_count": 6,
   "metadata": {},
   "outputs": [],
   "source": [
    "train=sampled_data.head(70000)\n",
    "test=sampled_data.tail(30000)"
   ]
  },
  {
   "cell_type": "code",
   "execution_count": 7,
   "metadata": {},
   "outputs": [
    {
     "name": "stdout",
     "output_type": "stream",
     "text": [
      "(70000, 12)\n"
     ]
    },
    {
     "data": {
      "text/plain": [
       "(30000, 12)"
      ]
     },
     "execution_count": 7,
     "metadata": {},
     "output_type": "execute_result"
    }
   ],
   "source": [
    "print(train.shape)\n",
    "test.shape"
   ]
  },
  {
   "cell_type": "code",
   "execution_count": 14,
   "metadata": {},
   "outputs": [
    {
     "data": {
      "text/html": [
       "<div>\n",
       "<style scoped>\n",
       "    .dataframe tbody tr th:only-of-type {\n",
       "        vertical-align: middle;\n",
       "    }\n",
       "\n",
       "    .dataframe tbody tr th {\n",
       "        vertical-align: top;\n",
       "    }\n",
       "\n",
       "    .dataframe thead th {\n",
       "        text-align: right;\n",
       "    }\n",
       "</style>\n",
       "<table border=\"1\" class=\"dataframe\">\n",
       "  <thead>\n",
       "    <tr style=\"text-align: right;\">\n",
       "      <th></th>\n",
       "      <th>index</th>\n",
       "      <th>Id</th>\n",
       "      <th>ProductId</th>\n",
       "      <th>UserId</th>\n",
       "      <th>ProfileName</th>\n",
       "      <th>HelpfulnessNumerator</th>\n",
       "      <th>HelpfulnessDenominator</th>\n",
       "      <th>Score</th>\n",
       "      <th>Time</th>\n",
       "      <th>Summary</th>\n",
       "      <th>Text</th>\n",
       "      <th>New</th>\n",
       "    </tr>\n",
       "  </thead>\n",
       "  <tbody>\n",
       "    <tr>\n",
       "      <th>342751</th>\n",
       "      <td>150122</td>\n",
       "      <td>162846</td>\n",
       "      <td>B005P6TCGW</td>\n",
       "      <td>A124H1A0ZFH0J7</td>\n",
       "      <td>^**^</td>\n",
       "      <td>0</td>\n",
       "      <td>0</td>\n",
       "      <td>positive</td>\n",
       "      <td>1256083200</td>\n",
       "      <td>as advertised</td>\n",
       "      <td>full dose is very sweet(like imitation sweeten...</td>\n",
       "      <td>full dose sweet like imit sweeten prefer water...</td>\n",
       "    </tr>\n",
       "    <tr>\n",
       "      <th>183829</th>\n",
       "      <td>185067</td>\n",
       "      <td>200752</td>\n",
       "      <td>B001EPPYSI</td>\n",
       "      <td>A2SDE1AHNU0BYM</td>\n",
       "      <td>James Henderson \"daddy\"</td>\n",
       "      <td>1</td>\n",
       "      <td>1</td>\n",
       "      <td>positive</td>\n",
       "      <td>1256083200</td>\n",
       "      <td>Love these little cocoa tins. Cute Santa twist...</td>\n",
       "      <td>You will love these little tins. Makes great C...</td>\n",
       "      <td>you love littl tin make great christma gift st...</td>\n",
       "    </tr>\n",
       "    <tr>\n",
       "      <th>16096</th>\n",
       "      <td>389168</td>\n",
       "      <td>420804</td>\n",
       "      <td>B0002I0GUY</td>\n",
       "      <td>AMM6C75WQA1IS</td>\n",
       "      <td>Cristina Perez-cordon \"CRISTINAPCORDON\"</td>\n",
       "      <td>3</td>\n",
       "      <td>3</td>\n",
       "      <td>positive</td>\n",
       "      <td>1256083200</td>\n",
       "      <td>GREAT PRODUCT!!!</td>\n",
       "      <td>MY DOG HAS VERY SERIOUS STOMACH PROBLEMS AND T...</td>\n",
       "      <td>dog has veri serious stomach problem and this ...</td>\n",
       "    </tr>\n",
       "  </tbody>\n",
       "</table>\n",
       "</div>"
      ],
      "text/plain": [
       "         index      Id   ProductId          UserId  \\\n",
       "342751  150122  162846  B005P6TCGW  A124H1A0ZFH0J7   \n",
       "183829  185067  200752  B001EPPYSI  A2SDE1AHNU0BYM   \n",
       "16096   389168  420804  B0002I0GUY   AMM6C75WQA1IS   \n",
       "\n",
       "                                    ProfileName  HelpfulnessNumerator  \\\n",
       "342751                                     ^**^                     0   \n",
       "183829                  James Henderson \"daddy\"                     1   \n",
       "16096   Cristina Perez-cordon \"CRISTINAPCORDON\"                     3   \n",
       "\n",
       "        HelpfulnessDenominator     Score        Time  \\\n",
       "342751                       0  positive  1256083200   \n",
       "183829                       1  positive  1256083200   \n",
       "16096                        3  positive  1256083200   \n",
       "\n",
       "                                                  Summary  \\\n",
       "342751                                      as advertised   \n",
       "183829  Love these little cocoa tins. Cute Santa twist...   \n",
       "16096                                    GREAT PRODUCT!!!   \n",
       "\n",
       "                                                     Text  \\\n",
       "342751  full dose is very sweet(like imitation sweeten...   \n",
       "183829  You will love these little tins. Makes great C...   \n",
       "16096   MY DOG HAS VERY SERIOUS STOMACH PROBLEMS AND T...   \n",
       "\n",
       "                                                      New  \n",
       "342751  full dose sweet like imit sweeten prefer water...  \n",
       "183829  you love littl tin make great christma gift st...  \n",
       "16096   dog has veri serious stomach problem and this ...  "
      ]
     },
     "execution_count": 14,
     "metadata": {},
     "output_type": "execute_result"
    }
   ],
   "source": [
    "train.tail(3)"
   ]
  },
  {
   "cell_type": "code",
   "execution_count": 15,
   "metadata": {},
   "outputs": [
    {
     "data": {
      "text/html": [
       "<div>\n",
       "<style scoped>\n",
       "    .dataframe tbody tr th:only-of-type {\n",
       "        vertical-align: middle;\n",
       "    }\n",
       "\n",
       "    .dataframe tbody tr th {\n",
       "        vertical-align: top;\n",
       "    }\n",
       "\n",
       "    .dataframe thead th {\n",
       "        text-align: right;\n",
       "    }\n",
       "</style>\n",
       "<table border=\"1\" class=\"dataframe\">\n",
       "  <thead>\n",
       "    <tr style=\"text-align: right;\">\n",
       "      <th></th>\n",
       "      <th>index</th>\n",
       "      <th>Id</th>\n",
       "      <th>ProductId</th>\n",
       "      <th>UserId</th>\n",
       "      <th>ProfileName</th>\n",
       "      <th>HelpfulnessNumerator</th>\n",
       "      <th>HelpfulnessDenominator</th>\n",
       "      <th>Score</th>\n",
       "      <th>Time</th>\n",
       "      <th>Summary</th>\n",
       "      <th>Text</th>\n",
       "      <th>New</th>\n",
       "    </tr>\n",
       "  </thead>\n",
       "  <tbody>\n",
       "    <tr>\n",
       "      <th>96759</th>\n",
       "      <td>103370</td>\n",
       "      <td>112257</td>\n",
       "      <td>B000LKUTIM</td>\n",
       "      <td>A1WJTACUJC11Q3</td>\n",
       "      <td>Fred Bauer</td>\n",
       "      <td>1</td>\n",
       "      <td>1</td>\n",
       "      <td>positive</td>\n",
       "      <td>1256083200</td>\n",
       "      <td>Best GF pasta</td>\n",
       "      <td>I like this more than Tinkyada and Mrs. Leeper...</td>\n",
       "      <td>like tinkyada mrs leeper think textur par semo...</td>\n",
       "    </tr>\n",
       "    <tr>\n",
       "      <th>154038</th>\n",
       "      <td>232481</td>\n",
       "      <td>252175</td>\n",
       "      <td>B0019SE7P6</td>\n",
       "      <td>AW4IGCYD8DMS6</td>\n",
       "      <td>Fairyflyze</td>\n",
       "      <td>0</td>\n",
       "      <td>0</td>\n",
       "      <td>positive</td>\n",
       "      <td>1256083200</td>\n",
       "      <td>excellent</td>\n",
       "      <td>Great price! Wonderful creamy, resinous flavor...</td>\n",
       "      <td>great price wonder resin flavor toast skillet ...</td>\n",
       "    </tr>\n",
       "    <tr>\n",
       "      <th>97799</th>\n",
       "      <td>311896</td>\n",
       "      <td>337676</td>\n",
       "      <td>B000LKVT0O</td>\n",
       "      <td>A2UE103KUM9WA9</td>\n",
       "      <td>Sandra M. Van Heest \"SandyVan\"</td>\n",
       "      <td>0</td>\n",
       "      <td>0</td>\n",
       "      <td>positive</td>\n",
       "      <td>1256083200</td>\n",
       "      <td>Chai Flavored Mints</td>\n",
       "      <td>Really unique. If you like Chai tea, you'll lo...</td>\n",
       "      <td>realli uniqu like chai love mint came time per...</td>\n",
       "    </tr>\n",
       "  </tbody>\n",
       "</table>\n",
       "</div>"
      ],
      "text/plain": [
       "         index      Id   ProductId          UserId  \\\n",
       "96759   103370  112257  B000LKUTIM  A1WJTACUJC11Q3   \n",
       "154038  232481  252175  B0019SE7P6   AW4IGCYD8DMS6   \n",
       "97799   311896  337676  B000LKVT0O  A2UE103KUM9WA9   \n",
       "\n",
       "                           ProfileName  HelpfulnessNumerator  \\\n",
       "96759                       Fred Bauer                     1   \n",
       "154038                      Fairyflyze                     0   \n",
       "97799   Sandra M. Van Heest \"SandyVan\"                     0   \n",
       "\n",
       "        HelpfulnessDenominator     Score        Time              Summary  \\\n",
       "96759                        1  positive  1256083200        Best GF pasta   \n",
       "154038                       0  positive  1256083200            excellent   \n",
       "97799                        0  positive  1256083200  Chai Flavored Mints   \n",
       "\n",
       "                                                     Text  \\\n",
       "96759   I like this more than Tinkyada and Mrs. Leeper...   \n",
       "154038  Great price! Wonderful creamy, resinous flavor...   \n",
       "97799   Really unique. If you like Chai tea, you'll lo...   \n",
       "\n",
       "                                                      New  \n",
       "96759   like tinkyada mrs leeper think textur par semo...  \n",
       "154038  great price wonder resin flavor toast skillet ...  \n",
       "97799   realli uniqu like chai love mint came time per...  "
      ]
     },
     "execution_count": 15,
     "metadata": {},
     "output_type": "execute_result"
    }
   ],
   "source": [
    "test.head(3)"
   ]
  },
  {
   "cell_type": "markdown",
   "metadata": {},
   "source": [
    "## Function for Calculating optimal value of K:"
   ]
  },
  {
   "cell_type": "code",
   "execution_count": 7,
   "metadata": {},
   "outputs": [],
   "source": [
    "def optimal_k(x,y,fold=10):\n",
    "    '''\n",
    "    Finding Optimal K with 10 fold CV.\n",
    "    \n",
    "    '''\n",
    "    cv_score=[]\n",
    "    nbr=list(range(1,30,2))\n",
    "    for i in nbr:\n",
    "        knn=KNeighborsClassifier(i)\n",
    "        cross_val=cross_val_score(knn,x,y,cv=fold,n_jobs=-1)\n",
    "        cv_score.append(cross_val.mean())\n",
    "    e=[1-i for i in cv_score]\n",
    "    k_optimal=nbr[e.index(min(e))]\n",
    "    return k_optimal"
   ]
  },
  {
   "cell_type": "markdown",
   "metadata": {},
   "source": [
    "## Function to plot heat map:"
   ]
  },
  {
   "cell_type": "code",
   "execution_count": 8,
   "metadata": {},
   "outputs": [],
   "source": [
    "def Heat_CM(a):\n",
    "    '''\n",
    "    To plot heat map of confusion matrix\n",
    "    '''\n",
    "    tmp=pd.DataFrame(a,index=['positive','negative'],columns=['positive','negative'])\n",
    "    sns.heatmap(tmp)\n",
    "    plt.show()\n",
    "    \n",
    "    TP=a[0][0]\n",
    "    FP=a[0][1]\n",
    "    TN=a[1][1]\n",
    "    FN=a[1][0]\n",
    "    \n",
    "    precision=TP/(TP+FP)\n",
    "    print('Precision = %s'%(precision))\n",
    "    Recall =TP/(TP+FN)\n",
    "    print('Recall = %s'%(Recall))\n",
    "    F1=(2*((precision*Recall)/(precision+Recall)))\n",
    "    \n",
    "    print('F1- Score = %s'%(F1))"
   ]
  },
  {
   "cell_type": "raw",
   "metadata": {},
   "source": [
    "******************************************************************************************************************************"
   ]
  },
  {
   "cell_type": "markdown",
   "metadata": {},
   "source": [
    "# 1.) BOW Vectorization:"
   ]
  },
  {
   "cell_type": "code",
   "execution_count": 43,
   "metadata": {},
   "outputs": [],
   "source": [
    "import warnings\n",
    "warnings.filterwarnings('ignore')"
   ]
  },
  {
   "cell_type": "code",
   "execution_count": 44,
   "metadata": {},
   "outputs": [],
   "source": [
    "cv = CountVectorizer()\n",
    "BOW= cv.fit(train['New'][0:50000])\n",
    "BOW_train= BOW.transform(train['New'][0:50000])\n"
   ]
  },
  {
   "cell_type": "code",
   "execution_count": 9,
   "metadata": {},
   "outputs": [
    {
     "data": {
      "text/plain": [
       "(50000, 25532)"
      ]
     },
     "execution_count": 9,
     "metadata": {},
     "output_type": "execute_result"
    }
   ],
   "source": [
    "BOW_train.shape"
   ]
  },
  {
   "cell_type": "code",
   "execution_count": 45,
   "metadata": {},
   "outputs": [
    {
     "data": {
      "text/plain": [
       "(30000, 25532)"
      ]
     },
     "execution_count": 45,
     "metadata": {},
     "output_type": "execute_result"
    }
   ],
   "source": [
    "BOW_test=BOW.transform(test['New'])\n",
    "BOW_test.shape"
   ]
  },
  {
   "cell_type": "code",
   "execution_count": 46,
   "metadata": {},
   "outputs": [],
   "source": [
    "#Standardisation\n",
    "\n",
    "scaler=StandardScaler(with_mean=False)\n",
    "std_train=scaler.fit_transform(BOW_train)\n",
    "std_test=scaler.fit_transform(BOW_test)"
   ]
  },
  {
   "cell_type": "code",
   "execution_count": 21,
   "metadata": {},
   "outputs": [
    {
     "data": {
      "text/plain": [
       "True"
      ]
     },
     "execution_count": 21,
     "metadata": {},
     "output_type": "execute_result"
    }
   ],
   "source": [
    "import scipy\n",
    "scipy.sparse.issparse(std_train)\n",
    "scipy.sparse.issparse(std_train[0:25000])"
   ]
  },
  {
   "cell_type": "code",
   "execution_count": 23,
   "metadata": {},
   "outputs": [],
   "source": [
    "from sklearn.model_selection import GridSearchCV"
   ]
  },
  {
   "cell_type": "code",
   "execution_count": 24,
   "metadata": {},
   "outputs": [],
   "source": [
    "#Grid sreach CV:\n",
    "k=range(1,20,1)\n",
    "param=dict(n_neighbors=k)\n",
    "knn=KNeighborsClassifier()\n",
    "grid = GridSearchCV(knn,param,cv=5,scoring='accuracy')\n"
   ]
  },
  {
   "cell_type": "code",
   "execution_count": null,
   "metadata": {},
   "outputs": [],
   "source": [
    "BOW_grid=grid.fit(std_train[0:30000],train['Score'][:30000])"
   ]
  },
  {
   "cell_type": "code",
   "execution_count": 40,
   "metadata": {},
   "outputs": [
    {
     "data": {
      "text/plain": [
       "KNeighborsClassifier(algorithm='auto', leaf_size=30, metric='minkowski',\n",
       "           metric_params=None, n_jobs=1, n_neighbors=5, p=2,\n",
       "           weights='uniform')"
      ]
     },
     "execution_count": 40,
     "metadata": {},
     "output_type": "execute_result"
    }
   ],
   "source": [
    "BOW_grid.best_estimator_"
   ]
  },
  {
   "cell_type": "code",
   "execution_count": 41,
   "metadata": {},
   "outputs": [
    {
     "data": {
      "text/plain": [
       "0.89012"
      ]
     },
     "execution_count": 41,
     "metadata": {},
     "output_type": "execute_result"
    }
   ],
   "source": [
    "BOW_grid.best_score_"
   ]
  },
  {
   "cell_type": "code",
   "execution_count": 42,
   "metadata": {},
   "outputs": [
    {
     "data": {
      "text/plain": [
       "4"
      ]
     },
     "execution_count": 42,
     "metadata": {},
     "output_type": "execute_result"
    }
   ],
   "source": [
    "BOW_grid.best_index_"
   ]
  },
  {
   "cell_type": "code",
   "execution_count": 24,
   "metadata": {},
   "outputs": [
    {
     "name": "stdout",
     "output_type": "stream",
     "text": [
      "The optimal value of K is 7 \n"
     ]
    }
   ],
   "source": [
    "k=optimal_k(std_train[0:25000],train['Score'][0:25000],fold=5)\n",
    "print('The optimal value of K is %d '%(k))\n"
   ]
  },
  {
   "cell_type": "markdown",
   "metadata": {},
   "source": [
    "### Brute Force :"
   ]
  },
  {
   "cell_type": "code",
   "execution_count": 14,
   "metadata": {},
   "outputs": [
    {
     "data": {
      "text/plain": [
       "KNeighborsClassifier(algorithm='brute', leaf_size=30, metric='minkowski',\n",
       "           metric_params=None, n_jobs=1, n_neighbors=7, p=2,\n",
       "           weights='uniform')"
      ]
     },
     "execution_count": 14,
     "metadata": {},
     "output_type": "execute_result"
    }
   ],
   "source": [
    "final_k= KNeighborsClassifier(n_neighbors= 7,algorithm='brute')\n",
    "final_k.fit(std_train[0:35000],train['Score'][0:35000])"
   ]
  },
  {
   "cell_type": "code",
   "execution_count": 15,
   "metadata": {},
   "outputs": [],
   "source": [
    "pred=final_k.predict(std_test[0:15000])"
   ]
  },
  {
   "cell_type": "code",
   "execution_count": 18,
   "metadata": {},
   "outputs": [],
   "source": [
    "BOW_predicted= pred"
   ]
  },
  {
   "cell_type": "code",
   "execution_count": 16,
   "metadata": {},
   "outputs": [
    {
     "name": "stdout",
     "output_type": "stream",
     "text": [
      "0.8674\n"
     ]
    }
   ],
   "source": [
    "accuracy= accuracy_score(test['Score'][0:15000],pred)\n",
    "print(accuracy)"
   ]
  },
  {
   "cell_type": "markdown",
   "metadata": {},
   "source": [
    "### Accuracy of BOW - KNN:"
   ]
  },
  {
   "cell_type": "code",
   "execution_count": 17,
   "metadata": {},
   "outputs": [
    {
     "name": "stdout",
     "output_type": "stream",
     "text": [
      "The test accuracy of BOW representation of 35k train & 15K test Samples with 5 fold CV is : 86.74 %\n"
     ]
    }
   ],
   "source": [
    "print('The test accuracy of BOW representation of 35k train & 15K test Samples with 5 fold CV is : {} %'.format(accuracy* 100))"
   ]
  },
  {
   "cell_type": "markdown",
   "metadata": {},
   "source": [
    "### Confusion Matrix:"
   ]
  },
  {
   "cell_type": "code",
   "execution_count": 20,
   "metadata": {},
   "outputs": [],
   "source": [
    "BOW_CM=confusion_matrix(pred,test['Score'][0:15000],labels=['positive','negative'])"
   ]
  },
  {
   "cell_type": "code",
   "execution_count": 32,
   "metadata": {},
   "outputs": [
    {
     "data": {
      "image/png": "[encoded data removed]",
      "text/plain": [
       "<Figure size 432x288 with 2 Axes>"
      ]
     },
     "metadata": {},
     "output_type": "display_data"
    },
    {
     "name": "stdout",
     "output_type": "stream",
     "text": [
      "Precision = 0.8677575107296137\n",
      "Recall = 0.9986879678938025\n",
      "F1- Score = 0.9286303778391761\n"
     ]
    }
   ],
   "source": [
    "Heat_CM(BOW_CM)\n"
   ]
  },
  {
   "cell_type": "markdown",
   "metadata": {},
   "source": [
    "### KD Tree:"
   ]
  },
  {
   "cell_type": "code",
   "execution_count": 12,
   "metadata": {},
   "outputs": [
    {
     "name": "stdout",
     "output_type": "stream",
     "text": [
      "Completed in time : 177\n"
     ]
    }
   ],
   "source": [
    "final_k= KNeighborsClassifier(n_neighbors= 7,algorithm='kd_tree')\n",
    "start=time.time()\n",
    "final_k.fit(std_train[0:15000].todense(),train['Score'][0:15000])\n",
    "print('Completed in time : %d'%(time.time()-start))"
   ]
  },
  {
   "cell_type": "code",
   "execution_count": 13,
   "metadata": {},
   "outputs": [],
   "source": [
    "import time"
   ]
  },
  {
   "cell_type": "code",
   "execution_count": 13,
   "metadata": {},
   "outputs": [
    {
     "name": "stdout",
     "output_type": "stream",
     "text": [
      "Completed in time : 9863\n"
     ]
    }
   ],
   "source": [
    "start=time.time()\n",
    "pred=final_k.predict(std_test[0:5000].todense())\n",
    "print('Completed in time : %d'%(time.time()-start))"
   ]
  },
  {
   "cell_type": "code",
   "execution_count": 15,
   "metadata": {},
   "outputs": [
    {
     "name": "stdout",
     "output_type": "stream",
     "text": [
      "86.46000000000001\n"
     ]
    }
   ],
   "source": [
    "acc_kd=accuracy_score(pred,test['Score'][:5000])\n",
    "print(acc_kd*100)"
   ]
  },
  {
   "cell_type": "raw",
   "metadata": {},
   "source": [
    "******************************************************************************************************************************"
   ]
  },
  {
   "cell_type": "markdown",
   "metadata": {},
   "source": [
    "# 2.) Tf IDF Vectorization:"
   ]
  },
  {
   "cell_type": "code",
   "execution_count": 8,
   "metadata": {},
   "outputs": [],
   "source": [
    "t=TfidfVectorizer()\n",
    "tfidf=t.fit(train['New'].values)"
   ]
  },
  {
   "cell_type": "code",
   "execution_count": 9,
   "metadata": {},
   "outputs": [
    {
     "data": {
      "text/plain": [
       "(30000, 29587)"
      ]
     },
     "execution_count": 9,
     "metadata": {},
     "output_type": "execute_result"
    }
   ],
   "source": [
    "train_tfidf=tfidf.transform(train['New'].values)\n",
    "test_tfidf=tfidf.transform(test['New'].values)\n",
    "test_tfidf.shape"
   ]
  },
  {
   "cell_type": "code",
   "execution_count": 11,
   "metadata": {},
   "outputs": [],
   "source": [
    "scaler=StandardScaler(with_mean=False)\n",
    "std_train1=scaler.fit_transform(train_tfidf)\n",
    "std_test1=scaler.fit_transform(test_tfidf)"
   ]
  },
  {
   "cell_type": "code",
   "execution_count": 39,
   "metadata": {},
   "outputs": [
    {
     "name": "stdout",
     "output_type": "stream",
     "text": [
      "The optimal value of K for TfIdf is 5 \n"
     ]
    }
   ],
   "source": [
    "k1=optimal_k(std_train1[0:25000],train['Score'][0:25000],fold=5)\n",
    "print('The optimal value of K for TfIdf is %d '%(k1))"
   ]
  },
  {
   "cell_type": "markdown",
   "metadata": {},
   "source": [
    "### Brute Force:"
   ]
  },
  {
   "cell_type": "code",
   "execution_count": 40,
   "metadata": {},
   "outputs": [
    {
     "data": {
      "text/plain": [
       "KNeighborsClassifier(algorithm='brute', leaf_size=30, metric='minkowski',\n",
       "           metric_params=None, n_jobs=1, n_neighbors=5, p=2,\n",
       "           weights='uniform')"
      ]
     },
     "execution_count": 40,
     "metadata": {},
     "output_type": "execute_result"
    }
   ],
   "source": [
    "knn_tfidf=KNeighborsClassifier(k1,algorithm='brute')\n",
    "knn_tfidf.fit(std_train1[0:35000],train['Score'][0:35000])"
   ]
  },
  {
   "cell_type": "code",
   "execution_count": 41,
   "metadata": {},
   "outputs": [],
   "source": [
    "pred=knn_tfidf.predict(std_test1[0:15000])"
   ]
  },
  {
   "cell_type": "code",
   "execution_count": 43,
   "metadata": {},
   "outputs": [],
   "source": [
    "accuracy=accuracy_score(pred,test['Score'][0:15000])"
   ]
  },
  {
   "cell_type": "markdown",
   "metadata": {},
   "source": [
    "### Accuracy of Tf-IDF KNN:"
   ]
  },
  {
   "cell_type": "code",
   "execution_count": 44,
   "metadata": {},
   "outputs": [
    {
     "name": "stdout",
     "output_type": "stream",
     "text": [
      "The test accuracy of Tf-IDF representation of 25k Samples with 10 fold CV is : 86.42666666666666 %\n"
     ]
    }
   ],
   "source": [
    "print('The test accuracy of Tf-IDF representation of 25k Samples with 10 fold CV is : {} %'.format(accuracy * 100))"
   ]
  },
  {
   "cell_type": "markdown",
   "metadata": {},
   "source": [
    "### Confusion Matrix:"
   ]
  },
  {
   "cell_type": "code",
   "execution_count": 47,
   "metadata": {},
   "outputs": [],
   "source": [
    "tfidf_CM = confusion_matrix(pred,test['Score'][0:15000],labels=['positive','negative'])"
   ]
  },
  {
   "cell_type": "code",
   "execution_count": 48,
   "metadata": {},
   "outputs": [
    {
     "data": {
      "image/png": "[encoded data removed]",
      "text/plain": [
       "<Figure size 432x288 with 2 Axes>"
      ]
     },
     "metadata": {},
     "output_type": "display_data"
    },
    {
     "name": "stdout",
     "output_type": "stream",
     "text": [
      "Precision = 0.8659116799571132\n",
      "Recall = 0.9972987574284171\n",
      "F1- Score = 0.9269727403156385\n"
     ]
    }
   ],
   "source": [
    "Heat_CM(tfidf_CM)"
   ]
  },
  {
   "cell_type": "markdown",
   "metadata": {},
   "source": [
    "### KD Tree"
   ]
  },
  {
   "cell_type": "code",
   "execution_count": 14,
   "metadata": {},
   "outputs": [
    {
     "name": "stdout",
     "output_type": "stream",
     "text": [
      "Completed in time : 176\n"
     ]
    }
   ],
   "source": [
    "final_k= KNeighborsClassifier(n_neighbors= 5,algorithm='kd_tree')\n",
    "start=time.time()\n",
    "final_k.fit(std_train1[0:15000].todense(),train['Score'][0:15000])\n",
    "print('Completed in time : %d'%(time.time()-start))"
   ]
  },
  {
   "cell_type": "code",
   "execution_count": 15,
   "metadata": {},
   "outputs": [
    {
     "name": "stdout",
     "output_type": "stream",
     "text": [
      "Completed in time : 10744 seconds\n"
     ]
    }
   ],
   "source": [
    "start=time.time()\n",
    "pred=final_k.predict(std_test1[0:5000].todense())\n",
    "print('Completed in time : %d seconds'%(time.time()-start))"
   ]
  },
  {
   "cell_type": "code",
   "execution_count": 16,
   "metadata": {},
   "outputs": [
    {
     "name": "stdout",
     "output_type": "stream",
     "text": [
      "86.46000000000001\n"
     ]
    }
   ],
   "source": [
    "acc_kd=accuracy_score(pred,test['Score'][:5000])\n",
    "print(acc_kd*100)"
   ]
  },
  {
   "cell_type": "raw",
   "metadata": {},
   "source": [
    "******************************************************************************************************************************"
   ]
  },
  {
   "cell_type": "markdown",
   "metadata": {},
   "source": [
    "# WORD2VEC Modelling:"
   ]
  },
  {
   "cell_type": "code",
   "execution_count": 17,
   "metadata": {},
   "outputs": [
    {
     "data": {
      "text/plain": [
       "['rememb',\n",
       " 'see',\n",
       " 'show',\n",
       " 'air',\n",
       " 'televis',\n",
       " 'year',\n",
       " 'child',\n",
       " 'sister',\n",
       " 'later',\n",
       " 'bought',\n",
       " 'thirti',\n",
       " 'someth',\n",
       " 'use',\n",
       " 'seri',\n",
       " 'book',\n",
       " 'song',\n",
       " 'student',\n",
       " 'teach',\n",
       " 'preschool',\n",
       " 'turn',\n",
       " 'whole',\n",
       " 'school',\n",
       " 'purchas',\n",
       " 'along',\n",
       " 'book',\n",
       " 'children',\n",
       " 'the',\n",
       " 'tradit',\n",
       " 'live']"
      ]
     },
     "execution_count": 17,
     "metadata": {},
     "output_type": "execute_result"
    }
   ],
   "source": [
    "#List of Sentences\n",
    "\n",
    "sentence_list=[]\n",
    "for sentence in train['New']:\n",
    "    sentence_list.append(sentence.split())\n",
    "sentence_list[1]"
   ]
  },
  {
   "cell_type": "code",
   "execution_count": 18,
   "metadata": {},
   "outputs": [],
   "source": [
    "from gensim.models import Word2Vec\n",
    "w2v=Word2Vec(sentence_list, size=50,min_count=1,workers=4)"
   ]
  },
  {
   "cell_type": "code",
   "execution_count": 19,
   "metadata": {},
   "outputs": [],
   "source": [
    "w2v_list=list(w2v.wv.vocab)"
   ]
  },
  {
   "cell_type": "code",
   "execution_count": 20,
   "metadata": {},
   "outputs": [
    {
     "data": {
      "text/plain": [
       "29587"
      ]
     },
     "execution_count": 20,
     "metadata": {},
     "output_type": "execute_result"
    }
   ],
   "source": [
    "len(w2v_list)"
   ]
  },
  {
   "cell_type": "raw",
   "metadata": {},
   "source": [
    "******************************************************************************************************************************"
   ]
  },
  {
   "cell_type": "markdown",
   "metadata": {},
   "source": [
    "# 3.) Average W2V vectorization:"
   ]
  },
  {
   "cell_type": "code",
   "execution_count": 21,
   "metadata": {},
   "outputs": [],
   "source": [
    "def avgw2v(x):\n",
    "    '''\n",
    "    Calculating Avg W2v of a review\n",
    "    '''\n",
    "    sentence_vector=[]\n",
    "    for sentence in x:\n",
    "        cnt=0\n",
    "        s_v=np.zeros(50)\n",
    "        for words in sentence.split():\n",
    "            if words in w2v_list:\n",
    "                v= w2v.wv[words]\n",
    "                cnt+=1\n",
    "                s_v+=v        \n",
    "        if(cnt!=0):\n",
    "            s_v/=cnt\n",
    "        sentence_vector.append(s_v)\n",
    "    return sentence_vector      \n",
    "        "
   ]
  },
  {
   "cell_type": "code",
   "execution_count": 22,
   "metadata": {},
   "outputs": [],
   "source": [
    "train_w2v=avgw2v(train['New'])\n"
   ]
  },
  {
   "cell_type": "code",
   "execution_count": 23,
   "metadata": {},
   "outputs": [],
   "source": [
    "test_w2v=avgw2v(test['New'])"
   ]
  },
  {
   "cell_type": "code",
   "execution_count": 24,
   "metadata": {},
   "outputs": [],
   "source": [
    "scaler=StandardScaler(with_mean=False)\n",
    "std_train2=scaler.fit_transform(train_w2v)\n",
    "std_test2=scaler.fit_transform(test_w2v)"
   ]
  },
  {
   "cell_type": "code",
   "execution_count": 24,
   "metadata": {},
   "outputs": [
    {
     "name": "stdout",
     "output_type": "stream",
     "text": [
      "(70000, 50)\n"
     ]
    },
    {
     "data": {
      "text/plain": [
       "(30000, 50)"
      ]
     },
     "execution_count": 24,
     "metadata": {},
     "output_type": "execute_result"
    }
   ],
   "source": [
    "print(std_train2.shape)\n",
    "std_test2.shape"
   ]
  },
  {
   "cell_type": "code",
   "execution_count": 20,
   "metadata": {},
   "outputs": [
    {
     "name": "stdout",
     "output_type": "stream",
     "text": [
      "The optimal value of K for Avg Word2Vec is 17 \n"
     ]
    }
   ],
   "source": [
    "k2= optimal_k(std_train2[0:25000],train['Score'][0:25000],fold=5)\n",
    "print('The optimal value of K for Avg Word2Vec is %d '%(k2))"
   ]
  },
  {
   "cell_type": "markdown",
   "metadata": {},
   "source": [
    "### Brute force:"
   ]
  },
  {
   "cell_type": "code",
   "execution_count": 18,
   "metadata": {},
   "outputs": [
    {
     "data": {
      "text/plain": [
       "KNeighborsClassifier(algorithm='brute', leaf_size=30, metric='minkowski',\n",
       "           metric_params=None, n_jobs=1, n_neighbors=17, p=2,\n",
       "           weights='uniform')"
      ]
     },
     "execution_count": 18,
     "metadata": {},
     "output_type": "execute_result"
    }
   ],
   "source": [
    "avgw2v_knn=KNeighborsClassifier(n_neighbors=17, algorithm='brute')\n",
    "avgw2v_knn.fit(std_train2[0:35000],train['Score'][0:35000])"
   ]
  },
  {
   "cell_type": "code",
   "execution_count": 21,
   "metadata": {},
   "outputs": [],
   "source": [
    "pred=avgw2v_knn.predict(std_test2[0:14000])"
   ]
  },
  {
   "cell_type": "code",
   "execution_count": 26,
   "metadata": {},
   "outputs": [],
   "source": [
    "avgw2v_pred=pred"
   ]
  },
  {
   "cell_type": "code",
   "execution_count": 24,
   "metadata": {},
   "outputs": [
    {
     "name": "stdout",
     "output_type": "stream",
     "text": [
      "0.8800714285714286\n"
     ]
    }
   ],
   "source": [
    "accuracy2=accuracy_score(pred,test['Score'][0:14000])\n",
    "print(accuracy2)"
   ]
  },
  {
   "cell_type": "markdown",
   "metadata": {},
   "source": [
    "### Accuracy of Avg W2V KNN:"
   ]
  },
  {
   "cell_type": "code",
   "execution_count": 31,
   "metadata": {},
   "outputs": [
    {
     "name": "stdout",
     "output_type": "stream",
     "text": [
      "The test accuracy of Avg Word2Vec representation of 35k train and 15k test Samples with 5 fold CV is : 88.00714285714287 % \n"
     ]
    }
   ],
   "source": [
    "print('The test accuracy of Avg Word2Vec representation of 35k train and 15k test Samples with 5 fold CV is : {} % '.format(accuracy2 * 100))"
   ]
  },
  {
   "cell_type": "markdown",
   "metadata": {},
   "source": [
    "### Confusion Matrix:"
   ]
  },
  {
   "cell_type": "code",
   "execution_count": 27,
   "metadata": {},
   "outputs": [],
   "source": [
    "avgw2v_CM = confusion_matrix(pred,test['Score'][0:14000],labels=['positive','negative'])"
   ]
  },
  {
   "cell_type": "code",
   "execution_count": 30,
   "metadata": {},
   "outputs": [
    {
     "data": {
      "image/png": "[encoded data removed]",
      "text/plain": [
       "<Figure size 432x288 with 2 Axes>"
      ]
     },
     "metadata": {},
     "output_type": "display_data"
    },
    {
     "name": "stdout",
     "output_type": "stream",
     "text": [
      "Precision = 0.8831713780918727\n",
      "Recall = 0.9923897758292662\n",
      "F1- Score = 0.9346005531102715\n"
     ]
    }
   ],
   "source": [
    "Heat_CM(avgw2v_CM)"
   ]
  },
  {
   "cell_type": "markdown",
   "metadata": {},
   "source": [
    "### KD Tree:"
   ]
  },
  {
   "cell_type": "code",
   "execution_count": 32,
   "metadata": {},
   "outputs": [
    {
     "name": "stdout",
     "output_type": "stream",
     "text": [
      "1537709575.4661198\n",
      "Completed in time : 0\n"
     ]
    }
   ],
   "source": [
    "final_k= KNeighborsClassifier(n_neighbors= 17,algorithm='kd_tree')\n",
    "start=time.time()\n",
    "print(start)\n",
    "final_k.fit(std_train2[0:35000],train['Score'][0:35000])\n",
    "print('Completed in time : %d'%(time.time()-start))"
   ]
  },
  {
   "cell_type": "code",
   "execution_count": 33,
   "metadata": {},
   "outputs": [
    {
     "name": "stdout",
     "output_type": "stream",
     "text": [
      "Completed in time : 292 seconds\n"
     ]
    }
   ],
   "source": [
    "start=time.time()\n",
    "pred=final_k.predict(std_test2[0:15000])\n",
    "print('Completed in time : %d seconds'%(time.time()-start))"
   ]
  },
  {
   "cell_type": "code",
   "execution_count": 34,
   "metadata": {},
   "outputs": [
    {
     "name": "stdout",
     "output_type": "stream",
     "text": [
      "87.83333333333333\n"
     ]
    }
   ],
   "source": [
    "acc_kd=accuracy_score(pred,test['Score'][:15000])\n",
    "print(acc_kd*100)"
   ]
  },
  {
   "cell_type": "raw",
   "metadata": {},
   "source": [
    "******************************************************************************************************************************"
   ]
  },
  {
   "cell_type": "markdown",
   "metadata": {},
   "source": [
    "# 4.) Tf-Idf Weighted Word2Vec Vectorization:"
   ]
  },
  {
   "cell_type": "code",
   "execution_count": 12,
   "metadata": {},
   "outputs": [],
   "source": [
    "#Tf-IDF W2V\n",
    "def tfidf_w2v(x,y):\n",
    "    '''\n",
    "    Computing Tf IDF Word 2 vec for given data points in x\n",
    "    '''\n",
    "    feats= t.get_feature_names()\n",
    "    row=0\n",
    "    sentence_vector=[]\n",
    "    for sentence in x:\n",
    "        s_v=np.zeros(50)\n",
    "        weights=0\n",
    "        for words in sentence.split():\n",
    "            if words in w2v_list:\n",
    "                try:\n",
    "                    v=w2v.wv[words]\n",
    "                    tf_val=y[row,feats.index(words)]\n",
    "                    s_v+=(v*tf_val)\n",
    "                    weights+=tf_val\n",
    "                except:\n",
    "                    continue            \n",
    "        if(weights!=0):\n",
    "            s_v/=weights\n",
    "        sentence_vector.append(s_v)\n",
    "        row+=1\n",
    "    return sentence_vector\n"
   ]
  },
  {
   "cell_type": "code",
   "execution_count": 17,
   "metadata": {},
   "outputs": [],
   "source": [
    "train_tfidf_w2v=tfidf_w2v(train['New'],train_tfidf)\n"
   ]
  },
  {
   "cell_type": "code",
   "execution_count": 18,
   "metadata": {},
   "outputs": [],
   "source": [
    "test_tfidf_w2v=tfidf_w2v(test['New'],test_tfidf)"
   ]
  },
  {
   "cell_type": "code",
   "execution_count": 36,
   "metadata": {},
   "outputs": [],
   "source": [
    "import pickle"
   ]
  },
  {
   "cell_type": "code",
   "execution_count": 23,
   "metadata": {},
   "outputs": [],
   "source": [
    "with open(r'G:\\ML\\Pickles\\tfidf_w2v_train_test.pickle','wb') as f:\n",
    "    pickle.dump([train_tfidf_w2v,test_tfidf_w2v],f)"
   ]
  },
  {
   "cell_type": "code",
   "execution_count": 37,
   "metadata": {},
   "outputs": [],
   "source": [
    "with open(r'G:\\ML\\Pickles\\tfidf_w2v_train_test.pickle','rb') as f1:\n",
    "    pick1,pick2=pickle.load(f1)"
   ]
  },
  {
   "cell_type": "code",
   "execution_count": 38,
   "metadata": {},
   "outputs": [],
   "source": [
    "scaler=StandardScaler(with_mean=False)\n",
    "std_train3=scaler.fit_transform(pick1)\n",
    "std_test3=scaler.fit_transform(pick2)"
   ]
  },
  {
   "cell_type": "code",
   "execution_count": 34,
   "metadata": {},
   "outputs": [
    {
     "name": "stdout",
     "output_type": "stream",
     "text": [
      "The optimal value of K for TfIDF weighted Word2Vec is 17 \n"
     ]
    }
   ],
   "source": [
    "k3= optimal_k(std_train3[:25000],train['Score'][0:25000],5)\n",
    "print('The optimal value of K for TfIDF weighted Word2Vec is %d '%(k3))"
   ]
  },
  {
   "cell_type": "markdown",
   "metadata": {},
   "source": [
    "### Brute force:"
   ]
  },
  {
   "cell_type": "code",
   "execution_count": 37,
   "metadata": {},
   "outputs": [
    {
     "data": {
      "text/plain": [
       "KNeighborsClassifier(algorithm='brute', leaf_size=30, metric='minkowski',\n",
       "           metric_params=None, n_jobs=1, n_neighbors=17, p=2,\n",
       "           weights='uniform')"
      ]
     },
     "execution_count": 37,
     "metadata": {},
     "output_type": "execute_result"
    }
   ],
   "source": [
    "knn_tfidf_w2v=KNeighborsClassifier(k3,algorithm='brute')\n",
    "knn_tfidf_w2v.fit(std_train3[0:35000],train['Score'][:35000])"
   ]
  },
  {
   "cell_type": "code",
   "execution_count": 38,
   "metadata": {},
   "outputs": [],
   "source": [
    "pred=knn_tfidf_w2v.predict(std_test3[0:14000])"
   ]
  },
  {
   "cell_type": "code",
   "execution_count": 40,
   "metadata": {},
   "outputs": [],
   "source": [
    "acc4=accuracy_score(pred,test['Score'][0:14000])"
   ]
  },
  {
   "cell_type": "markdown",
   "metadata": {},
   "source": [
    "### Accuracy of Tf- Idf weighted w2v on KNN:"
   ]
  },
  {
   "cell_type": "code",
   "execution_count": 42,
   "metadata": {},
   "outputs": [
    {
     "name": "stdout",
     "output_type": "stream",
     "text": [
      "The test accuracy of Tf-IDF representation of 35k train & 14k test Samples with 5 fold CV is : 87.43571428571428 %\n"
     ]
    }
   ],
   "source": [
    "print('The test accuracy of Tf-IDF representation of 35k train & 14k test Samples with 5 fold CV is : {} %'.format(acc4 * 100))"
   ]
  },
  {
   "cell_type": "markdown",
   "metadata": {},
   "source": [
    "### Confusion Matrix:"
   ]
  },
  {
   "cell_type": "code",
   "execution_count": 43,
   "metadata": {},
   "outputs": [],
   "source": [
    "tfidfw2v_CM = confusion_matrix(pred,test['Score'][0:14000],labels=['positive','negative'])"
   ]
  },
  {
   "cell_type": "code",
   "execution_count": 44,
   "metadata": {},
   "outputs": [
    {
     "data": {
      "image/png": "[encoded data removed]",
      "text/plain": [
       "<Figure size 432x288 with 2 Axes>"
      ]
     },
     "metadata": {},
     "output_type": "display_data"
    },
    {
     "name": "stdout",
     "output_type": "stream",
     "text": [
      "Precision = 0.8788323309373625\n",
      "Recall = 0.991148978410125\n",
      "F1- Score = 0.9316176184737395\n"
     ]
    }
   ],
   "source": [
    "Heat_CM(tfidfw2v_CM)"
   ]
  },
  {
   "cell_type": "markdown",
   "metadata": {},
   "source": [
    "### KD tree implementation:"
   ]
  },
  {
   "cell_type": "code",
   "execution_count": 39,
   "metadata": {},
   "outputs": [
    {
     "name": "stdout",
     "output_type": "stream",
     "text": [
      "Completed in time : 0\n"
     ]
    }
   ],
   "source": [
    "final_k= KNeighborsClassifier(n_neighbors= 17,algorithm='kd_tree')\n",
    "start=time.time()\n",
    "final_k.fit(std_train1[0:35000],train['Score'][0:35000])\n",
    "print('Completed in time : %d'%(time.time()-start))"
   ]
  },
  {
   "cell_type": "code",
   "execution_count": 40,
   "metadata": {},
   "outputs": [
    {
     "name": "stdout",
     "output_type": "stream",
     "text": [
      "Completed in time : 87 seconds\n"
     ]
    }
   ],
   "source": [
    "start=time.time()\n",
    "pred=final_k.predict(std_test1[0:15000])\n",
    "print('Completed in time : %d seconds'%(time.time()-start))"
   ]
  },
  {
   "cell_type": "code",
   "execution_count": 42,
   "metadata": {},
   "outputs": [
    {
     "name": "stdout",
     "output_type": "stream",
     "text": [
      "86.38\n"
     ]
    }
   ],
   "source": [
    "acc_kd=accuracy_score(pred,test['Score'][:15000])\n",
    "print(acc_kd*100)"
   ]
  },
  {
   "cell_type": "raw",
   "metadata": {},
   "source": [
    "******************************************************************************************************************************"
   ]
  },
  {
   "cell_type": "markdown",
   "metadata": {},
   "source": [
    "# Comparision of different Text Vectorizations:"
   ]
  },
  {
   "cell_type": "code",
   "execution_count": 46,
   "metadata": {},
   "outputs": [],
   "source": [
    "from prettytable import PrettyTable"
   ]
  },
  {
   "cell_type": "code",
   "execution_count": 56,
   "metadata": {},
   "outputs": [
    {
     "name": "stdout",
     "output_type": "stream",
     "text": [
      "+----------------+-----------------+----------------+-----------+----------+----------+\n",
      "| Type of vector | No of train pts | No of Test pts | Optimal_k | Accuracy | F1 Score |\n",
      "+----------------+-----------------+----------------+-----------+----------+----------+\n",
      "|      BOW       |      35000      |     15000      |     7     |  86.64   |  0.929   |\n",
      "|     Tf-Idf     |      35000      |     15000      |     5     |  86.42   |  0.927   |\n",
      "|    Avg W2V     |      35000      |     14000      |     17    |   88.0   |  0.935   |\n",
      "|   Tf-Idf W2V   |      35000      |     14000      |     17    |  87.43   |  0.932   |\n",
      "+----------------+-----------------+----------------+-----------+----------+----------+\n"
     ]
    }
   ],
   "source": [
    "table=PrettyTable()\n",
    "\n",
    "table.field_names=['Type of vector','No of train pts','No of Test pts','Optimal_k','Accuracy','F1 Score']\n",
    "\n",
    "table.add_row(['BOW',35000,15000,7,86.64,0.929])\n",
    "table.add_row(['Tf-Idf',35000,15000,5,86.42,0.927])\n",
    "table.add_row(['Avg W2V',35000,14000,17,88.00,0.935])\n",
    "table.add_row(['Tf-Idf W2V',35000,14000,17,87.43,0.932])\n",
    "\n",
    "print(table)"
   ]
  },
  {
   "cell_type": "raw",
   "metadata": {},
   "source": [
    "******************************************************************************************************************************"
   ]
  },
  {
   "cell_type": "markdown",
   "metadata": {},
   "source": [
    "# Inference from the above exercise:"
   ]
  },
  {
   "cell_type": "markdown",
   "metadata": {},
   "source": [
    "*  The accuracy & F1 Score of Avg W2v is slighty greater than others and secondly followed by tfIdf weighted W2V,but the number of test samples used are 1K less than BOW & Tf-IDF\n",
    "\n",
    "\n",
    "* The K value is very less in Tfidf & BOW and for both the W2V models, the number of neighbors needed, for minimum error is very large.\n",
    "\n",
    "\n",
    "* KD tree implementation is too much slower than the bruteforce for this data. On an average for 15000 train and 300 test points, it took closely 3 hours whereas bruteforce took 10 mins at the max.\n",
    "\n",
    "\n",
    "* Tf-IDF with bruteforce implementation is well suited one for internet applications, since time taken to predict xq is less and also K value is lesser(5). So its preferrable for high speed applns with the cost of storing large dimension of data points for each review.\n",
    "\n",
    "\n",
    "* For High accuracy applications like in medical diagnosis,Avg Word2vec on KNN is used since it has a good F1 Score & Accuracy.\n"
   ]
  },
  {
   "cell_type": "raw",
   "metadata": {},
   "source": [
    "******************************************************************************************************************************"
   ]
  }
 ],
 "metadata": {
  "kernelspec": {
   "display_name": "Python 3",
   "language": "python",
   "name": "python3"
  },
  "language_info": {
   "codemirror_mode": {
    "name": "ipython",
    "version": 3
   },
   "file_extension": ".py",
   "mimetype": "text/x-python",
   "name": "python",
   "nbconvert_exporter": "python",
   "pygments_lexer": "ipython3",
   "version": "3.6.5"
  }
 },
 "nbformat": 4,
 "nbformat_minor": 2
}
