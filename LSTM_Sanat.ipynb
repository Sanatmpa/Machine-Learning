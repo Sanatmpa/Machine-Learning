{
 "cells": [
  {
   "cell_type": "markdown",
   "metadata": {
    "colab_type": "text",
    "id": "4HpVQIZImvV3"
   },
   "source": [
    "# <center> LSTM model for Sentiment polarity prediction"
   ]
  },
  {
   "cell_type": "markdown",
   "metadata": {
    "colab_type": "text",
    "id": "mIYFCtgjm8ef"
   },
   "source": [
    "In this notebook we will perform,\n",
    "\n",
    "* Polarity of a review as either poisitive or negative.\n",
    "\n",
    "* We use data from Amazon fine food reviews, downloaded from Kaggle.\n",
    "\n",
    "* We will construct 2 different LSTM architectures and compare performance of those models."
   ]
  },
  {
   "cell_type": "code",
   "execution_count": 2,
   "metadata": {
    "colab": {
     "base_uri": "https://localhost:8080/",
     "height": 34
    },
    "colab_type": "code",
    "id": "Jr4cugH3mZ_X",
    "outputId": "7cc82c2b-c7dc-42a8-a826-a7e8c21300cf"
   },
   "outputs": [
    {
     "name": "stderr",
     "output_type": "stream",
     "text": [
      "Using TensorFlow backend.\n"
     ]
    }
   ],
   "source": [
    "import numpy as np\n",
    "import sqlite3\n",
    "import pandas as pd\n",
    "import pickle\n",
    "import matplotlib.pyplot as plt\n",
    "import seaborn as sns\n",
    "from keras.initializers import glorot_normal\n",
    "from keras.initializers import he_normal\n",
    "from keras.datasets import imdb\n",
    "from keras.models import Sequential\n",
    "from keras.layers import Dense,BatchNormalization\n",
    "from keras.layers import LSTM\n",
    "from keras.layers.embeddings import Embedding\n",
    "from keras.preprocessing import sequence\n",
    "from sklearn.model_selection import train_test_split\n",
    "from sklearn.feature_extraction.text import CountVectorizer\n",
    "from tqdm import tqdm\n",
    "from datetime import datetime as dt\n",
    "\n",
    "# To ignore the warnings.\n",
    "import warnings\n",
    "warnings.filterwarnings('ignore')\n"
   ]
  },
  {
   "cell_type": "code",
   "execution_count": 0,
   "metadata": {
    "colab": {
     "base_uri": "https://localhost:8080/",
     "height": 122
    },
    "colab_type": "code",
    "id": "0lZOhYfYzx-B",
    "outputId": "15bb79e1-78ef-467c-caa4-fa1d3d2e273b"
   },
   "outputs": [
    {
     "name": "stdout",
     "output_type": "stream",
     "text": [
      "Go to this URL in a browser: https://accounts.google.com/o/oauth2/auth?client_id=947318989803-6bn6qk8qdgf4n4g3pfee6491hc0brc4i.apps.googleusercontent.com&redirect_uri=urn%3Aietf%3Awg%3Aoauth%3A2.0%3Aoob&scope=email%20https%3A%2F%2Fwww.googleapis.com%2Fauth%2Fdocs.test%20https%3A%2F%2Fwww.googleapis.com%2Fauth%2Fdrive%20https%3A%2F%2Fwww.googleapis.com%2Fauth%2Fdrive.photos.readonly%20https%3A%2F%2Fwww.googleapis.com%2Fauth%2Fpeopleapi.readonly&response_type=code\n",
      "\n",
      "Enter your authorization code:\n",
      "··········\n",
      "Mounted at /content/drive\n"
     ]
    }
   ],
   "source": [
    "from google.colab import drive\n",
    "drive.mount('/content/drive')"
   ]
  },
  {
   "cell_type": "markdown",
   "metadata": {
    "colab_type": "text",
    "id": "Dfy7aJpxL38o"
   },
   "source": [
    "* Loading Data:"
   ]
  },
  {
   "cell_type": "code",
   "execution_count": 0,
   "metadata": {
    "colab": {},
    "colab_type": "code",
    "id": "19NT5SbRzHN-"
   },
   "outputs": [],
   "source": [
    "con=sqlite3.connect('/content/drive/My Drive/Colab Notebooks/database.sqlite')"
   ]
  },
  {
   "cell_type": "code",
   "execution_count": 0,
   "metadata": {
    "colab": {
     "base_uri": "https://localhost:8080/",
     "height": 374
    },
    "colab_type": "code",
    "id": "cadvfjVRzfmh",
    "outputId": "18e7249a-c9d6-4c0d-c994-995cdf6784cd"
   },
   "outputs": [
    {
     "data": {
      "text/html": [
       "<div>\n",
       "<style scoped>\n",
       "    .dataframe tbody tr th:only-of-type {\n",
       "        vertical-align: middle;\n",
       "    }\n",
       "\n",
       "    .dataframe tbody tr th {\n",
       "        vertical-align: top;\n",
       "    }\n",
       "\n",
       "    .dataframe thead th {\n",
       "        text-align: right;\n",
       "    }\n",
       "</style>\n",
       "<table border=\"1\" class=\"dataframe\">\n",
       "  <thead>\n",
       "    <tr style=\"text-align: right;\">\n",
       "      <th></th>\n",
       "      <th>Id</th>\n",
       "      <th>ProductId</th>\n",
       "      <th>UserId</th>\n",
       "      <th>ProfileName</th>\n",
       "      <th>HelpfulnessNumerator</th>\n",
       "      <th>HelpfulnessDenominator</th>\n",
       "      <th>Score</th>\n",
       "      <th>Time</th>\n",
       "      <th>Summary</th>\n",
       "      <th>Text</th>\n",
       "    </tr>\n",
       "  </thead>\n",
       "  <tbody>\n",
       "    <tr>\n",
       "      <th>0</th>\n",
       "      <td>1</td>\n",
       "      <td>B001E4KFG0</td>\n",
       "      <td>A3SGXH7AUHU8GW</td>\n",
       "      <td>delmartian</td>\n",
       "      <td>1</td>\n",
       "      <td>1</td>\n",
       "      <td>5</td>\n",
       "      <td>1303862400</td>\n",
       "      <td>Good Quality Dog Food</td>\n",
       "      <td>I have bought several of the Vitality canned d...</td>\n",
       "    </tr>\n",
       "    <tr>\n",
       "      <th>1</th>\n",
       "      <td>2</td>\n",
       "      <td>B00813GRG4</td>\n",
       "      <td>A1D87F6ZCVE5NK</td>\n",
       "      <td>dll pa</td>\n",
       "      <td>0</td>\n",
       "      <td>0</td>\n",
       "      <td>1</td>\n",
       "      <td>1346976000</td>\n",
       "      <td>Not as Advertised</td>\n",
       "      <td>Product arrived labeled as Jumbo Salted Peanut...</td>\n",
       "    </tr>\n",
       "    <tr>\n",
       "      <th>2</th>\n",
       "      <td>3</td>\n",
       "      <td>B000LQOCH0</td>\n",
       "      <td>ABXLMWJIXXAIN</td>\n",
       "      <td>Natalia Corres \"Natalia Corres\"</td>\n",
       "      <td>1</td>\n",
       "      <td>1</td>\n",
       "      <td>4</td>\n",
       "      <td>1219017600</td>\n",
       "      <td>\"Delight\" says it all</td>\n",
       "      <td>This is a confection that has been around a fe...</td>\n",
       "    </tr>\n",
       "    <tr>\n",
       "      <th>3</th>\n",
       "      <td>4</td>\n",
       "      <td>B000UA0QIQ</td>\n",
       "      <td>A395BORC6FGVXV</td>\n",
       "      <td>Karl</td>\n",
       "      <td>3</td>\n",
       "      <td>3</td>\n",
       "      <td>2</td>\n",
       "      <td>1307923200</td>\n",
       "      <td>Cough Medicine</td>\n",
       "      <td>If you are looking for the secret ingredient i...</td>\n",
       "    </tr>\n",
       "    <tr>\n",
       "      <th>4</th>\n",
       "      <td>5</td>\n",
       "      <td>B006K2ZZ7K</td>\n",
       "      <td>A1UQRSCLF8GW1T</td>\n",
       "      <td>Michael D. Bigham \"M. Wassir\"</td>\n",
       "      <td>0</td>\n",
       "      <td>0</td>\n",
       "      <td>5</td>\n",
       "      <td>1350777600</td>\n",
       "      <td>Great taffy</td>\n",
       "      <td>Great taffy at a great price.  There was a wid...</td>\n",
       "    </tr>\n",
       "  </tbody>\n",
       "</table>\n",
       "</div>"
      ],
      "text/plain": [
       "   Id   ProductId          UserId                      ProfileName  \\\n",
       "0   1  B001E4KFG0  A3SGXH7AUHU8GW                       delmartian   \n",
       "1   2  B00813GRG4  A1D87F6ZCVE5NK                           dll pa   \n",
       "2   3  B000LQOCH0   ABXLMWJIXXAIN  Natalia Corres \"Natalia Corres\"   \n",
       "3   4  B000UA0QIQ  A395BORC6FGVXV                             Karl   \n",
       "4   5  B006K2ZZ7K  A1UQRSCLF8GW1T    Michael D. Bigham \"M. Wassir\"   \n",
       "\n",
       "   HelpfulnessNumerator  HelpfulnessDenominator  Score        Time  \\\n",
       "0                     1                       1      5  1303862400   \n",
       "1                     0                       0      1  1346976000   \n",
       "2                     1                       1      4  1219017600   \n",
       "3                     3                       3      2  1307923200   \n",
       "4                     0                       0      5  1350777600   \n",
       "\n",
       "                 Summary                                               Text  \n",
       "0  Good Quality Dog Food  I have bought several of the Vitality canned d...  \n",
       "1      Not as Advertised  Product arrived labeled as Jumbo Salted Peanut...  \n",
       "2  \"Delight\" says it all  This is a confection that has been around a fe...  \n",
       "3         Cough Medicine  If you are looking for the secret ingredient i...  \n",
       "4            Great taffy  Great taffy at a great price.  There was a wid...  "
      ]
     },
     "execution_count": 8,
     "metadata": {
      "tags": []
     },
     "output_type": "execute_result"
    }
   ],
   "source": [
    "data=pd.read_sql_query('''Select * from Reviews''',con)\n",
    "data.head()"
   ]
  },
  {
   "cell_type": "markdown",
   "metadata": {
    "colab_type": "text",
    "id": "M7C1Vw-4L9Oq"
   },
   "source": [
    "## <center> Data preprocessing"
   ]
  },
  {
   "cell_type": "markdown",
   "metadata": {
    "colab_type": "text",
    "id": "0JaP-WuKMCji"
   },
   "source": [
    "Converting scores from [1-5] as positive and negative."
   ]
  },
  {
   "cell_type": "code",
   "execution_count": 0,
   "metadata": {
    "colab": {},
    "colab_type": "code",
    "id": "X8K2fjhx3rgn"
   },
   "outputs": [],
   "source": [
    "#Converting scores to Positive or negative\n",
    "\n",
    "def partition(x):\n",
    "    if x<3:\n",
    "        return 'negative'\n",
    "    else:\n",
    "        return 'positive'\n",
    "    \n",
    "tmp=data['Score']\n",
    "new=tmp.map(partition)\n",
    "data['Score']=new"
   ]
  },
  {
   "cell_type": "code",
   "execution_count": 0,
   "metadata": {
    "colab": {
     "base_uri": "https://localhost:8080/",
     "height": 244
    },
    "colab_type": "code",
    "id": "whisZ9Jl37V6",
    "outputId": "3a87258c-2353-4dbd-9b43-d862ca4ad5da"
   },
   "outputs": [
    {
     "data": {
      "text/html": [
       "<div>\n",
       "<style scoped>\n",
       "    .dataframe tbody tr th:only-of-type {\n",
       "        vertical-align: middle;\n",
       "    }\n",
       "\n",
       "    .dataframe tbody tr th {\n",
       "        vertical-align: top;\n",
       "    }\n",
       "\n",
       "    .dataframe thead th {\n",
       "        text-align: right;\n",
       "    }\n",
       "</style>\n",
       "<table border=\"1\" class=\"dataframe\">\n",
       "  <thead>\n",
       "    <tr style=\"text-align: right;\">\n",
       "      <th></th>\n",
       "      <th>Id</th>\n",
       "      <th>ProductId</th>\n",
       "      <th>UserId</th>\n",
       "      <th>ProfileName</th>\n",
       "      <th>HelpfulnessNumerator</th>\n",
       "      <th>HelpfulnessDenominator</th>\n",
       "      <th>Score</th>\n",
       "      <th>Time</th>\n",
       "      <th>Summary</th>\n",
       "      <th>Text</th>\n",
       "    </tr>\n",
       "  </thead>\n",
       "  <tbody>\n",
       "    <tr>\n",
       "      <th>0</th>\n",
       "      <td>1</td>\n",
       "      <td>B001E4KFG0</td>\n",
       "      <td>A3SGXH7AUHU8GW</td>\n",
       "      <td>delmartian</td>\n",
       "      <td>1</td>\n",
       "      <td>1</td>\n",
       "      <td>positive</td>\n",
       "      <td>1303862400</td>\n",
       "      <td>Good Quality Dog Food</td>\n",
       "      <td>I have bought several of the Vitality canned d...</td>\n",
       "    </tr>\n",
       "    <tr>\n",
       "      <th>1</th>\n",
       "      <td>2</td>\n",
       "      <td>B00813GRG4</td>\n",
       "      <td>A1D87F6ZCVE5NK</td>\n",
       "      <td>dll pa</td>\n",
       "      <td>0</td>\n",
       "      <td>0</td>\n",
       "      <td>negative</td>\n",
       "      <td>1346976000</td>\n",
       "      <td>Not as Advertised</td>\n",
       "      <td>Product arrived labeled as Jumbo Salted Peanut...</td>\n",
       "    </tr>\n",
       "    <tr>\n",
       "      <th>2</th>\n",
       "      <td>3</td>\n",
       "      <td>B000LQOCH0</td>\n",
       "      <td>ABXLMWJIXXAIN</td>\n",
       "      <td>Natalia Corres \"Natalia Corres\"</td>\n",
       "      <td>1</td>\n",
       "      <td>1</td>\n",
       "      <td>positive</td>\n",
       "      <td>1219017600</td>\n",
       "      <td>\"Delight\" says it all</td>\n",
       "      <td>This is a confection that has been around a fe...</td>\n",
       "    </tr>\n",
       "  </tbody>\n",
       "</table>\n",
       "</div>"
      ],
      "text/plain": [
       "   Id   ProductId          UserId                      ProfileName  \\\n",
       "0   1  B001E4KFG0  A3SGXH7AUHU8GW                       delmartian   \n",
       "1   2  B00813GRG4  A1D87F6ZCVE5NK                           dll pa   \n",
       "2   3  B000LQOCH0   ABXLMWJIXXAIN  Natalia Corres \"Natalia Corres\"   \n",
       "\n",
       "   HelpfulnessNumerator  HelpfulnessDenominator     Score        Time  \\\n",
       "0                     1                       1  positive  1303862400   \n",
       "1                     0                       0  negative  1346976000   \n",
       "2                     1                       1  positive  1219017600   \n",
       "\n",
       "                 Summary                                               Text  \n",
       "0  Good Quality Dog Food  I have bought several of the Vitality canned d...  \n",
       "1      Not as Advertised  Product arrived labeled as Jumbo Salted Peanut...  \n",
       "2  \"Delight\" says it all  This is a confection that has been around a fe...  "
      ]
     },
     "execution_count": 11,
     "metadata": {
      "tags": []
     },
     "output_type": "execute_result"
    }
   ],
   "source": [
    "data.head(3)"
   ]
  },
  {
   "cell_type": "code",
   "execution_count": 0,
   "metadata": {
    "colab": {},
    "colab_type": "code",
    "id": "Kn2ugpp14OEL"
   },
   "outputs": [],
   "source": [
    "dedup_data=data.drop_duplicates(subset={\"UserId\",'ProfileName','Time','Text'},keep='first', inplace= False)\n",
    "dedup_data=dedup_data[dedup_data.HelpfulnessNumerator <= dedup_data.HelpfulnessDenominator]\n"
   ]
  },
  {
   "cell_type": "code",
   "execution_count": 0,
   "metadata": {
    "colab": {},
    "colab_type": "code",
    "id": "bzRepmMF4Z94"
   },
   "outputs": [],
   "source": [
    "import re\n",
    "\n",
    "def cleanHtml(s):\n",
    "    clean=re.compile('<.*?>')\n",
    "    cleared= re.sub(clean,' ',s)\n",
    "    return cleared\n",
    "\n",
    "def cleanPunc(s):\n",
    "    cleared=re.sub('[?|!|\\'|\"|(|)|.|#|]',r' ',s)\n",
    "    return cleared\n"
   ]
  },
  {
   "cell_type": "markdown",
   "metadata": {
    "colab_type": "text",
    "id": "EEF70ZNhMoX7"
   },
   "source": [
    "Below function removes HTML , punctuations, numbers etc and convert each words to lower.\n",
    "\n",
    "* Here we didn't removed stop words as it may provide better gramatical meanings with text data."
   ]
  },
  {
   "cell_type": "code",
   "execution_count": 0,
   "metadata": {
    "colab": {
     "base_uri": "https://localhost:8080/",
     "height": 68
    },
    "colab_type": "code",
    "id": "NUZgvz5h4hei",
    "outputId": "3e09f06f-5ca9-4cb4-bed0-d07981a3b90b"
   },
   "outputs": [
    {
     "name": "stderr",
     "output_type": "stream",
     "text": [
      "  1%|          | 2172/393931 [00:00<00:18, 21714.43it/s]"
     ]
    },
    {
     "name": "stdout",
     "output_type": "stream",
     "text": [
      "Operation started at : 1549995387.6400065 \n"
     ]
    },
    {
     "name": "stderr",
     "output_type": "stream",
     "text": [
      "100%|██████████| 393931/393931 [00:19<00:00, 20174.92it/s]\n"
     ]
    },
    {
     "name": "stdout",
     "output_type": "stream",
     "text": [
      "Time taken = 19.621785163879395 \n"
     ]
    }
   ],
   "source": [
    "#Program to clean the words\n",
    "\n",
    "import time\n",
    "i=0 #Review counter\n",
    "str=''\n",
    "filtered_text=[]\n",
    "start=time.time()\n",
    "print('Operation started at : {} '.format(start))\n",
    "for sentence in tqdm(dedup_data['Text'].values):\n",
    "    filtered_sentence=[]\n",
    "    clean=cleanHtml(sentence)\n",
    "    clean=cleanPunc(clean)\n",
    "    for words in clean.split():\n",
    "        #print(type(words))\n",
    "        if(words.isalpha()):\n",
    "            word=words.lower()\n",
    "            filtered_sentence.append(word)                \n",
    "        else:\n",
    "            continue\n",
    "            \n",
    "    str1=' '.join(filtered_sentence)    \n",
    "    filtered_text.append(str1)\n",
    "    i+=1\n",
    "\n",
    "dedup_data['New']=filtered_text\n",
    "end=time.time()-start\n",
    "print('Time taken = {} '.format(end))\n"
   ]
  },
  {
   "cell_type": "code",
   "execution_count": 0,
   "metadata": {
    "colab": {
     "base_uri": "https://localhost:8080/",
     "height": 595
    },
    "colab_type": "code",
    "id": "g4oUdyqO6cBH",
    "outputId": "9a4f722b-ad47-4937-c2c2-40a5435c2337"
   },
   "outputs": [
    {
     "data": {
      "text/html": [
       "<div>\n",
       "<style scoped>\n",
       "    .dataframe tbody tr th:only-of-type {\n",
       "        vertical-align: middle;\n",
       "    }\n",
       "\n",
       "    .dataframe tbody tr th {\n",
       "        vertical-align: top;\n",
       "    }\n",
       "\n",
       "    .dataframe thead th {\n",
       "        text-align: right;\n",
       "    }\n",
       "</style>\n",
       "<table border=\"1\" class=\"dataframe\">\n",
       "  <thead>\n",
       "    <tr style=\"text-align: right;\">\n",
       "      <th></th>\n",
       "      <th>Id</th>\n",
       "      <th>ProductId</th>\n",
       "      <th>UserId</th>\n",
       "      <th>ProfileName</th>\n",
       "      <th>HelpfulnessNumerator</th>\n",
       "      <th>HelpfulnessDenominator</th>\n",
       "      <th>Score</th>\n",
       "      <th>Time</th>\n",
       "      <th>Summary</th>\n",
       "      <th>Text</th>\n",
       "      <th>New</th>\n",
       "    </tr>\n",
       "  </thead>\n",
       "  <tbody>\n",
       "    <tr>\n",
       "      <th>0</th>\n",
       "      <td>1</td>\n",
       "      <td>B001E4KFG0</td>\n",
       "      <td>A3SGXH7AUHU8GW</td>\n",
       "      <td>delmartian</td>\n",
       "      <td>1</td>\n",
       "      <td>1</td>\n",
       "      <td>positive</td>\n",
       "      <td>1303862400</td>\n",
       "      <td>Good Quality Dog Food</td>\n",
       "      <td>I have bought several of the Vitality canned d...</td>\n",
       "      <td>i have bought several of the vitality canned d...</td>\n",
       "    </tr>\n",
       "    <tr>\n",
       "      <th>1</th>\n",
       "      <td>2</td>\n",
       "      <td>B00813GRG4</td>\n",
       "      <td>A1D87F6ZCVE5NK</td>\n",
       "      <td>dll pa</td>\n",
       "      <td>0</td>\n",
       "      <td>0</td>\n",
       "      <td>negative</td>\n",
       "      <td>1346976000</td>\n",
       "      <td>Not as Advertised</td>\n",
       "      <td>Product arrived labeled as Jumbo Salted Peanut...</td>\n",
       "      <td>product arrived labeled as jumbo salted peanut...</td>\n",
       "    </tr>\n",
       "    <tr>\n",
       "      <th>2</th>\n",
       "      <td>3</td>\n",
       "      <td>B000LQOCH0</td>\n",
       "      <td>ABXLMWJIXXAIN</td>\n",
       "      <td>Natalia Corres \"Natalia Corres\"</td>\n",
       "      <td>1</td>\n",
       "      <td>1</td>\n",
       "      <td>positive</td>\n",
       "      <td>1219017600</td>\n",
       "      <td>\"Delight\" says it all</td>\n",
       "      <td>This is a confection that has been around a fe...</td>\n",
       "      <td>this is a confection that has been around a fe...</td>\n",
       "    </tr>\n",
       "    <tr>\n",
       "      <th>3</th>\n",
       "      <td>4</td>\n",
       "      <td>B000UA0QIQ</td>\n",
       "      <td>A395BORC6FGVXV</td>\n",
       "      <td>Karl</td>\n",
       "      <td>3</td>\n",
       "      <td>3</td>\n",
       "      <td>negative</td>\n",
       "      <td>1307923200</td>\n",
       "      <td>Cough Medicine</td>\n",
       "      <td>If you are looking for the secret ingredient i...</td>\n",
       "      <td>if you are looking for the secret ingredient i...</td>\n",
       "    </tr>\n",
       "    <tr>\n",
       "      <th>4</th>\n",
       "      <td>5</td>\n",
       "      <td>B006K2ZZ7K</td>\n",
       "      <td>A1UQRSCLF8GW1T</td>\n",
       "      <td>Michael D. Bigham \"M. Wassir\"</td>\n",
       "      <td>0</td>\n",
       "      <td>0</td>\n",
       "      <td>positive</td>\n",
       "      <td>1350777600</td>\n",
       "      <td>Great taffy</td>\n",
       "      <td>Great taffy at a great price.  There was a wid...</td>\n",
       "      <td>great taffy at a great price there was a wide ...</td>\n",
       "    </tr>\n",
       "  </tbody>\n",
       "</table>\n",
       "</div>"
      ],
      "text/plain": [
       "   Id   ProductId          UserId                      ProfileName  \\\n",
       "0   1  B001E4KFG0  A3SGXH7AUHU8GW                       delmartian   \n",
       "1   2  B00813GRG4  A1D87F6ZCVE5NK                           dll pa   \n",
       "2   3  B000LQOCH0   ABXLMWJIXXAIN  Natalia Corres \"Natalia Corres\"   \n",
       "3   4  B000UA0QIQ  A395BORC6FGVXV                             Karl   \n",
       "4   5  B006K2ZZ7K  A1UQRSCLF8GW1T    Michael D. Bigham \"M. Wassir\"   \n",
       "\n",
       "   HelpfulnessNumerator  HelpfulnessDenominator     Score        Time  \\\n",
       "0                     1                       1  positive  1303862400   \n",
       "1                     0                       0  negative  1346976000   \n",
       "2                     1                       1  positive  1219017600   \n",
       "3                     3                       3  negative  1307923200   \n",
       "4                     0                       0  positive  1350777600   \n",
       "\n",
       "                 Summary                                               Text  \\\n",
       "0  Good Quality Dog Food  I have bought several of the Vitality canned d...   \n",
       "1      Not as Advertised  Product arrived labeled as Jumbo Salted Peanut...   \n",
       "2  \"Delight\" says it all  This is a confection that has been around a fe...   \n",
       "3         Cough Medicine  If you are looking for the secret ingredient i...   \n",
       "4            Great taffy  Great taffy at a great price.  There was a wid...   \n",
       "\n",
       "                                                 New  \n",
       "0  i have bought several of the vitality canned d...  \n",
       "1  product arrived labeled as jumbo salted peanut...  \n",
       "2  this is a confection that has been around a fe...  \n",
       "3  if you are looking for the secret ingredient i...  \n",
       "4  great taffy at a great price there was a wide ...  "
      ]
     },
     "execution_count": 22,
     "metadata": {
      "tags": []
     },
     "output_type": "execute_result"
    }
   ],
   "source": [
    "dedup_data.head()"
   ]
  },
  {
   "cell_type": "code",
   "execution_count": 0,
   "metadata": {
    "colab": {
     "base_uri": "https://localhost:8080/",
     "height": 54
    },
    "colab_type": "code",
    "id": "NNkVEkMD6lzF",
    "outputId": "c260a019-836a-4c2e-84f4-6d10f2b6cac7"
   },
   "outputs": [
    {
     "data": {
      "text/plain": [
       "'i got a wild hair for taffy and ordered this five pound bag the taffy was all very enjoyable with many root etc my only complaint is there was a bit too much pieces just not my particular favorites between my and my this lasted only two weeks i would recommend this brand of taffy it was a delightful treat'"
      ]
     },
     "execution_count": 24,
     "metadata": {
      "tags": []
     },
     "output_type": "execute_result"
    }
   ],
   "source": [
    "dedup_data.New[5]"
   ]
  },
  {
   "cell_type": "code",
   "execution_count": 0,
   "metadata": {
    "colab": {},
    "colab_type": "code",
    "id": "J3jxdotG6uxt"
   },
   "outputs": [],
   "source": [
    "conn=sqlite3.connect('/content/drive/My Drive/Colab Notebooks/database_lstm.sqlite')\n",
    "conn.text_factory=str\n",
    "dedup_data.to_sql('Reviews',conn, schema=None, if_exists='replace', index=True, index_label=None, chunksize=None, dtype=None)"
   ]
  },
  {
   "cell_type": "markdown",
   "metadata": {
    "colab_type": "text",
    "id": "hS01sTrQM9PZ"
   },
   "source": [
    "* All preprocessing steps are completed and it was stored in a new DB file for later usage."
   ]
  },
  {
   "cell_type": "code",
   "execution_count": 0,
   "metadata": {
    "colab": {
     "base_uri": "https://localhost:8080/",
     "height": 683
    },
    "colab_type": "code",
    "id": "k2jdVA1c78u-",
    "outputId": "878f5541-7fd2-44f7-9883-af7714465b90"
   },
   "outputs": [
    {
     "data": {
      "text/html": [
       "<div>\n",
       "<style scoped>\n",
       "    .dataframe tbody tr th:only-of-type {\n",
       "        vertical-align: middle;\n",
       "    }\n",
       "\n",
       "    .dataframe tbody tr th {\n",
       "        vertical-align: top;\n",
       "    }\n",
       "\n",
       "    .dataframe thead th {\n",
       "        text-align: right;\n",
       "    }\n",
       "</style>\n",
       "<table border=\"1\" class=\"dataframe\">\n",
       "  <thead>\n",
       "    <tr style=\"text-align: right;\">\n",
       "      <th></th>\n",
       "      <th>index</th>\n",
       "      <th>Id</th>\n",
       "      <th>ProductId</th>\n",
       "      <th>UserId</th>\n",
       "      <th>ProfileName</th>\n",
       "      <th>HelpfulnessNumerator</th>\n",
       "      <th>HelpfulnessDenominator</th>\n",
       "      <th>Score</th>\n",
       "      <th>Time</th>\n",
       "      <th>Summary</th>\n",
       "      <th>Text</th>\n",
       "      <th>New</th>\n",
       "    </tr>\n",
       "  </thead>\n",
       "  <tbody>\n",
       "    <tr>\n",
       "      <th>0</th>\n",
       "      <td>0</td>\n",
       "      <td>1</td>\n",
       "      <td>B001E4KFG0</td>\n",
       "      <td>A3SGXH7AUHU8GW</td>\n",
       "      <td>delmartian</td>\n",
       "      <td>1</td>\n",
       "      <td>1</td>\n",
       "      <td>positive</td>\n",
       "      <td>1303862400</td>\n",
       "      <td>Good Quality Dog Food</td>\n",
       "      <td>I have bought several of the Vitality canned d...</td>\n",
       "      <td>i have bought several of the vitality canned d...</td>\n",
       "    </tr>\n",
       "    <tr>\n",
       "      <th>1</th>\n",
       "      <td>1</td>\n",
       "      <td>2</td>\n",
       "      <td>B00813GRG4</td>\n",
       "      <td>A1D87F6ZCVE5NK</td>\n",
       "      <td>dll pa</td>\n",
       "      <td>0</td>\n",
       "      <td>0</td>\n",
       "      <td>negative</td>\n",
       "      <td>1346976000</td>\n",
       "      <td>Not as Advertised</td>\n",
       "      <td>Product arrived labeled as Jumbo Salted Peanut...</td>\n",
       "      <td>product arrived labeled as jumbo salted peanut...</td>\n",
       "    </tr>\n",
       "    <tr>\n",
       "      <th>2</th>\n",
       "      <td>2</td>\n",
       "      <td>3</td>\n",
       "      <td>B000LQOCH0</td>\n",
       "      <td>ABXLMWJIXXAIN</td>\n",
       "      <td>Natalia Corres \"Natalia Corres\"</td>\n",
       "      <td>1</td>\n",
       "      <td>1</td>\n",
       "      <td>positive</td>\n",
       "      <td>1219017600</td>\n",
       "      <td>\"Delight\" says it all</td>\n",
       "      <td>This is a confection that has been around a fe...</td>\n",
       "      <td>this is a confection that has been around a fe...</td>\n",
       "    </tr>\n",
       "    <tr>\n",
       "      <th>3</th>\n",
       "      <td>3</td>\n",
       "      <td>4</td>\n",
       "      <td>B000UA0QIQ</td>\n",
       "      <td>A395BORC6FGVXV</td>\n",
       "      <td>Karl</td>\n",
       "      <td>3</td>\n",
       "      <td>3</td>\n",
       "      <td>negative</td>\n",
       "      <td>1307923200</td>\n",
       "      <td>Cough Medicine</td>\n",
       "      <td>If you are looking for the secret ingredient i...</td>\n",
       "      <td>if you are looking for the secret ingredient i...</td>\n",
       "    </tr>\n",
       "    <tr>\n",
       "      <th>4</th>\n",
       "      <td>4</td>\n",
       "      <td>5</td>\n",
       "      <td>B006K2ZZ7K</td>\n",
       "      <td>A1UQRSCLF8GW1T</td>\n",
       "      <td>Michael D. Bigham \"M. Wassir\"</td>\n",
       "      <td>0</td>\n",
       "      <td>0</td>\n",
       "      <td>positive</td>\n",
       "      <td>1350777600</td>\n",
       "      <td>Great taffy</td>\n",
       "      <td>Great taffy at a great price.  There was a wid...</td>\n",
       "      <td>great taffy at a great price there was a wide ...</td>\n",
       "    </tr>\n",
       "  </tbody>\n",
       "</table>\n",
       "</div>"
      ],
      "text/plain": [
       "   index  Id   ProductId          UserId                      ProfileName  \\\n",
       "0      0   1  B001E4KFG0  A3SGXH7AUHU8GW                       delmartian   \n",
       "1      1   2  B00813GRG4  A1D87F6ZCVE5NK                           dll pa   \n",
       "2      2   3  B000LQOCH0   ABXLMWJIXXAIN  Natalia Corres \"Natalia Corres\"   \n",
       "3      3   4  B000UA0QIQ  A395BORC6FGVXV                             Karl   \n",
       "4      4   5  B006K2ZZ7K  A1UQRSCLF8GW1T    Michael D. Bigham \"M. Wassir\"   \n",
       "\n",
       "   HelpfulnessNumerator  HelpfulnessDenominator     Score        Time  \\\n",
       "0                     1                       1  positive  1303862400   \n",
       "1                     0                       0  negative  1346976000   \n",
       "2                     1                       1  positive  1219017600   \n",
       "3                     3                       3  negative  1307923200   \n",
       "4                     0                       0  positive  1350777600   \n",
       "\n",
       "                 Summary                                               Text  \\\n",
       "0  Good Quality Dog Food  I have bought several of the Vitality canned d...   \n",
       "1      Not as Advertised  Product arrived labeled as Jumbo Salted Peanut...   \n",
       "2  \"Delight\" says it all  This is a confection that has been around a fe...   \n",
       "3         Cough Medicine  If you are looking for the secret ingredient i...   \n",
       "4            Great taffy  Great taffy at a great price.  There was a wid...   \n",
       "\n",
       "                                                 New  \n",
       "0  i have bought several of the vitality canned d...  \n",
       "1  product arrived labeled as jumbo salted peanut...  \n",
       "2  this is a confection that has been around a fe...  \n",
       "3  if you are looking for the secret ingredient i...  \n",
       "4  great taffy at a great price there was a wide ...  "
      ]
     },
     "execution_count": 3,
     "metadata": {
      "tags": []
     },
     "output_type": "execute_result"
    }
   ],
   "source": [
    "a=sqlite3.connect('/content/drive/My Drive/Colab Notebooks/database_lstm.sqlite')\n",
    "data1=pd.read_sql_query('''Select * from Reviews''',a)\n",
    "data1.head()"
   ]
  },
  {
   "cell_type": "markdown",
   "metadata": {
    "colab_type": "text",
    "id": "SHjGquBIKfIs"
   },
   "source": [
    "## <center> Time based sorting of data"
   ]
  },
  {
   "cell_type": "markdown",
   "metadata": {
    "colab_type": "text",
    "id": "Dj0uKBhtNZES"
   },
   "source": [
    "* Since we have date & time feature on data, we can use time based sorting."
   ]
  },
  {
   "cell_type": "code",
   "execution_count": 0,
   "metadata": {
    "colab": {},
    "colab_type": "code",
    "id": "HJaltNSLKfIu"
   },
   "outputs": [],
   "source": [
    "sorted_data=data1.sort_values('Time',axis=0,ascending=True)"
   ]
  },
  {
   "cell_type": "markdown",
   "metadata": {
    "colab_type": "text",
    "id": "23dv9GLMKfJA"
   },
   "source": [
    "## <center> Splitting of data into Test and Train"
   ]
  },
  {
   "cell_type": "markdown",
   "metadata": {
    "colab_type": "text",
    "id": "1siMleESNh5n"
   },
   "source": [
    "* We split the entire data to train & test split."
   ]
  },
  {
   "cell_type": "code",
   "execution_count": 0,
   "metadata": {
    "colab": {
     "base_uri": "https://localhost:8080/",
     "height": 68
    },
    "colab_type": "code",
    "id": "nN-fZ-CAFyG9",
    "outputId": "49100d5d-62e0-46cd-a0bd-7226e3e4c22f"
   },
   "outputs": [
    {
     "name": "stdout",
     "output_type": "stream",
     "text": [
      "275752\n",
      "118179\n",
      "True\n"
     ]
    }
   ],
   "source": [
    "train_length=round(0.7*len(data1))\n",
    "print(train_length)\n",
    "test_length=round(0.3*len(data1))\n",
    "print(test_length)\n",
    "print((train_length+test_length)==len(data1))"
   ]
  },
  {
   "cell_type": "code",
   "execution_count": 0,
   "metadata": {
    "colab": {},
    "colab_type": "code",
    "id": "Q8LQw_m4F3IK"
   },
   "outputs": [],
   "source": [
    "train=sorted_data.head(train_length)\n",
    "test=sorted_data.tail(test_length)"
   ]
  },
  {
   "cell_type": "markdown",
   "metadata": {
    "colab_type": "text",
    "id": "XelbQdYfl0Xc"
   },
   "source": [
    "## <center>  Preparing text data "
   ]
  },
  {
   "cell_type": "markdown",
   "metadata": {
    "colab_type": "text",
    "id": "X4uiyOx_omou"
   },
   "source": [
    "* The text data needs to be converted into format, appropriate for sending it through LSTM network. We will do all such formattings to the input data in below cells."
   ]
  },
  {
   "cell_type": "code",
   "execution_count": 0,
   "metadata": {
    "colab": {
     "base_uri": "https://localhost:8080/",
     "height": 34
    },
    "colab_type": "code",
    "id": "-fFfAK2m_VKI",
    "outputId": "a3fd4ec4-e4f0-4cc5-b715-527e17ec5678"
   },
   "outputs": [
    {
     "name": "stderr",
     "output_type": "stream",
     "text": [
      "100%|██████████| 275752/275752 [00:05<00:00, 47306.80it/s]\n"
     ]
    }
   ],
   "source": [
    "word_corpus=[]\n",
    "for sentence in tqdm(train['New'].values):\n",
    "    for words in sentence.split():\n",
    "      word_corpus.append(words)"
   ]
  },
  {
   "cell_type": "code",
   "execution_count": 0,
   "metadata": {
    "colab": {
     "base_uri": "https://localhost:8080/",
     "height": 34
    },
    "colab_type": "code",
    "id": "yA5ptTKiRrkK",
    "outputId": "5f1f74d6-ad5a-4651-df21-36aede921aaf"
   },
   "outputs": [
    {
     "data": {
      "text/plain": [
       "20810046"
      ]
     },
     "execution_count": 8,
     "metadata": {
      "tags": []
     },
     "output_type": "execute_result"
    }
   ],
   "source": [
    "len(word_corpus)"
   ]
  },
  {
   "cell_type": "markdown",
   "metadata": {
    "colab_type": "text",
    "id": "FYowNZwVNuY3"
   },
   "source": [
    "* I used counter class from collection package to calculate the frequency of occurence of each words in the corpus of reviews in train data."
   ]
  },
  {
   "cell_type": "code",
   "execution_count": 0,
   "metadata": {
    "colab": {},
    "colab_type": "code",
    "id": "GF7ntGRCRBkv"
   },
   "outputs": [],
   "source": [
    "from collections import Counter\n",
    "word_freq=Counter(word_corpus).most_common()"
   ]
  },
  {
   "cell_type": "code",
   "execution_count": 0,
   "metadata": {
    "colab": {
     "base_uri": "https://localhost:8080/",
     "height": 34
    },
    "colab_type": "code",
    "id": "K_sbVwBFU3qw",
    "outputId": "94cea32b-ffe2-46d1-de2b-3f05f3696747"
   },
   "outputs": [
    {
     "data": {
      "text/plain": [
       "83497"
      ]
     },
     "execution_count": 10,
     "metadata": {
      "tags": []
     },
     "output_type": "execute_result"
    }
   ],
   "source": [
    "len(word_freq)"
   ]
  },
  {
   "cell_type": "markdown",
   "metadata": {
    "colab_type": "text",
    "id": "cmxAzLdjcbG_"
   },
   "source": [
    "* Total number of unique words in vocabulary is 83497."
   ]
  },
  {
   "cell_type": "code",
   "execution_count": 0,
   "metadata": {
    "colab": {
     "base_uri": "https://localhost:8080/",
     "height": 17034
    },
    "colab_type": "code",
    "id": "m1xqhYW_W5MN",
    "outputId": "0f077000-c634-40df-d4a4-66ba5ad8193e"
   },
   "outputs": [
    {
     "data": {
      "text/plain": [
       "[('the', 900614),\n",
       " ('i', 797219),\n",
       " ('and', 610389),\n",
       " ('a', 578077),\n",
       " ('it', 506934),\n",
       " ('to', 485641),\n",
       " ('of', 382666),\n",
       " ('is', 352472),\n",
       " ('this', 322221),\n",
       " ('in', 268180),\n",
       " ('for', 263989),\n",
       " ('that', 208734),\n",
       " ('my', 208705),\n",
       " ('you', 182291),\n",
       " ('but', 172441),\n",
       " ('with', 171459),\n",
       " ('have', 162864),\n",
       " ('not', 156935),\n",
       " ('was', 150593),\n",
       " ('are', 148239),\n",
       " ('they', 145516),\n",
       " ('s', 145113),\n",
       " ('t', 141691),\n",
       " ('as', 135062),\n",
       " ('on', 129683),\n",
       " ('like', 116576),\n",
       " ('so', 113539),\n",
       " ('these', 104729),\n",
       " ('them', 92151),\n",
       " ('be', 90668),\n",
       " ('good', 88064),\n",
       " ('at', 87390),\n",
       " ('or', 87296),\n",
       " ('can', 84823),\n",
       " ('just', 81696),\n",
       " ('if', 81411),\n",
       " ('very', 80495),\n",
       " ('one', 79418),\n",
       " ('great', 76266),\n",
       " ('taste', 75783),\n",
       " ('from', 71400),\n",
       " ('all', 70105),\n",
       " ('we', 69477),\n",
       " ('product', 66872),\n",
       " ('when', 64773),\n",
       " ('more', 62494),\n",
       " ('has', 61616),\n",
       " ('flavor', 61300),\n",
       " ('tea', 60760),\n",
       " ('had', 60112),\n",
       " ('coffee', 60088),\n",
       " ('will', 58510),\n",
       " ('love', 57200),\n",
       " ('would', 57183),\n",
       " ('than', 55995),\n",
       " ('me', 53130),\n",
       " ('out', 51635),\n",
       " ('get', 51056),\n",
       " ('other', 51054),\n",
       " ('some', 49716),\n",
       " ('no', 49615),\n",
       " ('about', 46896),\n",
       " ('only', 46742),\n",
       " ('really', 46605),\n",
       " ('up', 44833),\n",
       " ('an', 43712),\n",
       " ('much', 43218),\n",
       " ('don', 43035),\n",
       " ('amazon', 42994),\n",
       " ('too', 42831),\n",
       " ('your', 42323),\n",
       " ('ve', 41740),\n",
       " ('there', 41530),\n",
       " ('use', 41494),\n",
       " ('food', 40930),\n",
       " ('little', 39667),\n",
       " ('were', 39214),\n",
       " ('because', 38736),\n",
       " ('what', 38720),\n",
       " ('find', 37796),\n",
       " ('best', 37103),\n",
       " ('also', 36997),\n",
       " ('buy', 36770),\n",
       " ('make', 36685),\n",
       " ('been', 36571),\n",
       " ('which', 36378),\n",
       " ('time', 36140),\n",
       " ('do', 35618),\n",
       " ('even', 35504),\n",
       " ('m', 35354),\n",
       " ('tried', 34880),\n",
       " ('by', 34865),\n",
       " ('am', 34306),\n",
       " ('price', 34200),\n",
       " ('better', 32912),\n",
       " ('try', 31974),\n",
       " ('after', 31924),\n",
       " ('any', 31737),\n",
       " ('he', 30692),\n",
       " ('chocolate', 30143),\n",
       " ('eat', 29456),\n",
       " ('well', 28834),\n",
       " ('now', 28781),\n",
       " ('she', 28452),\n",
       " ('their', 27711),\n",
       " ('used', 27445),\n",
       " ('found', 26883),\n",
       " ('first', 26780),\n",
       " ('our', 26138),\n",
       " ('then', 25538),\n",
       " ('made', 24301),\n",
       " ('bought', 24238),\n",
       " ('sugar', 24091),\n",
       " ('water', 22812),\n",
       " ('box', 22672),\n",
       " ('think', 22621),\n",
       " ('drink', 22548),\n",
       " ('again', 22192),\n",
       " ('bag', 22164),\n",
       " ('since', 22136),\n",
       " ('over', 22121),\n",
       " ('who', 22039),\n",
       " ('tastes', 22000),\n",
       " ('two', 21923),\n",
       " ('could', 21815),\n",
       " ('way', 21536),\n",
       " ('dog', 21465),\n",
       " ('sweet', 21148),\n",
       " ('mix', 20814),\n",
       " ('most', 20741),\n",
       " ('store', 20722),\n",
       " ('order', 20629),\n",
       " ('still', 20423),\n",
       " ('her', 20356),\n",
       " ('re', 20325),\n",
       " ('bit', 20261),\n",
       " ('go', 20205),\n",
       " ('add', 19938),\n",
       " ('cup', 19871),\n",
       " ('many', 19786),\n",
       " ('recommend', 19755),\n",
       " ('did', 19498),\n",
       " ('know', 19200),\n",
       " ('into', 19081),\n",
       " ('got', 19032),\n",
       " ('give', 18994),\n",
       " ('want', 18990),\n",
       " ('never', 18792),\n",
       " ('nice', 18781),\n",
       " ('delicious', 18760),\n",
       " ('does', 18651),\n",
       " ('how', 18643),\n",
       " ('makes', 18281),\n",
       " ('hot', 18042),\n",
       " ('favorite', 18037),\n",
       " ('day', 18014),\n",
       " ('few', 17723),\n",
       " ('something', 17692),\n",
       " ('before', 17628),\n",
       " ('every', 17440),\n",
       " ('free', 17424),\n",
       " ('without', 17279),\n",
       " ('its', 16900),\n",
       " ('ll', 16885),\n",
       " ('always', 16871),\n",
       " ('same', 16784),\n",
       " ('stuff', 16768),\n",
       " ('milk', 16767),\n",
       " ('while', 16625),\n",
       " ('lot', 16479),\n",
       " ('years', 16323),\n",
       " ('ever', 16285),\n",
       " ('didn', 16148),\n",
       " ('less', 16056),\n",
       " ('right', 15811),\n",
       " ('doesn', 15706),\n",
       " ('brand', 15611),\n",
       " ('back', 15564),\n",
       " ('organic', 15423),\n",
       " ('ordered', 15368),\n",
       " ('enough', 15229),\n",
       " ('different', 15221),\n",
       " ('whole', 15138),\n",
       " ('keep', 15114),\n",
       " ('perfect', 15095),\n",
       " ('easy', 15092),\n",
       " ('using', 15021),\n",
       " ('flavors', 14993),\n",
       " ('quality', 14979),\n",
       " ('here', 14843),\n",
       " ('loves', 14762),\n",
       " ('put', 14705),\n",
       " ('need', 14666),\n",
       " ('small', 14543),\n",
       " ('say', 14409),\n",
       " ('fresh', 14394),\n",
       " ('local', 14349),\n",
       " ('sauce', 14264),\n",
       " ('enjoy', 14259),\n",
       " ('hard', 14185),\n",
       " ('sure', 14093),\n",
       " ('those', 14020),\n",
       " ('eating', 13913),\n",
       " ('healthy', 13838),\n",
       " ('d', 13768),\n",
       " ('long', 13688),\n",
       " ('regular', 13659),\n",
       " ('pack', 13635),\n",
       " ('buying', 13544),\n",
       " ('definitely', 13402),\n",
       " ('each', 13358),\n",
       " ('see', 13249),\n",
       " ('old', 13210),\n",
       " ('green', 13168),\n",
       " ('products', 13168),\n",
       " ('high', 13039),\n",
       " ('snack', 12970),\n",
       " ('being', 12969),\n",
       " ('thought', 12941),\n",
       " ('bad', 12883),\n",
       " ('off', 12820),\n",
       " ('looking', 12762),\n",
       " ('pretty', 12747),\n",
       " ('oil', 12686),\n",
       " ('his', 12618),\n",
       " ('ingredients', 12562),\n",
       " ('both', 12556),\n",
       " ('quite', 12503),\n",
       " ('another', 12452),\n",
       " ('thing', 12414),\n",
       " ('though', 12409),\n",
       " ('big', 12315),\n",
       " ('shipping', 12312),\n",
       " ('take', 12211),\n",
       " ('far', 12113),\n",
       " ('cat', 12068),\n",
       " ('wonderful', 12066),\n",
       " ('actually', 11963),\n",
       " ('happy', 11954),\n",
       " ('last', 11953),\n",
       " ('package', 11942),\n",
       " ('through', 11925),\n",
       " ('going', 11900),\n",
       " ('natural', 11884),\n",
       " ('bags', 11875),\n",
       " ('dogs', 11857),\n",
       " ('new', 11836),\n",
       " ('down', 11793),\n",
       " ('people', 11752),\n",
       " ('cookies', 11734),\n",
       " ('real', 11645),\n",
       " ('highly', 11639),\n",
       " ('rice', 11618),\n",
       " ('grocery', 11591),\n",
       " ('almost', 11588),\n",
       " ('may', 11547),\n",
       " ('work', 11510),\n",
       " ('excellent', 11486),\n",
       " ('should', 11428),\n",
       " ('treats', 11366),\n",
       " ('per', 11323),\n",
       " ('tasted', 11319),\n",
       " ('tasty', 11250),\n",
       " ('worth', 11136),\n",
       " ('treat', 11133),\n",
       " ('salt', 11081),\n",
       " ('size', 11067),\n",
       " ('purchased', 11020),\n",
       " ('strong', 10947),\n",
       " ('chicken', 10835),\n",
       " ('purchase', 10787),\n",
       " ('candy', 10645),\n",
       " ('butter', 10635),\n",
       " ('texture', 10629),\n",
       " ('family', 10462),\n",
       " ('stores', 10457),\n",
       " ('around', 10408),\n",
       " ('anything', 10290),\n",
       " ('feel', 10182),\n",
       " ('fruit', 10173),\n",
       " ('added', 10133),\n",
       " ('having', 10076),\n",
       " ('low', 10043),\n",
       " ('probably', 9991),\n",
       " ('year', 9920),\n",
       " ('trying', 9862),\n",
       " ('came', 9858),\n",
       " ('own', 9858),\n",
       " ('several', 9836),\n",
       " ('amount', 9645),\n",
       " ('tasting', 9566),\n",
       " ('coconut', 9560),\n",
       " ('cereal', 9559),\n",
       " ('half', 9540),\n",
       " ('come', 9532),\n",
       " ('loved', 9505),\n",
       " ('once', 9494),\n",
       " ('foods', 9472),\n",
       " ('getting', 9463),\n",
       " ('calories', 9367),\n",
       " ('vanilla', 9355),\n",
       " ('bars', 9306),\n",
       " ('where', 9299),\n",
       " ('received', 9211),\n",
       " ('might', 9170),\n",
       " ('dark', 9142),\n",
       " ('won', 9139),\n",
       " ('usually', 9129),\n",
       " ('making', 9124),\n",
       " ('expensive', 9060),\n",
       " ('diet', 8913),\n",
       " ('him', 8910),\n",
       " ('away', 8903),\n",
       " ('gluten', 8853),\n",
       " ('comes', 8750),\n",
       " ('cheese', 8739),\n",
       " ('full', 8736),\n",
       " ('until', 8722),\n",
       " ('black', 8721),\n",
       " ('us', 8718),\n",
       " ('available', 8673),\n",
       " ('able', 8667),\n",
       " ('things', 8622),\n",
       " ('why', 8581),\n",
       " ('isn', 8538),\n",
       " ('dry', 8533),\n",
       " ('company', 8506),\n",
       " ('kids', 8490),\n",
       " ('smell', 8462),\n",
       " ('seems', 8415),\n",
       " ('beans', 8387),\n",
       " ('home', 8386),\n",
       " ('nothing', 8377),\n",
       " ('especially', 8366),\n",
       " ('bread', 8364),\n",
       " ('three', 8334),\n",
       " ('kind', 8321),\n",
       " ('bottle', 8269),\n",
       " ('problem', 8257),\n",
       " ('cats', 8253),\n",
       " ('arrived', 8235),\n",
       " ('item', 8217),\n",
       " ('brands', 8205),\n",
       " ('bar', 8181),\n",
       " ('case', 8177),\n",
       " ('peanut', 8145),\n",
       " ('such', 8072),\n",
       " ('instead', 8066),\n",
       " ('days', 8001),\n",
       " ('husband', 7971),\n",
       " ('months', 7947),\n",
       " ('fat', 7908),\n",
       " ('top', 7850),\n",
       " ('maybe', 7833),\n",
       " ('health', 7817),\n",
       " ('blend', 7813),\n",
       " ('light', 7797),\n",
       " ('look', 7789),\n",
       " ('chips', 7769),\n",
       " ('morning', 7764),\n",
       " ('money', 7759),\n",
       " ('honey', 7740),\n",
       " ('large', 7727),\n",
       " ('soup', 7697),\n",
       " ('boxes', 7690),\n",
       " ('drinking', 7689),\n",
       " ('disappointed', 7687),\n",
       " ('extra', 7680),\n",
       " ('least', 7605),\n",
       " ('protein', 7567),\n",
       " ('flavored', 7482),\n",
       " ('white', 7402),\n",
       " ('juice', 7384),\n",
       " ('reviews', 7302),\n",
       " ('wish', 7262),\n",
       " ('next', 7230),\n",
       " ('absolutely', 7204),\n",
       " ('let', 7185),\n",
       " ('ones', 7167),\n",
       " ('couple', 7156),\n",
       " ('gave', 7135),\n",
       " ('pasta', 7134),\n",
       " ('variety', 7128),\n",
       " ('said', 7126),\n",
       " ('prefer', 7126),\n",
       " ('review', 7118),\n",
       " ('save', 7110),\n",
       " ('decided', 7084),\n",
       " ('stars', 7055),\n",
       " ('went', 7040),\n",
       " ('corn', 6977),\n",
       " ('deal', 6974),\n",
       " ('either', 6962),\n",
       " ('times', 6922),\n",
       " ('oz', 6909),\n",
       " ('minutes', 6889),\n",
       " ('gift', 6846),\n",
       " ('although', 6808),\n",
       " ('liked', 6804),\n",
       " ('cream', 6790),\n",
       " ('others', 6711),\n",
       " ('packaging', 6697),\n",
       " ('fine', 6664),\n",
       " ('red', 6661),\n",
       " ('started', 6648),\n",
       " ('cost', 6638),\n",
       " ('wanted', 6628),\n",
       " ('breakfast', 6626),\n",
       " ('recommended', 6619),\n",
       " ('cheaper', 6597),\n",
       " ('works', 6575),\n",
       " ('wasn', 6499),\n",
       " ('syrup', 6499),\n",
       " ('cans', 6495),\n",
       " ('teas', 6483),\n",
       " ('must', 6461),\n",
       " ('house', 6426),\n",
       " ('longer', 6355),\n",
       " ('bitter', 6355),\n",
       " ('meal', 6349),\n",
       " ('seem', 6335),\n",
       " ('anyone', 6262),\n",
       " ('took', 6237),\n",
       " ('rather', 6216),\n",
       " ('glad', 6090),\n",
       " ('powder', 6075),\n",
       " ('ordering', 6067),\n",
       " ('couldn', 6065),\n",
       " ('open', 6052),\n",
       " ('read', 6047),\n",
       " ('else', 6029),\n",
       " ('quickly', 5991),\n",
       " ('everything', 5987),\n",
       " ('etc', 5933),\n",
       " ('popcorn', 5859),\n",
       " ('cookie', 5820),\n",
       " ('quick', 5784),\n",
       " ('fast', 5774),\n",
       " ('serving', 5765),\n",
       " ('yet', 5762),\n",
       " ('myself', 5757),\n",
       " ('amazing', 5672),\n",
       " ('thank', 5661),\n",
       " ('everyone', 5621),\n",
       " ('pieces', 5614),\n",
       " ('energy', 5609),\n",
       " ('ago', 5606),\n",
       " ('crackers', 5606),\n",
       " ('cups', 5578),\n",
       " ('recipe', 5571),\n",
       " ('baby', 5569),\n",
       " ('help', 5539),\n",
       " ('dried', 5539),\n",
       " ('son', 5537),\n",
       " ('tell', 5502),\n",
       " ('plus', 5449),\n",
       " ('cooking', 5444),\n",
       " ('fan', 5436),\n",
       " ('smooth', 5432),\n",
       " ('mixed', 5413),\n",
       " ('cook', 5375),\n",
       " ('spicy', 5369),\n",
       " ('difference', 5361),\n",
       " ('fact', 5356),\n",
       " ('wheat', 5350),\n",
       " ('rich', 5345),\n",
       " ('friends', 5323),\n",
       " ('sometimes', 5276),\n",
       " ('mouth', 5275),\n",
       " ('ice', 5196),\n",
       " ('slightly', 5187),\n",
       " ('ginger', 5185),\n",
       " ('meat', 5170),\n",
       " ('second', 5169),\n",
       " ('soft', 5147),\n",
       " ('roast', 5141),\n",
       " ('month', 5140),\n",
       " ('believe', 5140),\n",
       " ('wouldn', 5134),\n",
       " ('part', 5125),\n",
       " ('enjoyed', 5109),\n",
       " ('haven', 5079),\n",
       " ('brown', 5069),\n",
       " ('thanks', 5066),\n",
       " ('noodles', 5062),\n",
       " ('plastic', 5059),\n",
       " ('type', 5055),\n",
       " ('week', 5024),\n",
       " ('version', 4985),\n",
       " ('super', 4976),\n",
       " ('online', 4955),\n",
       " ('cold', 4954),\n",
       " ('market', 4930),\n",
       " ('often', 4924),\n",
       " ('side', 4921),\n",
       " ('value', 4887),\n",
       " ('place', 4879),\n",
       " ('artificial', 4836),\n",
       " ('spice', 4781),\n",
       " ('cinnamon', 4768),\n",
       " ('cannot', 4767),\n",
       " ('daughter', 4750),\n",
       " ('cake', 4740),\n",
       " ('nuts', 4737),\n",
       " ('gets', 4726),\n",
       " ('easily', 4725),\n",
       " ('says', 4723),\n",
       " ('likes', 4722),\n",
       " ('cut', 4718),\n",
       " ('weight', 4707),\n",
       " ('goes', 4695),\n",
       " ('soy', 4692),\n",
       " ('opened', 4679),\n",
       " ('exactly', 4653),\n",
       " ('life', 4617),\n",
       " ('alternative', 4615),\n",
       " ('adding', 4605),\n",
       " ('end', 4600),\n",
       " ('yummy', 4582),\n",
       " ('simply', 4569),\n",
       " ('heat', 4561),\n",
       " ('pleased', 4553),\n",
       " ('left', 4551),\n",
       " ('smaller', 4541),\n",
       " ('guess', 4538),\n",
       " ('wife', 4524),\n",
       " ('jar', 4518),\n",
       " ('container', 4514),\n",
       " ('start', 4497),\n",
       " ('special', 4487),\n",
       " ('gum', 4487),\n",
       " ('surprised', 4456),\n",
       " ('similar', 4448),\n",
       " ('between', 4447),\n",
       " ('pay', 4437),\n",
       " ('compared', 4423),\n",
       " ('fiber', 4415),\n",
       " ('choice', 4413),\n",
       " ('canned', 4411),\n",
       " ('orange', 4406),\n",
       " ('original', 4392),\n",
       " ('plain', 4378),\n",
       " ('giving', 4375),\n",
       " ('flour', 4358),\n",
       " ('friend', 4352),\n",
       " ('starbucks', 4322),\n",
       " ('awesome', 4321),\n",
       " ('french', 4321),\n",
       " ('reason', 4318),\n",
       " ('instant', 4307),\n",
       " ('care', 4304),\n",
       " ('live', 4302),\n",
       " ('four', 4298),\n",
       " ('lemon', 4274),\n",
       " ('chew', 4274),\n",
       " ('contains', 4268),\n",
       " ('during', 4267),\n",
       " ('ground', 4266),\n",
       " ('close', 4232),\n",
       " ('hope', 4223),\n",
       " ('machine', 4211),\n",
       " ('crunchy', 4192),\n",
       " ('recently', 4186),\n",
       " ('someone', 4184),\n",
       " ('apple', 4174),\n",
       " ('already', 4157),\n",
       " ('cocoa', 4152),\n",
       " ('brew', 4149),\n",
       " ('saw', 4125),\n",
       " ('looked', 4118),\n",
       " ('huge', 4096),\n",
       " ('espresso', 4080),\n",
       " ('christmas', 4079),\n",
       " ('bottles', 4077),\n",
       " ('beef', 4064),\n",
       " ('inside', 4056),\n",
       " ('bowl', 4043),\n",
       " ('lots', 4033),\n",
       " ('teeth', 4022),\n",
       " ('drinks', 4015),\n",
       " ('subscribe', 4009),\n",
       " ('weeks', 4007),\n",
       " ('olive', 4001),\n",
       " ('problems', 3998),\n",
       " ('experience', 3995),\n",
       " ('sodium', 3986),\n",
       " ('snacks', 3977),\n",
       " ('service', 3974),\n",
       " ('soda', 3974),\n",
       " ('oatmeal', 3962),\n",
       " ('hand', 3951),\n",
       " ('wrong', 3946),\n",
       " ('ingredient', 3946),\n",
       " ('run', 3939),\n",
       " ('formula', 3931),\n",
       " ('along', 3925),\n",
       " ('pepper', 3920),\n",
       " ('stick', 3916),\n",
       " ('daily', 3906),\n",
       " ('change', 3899),\n",
       " ('ate', 3899),\n",
       " ('aroma', 3891),\n",
       " ('due', 3878),\n",
       " ('baking', 3869),\n",
       " ('given', 3867),\n",
       " ('seeds', 3864),\n",
       " ('single', 3854),\n",
       " ('however', 3849),\n",
       " ('past', 3823),\n",
       " ('aftertaste', 3819),\n",
       " ('itself', 3808),\n",
       " ('fantastic', 3804),\n",
       " ('bulk', 3796),\n",
       " ('takes', 3784),\n",
       " ('gives', 3756),\n",
       " ('looks', 3753),\n",
       " ('bite', 3751),\n",
       " ('list', 3748),\n",
       " ('aren', 3729),\n",
       " ('decaf', 3724),\n",
       " ('stock', 3715),\n",
       " ('glass', 3694),\n",
       " ('needed', 3682),\n",
       " ('night', 3681),\n",
       " ('com', 3680),\n",
       " ('sent', 3675),\n",
       " ('idea', 3671),\n",
       " ('gone', 3664),\n",
       " ('leaves', 3663),\n",
       " ('date', 3662),\n",
       " ('noticed', 3659),\n",
       " ('color', 3658),\n",
       " ('sold', 3653),\n",
       " ('eaten', 3644),\n",
       " ('salty', 3642),\n",
       " ('expected', 3638),\n",
       " ('items', 3615),\n",
       " ('shipped', 3614),\n",
       " ('packaged', 3607),\n",
       " ('expect', 3594),\n",
       " ('flavorful', 3586),\n",
       " ('star', 3579),\n",
       " ('keurig', 3577),\n",
       " ('line', 3575),\n",
       " ('pot', 3569),\n",
       " ('mild', 3568),\n",
       " ('caffeine', 3568),\n",
       " ('finally', 3555),\n",
       " ('delivery', 3554),\n",
       " ('extremely', 3544),\n",
       " ('packs', 3541),\n",
       " ('carry', 3539),\n",
       " ('soon', 3537),\n",
       " ('mine', 3531),\n",
       " ('called', 3521),\n",
       " ('packages', 3521),\n",
       " ('five', 3518),\n",
       " ('clean', 3517),\n",
       " ('raw', 3514),\n",
       " ('smells', 3514),\n",
       " ('rest', 3513),\n",
       " ('completely', 3511),\n",
       " ('larger', 3498),\n",
       " ('leave', 3480),\n",
       " ('done', 3467),\n",
       " ('please', 3462),\n",
       " ('hours', 3456),\n",
       " ('feed', 3455),\n",
       " ('needs', 3448),\n",
       " ('filling', 3422),\n",
       " ('bottom', 3416),\n",
       " ('helps', 3415),\n",
       " ('chai', 3409),\n",
       " ('packet', 3405),\n",
       " ('convenient', 3396),\n",
       " ('bold', 3396),\n",
       " ('recipes', 3383),\n",
       " ('within', 3382),\n",
       " ('certainly', 3380),\n",
       " ('pet', 3379),\n",
       " ('stomach', 3368),\n",
       " ('continue', 3368),\n",
       " ('blue', 3358),\n",
       " ('coffees', 3356),\n",
       " ('body', 3338),\n",
       " ('liquid', 3325),\n",
       " ('fish', 3325),\n",
       " ('chewy', 3321),\n",
       " ('name', 3309),\n",
       " ('granola', 3302),\n",
       " ('packets', 3298),\n",
       " ('bean', 3283),\n",
       " ('salad', 3274),\n",
       " ('entire', 3271),\n",
       " ('dinner', 3257),\n",
       " ('seemed', 3255),\n",
       " ('iced', 3253),\n",
       " ('mind', 3248),\n",
       " ('excited', 3241),\n",
       " ('lunch', 3232),\n",
       " ('wait', 3230),\n",
       " ('contain', 3230),\n",
       " ('label', 3217),\n",
       " ('based', 3215),\n",
       " ('true', 3211),\n",
       " ('difficult', 3208),\n",
       " ('ok', 3184),\n",
       " ('truly', 3175),\n",
       " ('waste', 3173),\n",
       " ('seasoning', 3158),\n",
       " ('set', 3155),\n",
       " ('world', 3152),\n",
       " ('told', 3152),\n",
       " ('easier', 3145),\n",
       " ('ounce', 3136),\n",
       " ('picky', 3136),\n",
       " ('pound', 3133),\n",
       " ('become', 3131),\n",
       " ('unless', 3130),\n",
       " ('delivered', 3127),\n",
       " ('together', 3126),\n",
       " ('dish', 3122),\n",
       " ('sour', 3117),\n",
       " ('grams', 3109),\n",
       " ('remember', 3105),\n",
       " ('potato', 3089),\n",
       " ('vet', 3084),\n",
       " ('under', 3083),\n",
       " ('grain', 3083),\n",
       " ('licorice', 3074),\n",
       " ('sweetness', 3072),\n",
       " ('cooked', 3066),\n",
       " ('creamy', 3060),\n",
       " ('hint', 3060),\n",
       " ('purchasing', 3053),\n",
       " ('nut', 3038),\n",
       " ('seen', 3022),\n",
       " ('later', 3016),\n",
       " ('discovered', 3016),\n",
       " ('customer', 3006),\n",
       " ('doing', 2997),\n",
       " ('pure', 2986),\n",
       " ('cheap', 2985),\n",
       " ('chili', 2975),\n",
       " ('normal', 2969),\n",
       " ('packed', 2969),\n",
       " ('course', 2960),\n",
       " ('stop', 2948),\n",
       " ('twice', 2948),\n",
       " ('stopped', 2940),\n",
       " ('almond', 2932),\n",
       " ('microwave', 2927),\n",
       " ('healthier', 2926),\n",
       " ('overall', 2923),\n",
       " ('sale', 2922),\n",
       " ('substitute', 2921),\n",
       " ('mixes', 2921),\n",
       " ('cherry', 2919),\n",
       " ('fun', 2917),\n",
       " ('content', 2913),\n",
       " ('lower', 2911),\n",
       " ('break', 2906),\n",
       " ('medium', 2896),\n",
       " ('hit', 2863),\n",
       " ('jerky', 2860),\n",
       " ('baked', 2860),\n",
       " ('piece', 2858),\n",
       " ('point', 2850),\n",
       " ('taking', 2842),\n",
       " ('vitamin', 2839),\n",
       " ('finding', 2837),\n",
       " ('tuna', 2826),\n",
       " ('sell', 2821),\n",
       " ('particular', 2817),\n",
       " ('totally', 2814),\n",
       " ('reading', 2813),\n",
       " ('yourself', 2802),\n",
       " ('decent', 2800),\n",
       " ('none', 2798),\n",
       " ('normally', 2797),\n",
       " ('stay', 2795),\n",
       " ('skin', 2795),\n",
       " ('anywhere', 2791),\n",
       " ('consistency', 2789),\n",
       " ('calorie', 2785),\n",
       " ('batch', 2785),\n",
       " ('call', 2784),\n",
       " ('perhaps', 2780),\n",
       " ('area', 2775),\n",
       " ('spices', 2774),\n",
       " ('throw', 2769),\n",
       " ('keeps', 2767),\n",
       " ('seller', 2757),\n",
       " ('today', 2755),\n",
       " ('check', 2754),\n",
       " ('turned', 2745),\n",
       " ('thick', 2745),\n",
       " ('simple', 2735),\n",
       " ('tiny', 2729),\n",
       " ('broken', 2719),\n",
       " ('loose', 2716),\n",
       " ('six', 2706),\n",
       " ('bring', 2694),\n",
       " ('total', 2694),\n",
       " ('worked', 2685),\n",
       " ('nearly', 2685),\n",
       " ('pumpkin', 2677),\n",
       " ('including', 2676),\n",
       " ('results', 2674),\n",
       " ('unlike', 2669),\n",
       " ('maker', 2669),\n",
       " ('serve', 2663),\n",
       " ('crunch', 2663),\n",
       " ('means', 2660),\n",
       " ('thinking', 2658),\n",
       " ('addition', 2654),\n",
       " ('sweetener', 2634),\n",
       " ('mint', 2628),\n",
       " ('immediately', 2621),\n",
       " ('pods', 2616),\n",
       " ('pop', 2614),\n",
       " ('garlic', 2589),\n",
       " ('feeding', 2582),\n",
       " ('higher', 2576),\n",
       " ('person', 2565),\n",
       " ('somewhat', 2563),\n",
       " ('caramel', 2559),\n",
       " ('thin', 2557),\n",
       " ('reasonable', 2552),\n",
       " ('felt', 2538),\n",
       " ('opinion', 2536),\n",
       " ('uses', 2530),\n",
       " ('benefits', 2520),\n",
       " ('option', 2515),\n",
       " ('shipment', 2509),\n",
       " ('anymore', 2508),\n",
       " ('kitchen', 2505),\n",
       " ('mostly', 2504),\n",
       " ('chip', 2503),\n",
       " ('except', 2502),\n",
       " ('perfectly', 2499),\n",
       " ('locally', 2498),\n",
       " ('matter', 2497),\n",
       " ('strawberry', 2496),\n",
       " ('refreshing', 2490),\n",
       " ('whatever', 2486),\n",
       " ('switch', 2483),\n",
       " ('stevia', 2481),\n",
       " ('plan', 2472),\n",
       " ('supposed', 2470),\n",
       " ('ready', 2465),\n",
       " ('shop', 2461),\n",
       " ('roasted', 2447),\n",
       " ('combination', 2447),\n",
       " ('description', 2445),\n",
       " ('sort', 2437),\n",
       " ('varieties', 2436),\n",
       " ('hooked', 2436),\n",
       " ('beat', 2433),\n",
       " ('finish', 2422),\n",
       " ('satisfying', 2420),\n",
       " ('pick', 2419),\n",
       " ('warm', 2419),\n",
       " ('issues', 2418),\n",
       " ('number', 2410),\n",
       " ('expecting', 2409),\n",
       " ('homemade', 2405),\n",
       " ('supermarket', 2391),\n",
       " ('weak', 2386),\n",
       " ('avoid', 2383),\n",
       " ('mom', 2365),\n",
       " ('yogurt', 2365),\n",
       " ('pleasant', 2364),\n",
       " ('stale', 2364),\n",
       " ('notice', 2359),\n",
       " ('reviewer', 2354),\n",
       " ('eats', 2350),\n",
       " ('hoping', 2346),\n",
       " ('source', 2342),\n",
       " ('adds', 2335),\n",
       " ('pour', 2335),\n",
       " ('changed', 2328),\n",
       " ('bland', 2324),\n",
       " ('near', 2315),\n",
       " ('italian', 2312),\n",
       " ('nutritional', 2307),\n",
       " ('nutrition', 2300),\n",
       " ('individual', 2295),\n",
       " ('listed', 2292),\n",
       " ('prices', 2287),\n",
       " ('website', 2286),\n",
       " ('feeling', 2282),\n",
       " ('fairly', 2278),\n",
       " ('brewed', 2275),\n",
       " ('touch', 2267),\n",
       " ('mess', 2265),\n",
       " ('condition', 2265),\n",
       " ('impressed', 2265),\n",
       " ('salmon', 2259),\n",
       " ('issue', 2256),\n",
       " ('gourmet', 2248),\n",
       " ('forward', 2234),\n",
       " ('agree', 2231),\n",
       " ('paid', 2231),\n",
       " ('candies', 2216),\n",
       " ('acid', 2214),\n",
       " ('jars', 2211),\n",
       " ('yum', 2208),\n",
       " ('children', 2207),\n",
       " ('cause', 2195),\n",
       " ('return', 2193),\n",
       " ('kept', 2190),\n",
       " ('traditional', 2188),\n",
       " ('coming', 2185),\n",
       " ('blood', 2184),\n",
       " ('splenda', 2184),\n",
       " ('heavy', 2179),\n",
       " ('almonds', 2173),\n",
       " ('picture', 2167),\n",
       " ('turn', 2166),\n",
       " ('hands', 2156),\n",
       " ('toy', 2149),\n",
       " ('short', 2146),\n",
       " ('sticks', 2146),\n",
       " ('chewing', 2145),\n",
       " ('tomato', 2144),\n",
       " ('directions', 2141),\n",
       " ('satisfied', 2140),\n",
       " ('wine', 2139),\n",
       " ('types', 2136),\n",
       " ('knew', 2135),\n",
       " ('ended', 2134),\n",
       " ('shelf', 2133),\n",
       " ('balance', 2132),\n",
       " ('consider', 2124),\n",
       " ('maple', 2123),\n",
       " ('heard', 2121),\n",
       " ('sea', 2120),\n",
       " ('future', 2115),\n",
       " ('hold', 2114),\n",
       " ('served', 2111),\n",
       " ('carrying', 2110),\n",
       " ('kick', 2109),\n",
       " ('crazy', 2107),\n",
       " ('sauces', 2105),\n",
       " ('compare', 2104),\n",
       " ('note', 2103),\n",
       " ('hate', 2094),\n",
       " ('fit', 2090),\n",
       " ('gf', 2088),\n",
       " ('horrible', 2080),\n",
       " ('oats', 2073),\n",
       " ('straight', 2072),\n",
       " ('puppy', 2068),\n",
       " ('terrible', 2060),\n",
       " ('meals', 2059),\n",
       " ('brought', 2052),\n",
       " ('pounds', 2052),\n",
       " ('double', 2046),\n",
       " ('across', 2044),\n",
       " ('office', 2034),\n",
       " ('overly', 2033),\n",
       " ('reviewers', 2031),\n",
       " ('flavoring', 2030),\n",
       " ('usual', 2025),\n",
       " ('room', 2021),\n",
       " ('send', 2021),\n",
       " ('important', 2020),\n",
       " ('instructions', 2020),\n",
       " ('e', 2017),\n",
       " ('awful', 2016),\n",
       " ('oh', 2010),\n",
       " ('chews', 2010),\n",
       " ('plenty', 2007),\n",
       " ('thrilled', 2005),\n",
       " ('summer', 2002),\n",
       " ('peanuts', 1993),\n",
       " ('upon', 1991),\n",
       " ('stronger', 1990),\n",
       " ('standard', 1982),\n",
       " ('suggest', 1980),\n",
       " ('actual', 1979),\n",
       " ('job', 1978),\n",
       " ('imagine', 1978),\n",
       " ('bake', 1977),\n",
       " ('ask', 1975),\n",
       " ('clear', 1971),\n",
       " ('dressing', 1970),\n",
       " ('frozen', 1969),\n",
       " ('beverage', 1968),\n",
       " ('outside', 1968),\n",
       " ('supply', 1967),\n",
       " ('share', 1967),\n",
       " ('moist', 1966),\n",
       " ('hour', 1963),\n",
       " ('whether', 1963),\n",
       " ('dont', 1960),\n",
       " ('tend', 1959),\n",
       " ('fair', 1959),\n",
       " ('peach', 1955),\n",
       " ...]"
      ]
     },
     "execution_count": 11,
     "metadata": {
      "tags": []
     },
     "output_type": "execute_result"
    }
   ],
   "source": [
    "word_freq"
   ]
  },
  {
   "cell_type": "code",
   "execution_count": 0,
   "metadata": {
    "colab": {},
    "colab_type": "code",
    "id": "qryIx_Rn1MVe"
   },
   "outputs": [],
   "source": [
    "# I considered only top 20000 words due to limitation of cumpute resource.\n",
    "top_words =20000 \n",
    "\n",
    "#Dimension of words out of embedding layer\n",
    "embedding_vecor_length = 50"
   ]
  },
  {
   "cell_type": "markdown",
   "metadata": {
    "colab_type": "text",
    "id": "wEaQPnJ8PFoz"
   },
   "source": [
    "* Creating a vocabulary of top 20k words."
   ]
  },
  {
   "cell_type": "code",
   "execution_count": 0,
   "metadata": {
    "colab": {},
    "colab_type": "code",
    "id": "_7DYrHQMbMoh"
   },
   "outputs": [],
   "source": [
    "sorted_words_vocab=[]\n",
    "top_words=20000\n",
    "for i in range(0,top_words):\n",
    "  sorted_words_vocab.append(word_freq[i][0])"
   ]
  },
  {
   "cell_type": "markdown",
   "metadata": {
    "colab_type": "text",
    "id": "iLwTMqZ5PLJp"
   },
   "source": [
    "* Testing the above ones with a sample data."
   ]
  },
  {
   "cell_type": "code",
   "execution_count": 0,
   "metadata": {
    "colab": {
     "base_uri": "https://localhost:8080/",
     "height": 34
    },
    "colab_type": "code",
    "id": "1q8XeudBXHze",
    "outputId": "e6fcd8e9-5fa2-42e2-9dcb-cf294253bb96"
   },
   "outputs": [
    {
     "data": {
      "text/plain": [
       "[0, 48, 7, 38, 2, 1, 52, 4]"
      ]
     },
     "execution_count": 11,
     "metadata": {
      "tags": []
     },
     "output_type": "execute_result"
    }
   ],
   "source": [
    "word_as_index=[]\n",
    "for words in ['the','tea','is','great','and','i','love','it']:\n",
    "  val=sorted_words_vocab.index(words)\n",
    "  word_as_index.append(val)\n",
    "word_as_index"
   ]
  },
  {
   "cell_type": "markdown",
   "metadata": {
    "colab_type": "text",
    "id": "0SmK39qwPPdg"
   },
   "source": [
    "* Converting reviews in train data into corresponding word indices."
   ]
  },
  {
   "cell_type": "code",
   "execution_count": 0,
   "metadata": {
    "colab": {
     "base_uri": "https://localhost:8080/",
     "height": 34
    },
    "colab_type": "code",
    "id": "TInd8XCKcsqB",
    "outputId": "f0d10add-d7db-4439-b9e9-7b0a4025e78d"
   },
   "outputs": [
    {
     "name": "stderr",
     "output_type": "stream",
     "text": [
      "100%|██████████| 275752/275752 [13:31<00:00, 339.68it/s]\n"
     ]
    }
   ],
   "source": [
    "indexed_input_train=[]\n",
    "for sentences in tqdm(train['New'].values):\n",
    "  word_as_index=[]\n",
    "  for words in sentences.split():\n",
    "    if words in sorted_words_vocab:\n",
    "      val=sorted_words_vocab.index(words)\n",
    "      word_as_index.append(val)\n",
    "    else:\n",
    "      continue\n",
    "  indexed_input_train.append(word_as_index)   "
   ]
  },
  {
   "cell_type": "code",
   "execution_count": 0,
   "metadata": {
    "colab": {
     "base_uri": "https://localhost:8080/",
     "height": 850
    },
    "colab_type": "code",
    "id": "j3wxjHXAj25L",
    "outputId": "2b016166-7ec9-46f3-ff16-58dfcd446548"
   },
   "outputs": [
    {
     "data": {
      "text/plain": [
       "[34,\n",
       " 7577,\n",
       " 12,\n",
       " 154,\n",
       " 479,\n",
       " 7,\n",
       " 0,\n",
       " 5093,\n",
       " 965,\n",
       " 7748,\n",
       " 15,\n",
       " 41,\n",
       " 0,\n",
       " 8953,\n",
       " 2,\n",
       " 8351,\n",
       " 1435,\n",
       " 17,\n",
       " 5,\n",
       " 29,\n",
       " 1948,\n",
       " 9852,\n",
       " 18652,\n",
       " 2,\n",
       " 10087,\n",
       " 8350,\n",
       " 19,\n",
       " 4085,\n",
       " 9,\n",
       " 8,\n",
       " 1638,\n",
       " 2,\n",
       " 5215,\n",
       " 7005,\n",
       " 7,\n",
       " 4882,\n",
       " 1708,\n",
       " 1,\n",
       " 427,\n",
       " 22,\n",
       " 747,\n",
       " 6108,\n",
       " 38,\n",
       " 274,\n",
       " 1638,\n",
       " 51,\n",
       " 183,\n",
       " 13,\n",
       " 9]"
      ]
     },
     "execution_count": 13,
     "metadata": {
      "tags": []
     },
     "output_type": "execute_result"
    }
   ],
   "source": [
    "indexed_input_train[33]"
   ]
  },
  {
   "cell_type": "markdown",
   "metadata": {
    "colab_type": "text",
    "id": "VtU0RvxXPYLi"
   },
   "source": [
    "* Similarly we convert reviews in test to indices of corresponding words."
   ]
  },
  {
   "cell_type": "code",
   "execution_count": 0,
   "metadata": {
    "colab": {
     "base_uri": "https://localhost:8080/",
     "height": 34
    },
    "colab_type": "code",
    "id": "pH8mNQpdIIIU",
    "outputId": "eb5210a6-ad29-4359-c94d-77ac59889ec7"
   },
   "outputs": [
    {
     "name": "stderr",
     "output_type": "stream",
     "text": [
      "100%|██████████| 118179/118179 [06:14<00:00, 315.70it/s]\n"
     ]
    }
   ],
   "source": [
    "indexed_input_test=[]\n",
    "for sentences in tqdm(test['New'].values):\n",
    "  word_as_index=[]\n",
    "  for words in sentences.split():\n",
    "    if words in sorted_words_vocab:\n",
    "      val=sorted_words_vocab.index(words)\n",
    "      word_as_index.append(val)\n",
    "    else:\n",
    "      continue\n",
    "  indexed_input_test.append(word_as_index)  "
   ]
  },
  {
   "cell_type": "code",
   "execution_count": 0,
   "metadata": {
    "colab": {
     "base_uri": "https://localhost:8080/",
     "height": 748
    },
    "colab_type": "code",
    "id": "07wMSHATOJWA",
    "outputId": "3c614f26-9905-40ee-8a32-4d9b352fb228"
   },
   "outputs": [
    {
     "data": {
      "text/plain": [
       "[38,\n",
       " 333,\n",
       " 10,\n",
       " 0,\n",
       " 93,\n",
       " 341,\n",
       " 340,\n",
       " 3874,\n",
       " 54,\n",
       " 4531,\n",
       " 8,\n",
       " 46,\n",
       " 1651,\n",
       " 55,\n",
       " 139,\n",
       " 2183,\n",
       " 5,\n",
       " 3110,\n",
       " 23,\n",
       " 101,\n",
       " 23,\n",
       " 1891,\n",
       " 55,\n",
       " 1094,\n",
       " 958,\n",
       " 0,\n",
       " 93,\n",
       " 10,\n",
       " 3,\n",
       " 138,\n",
       " 6,\n",
       " 153,\n",
       " 99,\n",
       " 11,\n",
       " 21,\n",
       " 34,\n",
       " 23,\n",
       " 30,\n",
       " 221,\n",
       " 10,\n",
       " 45,\n",
       " 5,\n",
       " 10795]"
      ]
     },
     "execution_count": 15,
     "metadata": {
      "tags": []
     },
     "output_type": "execute_result"
    }
   ],
   "source": [
    "indexed_input_test[33]"
   ]
  },
  {
   "cell_type": "code",
   "execution_count": 0,
   "metadata": {
    "colab": {},
    "colab_type": "code",
    "id": "U8wbH8LbidK9"
   },
   "outputs": [],
   "source": [
    "#with open(r'/content/drive/My Drive/Colab Notebooks/indexed_inputs_lstm_amazon.pickle','wb') as f:\n",
    "  pickle.dump([indexed_input_train,indexed_input_test],f)"
   ]
  },
  {
   "cell_type": "code",
   "execution_count": 0,
   "metadata": {
    "colab": {},
    "colab_type": "code",
    "id": "Sj0YH1pMw3xo"
   },
   "outputs": [],
   "source": [
    "with open(r'/content/drive/My Drive/Colab Notebooks/indexed_inputs_lstm_amazon.pickle','rb') as f:\n",
    "  input_data_train,input_data_test=pickle.load(f)"
   ]
  },
  {
   "cell_type": "code",
   "execution_count": 0,
   "metadata": {
    "colab": {
     "base_uri": "https://localhost:8080/",
     "height": 850
    },
    "colab_type": "code",
    "id": "IZoaeSZ0xLv5",
    "outputId": "3e4f7550-d27a-4919-b220-67526fbac66a",
    "scrolled": true
   },
   "outputs": [
    {
     "data": {
      "text/plain": [
       "[34,\n",
       " 7577,\n",
       " 12,\n",
       " 154,\n",
       " 479,\n",
       " 7,\n",
       " 0,\n",
       " 5093,\n",
       " 965,\n",
       " 7748,\n",
       " 15,\n",
       " 41,\n",
       " 0,\n",
       " 8953,\n",
       " 2,\n",
       " 8351,\n",
       " 1435,\n",
       " 17,\n",
       " 5,\n",
       " 29,\n",
       " 1948,\n",
       " 9852,\n",
       " 18652,\n",
       " 2,\n",
       " 10087,\n",
       " 8350,\n",
       " 19,\n",
       " 4085,\n",
       " 9,\n",
       " 8,\n",
       " 1638,\n",
       " 2,\n",
       " 5215,\n",
       " 7005,\n",
       " 7,\n",
       " 4882,\n",
       " 1708,\n",
       " 1,\n",
       " 427,\n",
       " 22,\n",
       " 747,\n",
       " 6108,\n",
       " 38,\n",
       " 274,\n",
       " 1638,\n",
       " 51,\n",
       " 183,\n",
       " 13,\n",
       " 9]"
      ]
     },
     "execution_count": 9,
     "metadata": {
      "tags": []
     },
     "output_type": "execute_result"
    }
   ],
   "source": [
    "input_data_train[33]"
   ]
  },
  {
   "cell_type": "code",
   "execution_count": 0,
   "metadata": {
    "colab": {
     "base_uri": "https://localhost:8080/",
     "height": 51
    },
    "colab_type": "code",
    "id": "eYEE6ts7GAjC",
    "outputId": "1dba00bc-4f3f-4034-ed61-614cdaf7aca3"
   },
   "outputs": [
    {
     "name": "stdout",
     "output_type": "stream",
     "text": [
      "<class 'list'>\n",
      "70\n"
     ]
    }
   ],
   "source": [
    "print(type(input_data_train[1]))\n",
    "print(len(input_data_train[1]))"
   ]
  },
  {
   "cell_type": "markdown",
   "metadata": {
    "colab_type": "text",
    "id": "lEV4wNx_PkKc"
   },
   "source": [
    "* Performing padding to make sure the data can be passed in batch to the LSTM layer."
   ]
  },
  {
   "cell_type": "code",
   "execution_count": 0,
   "metadata": {
    "colab": {},
    "colab_type": "code",
    "id": "57N6TyKLH-Pc"
   },
   "outputs": [],
   "source": [
    "# truncate and/or pad input sequences\n",
    "max_review_length = 600\n",
    "X_train = sequence.pad_sequences(input_data_train, maxlen=max_review_length)\n",
    "X_test = sequence.pad_sequences(input_data_test, maxlen=max_review_length)"
   ]
  },
  {
   "cell_type": "markdown",
   "metadata": {
    "colab_type": "text",
    "id": "J3KyTMx5PuWo"
   },
   "source": [
    "* Converting output labels as 0 & 1, instead of Negative and Positive."
   ]
  },
  {
   "cell_type": "code",
   "execution_count": 0,
   "metadata": {
    "colab": {
     "base_uri": "https://localhost:8080/",
     "height": 51
    },
    "colab_type": "code",
    "id": "YGtu2u_02QyO",
    "outputId": "e4a7e4a1-5f6b-4af9-8899-fb9a6b4013d8"
   },
   "outputs": [
    {
     "name": "stdout",
     "output_type": "stream",
     "text": [
      "1\n",
      "0\n"
     ]
    }
   ],
   "source": [
    "def polarity(s):\n",
    "  if s == 'positive':\n",
    "    return 1\n",
    "  elif s=='negative':\n",
    "    return 0\n",
    "\n",
    "y_train=list(map(polarity,train['Score'].values))\n",
    "y_test= list(map(polarity,test['Score'].values))\n",
    "\n",
    "print(y_train[2])\n",
    "print(y_test[10])"
   ]
  },
  {
   "cell_type": "markdown",
   "metadata": {
    "colab_type": "text",
    "id": "qdsxg2dsP66l"
   },
   "source": [
    "## <center> Architecture 1"
   ]
  },
  {
   "cell_type": "markdown",
   "metadata": {
    "colab_type": "text",
    "id": "FDzABw83lNjW"
   },
   "source": [
    "The first architecture is,\n",
    "\n",
    "<b> Input -> Embedding -> LSTM1(100) -> Output </b>"
   ]
  },
  {
   "cell_type": "code",
   "execution_count": 0,
   "metadata": {
    "colab": {
     "base_uri": "https://localhost:8080/",
     "height": 326
    },
    "colab_type": "code",
    "id": "CquzlqrOIYGn",
    "outputId": "c8d2ed9e-5443-4e17-c6f7-5ff02bd93c84"
   },
   "outputs": [
    {
     "name": "stdout",
     "output_type": "stream",
     "text": [
      "WARNING:tensorflow:From /usr/local/lib/python3.6/dist-packages/tensorflow/python/framework/op_def_library.py:263: colocate_with (from tensorflow.python.framework.ops) is deprecated and will be removed in a future version.\n",
      "Instructions for updating:\n",
      "Colocations handled automatically by placer.\n",
      "_________________________________________________________________\n",
      "Layer (type)                 Output Shape              Param #   \n",
      "=================================================================\n",
      "embedding_1 (Embedding)      (None, 600, 50)           1000000   \n",
      "_________________________________________________________________\n",
      "lstm_1 (LSTM)                (None, 100)               60400     \n",
      "_________________________________________________________________\n",
      "dense_1 (Dense)              (None, 1)                 101       \n",
      "=================================================================\n",
      "Total params: 1,060,501\n",
      "Trainable params: 1,060,501\n",
      "Non-trainable params: 0\n",
      "_________________________________________________________________\n",
      "None\n"
     ]
    }
   ],
   "source": [
    "model = Sequential()\n",
    "model.add(Embedding(top_words, embedding_vecor_length, input_length=max_review_length))\n",
    "model.add(LSTM(100))\n",
    "model.add(Dense(1, activation='sigmoid'))\n",
    "model.compile(loss='binary_crossentropy', optimizer='adam', metrics=['accuracy'])\n",
    "print(model.summary())"
   ]
  },
  {
   "cell_type": "code",
   "execution_count": 0,
   "metadata": {
    "colab": {},
    "colab_type": "code",
    "id": "-HbvAYBQ1h3F"
   },
   "outputs": [],
   "source": [
    "from datetime import datetime as dt"
   ]
  },
  {
   "cell_type": "code",
   "execution_count": 0,
   "metadata": {
    "colab": {
     "base_uri": "https://localhost:8080/",
     "height": 479
    },
    "colab_type": "code",
    "id": "A_FT0dPNIeLP",
    "outputId": "a543a769-8187-4e7b-d05d-4b9b86e3e453"
   },
   "outputs": [
    {
     "name": "stdout",
     "output_type": "stream",
     "text": [
      "WARNING:tensorflow:From /usr/local/lib/python3.6/dist-packages/tensorflow/python/ops/math_ops.py:3066: to_int32 (from tensorflow.python.ops.math_ops) is deprecated and will be removed in a future version.\n",
      "Instructions for updating:\n",
      "Use tf.cast instead.\n",
      "Train on 100000 samples, validate on 15000 samples\n",
      "Epoch 1/10\n",
      "100000/100000 [==============================] - 859s 9ms/step - loss: 0.2454 - acc: 0.9077 - val_loss: 0.2452 - val_acc: 0.8977\n",
      "Epoch 2/10\n",
      "100000/100000 [==============================] - 844s 8ms/step - loss: 0.1750 - acc: 0.9316 - val_loss: 0.2601 - val_acc: 0.8824\n",
      "Epoch 3/10\n",
      "100000/100000 [==============================] - 834s 8ms/step - loss: 0.1508 - acc: 0.9421 - val_loss: 0.2468 - val_acc: 0.9031\n",
      "Epoch 4/10\n",
      "100000/100000 [==============================] - 1438s 14ms/step - loss: 0.1298 - acc: 0.9502 - val_loss: 0.2570 - val_acc: 0.8987\n",
      "Epoch 5/10\n",
      "100000/100000 [==============================] - 1798s 18ms/step - loss: 0.1121 - acc: 0.9579 - val_loss: 0.2812 - val_acc: 0.8998\n",
      "Epoch 6/10\n",
      "100000/100000 [==============================] - 1813s 18ms/step - loss: 0.0965 - acc: 0.9646 - val_loss: 0.3002 - val_acc: 0.8979\n",
      "Epoch 7/10\n",
      "100000/100000 [==============================] - 1796s 18ms/step - loss: 0.0829 - acc: 0.9704 - val_loss: 0.3276 - val_acc: 0.8993\n",
      "Epoch 8/10\n",
      "100000/100000 [==============================] - 1807s 18ms/step - loss: 0.0711 - acc: 0.9744 - val_loss: 0.3607 - val_acc: 0.8977\n",
      "Epoch 9/10\n",
      "100000/100000 [==============================] - 1781s 18ms/step - loss: 0.0572 - acc: 0.9801 - val_loss: 0.3782 - val_acc: 0.8964\n",
      "Epoch 10/10\n",
      "100000/100000 [==============================] - 1797s 18ms/step - loss: 0.0473 - acc: 0.9835 - val_loss: 0.4433 - val_acc: 0.8934\n",
      "Time taken to train is : 4:06:08.810746\n",
      "Accuracy: 89.07%\n"
     ]
    }
   ],
   "source": [
    "start=dt.now()\n",
    "model_trained=model.fit(X_train[:100000], y_train[:100000], nb_epoch=10, batch_size=128,validation_data=(X_test[50000:65000], y_test[50000:65000]))\n",
    "print(f'Time taken to train is : {dt.now()-start}')\n",
    "# Final evaluation of the model\n",
    "scores = model.evaluate(X_test[:50000], y_test[:50000], verbose=0)\n",
    "print(\"Accuracy: %.2f%%\" % (scores[1]*100))\n"
   ]
  },
  {
   "cell_type": "markdown",
   "metadata": {
    "colab_type": "text",
    "id": "XZv3T545RdXv"
   },
   "source": [
    "#### Function to plot Epoch vs Loss"
   ]
  },
  {
   "cell_type": "code",
   "execution_count": 0,
   "metadata": {
    "colab": {},
    "colab_type": "code",
    "id": "ZaYD04w3Q5jH"
   },
   "outputs": [],
   "source": [
    "%matplotlib inline\n",
    "import matplotlib.pyplot as plt\n",
    "import numpy as np\n",
    "def plotter(x, v, t):\n",
    "    '''\n",
    "    To plot Train and Validation loss VS Epochs\n",
    "    '''\n",
    "    plt.figure(figsize=(9,5))\n",
    "    plt.plot(x, v, 'b', label=\"Validation Loss\")\n",
    "    plt.plot(x, t, 'r', label=\"Train Loss\")\n",
    "    plt.xlabel('Epochs',fontsize=13)\n",
    "    plt.ylabel('Train & Valdation loss',fontsize=13)\n",
    "    plt.title('Epoch vs Train & Validation loss ',fontsize=15)\n",
    "    plt.legend()\n",
    "    plt.show()"
   ]
  },
  {
   "cell_type": "markdown",
   "metadata": {
    "colab_type": "text",
    "id": "R1rk2Dn1fKvx"
   },
   "source": [
    "#### Epoch vs Loss plot"
   ]
  },
  {
   "cell_type": "code",
   "execution_count": 0,
   "metadata": {
    "colab": {
     "base_uri": "https://localhost:8080/",
     "height": 353
    },
    "colab_type": "code",
    "id": "rN1WXHK8RFkh",
    "outputId": "6b40a52e-e626-4e2c-af7a-4b3a3c98fabe"
   },
   "outputs": [
    {
     "data": {
      "image/png": "[encoded data removed]",
      "text/plain": [
       "<Figure size 648x360 with 1 Axes>"
      ]
     },
     "metadata": {
      "tags": []
     },
     "output_type": "display_data"
    }
   ],
   "source": [
    "x=range(1,11)\n",
    "validation_loss=model_trained.history['val_loss']\n",
    "train_loss=model_trained.history['loss']\n",
    "\n",
    "plotter(x,validation_loss,train_loss)"
   ]
  },
  {
   "cell_type": "markdown",
   "metadata": {
    "colab_type": "text",
    "id": "v6wt4uzZxwdT"
   },
   "source": [
    "From above plot, it is clear that after 3 epochs, the train error started decreasing and test error started increasing. So model started overfitting after 3 epochs."
   ]
  },
  {
   "cell_type": "code",
   "execution_count": 0,
   "metadata": {
    "colab": {},
    "colab_type": "code",
    "id": "plZAg7E98rFl"
   },
   "outputs": [],
   "source": [
    "#with open(r'/content/drive/My Drive/Colab Notebooks/lstm_model1_amazon.pickle','wb') as f:\n",
    "  pickle.dump(model,f)"
   ]
  },
  {
   "cell_type": "markdown",
   "metadata": {
    "colab_type": "text",
    "id": "1kEi--yNQDbS"
   },
   "source": [
    "#### Function to find performance of a model & to plot confusion matrices of train & test."
   ]
  },
  {
   "cell_type": "code",
   "execution_count": 0,
   "metadata": {
    "colab": {},
    "colab_type": "code",
    "id": "gkg5xxmVDuyg"
   },
   "outputs": [],
   "source": [
    "from sklearn.metrics import confusion_matrix\n",
    "from sklearn.metrics import classification_report\n",
    "from sklearn.metrics import accuracy_score\n",
    "from matplotlib import gridspec as gs\n",
    "def CM(x,y,x1,y1):\n",
    "    '''\n",
    "    Function to plot confusion matrix and measure performance of a model\n",
    "    '''\n",
    "    CM_Matrix=confusion_matrix(x,y)\n",
    "    CM_Matrix_train=confusion_matrix(x1,y1)\n",
    "    print('\\n******************************************************************************* \\n')\n",
    "    print(f' Accuracy of train is {accuracy_score(x1,y1)}\\n')\n",
    "    print(f' Accuracy of test is {accuracy_score(x,y)}')\n",
    "    print('\\n******************************************************************************* \\n')\n",
    "    \n",
    "    #print(f\" TNR value is {tn/(tn+fn)}\")\n",
    "    #print(f\" FNR value is {fn/(tn+fn)}\")\n",
    "    #print(f\" FPR value is {fp/(tp+fp)}\")\n",
    "    #print(f\" TPR value is {tp/(tp+fp)}\")\n",
    "    \n",
    "    \n",
    "    print('Classification report of train is \\n')\n",
    "    print(classification_report(x1,y1,labels=[0,1]))\n",
    "    print('\\n******************************************************************************* \\n')\n",
    "    print('Classification report of test is \\n')\n",
    "    print(classification_report(x,y,labels=[0,1]))\n",
    "    \n",
    "    print('\\n******************************************************************************* \\n')\n",
    "    print('Heat Map of the Confusion matrix is')\n",
    "    g=gs.GridSpec(1,2)\n",
    "    a=plt.figure(figsize=(15,5))\n",
    "    plt.subplot(g[0,0])\n",
    "    tmp=pd.DataFrame(CM_Matrix)\n",
    "    tn,fp,fn,tp=CM_Matrix.ravel()\n",
    "    ann=np.array([['True Negative = '+str(tn),'False Positive = '+str(fp)],['False Negative = '+str(fn),'True Positive = '+str(tp)]])\n",
    "    sns.heatmap(tmp,annot=ann,fmt='',cmap=\"YlGnBu\")\n",
    "    plt.title('Confusion Matrix of test')\n",
    "    \n",
    "    plt.subplot(g[0,1])\n",
    "    tmp=pd.DataFrame(CM_Matrix_train)\n",
    "    tn,fp,fn,tp=CM_Matrix_train.ravel()\n",
    "    ann=np.array([['True Negative = '+str(tn),'False Positive = '+str(fp)],['False Negative = '+str(fn),'True Positive = '+str(tp)]])\n",
    "    sns.heatmap(tmp,annot=ann,fmt='',cmap=\"Greens\")\n",
    "    plt.title('Confusion Matrix of train')\n",
    "    \n",
    "    print('\\n******************************************************************************* \\n')\n",
    "    \n",
    "    "
   ]
  },
  {
   "cell_type": "code",
   "execution_count": 0,
   "metadata": {
    "colab": {},
    "colab_type": "code",
    "id": "awXKovkA2y98"
   },
   "outputs": [],
   "source": [
    "test_pred=model.predict_classes(X_test[:50000])\n",
    "train_pred=model.predict_classes(X_train[:100000])"
   ]
  },
  {
   "cell_type": "code",
   "execution_count": 0,
   "metadata": {
    "colab": {},
    "colab_type": "code",
    "id": "sbDObTR7HXRF"
   },
   "outputs": [],
   "source": [
    "#with open(r'/content/drive/My Drive/Colab Notebooks/lstm1_amazon_predicted.pickle','wb') as f:\n",
    "  pickle.dump([train_pred,test_pred],f)"
   ]
  },
  {
   "cell_type": "code",
   "execution_count": 0,
   "metadata": {
    "colab": {},
    "colab_type": "code",
    "id": "E1roycVkVFLi"
   },
   "outputs": [],
   "source": [
    "with open(r'/content/drive/My Drive/Colab Notebooks/lstm1_amazon_predicted.pickle','rb') as f:\n",
    "  train_pred,test_pred=pickle.load(f)"
   ]
  },
  {
   "cell_type": "code",
   "execution_count": 0,
   "metadata": {
    "colab": {
     "base_uri": "https://localhost:8080/",
     "height": 1032
    },
    "colab_type": "code",
    "id": "AjGATe6YEkfn",
    "outputId": "28522e41-2647-4635-c663-73d5bb725d11"
   },
   "outputs": [
    {
     "name": "stdout",
     "output_type": "stream",
     "text": [
      "\n",
      "******************************************************************************* \n",
      "\n",
      " Accuracy of train is 0.99018\n",
      "\n",
      " Accuracy of test is 0.89034\n",
      "\n",
      "******************************************************************************* \n",
      "\n",
      "Classification report of train is \n",
      "\n",
      "              precision    recall  f1-score   support\n",
      "\n",
      "           0       0.96      0.96      0.96     11336\n",
      "           1       0.99      0.99      0.99     88664\n",
      "\n",
      "   micro avg       0.99      0.99      0.99    100000\n",
      "   macro avg       0.98      0.97      0.98    100000\n",
      "weighted avg       0.99      0.99      0.99    100000\n",
      "\n",
      "\n",
      "******************************************************************************* \n",
      "\n",
      "Classification report of test is \n",
      "\n",
      "              precision    recall  f1-score   support\n",
      "\n",
      "           0       0.68      0.64      0.66      8203\n",
      "           1       0.93      0.94      0.93     41797\n",
      "\n",
      "   micro avg       0.89      0.89      0.89     50000\n",
      "   macro avg       0.80      0.79      0.80     50000\n",
      "weighted avg       0.89      0.89      0.89     50000\n",
      "\n",
      "\n",
      "******************************************************************************* \n",
      "\n",
      "Heat Map of the Confusion matrix is\n",
      "\n",
      "******************************************************************************* \n",
      "\n"
     ]
    },
    {
     "data": {
      "image/png": "[encoded data removed]",
      "text/plain": [
       "<Figure size 1080x360 with 4 Axes>"
      ]
     },
     "metadata": {
      "tags": []
     },
     "output_type": "display_data"
    }
   ],
   "source": [
    "CM(y_test[:50000],test_pred,y_train[:100000],train_pred)"
   ]
  },
  {
   "cell_type": "markdown",
   "metadata": {
    "colab_type": "text",
    "id": "JDILpZYieeMR"
   },
   "source": [
    "<b> Since after 3 epochs, the models started overfitting, let us decrease the number of epochs to 3 and implement the optimal model</b>"
   ]
  },
  {
   "cell_type": "code",
   "execution_count": 0,
   "metadata": {
    "colab": {
     "base_uri": "https://localhost:8080/",
     "height": 170
    },
    "colab_type": "code",
    "id": "s-Izr8LGP-Z6",
    "outputId": "ead3429e-1a11-4045-9ba1-82074d3f691b"
   },
   "outputs": [
    {
     "name": "stdout",
     "output_type": "stream",
     "text": [
      "Train on 100000 samples, validate on 15000 samples\n",
      "Epoch 1/3\n",
      "100000/100000 [==============================] - 1784s 18ms/step - loss: 0.0418 - acc: 0.9860 - val_loss: 0.4523 - val_acc: 0.8947\n",
      "Epoch 2/3\n",
      "100000/100000 [==============================] - 1801s 18ms/step - loss: 0.0351 - acc: 0.9883 - val_loss: 0.4888 - val_acc: 0.8897\n",
      "Epoch 3/3\n",
      "100000/100000 [==============================] - 1768s 18ms/step - loss: 0.0287 - acc: 0.9911 - val_loss: 0.5228 - val_acc: 0.8854\n",
      "Time taken to train is : 1:29:13.409425\n",
      "Accuracy: 88.31%\n"
     ]
    }
   ],
   "source": [
    "start=dt.now()\n",
    "model_trained1=model.fit(X_train[:100000], y_train[:100000], nb_epoch=3, batch_size=128,validation_data=(X_test[50000:65000], y_test[50000:65000]))\n",
    "print(f'Time taken to train is : {dt.now()-start}')\n",
    "# Final evaluation of the model\n",
    "scores = model.evaluate(X_test[:50000], y_test[:50000], verbose=0)\n",
    "print(\"Accuracy: %.2f%%\" % (scores[1]*100))"
   ]
  },
  {
   "cell_type": "code",
   "execution_count": 0,
   "metadata": {
    "colab": {},
    "colab_type": "code",
    "id": "dVyZiK2fsOeZ"
   },
   "outputs": [],
   "source": [
    "test_pred=model.predict_classes(X_test[:50000])\n",
    "train_pred=model.predict_classes(X_train[:100000])"
   ]
  },
  {
   "cell_type": "markdown",
   "metadata": {
    "colab_type": "text",
    "id": "4d6-LAi0lEcn"
   },
   "source": [
    "#### Performance of Architecture 1:"
   ]
  },
  {
   "cell_type": "code",
   "execution_count": 0,
   "metadata": {
    "colab": {
     "base_uri": "https://localhost:8080/",
     "height": 1032
    },
    "colab_type": "code",
    "id": "yU25RH0-819Q",
    "outputId": "b592756c-885b-4962-b9ad-21dd282cbd85"
   },
   "outputs": [
    {
     "name": "stdout",
     "output_type": "stream",
     "text": [
      "\n",
      "******************************************************************************* \n",
      "\n",
      " Accuracy of train is 0.99329\n",
      "\n",
      " Accuracy of test is 0.88314\n",
      "\n",
      "******************************************************************************* \n",
      "\n",
      "Classification report of train is \n",
      "\n",
      "              precision    recall  f1-score   support\n",
      "\n",
      "           0       0.96      0.98      0.97     11336\n",
      "           1       1.00      0.99      1.00     88664\n",
      "\n",
      "   micro avg       0.99      0.99      0.99    100000\n",
      "   macro avg       0.98      0.99      0.98    100000\n",
      "weighted avg       0.99      0.99      0.99    100000\n",
      "\n",
      "\n",
      "******************************************************************************* \n",
      "\n",
      "Classification report of test is \n",
      "\n",
      "              precision    recall  f1-score   support\n",
      "\n",
      "           0       0.65      0.64      0.64      8203\n",
      "           1       0.93      0.93      0.93     41797\n",
      "\n",
      "   micro avg       0.88      0.88      0.88     50000\n",
      "   macro avg       0.79      0.78      0.79     50000\n",
      "weighted avg       0.88      0.88      0.88     50000\n",
      "\n",
      "\n",
      "******************************************************************************* \n",
      "\n",
      "Heat Map of the Confusion matrix is\n",
      "\n",
      "******************************************************************************* \n",
      "\n"
     ]
    },
    {
     "data": {
      "image/png": "[encoded data removed]",
      "text/plain": [
       "<Figure size 1080x360 with 4 Axes>"
      ]
     },
     "metadata": {
      "tags": []
     },
     "output_type": "display_data"
    }
   ],
   "source": [
    "CM(y_test[:50000],test_pred,y_train[:100000],train_pred)"
   ]
  },
  {
   "cell_type": "markdown",
   "metadata": {
    "colab_type": "text",
    "id": "vjZ_PhzBYFQS"
   },
   "source": [
    "## <center> Architecture 2"
   ]
  },
  {
   "cell_type": "markdown",
   "metadata": {
    "colab_type": "text",
    "id": "PPP8z3HPkl3x"
   },
   "source": [
    "The architecture is,\n",
    "\n",
    "<b> Input -> Embedding -> LSTM1(64) -> LSTM(128) -> Dense(30) -> Output </b>"
   ]
  },
  {
   "cell_type": "code",
   "execution_count": 0,
   "metadata": {
    "colab": {},
    "colab_type": "code",
    "id": "Qv4sAlahdqRy"
   },
   "outputs": [],
   "source": [
    "from keras.layers import Dropout"
   ]
  },
  {
   "cell_type": "code",
   "execution_count": 0,
   "metadata": {
    "colab": {
     "base_uri": "https://localhost:8080/",
     "height": 425
    },
    "colab_type": "code",
    "id": "7T5EAtN2Q5FI",
    "outputId": "4874a235-47aa-4abb-a7cb-63ac1a867fe0"
   },
   "outputs": [
    {
     "name": "stdout",
     "output_type": "stream",
     "text": [
      "_________________________________________________________________\n",
      "Layer (type)                 Output Shape              Param #   \n",
      "=================================================================\n",
      "embedding_3 (Embedding)      (None, 600, 50)           1000000   \n",
      "_________________________________________________________________\n",
      "lstm_4 (LSTM)                (None, 600, 64)           29440     \n",
      "_________________________________________________________________\n",
      "dropout_3 (Dropout)          (None, 600, 64)           0         \n",
      "_________________________________________________________________\n",
      "lstm_5 (LSTM)                (None, 128)               98816     \n",
      "_________________________________________________________________\n",
      "dropout_4 (Dropout)          (None, 128)               0         \n",
      "_________________________________________________________________\n",
      "batch_normalization_2 (Batch (None, 128)               512       \n",
      "_________________________________________________________________\n",
      "dense_3 (Dense)              (None, 30)                3870      \n",
      "_________________________________________________________________\n",
      "dense_4 (Dense)              (None, 1)                 31        \n",
      "=================================================================\n",
      "Total params: 1,132,669\n",
      "Trainable params: 1,132,413\n",
      "Non-trainable params: 256\n",
      "_________________________________________________________________\n",
      "None\n"
     ]
    }
   ],
   "source": [
    "model = Sequential()\n",
    "model.add(Embedding(top_words, embedding_vecor_length, input_length=max_review_length))\n",
    "model.add(LSTM(64,return_sequences=True))\n",
    "model.add(Dropout(0.5))\n",
    "model.add(LSTM(128))\n",
    "model.add(Dropout(0.5))\n",
    "model.add(BatchNormalization())\n",
    "model.add(Dense(30,activation='relu'))\n",
    "model.add(Dense(1, activation='sigmoid'))\n",
    "model.compile(loss='binary_crossentropy', optimizer='adam', metrics=['accuracy'])\n",
    "print(model.summary())"
   ]
  },
  {
   "cell_type": "code",
   "execution_count": 0,
   "metadata": {
    "colab": {
     "base_uri": "https://localhost:8080/",
     "height": 479
    },
    "colab_type": "code",
    "id": "p4OsRdYxQwbj",
    "outputId": "b004f084-98b4-496c-bbfd-20cca800fc45"
   },
   "outputs": [
    {
     "name": "stdout",
     "output_type": "stream",
     "text": [
      "WARNING:tensorflow:From /usr/local/lib/python3.6/dist-packages/tensorflow/python/ops/math_ops.py:3066: to_int32 (from tensorflow.python.ops.math_ops) is deprecated and will be removed in a future version.\n",
      "Instructions for updating:\n",
      "Use tf.cast instead.\n",
      "Train on 100000 samples, validate on 15000 samples\n",
      "Epoch 1/10\n",
      "100000/100000 [==============================] - 3714s 37ms/step - loss: 0.2695 - acc: 0.8952 - val_loss: 0.2608 - val_acc: 0.8916\n",
      "Epoch 2/10\n",
      "100000/100000 [==============================] - 3684s 37ms/step - loss: 0.2087 - acc: 0.9179 - val_loss: 0.3889 - val_acc: 0.8763\n",
      "Epoch 3/10\n",
      "100000/100000 [==============================] - 3657s 37ms/step - loss: 0.1716 - acc: 0.9332 - val_loss: 0.2393 - val_acc: 0.9025\n",
      "Epoch 4/10\n",
      "100000/100000 [==============================] - 2674s 27ms/step - loss: 0.1444 - acc: 0.9433 - val_loss: 0.2381 - val_acc: 0.9027\n",
      "Epoch 5/10\n",
      "100000/100000 [==============================] - 3601s 36ms/step - loss: 0.1271 - acc: 0.9510 - val_loss: 0.2922 - val_acc: 0.9030\n",
      "Epoch 6/10\n",
      "100000/100000 [==============================] - 3223s 32ms/step - loss: 0.1092 - acc: 0.9588 - val_loss: 0.3096 - val_acc: 0.9042\n",
      "Epoch 7/10\n",
      "100000/100000 [==============================] - 2863s 29ms/step - loss: 0.0968 - acc: 0.9635 - val_loss: 0.3102 - val_acc: 0.9028\n",
      "Epoch 8/10\n",
      "100000/100000 [==============================] - 2159s 22ms/step - loss: 0.0821 - acc: 0.9700 - val_loss: 0.2854 - val_acc: 0.9003\n",
      "Epoch 9/10\n",
      "100000/100000 [==============================] - 1654s 17ms/step - loss: 0.0680 - acc: 0.9762 - val_loss: 0.3846 - val_acc: 0.9013\n",
      "Epoch 10/10\n",
      "100000/100000 [==============================] - 1656s 17ms/step - loss: 0.0592 - acc: 0.9790 - val_loss: 0.3947 - val_acc: 0.8957\n",
      "Time taken to train is : 8:01:30.552484\n",
      "Accuracy: 89.33%\n"
     ]
    }
   ],
   "source": [
    "start=dt.now()\n",
    "model_trained=model.fit(X_train[:100000], y_train[:100000], nb_epoch=10, batch_size=128,validation_data=(X_test[50000:65000], y_test[50000:65000]))\n",
    "print(f'Time taken to train is : {dt.now()-start}')\n",
    "# Final evaluation of the model\n",
    "scores = model.evaluate(X_test[:50000], y_test[:50000], verbose=0)\n",
    "print(\"Accuracy: %.2f%%\" % (scores[1]*100))"
   ]
  },
  {
   "cell_type": "markdown",
   "metadata": {
    "colab_type": "text",
    "id": "bShTWZNPfV15"
   },
   "source": [
    "#### Epoch vs Loss plot"
   ]
  },
  {
   "cell_type": "code",
   "execution_count": 0,
   "metadata": {
    "colab": {
     "base_uri": "https://localhost:8080/",
     "height": 353
    },
    "colab_type": "code",
    "id": "IQPU45Klbn1f",
    "outputId": "9ba01a2a-93d9-4fda-e1df-fe19807e226e"
   },
   "outputs": [
    {
     "data": {
      "image/png": "[encoded data removed]",
      "text/plain": [
       "<Figure size 648x360 with 1 Axes>"
      ]
     },
     "metadata": {
      "tags": []
     },
     "output_type": "display_data"
    }
   ],
   "source": [
    "x=range(1,11)\n",
    "validation_loss=model_trained.history['val_loss']\n",
    "train_loss=model_trained.history['loss']\n",
    "\n",
    "plotter(x,validation_loss,train_loss)"
   ]
  },
  {
   "cell_type": "markdown",
   "metadata": {
    "colab_type": "text",
    "id": "PIFJnlsO4C9L"
   },
   "source": [
    "From test loss, 4 epochs seem to be an elbow point, post which the model starts overfitting."
   ]
  },
  {
   "cell_type": "code",
   "execution_count": 0,
   "metadata": {
    "colab": {},
    "colab_type": "code",
    "id": "w-mfcKx9STB1"
   },
   "outputs": [],
   "source": [
    "#with open(r'/content/drive/My Drive/Colab Notebooks/lstm1_amazon_model1.pickle','wb') as f:\n",
    "  pickle.dump(model,f)"
   ]
  },
  {
   "cell_type": "code",
   "execution_count": 0,
   "metadata": {
    "colab": {
     "base_uri": "https://localhost:8080/",
     "height": 139
    },
    "colab_type": "code",
    "id": "AOs_qSdC8Cos",
    "outputId": "db36be94-0f07-45bf-eec0-5b1e9af9c98d"
   },
   "outputs": [
    {
     "name": "stdout",
     "output_type": "stream",
     "text": [
      "WARNING:tensorflow:From /usr/local/lib/python3.6/dist-packages/tensorflow/python/framework/op_def_library.py:263: colocate_with (from tensorflow.python.framework.ops) is deprecated and will be removed in a future version.\n",
      "Instructions for updating:\n",
      "Colocations handled automatically by placer.\n",
      "WARNING:tensorflow:From /usr/local/lib/python3.6/dist-packages/tensorflow/python/ops/math_ops.py:3066: to_int32 (from tensorflow.python.ops.math_ops) is deprecated and will be removed in a future version.\n",
      "Instructions for updating:\n",
      "Use tf.cast instead.\n"
     ]
    }
   ],
   "source": [
    "with open(r'/content/drive/My Drive/Colab Notebooks/lstm1_amazon_model1.pickle','rb') as f:\n",
    "  model=pickle.load(f)"
   ]
  },
  {
   "cell_type": "code",
   "execution_count": 0,
   "metadata": {
    "colab": {},
    "colab_type": "code",
    "id": "FuyYRFQ1YcMZ"
   },
   "outputs": [],
   "source": [
    "test_pred=model.predict_classes(X_test[:50000])\n",
    "train_pred=model.predict_classes(X_train[:100000])"
   ]
  },
  {
   "cell_type": "code",
   "execution_count": 0,
   "metadata": {
    "colab": {
     "base_uri": "https://localhost:8080/",
     "height": 1032
    },
    "colab_type": "code",
    "id": "R6o3nQPMk-zO",
    "outputId": "96b16cb9-9db8-4a38-9ff3-db28aa8c93db"
   },
   "outputs": [
    {
     "name": "stdout",
     "output_type": "stream",
     "text": [
      "\n",
      "******************************************************************************* \n",
      "\n",
      " Accuracy of train is 0.99288\n",
      "\n",
      " Accuracy of test is 0.89388\n",
      "\n",
      "******************************************************************************* \n",
      "\n",
      "Classification report of train is \n",
      "\n",
      "              precision    recall  f1-score   support\n",
      "\n",
      "           0       0.99      0.95      0.97     11336\n",
      "           1       0.99      1.00      1.00     88664\n",
      "\n",
      "   micro avg       0.99      0.99      0.99    100000\n",
      "   macro avg       0.99      0.97      0.98    100000\n",
      "weighted avg       0.99      0.99      0.99    100000\n",
      "\n",
      "\n",
      "******************************************************************************* \n",
      "\n",
      "Classification report of test is \n",
      "\n",
      "              precision    recall  f1-score   support\n",
      "\n",
      "           0       0.73      0.56      0.63      8203\n",
      "           1       0.92      0.96      0.94     41797\n",
      "\n",
      "   micro avg       0.89      0.89      0.89     50000\n",
      "   macro avg       0.82      0.76      0.79     50000\n",
      "weighted avg       0.89      0.89      0.89     50000\n",
      "\n",
      "\n",
      "******************************************************************************* \n",
      "\n",
      "Heat Map of the Confusion matrix is\n",
      "\n",
      "******************************************************************************* \n",
      "\n"
     ]
    },
    {
     "data": {
      "image/png": "[encoded data removed]",
      "text/plain": [
       "<Figure size 1080x360 with 4 Axes>"
      ]
     },
     "metadata": {
      "tags": []
     },
     "output_type": "display_data"
    }
   ],
   "source": [
    "CM(y_test[:50000],test_pred,y_train[:100000],train_pred)"
   ]
  },
  {
   "cell_type": "markdown",
   "metadata": {
    "colab_type": "text",
    "id": "hjjUQ7u14iyT"
   },
   "source": [
    "We reduce the number of epochs to 4 and see if we can obtain a better performing model."
   ]
  },
  {
   "cell_type": "code",
   "execution_count": 0,
   "metadata": {
    "colab": {
     "base_uri": "https://localhost:8080/",
     "height": 275
    },
    "colab_type": "code",
    "id": "H8qRVjQjd8a5",
    "outputId": "307e6e4d-300b-4d6c-dbbb-ddfb8b918675"
   },
   "outputs": [
    {
     "name": "stdout",
     "output_type": "stream",
     "text": [
      "WARNING:tensorflow:From /usr/local/lib/python3.6/dist-packages/tensorflow/python/ops/math_ops.py:3066: to_int32 (from tensorflow.python.ops.math_ops) is deprecated and will be removed in a future version.\n",
      "Instructions for updating:\n",
      "Use tf.cast instead.\n",
      "Train on 100000 samples, validate on 15000 samples\n",
      "Epoch 1/4\n",
      "100000/100000 [==============================] - 1733s 17ms/step - loss: 0.2452 - acc: 0.9029 - val_loss: 0.2373 - val_acc: 0.9037\n",
      "Epoch 2/4\n",
      "100000/100000 [==============================] - 1688s 17ms/step - loss: 0.1706 - acc: 0.9313 - val_loss: 0.2371 - val_acc: 0.9051\n",
      "Epoch 3/4\n",
      "100000/100000 [==============================] - 1670s 17ms/step - loss: 0.1413 - acc: 0.9434 - val_loss: 0.2469 - val_acc: 0.8999\n",
      "Epoch 4/4\n",
      "100000/100000 [==============================] - 1648s 16ms/step - loss: 0.1163 - acc: 0.9547 - val_loss: 0.2741 - val_acc: 0.8989\n",
      "Time taken to train is : 1:52:20.942705\n",
      "Accuracy: 89.58%\n"
     ]
    }
   ],
   "source": [
    "start=dt.now()\n",
    "model_trained=model.fit(X_train[:100000], y_train[:100000], nb_epoch=4, batch_size=128,validation_data=(X_test[50000:65000], y_test[50000:65000]))\n",
    "print(f'Time taken to train is : {dt.now()-start}')\n",
    "# Final evaluation of the model\n",
    "scores = model.evaluate(X_test[:50000], y_test[:50000], verbose=0)\n",
    "print(\"Accuracy: %.2f%%\" % (scores[1]*100))"
   ]
  },
  {
   "cell_type": "code",
   "execution_count": 0,
   "metadata": {
    "colab": {},
    "colab_type": "code",
    "id": "Ugl66NYl-EBP"
   },
   "outputs": [],
   "source": [
    "#with open(r'/content/drive/My Drive/Colab Notebooks/lstm1_amazon_model1_tmp.pickle','wb') as f:\n",
    "  pickle.dump(model,f)"
   ]
  },
  {
   "cell_type": "code",
   "execution_count": 0,
   "metadata": {
    "colab": {},
    "colab_type": "code",
    "id": "z0Y9vNvt-OpY"
   },
   "outputs": [],
   "source": [
    "with open(r'/content/drive/My Drive/Colab Notebooks/lstm1_amazon_model1_tmp.pickle','rb') as f:\n",
    "  model=pickle.load(f)"
   ]
  },
  {
   "cell_type": "code",
   "execution_count": 0,
   "metadata": {
    "colab": {},
    "colab_type": "code",
    "id": "DnVnI32wffaL"
   },
   "outputs": [],
   "source": [
    "test_pred=model.predict_classes(X_test[:50000])\n",
    "train_pred=model.predict_classes(X_train[:100000])"
   ]
  },
  {
   "cell_type": "markdown",
   "metadata": {
    "colab_type": "text",
    "id": "RNf_lL-0ffaR"
   },
   "source": [
    "#### Performance of Architecture 2:"
   ]
  },
  {
   "cell_type": "code",
   "execution_count": 0,
   "metadata": {
    "colab": {
     "base_uri": "https://localhost:8080/",
     "height": 1032
    },
    "colab_type": "code",
    "id": "JhKTTCapffaV",
    "outputId": "275c17f4-3259-4c4d-a189-3d3df8de9307"
   },
   "outputs": [
    {
     "name": "stdout",
     "output_type": "stream",
     "text": [
      "\n",
      "******************************************************************************* \n",
      "\n",
      " Accuracy of train is 0.96912\n",
      "\n",
      " Accuracy of test is 0.89582\n",
      "\n",
      "******************************************************************************* \n",
      "\n",
      "Classification report of train is \n",
      "\n",
      "              precision    recall  f1-score   support\n",
      "\n",
      "           0       0.84      0.90      0.87     11336\n",
      "           1       0.99      0.98      0.98     88664\n",
      "\n",
      "   micro avg       0.97      0.97      0.97    100000\n",
      "   macro avg       0.91      0.94      0.93    100000\n",
      "weighted avg       0.97      0.97      0.97    100000\n",
      "\n",
      "\n",
      "******************************************************************************* \n",
      "\n",
      "Classification report of test is \n",
      "\n",
      "              precision    recall  f1-score   support\n",
      "\n",
      "           0       0.68      0.69      0.69      8203\n",
      "           1       0.94      0.94      0.94     41797\n",
      "\n",
      "   micro avg       0.90      0.90      0.90     50000\n",
      "   macro avg       0.81      0.81      0.81     50000\n",
      "weighted avg       0.90      0.90      0.90     50000\n",
      "\n",
      "\n",
      "******************************************************************************* \n",
      "\n",
      "Heat Map of the Confusion matrix is\n",
      "\n",
      "******************************************************************************* \n",
      "\n"
     ]
    },
    {
     "data": {
      "image/png": "[encoded data removed]",
      "text/plain": [
       "<Figure size 1080x360 with 4 Axes>"
      ]
     },
     "metadata": {
      "tags": []
     },
     "output_type": "display_data"
    }
   ],
   "source": [
    "CM(y_test[:50000],test_pred,y_train[:100000],train_pred)"
   ]
  },
  {
   "cell_type": "markdown",
   "metadata": {
    "colab_type": "text",
    "id": "DVy3MLNgQVWv"
   },
   "source": [
    "## <center> Performance comparision"
   ]
  },
  {
   "cell_type": "code",
   "execution_count": 3,
   "metadata": {
    "colab": {
     "base_uri": "https://localhost:8080/",
     "height": 173
    },
    "colab_type": "code",
    "id": "CA9x9JaXf5wQ",
    "outputId": "3a1dcd45-3815-4076-d2a9-3e38727ff4e6"
   },
   "outputs": [
    {
     "data": {
      "text/html": [
       "<div>\n",
       "<style scoped>\n",
       "    .dataframe tbody tr th:only-of-type {\n",
       "        vertical-align: middle;\n",
       "    }\n",
       "\n",
       "    .dataframe tbody tr th {\n",
       "        vertical-align: top;\n",
       "    }\n",
       "\n",
       "    .dataframe thead th {\n",
       "        text-align: right;\n",
       "    }\n",
       "</style>\n",
       "<table border=\"1\" class=\"dataframe\">\n",
       "  <thead>\n",
       "    <tr style=\"text-align: right;\">\n",
       "      <th></th>\n",
       "      <th># Hidden Layers</th>\n",
       "      <th>Train accuracy</th>\n",
       "      <th>Test accuracy</th>\n",
       "      <th>Train F1</th>\n",
       "      <th>Test F1</th>\n",
       "      <th>No of epochs</th>\n",
       "      <th>Time to train</th>\n",
       "    </tr>\n",
       "  </thead>\n",
       "  <tbody>\n",
       "    <tr>\n",
       "      <th>0</th>\n",
       "      <td>2</td>\n",
       "      <td>0.9901</td>\n",
       "      <td>0.8903</td>\n",
       "      <td>0.98</td>\n",
       "      <td>0.80</td>\n",
       "      <td>10</td>\n",
       "      <td>4:06</td>\n",
       "    </tr>\n",
       "    <tr>\n",
       "      <th>1</th>\n",
       "      <td>2</td>\n",
       "      <td>0.9932</td>\n",
       "      <td>0.8831</td>\n",
       "      <td>0.98</td>\n",
       "      <td>0.79</td>\n",
       "      <td>3</td>\n",
       "      <td>1:29</td>\n",
       "    </tr>\n",
       "    <tr>\n",
       "      <th>2</th>\n",
       "      <td>4</td>\n",
       "      <td>0.9928</td>\n",
       "      <td>0.8938</td>\n",
       "      <td>0.98</td>\n",
       "      <td>0.79</td>\n",
       "      <td>10</td>\n",
       "      <td>8:01</td>\n",
       "    </tr>\n",
       "    <tr>\n",
       "      <th>3</th>\n",
       "      <td>4</td>\n",
       "      <td>0.9691</td>\n",
       "      <td>0.8958</td>\n",
       "      <td>0.93</td>\n",
       "      <td>0.81</td>\n",
       "      <td>4</td>\n",
       "      <td>1:52</td>\n",
       "    </tr>\n",
       "  </tbody>\n",
       "</table>\n",
       "</div>"
      ],
      "text/plain": [
       "  # Hidden Layers  Train accuracy  Test accuracy  Train F1  Test F1  \\\n",
       "0               2          0.9901         0.8903      0.98     0.80   \n",
       "1               2          0.9932         0.8831      0.98     0.79   \n",
       "2               4          0.9928         0.8938      0.98     0.79   \n",
       "3               4          0.9691         0.8958      0.93     0.81   \n",
       "\n",
       "  No of epochs Time to train  \n",
       "0           10          4:06  \n",
       "1            3          1:29  \n",
       "2           10          8:01  \n",
       "3            4          1:52  "
      ]
     },
     "execution_count": 3,
     "metadata": {
      "tags": []
     },
     "output_type": "execute_result"
    }
   ],
   "source": [
    "tmp=pd.DataFrame(columns=['# Hidden Layers','Train accuracy','Test accuracy','Train F1','Test F1','No of epochs','Time to train'])\n",
    "\n",
    "tmp.loc[0]=[2,0.9901,0.8903,0.98,0.80,'10','4:06']\n",
    "tmp.loc[1]=[2,0.9932,0.8831,0.98,0.79,'3','1:29']\n",
    "tmp.loc[2]=[4,0.9928,0.8938,0.98,0.79,'10','8:01']\n",
    "tmp.loc[3]=[4,0.9691,0.8958,0.93,0.81,'4','1:52']\n",
    "\n",
    "tmp\n"
   ]
  },
  {
   "cell_type": "markdown",
   "metadata": {
    "colab_type": "text",
    "id": "TuZ9E_3Hj31m"
   },
   "source": [
    "## <center> Conclusion"
   ]
  },
  {
   "cell_type": "markdown",
   "metadata": {
    "colab_type": "text",
    "id": "5Ihpal5bqdF8"
   },
   "source": [
    "Among the 2 different architectures, we can see that the model 2 is performing slightly better than 1 as obivously it is deeper.\n",
    "\n",
    "* Architecture 2 with 4 epochs, is the best performing among the 2 designs.\n",
    "\n",
    "* The data here is imbalanced and so we must use balanced class weight, also we didnt performed hyperparameter tuning for dropouts. If we take care of both the above mentioned ones, the model may work even very well."
   ]
  }
 ],
 "metadata": {
  "accelerator": "GPU",
  "colab": {
   "collapsed_sections": [],
   "name": "LSTM_Sanat.ipynb",
   "provenance": [],
   "version": "0.3.2"
  },
  "kernelspec": {
   "display_name": "Python 3",
   "language": "python",
   "name": "python3"
  },
  "language_info": {
   "codemirror_mode": {
    "name": "ipython",
    "version": 3
   },
   "file_extension": ".py",
   "mimetype": "text/x-python",
   "name": "python",
   "nbconvert_exporter": "python",
   "pygments_lexer": "ipython3",
   "version": "3.6.5"
  }
 },
 "nbformat": 4,
 "nbformat_minor": 1
}
